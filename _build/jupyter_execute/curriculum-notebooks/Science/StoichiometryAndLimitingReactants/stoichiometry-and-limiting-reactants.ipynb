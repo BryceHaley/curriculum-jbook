{
 "cells": [
  {
   "cell_type": "markdown",
   "metadata": {},
   "source": [
    "![Callysto.ca Banner](https://github.com/callysto/curriculum-notebooks/blob/master/callysto-notebook-banner-top.jpg?raw=true)\n",
    "\n",
    "<a href=\"https://hub.callysto.ca/jupyter/hub/user-redirect/git-pull?repo=https%3A%2F%2Fgithub.com%2Fcallysto%2Fcurriculum-notebooks&branch=master&subPath=Science/StoichiometryAndLimitingReactants/stoichiometry-and-limiting-reactants.ipynb&depth=1\" target=\"_parent\"><img src=\"https://raw.githubusercontent.com/callysto/curriculum-notebooks/master/open-in-callysto-button.svg?sanitize=true\" width=\"123\" height=\"24\" alt=\"Open in Callysto\"/></a>"
   ]
  },
  {
   "cell_type": "markdown",
   "metadata": {},
   "source": [
    "(Click **Cell** > **Run All** before proceeding.)"
   ]
  },
  {
   "cell_type": "code",
   "execution_count": 1,
   "metadata": {
    "tags": [
     "hide-input"
    ]
   },
   "outputs": [],
   "source": [
    "%matplotlib inline\n",
    "\n",
    "#----------\n",
    "\n",
    "#Import modules and packages \n",
    "import ipywidgets as widgets\n",
    "import random\n",
    "import math\n",
    "import matplotlib.pyplot as plt\n",
    "from ipywidgets import Output, IntSlider, VBox, HBox, Layout\n",
    "from IPython.display import clear_output, display, HTML, Javascript, SVG, YouTubeVideo\n",
    "\n",
    "#----------\n",
    "\n",
    "#ipywidgets as widgets\n",
    "#import random\n",
    "\n",
    "#This function produces a multiple choice form with four options\n",
    "def multiple_choice(option_1, option_2, option_3, option_4):\n",
    "    option_list = [option_1, option_2, option_3, option_4]\n",
    "    answer = option_list[0]\n",
    "    letters = [\"(A) \", \"(B) \", \"(C) \", \"(D) \"]\n",
    "\n",
    "    #Boldface letters at the beginning of each option\n",
    "    start_bold = \"\\033[1m\"; end_bold = \"\\033[0;0m\"\n",
    "\n",
    "    #Randomly shuffle the options\n",
    "    random.shuffle(option_list)\n",
    "    \n",
    "    #Prints the letters (A) to (D) in sequence with randomly chosen options\n",
    "    for i in range(4):\n",
    "        option_text = option_list.pop()\n",
    "        print(start_bold + letters[i] + end_bold + option_text)\n",
    "\n",
    "        #Stores the correct answer\n",
    "        if option_text == answer:\n",
    "            letter_answer = letters[i]\n",
    "\n",
    "    button1 = widgets.Button(description=\"(A)\"); button2 = widgets.Button(description=\"(B)\")\n",
    "    button3 = widgets.Button(description=\"(C)\"); button4 = widgets.Button(description=\"(D)\")\n",
    "    \n",
    "    button1.style.button_color = 'Whitesmoke'; button2.style.button_color = 'Whitesmoke'\n",
    "    button3.style.button_color = 'Whitesmoke'; button4.style.button_color = 'Whitesmoke'\n",
    "    \n",
    "    container = widgets.HBox(children=[button1,button2,button3,button4])\n",
    "    display(container)\n",
    "    print(\" \", end='\\r')\n",
    "\n",
    "    def on_button1_clicked(b):\n",
    "        if \"(A) \" == letter_answer:\n",
    "            print(\"Correct! 👏\", end='\\r')\n",
    "            button1.style.button_color = '#abffa8'; button2.style.button_color = 'Whitesmoke'\n",
    "            button3.style.button_color = 'Whitesmoke'; button4.style.button_color = 'Whitesmoke'\n",
    "        else:\n",
    "            print(\"Try again! \", end='\\r')\n",
    "            button1.style.button_color = '#ffbbb8'; button2.style.button_color = 'Whitesmoke'\n",
    "            button3.style.button_color = 'Whitesmoke'; button4.style.button_color = 'Whitesmoke'\n",
    "\n",
    "    def on_button2_clicked(b):\n",
    "        if \"(B) \" == letter_answer:\n",
    "            print(\"Correct! 👏\", end='\\r')\n",
    "            button1.style.button_color = 'Whitesmoke'; button2.style.button_color = '#abffa8'\n",
    "            button3.style.button_color = 'Whitesmoke'; button4.style.button_color = 'Whitesmoke'\n",
    "        else:\n",
    "            print(\"Try again! \", end='\\r')\n",
    "            button1.style.button_color = 'Whitesmoke'; button2.style.button_color = '#ffbbb8'\n",
    "            button3.style.button_color = 'Whitesmoke'; button4.style.button_color = 'Whitesmoke'\n",
    "\n",
    "    def on_button3_clicked(b):\n",
    "        if \"(C) \" == letter_answer:\n",
    "            print(\"Correct! 👏\", end='\\r')\n",
    "            button1.style.button_color = 'Whitesmoke'; button2.style.button_color = 'Whitesmoke'\n",
    "            button3.style.button_color = '#abffa8'; button4.style.button_color = 'Whitesmoke'\n",
    "        else:\n",
    "            print(\"Try again! \", end='\\r')\n",
    "            button1.style.button_color = 'Whitesmoke'; button2.style.button_color = 'Whitesmoke'\n",
    "            button3.style.button_color = '#ffbbb8'; button4.style.button_color = 'Whitesmoke'\n",
    "\n",
    "    def on_button4_clicked(b):\n",
    "        if \"(D) \" == letter_answer:\n",
    "            print(\"Correct! 👏\", end='\\r')\n",
    "            button1.style.button_color = 'Whitesmoke'; button2.style.button_color = 'Whitesmoke'\n",
    "            button3.style.button_color = 'Whitesmoke'; button4.style.button_color = '#abffa8'\n",
    "        else:\n",
    "            print(\"Try again! \", end='\\r')\n",
    "            button1.style.button_color = 'Whitesmoke'; button2.style.button_color = 'Whitesmoke'\n",
    "            button3.style.button_color = 'Whitesmoke'; button4.style.button_color = '#ffbbb8'\n",
    "\n",
    "    button1.on_click(on_button1_clicked); button2.on_click(on_button2_clicked)\n",
    "    button3.on_click(on_button3_clicked); button4.on_click(on_button4_clicked)"
   ]
  },
  {
   "cell_type": "markdown",
   "metadata": {},
   "source": [
    "# Stoichiometry and Limiting Reactants\n",
    "\n",
    "<br />\n",
    "<img style=\"float: left;\" src=\"images/StoichiometryLimiting.svg\" height=\"300\" width=\"600\">"
   ]
  },
  {
   "cell_type": "markdown",
   "metadata": {},
   "source": [
    "## Stoichiometry\n",
    "\n",
    "**Stoichiometry** is founded on the Law of Conservation of Mass. Note that \"stoichio\" comes from the Greek word \"stoikheion\" which means \"element\" and \"metry\" means \"measure\". So \"stoichiometry\" is the calculation of relative quantities of reactants and products in chemical reactions.\n",
    "\n",
    "**Stoichiometry allows us to:**\n",
    "\n",
    "- Predict how much product will form in chemical reactions.\n",
    "- Determine which reactant is in excess and which is limiting."
   ]
  },
  {
   "cell_type": "markdown",
   "metadata": {},
   "source": [
    "### Mole - Mole Relationships in Chemical Reactions\n",
    "\n",
    "The coefficients in a balanced chemical equation indicate both the relative numbers of molecules in the reaction and the relative number of moles.\n",
    "\n",
    "<br />\n",
    "<img style=\"float: left;\" src=\"images/3DMolecules.svg\" height=\"300\" width=\"500\">"
   ]
  },
  {
   "cell_type": "markdown",
   "metadata": {},
   "source": [
    "### Examples\n",
    "\n",
    "**1)** Consider the following chemical equation: \n",
    "\n",
    "<center>____ Al + ____ Br$_2$ $\\rightarrow$ ____ AlBr$_3$</center>\n",
    "\n",
    "Given 15 moles of aluminum (Al), how many moles of bromine (br) are needed for this reaction to occur (with no excess reactant)? Round to two significant figures."
   ]
  },
  {
   "cell_type": "code",
   "execution_count": 2,
   "metadata": {
    "scrolled": true,
    "tags": [
     "hide-input"
    ]
   },
   "outputs": [
    {
     "data": {
      "application/vnd.jupyter.widget-view+json": {
       "model_id": "2927aa1655f54f84ad94157f715d4a7e",
       "version_major": 2,
       "version_minor": 0
      },
      "text/plain": [
       "VBox(children=(Button(button_style='primary', description='Step One', layout=Layout(height='100%', width='20%'…"
      ]
     },
     "metadata": {},
     "output_type": "display_data"
    }
   ],
   "source": [
    "#----------\n",
    "\n",
    "#import ipywidgets as widgets\n",
    "#from ipywidgets import Output, VBox, Layout\n",
    "#from IPython.display import clear_output, display, HTML\n",
    "\n",
    "#----------\n",
    "\n",
    "out1 = Output()\n",
    "button1_step1 = widgets.Button(description=\"Step One\", layout=Layout(width='20%', height='100%'), button_style='primary')\n",
    "count1 = 1\n",
    "\n",
    "text1_1 = widgets.HTMLMath(value=r\"First, we balance the above equation: 2Al + 3Br$_2$ $\\rightarrow$ 2AlBr$_3$\")\n",
    "text1_2 = widgets.HTMLMath(value=\"Note: The coefficients from the above balanced chemical equation give us the molar ratios.\")\n",
    "\n",
    "def on_button1_step1_clicked(b):\n",
    "    global count1\n",
    "    count1 += 1\n",
    "    with out1:\n",
    "        clear_output()\n",
    "        if count1 % 2 == 0:\n",
    "            display(text1_1, text1_2)\n",
    "            \n",
    "display(VBox([button1_step1, out1]))\n",
    "button1_step1.on_click(on_button1_step1_clicked)"
   ]
  },
  {
   "cell_type": "code",
   "execution_count": 3,
   "metadata": {
    "scrolled": true,
    "tags": [
     "hide-input"
    ]
   },
   "outputs": [
    {
     "data": {
      "application/vnd.jupyter.widget-view+json": {
       "model_id": "8c57179f2862400ebdcf23a2a98c555d",
       "version_major": 2,
       "version_minor": 0
      },
      "text/plain": [
       "VBox(children=(Button(button_style='primary', description='Step Two', layout=Layout(height='100%', width='20%'…"
      ]
     },
     "metadata": {},
     "output_type": "display_data"
    }
   ],
   "source": [
    "#----------\n",
    "\n",
    "#import ipywidgets as widgets\n",
    "#from ipywidgets import Output, VBox, Layout\n",
    "#from IPython.display import clear_output, display, HTML\n",
    "\n",
    "#----------\n",
    "\n",
    "out2 = Output()\n",
    "button1_step2 = widgets.Button(description=\"Step Two\", layout=Layout(width='20%', height='100%'), button_style='primary')\n",
    "count2 = 1\n",
    "\n",
    "text2_1 = widgets.HTMLMath(value=r\"Now, we use these coefficients to convert mol of Al to mol of Br$_2$:\")\n",
    "text2_2 = widgets.HTMLMath(value=r\"$15 \\text{ mol Al} \\bigg(\\dfrac{3\\text{ mol Br}_2}{2\\text{ mol Al}}\\bigg)=22.5=23 \\text{ mol Br}_2$\")\n",
    "text2_3 = widgets.HTMLMath(value=r\"Therefore, given 15 moles aluminum, 23 moles bromine are needed. This is the merit of balancing.\")\n",
    "\n",
    "def on_button1_step2_clicked(b):\n",
    "    global count2\n",
    "    count2 += 1\n",
    "    with out2:\n",
    "        clear_output()\n",
    "        if count2 % 2 == 0:\n",
    "            display(text2_1, text2_2, text2_3)\n",
    "            \n",
    "display(VBox([button1_step2, out2]))\n",
    "button1_step2.on_click(on_button1_step2_clicked)"
   ]
  },
  {
   "cell_type": "markdown",
   "metadata": {},
   "source": [
    "**2)** Consider the following chemical equation:\n",
    "\n",
    "<center>____ H$_2$ + ____ N$_2$ $\\rightarrow$ ____ NH$_3$</center>\n",
    "\n",
    "How many moles of NH$_3$ are formed when 3.6 mol of H$_2$ are reacted with an excess of N$_2$?"
   ]
  },
  {
   "cell_type": "code",
   "execution_count": 4,
   "metadata": {
    "tags": [
     "hide-input"
    ]
   },
   "outputs": [
    {
     "data": {
      "application/vnd.jupyter.widget-view+json": {
       "model_id": "ba3a13c3ea76401ca2a37a0b8abfd050",
       "version_major": 2,
       "version_minor": 0
      },
      "text/plain": [
       "VBox(children=(Button(button_style='primary', description='Step One', layout=Layout(height='100%', width='20%'…"
      ]
     },
     "metadata": {},
     "output_type": "display_data"
    }
   ],
   "source": [
    "#----------\n",
    "\n",
    "#import ipywidgets as widgets\n",
    "#from ipywidgets import Output, VBox, Layout\n",
    "#from IPython.display import clear_output, display, HTML\n",
    "\n",
    "#----------\n",
    "\n",
    "out3 = Output()\n",
    "button2_step1 = widgets.Button(description=\"Step One\", layout=Layout(width='20%', height='100%'), button_style='primary')\n",
    "count3 = 1\n",
    "\n",
    "text3_1 = widgets.HTMLMath(value=r\"As usual, we balance the equation: 3H$_2$ + 2N$_2$ $\\rightarrow$ 2NH$_3$\")\n",
    "\n",
    "def on_button2_step1_clicked(b):\n",
    "    global count3\n",
    "    count3 += 1\n",
    "    with out3:\n",
    "        clear_output()\n",
    "        if count3 % 2 == 0:\n",
    "            display(text3_1)\n",
    "            \n",
    "display(VBox([button2_step1, out3]))\n",
    "button2_step1.on_click(on_button2_step1_clicked)"
   ]
  },
  {
   "cell_type": "code",
   "execution_count": 5,
   "metadata": {
    "tags": [
     "hide-input"
    ]
   },
   "outputs": [
    {
     "data": {
      "application/vnd.jupyter.widget-view+json": {
       "model_id": "afddd51f5b4d48cab040c3997b3176da",
       "version_major": 2,
       "version_minor": 0
      },
      "text/plain": [
       "VBox(children=(Button(button_style='primary', description='Step Two', layout=Layout(height='100%', width='20%'…"
      ]
     },
     "metadata": {},
     "output_type": "display_data"
    }
   ],
   "source": [
    "#----------\n",
    "\n",
    "#import ipywidgets as widgets\n",
    "#from ipywidgets import Output, VBox, Layout\n",
    "#from IPython.display import clear_output, display, HTML\n",
    "\n",
    "#----------\n",
    "\n",
    "out4 = Output()\n",
    "button2_step2 = widgets.Button(description=\"Step Two\", layout=Layout(width='20%', height='100%'), button_style='primary')\n",
    "count4 = 1\n",
    "\n",
    "text4_1 = widgets.HTMLMath(value=r\"We write what we are given. We place the unit and the element that we wish to cancel in the denominator of the molar ratio. We write what we wish to convert to (moles of NH$_3$) in the numerator:\")\n",
    "text4_2 = widgets.HTMLMath(value=r\"$3.6 \\text{ mol H}_2 \\bigg(\\dfrac{2\\text{ mol NH}_3}{3\\text{ mol H}_2}\\bigg)=2.4 \\text{ mol NH}_3$\")\n",
    "\n",
    "def on_button2_step2_clicked(b):\n",
    "    global count4\n",
    "    count4 += 1\n",
    "    with out4:\n",
    "        clear_output()\n",
    "        if count4 % 2 == 0:\n",
    "            display(text4_1, text4_2)\n",
    "            \n",
    "display(VBox([button2_step2, out4]))\n",
    "button2_step2.on_click(on_button2_step2_clicked)"
   ]
  },
  {
   "cell_type": "markdown",
   "metadata": {},
   "source": [
    "### Practice\n",
    "\n",
    "Use the chemical equation below to answer the following question(s). Remember to balance it before proceeding.\n",
    "\n",
    "<br />\n",
    "<center>____ KClO$_3$ + ____ KCl $\\rightarrow$ ____ O$_2$</center>"
   ]
  },
  {
   "cell_type": "code",
   "execution_count": 6,
   "metadata": {
    "tags": [
     "hide-input"
    ]
   },
   "outputs": [
    {
     "data": {
      "application/vnd.jupyter.widget-view+json": {
       "model_id": "477595bc998b492fa27dd03247c0e468",
       "version_major": 2,
       "version_minor": 0
      },
      "text/plain": [
       "Button(button_style='success', description='Generate New Question', layout=Layout(height='100%', width='20%'),…"
      ]
     },
     "metadata": {},
     "output_type": "display_data"
    },
    {
     "name": "stdout",
     "output_type": "stream",
     "text": [
      "If the reaction produced 31.3 moles of potassium chloride, how many moles of oxygen were produced?\n",
      "\u001b[1m(A) \u001b[0;0m47.0 moles oxygen\n",
      "\u001b[1m(B) \u001b[0;0m20.4 moles oxygen\n",
      "\u001b[1m(C) \u001b[0;0m24.7 moles oxygen\n",
      "\u001b[1m(D) \u001b[0;0m29.5 moles oxygen\n"
     ]
    },
    {
     "data": {
      "application/vnd.jupyter.widget-view+json": {
       "model_id": "2859926b8ded466a8532825c9e628a02",
       "version_major": 2,
       "version_minor": 0
      },
      "text/plain": [
       "HBox(children=(Button(description='(A)', style=ButtonStyle(button_color='Whitesmoke')), Button(description='(B…"
      ]
     },
     "metadata": {},
     "output_type": "display_data"
    },
    {
     "name": "stdout",
     "output_type": "stream",
     "text": [
      " \r"
     ]
    }
   ],
   "source": [
    "#from IPython.display import Javascript, display\n",
    "#from ipywidgets import widgets\n",
    "\n",
    "def generate_new_question(ev):\n",
    "    display(Javascript('IPython.notebook.execute_cell()'))\n",
    "\n",
    "button_generate_question = widgets.Button(description=\"Generate New Question\", layout=Layout(width='20%', height='100%'), button_style='success')\n",
    "button_generate_question.on_click(generate_new_question)\n",
    "display(button_generate_question)\n",
    "\n",
    "#Randomize variables\n",
    "mole_amount = round(random.uniform(10.0, 50.0), 1)\n",
    "\n",
    "#Determine question type\n",
    "question_type = random.randint(1,3)\n",
    "\n",
    "if question_type == 1:\n",
    "    #Print question\n",
    "    question = \"If the reaction produced {} moles of oxygen, how many moles of potassium chlorate decomposed?\".format(mole_amount)\n",
    "    print(question)\n",
    "    #Answer\n",
    "    substance_choice = \"potassium chlorate\"\n",
    "    answer = mole_amount * (2/3)\n",
    "elif question_type == 2:\n",
    "    question = \"Given {} moles of potassium chlorate, how many moles of potassium chloride will be produced?\".format(mole_amount)\n",
    "    print(question)\n",
    "    #Answer\n",
    "    substance_choice = \"potassium chloride\"\n",
    "    answer = mole_amount * (2/2)\n",
    "elif question_type == 3:\n",
    "    question = \"If the reaction produced {} moles of potassium chloride, how many moles of oxygen were produced?\".format(mole_amount)\n",
    "    print(question)\n",
    "    #Answer\n",
    "    substance_choice = \"oxygen\"\n",
    "    answer = mole_amount * (3/2)\n",
    "\n",
    "\n",
    "#Define range of values for random multiple choices\n",
    "mini = 100\n",
    "maxa = 1000\n",
    "\n",
    "#Create three choices that are unique (and not equal to the answer)\n",
    "choice_list = random.sample(range(mini,maxa),3)\n",
    "while choice_list.count(int(answer)) >= 1:\n",
    "    choice_list = random.sample(range(mini,maxa),3)\n",
    "\n",
    "#Assign each multiple choice to these four variables\n",
    "#Option_1 contains the answer\n",
    "option_1 = str(round(answer, 1)) + \" moles \" + substance_choice\n",
    "option_2 = str(round(choice_list[0]/10, 1)) + \" moles \" + substance_choice\n",
    "option_3 = str(round(choice_list[1]/10,1)) + \" moles \" + substance_choice\n",
    "option_4 = str(round(choice_list[2]/10,1)) + \" moles \" + substance_choice\n",
    "\n",
    "multiple_choice(option_1, option_2, option_3, option_4)"
   ]
  },
  {
   "cell_type": "markdown",
   "metadata": {},
   "source": [
    "### Additional Resource\n",
    "\n",
    "If you're still confused regarding the material above, this video should clear things up."
   ]
  },
  {
   "cell_type": "code",
   "execution_count": 7,
   "metadata": {
    "tags": [
     "hide-input"
    ]
   },
   "outputs": [
    {
     "data": {
      "image/jpeg": "[encoded data removed]",
      "text/html": [
       "\n",
       "<iframe\n",
       "    width=\"400\"\n",
       "    height=\"300\"\n",
       "    src=\"https://www.youtube.com/embed/7qoR8jmmnYQ\"\n",
       "    frameborder=\"0\"\n",
       "    allowfullscreen\n",
       "></iframe>\n"
      ],
      "text/plain": [
       "<IPython.lib.display.YouTubeVideo at 0x7fb6e0179510>"
      ]
     },
     "execution_count": 7,
     "metadata": {
      "filenames": {
       "image/jpeg": "/home/mikel/Documents/curriculum-jbook-local/_build/jupyter_execute/curriculum-notebooks/Science/StoichiometryAndLimitingReactants/stoichiometry-and-limiting-reactants_15_0.jpeg"
      }
     },
     "output_type": "execute_result"
    }
   ],
   "source": [
    "from IPython.display import YouTubeVideo\n",
    "YouTubeVideo('7qoR8jmmnYQ')"
   ]
  },
  {
   "cell_type": "markdown",
   "metadata": {},
   "source": [
    "### Stoichiometry Involving Mass, Particles, and Volume\n",
    "\n",
    "Converting from moles of one substance to moles of another is the fundamental goal of stoichiometry. We now use the mole ratio to convert between particles, grams, and litres."
   ]
  },
  {
   "cell_type": "markdown",
   "metadata": {},
   "source": [
    "### Example\n",
    "\n",
    "**1)** Consider the combustion of butane (C$_4$H$_{10}$):\n",
    "\n",
    "<br />\n",
    "<center>____ C$_4$H$_{10}$ + ____ O$_2$ $\\rightarrow$ &nbsp; &nbsp; &nbsp; &nbsp; ?</center>\n",
    "\n",
    "Calculate the mass of CO$_2$ produced when 1.00 g of C$_4$H$_{10}$ is burned."
   ]
  },
  {
   "cell_type": "code",
   "execution_count": 8,
   "metadata": {
    "tags": [
     "hide-input"
    ]
   },
   "outputs": [
    {
     "data": {
      "application/vnd.jupyter.widget-view+json": {
       "model_id": "aa6bd3d7976b408c994c5cad8d5b3d0b",
       "version_major": 2,
       "version_minor": 0
      },
      "text/plain": [
       "VBox(children=(Button(button_style='primary', description='Step One', layout=Layout(height='100%', width='20%'…"
      ]
     },
     "metadata": {},
     "output_type": "display_data"
    }
   ],
   "source": [
    "#----------\n",
    "\n",
    "#import ipywidgets as widgets\n",
    "#from ipywidgets import Output, VBox, Layout\n",
    "#from IPython.display import clear_output, display, HTML\n",
    "\n",
    "#----------\n",
    "\n",
    "out6 = Output()\n",
    "button3_step1 = widgets.Button(description=\"Step One\", layout=Layout(width='20%', height='100%'), button_style='primary')\n",
    "count5 = 1\n",
    "\n",
    "text5_1 = widgets.HTMLMath(value=r\"First, we predict the products (a combustion reaction) and balance the above equation: 2C$_4$H$_{10}$ + 13O$_2$ $\\rightarrow$ 10H$_2$O + 8CO$_2$\")\n",
    "text5_2 = widgets.HTMLMath(value=r\"Recall: H$_2$O and CO$_2$ are always the products of a combustion reaction.\")\n",
    "\n",
    "def on_button3_step1_clicked(b):\n",
    "    global count5\n",
    "    count5 += 1\n",
    "    with out6:\n",
    "        clear_output()\n",
    "        if count5 % 2 == 0:\n",
    "            display(text5_1, text5_2)\n",
    "            \n",
    "display(VBox([button3_step1, out6]))\n",
    "button3_step1.on_click(on_button3_step1_clicked)"
   ]
  },
  {
   "cell_type": "code",
   "execution_count": 9,
   "metadata": {
    "tags": [
     "hide-input"
    ]
   },
   "outputs": [
    {
     "data": {
      "application/vnd.jupyter.widget-view+json": {
       "model_id": "8a8bae606317489db52b3d4ea382d8d1",
       "version_major": 2,
       "version_minor": 0
      },
      "text/plain": [
       "VBox(children=(Button(button_style='primary', description='Step Two', layout=Layout(height='100%', width='20%'…"
      ]
     },
     "metadata": {},
     "output_type": "display_data"
    }
   ],
   "source": [
    "#----------\n",
    "\n",
    "#import ipywidgets as widgets\n",
    "#from ipywidgets import Output, VBox, Layout\n",
    "#from IPython.display import clear_output, display, HTML\n",
    "\n",
    "#----------\n",
    "\n",
    "out7 = Output()\n",
    "button3_step2 = widgets.Button(description=\"Step Two\", layout=Layout(width='20%', height='100%'), button_style='primary')\n",
    "count6 = 1\n",
    "\n",
    "text6_1 = widgets.HTMLMath(value=r\"We wish to move from grams of C$_4$H$_{10}$ to grams of CO$_2$. On the diagram above, put your finger on where we should begin and trace to where we should end: grams (C$_4$H$_{10}$) $\\rightarrow$ moles (C$_4$H$_{10}$) $\\rightarrow$ moles (CO$_2$) $\\rightarrow$ grams (CO$_2$).\")\n",
    "text6_2 = widgets.HTMLMath(value=r\"$1.00 \\text{ g }C_4H_{10} \\bigg(\\dfrac{1\\text{ mol}}{52.07\\text{ g}}\\bigg)\\bigg(\\dfrac{8 \\text{ mol CO}_2}{2 \\text{ mol }C_4H_{10}}\\bigg)\\bigg(\\dfrac{44.01 \\text{ g}}{1 \\text{ mol}}\\bigg)=3.38 \\text{ g CO}_2$\")\n",
    "text6_3 = widgets.HTMLMath(value=r\"Recall: To move between grams and moles we require the molar mass, which is 52.07 g/mol for C$_4$H$_{10}$ and 44.01 g/mol for CO$_2$.\")\n",
    "def on_button3_step2_clicked(b):\n",
    "    global count6\n",
    "    count6 += 1\n",
    "    with out7:\n",
    "        clear_output()\n",
    "        if count6 % 2 == 0:\n",
    "            display(text6_1, text6_2, text6_3)\n",
    "            \n",
    "display(VBox([button3_step2, out7]))\n",
    "button3_step2.on_click(on_button3_step2_clicked)"
   ]
  },
  {
   "cell_type": "markdown",
   "metadata": {},
   "source": [
    "**2)** The decomposition of potassium chlorate is often used to prepare small amounts of oxygen in many labs.\n",
    "\n",
    "<br />\n",
    "<center>____ KClO$_3$ $\\rightarrow$ &nbsp; &nbsp; &nbsp; &nbsp; ?</center>\n",
    "\n",
    "How many millilitres of oxygen gas can be prepared from 4.50 g of potassium chlorate?"
   ]
  },
  {
   "cell_type": "code",
   "execution_count": 10,
   "metadata": {
    "tags": [
     "hide-input"
    ]
   },
   "outputs": [
    {
     "data": {
      "application/vnd.jupyter.widget-view+json": {
       "model_id": "964b853807464893a3b247affbee4704",
       "version_major": 2,
       "version_minor": 0
      },
      "text/plain": [
       "VBox(children=(Button(button_style='primary', description='Step One', layout=Layout(height='100%', width='20%'…"
      ]
     },
     "metadata": {},
     "output_type": "display_data"
    }
   ],
   "source": [
    "#----------\n",
    "\n",
    "#import ipywidgets as widgets\n",
    "#from ipywidgets import Output, VBox, Layout\n",
    "#from IPython.display import clear_output, display, HTML\n",
    "\n",
    "#----------\n",
    "\n",
    "out8 = Output()\n",
    "button4_step1 = widgets.Button(description=\"Step One\", layout=Layout(width='20%', height='100%'), button_style='primary')\n",
    "count7 = 1\n",
    "\n",
    "text7_1 = widgets.HTMLMath(value=r\"First, we predict the products (a decomposition reaction) and balance the above equation: 2KClO$_3$ $\\rightarrow$ 2KCl + 3O$_2$\")\n",
    "text7_2 = widgets.HTMLMath(value=r\"Recall: If 'M' represents a metal, then MClO$_3$ $\\rightarrow$ MCl + O$_2$.\")\n",
    "\n",
    "def on_button4_step1_clicked(b):\n",
    "    global count7\n",
    "    count7 += 1\n",
    "    with out8:\n",
    "        clear_output()\n",
    "        if count7 % 2 == 0:\n",
    "            display(text7_1, text7_2)\n",
    "            \n",
    "display(VBox([button4_step1, out8]))\n",
    "button4_step1.on_click(on_button4_step1_clicked)"
   ]
  },
  {
   "cell_type": "code",
   "execution_count": 11,
   "metadata": {
    "tags": [
     "hide-input"
    ]
   },
   "outputs": [
    {
     "data": {
      "application/vnd.jupyter.widget-view+json": {
       "model_id": "9655eeba3805469e99cbfe60e9eb1e5c",
       "version_major": 2,
       "version_minor": 0
      },
      "text/plain": [
       "VBox(children=(Button(button_style='primary', description='Step Two', layout=Layout(height='100%', width='20%'…"
      ]
     },
     "metadata": {},
     "output_type": "display_data"
    }
   ],
   "source": [
    "#----------\n",
    "\n",
    "#import ipywidgets as widgets\n",
    "#from ipywidgets import Output, VBox, Layout\n",
    "#from IPython.display import clear_output, display, HTML\n",
    "\n",
    "#----------\n",
    "\n",
    "out9 = Output()\n",
    "button4_step2 = widgets.Button(description=\"Step Two\", layout=Layout(width='20%', height='100%'), button_style='primary')\n",
    "count8 = 1\n",
    "\n",
    "text8_1 = widgets.HTMLMath(value=r\"Following the above diagram, the order of conversions is as follows: g (O$_2$) $\\rightarrow$ mol (O$_2$) $\\rightarrow$ mol (KClO$_3$) $\\rightarrow$ L (KClO$_3$) $\\rightarrow$ mL (KClO$_3$).\")\n",
    "text8_2 = widgets.HTMLMath(value=r\"$4.50 \\text{ g KClO}_3 \\bigg(\\dfrac{1\\text{ mol}}{122.55\\text{ g}}\\bigg)\\bigg(\\dfrac{3 \\text{ mol O}_2}{2 \\text{ mol KClO}_3}\\bigg)\\bigg(\\dfrac{22.4 \\text{ L}}{1 \\text{ mol}}\\bigg)\\bigg(\\dfrac{1000 \\text{ mL}}{1 \\text{ L}}\\bigg)=1230 \\text{ mL O}_2$\")\n",
    "text8_3 = widgets.HTMLMath(value=r\"Recall: To move between litres and moles (assuming that the reaction takes place at standard temperature and pressure (STP) we use the conversion 22.4 L/mol.\")\n",
    "def on_button4_step2_clicked(b):\n",
    "    global count8\n",
    "    count8 += 1\n",
    "    with out9:\n",
    "        clear_output()\n",
    "        if count8 % 2 == 0:\n",
    "            display(text8_1, text8_2, text8_3)\n",
    "            \n",
    "display(VBox([button4_step2, out9]))\n",
    "button4_step2.on_click(on_button4_step2_clicked)"
   ]
  },
  {
   "cell_type": "markdown",
   "metadata": {},
   "source": [
    "### Practice\n",
    "\n",
    "Mixing solid zinc with a solution of hydrochloric acid is used to produce hydrogen gas (remember to balance):\n",
    "\n",
    "<br />\n",
    "<center>____ Zn + ____ HCl $\\rightarrow$ ____ ZnCl$_2$ + ____ H$_2$</center>"
   ]
  },
  {
   "cell_type": "code",
   "execution_count": 12,
   "metadata": {
    "tags": [
     "hide-input"
    ]
   },
   "outputs": [
    {
     "data": {
      "application/vnd.jupyter.widget-view+json": {
       "model_id": "0e3789c83fae43baa423eacfebea2bf6",
       "version_major": 2,
       "version_minor": 0
      },
      "text/plain": [
       "Button(button_style='success', description='Generate New Question', layout=Layout(height='100%', width='20%'),…"
      ]
     },
     "metadata": {},
     "output_type": "display_data"
    },
    {
     "name": "stdout",
     "output_type": "stream",
     "text": [
      "If you had 9.11 ⨉ 10²³ atoms of zinc, how many millilitres of hydrogen would be produced?\n",
      "\u001b[1m(A) \u001b[0;0m2870 mL hydrogen\n",
      "\u001b[1m(B) \u001b[0;0m33900 mL hydrogen\n",
      "\u001b[1m(C) \u001b[0;0m854 mL hydrogen\n",
      "\u001b[1m(D) \u001b[0;0m7780 mL hydrogen\n"
     ]
    },
    {
     "data": {
      "application/vnd.jupyter.widget-view+json": {
       "model_id": "cd76630a846e48bfa44fbf7df98051bf",
       "version_major": 2,
       "version_minor": 0
      },
      "text/plain": [
       "HBox(children=(Button(description='(A)', style=ButtonStyle(button_color='Whitesmoke')), Button(description='(B…"
      ]
     },
     "metadata": {},
     "output_type": "display_data"
    },
    {
     "name": "stdout",
     "output_type": "stream",
     "text": [
      " \r"
     ]
    }
   ],
   "source": [
    "#from IPython.display import Javascript, display\n",
    "#from ipywidgets import widgets\n",
    "\n",
    "def generate_new_question(ev):\n",
    "    display(Javascript('IPython.notebook.execute_cell()'))\n",
    "\n",
    "button_generate_question = widgets.Button(description=\"Generate New Question\", layout=Layout(width='20%', height='100%'), button_style='success')\n",
    "button_generate_question.on_click(generate_new_question)\n",
    "display(button_generate_question)\n",
    "\n",
    "#Randomize variables\n",
    "particle_amount = round(random.uniform(5.0, 9.9), 2)\n",
    "exact_amount = particle_amount * 10**23\n",
    "#Determine question type\n",
    "question_type = random.randint(1,2)\n",
    "\n",
    "if question_type == 1:\n",
    "    #Print question\n",
    "    question = \"If you had {} \".format(particle_amount) + chr(0x2A09) + \" 10\" + chr(0x00B2) + chr(0x00B3) + \" atoms of zinc, how many millilitres of hydrogen would be produced?\"\n",
    "    print(question)\n",
    "    #Answer\n",
    "    substance_choice = \" mL hydrogen\"\n",
    "    answer = (exact_amount / (6.02 * 10**23)) * 22.4 * 1000\n",
    "elif question_type == 2:\n",
    "    question = \"If you had {} \".format(particle_amount) + chr(0x2A09) + \" 10\" + chr(0x00B2) + chr(0x00B3) + \" molecules of hydrochloric acid, how many grams of zinc are required for this reaction to take place?\"\n",
    "    print(question)\n",
    "    #Answer\n",
    "    substance_choice = \" g Zn\"\n",
    "    answer = (exact_amount / (6.02 * 10**23)) / 2 * 65.41\n",
    "\n",
    "\n",
    "#Define range of values for random multiple choices\n",
    "mini = 10\n",
    "maxa = 20000\n",
    "\n",
    "#Create three choices that are unique (and not equal to the answer)\n",
    "choice_list = random.sample(range(mini,maxa),3)\n",
    "while choice_list.count(int(answer)) >= 1:\n",
    "    choice_list = random.sample(range(mini,maxa),3)\n",
    "\n",
    "#Round options to the specified number of significant figures\n",
    "def round_sf(number, significant):\n",
    "    return round(number, significant - len(str(number)))\n",
    "\n",
    "#Assign each multiple choice to these four variables\n",
    "#Option_1 contains the answer\n",
    "if answer < 100:\n",
    "    option_1 = str(\"%0.1f\" % answer) + substance_choice\n",
    "else:\n",
    "    option_1 = str(round_sf(int(answer), 3)) + substance_choice\n",
    "    \n",
    "option_2 = str(round_sf(int(choice_list[0]), 3)) + substance_choice\n",
    "option_3 = str(round_sf(int(choice_list[1]),3)) + substance_choice\n",
    "option_4 = str(round_sf(int(choice_list[2]),3)) + substance_choice\n",
    "\n",
    "multiple_choice(option_1, option_2, option_3, option_4)"
   ]
  },
  {
   "cell_type": "markdown",
   "metadata": {},
   "source": [
    "### Additional Resource\n",
    "\n",
    "If you're still confused regarding the material above, this video should clear things up."
   ]
  },
  {
   "cell_type": "code",
   "execution_count": 13,
   "metadata": {
    "tags": [
     "hide-input"
    ]
   },
   "outputs": [
    {
     "data": {
      "image/jpeg": "[encoded data removed]",
      "text/html": [
       "\n",
       "<iframe\n",
       "    width=\"400\"\n",
       "    height=\"300\"\n",
       "    src=\"https://www.youtube.com/embed/Auq_tXHKXW8\"\n",
       "    frameborder=\"0\"\n",
       "    allowfullscreen\n",
       "></iframe>\n"
      ],
      "text/plain": [
       "<IPython.lib.display.YouTubeVideo at 0x7fb6b6facad0>"
      ]
     },
     "execution_count": 13,
     "metadata": {
      "filenames": {
       "image/jpeg": "/home/mikel/Documents/curriculum-jbook-local/_build/jupyter_execute/curriculum-notebooks/Science/StoichiometryAndLimitingReactants/stoichiometry-and-limiting-reactants_26_0.jpeg"
      }
     },
     "output_type": "execute_result"
    }
   ],
   "source": [
    "from IPython.display import YouTubeVideo\n",
    "YouTubeVideo('Auq_tXHKXW8')"
   ]
  },
  {
   "cell_type": "markdown",
   "metadata": {},
   "source": [
    "## Limiting Reactants\n",
    "\n",
    "Before defining what a limiting reactant is, we first present a very simple example to demonstrate the concept.\n",
    "\n",
    "**Silly (but useful) example:** Suppose you wish to make several extremely boring sandwiches using one slice of cheese and two slices of bread for each. Then, let\n",
    "\n",
    "- Bd = bread\n",
    "- Ch = cheese\n",
    "- Bd$_2$Ch = sandwich\n",
    "\n",
    "<img style=\"float: center;\" src=\"images/BreadCheese.PNG\" width=\"200\">\n",
    "\n",
    "So then we have the following equation:\n",
    "\n",
    "$$2\\text{Bd + Ch} \\rightarrow \\text{ Bd}_2 \\text{Ch}$$\n",
    "\n",
    "**Problem:** *If you have 10 slices of bread and 7 slices of cheese, how many sandwiches can you make? What will be leftover?*\n",
    "\n",
    "**Solution:** This can be done mentally; however, here's the basic computation that is required:\n",
    "\n",
    "\n",
    "$$10 \\text{Bd} \\bigg(\\dfrac{1\\: \\text{Bd}_2\\text{Ch}}{2\\: \\text{Bd}}\\bigg) = 5 \\text{Bd}_2\\text{Ch} $$\n",
    "\n",
    "Therefore, we can make 5 sandwiches and so 2 slices of cheese are leftover."
   ]
  },
  {
   "cell_type": "markdown",
   "metadata": {},
   "source": [
    "A **limiting reactant** is the reactant that is completely consumed in a reaction. It will determine, or limit, the amount of product formed. The other reactants are called **excess reactants**. These reactants are added to a reaction in larger than necessary amounts.\n",
    "\n",
    "In the previous question, which was limiting? Will the *bread* run out first or will the *cheese* run out first? Answer: The bread is the limiting reactant and the cheese is in excess. *How do we know?*\n",
    "\n",
    "**Key Steps**: Given the information (10 slices of bread and 7 slices of cheese in this case) we must do the following:\n",
    "\n",
    "1. *Choose one of the values to work with. It doesn't matter which.* \n",
    "\n",
    "Let's choose the first value to work with. So we'll start with 10 slices of bread.\n",
    "2. *Using stoichiometry, start with your chosen value and convert that value (using the appropriate molar ratio) into the other reactant.*\n",
    "\n",
    "$$10 \\text{Bd}\\bigg(\\dfrac{1\\: \\text{Ch}}{2\\: \\text{Bd}}\\bigg) = 5 \\text{Ch}$$\n",
    "\n",
    "3. *Compare the result from Step 2 with the corresponding value that you are given in the question. Step 2 tells us **how much we need** of the other reactant for a perfect reaction; i.e. if we are given **more** than what Step 2 gives us, then that reactant is in excess.*\n",
    "\n",
    "We are given **7 slices of cheese**. From Step 2, we calculated that (given 10 slices of bread) we **only need 5 slices of cheese**. Since $7 > 5$, **cheese is in excess** and **bread** is the **limiting reactant (LR)**."
   ]
  },
  {
   "cell_type": "markdown",
   "metadata": {},
   "source": [
    "### Example\n",
    "\n",
    "Consider the following synthesis reaction:\n",
    "\n",
    "\n",
    "$$\\text{____ Fe + ____ Cl}_2 \\rightarrow \\text{ ____ FeCl}_3$$\n",
    "\n",
    "If 11.2 g of iron is reacted with 23.4 g of chlorine, iron (III) chloride is formed.\n",
    "\n",
    "**1)** *Which reactant is in excess? Which reactant is limiting?*"
   ]
  },
  {
   "cell_type": "code",
   "execution_count": 14,
   "metadata": {
    "tags": [
     "hide-input"
    ]
   },
   "outputs": [
    {
     "data": {
      "application/vnd.jupyter.widget-view+json": {
       "model_id": "7680c0cd58da4e29b523a0c9b28b1dbd",
       "version_major": 2,
       "version_minor": 0
      },
      "text/plain": [
       "VBox(children=(Button(button_style='primary', description='Step One', layout=Layout(height='100%', width='20%'…"
      ]
     },
     "metadata": {},
     "output_type": "display_data"
    }
   ],
   "source": [
    "#----------\n",
    "\n",
    "#import ipywidgets as widgets\n",
    "#from ipywidgets import Output, VBox, Layout\n",
    "#from IPython.display import clear_output, display, HTML\n",
    "\n",
    "#----------\n",
    "\n",
    "out11 = Output()\n",
    "button5_step1 = widgets.Button(description=\"Step One\", layout=Layout(width='20%', height='100%'), button_style='primary')\n",
    "count9 = 1\n",
    "\n",
    "text9_1 = widgets.HTMLMath(value=r\"First, we balance the above equation: 2Fe + 3Cl$_2$ $\\rightarrow$ 2FeCl$_3$\")\n",
    "text9_2 = widgets.HTMLMath(value=r\"Next, we follow the 'Key Steps' above. Choose one of the reactants to work with, say Fe.\")\n",
    "\n",
    "\n",
    "def on_button5_step1_clicked(b):\n",
    "    global count9\n",
    "    count9 += 1\n",
    "    with out11:\n",
    "        clear_output()\n",
    "        if count9 % 2 == 0:\n",
    "            display(text9_1, text9_2)\n",
    "            \n",
    "display(VBox([button5_step1, out11]))\n",
    "button5_step1.on_click(on_button5_step1_clicked)"
   ]
  },
  {
   "cell_type": "code",
   "execution_count": 15,
   "metadata": {
    "tags": [
     "hide-input"
    ]
   },
   "outputs": [
    {
     "data": {
      "application/vnd.jupyter.widget-view+json": {
       "model_id": "03550779510941cd9927bc71cbe52c66",
       "version_major": 2,
       "version_minor": 0
      },
      "text/plain": [
       "VBox(children=(Button(button_style='primary', description='Step Two', layout=Layout(height='100%', width='20%'…"
      ]
     },
     "metadata": {},
     "output_type": "display_data"
    }
   ],
   "source": [
    "#----------\n",
    "\n",
    "#import ipywidgets as widgets\n",
    "#from ipywidgets import Output, VBox, Layout\n",
    "#from IPython.display import clear_output, display, HTML\n",
    "\n",
    "#----------\n",
    "\n",
    "out12 = Output()\n",
    "button5_step2 = widgets.Button(description=\"Step Two\", layout=Layout(width='20%', height='100%'), button_style='primary')\n",
    "count10 = 1\n",
    "\n",
    "text10_1 = widgets.HTMLMath(value=r\"With 11.2 g of Fe, how much Cl$_2$ is required for a perfect reaction?\")\n",
    "text10_2 = widgets.HTMLMath(value=r\"11.2 g Fe $\\bigg(\\dfrac{1\\text{ mol}}{55.85\\text{ g}}\\bigg)\\bigg(\\dfrac{3\\text{ mol Cl}_2}{2\\text{ mol Fe}}\\bigg)\\bigg(\\dfrac{70.90\\text{ g}}{1\\text{ mol}}\\bigg)=$ 21.3 g Cl$_2$\")\n",
    "text10_3 = widgets.HTMLMath(value=r\"Note: 21.3 g Cl$_2$ is exactly how much Cl$_2$ you NEED for a PERFECT reaction (i.e. reacting 11.2 g Fe with 21.3 g Cl$_2$ would result in NO EXCESS reactant).\")\n",
    "\n",
    "\n",
    "def on_button5_step2_clicked(b):\n",
    "    global count10\n",
    "    count10 += 1\n",
    "    with out12:\n",
    "        clear_output()\n",
    "        if count10 % 2 == 0:\n",
    "            display(text10_1, text10_2, text10_3)\n",
    "            \n",
    "display(VBox([button5_step2, out12]))\n",
    "button5_step2.on_click(on_button5_step2_clicked)"
   ]
  },
  {
   "cell_type": "code",
   "execution_count": 16,
   "metadata": {
    "tags": [
     "hide-input"
    ]
   },
   "outputs": [
    {
     "data": {
      "application/vnd.jupyter.widget-view+json": {
       "model_id": "122eeefae2ff4c92bed4267cc901795c",
       "version_major": 2,
       "version_minor": 0
      },
      "text/plain": [
       "VBox(children=(Button(button_style='primary', description='Step Three', layout=Layout(height='100%', width='20…"
      ]
     },
     "metadata": {},
     "output_type": "display_data"
    }
   ],
   "source": [
    "#----------\n",
    "\n",
    "#import ipywidgets as widgets\n",
    "#from ipywidgets import Output, VBox, Layout\n",
    "#from IPython.display import clear_output, display, HTML\n",
    "\n",
    "#----------\n",
    "\n",
    "out13 = Output()\n",
    "button5_step3 = widgets.Button(description=\"Step Three\", layout=Layout(width='20%', height='100%'), button_style='primary')\n",
    "count11 = 1\n",
    "\n",
    "text11_1 = widgets.HTMLMath(value=r\"Compare that value (21.3 g Cl$_2$) with the given Cl$_2$ value (from the question): 23.4 g $>$ 21.3 g $\\implies$ Cl$_2$ is in excess. Therefore, Fe is the LR.\")\n",
    "\n",
    "def on_button5_step3_clicked(b):\n",
    "    global count11\n",
    "    count11 += 1\n",
    "    with out13:\n",
    "        clear_output()\n",
    "        if count11 % 2 == 0:\n",
    "            display(text11_1)\n",
    "            \n",
    "display(VBox([button5_step3, out13]))\n",
    "button5_step3.on_click(on_button5_step3_clicked)"
   ]
  },
  {
   "cell_type": "code",
   "execution_count": 17,
   "metadata": {
    "tags": [
     "hide-input"
    ]
   },
   "outputs": [
    {
     "data": {
      "application/vnd.jupyter.widget-view+json": {
       "model_id": "1a1067d1c4484fcf86b1337cb362295c",
       "version_major": 2,
       "version_minor": 0
      },
      "text/plain": [
       "VBox(children=(Button(button_style='warning', description='NOTE', layout=Layout(height='100%', width='20%'), s…"
      ]
     },
     "metadata": {},
     "output_type": "display_data"
    }
   ],
   "source": [
    "#----------\n",
    "\n",
    "#import ipywidgets as widgets\n",
    "#from ipywidgets import Output, VBox, Layout\n",
    "#from IPython.display import clear_output, display, HTML\n",
    "\n",
    "#----------\n",
    "\n",
    "out14 = Output()\n",
    "button5_step4 = widgets.Button(description=\"NOTE\", layout=Layout(width='20%', height='100%'), button_style='warning')\n",
    "count12 = 1\n",
    "\n",
    "text12_1 = widgets.HTMLMath(value=r\"What if we started with 23.4 g of Cl$_2$ instead of 11.2 g of Fe? The stategy is exactly the same. We show the work below:\")\n",
    "text12_2 = widgets.HTMLMath(value=r\"23.4 g Cl$_2$ $\\bigg(\\dfrac{1\\text{ mol}}{70.90\\text{ g}}\\bigg)\\bigg(\\dfrac{2\\text{ mol Fe}}{3\\text{ mol Cl}_2}\\bigg)\\bigg(\\dfrac{55.85\\text{ g}}{1\\text{ mol}}\\bigg)=$ 12.3 g Fe\")\n",
    "text12_3 = widgets.HTMLMath(value=r\"Since 11.2 g Fe $<$ 12.3 g Fe, we don't start with enough Fe for a perfect reaction $\\implies$ Fe is the LR and Cl$_2$ must be excess.\")\n",
    "                            \n",
    "def on_button5_step4_clicked(b):\n",
    "    global count12\n",
    "    count12 += 1\n",
    "    with out14:\n",
    "        clear_output()\n",
    "        if count12 % 2 == 0:\n",
    "            display(text12_1, text12_2, text12_3)\n",
    "            \n",
    "display(VBox([button5_step4, out14]))\n",
    "button5_step4.on_click(on_button5_step4_clicked)"
   ]
  },
  {
   "cell_type": "markdown",
   "metadata": {},
   "source": [
    "**2)** *Calculate the mass of the excess.*\n",
    "\n",
    "Because we chose to work with Fe first (which was a completely random choice) we calculated that we require exactly 21.3 g of Cl$_2$ for a perfect reaction. Also, it worked out that Cl$_2$ is in excess, which means that we simply perform the following subtraction:\n",
    "\n",
    "$$23.4 g - 21.3 g = 2.1 g \\text{ Cl}_2$$\n",
    "\n",
    "Note: If we chose to work with Cl$_2$ first (instead of Fe) then, while we would still have been able to find which is limiting (see \"NOTE\" above), we would have to perform the calculation to find 21.3 g of Cl$_2$ required for a perfect reaction."
   ]
  },
  {
   "cell_type": "markdown",
   "metadata": {},
   "source": [
    "**3)** *Calculate the mass of the product.*\n",
    "\n",
    "The whole point of determining which reactant is limiting is precisely to find how much product will be produced. *Always use the mass of the **limiting reactant** to calculate the mass of the product!*\n",
    "\n",
    "Since Fe is the LR, we must start with that mass and convert it to the mass of the product (FeCl$_3$):\n",
    "\n",
    "$$ 11.2 g \\text{ Fe}\\bigg(\\dfrac{1\\text{ mol}}{55.85\\text{ g}}\\bigg)\\bigg(\\dfrac{2\\text{ mol FeCl}_3}{2\\text{ mol Fe}}\\bigg)\\bigg(\\dfrac{162.2\\text{ g}}{1\\text{ mol}}\\bigg)= 32.5 g \\text{ FeCl}_3$$"
   ]
  },
  {
   "cell_type": "markdown",
   "metadata": {},
   "source": [
    "### Interactive Example\n",
    "\n",
    "Recall the chemical reaction (from above):\n",
    "\n",
    "$$2\\text{Fe + 3Cl}_2 \\rightarrow  2\\text{FeCl}_3$$\n",
    "\n",
    "Use the sliders below to dynamically adjust the mass of both reactants. As you adjust the mass of the reactants, observe the changes in limiting reactant, mass of excess, and the mass of product."
   ]
  },
  {
   "cell_type": "code",
   "execution_count": 18,
   "metadata": {
    "tags": [
     "hide-input"
    ]
   },
   "outputs": [
    {
     "data": {
      "application/vnd.jupyter.widget-view+json": {
       "model_id": "e0031355423741139f5f2a6acc082180",
       "version_major": 2,
       "version_minor": 0
      },
      "text/plain": [
       "VBox(children=(FloatSlider(value=11.2, continuous_update=False, description='Fe (g)', min=10.0, style=SliderSt…"
      ]
     },
     "metadata": {},
     "output_type": "display_data"
    },
    {
     "data": {
      "application/vnd.jupyter.widget-view+json": {
       "model_id": "d5e24e9d94ad4a66aeafedd6c79d2ce7",
       "version_major": 2,
       "version_minor": 0
      },
      "text/plain": [
       "Output()"
      ]
     },
     "metadata": {},
     "output_type": "display_data"
    }
   ],
   "source": [
    "out_text = Output()\n",
    "\n",
    "################ Widgets #################\n",
    "style = {'description_width': 'initial'}\n",
    "reactant1_slider = widgets.FloatSlider(continuous_update=False, wait=True, value=11.2, min=10, max=100, step=0.1, description=\"Fe (g)\", style=style)\n",
    "reactant2_slider = widgets.FloatSlider(continuous_update=False, wait=True, value=21.3, min=10, max=100, step=0.1, description=\"Cl\" + chr(0x2082) + \" (g)\", style=style)\n",
    "calc = widgets.Button(description=\"Calculate LR and Excess\", layout=Layout(width='20%', height='88%'),button_style='success')\n",
    "###########################################\n",
    "\n",
    "display(VBox([reactant1_slider, reactant2_slider, calc]))\n",
    "\n",
    "#############################################\n",
    "\n",
    "def on_submit_button_clicked(b):\n",
    "    #Answers\n",
    "    Fe_first = reactant1_slider.value * (1/55.85) * (3/2) * (70.9/1)\n",
    "    Cl_first = reactant2_slider.value * (1/70.9) * (2/3) * (55.85/1)\n",
    "\n",
    "    if reactant2_slider.value > Fe_first:\n",
    "        LR1 = \"Fe\"\n",
    "        Excess1 = \"Cl\" + chr(0x2082)\n",
    "        amount_excess1 = round(reactant2_slider.value - Fe_first,1)\n",
    "        mass_product1 = round(reactant1_slider.value * (1/55.85) * (2/2) * (162.2/1),1)\n",
    "    else:\n",
    "        amount_excess1 = round(reactant1_slider.value - Cl_first,1)\n",
    "        if amount_excess1 == 0:\n",
    "            LR1 = \"None\"\n",
    "            Excess1 = \"None\"\n",
    "        else:\n",
    "            LR1 = \"Cl\" + chr(0x2082)\n",
    "            Excess1 = \"Fe\"\n",
    "        \n",
    "        mass_product1 = round(reactant2_slider.value * (1/32) * (2/1) * (18.016/1),1)\n",
    "    \n",
    "    with out_text:\n",
    "        clear_output()\n",
    "        text_answer1 = widgets.HTMLMath(value=r\"LR: {}; Excess: {}, Mass of Excess: {} g; Mass of Product: {} g\".format(LR1, Excess1, str(amount_excess1), str(mass_product1)))    \n",
    "        display(text_answer1)\n",
    "\n",
    "### Widget Interaction Function Calls ###\n",
    "calc.on_click(on_submit_button_clicked)\n",
    "\n",
    "display(out_text)"
   ]
  },
  {
   "cell_type": "markdown",
   "metadata": {},
   "source": [
    "### Practice\n",
    "\n",
    "Given the following reaction:\n",
    "\n",
    "$$ 2\\text{H}_2 + \\text{O}_2 \\rightarrow 2\\text{H}_2 O$$\n",
    "\n",
    "Determine which reactant is in excess and which is limiting and calculate the mass of the excess and product. Round all answers to one decimal place. The mass of the reactants are given below."
   ]
  },
  {
   "cell_type": "code",
   "execution_count": 19,
   "metadata": {
    "tags": [
     "hide-input"
    ]
   },
   "outputs": [
    {
     "data": {
      "application/vnd.jupyter.widget-view+json": {
       "model_id": "c1d51873b3e34697897065826e64e80f",
       "version_major": 2,
       "version_minor": 0
      },
      "text/plain": [
       "Button(button_style='success', description='Generate New Question', layout=Layout(height='100%', width='20%'),…"
      ]
     },
     "metadata": {},
     "output_type": "display_data"
    },
    {
     "name": "stdout",
     "output_type": "stream",
     "text": [
      "Starting amount of hydrogen: 52.6 g; Starting amount of oxygen: 158.4 g\n",
      "\u001b[1m(A) \u001b[0;0mLR: O₂; Excess: H₂, Mass of Excess: 36.6 g; Mass of Product: 225.4 g\n",
      "\u001b[1m(B) \u001b[0;0mLR: O₂; Excess: H₂, Mass of Excess: 32.6 g; Mass of Product: 178.4 g\n",
      "\u001b[1m(C) \u001b[0;0mLR: H₂; Excess: O₂, Mass of Excess: 51.6 g; Mass of Product: 209.4 g\n",
      "\u001b[1m(D) \u001b[0;0mLR: H₂; Excess: O₂, Mass of Excess: 53.6 g; Mass of Product: 219.4 g\n"
     ]
    },
    {
     "data": {
      "application/vnd.jupyter.widget-view+json": {
       "model_id": "9077319469cc4773a2baca3861e3123f",
       "version_major": 2,
       "version_minor": 0
      },
      "text/plain": [
       "HBox(children=(Button(description='(A)', style=ButtonStyle(button_color='Whitesmoke')), Button(description='(B…"
      ]
     },
     "metadata": {},
     "output_type": "display_data"
    },
    {
     "name": "stdout",
     "output_type": "stream",
     "text": [
      " \r"
     ]
    }
   ],
   "source": [
    "#from IPython.display import Javascript, display\n",
    "#from ipywidgets import widgets\n",
    "\n",
    "def generate_new_question(ev):\n",
    "    display(Javascript('IPython.notebook.execute_cell()'))\n",
    "\n",
    "button_generate_question = widgets.Button(description=\"Generate New Question\", layout=Layout(width='20%', height='100%'), button_style='success')\n",
    "button_generate_question.on_click(generate_new_question)\n",
    "display(button_generate_question)\n",
    "\n",
    "#Randomize variables\n",
    "H_amount = round(random.uniform(10.0, 100.0), 1)\n",
    "O_amount = round(random.uniform(10.0, 200.0), 1)\n",
    "\n",
    "amount_sentence = \"Starting amount of hydrogen: {} g; Starting amount of oxygen: {} g\".format(H_amount, O_amount)\n",
    "print(amount_sentence)\n",
    "\n",
    "#Answers\n",
    "H_first = H_amount * (1/2.016) * (1/2) * (32/1)\n",
    "O_first = O_amount * (1/32) * (2/1) * (2.016/1)\n",
    "\n",
    "if O_amount > H_first:\n",
    "    LR = \"H\" + chr(0x2082)\n",
    "    Excess = \"O\" + chr(0x2082)\n",
    "    amount_excess = round(O_amount - H_first,1)\n",
    "    mass_product = round(H_amount * (1/32) * (2/2) * (18.016/1),1)\n",
    "else:\n",
    "    LR = \"O\" + chr(0x2082)\n",
    "    Excess = \"H\" + chr(0x2082)\n",
    "    amount_excess = round(H_amount - O_first,1)\n",
    "    mass_product = round(O_amount * (1/32) * (2/1) * (18.016/1),1)\n",
    "\n",
    "#Random Variations in Answer\n",
    "wrong_answers = random.sample(range(1, 50), 6)\n",
    "\n",
    "#Assign each multiple choice to these four variables\n",
    "#Option_1 contains the answer\n",
    "option_1 = \"LR: {}; Excess: {}, Mass of Excess: {} g; Mass of Product: {} g\".format(LR, Excess, str(amount_excess), str(mass_product))    \n",
    "option_2 = \"LR: {}; Excess: {}, Mass of Excess: {} g; Mass of Product: {} g\".format(LR, Excess, str(amount_excess + wrong_answers[0]), str(mass_product + wrong_answers[1]))    \n",
    "option_3 = \"LR: {}; Excess: {}, Mass of Excess: {} g; Mass of Product: {} g\".format(Excess, LR, str(amount_excess + wrong_answers[2]), str(mass_product + wrong_answers[3]))    \n",
    "option_4 = \"LR: {}; Excess: {}, Mass of Excess: {} g; Mass of Product: {} g\".format(Excess, LR, str(amount_excess + wrong_answers[4]), str(mass_product + wrong_answers[5]))    \n",
    "\n",
    "multiple_choice(option_1, option_2, option_3, option_4)"
   ]
  },
  {
   "cell_type": "markdown",
   "metadata": {},
   "source": [
    "### Additional Resource\n",
    "\n",
    "If you're still confused regarding the material above, this video should clear things up."
   ]
  },
  {
   "cell_type": "code",
   "execution_count": 20,
   "metadata": {
    "tags": [
     "hide-input"
    ]
   },
   "outputs": [
    {
     "data": {
      "image/jpeg": "[encoded data removed]",
      "text/html": [
       "\n",
       "<iframe\n",
       "    width=\"400\"\n",
       "    height=\"300\"\n",
       "    src=\"https://www.youtube.com/embed/pdoBH6Cg__o\"\n",
       "    frameborder=\"0\"\n",
       "    allowfullscreen\n",
       "></iframe>\n"
      ],
      "text/plain": [
       "<IPython.lib.display.YouTubeVideo at 0x7fb6b6fdccd0>"
      ]
     },
     "execution_count": 20,
     "metadata": {
      "filenames": {
       "image/jpeg": "/home/mikel/Documents/curriculum-jbook-local/_build/jupyter_execute/curriculum-notebooks/Science/StoichiometryAndLimitingReactants/stoichiometry-and-limiting-reactants_41_0.jpeg"
      }
     },
     "output_type": "execute_result"
    }
   ],
   "source": [
    "from IPython.display import YouTubeVideo\n",
    "YouTubeVideo('pdoBH6Cg__o')"
   ]
  },
  {
   "cell_type": "markdown",
   "metadata": {},
   "source": [
    "## Conclusion\n",
    "\n",
    "- **Stoichiometry** is the calculation of relative quantities of reactants and products in chemical reactions. It allows us to:\n",
    "    - Predict how much product will form in chemical reactions.\n",
    "    - Determine which reactant is in excess and which is limiting.\n",
    "\n",
    "\n",
    "- The coefficients in a balanced chemical equation indicate both the relative numbers of molecules in the reaction and the relative number of moles.\n",
    "\n",
    "\n",
    "- A **limiting reactant** is the reactant that is completely consumed in a reaction. It will determine, or limit, the amount of product formed.\n",
    "\n",
    "\n",
    "- **Excess reactants** are reactants that are added to a reaction in larger than necessary amounts.\n",
    "\n",
    "\n",
    "- Use the **three step process** outlined above to determine which reactant is limiting, in excess, and to determine the mass of the products.\n",
    "\n",
    "*Images and content in this notebook are by [DanPalmarin](https://palmarin.weebly.com)*"
   ]
  },
  {
   "cell_type": "code",
   "execution_count": 21,
   "metadata": {
    "scrolled": true,
    "tags": [
     "hide-input"
    ]
   },
   "outputs": [
    {
     "data": {
      "text/html": [
       "\n",
       "<script>\n",
       "  function code_toggle() {\n",
       "    if (code_shown){\n",
       "      $('div.input').hide('500');\n",
       "      $('#toggleButton').val('Show Code')\n",
       "    } else {\n",
       "      $('div.input').show('500');\n",
       "      $('#toggleButton').val('Hide Code')\n",
       "    }\n",
       "    code_shown = !code_shown\n",
       "  }\n",
       "\n",
       "  $( document ).ready(function(){\n",
       "    code_shown=false;\n",
       "    $('div.input').hide()\n",
       "  });\n",
       "</script>\n",
       "<form action=\"javascript:code_toggle()\"><input type=\"submit\" id=\"toggleButton\" value=\"Show Code\"></form>\n"
      ],
      "text/plain": [
       "<IPython.core.display.HTML object>"
      ]
     },
     "metadata": {},
     "output_type": "display_data"
    }
   ],
   "source": [
    "%%html\n",
    "\n",
    "<script>\n",
    "  function code_toggle() {\n",
    "    if (code_shown){\n",
    "      $('div.input').hide('500');\n",
    "      $('#toggleButton').val('Show Code')\n",
    "    } else {\n",
    "      $('div.input').show('500');\n",
    "      $('#toggleButton').val('Hide Code')\n",
    "    }\n",
    "    code_shown = !code_shown\n",
    "  }\n",
    "\n",
    "  $( document ).ready(function(){\n",
    "    code_shown=false;\n",
    "    $('div.input').hide()\n",
    "  });\n",
    "</script>\n",
    "<form action=\"javascript:code_toggle()\"><input type=\"submit\" id=\"toggleButton\" value=\"Show Code\"></form>"
   ]
  },
  {
   "cell_type": "markdown",
   "metadata": {},
   "source": [
    "[![Callysto.ca License](https://github.com/callysto/curriculum-notebooks/blob/master/callysto-notebook-banner-bottom.jpg?raw=true)](https://github.com/callysto/curriculum-notebooks/blob/master/LICENSE.md)"
   ]
  }
 ],
 "metadata": {
  "celltoolbar": "Edit Metadata",
  "kernelspec": {
   "display_name": "Python 3",
   "language": "python",
   "name": "python3"
  },
  "language_info": {
   "codemirror_mode": {
    "name": "ipython",
    "version": 3
   },
   "file_extension": ".py",
   "mimetype": "text/x-python",
   "name": "python",
   "nbconvert_exporter": "python",
   "pygments_lexer": "ipython3",
   "version": "3.7.4"
  }
 },
 "nbformat": 4,
 "nbformat_minor": 2
}