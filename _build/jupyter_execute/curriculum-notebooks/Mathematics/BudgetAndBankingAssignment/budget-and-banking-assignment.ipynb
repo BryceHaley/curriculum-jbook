{
 "cells": [
  {
   "cell_type": "markdown",
   "metadata": {},
   "source": [
    "![Callysto.ca Banner](https://github.com/callysto/curriculum-notebooks/blob/master/callysto-notebook-banner-top.jpg?raw=true)\n",
    "\n",
    "<a href=\"https://hub.callysto.ca/jupyter/hub/user-redirect/git-pull?repo=https%3A%2F%2Fgithub.com%2Fcallysto%2Fcurriculum-notebooks&branch=master&subPath=Mathematics/BudgetAndBankingAssignment/budget-and-banking-assignment.ipynb&depth=1\" target=\"_parent\"><img src=\"https://raw.githubusercontent.com/callysto/curriculum-notebooks/master/open-in-callysto-button.svg?sanitize=true\" width=\"123\" height=\"24\" alt=\"Open in Callysto\"/></a>"
   ]
  },
  {
   "cell_type": "code",
   "execution_count": 1,
   "metadata": {
    "tags": [
     "hide-input"
    ]
   },
   "outputs": [
    {
     "data": {
      "text/html": [
       "\n",
       "<script>\n",
       "  function code_toggle() {\n",
       "    if (code_shown){\n",
       "      $('div.input').hide('500');\n",
       "      $('#toggleButton').val('Show Code')\n",
       "    } else {\n",
       "      $('div.input').show('500');\n",
       "      $('#toggleButton').val('Hide Code')\n",
       "    }\n",
       "    code_shown = !code_shown\n",
       "  }\n",
       "\n",
       "  $( document ).ready(function(){\n",
       "    code_shown=false;\n",
       "    $('div.input').hide()\n",
       "  });\n",
       "</script>\n",
       "<p> Code is hidden for ease of viewing. Click the Show/Hide button to see. </>\n",
       "<form action=\"javascript:code_toggle()\"><input type=\"submit\" id=\"toggleButton\" value=\"Show Code\"></form>\n"
      ],
      "text/plain": [
       "<IPython.core.display.HTML object>"
      ]
     },
     "metadata": {},
     "output_type": "display_data"
    }
   ],
   "source": [
    "%%html\n",
    "\n",
    "<script>\n",
    "  function code_toggle() {\n",
    "    if (code_shown){\n",
    "      $('div.input').hide('500');\n",
    "      $('#toggleButton').val('Show Code')\n",
    "    } else {\n",
    "      $('div.input').show('500');\n",
    "      $('#toggleButton').val('Hide Code')\n",
    "    }\n",
    "    code_shown = !code_shown\n",
    "  }\n",
    "\n",
    "  $( document ).ready(function(){\n",
    "    code_shown=false;\n",
    "    $('div.input').hide()\n",
    "  });\n",
    "</script>\n",
    "<p> Code is hidden for ease of viewing. Click the Show/Hide button to see. </>\n",
    "<form action=\"javascript:code_toggle()\"><input type=\"submit\" id=\"toggleButton\" value=\"Show Code\"></form>"
   ]
  },
  {
   "cell_type": "code",
   "execution_count": 2,
   "metadata": {
    "collapsed": true,
    "tags": [
     "hide-input"
    ]
   },
   "outputs": [],
   "source": [
    "# Modules\n",
    "\n",
    "import string\n",
    "import numpy as np\n",
    "import pandas as pd\n",
    "import qgrid as q\n",
    "import matplotlib.pyplot as plt\n",
    "\n",
    "# Widgets & Display modules, etc..\n",
    "\n",
    "from ipywidgets import widgets as w\n",
    "from ipywidgets import Button, Layout\n",
    "from IPython.display import display, Javascript, Markdown, HTML\n",
    "\n",
    "# grid features for interactive grids \n",
    "\n",
    "grid_features = { 'fullWidthRows': True,\n",
    "                  'syncColumnCellResize': True,\n",
    "                  'forceFitColumns': True,\n",
    "                  'rowHeight': 40,\n",
    "                  'enableColumnReorder': True,\n",
    "                  'enableTextSelectionOnCells': True,\n",
    "                  'editable': True,\n",
    "                  'filterable': False,\n",
    "                  'sortable': False,\n",
    "                  'highlightSelectedRow': True}"
   ]
  },
  {
   "cell_type": "code",
   "execution_count": 3,
   "metadata": {
    "collapsed": true,
    "tags": [
     "hide-input"
    ]
   },
   "outputs": [],
   "source": [
    "def rerun_cell( b ):\n",
    "    \n",
    "    display(Javascript('IPython.notebook.execute_cell_range(IPython.notebook.get_selected_index()+1,IPython.notebook.get_selected_index()+2)'))    \n",
    "\n",
    "def check_answers(series_input,answer_list):\n",
    "    \n",
    "    # convert valid answer list to string format \n",
    "    \n",
    "    valid_answers = \"\"\n",
    "    \n",
    "    for item in answer_list:\n",
    "        \n",
    "        valid_answers = valid_answers + item + \",\"\n",
    "        \n",
    "    valid_answers = valid_answers[:len(valid_answers)-1]\n",
    "    \n",
    "    # compare student's answers to answer list\n",
    "        \n",
    "    for entry in series_input:\n",
    "        \n",
    "        if(entry != '' and entry not in answer_list):\n",
    "            \n",
    "            # display(Markdown(\"Some of your inputs are invalid. Please enter valid inputs from the following: \", valid_answers))\n",
    "            \n",
    "            return 0\n",
    "        \n",
    "    return 1"
   ]
  },
  {
   "cell_type": "code",
   "execution_count": 4,
   "metadata": {
    "scrolled": true,
    "tags": [
     "hide-input"
    ]
   },
   "outputs": [
    {
     "data": {
      "application/vnd.jupyter.widget-view+json": {
       "model_id": "b4fa66752f9641e8b1b1d914dc63e3cd",
       "version_major": 2,
       "version_minor": 0
      },
      "text/plain": [
       "Textarea(value='', layout=Layout(height='32.5px', width='30%'), placeholder='STUDENT NAME')"
      ]
     },
     "metadata": {},
     "output_type": "display_data"
    },
    {
     "data": {
      "application/vnd.jupyter.widget-view+json": {
       "model_id": "9716b0bfd12c4ecbb05aec4a9636efef",
       "version_major": 2,
       "version_minor": 0
      },
      "text/plain": [
       "Textarea(value='', layout=Layout(height='32.5px', width='30%'), placeholder='DATE')"
      ]
     },
     "metadata": {},
     "output_type": "display_data"
    },
    {
     "data": {
      "application/vnd.jupyter.widget-view+json": {
       "model_id": "0ff47d06444f4f1d80cf07d373a86fb0",
       "version_major": 2,
       "version_minor": 0
      },
      "text/plain": [
       "Button(button_style='info', description='Save', layout=Layout(height='30px', width='15%'), style=ButtonStyle()…"
      ]
     },
     "metadata": {},
     "output_type": "display_data"
    }
   ],
   "source": [
    "name_text = w.Textarea( value='', placeholder='STUDENT NAME', description='', disabled=False , layout=Layout(width='30%', height='32.5px') )\n",
    "date_text = w.Textarea( value='', placeholder='DATE', description='', disabled=False , layout=Layout(width='30%', height='32.5px') )\n",
    "profile_button = w.Button(button_style='info',description=\"Save\", layout=Layout(width='15%', height='30px'))\n",
    "\n",
    "display(name_text)\n",
    "display(date_text)\n",
    "display(profile_button)\n",
    "\n",
    "profile_button.on_click( rerun_cell ) "
   ]
  },
  {
   "cell_type": "code",
   "execution_count": 5,
   "metadata": {
    "collapsed": true,
    "tags": [
     "hide-input"
    ]
   },
   "outputs": [],
   "source": [
    "name = name_text.value\n",
    "date = date_text.value\n",
    "\n",
    "name_saved = False\n",
    "date_saved = False\n",
    "\n",
    "if(name != ''):\n",
    "    \n",
    "    name_text.close()\n",
    "    display(Markdown(\"### Student Name: $\\hspace{1.5cm}$\"+ name ))\n",
    "    name_saved = True\n",
    "    \n",
    "if(date != ''):\n",
    "    \n",
    "    date_text.close()\n",
    "    display(Markdown(\"### $\\hspace{2.15cm}$Date: $\\hspace{1.5cm}$\"+ date ))\n",
    "    date_saved = True\n",
    "    \n",
    "if(name_saved == True and date_saved == True):\n",
    "    \n",
    "    profile_button.close()"
   ]
  },
  {
   "cell_type": "markdown",
   "metadata": {},
   "source": [
    "# Budget and Banking\n",
    "\n",
    "## Assignment Lesson 1"
   ]
  },
  {
   "cell_type": "code",
   "execution_count": 6,
   "metadata": {
    "collapsed": true,
    "tags": [
     "hide-input"
    ]
   },
   "outputs": [],
   "source": [
    "answers_recorded = 0\n",
    "q1_answered = 0\n",
    "q2_answered = 0\n",
    "q3a_answered = 0\n",
    "q3b_answered = 0\n",
    "q3c_answered = 0\n",
    "q3d_answered = 0"
   ]
  },
  {
   "cell_type": "markdown",
   "metadata": {},
   "source": [
    "For question 1 and 2, choose the best answer.\n",
    "\n",
    "**Question 1.** A good reason for preparing a budget"
   ]
  },
  {
   "cell_type": "code",
   "execution_count": 7,
   "metadata": {
    "scrolled": true,
    "tags": [
     "hide-input"
    ]
   },
   "outputs": [
    {
     "data": {
      "application/vnd.jupyter.widget-view+json": {
       "model_id": "6e85a4a3251245fd86b3f0fc6194da7f",
       "version_major": 2,
       "version_minor": 0
      },
      "text/plain": [
       "RadioButtons(layout=Layout(width='100%'), options=('a.) Running out of money each month', 'b.) To reduce debt'…"
      ]
     },
     "metadata": {},
     "output_type": "display_data"
    }
   ],
   "source": [
    "if(q1_answered == 1):\n",
    "    \n",
    "    q1_answered += 1\n",
    "    q1_student_answer = q1_choices.value\n",
    "    correct_answer = 'd.) All the above are good reasons for preparing a budget'\n",
    "    \n",
    "    if(q1_student_answer == correct_answer):\n",
    "        \n",
    "        display(Markdown(\"### You answered: \"))\n",
    "        display(Markdown(q1_student_answer))\n",
    "        \n",
    "        display(Markdown(\"This is correct!\"))\n",
    "        \n",
    "    else:\n",
    "        \n",
    "        display(Markdown(\"### You answered: \"))\n",
    "        display(Markdown(q1_student_answer))\n",
    "\n",
    "        display(Markdown(\"This is incorrect.\"))\n",
    "        display(Markdown(\"### Correct answer: \"))\n",
    "        display(Markdown(correct_answer))\n",
    "        \n",
    "else:\n",
    "    \n",
    "    # Question 1 Answer Choices\n",
    "\n",
    "    choice_1 = 'a.) Running out of money each month'\n",
    "    choice_2 = 'b.) To reduce debt'\n",
    "    choice_3 = 'c.) To save for something special'\n",
    "    choice_4 = 'd.) All the above are good reasons for preparing a budget'\n",
    "\n",
    "    answer_choices = [ choice_1,choice_2,choice_3,choice_4 ]\n",
    "\n",
    "    # Question 1 choices widget \n",
    "\n",
    "    q1_choices = w.RadioButtons( options=answer_choices , description=\"\" , disabled=False , layout=Layout(width='100%'))\n",
    "    display(q1_choices)"
   ]
  },
  {
   "cell_type": "code",
   "execution_count": 8,
   "metadata": {
    "tags": [
     "hide-input"
    ]
   },
   "outputs": [
    {
     "data": {
      "application/vnd.jupyter.widget-view+json": {
       "model_id": "7b3316f438684e9f8b7a254848f512c8",
       "version_major": 2,
       "version_minor": 0
      },
      "text/plain": [
       "Button(button_style='info', description='Record Answer', layout=Layout(height='30px', width='15%'), style=Butt…"
      ]
     },
     "metadata": {},
     "output_type": "display_data"
    }
   ],
   "source": [
    "q1_answered += 1\n",
    "\n",
    "def record_answer(button_widget):\n",
    "    \n",
    "    display(Javascript('IPython.notebook.execute_cell_range( IPython.notebook.get_selected_index()-1 , IPython.notebook.get_selected_index()+1) '))    \n",
    "    q1_choices.close()\n",
    "    \n",
    "if(q1_answered >= 2):\n",
    "    \n",
    "    q1_button.close()\n",
    "    \n",
    "else:\n",
    "    \n",
    "    q1_button = w.Button(button_style='info',description=\"Record Answer\", layout=Layout(width='15%', height='30px'))\n",
    "    q1_button.on_click( record_answer ) \n",
    "    display(q1_button)"
   ]
  },
  {
   "cell_type": "markdown",
   "metadata": {},
   "source": [
    "**Question 2.** Which equation best describes gross and net pay?"
   ]
  },
  {
   "cell_type": "code",
   "execution_count": 9,
   "metadata": {
    "scrolled": true,
    "tags": [
     "hide-input"
    ]
   },
   "outputs": [
    {
     "data": {
      "application/vnd.jupyter.widget-view+json": {
       "model_id": "9cf35d52fa154ee6978433635af045fc",
       "version_major": 2,
       "version_minor": 0
      },
      "text/plain": [
       "RadioButtons(layout=Layout(width='100%'), options=('a.) Gross Pay = Net Pay - Deductions', 'b.) Net Pay = Gros…"
      ]
     },
     "metadata": {},
     "output_type": "display_data"
    }
   ],
   "source": [
    "if(q2_answered == 1):\n",
    "    \n",
    "    q2_answered += 1\n",
    "    q2_student_answer = q2_choices.value\n",
    "    correct_answer = 'b.) Net Pay = Gross Pay - Deductions'\n",
    "    \n",
    "    if(q2_student_answer == correct_answer):\n",
    "\n",
    "        display(Markdown(\"### You answered: \"))\n",
    "        display(Markdown(q2_student_answer))\n",
    "        \n",
    "        display(Markdown(\"This is correct!\"))\n",
    "        \n",
    "    else:\n",
    "        \n",
    "        display(Markdown(\"### You answered: \"))\n",
    "        display(Markdown(q2_student_answer))\n",
    "\n",
    "        display(Markdown(\"This is incorrect.\"))\n",
    "        display(Markdown(\"### Correct answer: \"))\n",
    "        display(Markdown(correct_answer))\n",
    "    \n",
    "else:\n",
    "\n",
    "    # Question 2 Answer Choices\n",
    "\n",
    "    choice_1 = 'a.) Gross Pay = Net Pay - Deductions'\n",
    "    choice_2 = 'b.) Net Pay = Gross Pay - Deductions'\n",
    "    choice_3 = 'c.) Gross Pay = Net Pay ÷ Deductions'\n",
    "    choice_4 = 'd.) Net Pay = Gross Pay ÷ Deductions'\n",
    "\n",
    "    answer_choices = [ choice_1,choice_2,choice_3,choice_4 ]\n",
    "\n",
    "    q2_choices = w.RadioButtons( options=answer_choices , description=\"\" , disabled=False , layout=Layout(width='100%'))\n",
    "    display(q2_choices)"
   ]
  },
  {
   "cell_type": "code",
   "execution_count": 10,
   "metadata": {
    "tags": [
     "hide-input"
    ]
   },
   "outputs": [
    {
     "data": {
      "application/vnd.jupyter.widget-view+json": {
       "model_id": "e57435f907054c70be94e307a520e258",
       "version_major": 2,
       "version_minor": 0
      },
      "text/plain": [
       "Button(button_style='info', description='Record Answer', layout=Layout(height='30px', width='15%'), style=Butt…"
      ]
     },
     "metadata": {},
     "output_type": "display_data"
    }
   ],
   "source": [
    "q2_answered += 1\n",
    "\n",
    "def record_answer(button_widget):\n",
    "    \n",
    "    display(Javascript('IPython.notebook.execute_cell_range( IPython.notebook.get_selected_index()-1 , IPython.notebook.get_selected_index()+1) '))    \n",
    "    q2_choices.close()\n",
    "    \n",
    "if(q2_answered >= 2):\n",
    "    \n",
    "    q2_button.close()\n",
    "    \n",
    "else:\n",
    "    \n",
    "    q2_button = w.Button(button_style='info',description=\"Record Answer\", layout=Layout(width='15%', height='30px'))\n",
    "    q2_button.on_click( record_answer ) \n",
    "    display(q2_button)"
   ]
  },
  {
   "cell_type": "markdown",
   "metadata": {},
   "source": [
    "**Question 3.** Label the following incomes as **fixed** or **variable**. Explain reasons for each.\n",
    "\n",
    "$\\hspace{0.35cm}$**a.)** Lloyd earns $50.00 for every set of knife he sells."
   ]
  },
  {
   "cell_type": "code",
   "execution_count": 11,
   "metadata": {
    "tags": [
     "hide-input"
    ]
   },
   "outputs": [
    {
     "data": {
      "application/vnd.jupyter.widget-view+json": {
       "model_id": "200ee67691b946f49130fa7f66688251",
       "version_major": 2,
       "version_minor": 0
      },
      "text/plain": [
       "RadioButtons(layout=Layout(width='100%'), options=('Fixed', 'Variable'), value='Fixed')"
      ]
     },
     "metadata": {},
     "output_type": "display_data"
    }
   ],
   "source": [
    "if(q3a_answered == 1):\n",
    "    \n",
    "    q3a_answered += 1\n",
    "    q3a_student_answer = q3a_choices.value\n",
    "    correct_answer = 'Variable'\n",
    "\n",
    "    if(q3a_student_answer == correct_answer):\n",
    "        \n",
    "        display(Markdown(\"### You answered: \"))\n",
    "        display(Markdown(q3a_student_answer))\n",
    "        \n",
    "        display(Markdown(\"This is correct!\"))\n",
    "        \n",
    "    else:\n",
    "        \n",
    "        display(Markdown(\"### You answered: \"))\n",
    "        display(Markdown(q3a_student_answer))\n",
    "\n",
    "        display(Markdown(\"This is incorrect.\"))\n",
    "        display(Markdown(\"### Correct answer: \"))\n",
    "        display(Markdown(correct_answer))\n",
    "    \n",
    "else:\n",
    "\n",
    "    # Question 3.a Answer Choices\n",
    "\n",
    "    choice_1 = 'Fixed'\n",
    "    choice_2 = 'Variable'\n",
    "\n",
    "    answer_choices = [ choice_1,choice_2 ]\n",
    "\n",
    "    q3a_choices = w.RadioButtons( options=answer_choices , description=\"\" , disabled=False , layout=Layout(width='100%'))\n",
    "    display(q3a_choices)"
   ]
  },
  {
   "cell_type": "code",
   "execution_count": 12,
   "metadata": {
    "tags": [
     "hide-input"
    ]
   },
   "outputs": [
    {
     "data": {
      "application/vnd.jupyter.widget-view+json": {
       "model_id": "c45dadb6b96a40b09742d796dbff8ee2",
       "version_major": 2,
       "version_minor": 0
      },
      "text/plain": [
       "Button(button_style='info', description='Record Answer', layout=Layout(height='30px', width='15%'), style=Butt…"
      ]
     },
     "metadata": {},
     "output_type": "display_data"
    }
   ],
   "source": [
    "q3a_answered += 1\n",
    "\n",
    "def record_answer(button_widget):\n",
    "    \n",
    "    display(Javascript('IPython.notebook.execute_cell_range( IPython.notebook.get_selected_index()-1 , IPython.notebook.get_selected_index()+1) '))    \n",
    "    q3a_choices.close()\n",
    "    \n",
    "if(q3a_answered >= 2):\n",
    "    \n",
    "    q3a_button.close()\n",
    "    \n",
    "else:\n",
    "    \n",
    "    q3a_button = w.Button(button_style='info',description=\"Record Answer\", layout=Layout(width='15%', height='30px'))\n",
    "    q3a_button.on_click( record_answer ) \n",
    "    display(q3a_button)"
   ]
  },
  {
   "cell_type": "markdown",
   "metadata": {},
   "source": [
    "$\\hspace{0.35cm}$**b.)** Each month, Florence is paid 4.5% commission on her first $1,500.00 in sales. If she makes more than this, Florence is paid 6% in commission."
   ]
  },
  {
   "cell_type": "code",
   "execution_count": 13,
   "metadata": {
    "tags": [
     "hide-input"
    ]
   },
   "outputs": [
    {
     "data": {
      "application/vnd.jupyter.widget-view+json": {
       "model_id": "d2608941c73e41d49b93af0f892dc04c",
       "version_major": 2,
       "version_minor": 0
      },
      "text/plain": [
       "RadioButtons(layout=Layout(width='100%'), options=('Fixed', 'Variable'), value='Fixed')"
      ]
     },
     "metadata": {},
     "output_type": "display_data"
    }
   ],
   "source": [
    "if(q3b_answered == 1):\n",
    "    \n",
    "    q3b_answered += 1\n",
    "    q3b_student_answer = q3b_choices.value\n",
    "    correct_answer = 'Variable'\n",
    "    \n",
    "    if(q3b_student_answer == correct_answer):\n",
    "        \n",
    "        display(Markdown(\"### You answered: \"))\n",
    "        display(Markdown(q3b_student_answer))\n",
    "        \n",
    "        display(Markdown(\"This is correct!\"))\n",
    "        \n",
    "    else:\n",
    "        \n",
    "        display(Markdown(\"### You answered: \"))\n",
    "        display(Markdown(q3b_student_answer))\n",
    "\n",
    "        display(Markdown(\"This is incorrect.\"))\n",
    "        display(Markdown(\"### Correct answer: \"))\n",
    "        display(Markdown(correct_answer))\n",
    "    \n",
    "else:\n",
    "\n",
    "    # Question 3.b Answer Choices\n",
    "\n",
    "    choice_1 = 'Fixed'\n",
    "    choice_2 = 'Variable'\n",
    "\n",
    "    answer_choices = [ choice_1,choice_2 ]\n",
    "\n",
    "    q3b_choices = w.RadioButtons( options=answer_choices , description=\"\" , disabled=False , layout=Layout(width='100%'))\n",
    "    display(q3b_choices)"
   ]
  },
  {
   "cell_type": "code",
   "execution_count": 14,
   "metadata": {
    "tags": [
     "hide-input"
    ]
   },
   "outputs": [
    {
     "data": {
      "application/vnd.jupyter.widget-view+json": {
       "model_id": "d14128109a1740ee806fa2d7314aa7a0",
       "version_major": 2,
       "version_minor": 0
      },
      "text/plain": [
       "Button(button_style='info', description='Record Answer', layout=Layout(height='30px', width='15%'), style=Butt…"
      ]
     },
     "metadata": {},
     "output_type": "display_data"
    }
   ],
   "source": [
    "q3b_answered += 1\n",
    "\n",
    "def record_answer(button_widget):\n",
    "    \n",
    "    display(Javascript('IPython.notebook.execute_cell_range( IPython.notebook.get_selected_index()-1 , IPython.notebook.get_selected_index()+1) '))    \n",
    "    q3b_choices.close()\n",
    "    \n",
    "if(q3b_answered >= 2):\n",
    "    \n",
    "    q3b_button.close()\n",
    "    \n",
    "else:\n",
    "    \n",
    "    q3b_button = w.Button(button_style='info',description=\"Record Answer\", layout=Layout(width='15%', height='30px'))\n",
    "    q3b_button.on_click( record_answer ) \n",
    "    display(q3b_button)"
   ]
  },
  {
   "cell_type": "markdown",
   "metadata": {},
   "source": [
    "$\\hspace{0.35cm}$**c.)** Corinne works 40 hours a week at $17.00 an hour. She is paid bi-weekly (every two weeks)."
   ]
  },
  {
   "cell_type": "code",
   "execution_count": 15,
   "metadata": {
    "tags": [
     "hide-input"
    ]
   },
   "outputs": [
    {
     "data": {
      "application/vnd.jupyter.widget-view+json": {
       "model_id": "6f5aad3835654ae6acf7ba38f9c7d76e",
       "version_major": 2,
       "version_minor": 0
      },
      "text/plain": [
       "RadioButtons(layout=Layout(width='100%'), options=('Fixed', 'Variable'), value='Fixed')"
      ]
     },
     "metadata": {},
     "output_type": "display_data"
    }
   ],
   "source": [
    "if(q3c_answered == 1):\n",
    "    \n",
    "    q3c_answered += 1\n",
    "    q3c_student_answer = q3c_choices.value\n",
    "    correct_answer = 'Fixed'\n",
    "    \n",
    "    if(q3c_student_answer == correct_answer):\n",
    "        \n",
    "        display(Markdown(\"### You answered: \"))\n",
    "        display(Markdown(q3c_student_answer))\n",
    "        \n",
    "        display(Markdown(\"This is correct!\"))\n",
    "        \n",
    "    else:\n",
    "        \n",
    "        display(Markdown(\"### You answered: \"))\n",
    "        display(Markdown(q3c_student_answer))\n",
    "\n",
    "        display(Markdown(\"This is incorrect.\"))\n",
    "        display(Markdown(\"### Correct answer: \"))\n",
    "        display(Markdown(correct_answer))\n",
    "    \n",
    "else:\n",
    "\n",
    "    # Question 3.c Answer Choices\n",
    "\n",
    "    choice_1 = 'Fixed'\n",
    "    choice_2 = 'Variable'\n",
    "\n",
    "    answer_choices = [ choice_1,choice_2 ]\n",
    "\n",
    "    q3c_choices = w.RadioButtons( options=answer_choices , description=\"\" , disabled=False , layout=Layout(width='100%'))\n",
    "    display(q3c_choices)"
   ]
  },
  {
   "cell_type": "code",
   "execution_count": 16,
   "metadata": {
    "tags": [
     "hide-input"
    ]
   },
   "outputs": [
    {
     "data": {
      "application/vnd.jupyter.widget-view+json": {
       "model_id": "cfd222875fc943d3a0d7d0acc32cc876",
       "version_major": 2,
       "version_minor": 0
      },
      "text/plain": [
       "Button(button_style='info', description='Record Answer', layout=Layout(height='30px', width='15%'), style=Butt…"
      ]
     },
     "metadata": {},
     "output_type": "display_data"
    }
   ],
   "source": [
    "q3c_answered += 1\n",
    "\n",
    "def record_answer(button_widget):\n",
    "    \n",
    "    display(Javascript('IPython.notebook.execute_cell_range( IPython.notebook.get_selected_index()-1 , IPython.notebook.get_selected_index()+1) '))    \n",
    "    q3c_choices.close()\n",
    "    \n",
    "if(q3c_answered >= 2):\n",
    "    \n",
    "    q3c_button.close()\n",
    "    \n",
    "else:\n",
    "    \n",
    "    q3c_button = w.Button(button_style='info',description=\"Record Answer\", layout=Layout(width='15%', height='30px'))\n",
    "    q3c_button.on_click( record_answer ) \n",
    "    display(q3c_button)"
   ]
  },
  {
   "cell_type": "markdown",
   "metadata": {},
   "source": [
    "$\\hspace{0.35cm}$**d.)** Gord earns a salary of $3,000.00 each month."
   ]
  },
  {
   "cell_type": "code",
   "execution_count": 17,
   "metadata": {
    "tags": [
     "hide-input"
    ]
   },
   "outputs": [
    {
     "data": {
      "application/vnd.jupyter.widget-view+json": {
       "model_id": "17338f41a10944468d656ac816cbfd3f",
       "version_major": 2,
       "version_minor": 0
      },
      "text/plain": [
       "RadioButtons(layout=Layout(width='100%'), options=('Fixed', 'Variable'), value='Fixed')"
      ]
     },
     "metadata": {},
     "output_type": "display_data"
    }
   ],
   "source": [
    "if(q3d_answered == 1):\n",
    "    \n",
    "    q3d_answered += 1\n",
    "    q3d_student_answer = q3d_choices.value\n",
    "    correct_answer = 'Fixed'\n",
    "    \n",
    "    if(q3d_student_answer == correct_answer):\n",
    "        \n",
    "        display(Markdown(\"### You answered: \"))\n",
    "        display(Markdown(q3d_student_answer))\n",
    "        \n",
    "        display(Markdown(\"This is correct!\"))\n",
    "        \n",
    "    else:\n",
    "        \n",
    "        display(Markdown(\"### You answered: \"))\n",
    "        display(Markdown(q3d_student_answer))\n",
    "\n",
    "        display(Markdown(\"This is incorrect.\"))\n",
    "        display(Markdown(\"### Correct answer: \"))\n",
    "        display(Markdown(correct_answer))\n",
    "    \n",
    "else:\n",
    "\n",
    "    # Question 3.d Answer Choices\n",
    "\n",
    "    choice_1 = 'Fixed'\n",
    "    choice_2 = 'Variable'\n",
    "\n",
    "    answer_choices = [ choice_1,choice_2 ]\n",
    "\n",
    "    q3d_choices = w.RadioButtons( options=answer_choices , description=\"\" , disabled=False , layout=Layout(width='100%'))\n",
    "    display(q3d_choices)"
   ]
  },
  {
   "cell_type": "code",
   "execution_count": 18,
   "metadata": {
    "tags": [
     "hide-input"
    ]
   },
   "outputs": [
    {
     "data": {
      "application/vnd.jupyter.widget-view+json": {
       "model_id": "82f3aa0d743d4b79b353d20ad1013490",
       "version_major": 2,
       "version_minor": 0
      },
      "text/plain": [
       "Button(button_style='info', description='Record Answer', layout=Layout(height='30px', width='15%'), style=Butt…"
      ]
     },
     "metadata": {},
     "output_type": "display_data"
    }
   ],
   "source": [
    "q3d_answered += 1\n",
    "\n",
    "def record_answer(button_widget):\n",
    "    \n",
    "    display(Javascript('IPython.notebook.execute_cell_range( IPython.notebook.get_selected_index()-1 , IPython.notebook.get_selected_index()+1) '))    \n",
    "    q3d_choices.close()\n",
    "    \n",
    "if(q3d_answered >= 2):\n",
    "    \n",
    "    q3d_button.close()\n",
    "    \n",
    "else:\n",
    "    \n",
    "    q3d_button = w.Button(button_style='info',description=\"Record Answer\", layout=Layout(width='15%', height='30px'))\n",
    "    q3d_button.on_click( record_answer ) \n",
    "    display(q3d_button)"
   ]
  },
  {
   "cell_type": "markdown",
   "metadata": {},
   "source": [
    "4) Lian works in a retail store $35$ hours a week. She is paid $\\$12.75$ an hour bi-weekly (every two weeks). Her last paycheque had a deduction of $\\$71.19$ for Income Tax, $\\$35.82$ for CPP, and $\\$14.85$ for EI."
   ]
  },
  {
   "cell_type": "markdown",
   "metadata": {},
   "source": [
    "$\\hspace{1.5cm}$a.) Determine Lian's gross pay for two weeks.\n",
    "\n",
    "**Write your calculations below.** \n",
    "* Valid inputs: Numbers and decimals. \n",
    "* Valid operations: `+,-,*` for addition, subtraction, and multiplication, respectively.\n",
    "\n",
    "**Example input:** `40 * 10 * 2 + 30`"
   ]
  },
  {
   "cell_type": "code",
   "execution_count": 19,
   "metadata": {
    "tags": [
     "hide-input"
    ]
   },
   "outputs": [
    {
     "data": {
      "application/vnd.jupyter.widget-view+json": {
       "model_id": "7ca6fb23fb2d4f1d8e2fdb4a47667df2",
       "version_major": 2,
       "version_minor": 0
      },
      "text/plain": [
       "Textarea(value='', layout=Layout(height='30px', width='100%'), placeholder='Your calculations for Exercise 4.a…"
      ]
     },
     "metadata": {},
     "output_type": "display_data"
    },
    {
     "data": {
      "application/vnd.jupyter.widget-view+json": {
       "model_id": "168243c77d44443b8ea1affcea8e882c",
       "version_major": 2,
       "version_minor": 0
      },
      "text/plain": [
       "Button(button_style='info', description='Calculate', layout=Layout(height='30px', width='15%'), style=ButtonSt…"
      ]
     },
     "metadata": {},
     "output_type": "display_data"
    }
   ],
   "source": [
    "q4a_text = w.Textarea( value='', placeholder='Your calculations for Exercise 4.a.', description='', disabled=False , layout=Layout(width='100%', height='30px') )\n",
    "q4a_button = w.Button(button_style='info',description=\"Calculate\", layout=Layout(width='15%', height='30px'))\n",
    "\n",
    "display(q4a_text)\n",
    "display(q4a_button)\n",
    "\n",
    "q4a_button.on_click( rerun_cell ) "
   ]
  },
  {
   "cell_type": "code",
   "execution_count": 20,
   "metadata": {
    "tags": [
     "hide-input"
    ]
   },
   "outputs": [],
   "source": [
    "# Obtain user's input\n",
    "\n",
    "q4a_input = q4a_text.value\n",
    "\n",
    "# Define the valid character inputs for this exercise\n",
    "\n",
    "numbers = '0123456789'\n",
    "operations = '+-*'\n",
    "others = ' .'\n",
    "valid_inputs = numbers + operations + others\n",
    "\n",
    "# Check if every character in user's string input is valid\n",
    "\n",
    "user_input_valid = all( ch in valid_inputs for ch in q4a_input)\n",
    "\n",
    "# Check for correctness of user's calculation\n",
    "\n",
    "if(q4a_input != '' and user_input_valid == True):\n",
    "    \n",
    "    user_answer = eval(q4a_input)\n",
    "    \n",
    "    display(Markdown(\"### You answered: \"))\n",
    "    display(Markdown(\"$\\$\"+str(round(user_answer,2))+\"$\"))\n",
    "    \n",
    "    if(user_answer == 892.50):\n",
    "    \n",
    "        display(Markdown(\"Your calculation is correct!\"))\n",
    "\n",
    "        q4a_button.close()\n",
    "        q4a_text.close()\n",
    "        \n",
    "    else:\n",
    "        \n",
    "        display(Markdown(\"Your calculation is incorrect. Try again.\"))\n",
    "  \n",
    "if(q4a_input != '' and user_input_valid == False):\n",
    "    \n",
    "    display(Markdown(\"Your answer contains invalid inputs or operations.\"))"
   ]
  },
  {
   "cell_type": "markdown",
   "metadata": {},
   "source": [
    "$\\hspace{1.5cm}$b.) Determine Lian's net pay for two weeks. "
   ]
  },
  {
   "cell_type": "code",
   "execution_count": 21,
   "metadata": {
    "tags": [
     "hide-input"
    ]
   },
   "outputs": [
    {
     "data": {
      "application/vnd.jupyter.widget-view+json": {
       "model_id": "78466164f0524af49c60c86379e03bb7",
       "version_major": 2,
       "version_minor": 0
      },
      "text/plain": [
       "Textarea(value='', layout=Layout(height='30px', width='100%'), placeholder='Your calculations for Exercise 4.b…"
      ]
     },
     "metadata": {},
     "output_type": "display_data"
    },
    {
     "data": {
      "application/vnd.jupyter.widget-view+json": {
       "model_id": "97598bcc65b94735a2895d6619a4be8e",
       "version_major": 2,
       "version_minor": 0
      },
      "text/plain": [
       "Button(button_style='info', description='Calculate', layout=Layout(height='30px', width='15%'), style=ButtonSt…"
      ]
     },
     "metadata": {},
     "output_type": "display_data"
    }
   ],
   "source": [
    "q4b_text = w.Textarea( value='', placeholder='Your calculations for Exercise 4.b.', description='', disabled=False , layout=Layout(width='100%', height='30px') )\n",
    "q4b_button = w.Button(button_style='info',description=\"Calculate\", layout=Layout(width='15%', height='30px'))\n",
    "\n",
    "display(q4b_text)\n",
    "display(q4b_button)\n",
    "\n",
    "q4b_button.on_click( rerun_cell ) "
   ]
  },
  {
   "cell_type": "code",
   "execution_count": 22,
   "metadata": {
    "tags": [
     "hide-input"
    ]
   },
   "outputs": [],
   "source": [
    "# Obtain user's input\n",
    "\n",
    "q4b_input = q4b_text.value\n",
    "\n",
    "# Define the valid character inputs for this exercise\n",
    "\n",
    "numbers = '0123456789'\n",
    "operations = '+-*'\n",
    "others = ' .'\n",
    "valid_inputs = numbers + operations + others\n",
    "\n",
    "# Check if every character in user's string input is valid\n",
    "\n",
    "user_input_valid = all( ch in valid_inputs for ch in q4a_input)\n",
    "\n",
    "# Check for correctness of user's calculation\n",
    "\n",
    "if(q4b_input != '' and user_input_valid == True):\n",
    "    \n",
    "    user_answer = round(eval(q4b_input),2)\n",
    "    correct_answer = round(eval(\"892.5 - 71.19 - 35.82 - 14.85\"),2)\n",
    "    \n",
    "    display(Markdown(\"### You answered: \"))\n",
    "    display(Markdown(\"$\\$\"+str(round(user_answer,2))+\"$\"))\n",
    "    \n",
    "    if(user_answer == correct_answer):\n",
    "\n",
    "        q4b_button.close()\n",
    "        q4b_text.close()\n",
    "        \n",
    "        display(Markdown(\"Your calculation is correct!\"))\n",
    "        \n",
    "    else:\n",
    "        \n",
    "        display(Markdown(\"Your calculation is incorrect. Try again.\"))    \n",
    "\n",
    "if(q4b_input != '' and user_input_valid == False):\n",
    "    \n",
    "    display(Markdown(\"Your answer contains invalid inputs or operations.\"))"
   ]
  },
  {
   "cell_type": "markdown",
   "metadata": {},
   "source": [
    "---\n",
    "\n",
    "<h1 align='center'>Character Section Lesson</h1>\n",
    "\n",
    "To conclude the Chapter 1 Assignment, you will be constructing a conservative budget and answering a \"what if\" question. You will be marked using a rubric that is located on the last page of the booklet.\n",
    "\n",
    "### Character Background\n",
    "\n",
    "Emma, a high school student working at a local grocery store as a cashier.\n",
    "\n",
    "### Personal Background\n",
    "\n",
    "Emma is 16 years old, in grade 11 and living at home with her parents. She plays soccer and rugby. Emma is the bass player in a band. Currently, she is using an old bass guitar that her dad played in the 1980s, and she would like to buy her own. Her goal is to buy it in five months because the band has a big gig coming up in six months. The new bass costs $828.45 including GST.\n",
    "\n",
    "\n",
    "### Salary\n",
    "\n",
    "\n",
    "Emma works part-time at Gobey’s Grocery. She is paid a biweekly amount of $321.13.\n",
    "\n",
    "Emma babysits occasionally for her neighbours for $10.00 an hour. Several of Emma's babysitting client pay her by cheque, and Emma puts the money directly into her bank account.\n",
    "\n",
    "### Expenses\n",
    "\n",
    "Emma’s parents have encouraged her to save for post-secondary schooling. To achieve this, Emma and her parents set up a direct withdrawal from her bank account of $40.00 a paycheque into an RESP account. Emma pays for her own transit pass, which she uses to travel around the city. Emma is very thrifty and creative, so she chooses to shop for clothing at local second-hand stores. Emma’s position as the bass player in a local band requires her to maintain her instrument and provide her own sound equipment.\n",
    "\n",
    "Emma downloads the bank record of her spending during two months (February and March).\n",
    "\n",
    "### Notes\n",
    "\n",
    "* The credit column contains all income (part-time job and babysitting).\n",
    "\n",
    "* The debit column contains all expenses that Emma has paid.\n",
    "\n",
    "* An automatic withdrawal of $40.00 each paycheque goes into an RESP account.\n",
    "\n",
    "* In February, Emma paid rugby fees with cash, which are $180.00.\n",
    "\n",
    "* At the end of March, Emmas’ soccer team went to an overnight tournament for which she paid $160.00 in cash as her portion of the hotel room.\n",
    "\n",
    "<h2 align='center'>Character Section Lesson Exercises</h2>"
   ]
  },
  {
   "cell_type": "markdown",
   "metadata": {},
   "source": [
    "**Question 1.** List **at least two** reasons Emma might want to prepare a budget for herself."
   ]
  },
  {
   "cell_type": "code",
   "execution_count": 23,
   "metadata": {
    "tags": [
     "hide-input"
    ]
   },
   "outputs": [
    {
     "data": {
      "application/vnd.jupyter.widget-view+json": {
       "model_id": "25efe830ad624d7ea8b3bff51702bfe8",
       "version_major": 2,
       "version_minor": 0
      },
      "text/plain": [
       "Textarea(value='', layout=Layout(height='75px', width='100%'), placeholder='Write your answer here for Questio…"
      ]
     },
     "metadata": {},
     "output_type": "display_data"
    },
    {
     "data": {
      "application/vnd.jupyter.widget-view+json": {
       "model_id": "d43356a5664e42028e7c6df531a35c81",
       "version_major": 2,
       "version_minor": 0
      },
      "text/plain": [
       "Button(button_style='info', description='Record Answer', layout=Layout(height='30px', width='15%'), style=Butt…"
      ]
     },
     "metadata": {},
     "output_type": "display_data"
    }
   ],
   "source": [
    "emma1_text = w.Textarea( value='', placeholder='Write your answer here for Question 1.', description='', disabled=False , layout=Layout(width='100%', height='75px') )\n",
    "emma1_button = w.Button(button_style='info',description=\"Record Answer\", layout=Layout(width='15%', height='30px'))\n",
    "\n",
    "display(emma1_text)\n",
    "display(emma1_button)\n",
    "\n",
    "emma1_button.on_click( rerun_cell ) "
   ]
  },
  {
   "cell_type": "code",
   "execution_count": 24,
   "metadata": {
    "collapsed": true,
    "tags": [
     "hide-input"
    ]
   },
   "outputs": [],
   "source": [
    "emma1_input = emma1_text.value\n",
    "\n",
    "if(emma1_input != ''):\n",
    "    \n",
    "    emma1_text.close()\n",
    "    emma1_button.close()\n",
    "    display(Markdown(\"### Your answer for Question 1:\"))\n",
    "    display(Markdown(emma1_input))"
   ]
  },
  {
   "cell_type": "markdown",
   "metadata": {},
   "source": [
    "**Question 2.** Determine Emma’s net income for the month of February and March. Her bank statements are displayed below."
   ]
  },
  {
   "cell_type": "code",
   "execution_count": 25,
   "metadata": {
    "tags": [
     "hide-input"
    ]
   },
   "outputs": [
    {
     "data": {
      "text/markdown": [
       "<h2 align='center'>Emma's February Transactions</h2>"
      ],
      "text/plain": [
       "<IPython.core.display.Markdown object>"
      ]
     },
     "metadata": {},
     "output_type": "display_data"
    },
    {
     "data": {
      "application/vnd.jupyter.widget-view+json": {
       "model_id": "d8d29bd2443e46639b4137bfbc9505e0",
       "version_major": 2,
       "version_minor": 0
      },
      "text/plain": [
       "QgridWidget(grid_options={'fullWidthRows': True, 'syncColumnCellResize': True, 'forceFitColumns': True, 'defau…"
      ]
     },
     "metadata": {},
     "output_type": "display_data"
    }
   ],
   "source": [
    "# Prepare dataframes for Emma's February & March Transactions\n",
    "\n",
    "entry_types = {'Debit ($)': str , 'Credit ($)' : str}\n",
    "\n",
    "february_transactions_df = pd.read_csv('./data/februarytransactions.csv',converters=entry_types)\n",
    "february_transactions_df.set_index('Date',inplace=True)\n",
    "february_transactions_df[['Debit ($)','Credit ($)']] = february_transactions_df[['Debit ($)','Credit ($)']].replace(np.nan,\"0.00\")\n",
    "\n",
    "march_transactions_df = pd.read_csv('./data/marchtransactions.csv',converters=entry_types)\n",
    "march_transactions_df.set_index('Date',inplace=True)\n",
    "march_transactions_df[['Debit ($)','Credit ($)']] = march_transactions_df[['Debit ($)','Credit ($)']].replace(np.nan,\"0.00\")\n",
    "\n",
    "# Control grid features\n",
    "\n",
    "emma_grid_features = { 'fullWidthRows': True,\n",
    "                  'syncColumnCellResize': True,\n",
    "                  'forceFitColumns': True,\n",
    "                  'rowHeight': 40,\n",
    "                  'enableColumnReorder': True,\n",
    "                  'enableTextSelectionOnCells': True,\n",
    "                  'editable': False,\n",
    "                  'filterable': False,\n",
    "                  'sortable': False,\n",
    "                  'highlightSelectedRow': True}\n",
    "\n",
    "q_emma_feb = q.show_grid( february_transactions_df , grid_options = emma_grid_features ) \n",
    "q_emma_mar = q.show_grid( march_transactions_df , grid_options = emma_grid_features ) \n",
    "\n",
    "display(Markdown(\"<h2 align='center'>Emma's February Transactions</h2>\"))\n",
    "\n",
    "display(q_emma_feb)"
   ]
  },
  {
   "cell_type": "markdown",
   "metadata": {},
   "source": [
    "**Write your calculations below.**\n",
    "* Valid inputs: Numbers and decimals.\n",
    "* Valid operations: `+` for addition.\n",
    "\n",
    "**Example input:** `35 + 27.13 + 11.32`"
   ]
  },
  {
   "cell_type": "code",
   "execution_count": 26,
   "metadata": {
    "scrolled": true,
    "tags": [
     "hide-input"
    ]
   },
   "outputs": [
    {
     "data": {
      "application/vnd.jupyter.widget-view+json": {
       "model_id": "62c6153a2be84fa3ba031b2af83e96f5",
       "version_major": 2,
       "version_minor": 0
      },
      "text/plain": [
       "Textarea(value='', layout=Layout(height='30px', width='100%'), placeholder=\"Enter your calculation here to det…"
      ]
     },
     "metadata": {},
     "output_type": "display_data"
    },
    {
     "data": {
      "application/vnd.jupyter.widget-view+json": {
       "model_id": "bad4834c8bce403c91abff540d4ab172",
       "version_major": 2,
       "version_minor": 0
      },
      "text/plain": [
       "Button(button_style='info', description='Calculate', layout=Layout(height='30px', width='15%'), style=ButtonSt…"
      ]
     },
     "metadata": {},
     "output_type": "display_data"
    }
   ],
   "source": [
    "feb_text = w.Textarea( value='', placeholder=\"Enter your calculation here to determine Emma's net income for the month of February. Hint: which column do Emma's income come from?\", description='', disabled=False , layout=Layout(width='100%', height='30px') )\n",
    "feb_button = w.Button(button_style='info',description=\"Calculate\", layout=Layout(width='15%', height='30px'))\n",
    "\n",
    "display(feb_text)\n",
    "display(feb_button)\n",
    "\n",
    "feb_button.on_click( rerun_cell ) "
   ]
  },
  {
   "cell_type": "code",
   "execution_count": 27,
   "metadata": {
    "collapsed": true,
    "tags": [
     "hide-input"
    ]
   },
   "outputs": [],
   "source": [
    "# Obtain user's input\n",
    "\n",
    "feb_input = feb_text.value\n",
    "\n",
    "# Define the valid character inputs for this exercise\n",
    "\n",
    "numbers = '0123456789'\n",
    "operations = '+'\n",
    "others = ' .'\n",
    "valid_inputs = numbers + operations + others\n",
    "\n",
    "# Check if every character in user's string input is valid\n",
    "\n",
    "user_input_valid = all( ch in valid_inputs for ch in feb_input)\n",
    "\n",
    "# Check for correctness of user's calculation\n",
    "\n",
    "if(feb_input != '' and user_input_valid == True):\n",
    "    \n",
    "    user_answer = eval(feb_input)\n",
    "    \n",
    "    display(Markdown(\"### You answered: \"))\n",
    "    display(Markdown(\"$\\$\"+str(user_answer)+\"$\"))\n",
    "    \n",
    "    if(user_answer == 1042.26):\n",
    "                \n",
    "        feb_button.close()\n",
    "        feb_text.close()\n",
    "        \n",
    "        display(Markdown(\"Your calculation is correct!\"))\n",
    "        \n",
    "    else:\n",
    "        \n",
    "        display(Markdown(\"Your calculation is incorrect. Try again.\"))   \n",
    "\n",
    "if(feb_input != '' and user_input_valid == False):\n",
    "    \n",
    "    display(Markdown(\"Your answer contains invalid inputs or operations.\"))"
   ]
  },
  {
   "cell_type": "code",
   "execution_count": 28,
   "metadata": {
    "scrolled": false,
    "tags": [
     "hide-input"
    ]
   },
   "outputs": [
    {
     "data": {
      "text/markdown": [
       "<h2 align='center'>Emma's March Transactions</h2>"
      ],
      "text/plain": [
       "<IPython.core.display.Markdown object>"
      ]
     },
     "metadata": {},
     "output_type": "display_data"
    },
    {
     "data": {
      "application/vnd.jupyter.widget-view+json": {
       "model_id": "b91419f5d0124b18b2e8270ad718577c",
       "version_major": 2,
       "version_minor": 0
      },
      "text/plain": [
       "QgridWidget(grid_options={'fullWidthRows': True, 'syncColumnCellResize': True, 'forceFitColumns': True, 'defau…"
      ]
     },
     "metadata": {},
     "output_type": "display_data"
    }
   ],
   "source": [
    "display(Markdown(\"<h2 align='center'>Emma's March Transactions</h2>\"))\n",
    "\n",
    "display(q_emma_mar)"
   ]
  },
  {
   "cell_type": "markdown",
   "metadata": {},
   "source": [
    "**Write your calculations below.**\n",
    "* Valid inputs: Numbers and decimals.\n",
    "* Valid operations: `+` for addition.\n",
    "\n",
    "**Example input:** `35 + 27.13 + 11.32`"
   ]
  },
  {
   "cell_type": "code",
   "execution_count": 29,
   "metadata": {
    "tags": [
     "hide-input"
    ]
   },
   "outputs": [
    {
     "data": {
      "application/vnd.jupyter.widget-view+json": {
       "model_id": "bb482e1ea85f497ea16a95bc6f6a190a",
       "version_major": 2,
       "version_minor": 0
      },
      "text/plain": [
       "Textarea(value='', layout=Layout(height='30px', width='100%'), placeholder=\"Enter your calculation here to det…"
      ]
     },
     "metadata": {},
     "output_type": "display_data"
    },
    {
     "data": {
      "application/vnd.jupyter.widget-view+json": {
       "model_id": "53b58a6fd81b415dbfae9e10e8900387",
       "version_major": 2,
       "version_minor": 0
      },
      "text/plain": [
       "Button(button_style='info', description='Calculate', layout=Layout(height='30px', width='15%'), style=ButtonSt…"
      ]
     },
     "metadata": {},
     "output_type": "display_data"
    }
   ],
   "source": [
    "mar_text = w.Textarea( value='', placeholder=\"Enter your calculation here to determine Emma's net income for the month of March. Hint: which column do Emma's income come from?\", description='', disabled=False , layout=Layout(width='100%', height='30px') )\n",
    "mar_button = w.Button(button_style='info',description=\"Calculate\", layout=Layout(width='15%', height='30px'))\n",
    "\n",
    "display(mar_text)\n",
    "display(mar_button)\n",
    "\n",
    "mar_button.on_click( rerun_cell ) "
   ]
  },
  {
   "cell_type": "code",
   "execution_count": 30,
   "metadata": {
    "collapsed": true,
    "tags": [
     "hide-input"
    ]
   },
   "outputs": [],
   "source": [
    "# Obtain user's input\n",
    "\n",
    "mar_input = mar_text.value\n",
    "\n",
    "# Define the valid character inputs for this exercise\n",
    "\n",
    "numbers = '0123456789'\n",
    "operations = '+'\n",
    "others = ' .'\n",
    "valid_inputs = numbers + operations + others\n",
    "\n",
    "# Check if every character in user's string input is valid\n",
    "\n",
    "user_input_valid = all( ch in valid_inputs for ch in mar_input)\n",
    "\n",
    "# Check for correctness of user's calculation\n",
    "\n",
    "if(mar_input != '' and user_input_valid == True):\n",
    "    \n",
    "    user_answer = eval(mar_input)\n",
    "    \n",
    "    display(Markdown(\"### You answered: \"))\n",
    "    display(Markdown(\"$\\$\"+str(user_answer)+\"$\"))\n",
    "    \n",
    "    if(user_answer == 922.26):\n",
    "        \n",
    "        mar_button.close()\n",
    "        mar_text.close()\n",
    "        \n",
    "        display(Markdown(\"Your calculation is correct!\"))\n",
    "        \n",
    "    else:\n",
    "        \n",
    "        display(Markdown(\"Your calculation is incorrect. Try again.\"))     \n",
    "\n",
    "if(mar_input != '' and user_input_valid == False):\n",
    "    \n",
    "    display(Markdown(\"Your answer contains invalid inputs or operations.\"))"
   ]
  },
  {
   "cell_type": "markdown",
   "metadata": {},
   "source": [
    "**Question 3.** Categorize Emma’s income as fixed, variable or both. Explain."
   ]
  },
  {
   "cell_type": "code",
   "execution_count": 31,
   "metadata": {
    "tags": [
     "hide-input"
    ]
   },
   "outputs": [
    {
     "data": {
      "application/vnd.jupyter.widget-view+json": {
       "model_id": "0aebb5b3e2614ef6ac1daf08b20e8f80",
       "version_major": 2,
       "version_minor": 0
      },
      "text/plain": [
       "Textarea(value='', layout=Layout(height='75px', width='100%'), placeholder='Write your answer here for Questio…"
      ]
     },
     "metadata": {},
     "output_type": "display_data"
    },
    {
     "data": {
      "application/vnd.jupyter.widget-view+json": {
       "model_id": "43c144635cc644eb9461160e13386bdc",
       "version_major": 2,
       "version_minor": 0
      },
      "text/plain": [
       "Button(button_style='info', description='Record Answer', layout=Layout(height='30px', width='15%'), style=Butt…"
      ]
     },
     "metadata": {},
     "output_type": "display_data"
    }
   ],
   "source": [
    "emma3_text = w.Textarea( value='', placeholder='Write your answer here for Question 3.', description='', disabled=False , layout=Layout(width='100%', height='75px') )\n",
    "emma3_button = w.Button(button_style='info',description=\"Record Answer\", layout=Layout(width='15%', height='30px'))\n",
    "\n",
    "display(emma3_text)\n",
    "display(emma3_button)\n",
    "\n",
    "emma3_button.on_click( rerun_cell ) "
   ]
  },
  {
   "cell_type": "code",
   "execution_count": 32,
   "metadata": {
    "collapsed": true,
    "tags": [
     "hide-input"
    ]
   },
   "outputs": [],
   "source": [
    "emma3_input = emma3_text.value\n",
    "\n",
    "if(emma3_input != ''):\n",
    "    \n",
    "    emma3_text.close()\n",
    "    emma3_button.close()\n",
    "    display(Markdown(\"### Your answer for Question 3:\"))\n",
    "    display(Markdown(emma3_input))"
   ]
  },
  {
   "cell_type": "markdown",
   "metadata": {},
   "source": [
    "<h2 align='center'>Interactive Exercise: Entering & Saving Spreadsheet Data</h2>\n",
    "\n",
    "**Question 4.** By analyzing the bank statements for the two months, complete the following tables for each month.\n",
    "\n",
    "$\\hspace{0.35cm}$**a.)** For each row in the table, fill the **Expense Category** column with the appropriate expense label. The valid choices are listed below - write the associated upper case letter for each expense. Expand the **Description** column to see the expense entry.\n",
    "\n",
    "**Categories: **\n",
    "\n",
    "$$\\text{(S) Savings, (U) Utilities, (C) Clothing, (E) Entertainment, (M) Miscellaneous, (P) Personal Care, (T) Transportation, (F) Food}$$"
   ]
  },
  {
   "cell_type": "code",
   "execution_count": 33,
   "metadata": {
    "tags": [
     "hide-input"
    ]
   },
   "outputs": [
    {
     "data": {
      "application/vnd.jupyter.widget-view+json": {
       "model_id": "e5aa91a5d37e49b1806c84a686d094e7",
       "version_major": 2,
       "version_minor": 0
      },
      "text/plain": [
       "QgridWidget(grid_options={'fullWidthRows': True, 'syncColumnCellResize': True, 'forceFitColumns': True, 'defau…"
      ]
     },
     "metadata": {},
     "output_type": "display_data"
    },
    {
     "data": {
      "application/vnd.jupyter.widget-view+json": {
       "model_id": "5f0f3431dce2423b865af2d51d4dafc2",
       "version_major": 2,
       "version_minor": 0
      },
      "text/plain": [
       "Button(button_style='info', description='Record Answers', layout=Layout(height='30px', width='15%'), style=But…"
      ]
     },
     "metadata": {},
     "output_type": "display_data"
    }
   ],
   "source": [
    "# Note to developers:\n",
    "# 1. data in tables below obtained by converting relevant pages from Math20-3Unit1Key.pdf into .csv format.\n",
    "# 2. this part of the interactive focuses on categorizing expenses\n",
    "\n",
    "# Answer key for this lesson\n",
    "\n",
    "feb_expenses_answer_key = ['S', 'T', 'F', 'U', 'F', 'F', 'F', 'C', 'E', 'S', 'F', 'F', 'E', 'M', 'M', 'F', 'F', 'M', 'M', 'C']\n",
    "feb_fv_answer_key = ['V','V','V','V','F','F','F']\n",
    "\n",
    "# Setting up the dataframe \n",
    "\n",
    "pd.options.display.max_rows = 50 \n",
    "\n",
    "entry_types = {'Debit ($)': str , 'Balance ($)' : str}\n",
    "\n",
    "february_df = pd.read_csv('./data/februarydebits.csv',converters=entry_types)\n",
    "february_df.set_index('Transaction #',inplace=True)\n",
    "february_df['Debit ($)'] = february_df['Debit ($)'].replace(np.nan,\"0.00\")\n",
    "february_df['Expense Category'] = february_df['Expense Category'].replace(np.nan,\"\")\n",
    "\n",
    "original_feb_df = february_df[['Date','Description','Debit ($)','Balance ($)']]\n",
    "\n",
    "# Display interactive grid 1: categorizing expenses\n",
    "\n",
    "q_february_df = q.show_grid( february_df , grid_options = grid_features )\n",
    "\n",
    "# Recording answers\n",
    "\n",
    "q4a_button = w.Button(button_style='info',description=\"Record Answers\", layout=Layout(width='15%', height='30px'))\n",
    "\n",
    "def record_spreadsheet(button_widget):\n",
    "    \n",
    "    display(Javascript('IPython.notebook.execute_cell_range(IPython.notebook.get_selected_index()+1,IPython.notebook.get_selected_index()+3)'))\n",
    "\n",
    "display(q_february_df)\n",
    "display(q4a_button)\n",
    "\n",
    "q4a_button.on_click( record_spreadsheet )"
   ]
  },
  {
   "cell_type": "code",
   "execution_count": 34,
   "metadata": {
    "tags": [
     "hide-input"
    ]
   },
   "outputs": [
    {
     "data": {
      "application/vnd.jupyter.widget-view+json": {
       "model_id": "9c8fde6915364796a98d7c71878042e4",
       "version_major": 2,
       "version_minor": 0
      },
      "text/plain": [
       "Button(button_style='info', description='Reset all values', layout=Layout(height='30px', width='15%'), style=B…"
      ]
     },
     "metadata": {},
     "output_type": "display_data"
    }
   ],
   "source": [
    "# Recover entries\n",
    "\n",
    "q4a_recover_button = w.Button(button_style='info',description=\"Reset all values\", layout=Layout(width='15%', height='30px'))\n",
    "\n",
    "def recover_entries(button_widget):\n",
    "    \n",
    "    display(Javascript('IPython.notebook.execute_cell_range(IPython.notebook.get_selected_index()-1,IPython.notebook.get_selected_index()+0)'))\n",
    "    \n",
    "display(q4a_recover_button)\n",
    "\n",
    "q4a_recover_button.on_click( recover_entries )"
   ]
  },
  {
   "cell_type": "code",
   "execution_count": 35,
   "metadata": {
    "tags": [
     "hide-input"
    ]
   },
   "outputs": [
    {
     "data": {
      "text/markdown": [
       "Some of your inputs are incorrect."
      ],
      "text/plain": [
       "<IPython.core.display.Markdown object>"
      ]
     },
     "metadata": {},
     "output_type": "display_data"
    }
   ],
   "source": [
    "# Obtain the changed dataframe\n",
    "\n",
    "student_feb_df = q_february_df.get_changed_df()\n",
    "\n",
    "# Check answers\n",
    "\n",
    "answer_list = ['S','F','C','E','T','U','M']\n",
    "\n",
    "answers_valid = check_answers(student_feb_df['Expense Category'],answer_list)\n",
    "\n",
    "if(answers_valid == 0):\n",
    "    \n",
    "    display(Markdown(\"Some of your inputs are invalid. Please enter inputs from the following list: S,U,C,E,M,P,T,F\"))\n",
    "\n",
    "\n",
    "# Group the dataframe according to student's expense categories once student's answers are correct\n",
    "\n",
    "if(answers_valid == 1):\n",
    "    \n",
    "    # Check if every entry matches the answer key\n",
    "    \n",
    "    student_answers = (student_feb_df['Expense Category'].values).tolist() \n",
    "    \n",
    "    if( feb_expenses_answer_key == student_answers):\n",
    "        \n",
    "        display(Markdown(\"Your selections are correct!\"))\n",
    "\n",
    "        q4a_button.close()\n",
    "        q4a_recover_button.close()\n",
    "        q_february_df.close()\n",
    "        \n",
    "        q4a_grid_features = { 'fullWidthRows': True,\n",
    "                          'syncColumnCellResize': True,\n",
    "                          'forceFitColumns': True,\n",
    "                          'rowHeight': 40,\n",
    "                          'enableColumnReorder': True,\n",
    "                          'enableTextSelectionOnCells': True,\n",
    "                          'editable': False,\n",
    "                          'filterable': False,\n",
    "                          'sortable': False,\n",
    "                          'highlightSelectedRow': True}\n",
    "        \n",
    "        student_q4a_df = q.show_grid( student_feb_df , grid_options = q4a_grid_features )\n",
    "        \n",
    "        display(student_q4a_df)\n",
    "        \n",
    "    else:\n",
    "        \n",
    "        display(Markdown(\"Some of your inputs are incorrect.\"))"
   ]
  },
  {
   "cell_type": "markdown",
   "metadata": {},
   "source": [
    "$\\hspace{0.35cm}$**b.)** Calculate the total of each expense category you used in (a). \n",
    "\n",
    "$\\hspace{3cm}$This is done for you. Proceed to exercise (c)."
   ]
  },
  {
   "cell_type": "code",
   "execution_count": 36,
   "metadata": {
    "tags": [
     "hide-input"
    ]
   },
   "outputs": [
    {
     "data": {
      "application/vnd.jupyter.widget-view+json": {
       "model_id": "8a482da803f74e648d66409bd1adf3bf",
       "version_major": 2,
       "version_minor": 0
      },
      "text/plain": [
       "QgridWidget(grid_options={'fullWidthRows': True, 'syncColumnCellResize': True, 'forceFitColumns': True, 'defau…"
      ]
     },
     "metadata": {},
     "output_type": "display_data"
    }
   ],
   "source": [
    "q4b_df = pd.read_csv('./data/expensesum.csv')\n",
    "q4b_df.set_index(\"Expense Category\",inplace=True)\n",
    "q_q4b_df = q.show_grid( q4b_df , grid_options = grid_features ) \n",
    "display(q_q4b_df)"
   ]
  },
  {
   "cell_type": "markdown",
   "metadata": {},
   "source": [
    "$\\hspace{0.35cm}$**c.)** For each category, determine whether it is **fixed** or **variable**. Enter F for fixed and V for variable."
   ]
  },
  {
   "cell_type": "code",
   "execution_count": 37,
   "metadata": {
    "tags": [
     "hide-input"
    ]
   },
   "outputs": [
    {
     "data": {
      "application/vnd.jupyter.widget-view+json": {
       "model_id": "4c74188aac434de190acbc0e63595992",
       "version_major": 2,
       "version_minor": 0
      },
      "text/plain": [
       "QgridWidget(grid_options={'fullWidthRows': True, 'syncColumnCellResize': True, 'forceFitColumns': True, 'defau…"
      ]
     },
     "metadata": {},
     "output_type": "display_data"
    },
    {
     "data": {
      "application/vnd.jupyter.widget-view+json": {
       "model_id": "c5fffca1bfd4489ca557bcb4171c83a5",
       "version_major": 2,
       "version_minor": 0
      },
      "text/plain": [
       "Button(button_style='info', description='Record Answers', layout=Layout(height='30px', width='15%'), style=But…"
      ]
     },
     "metadata": {},
     "output_type": "display_data"
    }
   ],
   "source": [
    "# Setting up the dataframe \n",
    "\n",
    "fixed_or_var_df = pd.read_csv('./data/fixedorvar.csv')\n",
    "fixed_or_var_df.set_index('Expense Category',inplace=True)\n",
    "fixed_or_var_df['Fixed or Variable'] = fixed_or_var_df['Fixed or Variable'].replace(np.nan,\"\")\n",
    "\n",
    "q_fixed_or_var_df = q.show_grid( fixed_or_var_df , grid_options = grid_features)\n",
    "\n",
    "q4c_button = w.Button(button_style='info',description=\"Record Answers\", layout=Layout(width='15%', height='30px'))\n",
    "\n",
    "def record_spreadsheet(button_widget):\n",
    "    \n",
    "    display(Javascript('IPython.notebook.execute_cell_range(IPython.notebook.get_selected_index()+1,IPython.notebook.get_selected_index()+2)'))\n",
    "\n",
    "display(q_fixed_or_var_df)\n",
    "display(q4c_button)\n",
    "\n",
    "q4c_button.on_click( record_spreadsheet )"
   ]
  },
  {
   "cell_type": "code",
   "execution_count": 38,
   "metadata": {
    "tags": [
     "hide-input"
    ]
   },
   "outputs": [
    {
     "data": {
      "text/markdown": [
       "Please fill all the entries in the spreadsheet above."
      ],
      "text/plain": [
       "<IPython.core.display.Markdown object>"
      ]
     },
     "metadata": {},
     "output_type": "display_data"
    }
   ],
   "source": [
    "# Obtain the changed dataframe\n",
    "\n",
    "q4c_df = q_fixed_or_var_df.get_changed_df()\n",
    "\n",
    "# Check answers\n",
    "\n",
    "q4c_answer_list = ['V','F','V','F','V','V','V','V']\n",
    "q4c_student_answer = (q4c_df['Fixed or Variable'].values).tolist()\n",
    "\n",
    "def check_q4c(student_inputs):\n",
    "    \n",
    "    valid_inputs = 'VF'\n",
    "    \n",
    "    for entry in student_inputs:\n",
    "        \n",
    "        if(entry not in valid_inputs):\n",
    "            \n",
    "            display(Markdown(\"Please enter valid inputs only.\"))\n",
    "            \n",
    "            return False\n",
    "        \n",
    "        if(entry == ''):\n",
    "            \n",
    "            display(Markdown(\"Please fill all the entries in the spreadsheet above.\"))\n",
    "            \n",
    "            return False\n",
    "        \n",
    "    return True\n",
    "        \n",
    "if(check_q4c(q4c_student_answer) == True):\n",
    "    \n",
    "    if(q4c_student_answer == q4c_answer_list):\n",
    "        \n",
    "        display(Markdown(\"Your selections are correct!\"))\n",
    "        \n",
    "        q4c_grid_features = { 'fullWidthRows': True,\n",
    "                          'syncColumnCellResize': True,\n",
    "                          'forceFitColumns': True,\n",
    "                          'rowHeight': 40,\n",
    "                          'enableColumnReorder': True,\n",
    "                          'enableTextSelectionOnCells': True,\n",
    "                          'editable': False,\n",
    "                          'filterable': False,\n",
    "                          'sortable': False,\n",
    "                          'highlightSelectedRow': True}\n",
    "        \n",
    "        student_q4c_df = q.show_grid( q4c_df , grid_options = q4c_grid_features )\n",
    "        \n",
    "        q_fixed_or_var_df.close()\n",
    "        \n",
    "        display(student_q4c_df)\n",
    "        \n",
    "    else:\n",
    "        \n",
    "        display(Markdown(\"Some inputs are incorrect.\"))"
   ]
  },
  {
   "cell_type": "markdown",
   "metadata": {},
   "source": [
    "**Question 5.** Construct a **monthly** conservative budget skeleton for Emma based upon her February and March data. To do this, compare the data for February and March and use the _highest_ expense amount for each category.\n",
    "\n",
    "**Note: ** The **February Expense Data** and **March Expense Data** are given below."
   ]
  },
  {
   "cell_type": "code",
   "execution_count": 39,
   "metadata": {
    "tags": [
     "hide-input"
    ]
   },
   "outputs": [
    {
     "data": {
      "application/vnd.jupyter.widget-view+json": {
       "model_id": "85ea5137aa3d4882a1639e66c3b36f64",
       "version_major": 2,
       "version_minor": 0
      },
      "text/plain": [
       "QgridWidget(grid_options={'fullWidthRows': True, 'syncColumnCellResize': True, 'forceFitColumns': True, 'defau…"
      ]
     },
     "metadata": {},
     "output_type": "display_data"
    },
    {
     "data": {
      "application/vnd.jupyter.widget-view+json": {
       "model_id": "019fff39105a4763afb2f858ed632765",
       "version_major": 2,
       "version_minor": 0
      },
      "text/plain": [
       "Button(button_style='info', description='Record Answers', layout=Layout(height='30px', width='15%'), style=But…"
      ]
     },
     "metadata": {},
     "output_type": "display_data"
    }
   ],
   "source": [
    "entry_types = {'February Totals ($)': str , 'March Totals ($)' : str}\n",
    "\n",
    "comparison_df = pd.read_csv('./data/expensecomparison.csv',converters = entry_types)\n",
    "comparison_df.set_index('Expense Categories',inplace=True)\n",
    "comparison_df['Highest Expense Amount ($)'] = comparison_df['Highest Expense Amount ($)'].replace(np.nan,\"\")\n",
    "\n",
    "del comparison_df['Transaction #']\n",
    "\n",
    "q_comparison_df = q.show_grid( comparison_df , grid_options = grid_features )\n",
    "\n",
    "expense_button = w.Button(button_style='info',description=\"Record Answers\", layout=Layout(width='15%', height='30px'))\n",
    "\n",
    "def record_spreadsheet(button_widget):\n",
    "    \n",
    "    display(Javascript('IPython.notebook.execute_cell_range(IPython.notebook.get_selected_index()+1,IPython.notebook.get_selected_index()+3)'))    \n",
    "    \n",
    "display(q_comparison_df)\n",
    "display(expense_button)\n",
    "\n",
    "expense_button.on_click( record_spreadsheet )"
   ]
  },
  {
   "cell_type": "code",
   "execution_count": 40,
   "metadata": {
    "tags": [
     "hide-input"
    ]
   },
   "outputs": [
    {
     "data": {
      "application/vnd.jupyter.widget-view+json": {
       "model_id": "f8972610823a4c76bd70f52b738265f9",
       "version_major": 2,
       "version_minor": 0
      },
      "text/plain": [
       "Button(button_style='info', description='Reset all values', layout=Layout(height='30px', width='15%'), style=B…"
      ]
     },
     "metadata": {},
     "output_type": "display_data"
    }
   ],
   "source": [
    "# Recover entries\n",
    "\n",
    "recover_button = w.Button(button_style='info',description=\"Reset all values\", layout=Layout(width='15%', height='30px'))\n",
    "\n",
    "def recover_entries(button_widget):\n",
    "    \n",
    "    display(Javascript('IPython.notebook.execute_cell_range(IPython.notebook.get_selected_index()-1,IPython.notebook.get_selected_index()+0)'))\n",
    "    \n",
    "display(recover_button)\n",
    "\n",
    "recover_button.on_click( recover_entries )"
   ]
  },
  {
   "cell_type": "code",
   "execution_count": 41,
   "metadata": {
    "tags": [
     "hide-input"
    ]
   },
   "outputs": [
    {
     "data": {
      "text/markdown": [
       "Some of your entries are incorrect. Please fill them with the correct values. Make sure to write numbers in decimal form. Write 80.00 for 80, 206.00, etc."
      ],
      "text/plain": [
       "<IPython.core.display.Markdown object>"
      ]
     },
     "metadata": {},
     "output_type": "display_data"
    }
   ],
   "source": [
    "# Obtain changed dataframe\n",
    "\n",
    "student_comparison_df = q_comparison_df.get_changed_df()\n",
    "\n",
    "# Answers \n",
    "\n",
    "correct_answers = ['80.00', '73.50', '91.95', '30.15', '189.45', '233.64', '206.00', '116.53']\n",
    "student_answers = (student_comparison_df['Highest Expense Amount ($)'].values).tolist()\n",
    "\n",
    "# Function to check if every entry is a valid input\n",
    "\n",
    "def check_floats(input_array):\n",
    "    \n",
    "    valid_inputs = '0123456789.'\n",
    "    \n",
    "    for answer in input_array:\n",
    "        \n",
    "        current_user_input = all( ch in valid_inputs for ch in answer)\n",
    "        \n",
    "        if(current_user_input == False):\n",
    "        \n",
    "            return False\n",
    "    \n",
    "    return True\n",
    "\n",
    "# Check if answer is correct\n",
    "\n",
    "if(check_floats(student_answers) == False):\n",
    "    \n",
    "    display(Markdown(\"Please enter decimal numbers only.\"))\n",
    "        \n",
    "else:\n",
    "\n",
    "    if(student_answers == correct_answers):\n",
    "\n",
    "        display(Markdown(\"Your choices are correct!\"))\n",
    "\n",
    "        recover_button.close()\n",
    "        expense_button.close()\n",
    "        q_comparison_df.close()\n",
    "      \n",
    "        comparison_grid_features = { 'fullWidthRows': True,\n",
    "                                  'syncColumnCellResize': True,\n",
    "                                  'forceFitColumns': True,\n",
    "                                  'rowHeight': 40,\n",
    "                                  'enableColumnReorder': True,\n",
    "                                  'enableTextSelectionOnCells': True,\n",
    "                                  'editable': False,\n",
    "                                  'filterable': False,\n",
    "                                  'sortable': False,\n",
    "                                  'highlightSelectedRow': True}\n",
    "        \n",
    "        student_comparison_df = q.show_grid( student_comparison_df , grid_options = comparison_grid_features )\n",
    "        display(student_comparison_df)\n",
    "        \n",
    "    else:\n",
    "        \n",
    "        display(Markdown(\"Some of your entries are incorrect. Please fill them with the correct values. Make sure to write numbers in decimal form. Write 80.00 for 80, 206.00, etc.\"))"
   ]
  },
  {
   "cell_type": "markdown",
   "metadata": {
    "collapsed": true
   },
   "source": [
    "**Question 6.** If there is excess money, where should Emma put it? If there is not enough income for expenses, suggest how Emma can cover her expenses or reduce her expenses."
   ]
  },
  {
   "cell_type": "code",
   "execution_count": 42,
   "metadata": {
    "scrolled": false,
    "tags": [
     "hide-input"
    ]
   },
   "outputs": [
    {
     "data": {
      "application/vnd.jupyter.widget-view+json": {
       "model_id": "f0abbdfb438d450b99833bde0cd106b4",
       "version_major": 2,
       "version_minor": 0
      },
      "text/plain": [
       "Textarea(value='', layout=Layout(height='75px', width='100%'), placeholder='Write your answer here for Questio…"
      ]
     },
     "metadata": {},
     "output_type": "display_data"
    },
    {
     "data": {
      "application/vnd.jupyter.widget-view+json": {
       "model_id": "827b50c666c04d84b84ef309948b08f8",
       "version_major": 2,
       "version_minor": 0
      },
      "text/plain": [
       "Button(button_style='info', description='Record Answer', layout=Layout(height='30px', width='15%'), style=Butt…"
      ]
     },
     "metadata": {},
     "output_type": "display_data"
    }
   ],
   "source": [
    "q6_text = w.Textarea( value='', placeholder='Write your answer here for Question 6.', description='', disabled=False , layout=Layout(width='100%', height='75px') )\n",
    "q6_button = w.Button(button_style='info',description=\"Record Answer\", layout=Layout(width='15%', height='30px'))\n",
    "\n",
    "display(q6_text)\n",
    "display(q6_button)\n",
    "\n",
    "q6_button.on_click( rerun_cell ) "
   ]
  },
  {
   "cell_type": "code",
   "execution_count": 43,
   "metadata": {
    "collapsed": true,
    "tags": [
     "hide-input"
    ]
   },
   "outputs": [],
   "source": [
    "q6_input = q6_text.value\n",
    "\n",
    "if(q6_input != ''):\n",
    "    \n",
    "    q6_text.close()\n",
    "    q6_button.close()\n",
    "    display(Markdown(\"### Your answer for question 6:\"))\n",
    "    display(Markdown(q6_input))"
   ]
  },
  {
   "cell_type": "markdown",
   "metadata": {},
   "source": [
    "**Question 7.**\n",
    "\n",
    "$\\hspace{0.35cm}$**a.)** How much will Emma need to save each month to purchase a new base, in 5 months, that costs $\\$828.45$ (including GST)?"
   ]
  },
  {
   "cell_type": "code",
   "execution_count": 44,
   "metadata": {
    "tags": [
     "hide-input"
    ]
   },
   "outputs": [
    {
     "data": {
      "application/vnd.jupyter.widget-view+json": {
       "model_id": "166c31b991f34fb1a4eca3f655fb6a29",
       "version_major": 2,
       "version_minor": 0
      },
      "text/plain": [
       "Textarea(value='', layout=Layout(height='75px', width='100%'), placeholder='Write your answer here for Questio…"
      ]
     },
     "metadata": {},
     "output_type": "display_data"
    },
    {
     "data": {
      "application/vnd.jupyter.widget-view+json": {
       "model_id": "2acf0226eef945e0ad879ba351905922",
       "version_major": 2,
       "version_minor": 0
      },
      "text/plain": [
       "Button(button_style='info', description='Record Answer', layout=Layout(height='30px', width='15%'), style=Butt…"
      ]
     },
     "metadata": {},
     "output_type": "display_data"
    }
   ],
   "source": [
    "q7a_text = w.Textarea( value='', placeholder='Write your answer here for Question 7.a.', description='', disabled=False , layout=Layout(width='100%', height='75px') )\n",
    "q7a_button = w.Button(button_style='info',description=\"Record Answer\", layout=Layout(width='15%', height='30px'))\n",
    "\n",
    "display(q7a_text)\n",
    "display(q7a_button)\n",
    "\n",
    "q7a_button.on_click( rerun_cell ) "
   ]
  },
  {
   "cell_type": "code",
   "execution_count": 45,
   "metadata": {
    "collapsed": true,
    "tags": [
     "hide-input"
    ]
   },
   "outputs": [],
   "source": [
    "q7a_input = q7a_text.value\n",
    "\n",
    "if(q7a_input != ''):\n",
    "    \n",
    "    q7a_text.close()\n",
    "    q7a_button.close()\n",
    "    display(Markdown(\"### Your answer for question 7.a:\"))\n",
    "    display(Markdown(q7a_input))"
   ]
  },
  {
   "cell_type": "markdown",
   "metadata": {},
   "source": [
    "$\\hspace{0.35cm}$**b.)** Based upon her budget, will Emma be able to save enough? If not, modify her budget so that she can afford it. A new category has been added to show her savings for the bass.\n",
    "\n",
    "**Note:** Income and expenses should be balanced at this point.\n",
    "\n",
    "From the previous exercises, we saw that a conservative income for Emma was $\\$922.26$. In this exercise, we want to create a budget amount in such a way that the sum of each category is exactly $\\$922.26$."
   ]
  },
  {
   "cell_type": "code",
   "execution_count": 46,
   "metadata": {
    "tags": [
     "hide-input"
    ]
   },
   "outputs": [
    {
     "data": {
      "text/markdown": [
       "<h2 align='center'>Emma's Modified Conservative Budget</h2>"
      ],
      "text/plain": [
       "<IPython.core.display.Markdown object>"
      ]
     },
     "metadata": {},
     "output_type": "display_data"
    },
    {
     "data": {
      "application/vnd.jupyter.widget-view+json": {
       "model_id": "e29692ea3c224b46b0f7266d78723806",
       "version_major": 2,
       "version_minor": 0
      },
      "text/plain": [
       "QgridWidget(grid_options={'fullWidthRows': True, 'syncColumnCellResize': True, 'forceFitColumns': True, 'defau…"
      ]
     },
     "metadata": {},
     "output_type": "display_data"
    },
    {
     "data": {
      "application/vnd.jupyter.widget-view+json": {
       "model_id": "4e86ea0c8df041809665409a495bf334",
       "version_major": 2,
       "version_minor": 0
      },
      "text/plain": [
       "Button(button_style='info', description='Record Answers', layout=Layout(height='30px', width='15%'), style=But…"
      ]
     },
     "metadata": {},
     "output_type": "display_data"
    }
   ],
   "source": [
    "# Prepare dataframes for Emma's February & March Transactions\n",
    "\n",
    "ex_7b_df = pd.read_csv('./data/exercise7b.csv')\n",
    "ex_7b_df[['Budgeted Amount ($)']] = ex_7b_df[['Budgeted Amount ($)']].replace(np.nan,\"\")\n",
    "ex_7b_df.set_index('Category',inplace=True)\n",
    "\n",
    "q_ex_7b = q.show_grid( ex_7b_df , grid_options = grid_features ) \n",
    "\n",
    "display(Markdown(\"<h2 align='center'>Emma's Modified Conservative Budget</h2>\"))\n",
    "\n",
    "display(q_ex_7b)\n",
    "\n",
    "ex_7b_button = w.Button(button_style='info',description=\"Record Answers\", layout=Layout(width='15%', height='30px'))\n",
    "\n",
    "def record_spreadsheet(button_widget):\n",
    "    \n",
    "    display(Javascript('IPython.notebook.execute_cell_range(IPython.notebook.get_selected_index()+1,IPython.notebook.get_selected_index()+3)'))    \n",
    "    \n",
    "display(ex_7b_button)\n",
    "\n",
    "ex_7b_button.on_click( record_spreadsheet )"
   ]
  },
  {
   "cell_type": "markdown",
   "metadata": {},
   "source": [
    "**Question 8.** Determine the percent of Emma’s income on each category. \n",
    "\n",
    "To calculate percentage of income for each category use the formula:\n",
    "\n",
    "$$\\text{Percent of Income} = \\frac{\\text{Amount Allotted for Expense}}{\\text{Budgeted Income}}\\times 100\\%$$\n",
    "\n",
    "**Note:** This part of the exercise is done for you and changes based on your inputs in exercise 7.b., the formula above is for your reference."
   ]
  },
  {
   "cell_type": "code",
   "execution_count": 47,
   "metadata": {
    "tags": [
     "hide-input"
    ]
   },
   "outputs": [
    {
     "data": {
      "text/markdown": [
       "Please fill all the entries in the spreadsheet above."
      ],
      "text/plain": [
       "<IPython.core.display.Markdown object>"
      ]
     },
     "metadata": {},
     "output_type": "display_data"
    }
   ],
   "source": [
    "# Set up student inputs as a list\n",
    "\n",
    "ex_7b_student_df = q_ex_7b.get_changed_df()\n",
    "student_budget_input = ex_7b_student_df['Budgeted Amount ($)']\n",
    "student_budget_col = (student_budget_input.values).tolist()\n",
    "\n",
    "# Check if every entry is valid \n",
    "\n",
    "def check_ex_7b(student_inputs):\n",
    "\n",
    "    valid_inputs = '0123456789. '\n",
    "\n",
    "    for entry in student_inputs:\n",
    "\n",
    "        for ch in entry:\n",
    "            \n",
    "            if(ch not in valid_inputs):\n",
    "                \n",
    "                display(Markdown(\"Please enter valid inputs only.\"))\n",
    "\n",
    "                return False\n",
    "\n",
    "    if(entry == ''):\n",
    "\n",
    "        display(Markdown(\"Please fill all the entries in the spreadsheet above.\"))\n",
    "\n",
    "        return False\n",
    "\n",
    "    return True\n",
    "\n",
    "# Check if student's budget matches the total income\n",
    "\n",
    "valid_input = check_ex_7b(student_budget_col)\n",
    "\n",
    "if(valid_input == True):\n",
    "    \n",
    "    # Convert every entry to float and get the sum\n",
    "    \n",
    "    budget_sum = 0\n",
    "    \n",
    "    for entry in student_budget_col:\n",
    "        \n",
    "        current_entry = eval(entry)\n",
    "        budget_sum += current_entry\n",
    "        \n",
    "    # If the budget sum matches, then create the percentages chart \n",
    "    \n",
    "    percentages_col = []\n",
    "    \n",
    "    if(budget_sum != 922.26): \n",
    "        \n",
    "        display(Markdown(\"Your budget proposal does not total $922.26. Please try again.\"))\n",
    "        \n",
    "    else:\n",
    "        \n",
    "        for entry in student_budget_col:\n",
    "            \n",
    "            current_percent = round( eval(entry)/budget_sum , 4)\n",
    "            percentages_col.append( round(current_percent*100,4) )\n",
    "            \n",
    "        indices = ['Savings (RESP)','Transportation','Utilities','Food','Clothing','Entertainment','Miscellaneous','Personal Care','Savings (Bass)']\n",
    "            \n",
    "        percentage_df = pd.DataFrame({'Percentage (%): ': percentages_col },index=indices)\n",
    "        updated_ex_7b_student_df = pd.concat( [ex_7b_student_df,percentage_df] , axis = 1 )\n",
    "        \n",
    "        ex_7b_features = { 'fullWidthRows': True,\n",
    "                          'syncColumnCellResize': True,\n",
    "                          'forceFitColumns': True,\n",
    "                          'rowHeight': 40,\n",
    "                          'enableColumnReorder': True,\n",
    "                          'enableTextSelectionOnCells': True,\n",
    "                          'editable': False,\n",
    "                          'filterable': False,\n",
    "                          'sortable': False,\n",
    "                          'highlightSelectedRow': True}\n",
    "        \n",
    "        q_ex_7b_updated = q.show_grid( updated_ex_7b_student_df , grid_options = ex_7b_features )\n",
    "        \n",
    "        display(Markdown(\"<h2 align='center'>Emma's Modified Budget Percentage Breakdown</h2>\"))\n",
    "        \n",
    "        display(q_ex_7b_updated)"
   ]
  },
  {
   "cell_type": "markdown",
   "metadata": {},
   "source": [
    "**Question 9.** Are there any categories that Emma is far above or far below the spending guidelines? How does being a high school student affect Emma’s consideration of the spending guidelines?\n",
    "\n",
    "<img src=\"./images/spending_guidelines.jpg\" alt=\"drawing\" width=\"400px\"/>\n"
   ]
  },
  {
   "cell_type": "code",
   "execution_count": 48,
   "metadata": {
    "tags": [
     "hide-input"
    ]
   },
   "outputs": [
    {
     "data": {
      "application/vnd.jupyter.widget-view+json": {
       "model_id": "f1489660f267446fb8e22815c6df9069",
       "version_major": 2,
       "version_minor": 0
      },
      "text/plain": [
       "Textarea(value='', layout=Layout(height='75px', width='100%'), placeholder='Write your answer here for Questio…"
      ]
     },
     "metadata": {},
     "output_type": "display_data"
    },
    {
     "data": {
      "application/vnd.jupyter.widget-view+json": {
       "model_id": "500fac8a0d6346d4baaac37dd8754b05",
       "version_major": 2,
       "version_minor": 0
      },
      "text/plain": [
       "Button(button_style='info', description='Record Answer', layout=Layout(height='30px', width='15%'), style=Butt…"
      ]
     },
     "metadata": {},
     "output_type": "display_data"
    }
   ],
   "source": [
    "q9_text = w.Textarea( value='', placeholder='Write your answer here for Question 9', description='', disabled=False , layout=Layout(width='100%', height='75px') )\n",
    "q9_button = w.Button(button_style='info',description=\"Record Answer\", layout=Layout(width='15%', height='30px'))\n",
    "\n",
    "display(q9_text)\n",
    "display(q9_button)\n",
    "\n",
    "q9_button.on_click( rerun_cell ) "
   ]
  },
  {
   "cell_type": "code",
   "execution_count": 49,
   "metadata": {
    "collapsed": true,
    "tags": [
     "hide-input"
    ]
   },
   "outputs": [],
   "source": [
    "q9_input = q9_text.value\n",
    "\n",
    "if(q9_input != ''):\n",
    "    \n",
    "    q9_text.close()\n",
    "    q9_button.close()\n",
    "    display(Markdown(\"### Your answer for question 9:\"))\n",
    "    display(Markdown(q9_input))"
   ]
  },
  {
   "cell_type": "markdown",
   "metadata": {},
   "source": [
    "--- \n",
    "<h1 align='center'>Student Interactive Section</h1>"
   ]
  },
  {
   "cell_type": "markdown",
   "metadata": {},
   "source": [
    "In this section, you will enter your own expense categories and see how your expense percentage breakdown compares to the spending guideline above."
   ]
  },
  {
   "cell_type": "code",
   "execution_count": 50,
   "metadata": {
    "scrolled": true,
    "tags": [
     "hide-input"
    ]
   },
   "outputs": [
    {
     "data": {
      "application/vnd.jupyter.widget-view+json": {
       "model_id": "30060c354f9048ed97748343e4fc5bec",
       "version_major": 2,
       "version_minor": 0
      },
      "text/plain": [
       "Dropdown(description='Categories', index=2, options=('1', '2', '3', '4', '5', '6', '7', '8', '9', '10', '11', …"
      ]
     },
     "metadata": {},
     "output_type": "display_data"
    },
    {
     "data": {
      "application/vnd.jupyter.widget-view+json": {
       "model_id": "46dd704c7d2142acb7e7aefa4cfb8c2f",
       "version_major": 2,
       "version_minor": 0
      },
      "text/plain": [
       "Button(button_style='info', description='Save', layout=Layout(height='30px', width='15%'), style=ButtonStyle()…"
      ]
     },
     "metadata": {},
     "output_type": "display_data"
    }
   ],
   "source": [
    "# Create button and dropdown widget\n",
    "\n",
    "number_of_cat = 13\n",
    "dropdown_options = [ str(i+1) for i in range(number_of_cat) ] \n",
    "dropdown_widget = w.Dropdown( options = dropdown_options , value = '3' , description = 'Categories' , disabled=False )\n",
    "\n",
    "categories_button = w.Button(button_style='info',description=\"Save\", layout=Layout(width='15%', height='30px'))\n",
    "\n",
    "# Display widgets\n",
    "\n",
    "display(dropdown_widget)\n",
    "display(categories_button)\n",
    "\n",
    "categories_button.on_click( rerun_cell ) "
   ]
  },
  {
   "cell_type": "code",
   "execution_count": 51,
   "metadata": {
    "scrolled": false,
    "tags": [
     "hide-input"
    ]
   },
   "outputs": [
    {
     "data": {
      "application/vnd.jupyter.widget-view+json": {
       "model_id": "58dabf69b5314319b28f3975c58c09ea",
       "version_major": 2,
       "version_minor": 0
      },
      "text/plain": [
       "QgridWidget(grid_options={'fullWidthRows': True, 'syncColumnCellResize': True, 'forceFitColumns': True, 'defau…"
      ]
     },
     "metadata": {},
     "output_type": "display_data"
    },
    {
     "data": {
      "application/vnd.jupyter.widget-view+json": {
       "model_id": "0e58c9f4d31f419a9e18acf170b9bc11",
       "version_major": 2,
       "version_minor": 0
      },
      "text/plain": [
       "Button(button_style='info', description='Plot Pie Chart', layout=Layout(height='30px', width='15%'), style=But…"
      ]
     },
     "metadata": {},
     "output_type": "display_data"
    }
   ],
   "source": [
    "# Create dataframe\n",
    "\n",
    "df_num_rows = int(dropdown_widget.value)\n",
    "empty_list = [ '' for i in range(df_num_rows) ] \n",
    "category_list = [ i+1 for i in range(df_num_rows) ] \n",
    "\n",
    "# Set up data input for dataframe\n",
    "\n",
    "df_dict = {'Category #': category_list, 'Budget ($)': empty_list , 'Expense Category': empty_list}\n",
    "\n",
    "student_df = pd.DataFrame(data = df_dict)\n",
    "student_df.set_index('Category #',inplace=True)\n",
    "\n",
    "# Reorder column labels\n",
    "\n",
    "student_df = student_df[['Expense Category','Budget ($)']]\n",
    "\n",
    "# Set up & display as Qgrid\n",
    "\n",
    "q_student_df = q.show_grid( student_df , grid_options = grid_features )\n",
    "display(q_student_df)\n",
    "\n",
    "# Create & display save entries widget button\n",
    "\n",
    "save_student_entries_button = w.Button(button_style='info',description=\"Plot Pie Chart\", layout=Layout(width='15%', height='30px'))\n",
    "display(save_student_entries_button)\n",
    "\n",
    "save_student_entries_button.on_click( rerun_cell ) "
   ]
  },
  {
   "cell_type": "code",
   "execution_count": 52,
   "metadata": {
    "scrolled": false,
    "tags": [
     "hide-input"
    ]
   },
   "outputs": [
    {
     "data": {
      "text/markdown": [
       "Please enter decimal numbers only for the budget column"
      ],
      "text/plain": [
       "<IPython.core.display.Markdown object>"
      ]
     },
     "metadata": {},
     "output_type": "display_data"
    }
   ],
   "source": [
    "# Convert qgrid to dataframe\n",
    "\n",
    "student_updated_df = q_student_df.get_changed_df()\n",
    "\n",
    "student_budget_col = student_updated_df['Budget ($)'].values.tolist()\n",
    "student_labels_col = student_updated_df['Expense Category'].values.tolist()\n",
    "\n",
    "# Check if a number if float\n",
    "\n",
    "def isfloat(value):\n",
    "    \n",
    "    try:\n",
    "        \n",
    "        float(value)\n",
    "        \n",
    "        return True\n",
    "    \n",
    "    except ValueError:\n",
    "        \n",
    "        return False\n",
    "\n",
    "# Function: Check for validity of budget column entries\n",
    "# Input: Student's budget column values\n",
    "# Output: Boolean, false if one of the entries is invalid\n",
    "\n",
    "def check_budget_column(input_list):\n",
    "    \n",
    "    valid_inputs = '0123456789.'\n",
    "    \n",
    "    # Check if inputs are valid\n",
    "    \n",
    "    for entry in input_list:\n",
    "        \n",
    "        if( isfloat(entry) == False):\n",
    "            \n",
    "            return False\n",
    "    \n",
    "    return True\n",
    "\n",
    "# Function: Calculate the percentage of each expense category\n",
    "# Input: Student expense category lists and student budget column values\n",
    "# Output: Percentages column \n",
    "\n",
    "def get_percentages(input_list):\n",
    "    \n",
    "    total = 0\n",
    "    percentage_col = []\n",
    "    \n",
    "    # Obtain total\n",
    "    \n",
    "    for entry in input_list:\n",
    "        \n",
    "        entry = eval(entry)        \n",
    "        total += entry\n",
    "        \n",
    "    # Obtain percentages\n",
    "    \n",
    "    for entry in input_list:\n",
    "        \n",
    "        entry = eval(entry)\n",
    "        current_percentage = entry/total\n",
    "        percentage_col.append( round(current_percentage*100,2) )\n",
    "    \n",
    "    return percentage_col\n",
    "\n",
    "# If student input is valid, create a pie chart plot\n",
    "\n",
    "colors = ['yellowgreen', 'gold', 'lightskyblue', 'lightcoral','darkseagreen','lightcyan','lightpink','coral','tan','slateblue','azure','tomato','lawngreen']\n",
    "\n",
    "if(check_budget_column(student_budget_col) == True):\n",
    "    \n",
    "    student_values = get_percentages(student_budget_col)\n",
    "    labels = student_labels_col\n",
    "    \n",
    "    plt.figure(figsize=(20,10))\n",
    "    plt.rcParams['font.size'] = 20\n",
    "    plt.title('Your Expense Category Percentage Breakdown',fontsize=25)\n",
    "    plt.pie(student_values, labels=labels, colors=colors, autopct='%1.1f%%', shadow=True, startangle=35)\n",
    "    plt.axis('equal') \n",
    "    plt.show()\n",
    "    \n",
    "else:\n",
    "    \n",
    "    display(Markdown(\"Please enter decimal numbers only for the budget column\"))"
   ]
  },
  {
   "cell_type": "markdown",
   "metadata": {},
   "source": [
    "[![Callysto.ca License](https://github.com/callysto/curriculum-notebooks/blob/master/callysto-notebook-banner-bottom.jpg?raw=true)](https://github.com/callysto/curriculum-notebooks/blob/master/LICENSE.md)"
   ]
  }
 ],
 "metadata": {
  "celltoolbar": "Edit Metadata",
  "kernelspec": {
   "display_name": "Python 3",
   "language": "python",
   "name": "python3"
  },
  "language_info": {
   "codemirror_mode": {
    "name": "ipython",
    "version": 3
   },
   "file_extension": ".py",
   "mimetype": "text/x-python",
   "name": "python",
   "nbconvert_exporter": "python",
   "pygments_lexer": "ipython3",
   "version": "3.7.4"
  },
  "widgets": {
   "application/vnd.jupyter.widget-state+json": {
    "state": {
     "018d7faee0b54123afe0f2eb07caeb49": {
      "model_module": "@jupyter-widgets/base",
      "model_module_version": "1.2.0",
      "model_name": "LayoutModel",
      "state": {
       "_model_module": "@jupyter-widgets/base",
       "_model_module_version": "1.2.0",
       "_model_name": "LayoutModel",
       "_view_count": null,
       "_view_module": "@jupyter-widgets/base",
       "_view_module_version": "1.2.0",
       "_view_name": "LayoutView",
       "align_content": null,
       "align_items": null,
       "align_self": null,
       "border": null,
       "bottom": null,
       "display": null,
       "flex": null,
       "flex_flow": null,
       "grid_area": null,
       "grid_auto_columns": null,
       "grid_auto_flow": null,
       "grid_auto_rows": null,
       "grid_column": null,
       "grid_gap": null,
       "grid_row": null,
       "grid_template_areas": null,
       "grid_template_columns": null,
       "grid_template_rows": null,
       "height": "30px",
       "justify_content": null,
       "justify_items": null,
       "left": null,
       "margin": null,
       "max_height": null,
       "max_width": null,
       "min_height": null,
       "min_width": null,
       "object_fit": null,
       "object_position": null,
       "order": null,
       "overflow": null,
       "overflow_x": null,
       "overflow_y": null,
       "padding": null,
       "right": null,
       "top": null,
       "visibility": null,
       "width": "15%"
      }
     },
     "019fff39105a4763afb2f858ed632765": {
      "model_module": "@jupyter-widgets/controls",
      "model_module_version": "1.5.0",
      "model_name": "ButtonModel",
      "state": {
       "_dom_classes": [],
       "_model_module": "@jupyter-widgets/controls",
       "_model_module_version": "1.5.0",
       "_model_name": "ButtonModel",
       "_view_count": null,
       "_view_module": "@jupyter-widgets/controls",
       "_view_module_version": "1.5.0",
       "_view_name": "ButtonView",
       "button_style": "info",
       "description": "Record Answers",
       "disabled": false,
       "icon": "",
       "layout": "IPY_MODEL_e0017309ceee4b6fa57ba95b96bc7eb9",
       "style": "IPY_MODEL_c14c95712bce45408b922a7966537dfc",
       "tooltip": ""
      }
     },
     "01a9a07c01d64a7eb7abccdb0aa70b9b": {
      "model_module": "@jupyter-widgets/base",
      "model_module_version": "1.2.0",
      "model_name": "LayoutModel",
      "state": {
       "_model_module": "@jupyter-widgets/base",
       "_model_module_version": "1.2.0",
       "_model_name": "LayoutModel",
       "_view_count": null,
       "_view_module": "@jupyter-widgets/base",
       "_view_module_version": "1.2.0",
       "_view_name": "LayoutView",
       "align_content": null,
       "align_items": null,
       "align_self": null,
       "border": null,
       "bottom": null,
       "display": null,
       "flex": null,
       "flex_flow": null,
       "grid_area": null,
       "grid_auto_columns": null,
       "grid_auto_flow": null,
       "grid_auto_rows": null,
       "grid_column": null,
       "grid_gap": null,
       "grid_row": null,
       "grid_template_areas": null,
       "grid_template_columns": null,
       "grid_template_rows": null,
       "height": "75px",
       "justify_content": null,
       "justify_items": null,
       "left": null,
       "margin": null,
       "max_height": null,
       "max_width": null,
       "min_height": null,
       "min_width": null,
       "object_fit": null,
       "object_position": null,
       "order": null,
       "overflow": null,
       "overflow_x": null,
       "overflow_y": null,
       "padding": null,
       "right": null,
       "top": null,
       "visibility": null,
       "width": "100%"
      }
     },
     "03d58692df664ab6a95afe0769813a97": {
      "model_module": "@jupyter-widgets/controls",
      "model_module_version": "1.5.0",
      "model_name": "DescriptionStyleModel",
      "state": {
       "_model_module": "@jupyter-widgets/controls",
       "_model_module_version": "1.5.0",
       "_model_name": "DescriptionStyleModel",
       "_view_count": null,
       "_view_module": "@jupyter-widgets/base",
       "_view_module_version": "1.2.0",
       "_view_name": "StyleView",
       "description_width": ""
      }
     },
     "04509c2cf9be4c54959ea6d300f7c1a0": {
      "model_module": "@jupyter-widgets/controls",
      "model_module_version": "1.5.0",
      "model_name": "ButtonStyleModel",
      "state": {
       "_model_module": "@jupyter-widgets/controls",
       "_model_module_version": "1.5.0",
       "_model_name": "ButtonStyleModel",
       "_view_count": null,
       "_view_module": "@jupyter-widgets/base",
       "_view_module_version": "1.2.0",
       "_view_name": "StyleView",
       "button_color": null,
       "font_weight": ""
      }
     },
     "051382e1c5ab43e38488445cb73a2e3a": {
      "model_module": "@jupyter-widgets/base",
      "model_module_version": "1.2.0",
      "model_name": "LayoutModel",
      "state": {
       "_model_module": "@jupyter-widgets/base",
       "_model_module_version": "1.2.0",
       "_model_name": "LayoutModel",
       "_view_count": null,
       "_view_module": "@jupyter-widgets/base",
       "_view_module_version": "1.2.0",
       "_view_name": "LayoutView",
       "align_content": null,
       "align_items": null,
       "align_self": null,
       "border": null,
       "bottom": null,
       "display": null,
       "flex": null,
       "flex_flow": null,
       "grid_area": null,
       "grid_auto_columns": null,
       "grid_auto_flow": null,
       "grid_auto_rows": null,
       "grid_column": null,
       "grid_gap": null,
       "grid_row": null,
       "grid_template_areas": null,
       "grid_template_columns": null,
       "grid_template_rows": null,
       "height": null,
       "justify_content": null,
       "justify_items": null,
       "left": null,
       "margin": null,
       "max_height": null,
       "max_width": null,
       "min_height": null,
       "min_width": null,
       "object_fit": null,
       "object_position": null,
       "order": null,
       "overflow": null,
       "overflow_x": null,
       "overflow_y": null,
       "padding": null,
       "right": null,
       "top": null,
       "visibility": null,
       "width": "100%"
      }
     },
     "051fab6eb26d4e58bd695cc6e98cfeaa": {
      "model_module": "@jupyter-widgets/base",
      "model_module_version": "1.2.0",
      "model_name": "LayoutModel",
      "state": {
       "_model_module": "@jupyter-widgets/base",
       "_model_module_version": "1.2.0",
       "_model_name": "LayoutModel",
       "_view_count": null,
       "_view_module": "@jupyter-widgets/base",
       "_view_module_version": "1.2.0",
       "_view_name": "LayoutView",
       "align_content": null,
       "align_items": null,
       "align_self": null,
       "border": null,
       "bottom": null,
       "display": null,
       "flex": null,
       "flex_flow": null,
       "grid_area": null,
       "grid_auto_columns": null,
       "grid_auto_flow": null,
       "grid_auto_rows": null,
       "grid_column": null,
       "grid_gap": null,
       "grid_row": null,
       "grid_template_areas": null,
       "grid_template_columns": null,
       "grid_template_rows": null,
       "height": "75px",
       "justify_content": null,
       "justify_items": null,
       "left": null,
       "margin": null,
       "max_height": null,
       "max_width": null,
       "min_height": null,
       "min_width": null,
       "object_fit": null,
       "object_position": null,
       "order": null,
       "overflow": null,
       "overflow_x": null,
       "overflow_y": null,
       "padding": null,
       "right": null,
       "top": null,
       "visibility": null,
       "width": "100%"
      }
     },
     "0aebb5b3e2614ef6ac1daf08b20e8f80": {
      "model_module": "@jupyter-widgets/controls",
      "model_module_version": "1.5.0",
      "model_name": "TextareaModel",
      "state": {
       "_dom_classes": [],
       "_model_module": "@jupyter-widgets/controls",
       "_model_module_version": "1.5.0",
       "_model_name": "TextareaModel",
       "_view_count": null,
       "_view_module": "@jupyter-widgets/controls",
       "_view_module_version": "1.5.0",
       "_view_name": "TextareaView",
       "continuous_update": true,
       "description": "",
       "description_tooltip": null,
       "disabled": false,
       "layout": "IPY_MODEL_01a9a07c01d64a7eb7abccdb0aa70b9b",
       "placeholder": "Write your answer here for Question 3.",
       "rows": null,
       "style": "IPY_MODEL_9490a3df54fe43b8b14bb7274b56473f",
       "value": ""
      }
     },
     "0e58c9f4d31f419a9e18acf170b9bc11": {
      "model_module": "@jupyter-widgets/controls",
      "model_module_version": "1.5.0",
      "model_name": "ButtonModel",
      "state": {
       "_dom_classes": [],
       "_model_module": "@jupyter-widgets/controls",
       "_model_module_version": "1.5.0",
       "_model_name": "ButtonModel",
       "_view_count": null,
       "_view_module": "@jupyter-widgets/controls",
       "_view_module_version": "1.5.0",
       "_view_name": "ButtonView",
       "button_style": "info",
       "description": "Plot Pie Chart",
       "disabled": false,
       "icon": "",
       "layout": "IPY_MODEL_cf61d31eb7134809a5a46e469a893bdd",
       "style": "IPY_MODEL_dd49c1143be34d728a197c146b830406",
       "tooltip": ""
      }
     },
     "0ff47d06444f4f1d80cf07d373a86fb0": {
      "model_module": "@jupyter-widgets/controls",
      "model_module_version": "1.5.0",
      "model_name": "ButtonModel",
      "state": {
       "_dom_classes": [],
       "_model_module": "@jupyter-widgets/controls",
       "_model_module_version": "1.5.0",
       "_model_name": "ButtonModel",
       "_view_count": null,
       "_view_module": "@jupyter-widgets/controls",
       "_view_module_version": "1.5.0",
       "_view_name": "ButtonView",
       "button_style": "info",
       "description": "Save",
       "disabled": false,
       "icon": "",
       "layout": "IPY_MODEL_a636b0a118c549d5b1a4d93632a73564",
       "style": "IPY_MODEL_13fd5843719b49f6a4157a2ec96027e2",
       "tooltip": ""
      }
     },
     "13fd5843719b49f6a4157a2ec96027e2": {
      "model_module": "@jupyter-widgets/controls",
      "model_module_version": "1.5.0",
      "model_name": "ButtonStyleModel",
      "state": {
       "_model_module": "@jupyter-widgets/controls",
       "_model_module_version": "1.5.0",
       "_model_name": "ButtonStyleModel",
       "_view_count": null,
       "_view_module": "@jupyter-widgets/base",
       "_view_module_version": "1.2.0",
       "_view_name": "StyleView",
       "button_color": null,
       "font_weight": ""
      }
     },
     "163be077764949a4b24269b1fe0c2669": {
      "model_module": "@jupyter-widgets/base",
      "model_module_version": "1.2.0",
      "model_name": "LayoutModel",
      "state": {
       "_model_module": "@jupyter-widgets/base",
       "_model_module_version": "1.2.0",
       "_model_name": "LayoutModel",
       "_view_count": null,
       "_view_module": "@jupyter-widgets/base",
       "_view_module_version": "1.2.0",
       "_view_name": "LayoutView",
       "align_content": null,
       "align_items": null,
       "align_self": null,
       "border": null,
       "bottom": null,
       "display": null,
       "flex": null,
       "flex_flow": null,
       "grid_area": null,
       "grid_auto_columns": null,
       "grid_auto_flow": null,
       "grid_auto_rows": null,
       "grid_column": null,
       "grid_gap": null,
       "grid_row": null,
       "grid_template_areas": null,
       "grid_template_columns": null,
       "grid_template_rows": null,
       "height": "75px",
       "justify_content": null,
       "justify_items": null,
       "left": null,
       "margin": null,
       "max_height": null,
       "max_width": null,
       "min_height": null,
       "min_width": null,
       "object_fit": null,
       "object_position": null,
       "order": null,
       "overflow": null,
       "overflow_x": null,
       "overflow_y": null,
       "padding": null,
       "right": null,
       "top": null,
       "visibility": null,
       "width": "100%"
      }
     },
     "166c31b991f34fb1a4eca3f655fb6a29": {
      "model_module": "@jupyter-widgets/controls",
      "model_module_version": "1.5.0",
      "model_name": "TextareaModel",
      "state": {
       "_dom_classes": [],
       "_model_module": "@jupyter-widgets/controls",
       "_model_module_version": "1.5.0",
       "_model_name": "TextareaModel",
       "_view_count": null,
       "_view_module": "@jupyter-widgets/controls",
       "_view_module_version": "1.5.0",
       "_view_name": "TextareaView",
       "continuous_update": true,
       "description": "",
       "description_tooltip": null,
       "disabled": false,
       "layout": "IPY_MODEL_46ace05ee98546c083228797a9fc3934",
       "placeholder": "Write your answer here for Question 7.a.",
       "rows": null,
       "style": "IPY_MODEL_575bde035eeb4552be3fa0351db1078d",
       "value": ""
      }
     },
     "168243c77d44443b8ea1affcea8e882c": {
      "model_module": "@jupyter-widgets/controls",
      "model_module_version": "1.5.0",
      "model_name": "ButtonModel",
      "state": {
       "_dom_classes": [],
       "_model_module": "@jupyter-widgets/controls",
       "_model_module_version": "1.5.0",
       "_model_name": "ButtonModel",
       "_view_count": null,
       "_view_module": "@jupyter-widgets/controls",
       "_view_module_version": "1.5.0",
       "_view_name": "ButtonView",
       "button_style": "info",
       "description": "Calculate",
       "disabled": false,
       "icon": "",
       "layout": "IPY_MODEL_018d7faee0b54123afe0f2eb07caeb49",
       "style": "IPY_MODEL_529beacb6a784872975a7e92bc33b4e4",
       "tooltip": ""
      }
     },
     "17338f41a10944468d656ac816cbfd3f": {
      "model_module": "@jupyter-widgets/controls",
      "model_module_version": "1.5.0",
      "model_name": "RadioButtonsModel",
      "state": {
       "_dom_classes": [],
       "_model_module": "@jupyter-widgets/controls",
       "_model_module_version": "1.5.0",
       "_model_name": "RadioButtonsModel",
       "_options_labels": [
        "Fixed",
        "Variable"
       ],
       "_view_count": null,
       "_view_module": "@jupyter-widgets/controls",
       "_view_module_version": "1.5.0",
       "_view_name": "RadioButtonsView",
       "description": "",
       "description_tooltip": null,
       "disabled": false,
       "index": 0,
       "layout": "IPY_MODEL_b24d6171d0564e76bc0d9a42b5db1097",
       "style": "IPY_MODEL_6a37cc827f834e63b84e3b074b850c00"
      }
     },
     "17ca831c59bd40c99d69f9ac70caca06": {
      "model_module": "@jupyter-widgets/base",
      "model_module_version": "1.2.0",
      "model_name": "LayoutModel",
      "state": {
       "_model_module": "@jupyter-widgets/base",
       "_model_module_version": "1.2.0",
       "_model_name": "LayoutModel",
       "_view_count": null,
       "_view_module": "@jupyter-widgets/base",
       "_view_module_version": "1.2.0",
       "_view_name": "LayoutView",
       "align_content": null,
       "align_items": null,
       "align_self": null,
       "border": null,
       "bottom": null,
       "display": null,
       "flex": null,
       "flex_flow": null,
       "grid_area": null,
       "grid_auto_columns": null,
       "grid_auto_flow": null,
       "grid_auto_rows": null,
       "grid_column": null,
       "grid_gap": null,
       "grid_row": null,
       "grid_template_areas": null,
       "grid_template_columns": null,
       "grid_template_rows": null,
       "height": null,
       "justify_content": null,
       "justify_items": null,
       "left": null,
       "margin": null,
       "max_height": null,
       "max_width": null,
       "min_height": null,
       "min_width": null,
       "object_fit": null,
       "object_position": null,
       "order": null,
       "overflow": null,
       "overflow_x": null,
       "overflow_y": null,
       "padding": null,
       "right": null,
       "top": null,
       "visibility": null,
       "width": null
      }
     },
     "1d5c5e6766604f70b398656f950be8b3": {
      "model_module": "@jupyter-widgets/controls",
      "model_module_version": "1.5.0",
      "model_name": "DescriptionStyleModel",
      "state": {
       "_model_module": "@jupyter-widgets/controls",
       "_model_module_version": "1.5.0",
       "_model_name": "DescriptionStyleModel",
       "_view_count": null,
       "_view_module": "@jupyter-widgets/base",
       "_view_module_version": "1.2.0",
       "_view_name": "StyleView",
       "description_width": ""
      }
     },
     "1e221434e005404497d5ecfff6e9944b": {
      "model_module": "@jupyter-widgets/controls",
      "model_module_version": "1.5.0",
      "model_name": "ButtonStyleModel",
      "state": {
       "_model_module": "@jupyter-widgets/controls",
       "_model_module_version": "1.5.0",
       "_model_name": "ButtonStyleModel",
       "_view_count": null,
       "_view_module": "@jupyter-widgets/base",
       "_view_module_version": "1.2.0",
       "_view_name": "StyleView",
       "button_color": null,
       "font_weight": ""
      }
     },
     "1faccbe61fed4037936b5744ea274384": {
      "model_module": "@jupyter-widgets/base",
      "model_module_version": "1.2.0",
      "model_name": "LayoutModel",
      "state": {
       "_model_module": "@jupyter-widgets/base",
       "_model_module_version": "1.2.0",
       "_model_name": "LayoutModel",
       "_view_count": null,
       "_view_module": "@jupyter-widgets/base",
       "_view_module_version": "1.2.0",
       "_view_name": "LayoutView",
       "align_content": null,
       "align_items": null,
       "align_self": null,
       "border": null,
       "bottom": null,
       "display": null,
       "flex": null,
       "flex_flow": null,
       "grid_area": null,
       "grid_auto_columns": null,
       "grid_auto_flow": null,
       "grid_auto_rows": null,
       "grid_column": null,
       "grid_gap": null,
       "grid_row": null,
       "grid_template_areas": null,
       "grid_template_columns": null,
       "grid_template_rows": null,
       "height": "30px",
       "justify_content": null,
       "justify_items": null,
       "left": null,
       "margin": null,
       "max_height": null,
       "max_width": null,
       "min_height": null,
       "min_width": null,
       "object_fit": null,
       "object_position": null,
       "order": null,
       "overflow": null,
       "overflow_x": null,
       "overflow_y": null,
       "padding": null,
       "right": null,
       "top": null,
       "visibility": null,
       "width": "15%"
      }
     },
     "200ee67691b946f49130fa7f66688251": {
      "model_module": "@jupyter-widgets/controls",
      "model_module_version": "1.5.0",
      "model_name": "RadioButtonsModel",
      "state": {
       "_dom_classes": [],
       "_model_module": "@jupyter-widgets/controls",
       "_model_module_version": "1.5.0",
       "_model_name": "RadioButtonsModel",
       "_options_labels": [
        "Fixed",
        "Variable"
       ],
       "_view_count": null,
       "_view_module": "@jupyter-widgets/controls",
       "_view_module_version": "1.5.0",
       "_view_name": "RadioButtonsView",
       "description": "",
       "description_tooltip": null,
       "disabled": false,
       "index": 0,
       "layout": "IPY_MODEL_243258fcc59f44f492bda1890f306e87",
       "style": "IPY_MODEL_e667eb6153304d53bcd7fba4546534f6"
      }
     },
     "219026532eef42a78fa07ad22e64aefd": {
      "model_module": "@jupyter-widgets/controls",
      "model_module_version": "1.5.0",
      "model_name": "ButtonStyleModel",
      "state": {
       "_model_module": "@jupyter-widgets/controls",
       "_model_module_version": "1.5.0",
       "_model_name": "ButtonStyleModel",
       "_view_count": null,
       "_view_module": "@jupyter-widgets/base",
       "_view_module_version": "1.2.0",
       "_view_name": "StyleView",
       "button_color": null,
       "font_weight": ""
      }
     },
     "22c49894da42465dbdeac0056ad89bd5": {
      "model_module": "@jupyter-widgets/base",
      "model_module_version": "1.2.0",
      "model_name": "LayoutModel",
      "state": {
       "_model_module": "@jupyter-widgets/base",
       "_model_module_version": "1.2.0",
       "_model_name": "LayoutModel",
       "_view_count": null,
       "_view_module": "@jupyter-widgets/base",
       "_view_module_version": "1.2.0",
       "_view_name": "LayoutView",
       "align_content": null,
       "align_items": null,
       "align_self": null,
       "border": null,
       "bottom": null,
       "display": null,
       "flex": null,
       "flex_flow": null,
       "grid_area": null,
       "grid_auto_columns": null,
       "grid_auto_flow": null,
       "grid_auto_rows": null,
       "grid_column": null,
       "grid_gap": null,
       "grid_row": null,
       "grid_template_areas": null,
       "grid_template_columns": null,
       "grid_template_rows": null,
       "height": "30px",
       "justify_content": null,
       "justify_items": null,
       "left": null,
       "margin": null,
       "max_height": null,
       "max_width": null,
       "min_height": null,
       "min_width": null,
       "object_fit": null,
       "object_position": null,
       "order": null,
       "overflow": null,
       "overflow_x": null,
       "overflow_y": null,
       "padding": null,
       "right": null,
       "top": null,
       "visibility": null,
       "width": "15%"
      }
     },
     "23a9acf1594c4de1855ec9a2ea9627ca": {
      "model_module": "@jupyter-widgets/controls",
      "model_module_version": "1.5.0",
      "model_name": "DescriptionStyleModel",
      "state": {
       "_model_module": "@jupyter-widgets/controls",
       "_model_module_version": "1.5.0",
       "_model_name": "DescriptionStyleModel",
       "_view_count": null,
       "_view_module": "@jupyter-widgets/base",
       "_view_module_version": "1.2.0",
       "_view_name": "StyleView",
       "description_width": ""
      }
     },
     "243258fcc59f44f492bda1890f306e87": {
      "model_module": "@jupyter-widgets/base",
      "model_module_version": "1.2.0",
      "model_name": "LayoutModel",
      "state": {
       "_model_module": "@jupyter-widgets/base",
       "_model_module_version": "1.2.0",
       "_model_name": "LayoutModel",
       "_view_count": null,
       "_view_module": "@jupyter-widgets/base",
       "_view_module_version": "1.2.0",
       "_view_name": "LayoutView",
       "align_content": null,
       "align_items": null,
       "align_self": null,
       "border": null,
       "bottom": null,
       "display": null,
       "flex": null,
       "flex_flow": null,
       "grid_area": null,
       "grid_auto_columns": null,
       "grid_auto_flow": null,
       "grid_auto_rows": null,
       "grid_column": null,
       "grid_gap": null,
       "grid_row": null,
       "grid_template_areas": null,
       "grid_template_columns": null,
       "grid_template_rows": null,
       "height": null,
       "justify_content": null,
       "justify_items": null,
       "left": null,
       "margin": null,
       "max_height": null,
       "max_width": null,
       "min_height": null,
       "min_width": null,
       "object_fit": null,
       "object_position": null,
       "order": null,
       "overflow": null,
       "overflow_x": null,
       "overflow_y": null,
       "padding": null,
       "right": null,
       "top": null,
       "visibility": null,
       "width": "100%"
      }
     },
     "2542b67ee18747479630a10a4795e188": {
      "model_module": "@jupyter-widgets/base",
      "model_module_version": "1.2.0",
      "model_name": "LayoutModel",
      "state": {
       "_model_module": "@jupyter-widgets/base",
       "_model_module_version": "1.2.0",
       "_model_name": "LayoutModel",
       "_view_count": null,
       "_view_module": "@jupyter-widgets/base",
       "_view_module_version": "1.2.0",
       "_view_name": "LayoutView",
       "align_content": null,
       "align_items": null,
       "align_self": null,
       "border": null,
       "bottom": null,
       "display": null,
       "flex": null,
       "flex_flow": null,
       "grid_area": null,
       "grid_auto_columns": null,
       "grid_auto_flow": null,
       "grid_auto_rows": null,
       "grid_column": null,
       "grid_gap": null,
       "grid_row": null,
       "grid_template_areas": null,
       "grid_template_columns": null,
       "grid_template_rows": null,
       "height": null,
       "justify_content": null,
       "justify_items": null,
       "left": null,
       "margin": null,
       "max_height": null,
       "max_width": null,
       "min_height": null,
       "min_width": null,
       "object_fit": null,
       "object_position": null,
       "order": null,
       "overflow": null,
       "overflow_x": null,
       "overflow_y": null,
       "padding": null,
       "right": null,
       "top": null,
       "visibility": null,
       "width": null
      }
     },
     "25efe830ad624d7ea8b3bff51702bfe8": {
      "model_module": "@jupyter-widgets/controls",
      "model_module_version": "1.5.0",
      "model_name": "TextareaModel",
      "state": {
       "_dom_classes": [],
       "_model_module": "@jupyter-widgets/controls",
       "_model_module_version": "1.5.0",
       "_model_name": "TextareaModel",
       "_view_count": null,
       "_view_module": "@jupyter-widgets/controls",
       "_view_module_version": "1.5.0",
       "_view_name": "TextareaView",
       "continuous_update": true,
       "description": "",
       "description_tooltip": null,
       "disabled": false,
       "layout": "IPY_MODEL_163be077764949a4b24269b1fe0c2669",
       "placeholder": "Write your answer here for Question 1.",
       "rows": null,
       "style": "IPY_MODEL_d9d578b21ea946fda5bee788fc314d71",
       "value": ""
      }
     },
     "28875a5902e740f68559caf3b060aceb": {
      "model_module": "@jupyter-widgets/base",
      "model_module_version": "1.2.0",
      "model_name": "LayoutModel",
      "state": {
       "_model_module": "@jupyter-widgets/base",
       "_model_module_version": "1.2.0",
       "_model_name": "LayoutModel",
       "_view_count": null,
       "_view_module": "@jupyter-widgets/base",
       "_view_module_version": "1.2.0",
       "_view_name": "LayoutView",
       "align_content": null,
       "align_items": null,
       "align_self": null,
       "border": null,
       "bottom": null,
       "display": null,
       "flex": null,
       "flex_flow": null,
       "grid_area": null,
       "grid_auto_columns": null,
       "grid_auto_flow": null,
       "grid_auto_rows": null,
       "grid_column": null,
       "grid_gap": null,
       "grid_row": null,
       "grid_template_areas": null,
       "grid_template_columns": null,
       "grid_template_rows": null,
       "height": "30px",
       "justify_content": null,
       "justify_items": null,
       "left": null,
       "margin": null,
       "max_height": null,
       "max_width": null,
       "min_height": null,
       "min_width": null,
       "object_fit": null,
       "object_position": null,
       "order": null,
       "overflow": null,
       "overflow_x": null,
       "overflow_y": null,
       "padding": null,
       "right": null,
       "top": null,
       "visibility": null,
       "width": "15%"
      }
     },
     "2acf0226eef945e0ad879ba351905922": {
      "model_module": "@jupyter-widgets/controls",
      "model_module_version": "1.5.0",
      "model_name": "ButtonModel",
      "state": {
       "_dom_classes": [],
       "_model_module": "@jupyter-widgets/controls",
       "_model_module_version": "1.5.0",
       "_model_name": "ButtonModel",
       "_view_count": null,
       "_view_module": "@jupyter-widgets/controls",
       "_view_module_version": "1.5.0",
       "_view_name": "ButtonView",
       "button_style": "info",
       "description": "Record Answer",
       "disabled": false,
       "icon": "",
       "layout": "IPY_MODEL_938a64d7786e4538b79bd6108a96018d",
       "style": "IPY_MODEL_3613d282c9d74d3cb798aef6ab2b4ea4",
       "tooltip": ""
      }
     },
     "2f5c6366f0b34630ba2d80c32ccbe78d": {
      "model_module": "@jupyter-widgets/controls",
      "model_module_version": "1.5.0",
      "model_name": "ButtonStyleModel",
      "state": {
       "_model_module": "@jupyter-widgets/controls",
       "_model_module_version": "1.5.0",
       "_model_name": "ButtonStyleModel",
       "_view_count": null,
       "_view_module": "@jupyter-widgets/base",
       "_view_module_version": "1.2.0",
       "_view_name": "StyleView",
       "button_color": null,
       "font_weight": ""
      }
     },
     "30060c354f9048ed97748343e4fc5bec": {
      "model_module": "@jupyter-widgets/controls",
      "model_module_version": "1.5.0",
      "model_name": "DropdownModel",
      "state": {
       "_dom_classes": [],
       "_model_module": "@jupyter-widgets/controls",
       "_model_module_version": "1.5.0",
       "_model_name": "DropdownModel",
       "_options_labels": [
        "1",
        "2",
        "3",
        "4",
        "5",
        "6",
        "7",
        "8",
        "9",
        "10",
        "11",
        "12",
        "13"
       ],
       "_view_count": null,
       "_view_module": "@jupyter-widgets/controls",
       "_view_module_version": "1.5.0",
       "_view_name": "DropdownView",
       "description": "Categories",
       "description_tooltip": null,
       "disabled": false,
       "index": 2,
       "layout": "IPY_MODEL_2542b67ee18747479630a10a4795e188",
       "style": "IPY_MODEL_f70b8000abce4a32a456aac3eb57a360"
      }
     },
     "3613d282c9d74d3cb798aef6ab2b4ea4": {
      "model_module": "@jupyter-widgets/controls",
      "model_module_version": "1.5.0",
      "model_name": "ButtonStyleModel",
      "state": {
       "_model_module": "@jupyter-widgets/controls",
       "_model_module_version": "1.5.0",
       "_model_name": "ButtonStyleModel",
       "_view_count": null,
       "_view_module": "@jupyter-widgets/base",
       "_view_module_version": "1.2.0",
       "_view_name": "StyleView",
       "button_color": null,
       "font_weight": ""
      }
     },
     "3801c074bbdb4f829d7a2c84aac4c285": {
      "model_module": "@jupyter-widgets/controls",
      "model_module_version": "1.5.0",
      "model_name": "ButtonStyleModel",
      "state": {
       "_model_module": "@jupyter-widgets/controls",
       "_model_module_version": "1.5.0",
       "_model_name": "ButtonStyleModel",
       "_view_count": null,
       "_view_module": "@jupyter-widgets/base",
       "_view_module_version": "1.2.0",
       "_view_name": "StyleView",
       "button_color": null,
       "font_weight": ""
      }
     },
     "3d8ad5e72afc4a2c944a4f769fc0dba8": {
      "model_module": "@jupyter-widgets/controls",
      "model_module_version": "1.5.0",
      "model_name": "ButtonStyleModel",
      "state": {
       "_model_module": "@jupyter-widgets/controls",
       "_model_module_version": "1.5.0",
       "_model_name": "ButtonStyleModel",
       "_view_count": null,
       "_view_module": "@jupyter-widgets/base",
       "_view_module_version": "1.2.0",
       "_view_name": "StyleView",
       "button_color": null,
       "font_weight": ""
      }
     },
     "43c144635cc644eb9461160e13386bdc": {
      "model_module": "@jupyter-widgets/controls",
      "model_module_version": "1.5.0",
      "model_name": "ButtonModel",
      "state": {
       "_dom_classes": [],
       "_model_module": "@jupyter-widgets/controls",
       "_model_module_version": "1.5.0",
       "_model_name": "ButtonModel",
       "_view_count": null,
       "_view_module": "@jupyter-widgets/controls",
       "_view_module_version": "1.5.0",
       "_view_name": "ButtonView",
       "button_style": "info",
       "description": "Record Answer",
       "disabled": false,
       "icon": "",
       "layout": "IPY_MODEL_8f94acfd6f6845df9463a89221f13c7e",
       "style": "IPY_MODEL_1e221434e005404497d5ecfff6e9944b",
       "tooltip": ""
      }
     },
     "44ce1db0c2364798986aed69a58ad63f": {
      "model_module": "@jupyter-widgets/base",
      "model_module_version": "1.2.0",
      "model_name": "LayoutModel",
      "state": {
       "_model_module": "@jupyter-widgets/base",
       "_model_module_version": "1.2.0",
       "_model_name": "LayoutModel",
       "_view_count": null,
       "_view_module": "@jupyter-widgets/base",
       "_view_module_version": "1.2.0",
       "_view_name": "LayoutView",
       "align_content": null,
       "align_items": null,
       "align_self": null,
       "border": null,
       "bottom": null,
       "display": null,
       "flex": null,
       "flex_flow": null,
       "grid_area": null,
       "grid_auto_columns": null,
       "grid_auto_flow": null,
       "grid_auto_rows": null,
       "grid_column": null,
       "grid_gap": null,
       "grid_row": null,
       "grid_template_areas": null,
       "grid_template_columns": null,
       "grid_template_rows": null,
       "height": null,
       "justify_content": null,
       "justify_items": null,
       "left": null,
       "margin": null,
       "max_height": null,
       "max_width": null,
       "min_height": null,
       "min_width": null,
       "object_fit": null,
       "object_position": null,
       "order": null,
       "overflow": null,
       "overflow_x": null,
       "overflow_y": null,
       "padding": null,
       "right": null,
       "top": null,
       "visibility": null,
       "width": null
      }
     },
     "45e9f0a693ae4872b397ce3195da6e56": {
      "model_module": "@jupyter-widgets/controls",
      "model_module_version": "1.5.0",
      "model_name": "ButtonStyleModel",
      "state": {
       "_model_module": "@jupyter-widgets/controls",
       "_model_module_version": "1.5.0",
       "_model_name": "ButtonStyleModel",
       "_view_count": null,
       "_view_module": "@jupyter-widgets/base",
       "_view_module_version": "1.2.0",
       "_view_name": "StyleView",
       "button_color": null,
       "font_weight": ""
      }
     },
     "46ace05ee98546c083228797a9fc3934": {
      "model_module": "@jupyter-widgets/base",
      "model_module_version": "1.2.0",
      "model_name": "LayoutModel",
      "state": {
       "_model_module": "@jupyter-widgets/base",
       "_model_module_version": "1.2.0",
       "_model_name": "LayoutModel",
       "_view_count": null,
       "_view_module": "@jupyter-widgets/base",
       "_view_module_version": "1.2.0",
       "_view_name": "LayoutView",
       "align_content": null,
       "align_items": null,
       "align_self": null,
       "border": null,
       "bottom": null,
       "display": null,
       "flex": null,
       "flex_flow": null,
       "grid_area": null,
       "grid_auto_columns": null,
       "grid_auto_flow": null,
       "grid_auto_rows": null,
       "grid_column": null,
       "grid_gap": null,
       "grid_row": null,
       "grid_template_areas": null,
       "grid_template_columns": null,
       "grid_template_rows": null,
       "height": "75px",
       "justify_content": null,
       "justify_items": null,
       "left": null,
       "margin": null,
       "max_height": null,
       "max_width": null,
       "min_height": null,
       "min_width": null,
       "object_fit": null,
       "object_position": null,
       "order": null,
       "overflow": null,
       "overflow_x": null,
       "overflow_y": null,
       "padding": null,
       "right": null,
       "top": null,
       "visibility": null,
       "width": "100%"
      }
     },
     "46dd704c7d2142acb7e7aefa4cfb8c2f": {
      "model_module": "@jupyter-widgets/controls",
      "model_module_version": "1.5.0",
      "model_name": "ButtonModel",
      "state": {
       "_dom_classes": [],
       "_model_module": "@jupyter-widgets/controls",
       "_model_module_version": "1.5.0",
       "_model_name": "ButtonModel",
       "_view_count": null,
       "_view_module": "@jupyter-widgets/controls",
       "_view_module_version": "1.5.0",
       "_view_name": "ButtonView",
       "button_style": "info",
       "description": "Save",
       "disabled": false,
       "icon": "",
       "layout": "IPY_MODEL_a722d2cb2094482fadbc930861080777",
       "style": "IPY_MODEL_aac3798113d2470e827ddfb28d155716",
       "tooltip": ""
      }
     },
     "4c74188aac434de190acbc0e63595992": {
      "model_module": "qgrid",
      "model_module_version": "1.1.1",
      "model_name": "QgridModel",
      "state": {
       "_columns": {
        "Expense Category": {
         "cssClass": "string",
         "defaultSortAsc": true,
         "editable": true,
         "field": "Expense Category",
         "first_index": true,
         "id": "Expense Category",
         "index_display_text": "Expense Category",
         "is_index": true,
         "level": 0,
         "maxWidth": null,
         "minWidth": 30,
         "name": "Expense Category",
         "position": 0,
         "resizable": true,
         "sortable": true,
         "toolTip": "",
         "type": "string",
         "width": null
        },
        "Fixed or Variable": {
         "cssClass": "string",
         "defaultSortAsc": true,
         "editable": true,
         "field": "Fixed or Variable",
         "id": "Fixed or Variable",
         "maxWidth": null,
         "minWidth": 30,
         "name": "Fixed or Variable",
         "position": 2,
         "resizable": true,
         "sortable": true,
         "toolTip": "",
         "type": "string",
         "width": null
        },
        "qgrid_unfiltered_index": {
         "cssClass": "integer",
         "defaultSortAsc": true,
         "editable": true,
         "field": "qgrid_unfiltered_index",
         "id": "qgrid_unfiltered_index",
         "maxWidth": null,
         "minWidth": 30,
         "name": "qgrid_unfiltered_index",
         "position": 1,
         "resizable": true,
         "sortable": true,
         "toolTip": "",
         "type": "integer",
         "width": null
        }
       },
       "_df_json": "{\"schema\": {\"fields\":[{\"name\":\"Expense Category\",\"type\":\"string\"},{\"name\":\"qgrid_unfiltered_index\",\"type\":\"integer\"},{\"name\":\"Fixed or Variable\",\"type\":\"string\"}],\"primaryKey\":[\"Expense Category\"],\"pandas_version\":\"0.20.0\"}, \"data\": [{\"Expense Category\":\"Savings\",\"qgrid_unfiltered_index\":0,\"Fixed or Variable\":\"\"},{\"Expense Category\":\"Transportation\",\"qgrid_unfiltered_index\":1,\"Fixed or Variable\":\"\"},{\"Expense Category\":\"Food\",\"qgrid_unfiltered_index\":2,\"Fixed or Variable\":\"\"},{\"Expense Category\":\"Utilities\",\"qgrid_unfiltered_index\":3,\"Fixed or Variable\":\"\"},{\"Expense Category\":\"Clothing\",\"qgrid_unfiltered_index\":4,\"Fixed or Variable\":\"\"},{\"Expense Category\":\"Entertainment\",\"qgrid_unfiltered_index\":5,\"Fixed or Variable\":\"\"},{\"Expense Category\":\"Miscellaneous\",\"qgrid_unfiltered_index\":6,\"Fixed or Variable\":\"\"},{\"Expense Category\":\"Personal Care\",\"qgrid_unfiltered_index\":7,\"Fixed or Variable\":\"\"}]}",
       "_df_range": [
        0,
        100
       ],
       "_dom_classes": [],
       "_editable_rows": {},
       "_index_col_name": "qgrid_unfiltered_index",
       "_interval_columns": [],
       "_model_module": "qgrid",
       "_model_module_version": "1.1.1",
       "_model_name": "QgridModel",
       "_multi_index": false,
       "_row_count": 8,
       "_row_styles": {},
       "_sort_ascending": true,
       "_sort_field": null,
       "_view_count": null,
       "_view_module": "qgrid",
       "_view_module_version": "1.1.1",
       "_view_name": "QgridView",
       "_viewport_range": [
        0,
        100
       ],
       "grid_options": {
        "autoEdit": false,
        "boldIndex": true,
        "defaultColumnWidth": 150,
        "editable": true,
        "enableColumnReorder": true,
        "enableTextSelectionOnCells": true,
        "explicitInitialization": true,
        "filterable": false,
        "forceFitColumns": true,
        "fullWidthRows": true,
        "highlightSelectedCell": false,
        "highlightSelectedRow": true,
        "maxVisibleRows": 15,
        "minVisibleRows": 8,
        "rowHeight": 40,
        "sortable": false,
        "syncColumnCellResize": true
       },
       "id": "873b6947-9d57-431d-bef6-e879ddc54525",
       "layout": "IPY_MODEL_44ce1db0c2364798986aed69a58ad63f",
       "precision": 5,
       "show_toolbar": false
      }
     },
     "4e86ea0c8df041809665409a495bf334": {
      "model_module": "@jupyter-widgets/controls",
      "model_module_version": "1.5.0",
      "model_name": "ButtonModel",
      "state": {
       "_dom_classes": [],
       "_model_module": "@jupyter-widgets/controls",
       "_model_module_version": "1.5.0",
       "_model_name": "ButtonModel",
       "_view_count": null,
       "_view_module": "@jupyter-widgets/controls",
       "_view_module_version": "1.5.0",
       "_view_name": "ButtonView",
       "button_style": "info",
       "description": "Record Answers",
       "disabled": false,
       "icon": "",
       "layout": "IPY_MODEL_ae3e47d321a54823a97eab193b9c932e",
       "style": "IPY_MODEL_7af0668bbaaa42efb8740a8a62a9e05f",
       "tooltip": ""
      }
     },
     "4f1b7c5b0a8543499162b1743869b2e4": {
      "model_module": "@jupyter-widgets/controls",
      "model_module_version": "1.5.0",
      "model_name": "DescriptionStyleModel",
      "state": {
       "_model_module": "@jupyter-widgets/controls",
       "_model_module_version": "1.5.0",
       "_model_name": "DescriptionStyleModel",
       "_view_count": null,
       "_view_module": "@jupyter-widgets/base",
       "_view_module_version": "1.2.0",
       "_view_name": "StyleView",
       "description_width": ""
      }
     },
     "500fac8a0d6346d4baaac37dd8754b05": {
      "model_module": "@jupyter-widgets/controls",
      "model_module_version": "1.5.0",
      "model_name": "ButtonModel",
      "state": {
       "_dom_classes": [],
       "_model_module": "@jupyter-widgets/controls",
       "_model_module_version": "1.5.0",
       "_model_name": "ButtonModel",
       "_view_count": null,
       "_view_module": "@jupyter-widgets/controls",
       "_view_module_version": "1.5.0",
       "_view_name": "ButtonView",
       "button_style": "info",
       "description": "Record Answer",
       "disabled": false,
       "icon": "",
       "layout": "IPY_MODEL_6aa2596aa622436097f7bba849e4e31b",
       "style": "IPY_MODEL_3d8ad5e72afc4a2c944a4f769fc0dba8",
       "tooltip": ""
      }
     },
     "520218bf7a1b4df1ae41e89e6238d62f": {
      "model_module": "@jupyter-widgets/base",
      "model_module_version": "1.2.0",
      "model_name": "LayoutModel",
      "state": {
       "_model_module": "@jupyter-widgets/base",
       "_model_module_version": "1.2.0",
       "_model_name": "LayoutModel",
       "_view_count": null,
       "_view_module": "@jupyter-widgets/base",
       "_view_module_version": "1.2.0",
       "_view_name": "LayoutView",
       "align_content": null,
       "align_items": null,
       "align_self": null,
       "border": null,
       "bottom": null,
       "display": null,
       "flex": null,
       "flex_flow": null,
       "grid_area": null,
       "grid_auto_columns": null,
       "grid_auto_flow": null,
       "grid_auto_rows": null,
       "grid_column": null,
       "grid_gap": null,
       "grid_row": null,
       "grid_template_areas": null,
       "grid_template_columns": null,
       "grid_template_rows": null,
       "height": "30px",
       "justify_content": null,
       "justify_items": null,
       "left": null,
       "margin": null,
       "max_height": null,
       "max_width": null,
       "min_height": null,
       "min_width": null,
       "object_fit": null,
       "object_position": null,
       "order": null,
       "overflow": null,
       "overflow_x": null,
       "overflow_y": null,
       "padding": null,
       "right": null,
       "top": null,
       "visibility": null,
       "width": "100%"
      }
     },
     "529beacb6a784872975a7e92bc33b4e4": {
      "model_module": "@jupyter-widgets/controls",
      "model_module_version": "1.5.0",
      "model_name": "ButtonStyleModel",
      "state": {
       "_model_module": "@jupyter-widgets/controls",
       "_model_module_version": "1.5.0",
       "_model_name": "ButtonStyleModel",
       "_view_count": null,
       "_view_module": "@jupyter-widgets/base",
       "_view_module_version": "1.2.0",
       "_view_name": "StyleView",
       "button_color": null,
       "font_weight": ""
      }
     },
     "52acefa16aba4874a6687956d82e4784": {
      "model_module": "@jupyter-widgets/controls",
      "model_module_version": "1.5.0",
      "model_name": "ButtonStyleModel",
      "state": {
       "_model_module": "@jupyter-widgets/controls",
       "_model_module_version": "1.5.0",
       "_model_name": "ButtonStyleModel",
       "_view_count": null,
       "_view_module": "@jupyter-widgets/base",
       "_view_module_version": "1.2.0",
       "_view_name": "StyleView",
       "button_color": null,
       "font_weight": ""
      }
     },
     "53133ca94aab455f95578036bbf381e4": {
      "model_module": "@jupyter-widgets/controls",
      "model_module_version": "1.5.0",
      "model_name": "DescriptionStyleModel",
      "state": {
       "_model_module": "@jupyter-widgets/controls",
       "_model_module_version": "1.5.0",
       "_model_name": "DescriptionStyleModel",
       "_view_count": null,
       "_view_module": "@jupyter-widgets/base",
       "_view_module_version": "1.2.0",
       "_view_name": "StyleView",
       "description_width": ""
      }
     },
     "53b58a6fd81b415dbfae9e10e8900387": {
      "model_module": "@jupyter-widgets/controls",
      "model_module_version": "1.5.0",
      "model_name": "ButtonModel",
      "state": {
       "_dom_classes": [],
       "_model_module": "@jupyter-widgets/controls",
       "_model_module_version": "1.5.0",
       "_model_name": "ButtonModel",
       "_view_count": null,
       "_view_module": "@jupyter-widgets/controls",
       "_view_module_version": "1.5.0",
       "_view_name": "ButtonView",
       "button_style": "info",
       "description": "Calculate",
       "disabled": false,
       "icon": "",
       "layout": "IPY_MODEL_df437786b0b14686b46510c92574011e",
       "style": "IPY_MODEL_df18e2a65be4463a9bf124484ff23f6d",
       "tooltip": ""
      }
     },
     "5678df65d2944a9eb27980c5b7b20a84": {
      "model_module": "@jupyter-widgets/base",
      "model_module_version": "1.2.0",
      "model_name": "LayoutModel",
      "state": {
       "_model_module": "@jupyter-widgets/base",
       "_model_module_version": "1.2.0",
       "_model_name": "LayoutModel",
       "_view_count": null,
       "_view_module": "@jupyter-widgets/base",
       "_view_module_version": "1.2.0",
       "_view_name": "LayoutView",
       "align_content": null,
       "align_items": null,
       "align_self": null,
       "border": null,
       "bottom": null,
       "display": null,
       "flex": null,
       "flex_flow": null,
       "grid_area": null,
       "grid_auto_columns": null,
       "grid_auto_flow": null,
       "grid_auto_rows": null,
       "grid_column": null,
       "grid_gap": null,
       "grid_row": null,
       "grid_template_areas": null,
       "grid_template_columns": null,
       "grid_template_rows": null,
       "height": "30px",
       "justify_content": null,
       "justify_items": null,
       "left": null,
       "margin": null,
       "max_height": null,
       "max_width": null,
       "min_height": null,
       "min_width": null,
       "object_fit": null,
       "object_position": null,
       "order": null,
       "overflow": null,
       "overflow_x": null,
       "overflow_y": null,
       "padding": null,
       "right": null,
       "top": null,
       "visibility": null,
       "width": "15%"
      }
     },
     "57107517f1dc4b5d8e1ff994843826ee": {
      "model_module": "@jupyter-widgets/controls",
      "model_module_version": "1.5.0",
      "model_name": "DescriptionStyleModel",
      "state": {
       "_model_module": "@jupyter-widgets/controls",
       "_model_module_version": "1.5.0",
       "_model_name": "DescriptionStyleModel",
       "_view_count": null,
       "_view_module": "@jupyter-widgets/base",
       "_view_module_version": "1.2.0",
       "_view_name": "StyleView",
       "description_width": ""
      }
     },
     "575bde035eeb4552be3fa0351db1078d": {
      "model_module": "@jupyter-widgets/controls",
      "model_module_version": "1.5.0",
      "model_name": "DescriptionStyleModel",
      "state": {
       "_model_module": "@jupyter-widgets/controls",
       "_model_module_version": "1.5.0",
       "_model_name": "DescriptionStyleModel",
       "_view_count": null,
       "_view_module": "@jupyter-widgets/base",
       "_view_module_version": "1.2.0",
       "_view_name": "StyleView",
       "description_width": ""
      }
     },
     "58dabf69b5314319b28f3975c58c09ea": {
      "model_module": "qgrid",
      "model_module_version": "1.1.1",
      "model_name": "QgridModel",
      "state": {
       "_columns": {
        "Budget ($)": {
         "cssClass": "string",
         "defaultSortAsc": true,
         "editable": true,
         "field": "Budget ($)",
         "id": "Budget ($)",
         "maxWidth": null,
         "minWidth": 30,
         "name": "Budget ($)",
         "position": 3,
         "resizable": true,
         "sortable": true,
         "toolTip": "",
         "type": "string",
         "width": null
        },
        "Category #": {
         "cssClass": "integer",
         "defaultSortAsc": true,
         "editable": true,
         "field": "Category #",
         "first_index": true,
         "id": "Category #",
         "index_display_text": "Category #",
         "is_index": true,
         "level": 0,
         "maxWidth": null,
         "minWidth": 30,
         "name": "Category #",
         "position": 0,
         "resizable": true,
         "sortable": true,
         "toolTip": "",
         "type": "integer",
         "width": null
        },
        "Expense Category": {
         "cssClass": "string",
         "defaultSortAsc": true,
         "editable": true,
         "field": "Expense Category",
         "id": "Expense Category",
         "maxWidth": null,
         "minWidth": 30,
         "name": "Expense Category",
         "position": 2,
         "resizable": true,
         "sortable": true,
         "toolTip": "",
         "type": "string",
         "width": null
        },
        "qgrid_unfiltered_index": {
         "cssClass": "integer",
         "defaultSortAsc": true,
         "editable": true,
         "field": "qgrid_unfiltered_index",
         "id": "qgrid_unfiltered_index",
         "maxWidth": null,
         "minWidth": 30,
         "name": "qgrid_unfiltered_index",
         "position": 1,
         "resizable": true,
         "sortable": true,
         "toolTip": "",
         "type": "integer",
         "width": null
        }
       },
       "_df_json": "{\"schema\": {\"fields\":[{\"name\":\"Category #\",\"type\":\"integer\"},{\"name\":\"qgrid_unfiltered_index\",\"type\":\"integer\"},{\"name\":\"Expense Category\",\"type\":\"string\"},{\"name\":\"Budget ($)\",\"type\":\"string\"}],\"primaryKey\":[\"Category #\"],\"pandas_version\":\"0.20.0\"}, \"data\": [{\"Category #\":1,\"qgrid_unfiltered_index\":0,\"Expense Category\":\"\",\"Budget ($)\":\"\"},{\"Category #\":2,\"qgrid_unfiltered_index\":1,\"Expense Category\":\"\",\"Budget ($)\":\"\"},{\"Category #\":3,\"qgrid_unfiltered_index\":2,\"Expense Category\":\"\",\"Budget ($)\":\"\"}]}",
       "_df_range": [
        0,
        100
       ],
       "_dom_classes": [],
       "_editable_rows": {},
       "_index_col_name": "qgrid_unfiltered_index",
       "_interval_columns": [],
       "_model_module": "qgrid",
       "_model_module_version": "1.1.1",
       "_model_name": "QgridModel",
       "_multi_index": false,
       "_row_count": 3,
       "_row_styles": {},
       "_sort_ascending": true,
       "_sort_field": null,
       "_view_count": null,
       "_view_module": "qgrid",
       "_view_module_version": "1.1.1",
       "_view_name": "QgridView",
       "_viewport_range": [
        0,
        100
       ],
       "grid_options": {
        "autoEdit": false,
        "boldIndex": true,
        "defaultColumnWidth": 150,
        "editable": true,
        "enableColumnReorder": true,
        "enableTextSelectionOnCells": true,
        "explicitInitialization": true,
        "filterable": false,
        "forceFitColumns": true,
        "fullWidthRows": true,
        "highlightSelectedCell": false,
        "highlightSelectedRow": true,
        "maxVisibleRows": 15,
        "minVisibleRows": 8,
        "rowHeight": 40,
        "sortable": false,
        "syncColumnCellResize": true
       },
       "id": "3bf75045-9763-4f0c-89a2-71545696165b",
       "layout": "IPY_MODEL_a2c72547b5534e25b6e0fc0804957585",
       "precision": 5,
       "show_toolbar": false
      }
     },
     "5e8137d9c04849e495b2b70a54749afe": {
      "model_module": "@jupyter-widgets/base",
      "model_module_version": "1.2.0",
      "model_name": "LayoutModel",
      "state": {
       "_model_module": "@jupyter-widgets/base",
       "_model_module_version": "1.2.0",
       "_model_name": "LayoutModel",
       "_view_count": null,
       "_view_module": "@jupyter-widgets/base",
       "_view_module_version": "1.2.0",
       "_view_name": "LayoutView",
       "align_content": null,
       "align_items": null,
       "align_self": null,
       "border": null,
       "bottom": null,
       "display": null,
       "flex": null,
       "flex_flow": null,
       "grid_area": null,
       "grid_auto_columns": null,
       "grid_auto_flow": null,
       "grid_auto_rows": null,
       "grid_column": null,
       "grid_gap": null,
       "grid_row": null,
       "grid_template_areas": null,
       "grid_template_columns": null,
       "grid_template_rows": null,
       "height": "30px",
       "justify_content": null,
       "justify_items": null,
       "left": null,
       "margin": null,
       "max_height": null,
       "max_width": null,
       "min_height": null,
       "min_width": null,
       "object_fit": null,
       "object_position": null,
       "order": null,
       "overflow": null,
       "overflow_x": null,
       "overflow_y": null,
       "padding": null,
       "right": null,
       "top": null,
       "visibility": null,
       "width": "15%"
      }
     },
     "5f0f3431dce2423b865af2d51d4dafc2": {
      "model_module": "@jupyter-widgets/controls",
      "model_module_version": "1.5.0",
      "model_name": "ButtonModel",
      "state": {
       "_dom_classes": [],
       "_model_module": "@jupyter-widgets/controls",
       "_model_module_version": "1.5.0",
       "_model_name": "ButtonModel",
       "_view_count": null,
       "_view_module": "@jupyter-widgets/controls",
       "_view_module_version": "1.5.0",
       "_view_name": "ButtonView",
       "button_style": "info",
       "description": "Record Answers",
       "disabled": false,
       "icon": "",
       "layout": "IPY_MODEL_646b7ecad23040b1b0a7ca5999ee6626",
       "style": "IPY_MODEL_78136897a2af4769bb30a561056d5c63",
       "tooltip": ""
      }
     },
     "62170e113ff942589a85a8f163b07828": {
      "model_module": "@jupyter-widgets/base",
      "model_module_version": "1.2.0",
      "model_name": "LayoutModel",
      "state": {
       "_model_module": "@jupyter-widgets/base",
       "_model_module_version": "1.2.0",
       "_model_name": "LayoutModel",
       "_view_count": null,
       "_view_module": "@jupyter-widgets/base",
       "_view_module_version": "1.2.0",
       "_view_name": "LayoutView",
       "align_content": null,
       "align_items": null,
       "align_self": null,
       "border": null,
       "bottom": null,
       "display": null,
       "flex": null,
       "flex_flow": null,
       "grid_area": null,
       "grid_auto_columns": null,
       "grid_auto_flow": null,
       "grid_auto_rows": null,
       "grid_column": null,
       "grid_gap": null,
       "grid_row": null,
       "grid_template_areas": null,
       "grid_template_columns": null,
       "grid_template_rows": null,
       "height": "32.5px",
       "justify_content": null,
       "justify_items": null,
       "left": null,
       "margin": null,
       "max_height": null,
       "max_width": null,
       "min_height": null,
       "min_width": null,
       "object_fit": null,
       "object_position": null,
       "order": null,
       "overflow": null,
       "overflow_x": null,
       "overflow_y": null,
       "padding": null,
       "right": null,
       "top": null,
       "visibility": null,
       "width": "30%"
      }
     },
     "62c6153a2be84fa3ba031b2af83e96f5": {
      "model_module": "@jupyter-widgets/controls",
      "model_module_version": "1.5.0",
      "model_name": "TextareaModel",
      "state": {
       "_dom_classes": [],
       "_model_module": "@jupyter-widgets/controls",
       "_model_module_version": "1.5.0",
       "_model_name": "TextareaModel",
       "_view_count": null,
       "_view_module": "@jupyter-widgets/controls",
       "_view_module_version": "1.5.0",
       "_view_name": "TextareaView",
       "continuous_update": true,
       "description": "",
       "description_tooltip": null,
       "disabled": false,
       "layout": "IPY_MODEL_c8dc6ec2d190443fa0c85d41a824ae0c",
       "placeholder": "Enter your calculation here to determine Emma's net income for the month of February. Hint: which column do Emma's income come from?",
       "rows": null,
       "style": "IPY_MODEL_57107517f1dc4b5d8e1ff994843826ee",
       "value": ""
      }
     },
     "646b7ecad23040b1b0a7ca5999ee6626": {
      "model_module": "@jupyter-widgets/base",
      "model_module_version": "1.2.0",
      "model_name": "LayoutModel",
      "state": {
       "_model_module": "@jupyter-widgets/base",
       "_model_module_version": "1.2.0",
       "_model_name": "LayoutModel",
       "_view_count": null,
       "_view_module": "@jupyter-widgets/base",
       "_view_module_version": "1.2.0",
       "_view_name": "LayoutView",
       "align_content": null,
       "align_items": null,
       "align_self": null,
       "border": null,
       "bottom": null,
       "display": null,
       "flex": null,
       "flex_flow": null,
       "grid_area": null,
       "grid_auto_columns": null,
       "grid_auto_flow": null,
       "grid_auto_rows": null,
       "grid_column": null,
       "grid_gap": null,
       "grid_row": null,
       "grid_template_areas": null,
       "grid_template_columns": null,
       "grid_template_rows": null,
       "height": "30px",
       "justify_content": null,
       "justify_items": null,
       "left": null,
       "margin": null,
       "max_height": null,
       "max_width": null,
       "min_height": null,
       "min_width": null,
       "object_fit": null,
       "object_position": null,
       "order": null,
       "overflow": null,
       "overflow_x": null,
       "overflow_y": null,
       "padding": null,
       "right": null,
       "top": null,
       "visibility": null,
       "width": "15%"
      }
     },
     "655e2f268e6b4518b4cf10c9f1f8d542": {
      "model_module": "@jupyter-widgets/base",
      "model_module_version": "1.2.0",
      "model_name": "LayoutModel",
      "state": {
       "_model_module": "@jupyter-widgets/base",
       "_model_module_version": "1.2.0",
       "_model_name": "LayoutModel",
       "_view_count": null,
       "_view_module": "@jupyter-widgets/base",
       "_view_module_version": "1.2.0",
       "_view_name": "LayoutView",
       "align_content": null,
       "align_items": null,
       "align_self": null,
       "border": null,
       "bottom": null,
       "display": null,
       "flex": null,
       "flex_flow": null,
       "grid_area": null,
       "grid_auto_columns": null,
       "grid_auto_flow": null,
       "grid_auto_rows": null,
       "grid_column": null,
       "grid_gap": null,
       "grid_row": null,
       "grid_template_areas": null,
       "grid_template_columns": null,
       "grid_template_rows": null,
       "height": "30px",
       "justify_content": null,
       "justify_items": null,
       "left": null,
       "margin": null,
       "max_height": null,
       "max_width": null,
       "min_height": null,
       "min_width": null,
       "object_fit": null,
       "object_position": null,
       "order": null,
       "overflow": null,
       "overflow_x": null,
       "overflow_y": null,
       "padding": null,
       "right": null,
       "top": null,
       "visibility": null,
       "width": "15%"
      }
     },
     "69f718afb6a041f09f948f18db39af03": {
      "model_module": "@jupyter-widgets/controls",
      "model_module_version": "1.5.0",
      "model_name": "DescriptionStyleModel",
      "state": {
       "_model_module": "@jupyter-widgets/controls",
       "_model_module_version": "1.5.0",
       "_model_name": "DescriptionStyleModel",
       "_view_count": null,
       "_view_module": "@jupyter-widgets/base",
       "_view_module_version": "1.2.0",
       "_view_name": "StyleView",
       "description_width": ""
      }
     },
     "6a37cc827f834e63b84e3b074b850c00": {
      "model_module": "@jupyter-widgets/controls",
      "model_module_version": "1.5.0",
      "model_name": "DescriptionStyleModel",
      "state": {
       "_model_module": "@jupyter-widgets/controls",
       "_model_module_version": "1.5.0",
       "_model_name": "DescriptionStyleModel",
       "_view_count": null,
       "_view_module": "@jupyter-widgets/base",
       "_view_module_version": "1.2.0",
       "_view_name": "StyleView",
       "description_width": ""
      }
     },
     "6aa2596aa622436097f7bba849e4e31b": {
      "model_module": "@jupyter-widgets/base",
      "model_module_version": "1.2.0",
      "model_name": "LayoutModel",
      "state": {
       "_model_module": "@jupyter-widgets/base",
       "_model_module_version": "1.2.0",
       "_model_name": "LayoutModel",
       "_view_count": null,
       "_view_module": "@jupyter-widgets/base",
       "_view_module_version": "1.2.0",
       "_view_name": "LayoutView",
       "align_content": null,
       "align_items": null,
       "align_self": null,
       "border": null,
       "bottom": null,
       "display": null,
       "flex": null,
       "flex_flow": null,
       "grid_area": null,
       "grid_auto_columns": null,
       "grid_auto_flow": null,
       "grid_auto_rows": null,
       "grid_column": null,
       "grid_gap": null,
       "grid_row": null,
       "grid_template_areas": null,
       "grid_template_columns": null,
       "grid_template_rows": null,
       "height": "30px",
       "justify_content": null,
       "justify_items": null,
       "left": null,
       "margin": null,
       "max_height": null,
       "max_width": null,
       "min_height": null,
       "min_width": null,
       "object_fit": null,
       "object_position": null,
       "order": null,
       "overflow": null,
       "overflow_x": null,
       "overflow_y": null,
       "padding": null,
       "right": null,
       "top": null,
       "visibility": null,
       "width": "15%"
      }
     },
     "6d74696894ef4555bc7bd2c2094de03b": {
      "model_module": "@jupyter-widgets/controls",
      "model_module_version": "1.5.0",
      "model_name": "ButtonStyleModel",
      "state": {
       "_model_module": "@jupyter-widgets/controls",
       "_model_module_version": "1.5.0",
       "_model_name": "ButtonStyleModel",
       "_view_count": null,
       "_view_module": "@jupyter-widgets/base",
       "_view_module_version": "1.2.0",
       "_view_name": "StyleView",
       "button_color": null,
       "font_weight": ""
      }
     },
     "6e85a4a3251245fd86b3f0fc6194da7f": {
      "model_module": "@jupyter-widgets/controls",
      "model_module_version": "1.5.0",
      "model_name": "RadioButtonsModel",
      "state": {
       "_dom_classes": [],
       "_model_module": "@jupyter-widgets/controls",
       "_model_module_version": "1.5.0",
       "_model_name": "RadioButtonsModel",
       "_options_labels": [
        "a.) Running out of money each month",
        "b.) To reduce debt",
        "c.) To save for something special",
        "d.) All the above are good reasons for preparing a budget"
       ],
       "_view_count": null,
       "_view_module": "@jupyter-widgets/controls",
       "_view_module_version": "1.5.0",
       "_view_name": "RadioButtonsView",
       "description": "",
       "description_tooltip": null,
       "disabled": false,
       "index": 0,
       "layout": "IPY_MODEL_051382e1c5ab43e38488445cb73a2e3a",
       "style": "IPY_MODEL_c4200a3e56274a3d84408f64fcb7eb00"
      }
     },
     "6f5aad3835654ae6acf7ba38f9c7d76e": {
      "model_module": "@jupyter-widgets/controls",
      "model_module_version": "1.5.0",
      "model_name": "RadioButtonsModel",
      "state": {
       "_dom_classes": [],
       "_model_module": "@jupyter-widgets/controls",
       "_model_module_version": "1.5.0",
       "_model_name": "RadioButtonsModel",
       "_options_labels": [
        "Fixed",
        "Variable"
       ],
       "_view_count": null,
       "_view_module": "@jupyter-widgets/controls",
       "_view_module_version": "1.5.0",
       "_view_name": "RadioButtonsView",
       "description": "",
       "description_tooltip": null,
       "disabled": false,
       "index": 0,
       "layout": "IPY_MODEL_c1649c2fb7e444b4b92b2266d84bd2d4",
       "style": "IPY_MODEL_bdede2950ad0469f91d3f3b973a02e01"
      }
     },
     "78136897a2af4769bb30a561056d5c63": {
      "model_module": "@jupyter-widgets/controls",
      "model_module_version": "1.5.0",
      "model_name": "ButtonStyleModel",
      "state": {
       "_model_module": "@jupyter-widgets/controls",
       "_model_module_version": "1.5.0",
       "_model_name": "ButtonStyleModel",
       "_view_count": null,
       "_view_module": "@jupyter-widgets/base",
       "_view_module_version": "1.2.0",
       "_view_name": "StyleView",
       "button_color": null,
       "font_weight": ""
      }
     },
     "78466164f0524af49c60c86379e03bb7": {
      "model_module": "@jupyter-widgets/controls",
      "model_module_version": "1.5.0",
      "model_name": "TextareaModel",
      "state": {
       "_dom_classes": [],
       "_model_module": "@jupyter-widgets/controls",
       "_model_module_version": "1.5.0",
       "_model_name": "TextareaModel",
       "_view_count": null,
       "_view_module": "@jupyter-widgets/controls",
       "_view_module_version": "1.5.0",
       "_view_name": "TextareaView",
       "continuous_update": true,
       "description": "",
       "description_tooltip": null,
       "disabled": false,
       "layout": "IPY_MODEL_8cdb961fb54447e2bfcaa1c91edb768b",
       "placeholder": "Your calculations for Exercise 4.b.",
       "rows": null,
       "style": "IPY_MODEL_53133ca94aab455f95578036bbf381e4",
       "value": ""
      }
     },
     "7af0668bbaaa42efb8740a8a62a9e05f": {
      "model_module": "@jupyter-widgets/controls",
      "model_module_version": "1.5.0",
      "model_name": "ButtonStyleModel",
      "state": {
       "_model_module": "@jupyter-widgets/controls",
       "_model_module_version": "1.5.0",
       "_model_name": "ButtonStyleModel",
       "_view_count": null,
       "_view_module": "@jupyter-widgets/base",
       "_view_module_version": "1.2.0",
       "_view_name": "StyleView",
       "button_color": null,
       "font_weight": ""
      }
     },
     "7b3316f438684e9f8b7a254848f512c8": {
      "model_module": "@jupyter-widgets/controls",
      "model_module_version": "1.5.0",
      "model_name": "ButtonModel",
      "state": {
       "_dom_classes": [],
       "_model_module": "@jupyter-widgets/controls",
       "_model_module_version": "1.5.0",
       "_model_name": "ButtonModel",
       "_view_count": null,
       "_view_module": "@jupyter-widgets/controls",
       "_view_module_version": "1.5.0",
       "_view_name": "ButtonView",
       "button_style": "info",
       "description": "Record Answer",
       "disabled": false,
       "icon": "",
       "layout": "IPY_MODEL_1faccbe61fed4037936b5744ea274384",
       "style": "IPY_MODEL_9e82dbfc9e594624af765cd750384528",
       "tooltip": ""
      }
     },
     "7ca6fb23fb2d4f1d8e2fdb4a47667df2": {
      "model_module": "@jupyter-widgets/controls",
      "model_module_version": "1.5.0",
      "model_name": "TextareaModel",
      "state": {
       "_dom_classes": [],
       "_model_module": "@jupyter-widgets/controls",
       "_model_module_version": "1.5.0",
       "_model_name": "TextareaModel",
       "_view_count": null,
       "_view_module": "@jupyter-widgets/controls",
       "_view_module_version": "1.5.0",
       "_view_name": "TextareaView",
       "continuous_update": true,
       "description": "",
       "description_tooltip": null,
       "disabled": false,
       "layout": "IPY_MODEL_7cbe0454c14b4b69bb0634825d36d0bc",
       "placeholder": "Your calculations for Exercise 4.a.",
       "rows": null,
       "style": "IPY_MODEL_1d5c5e6766604f70b398656f950be8b3",
       "value": ""
      }
     },
     "7cbe0454c14b4b69bb0634825d36d0bc": {
      "model_module": "@jupyter-widgets/base",
      "model_module_version": "1.2.0",
      "model_name": "LayoutModel",
      "state": {
       "_model_module": "@jupyter-widgets/base",
       "_model_module_version": "1.2.0",
       "_model_name": "LayoutModel",
       "_view_count": null,
       "_view_module": "@jupyter-widgets/base",
       "_view_module_version": "1.2.0",
       "_view_name": "LayoutView",
       "align_content": null,
       "align_items": null,
       "align_self": null,
       "border": null,
       "bottom": null,
       "display": null,
       "flex": null,
       "flex_flow": null,
       "grid_area": null,
       "grid_auto_columns": null,
       "grid_auto_flow": null,
       "grid_auto_rows": null,
       "grid_column": null,
       "grid_gap": null,
       "grid_row": null,
       "grid_template_areas": null,
       "grid_template_columns": null,
       "grid_template_rows": null,
       "height": "30px",
       "justify_content": null,
       "justify_items": null,
       "left": null,
       "margin": null,
       "max_height": null,
       "max_width": null,
       "min_height": null,
       "min_width": null,
       "object_fit": null,
       "object_position": null,
       "order": null,
       "overflow": null,
       "overflow_x": null,
       "overflow_y": null,
       "padding": null,
       "right": null,
       "top": null,
       "visibility": null,
       "width": "100%"
      }
     },
     "827b50c666c04d84b84ef309948b08f8": {
      "model_module": "@jupyter-widgets/controls",
      "model_module_version": "1.5.0",
      "model_name": "ButtonModel",
      "state": {
       "_dom_classes": [],
       "_model_module": "@jupyter-widgets/controls",
       "_model_module_version": "1.5.0",
       "_model_name": "ButtonModel",
       "_view_count": null,
       "_view_module": "@jupyter-widgets/controls",
       "_view_module_version": "1.5.0",
       "_view_name": "ButtonView",
       "button_style": "info",
       "description": "Record Answer",
       "disabled": false,
       "icon": "",
       "layout": "IPY_MODEL_f271dde8d57547588b11741146f33128",
       "style": "IPY_MODEL_2f5c6366f0b34630ba2d80c32ccbe78d",
       "tooltip": ""
      }
     },
     "82f3aa0d743d4b79b353d20ad1013490": {
      "model_module": "@jupyter-widgets/controls",
      "model_module_version": "1.5.0",
      "model_name": "ButtonModel",
      "state": {
       "_dom_classes": [],
       "_model_module": "@jupyter-widgets/controls",
       "_model_module_version": "1.5.0",
       "_model_name": "ButtonModel",
       "_view_count": null,
       "_view_module": "@jupyter-widgets/controls",
       "_view_module_version": "1.5.0",
       "_view_name": "ButtonView",
       "button_style": "info",
       "description": "Record Answer",
       "disabled": false,
       "icon": "",
       "layout": "IPY_MODEL_28875a5902e740f68559caf3b060aceb",
       "style": "IPY_MODEL_45e9f0a693ae4872b397ce3195da6e56",
       "tooltip": ""
      }
     },
     "831dd026420448a091c094a2206ffe6e": {
      "model_module": "@jupyter-widgets/base",
      "model_module_version": "1.2.0",
      "model_name": "LayoutModel",
      "state": {
       "_model_module": "@jupyter-widgets/base",
       "_model_module_version": "1.2.0",
       "_model_name": "LayoutModel",
       "_view_count": null,
       "_view_module": "@jupyter-widgets/base",
       "_view_module_version": "1.2.0",
       "_view_name": "LayoutView",
       "align_content": null,
       "align_items": null,
       "align_self": null,
       "border": null,
       "bottom": null,
       "display": null,
       "flex": null,
       "flex_flow": null,
       "grid_area": null,
       "grid_auto_columns": null,
       "grid_auto_flow": null,
       "grid_auto_rows": null,
       "grid_column": null,
       "grid_gap": null,
       "grid_row": null,
       "grid_template_areas": null,
       "grid_template_columns": null,
       "grid_template_rows": null,
       "height": null,
       "justify_content": null,
       "justify_items": null,
       "left": null,
       "margin": null,
       "max_height": null,
       "max_width": null,
       "min_height": null,
       "min_width": null,
       "object_fit": null,
       "object_position": null,
       "order": null,
       "overflow": null,
       "overflow_x": null,
       "overflow_y": null,
       "padding": null,
       "right": null,
       "top": null,
       "visibility": null,
       "width": "100%"
      }
     },
     "85ea5137aa3d4882a1639e66c3b36f64": {
      "model_module": "qgrid",
      "model_module_version": "1.1.1",
      "model_name": "QgridModel",
      "state": {
       "_columns": {
        "Expense Categories": {
         "cssClass": "string",
         "defaultSortAsc": true,
         "editable": true,
         "field": "Expense Categories",
         "first_index": true,
         "id": "Expense Categories",
         "index_display_text": "Expense Categories",
         "is_index": true,
         "level": 0,
         "maxWidth": null,
         "minWidth": 30,
         "name": "Expense Categories",
         "position": 0,
         "resizable": true,
         "sortable": true,
         "toolTip": "",
         "type": "string",
         "width": null
        },
        "February Totals ($)": {
         "cssClass": "string",
         "defaultSortAsc": true,
         "editable": true,
         "field": "February Totals ($)",
         "id": "February Totals ($)",
         "maxWidth": null,
         "minWidth": 30,
         "name": "February Totals ($)",
         "position": 2,
         "resizable": true,
         "sortable": true,
         "toolTip": "",
         "type": "string",
         "width": null
        },
        "Highest Expense Amount ($)": {
         "cssClass": "string",
         "defaultSortAsc": true,
         "editable": true,
         "field": "Highest Expense Amount ($)",
         "id": "Highest Expense Amount ($)",
         "maxWidth": null,
         "minWidth": 30,
         "name": "Highest Expense Amount ($)",
         "position": 4,
         "resizable": true,
         "sortable": true,
         "toolTip": "",
         "type": "string",
         "width": null
        },
        "March Totals ($)": {
         "cssClass": "string",
         "defaultSortAsc": true,
         "editable": true,
         "field": "March Totals ($)",
         "id": "March Totals ($)",
         "maxWidth": null,
         "minWidth": 30,
         "name": "March Totals ($)",
         "position": 3,
         "resizable": true,
         "sortable": true,
         "toolTip": "",
         "type": "string",
         "width": null
        },
        "qgrid_unfiltered_index": {
         "cssClass": "integer",
         "defaultSortAsc": true,
         "editable": true,
         "field": "qgrid_unfiltered_index",
         "id": "qgrid_unfiltered_index",
         "maxWidth": null,
         "minWidth": 30,
         "name": "qgrid_unfiltered_index",
         "position": 1,
         "resizable": true,
         "sortable": true,
         "toolTip": "",
         "type": "integer",
         "width": null
        }
       },
       "_df_json": "{\"schema\": {\"fields\":[{\"name\":\"Expense Categories\",\"type\":\"string\"},{\"name\":\"qgrid_unfiltered_index\",\"type\":\"integer\"},{\"name\":\"February Totals ($)\",\"type\":\"string\"},{\"name\":\"March Totals ($)\",\"type\":\"string\"},{\"name\":\"Highest Expense Amount ($)\",\"type\":\"string\"}],\"primaryKey\":[\"Expense Categories\"],\"pandas_version\":\"0.20.0\"}, \"data\": [{\"Expense Categories\":\"Savings\",\"qgrid_unfiltered_index\":0,\"February Totals ($)\":\"80.00\",\"March Totals ($)\":\"80.00\",\"Highest Expense Amount ($)\":\"\"},{\"Expense Categories\":\"Transportation\",\"qgrid_unfiltered_index\":1,\"February Totals ($)\":\"73.50\",\"March Totals ($)\":\"73.50\",\"Highest Expense Amount ($)\":\"\"},{\"Expense Categories\":\"Food\",\"qgrid_unfiltered_index\":2,\"February Totals ($)\":\"48.09\",\"March Totals ($)\":\"91.95\",\"Highest Expense Amount ($)\":\"\"},{\"Expense Categories\":\"Utilities\",\"qgrid_unfiltered_index\":3,\"February Totals ($)\":\"30.15\",\"March Totals ($)\":\"30.15\",\"Highest Expense Amount ($)\":\"\"},{\"Expense Categories\":\"Clothing\",\"qgrid_unfiltered_index\":4,\"February Totals ($)\":\"189.45\",\"March Totals ($)\":\"85.95\",\"Highest Expense Amount ($)\":\"\"},{\"Expense Categories\":\"Entertainment\",\"qgrid_unfiltered_index\":5,\"February Totals ($)\":\"233.64\",\"March Totals ($)\":\"178.36\",\"Highest Expense Amount ($)\":\"\"},{\"Expense Categories\":\"Miscellaneous\",\"qgrid_unfiltered_index\":6,\"February Totals ($)\":\"73.00\",\"March Totals ($)\":\"206.00\",\"Highest Expense Amount ($)\":\"\"},{\"Expense Categories\":\"Personal Care\",\"qgrid_unfiltered_index\":7,\"February Totals ($)\":\"0.00\",\"March Totals ($)\":\"116.53\",\"Highest Expense Amount ($)\":\"\"}]}",
       "_df_range": [
        0,
        100
       ],
       "_dom_classes": [],
       "_editable_rows": {},
       "_index_col_name": "qgrid_unfiltered_index",
       "_interval_columns": [],
       "_model_module": "qgrid",
       "_model_module_version": "1.1.1",
       "_model_name": "QgridModel",
       "_multi_index": false,
       "_row_count": 8,
       "_row_styles": {},
       "_sort_ascending": true,
       "_sort_field": null,
       "_view_count": null,
       "_view_module": "qgrid",
       "_view_module_version": "1.1.1",
       "_view_name": "QgridView",
       "_viewport_range": [
        0,
        100
       ],
       "grid_options": {
        "autoEdit": false,
        "boldIndex": true,
        "defaultColumnWidth": 150,
        "editable": true,
        "enableColumnReorder": true,
        "enableTextSelectionOnCells": true,
        "explicitInitialization": true,
        "filterable": false,
        "forceFitColumns": true,
        "fullWidthRows": true,
        "highlightSelectedCell": false,
        "highlightSelectedRow": true,
        "maxVisibleRows": 15,
        "minVisibleRows": 8,
        "rowHeight": 40,
        "sortable": false,
        "syncColumnCellResize": true
       },
       "id": "9f65f7d5-b64b-45eb-a8dd-7a836620fb06",
       "layout": "IPY_MODEL_a7deb41c9ebc4a888d654b020a10ba87",
       "precision": 5,
       "show_toolbar": false
      }
     },
     "87aa599f04c4488f8cef078f648c1e84": {
      "model_module": "@jupyter-widgets/controls",
      "model_module_version": "1.5.0",
      "model_name": "DescriptionStyleModel",
      "state": {
       "_model_module": "@jupyter-widgets/controls",
       "_model_module_version": "1.5.0",
       "_model_name": "DescriptionStyleModel",
       "_view_count": null,
       "_view_module": "@jupyter-widgets/base",
       "_view_module_version": "1.2.0",
       "_view_name": "StyleView",
       "description_width": ""
      }
     },
     "8a482da803f74e648d66409bd1adf3bf": {
      "model_module": "qgrid",
      "model_module_version": "1.1.1",
      "model_name": "QgridModel",
      "state": {
       "_columns": {
        "Expense Category": {
         "cssClass": "string",
         "defaultSortAsc": true,
         "editable": true,
         "field": "Expense Category",
         "first_index": true,
         "id": "Expense Category",
         "index_display_text": "Expense Category",
         "is_index": true,
         "level": 0,
         "maxWidth": null,
         "minWidth": 30,
         "name": "Expense Category",
         "position": 0,
         "resizable": true,
         "sortable": true,
         "toolTip": "",
         "type": "string",
         "width": null
        },
        "Total ($)": {
         "cssClass": "number",
         "defaultSortAsc": true,
         "editable": true,
         "field": "Total ($)",
         "id": "Total ($)",
         "maxWidth": null,
         "minWidth": 30,
         "name": "Total ($)",
         "position": 2,
         "resizable": true,
         "sortable": true,
         "toolTip": "",
         "type": "number",
         "width": null
        },
        "qgrid_unfiltered_index": {
         "cssClass": "integer",
         "defaultSortAsc": true,
         "editable": true,
         "field": "qgrid_unfiltered_index",
         "id": "qgrid_unfiltered_index",
         "maxWidth": null,
         "minWidth": 30,
         "name": "qgrid_unfiltered_index",
         "position": 1,
         "resizable": true,
         "sortable": true,
         "toolTip": "",
         "type": "integer",
         "width": null
        }
       },
       "_df_json": "{\"schema\": {\"fields\":[{\"name\":\"Expense Category\",\"type\":\"string\"},{\"name\":\"qgrid_unfiltered_index\",\"type\":\"integer\"},{\"name\":\"Total ($)\",\"type\":\"number\"}],\"primaryKey\":[\"Expense Category\"],\"pandas_version\":\"0.20.0\"}, \"data\": [{\"Expense Category\":\"Savings\",\"qgrid_unfiltered_index\":0,\"Total ($)\":80.0},{\"Expense Category\":\"Transportation\",\"qgrid_unfiltered_index\":1,\"Total ($)\":73.5},{\"Expense Category\":\"Food\",\"qgrid_unfiltered_index\":2,\"Total ($)\":48.09},{\"Expense Category\":\"Utilities\",\"qgrid_unfiltered_index\":3,\"Total ($)\":30.15},{\"Expense Category\":\"Clothing\",\"qgrid_unfiltered_index\":4,\"Total ($)\":189.45},{\"Expense Category\":\"Entertainment\",\"qgrid_unfiltered_index\":5,\"Total ($)\":233.64},{\"Expense Category\":\"Miscellaneous\",\"qgrid_unfiltered_index\":6,\"Total ($)\":73.0}]}",
       "_df_range": [
        0,
        100
       ],
       "_dom_classes": [],
       "_editable_rows": {},
       "_index_col_name": "qgrid_unfiltered_index",
       "_interval_columns": [],
       "_model_module": "qgrid",
       "_model_module_version": "1.1.1",
       "_model_name": "QgridModel",
       "_multi_index": false,
       "_row_count": 7,
       "_row_styles": {},
       "_sort_ascending": true,
       "_sort_field": null,
       "_view_count": null,
       "_view_module": "qgrid",
       "_view_module_version": "1.1.1",
       "_view_name": "QgridView",
       "_viewport_range": [
        0,
        100
       ],
       "grid_options": {
        "autoEdit": false,
        "boldIndex": true,
        "defaultColumnWidth": 150,
        "editable": true,
        "enableColumnReorder": true,
        "enableTextSelectionOnCells": true,
        "explicitInitialization": true,
        "filterable": false,
        "forceFitColumns": true,
        "fullWidthRows": true,
        "highlightSelectedCell": false,
        "highlightSelectedRow": true,
        "maxVisibleRows": 15,
        "minVisibleRows": 8,
        "rowHeight": 40,
        "sortable": false,
        "syncColumnCellResize": true
       },
       "id": "e7b5275c-69c1-4fb6-b5c1-a5600489cff8",
       "layout": "IPY_MODEL_b739b6f3482d48948bc11f3d25e0c4f5",
       "precision": 5,
       "show_toolbar": false
      }
     },
     "8cdb961fb54447e2bfcaa1c91edb768b": {
      "model_module": "@jupyter-widgets/base",
      "model_module_version": "1.2.0",
      "model_name": "LayoutModel",
      "state": {
       "_model_module": "@jupyter-widgets/base",
       "_model_module_version": "1.2.0",
       "_model_name": "LayoutModel",
       "_view_count": null,
       "_view_module": "@jupyter-widgets/base",
       "_view_module_version": "1.2.0",
       "_view_name": "LayoutView",
       "align_content": null,
       "align_items": null,
       "align_self": null,
       "border": null,
       "bottom": null,
       "display": null,
       "flex": null,
       "flex_flow": null,
       "grid_area": null,
       "grid_auto_columns": null,
       "grid_auto_flow": null,
       "grid_auto_rows": null,
       "grid_column": null,
       "grid_gap": null,
       "grid_row": null,
       "grid_template_areas": null,
       "grid_template_columns": null,
       "grid_template_rows": null,
       "height": "30px",
       "justify_content": null,
       "justify_items": null,
       "left": null,
       "margin": null,
       "max_height": null,
       "max_width": null,
       "min_height": null,
       "min_width": null,
       "object_fit": null,
       "object_position": null,
       "order": null,
       "overflow": null,
       "overflow_x": null,
       "overflow_y": null,
       "padding": null,
       "right": null,
       "top": null,
       "visibility": null,
       "width": "100%"
      }
     },
     "8dfb7b1fd7ce4799a6f851048dea56bf": {
      "model_module": "@jupyter-widgets/controls",
      "model_module_version": "1.5.0",
      "model_name": "DescriptionStyleModel",
      "state": {
       "_model_module": "@jupyter-widgets/controls",
       "_model_module_version": "1.5.0",
       "_model_name": "DescriptionStyleModel",
       "_view_count": null,
       "_view_module": "@jupyter-widgets/base",
       "_view_module_version": "1.2.0",
       "_view_name": "StyleView",
       "description_width": ""
      }
     },
     "8f94acfd6f6845df9463a89221f13c7e": {
      "model_module": "@jupyter-widgets/base",
      "model_module_version": "1.2.0",
      "model_name": "LayoutModel",
      "state": {
       "_model_module": "@jupyter-widgets/base",
       "_model_module_version": "1.2.0",
       "_model_name": "LayoutModel",
       "_view_count": null,
       "_view_module": "@jupyter-widgets/base",
       "_view_module_version": "1.2.0",
       "_view_name": "LayoutView",
       "align_content": null,
       "align_items": null,
       "align_self": null,
       "border": null,
       "bottom": null,
       "display": null,
       "flex": null,
       "flex_flow": null,
       "grid_area": null,
       "grid_auto_columns": null,
       "grid_auto_flow": null,
       "grid_auto_rows": null,
       "grid_column": null,
       "grid_gap": null,
       "grid_row": null,
       "grid_template_areas": null,
       "grid_template_columns": null,
       "grid_template_rows": null,
       "height": "30px",
       "justify_content": null,
       "justify_items": null,
       "left": null,
       "margin": null,
       "max_height": null,
       "max_width": null,
       "min_height": null,
       "min_width": null,
       "object_fit": null,
       "object_position": null,
       "order": null,
       "overflow": null,
       "overflow_x": null,
       "overflow_y": null,
       "padding": null,
       "right": null,
       "top": null,
       "visibility": null,
       "width": "15%"
      }
     },
     "91fd2f131157418c8907973517fc738b": {
      "model_module": "@jupyter-widgets/base",
      "model_module_version": "1.2.0",
      "model_name": "LayoutModel",
      "state": {
       "_model_module": "@jupyter-widgets/base",
       "_model_module_version": "1.2.0",
       "_model_name": "LayoutModel",
       "_view_count": null,
       "_view_module": "@jupyter-widgets/base",
       "_view_module_version": "1.2.0",
       "_view_name": "LayoutView",
       "align_content": null,
       "align_items": null,
       "align_self": null,
       "border": null,
       "bottom": null,
       "display": null,
       "flex": null,
       "flex_flow": null,
       "grid_area": null,
       "grid_auto_columns": null,
       "grid_auto_flow": null,
       "grid_auto_rows": null,
       "grid_column": null,
       "grid_gap": null,
       "grid_row": null,
       "grid_template_areas": null,
       "grid_template_columns": null,
       "grid_template_rows": null,
       "height": "32.5px",
       "justify_content": null,
       "justify_items": null,
       "left": null,
       "margin": null,
       "max_height": null,
       "max_width": null,
       "min_height": null,
       "min_width": null,
       "object_fit": null,
       "object_position": null,
       "order": null,
       "overflow": null,
       "overflow_x": null,
       "overflow_y": null,
       "padding": null,
       "right": null,
       "top": null,
       "visibility": null,
       "width": "30%"
      }
     },
     "938a64d7786e4538b79bd6108a96018d": {
      "model_module": "@jupyter-widgets/base",
      "model_module_version": "1.2.0",
      "model_name": "LayoutModel",
      "state": {
       "_model_module": "@jupyter-widgets/base",
       "_model_module_version": "1.2.0",
       "_model_name": "LayoutModel",
       "_view_count": null,
       "_view_module": "@jupyter-widgets/base",
       "_view_module_version": "1.2.0",
       "_view_name": "LayoutView",
       "align_content": null,
       "align_items": null,
       "align_self": null,
       "border": null,
       "bottom": null,
       "display": null,
       "flex": null,
       "flex_flow": null,
       "grid_area": null,
       "grid_auto_columns": null,
       "grid_auto_flow": null,
       "grid_auto_rows": null,
       "grid_column": null,
       "grid_gap": null,
       "grid_row": null,
       "grid_template_areas": null,
       "grid_template_columns": null,
       "grid_template_rows": null,
       "height": "30px",
       "justify_content": null,
       "justify_items": null,
       "left": null,
       "margin": null,
       "max_height": null,
       "max_width": null,
       "min_height": null,
       "min_width": null,
       "object_fit": null,
       "object_position": null,
       "order": null,
       "overflow": null,
       "overflow_x": null,
       "overflow_y": null,
       "padding": null,
       "right": null,
       "top": null,
       "visibility": null,
       "width": "15%"
      }
     },
     "9490a3df54fe43b8b14bb7274b56473f": {
      "model_module": "@jupyter-widgets/controls",
      "model_module_version": "1.5.0",
      "model_name": "DescriptionStyleModel",
      "state": {
       "_model_module": "@jupyter-widgets/controls",
       "_model_module_version": "1.5.0",
       "_model_name": "DescriptionStyleModel",
       "_view_count": null,
       "_view_module": "@jupyter-widgets/base",
       "_view_module_version": "1.2.0",
       "_view_name": "StyleView",
       "description_width": ""
      }
     },
     "9716b0bfd12c4ecbb05aec4a9636efef": {
      "model_module": "@jupyter-widgets/controls",
      "model_module_version": "1.5.0",
      "model_name": "TextareaModel",
      "state": {
       "_dom_classes": [],
       "_model_module": "@jupyter-widgets/controls",
       "_model_module_version": "1.5.0",
       "_model_name": "TextareaModel",
       "_view_count": null,
       "_view_module": "@jupyter-widgets/controls",
       "_view_module_version": "1.5.0",
       "_view_name": "TextareaView",
       "continuous_update": true,
       "description": "",
       "description_tooltip": null,
       "disabled": false,
       "layout": "IPY_MODEL_91fd2f131157418c8907973517fc738b",
       "placeholder": "DATE",
       "rows": null,
       "style": "IPY_MODEL_8dfb7b1fd7ce4799a6f851048dea56bf",
       "value": ""
      }
     },
     "97598bcc65b94735a2895d6619a4be8e": {
      "model_module": "@jupyter-widgets/controls",
      "model_module_version": "1.5.0",
      "model_name": "ButtonModel",
      "state": {
       "_dom_classes": [],
       "_model_module": "@jupyter-widgets/controls",
       "_model_module_version": "1.5.0",
       "_model_name": "ButtonModel",
       "_view_count": null,
       "_view_module": "@jupyter-widgets/controls",
       "_view_module_version": "1.5.0",
       "_view_name": "ButtonView",
       "button_style": "info",
       "description": "Calculate",
       "disabled": false,
       "icon": "",
       "layout": "IPY_MODEL_edbc80f84f0a43ec80c68058a727aebe",
       "style": "IPY_MODEL_6d74696894ef4555bc7bd2c2094de03b",
       "tooltip": ""
      }
     },
     "993b33d9e0654f6e860a492c09eccbe7": {
      "model_module": "@jupyter-widgets/base",
      "model_module_version": "1.2.0",
      "model_name": "LayoutModel",
      "state": {
       "_model_module": "@jupyter-widgets/base",
       "_model_module_version": "1.2.0",
       "_model_name": "LayoutModel",
       "_view_count": null,
       "_view_module": "@jupyter-widgets/base",
       "_view_module_version": "1.2.0",
       "_view_name": "LayoutView",
       "align_content": null,
       "align_items": null,
       "align_self": null,
       "border": null,
       "bottom": null,
       "display": null,
       "flex": null,
       "flex_flow": null,
       "grid_area": null,
       "grid_auto_columns": null,
       "grid_auto_flow": null,
       "grid_auto_rows": null,
       "grid_column": null,
       "grid_gap": null,
       "grid_row": null,
       "grid_template_areas": null,
       "grid_template_columns": null,
       "grid_template_rows": null,
       "height": "30px",
       "justify_content": null,
       "justify_items": null,
       "left": null,
       "margin": null,
       "max_height": null,
       "max_width": null,
       "min_height": null,
       "min_width": null,
       "object_fit": null,
       "object_position": null,
       "order": null,
       "overflow": null,
       "overflow_x": null,
       "overflow_y": null,
       "padding": null,
       "right": null,
       "top": null,
       "visibility": null,
       "width": "15%"
      }
     },
     "9c8fde6915364796a98d7c71878042e4": {
      "model_module": "@jupyter-widgets/controls",
      "model_module_version": "1.5.0",
      "model_name": "ButtonModel",
      "state": {
       "_dom_classes": [],
       "_model_module": "@jupyter-widgets/controls",
       "_model_module_version": "1.5.0",
       "_model_name": "ButtonModel",
       "_view_count": null,
       "_view_module": "@jupyter-widgets/controls",
       "_view_module_version": "1.5.0",
       "_view_name": "ButtonView",
       "button_style": "info",
       "description": "Reset all values",
       "disabled": false,
       "icon": "",
       "layout": "IPY_MODEL_dcaed6205c764c909506f8dc9ebc6040",
       "style": "IPY_MODEL_b9ff0186a30e4215ab5bb6cf51082626",
       "tooltip": ""
      }
     },
     "9cf35d52fa154ee6978433635af045fc": {
      "model_module": "@jupyter-widgets/controls",
      "model_module_version": "1.5.0",
      "model_name": "RadioButtonsModel",
      "state": {
       "_dom_classes": [],
       "_model_module": "@jupyter-widgets/controls",
       "_model_module_version": "1.5.0",
       "_model_name": "RadioButtonsModel",
       "_options_labels": [
        "a.) Gross Pay = Net Pay - Deductions",
        "b.) Net Pay = Gross Pay - Deductions",
        "c.) Gross Pay = Net Pay ÷ Deductions",
        "d.) Net Pay = Gross Pay ÷ Deductions"
       ],
       "_view_count": null,
       "_view_module": "@jupyter-widgets/controls",
       "_view_module_version": "1.5.0",
       "_view_name": "RadioButtonsView",
       "description": "",
       "description_tooltip": null,
       "disabled": false,
       "index": 0,
       "layout": "IPY_MODEL_b29ea00319d94092a33a9602b7406286",
       "style": "IPY_MODEL_23a9acf1594c4de1855ec9a2ea9627ca"
      }
     },
     "9e82dbfc9e594624af765cd750384528": {
      "model_module": "@jupyter-widgets/controls",
      "model_module_version": "1.5.0",
      "model_name": "ButtonStyleModel",
      "state": {
       "_model_module": "@jupyter-widgets/controls",
       "_model_module_version": "1.5.0",
       "_model_name": "ButtonStyleModel",
       "_view_count": null,
       "_view_module": "@jupyter-widgets/base",
       "_view_module_version": "1.2.0",
       "_view_name": "StyleView",
       "button_color": null,
       "font_weight": ""
      }
     },
     "a2c72547b5534e25b6e0fc0804957585": {
      "model_module": "@jupyter-widgets/base",
      "model_module_version": "1.2.0",
      "model_name": "LayoutModel",
      "state": {
       "_model_module": "@jupyter-widgets/base",
       "_model_module_version": "1.2.0",
       "_model_name": "LayoutModel",
       "_view_count": null,
       "_view_module": "@jupyter-widgets/base",
       "_view_module_version": "1.2.0",
       "_view_name": "LayoutView",
       "align_content": null,
       "align_items": null,
       "align_self": null,
       "border": null,
       "bottom": null,
       "display": null,
       "flex": null,
       "flex_flow": null,
       "grid_area": null,
       "grid_auto_columns": null,
       "grid_auto_flow": null,
       "grid_auto_rows": null,
       "grid_column": null,
       "grid_gap": null,
       "grid_row": null,
       "grid_template_areas": null,
       "grid_template_columns": null,
       "grid_template_rows": null,
       "height": null,
       "justify_content": null,
       "justify_items": null,
       "left": null,
       "margin": null,
       "max_height": null,
       "max_width": null,
       "min_height": null,
       "min_width": null,
       "object_fit": null,
       "object_position": null,
       "order": null,
       "overflow": null,
       "overflow_x": null,
       "overflow_y": null,
       "padding": null,
       "right": null,
       "top": null,
       "visibility": null,
       "width": null
      }
     },
     "a636b0a118c549d5b1a4d93632a73564": {
      "model_module": "@jupyter-widgets/base",
      "model_module_version": "1.2.0",
      "model_name": "LayoutModel",
      "state": {
       "_model_module": "@jupyter-widgets/base",
       "_model_module_version": "1.2.0",
       "_model_name": "LayoutModel",
       "_view_count": null,
       "_view_module": "@jupyter-widgets/base",
       "_view_module_version": "1.2.0",
       "_view_name": "LayoutView",
       "align_content": null,
       "align_items": null,
       "align_self": null,
       "border": null,
       "bottom": null,
       "display": null,
       "flex": null,
       "flex_flow": null,
       "grid_area": null,
       "grid_auto_columns": null,
       "grid_auto_flow": null,
       "grid_auto_rows": null,
       "grid_column": null,
       "grid_gap": null,
       "grid_row": null,
       "grid_template_areas": null,
       "grid_template_columns": null,
       "grid_template_rows": null,
       "height": "30px",
       "justify_content": null,
       "justify_items": null,
       "left": null,
       "margin": null,
       "max_height": null,
       "max_width": null,
       "min_height": null,
       "min_width": null,
       "object_fit": null,
       "object_position": null,
       "order": null,
       "overflow": null,
       "overflow_x": null,
       "overflow_y": null,
       "padding": null,
       "right": null,
       "top": null,
       "visibility": null,
       "width": "15%"
      }
     },
     "a6e0fdbe034c4cec99381a8858179fa2": {
      "model_module": "@jupyter-widgets/base",
      "model_module_version": "1.2.0",
      "model_name": "LayoutModel",
      "state": {
       "_model_module": "@jupyter-widgets/base",
       "_model_module_version": "1.2.0",
       "_model_name": "LayoutModel",
       "_view_count": null,
       "_view_module": "@jupyter-widgets/base",
       "_view_module_version": "1.2.0",
       "_view_name": "LayoutView",
       "align_content": null,
       "align_items": null,
       "align_self": null,
       "border": null,
       "bottom": null,
       "display": null,
       "flex": null,
       "flex_flow": null,
       "grid_area": null,
       "grid_auto_columns": null,
       "grid_auto_flow": null,
       "grid_auto_rows": null,
       "grid_column": null,
       "grid_gap": null,
       "grid_row": null,
       "grid_template_areas": null,
       "grid_template_columns": null,
       "grid_template_rows": null,
       "height": "75px",
       "justify_content": null,
       "justify_items": null,
       "left": null,
       "margin": null,
       "max_height": null,
       "max_width": null,
       "min_height": null,
       "min_width": null,
       "object_fit": null,
       "object_position": null,
       "order": null,
       "overflow": null,
       "overflow_x": null,
       "overflow_y": null,
       "padding": null,
       "right": null,
       "top": null,
       "visibility": null,
       "width": "100%"
      }
     },
     "a722d2cb2094482fadbc930861080777": {
      "model_module": "@jupyter-widgets/base",
      "model_module_version": "1.2.0",
      "model_name": "LayoutModel",
      "state": {
       "_model_module": "@jupyter-widgets/base",
       "_model_module_version": "1.2.0",
       "_model_name": "LayoutModel",
       "_view_count": null,
       "_view_module": "@jupyter-widgets/base",
       "_view_module_version": "1.2.0",
       "_view_name": "LayoutView",
       "align_content": null,
       "align_items": null,
       "align_self": null,
       "border": null,
       "bottom": null,
       "display": null,
       "flex": null,
       "flex_flow": null,
       "grid_area": null,
       "grid_auto_columns": null,
       "grid_auto_flow": null,
       "grid_auto_rows": null,
       "grid_column": null,
       "grid_gap": null,
       "grid_row": null,
       "grid_template_areas": null,
       "grid_template_columns": null,
       "grid_template_rows": null,
       "height": "30px",
       "justify_content": null,
       "justify_items": null,
       "left": null,
       "margin": null,
       "max_height": null,
       "max_width": null,
       "min_height": null,
       "min_width": null,
       "object_fit": null,
       "object_position": null,
       "order": null,
       "overflow": null,
       "overflow_x": null,
       "overflow_y": null,
       "padding": null,
       "right": null,
       "top": null,
       "visibility": null,
       "width": "15%"
      }
     },
     "a7deb41c9ebc4a888d654b020a10ba87": {
      "model_module": "@jupyter-widgets/base",
      "model_module_version": "1.2.0",
      "model_name": "LayoutModel",
      "state": {
       "_model_module": "@jupyter-widgets/base",
       "_model_module_version": "1.2.0",
       "_model_name": "LayoutModel",
       "_view_count": null,
       "_view_module": "@jupyter-widgets/base",
       "_view_module_version": "1.2.0",
       "_view_name": "LayoutView",
       "align_content": null,
       "align_items": null,
       "align_self": null,
       "border": null,
       "bottom": null,
       "display": null,
       "flex": null,
       "flex_flow": null,
       "grid_area": null,
       "grid_auto_columns": null,
       "grid_auto_flow": null,
       "grid_auto_rows": null,
       "grid_column": null,
       "grid_gap": null,
       "grid_row": null,
       "grid_template_areas": null,
       "grid_template_columns": null,
       "grid_template_rows": null,
       "height": null,
       "justify_content": null,
       "justify_items": null,
       "left": null,
       "margin": null,
       "max_height": null,
       "max_width": null,
       "min_height": null,
       "min_width": null,
       "object_fit": null,
       "object_position": null,
       "order": null,
       "overflow": null,
       "overflow_x": null,
       "overflow_y": null,
       "padding": null,
       "right": null,
       "top": null,
       "visibility": null,
       "width": null
      }
     },
     "aac3798113d2470e827ddfb28d155716": {
      "model_module": "@jupyter-widgets/controls",
      "model_module_version": "1.5.0",
      "model_name": "ButtonStyleModel",
      "state": {
       "_model_module": "@jupyter-widgets/controls",
       "_model_module_version": "1.5.0",
       "_model_name": "ButtonStyleModel",
       "_view_count": null,
       "_view_module": "@jupyter-widgets/base",
       "_view_module_version": "1.2.0",
       "_view_name": "StyleView",
       "button_color": null,
       "font_weight": ""
      }
     },
     "ab2c93b2ef5e4bc9807db29d68675f01": {
      "model_module": "@jupyter-widgets/controls",
      "model_module_version": "1.5.0",
      "model_name": "ButtonStyleModel",
      "state": {
       "_model_module": "@jupyter-widgets/controls",
       "_model_module_version": "1.5.0",
       "_model_name": "ButtonStyleModel",
       "_view_count": null,
       "_view_module": "@jupyter-widgets/base",
       "_view_module_version": "1.2.0",
       "_view_name": "StyleView",
       "button_color": null,
       "font_weight": ""
      }
     },
     "accd1b5ac55642a99a9b61cb6a9f0ca0": {
      "model_module": "@jupyter-widgets/controls",
      "model_module_version": "1.5.0",
      "model_name": "ButtonStyleModel",
      "state": {
       "_model_module": "@jupyter-widgets/controls",
       "_model_module_version": "1.5.0",
       "_model_name": "ButtonStyleModel",
       "_view_count": null,
       "_view_module": "@jupyter-widgets/base",
       "_view_module_version": "1.2.0",
       "_view_name": "StyleView",
       "button_color": null,
       "font_weight": ""
      }
     },
     "ae3e47d321a54823a97eab193b9c932e": {
      "model_module": "@jupyter-widgets/base",
      "model_module_version": "1.2.0",
      "model_name": "LayoutModel",
      "state": {
       "_model_module": "@jupyter-widgets/base",
       "_model_module_version": "1.2.0",
       "_model_name": "LayoutModel",
       "_view_count": null,
       "_view_module": "@jupyter-widgets/base",
       "_view_module_version": "1.2.0",
       "_view_name": "LayoutView",
       "align_content": null,
       "align_items": null,
       "align_self": null,
       "border": null,
       "bottom": null,
       "display": null,
       "flex": null,
       "flex_flow": null,
       "grid_area": null,
       "grid_auto_columns": null,
       "grid_auto_flow": null,
       "grid_auto_rows": null,
       "grid_column": null,
       "grid_gap": null,
       "grid_row": null,
       "grid_template_areas": null,
       "grid_template_columns": null,
       "grid_template_rows": null,
       "height": "30px",
       "justify_content": null,
       "justify_items": null,
       "left": null,
       "margin": null,
       "max_height": null,
       "max_width": null,
       "min_height": null,
       "min_width": null,
       "object_fit": null,
       "object_position": null,
       "order": null,
       "overflow": null,
       "overflow_x": null,
       "overflow_y": null,
       "padding": null,
       "right": null,
       "top": null,
       "visibility": null,
       "width": "15%"
      }
     },
     "b24d6171d0564e76bc0d9a42b5db1097": {
      "model_module": "@jupyter-widgets/base",
      "model_module_version": "1.2.0",
      "model_name": "LayoutModel",
      "state": {
       "_model_module": "@jupyter-widgets/base",
       "_model_module_version": "1.2.0",
       "_model_name": "LayoutModel",
       "_view_count": null,
       "_view_module": "@jupyter-widgets/base",
       "_view_module_version": "1.2.0",
       "_view_name": "LayoutView",
       "align_content": null,
       "align_items": null,
       "align_self": null,
       "border": null,
       "bottom": null,
       "display": null,
       "flex": null,
       "flex_flow": null,
       "grid_area": null,
       "grid_auto_columns": null,
       "grid_auto_flow": null,
       "grid_auto_rows": null,
       "grid_column": null,
       "grid_gap": null,
       "grid_row": null,
       "grid_template_areas": null,
       "grid_template_columns": null,
       "grid_template_rows": null,
       "height": null,
       "justify_content": null,
       "justify_items": null,
       "left": null,
       "margin": null,
       "max_height": null,
       "max_width": null,
       "min_height": null,
       "min_width": null,
       "object_fit": null,
       "object_position": null,
       "order": null,
       "overflow": null,
       "overflow_x": null,
       "overflow_y": null,
       "padding": null,
       "right": null,
       "top": null,
       "visibility": null,
       "width": "100%"
      }
     },
     "b29ea00319d94092a33a9602b7406286": {
      "model_module": "@jupyter-widgets/base",
      "model_module_version": "1.2.0",
      "model_name": "LayoutModel",
      "state": {
       "_model_module": "@jupyter-widgets/base",
       "_model_module_version": "1.2.0",
       "_model_name": "LayoutModel",
       "_view_count": null,
       "_view_module": "@jupyter-widgets/base",
       "_view_module_version": "1.2.0",
       "_view_name": "LayoutView",
       "align_content": null,
       "align_items": null,
       "align_self": null,
       "border": null,
       "bottom": null,
       "display": null,
       "flex": null,
       "flex_flow": null,
       "grid_area": null,
       "grid_auto_columns": null,
       "grid_auto_flow": null,
       "grid_auto_rows": null,
       "grid_column": null,
       "grid_gap": null,
       "grid_row": null,
       "grid_template_areas": null,
       "grid_template_columns": null,
       "grid_template_rows": null,
       "height": null,
       "justify_content": null,
       "justify_items": null,
       "left": null,
       "margin": null,
       "max_height": null,
       "max_width": null,
       "min_height": null,
       "min_width": null,
       "object_fit": null,
       "object_position": null,
       "order": null,
       "overflow": null,
       "overflow_x": null,
       "overflow_y": null,
       "padding": null,
       "right": null,
       "top": null,
       "visibility": null,
       "width": "100%"
      }
     },
     "b4fa66752f9641e8b1b1d914dc63e3cd": {
      "model_module": "@jupyter-widgets/controls",
      "model_module_version": "1.5.0",
      "model_name": "TextareaModel",
      "state": {
       "_dom_classes": [],
       "_model_module": "@jupyter-widgets/controls",
       "_model_module_version": "1.5.0",
       "_model_name": "TextareaModel",
       "_view_count": null,
       "_view_module": "@jupyter-widgets/controls",
       "_view_module_version": "1.5.0",
       "_view_name": "TextareaView",
       "continuous_update": true,
       "description": "",
       "description_tooltip": null,
       "disabled": false,
       "layout": "IPY_MODEL_62170e113ff942589a85a8f163b07828",
       "placeholder": "STUDENT NAME",
       "rows": null,
       "style": "IPY_MODEL_4f1b7c5b0a8543499162b1743869b2e4",
       "value": ""
      }
     },
     "b739b6f3482d48948bc11f3d25e0c4f5": {
      "model_module": "@jupyter-widgets/base",
      "model_module_version": "1.2.0",
      "model_name": "LayoutModel",
      "state": {
       "_model_module": "@jupyter-widgets/base",
       "_model_module_version": "1.2.0",
       "_model_name": "LayoutModel",
       "_view_count": null,
       "_view_module": "@jupyter-widgets/base",
       "_view_module_version": "1.2.0",
       "_view_name": "LayoutView",
       "align_content": null,
       "align_items": null,
       "align_self": null,
       "border": null,
       "bottom": null,
       "display": null,
       "flex": null,
       "flex_flow": null,
       "grid_area": null,
       "grid_auto_columns": null,
       "grid_auto_flow": null,
       "grid_auto_rows": null,
       "grid_column": null,
       "grid_gap": null,
       "grid_row": null,
       "grid_template_areas": null,
       "grid_template_columns": null,
       "grid_template_rows": null,
       "height": null,
       "justify_content": null,
       "justify_items": null,
       "left": null,
       "margin": null,
       "max_height": null,
       "max_width": null,
       "min_height": null,
       "min_width": null,
       "object_fit": null,
       "object_position": null,
       "order": null,
       "overflow": null,
       "overflow_x": null,
       "overflow_y": null,
       "padding": null,
       "right": null,
       "top": null,
       "visibility": null,
       "width": null
      }
     },
     "b889141ee6ea40cd83ba10f7df88fb09": {
      "model_module": "@jupyter-widgets/base",
      "model_module_version": "1.2.0",
      "model_name": "LayoutModel",
      "state": {
       "_model_module": "@jupyter-widgets/base",
       "_model_module_version": "1.2.0",
       "_model_name": "LayoutModel",
       "_view_count": null,
       "_view_module": "@jupyter-widgets/base",
       "_view_module_version": "1.2.0",
       "_view_name": "LayoutView",
       "align_content": null,
       "align_items": null,
       "align_self": null,
       "border": null,
       "bottom": null,
       "display": null,
       "flex": null,
       "flex_flow": null,
       "grid_area": null,
       "grid_auto_columns": null,
       "grid_auto_flow": null,
       "grid_auto_rows": null,
       "grid_column": null,
       "grid_gap": null,
       "grid_row": null,
       "grid_template_areas": null,
       "grid_template_columns": null,
       "grid_template_rows": null,
       "height": "30px",
       "justify_content": null,
       "justify_items": null,
       "left": null,
       "margin": null,
       "max_height": null,
       "max_width": null,
       "min_height": null,
       "min_width": null,
       "object_fit": null,
       "object_position": null,
       "order": null,
       "overflow": null,
       "overflow_x": null,
       "overflow_y": null,
       "padding": null,
       "right": null,
       "top": null,
       "visibility": null,
       "width": "15%"
      }
     },
     "b91419f5d0124b18b2e8270ad718577c": {
      "model_module": "qgrid",
      "model_module_version": "1.1.1",
      "model_name": "QgridModel",
      "state": {
       "_columns": {
        "Balance ($)": {
         "cssClass": "number",
         "defaultSortAsc": true,
         "editable": true,
         "field": "Balance ($)",
         "id": "Balance ($)",
         "maxWidth": null,
         "minWidth": 30,
         "name": "Balance ($)",
         "position": 5,
         "resizable": true,
         "sortable": true,
         "toolTip": "",
         "type": "number",
         "width": null
        },
        "Credit ($)": {
         "cssClass": "string",
         "defaultSortAsc": true,
         "editable": true,
         "field": "Credit ($)",
         "id": "Credit ($)",
         "maxWidth": null,
         "minWidth": 30,
         "name": "Credit ($)",
         "position": 4,
         "resizable": true,
         "sortable": true,
         "toolTip": "",
         "type": "string",
         "width": null
        },
        "Date": {
         "cssClass": "string",
         "defaultSortAsc": true,
         "editable": true,
         "field": "Date",
         "first_index": true,
         "id": "Date",
         "index_display_text": "Date",
         "is_index": true,
         "level": 0,
         "maxWidth": null,
         "minWidth": 30,
         "name": "Date",
         "position": 0,
         "resizable": true,
         "sortable": true,
         "toolTip": "",
         "type": "string",
         "width": null
        },
        "Debit ($)": {
         "cssClass": "string",
         "defaultSortAsc": true,
         "editable": true,
         "field": "Debit ($)",
         "id": "Debit ($)",
         "maxWidth": null,
         "minWidth": 30,
         "name": "Debit ($)",
         "position": 3,
         "resizable": true,
         "sortable": true,
         "toolTip": "",
         "type": "string",
         "width": null
        },
        "Description": {
         "cssClass": "string",
         "defaultSortAsc": true,
         "editable": true,
         "field": "Description",
         "id": "Description",
         "maxWidth": null,
         "minWidth": 30,
         "name": "Description",
         "position": 2,
         "resizable": true,
         "sortable": true,
         "toolTip": "",
         "type": "string",
         "width": null
        },
        "qgrid_unfiltered_index": {
         "cssClass": "integer",
         "defaultSortAsc": true,
         "editable": true,
         "field": "qgrid_unfiltered_index",
         "id": "qgrid_unfiltered_index",
         "maxWidth": null,
         "minWidth": 30,
         "name": "qgrid_unfiltered_index",
         "position": 1,
         "resizable": true,
         "sortable": true,
         "toolTip": "",
         "type": "integer",
         "width": null
        }
       },
       "_df_json": "{\"schema\": {\"fields\":[{\"name\":\"Date\",\"type\":\"string\"},{\"name\":\"qgrid_unfiltered_index\",\"type\":\"integer\"},{\"name\":\"Description\",\"type\":\"string\"},{\"name\":\"Debit ($)\",\"type\":\"string\"},{\"name\":\"Credit ($)\",\"type\":\"string\"},{\"name\":\"Balance ($)\",\"type\":\"number\"}],\"pandas_version\":\"0.20.0\"}, \"data\": [{\"Date\":\"01-Mar-\\n12\",\"qgrid_unfiltered_index\":0,\"Description\":\"Balance Forward\",\"Debit ($)\":\"\",\"Credit ($)\":\"\",\"Balance ($)\":360.35},{\"Date\":\"01-Mar-\\n12\",\"qgrid_unfiltered_index\":1,\"Description\":\"AFT Gobeys Grocery\",\"Debit ($)\":\"\",\"Credit ($)\":\"321.13\",\"Balance ($)\":681.48},{\"Date\":\"01-Mar-\\n12\",\"qgrid_unfiltered_index\":2,\"Description\":\"AFT RESP\",\"Debit ($)\":\"40.00\",\"Credit ($)\":\"\",\"Balance ($)\":641.48},{\"Date\":\"01-Mar-\\n12\",\"qgrid_unfiltered_index\":3,\"Description\":\"DPmt Purchase U42153 CITY TRANSIT\",\"Debit ($)\":\"73.50\",\"Credit ($)\":\"\",\"Balance ($)\":567.98},{\"Date\":\"02-Mar-\\n12\",\"qgrid_unfiltered_index\":4,\"Description\":\"DPmt Purchase U56487 BURGER & FRIES\",\"Debit ($)\":\"7.46\",\"Credit ($)\":\"\",\"Balance ($)\":560.52},{\"Date\":\"04-Mar-\\n12\",\"qgrid_unfiltered_index\":5,\"Description\":\"Internet Bill Pay 467341 CELLULAR SERVICE\",\"Debit ($)\":\"30.15\",\"Credit ($)\":\"\",\"Balance ($)\":530.37},{\"Date\":\"05-Mar-\\n12\",\"qgrid_unfiltered_index\":6,\"Description\":\"ATM Dep Own 056648\",\"Debit ($)\":\"\",\"Credit ($)\":\"80.00\",\"Balance ($)\":610.37},{\"Date\":\"06-Mar-\\n12\",\"qgrid_unfiltered_index\":7,\"Description\":\"DPmt Purchase U45862 SUBS & SUCH\",\"Debit ($)\":\"10.23\",\"Credit ($)\":\"\",\"Balance ($)\":600.14},{\"Date\":\"09-Mar-\\n12\",\"qgrid_unfiltered_index\":8,\"Description\":\"ATM Dep Own 056897\",\"Debit ($)\":\"\",\"Credit ($)\":\"40.00\",\"Balance ($)\":640.14},{\"Date\":\"10-Mar-\\n12\",\"qgrid_unfiltered_index\":9,\"Description\":\"DPmt Purchase U45648 MOVIES R US THEATRE\",\"Debit ($)\":\"18.36\",\"Credit ($)\":\"\",\"Balance ($)\":621.78},{\"Date\":\"10-Mar-\\n12\",\"qgrid_unfiltered_index\":10,\"Description\":\"DPmt Purchase U423465 THE COFFEE SHOP\",\"Debit ($)\":\"10.49\",\"Credit ($)\":\"\",\"Balance ($)\":611.29},{\"Date\":\"12-Mar-\\n12\",\"qgrid_unfiltered_index\":11,\"Description\":\"ATMWtd AB ATM095124\",\"Debit ($)\":\"80.00\",\"Credit ($)\":\"\",\"Balance ($)\":531.29},{\"Date\":\"12-Mar-\\n12\",\"qgrid_unfiltered_index\":12,\"Description\":\"SERVICE CHARGE\",\"Debit ($)\":\"1.50\",\"Credit ($)\":\"\",\"Balance ($)\":529.79},{\"Date\":\"13-Mar-\\n12\",\"qgrid_unfiltered_index\":13,\"Description\":\"ATM Dep Own 059874\",\"Debit ($)\":\"\",\"Credit ($)\":\"60.00\",\"Balance ($)\":589.79},{\"Date\":\"15-Mar-\\n12\",\"qgrid_unfiltered_index\":14,\"Description\":\"AFT Gobeys Grocery\",\"Debit ($)\":\"\",\"Credit ($)\":\"321.13\",\"Balance ($)\":910.92},{\"Date\":\"15-Mar-\\n12\",\"qgrid_unfiltered_index\":15,\"Description\":\"AFT RESP\",\"Debit ($)\":\"40.00\",\"Credit ($)\":\"\",\"Balance ($)\":870.92},{\"Date\":\"17-Mar-\\n12\",\"qgrid_unfiltered_index\":16,\"Description\":\"DPmt Purchase U454697 SUBS & SUCH\",\"Debit ($)\":\"6.89\",\"Credit ($)\":\"\",\"Balance ($)\":864.03},{\"Date\":\"18-Mar-\\n12\",\"qgrid_unfiltered_index\":17,\"Description\":\"DPmt Purchase U597845 DONUT HOLES\",\"Debit ($)\":\"8.94\",\"Credit ($)\":\"\",\"Balance ($)\":855.09},{\"Date\":\"18-Mar-\\n12\",\"qgrid_unfiltered_index\":18,\"Description\":\"DPmt Purchase U645121 VAL MART CLOTHING\",\"Debit ($)\":\"85.95\",\"Credit ($)\":\"\",\"Balance ($)\":769.14},{\"Date\":\"19-Mar-\\n12\",\"qgrid_unfiltered_index\":19,\"Description\":\"ATMWtd AB ATM095124\",\"Debit ($)\":\"60.00\",\"Credit ($)\":\"\",\"Balance ($)\":709.14},{\"Date\":\"19-Mar-\\n12\",\"qgrid_unfiltered_index\":20,\"Description\":\"SERVICE CHARGE\",\"Debit ($)\":\"1.50\",\"Credit ($)\":\"\",\"Balance ($)\":707.64},{\"Date\":\"21-Mar-\\n12\",\"qgrid_unfiltered_index\":21,\"Description\":\"ATM Dep Own 094576\",\"Debit ($)\":\"\",\"Credit ($)\":\"40.00\",\"Balance ($)\":747.64},{\"Date\":\"22-Mar-\\n12\",\"qgrid_unfiltered_index\":22,\"Description\":\"DPmt Purchase U561481 PIZZA 123\",\"Debit ($)\":\"5.45\",\"Credit ($)\":\"\",\"Balance ($)\":742.19},{\"Date\":\"23-Mar-\\n12\",\"qgrid_unfiltered_index\":23,\"Description\":\"DPmt Purchase U612485 WOK INN\",\"Debit ($)\":\"5.34\",\"Credit ($)\":\"\",\"Balance ($)\":736.85},{\"Date\":\"23-Mar-\\n12\",\"qgrid_unfiltered_index\":24,\"Description\":\"ATMWtd AB ATM165478\",\"Debit ($)\":\"60.00\",\"Credit ($)\":\"\",\"Balance ($)\":676.85},{\"Date\":\"23-Mar-\\n12\",\"qgrid_unfiltered_index\":25,\"Description\":\"SERVICE CHARGE\",\"Debit ($)\":\"1.50\",\"Credit ($)\":\"\",\"Balance ($)\":675.35},{\"Date\":\"25-Mar-\\n12\",\"qgrid_unfiltered_index\":26,\"Description\":\"DPmt Purchase U649513 KURT'S DRUG MART\",\"Debit ($)\":\"51.23\",\"Credit ($)\":\"\",\"Balance ($)\":624.12},{\"Date\":\"26-Mar-\\n12\",\"qgrid_unfiltered_index\":27,\"Description\":\"DPmt Purchase U546125 VAL'S SALON\",\"Debit ($)\":\"65.30\",\"Credit ($)\":\"\",\"Balance ($)\":558.82},{\"Date\":\"28-Mar-\\n12\",\"qgrid_unfiltered_index\":28,\"Description\":\"ATM Dep Own 099945\",\"Debit ($)\":\"\",\"Credit ($)\":\"60.00\",\"Balance ($)\":618.82},{\"Date\":\"29-Mar-\\n12\",\"qgrid_unfiltered_index\":29,\"Description\":\"ATMWtd AB ATM095124\",\"Debit ($)\":\"160.00\",\"Credit ($)\":\"\",\"Balance ($)\":458.82},{\"Date\":\"29-Mar-\\n12\",\"qgrid_unfiltered_index\":30,\"Description\":\"SERVICE CHARGE\",\"Debit ($)\":\"1.50\",\"Credit ($)\":\"\",\"Balance ($)\":457.32},{\"Date\":\"30-Mar-\\n12\",\"qgrid_unfiltered_index\":31,\"Description\":\"DPmt Purchase U42153 BARBIE'S BURGERS\",\"Debit ($)\":\"6.09\",\"Credit ($)\":\"\",\"Balance ($)\":451.23},{\"Date\":\"30-Mar-\\n12\",\"qgrid_unfiltered_index\":32,\"Description\":\"DPmt Purchase U42153 FAMILY RESTAURANT\",\"Debit ($)\":\"20.50\",\"Credit ($)\":\"\",\"Balance ($)\":430.73},{\"Date\":\"31-Mar-\\n12\",\"qgrid_unfiltered_index\":33,\"Description\":\"DPmt Purchase U541853 EGGS R US\",\"Debit ($)\":\"10.56\",\"Credit ($)\":\"\",\"Balance ($)\":420.17}]}",
       "_df_range": [
        0,
        100
       ],
       "_dom_classes": [],
       "_editable_rows": {},
       "_index_col_name": "qgrid_unfiltered_index",
       "_interval_columns": [],
       "_model_module": "qgrid",
       "_model_module_version": "1.1.1",
       "_model_name": "QgridModel",
       "_multi_index": false,
       "_row_count": 34,
       "_row_styles": {},
       "_sort_ascending": true,
       "_sort_field": null,
       "_view_count": null,
       "_view_module": "qgrid",
       "_view_module_version": "1.1.1",
       "_view_name": "QgridView",
       "_viewport_range": [
        0,
        100
       ],
       "grid_options": {
        "autoEdit": false,
        "boldIndex": true,
        "defaultColumnWidth": 150,
        "editable": false,
        "enableColumnReorder": true,
        "enableTextSelectionOnCells": true,
        "explicitInitialization": true,
        "filterable": false,
        "forceFitColumns": true,
        "fullWidthRows": true,
        "highlightSelectedCell": false,
        "highlightSelectedRow": true,
        "maxVisibleRows": 15,
        "minVisibleRows": 8,
        "rowHeight": 40,
        "sortable": false,
        "syncColumnCellResize": true
       },
       "id": "96bea3d5-e786-4d19-8d39-630befefa22e",
       "layout": "IPY_MODEL_17ca831c59bd40c99d69f9ac70caca06",
       "precision": 5,
       "show_toolbar": false
      }
     },
     "b9ff0186a30e4215ab5bb6cf51082626": {
      "model_module": "@jupyter-widgets/controls",
      "model_module_version": "1.5.0",
      "model_name": "ButtonStyleModel",
      "state": {
       "_model_module": "@jupyter-widgets/controls",
       "_model_module_version": "1.5.0",
       "_model_name": "ButtonStyleModel",
       "_view_count": null,
       "_view_module": "@jupyter-widgets/base",
       "_view_module_version": "1.2.0",
       "_view_name": "StyleView",
       "button_color": null,
       "font_weight": ""
      }
     },
     "bad4834c8bce403c91abff540d4ab172": {
      "model_module": "@jupyter-widgets/controls",
      "model_module_version": "1.5.0",
      "model_name": "ButtonModel",
      "state": {
       "_dom_classes": [],
       "_model_module": "@jupyter-widgets/controls",
       "_model_module_version": "1.5.0",
       "_model_name": "ButtonModel",
       "_view_count": null,
       "_view_module": "@jupyter-widgets/controls",
       "_view_module_version": "1.5.0",
       "_view_name": "ButtonView",
       "button_style": "info",
       "description": "Calculate",
       "disabled": false,
       "icon": "",
       "layout": "IPY_MODEL_993b33d9e0654f6e860a492c09eccbe7",
       "style": "IPY_MODEL_219026532eef42a78fa07ad22e64aefd",
       "tooltip": ""
      }
     },
     "bb482e1ea85f497ea16a95bc6f6a190a": {
      "model_module": "@jupyter-widgets/controls",
      "model_module_version": "1.5.0",
      "model_name": "TextareaModel",
      "state": {
       "_dom_classes": [],
       "_model_module": "@jupyter-widgets/controls",
       "_model_module_version": "1.5.0",
       "_model_name": "TextareaModel",
       "_view_count": null,
       "_view_module": "@jupyter-widgets/controls",
       "_view_module_version": "1.5.0",
       "_view_name": "TextareaView",
       "continuous_update": true,
       "description": "",
       "description_tooltip": null,
       "disabled": false,
       "layout": "IPY_MODEL_520218bf7a1b4df1ae41e89e6238d62f",
       "placeholder": "Enter your calculation here to determine Emma's net income for the month of March. Hint: which column do Emma's income come from?",
       "rows": null,
       "style": "IPY_MODEL_03d58692df664ab6a95afe0769813a97",
       "value": ""
      }
     },
     "bdede2950ad0469f91d3f3b973a02e01": {
      "model_module": "@jupyter-widgets/controls",
      "model_module_version": "1.5.0",
      "model_name": "DescriptionStyleModel",
      "state": {
       "_model_module": "@jupyter-widgets/controls",
       "_model_module_version": "1.5.0",
       "_model_name": "DescriptionStyleModel",
       "_view_count": null,
       "_view_module": "@jupyter-widgets/base",
       "_view_module_version": "1.2.0",
       "_view_name": "StyleView",
       "description_width": ""
      }
     },
     "c14c95712bce45408b922a7966537dfc": {
      "model_module": "@jupyter-widgets/controls",
      "model_module_version": "1.5.0",
      "model_name": "ButtonStyleModel",
      "state": {
       "_model_module": "@jupyter-widgets/controls",
       "_model_module_version": "1.5.0",
       "_model_name": "ButtonStyleModel",
       "_view_count": null,
       "_view_module": "@jupyter-widgets/base",
       "_view_module_version": "1.2.0",
       "_view_name": "StyleView",
       "button_color": null,
       "font_weight": ""
      }
     },
     "c1649c2fb7e444b4b92b2266d84bd2d4": {
      "model_module": "@jupyter-widgets/base",
      "model_module_version": "1.2.0",
      "model_name": "LayoutModel",
      "state": {
       "_model_module": "@jupyter-widgets/base",
       "_model_module_version": "1.2.0",
       "_model_name": "LayoutModel",
       "_view_count": null,
       "_view_module": "@jupyter-widgets/base",
       "_view_module_version": "1.2.0",
       "_view_name": "LayoutView",
       "align_content": null,
       "align_items": null,
       "align_self": null,
       "border": null,
       "bottom": null,
       "display": null,
       "flex": null,
       "flex_flow": null,
       "grid_area": null,
       "grid_auto_columns": null,
       "grid_auto_flow": null,
       "grid_auto_rows": null,
       "grid_column": null,
       "grid_gap": null,
       "grid_row": null,
       "grid_template_areas": null,
       "grid_template_columns": null,
       "grid_template_rows": null,
       "height": null,
       "justify_content": null,
       "justify_items": null,
       "left": null,
       "margin": null,
       "max_height": null,
       "max_width": null,
       "min_height": null,
       "min_width": null,
       "object_fit": null,
       "object_position": null,
       "order": null,
       "overflow": null,
       "overflow_x": null,
       "overflow_y": null,
       "padding": null,
       "right": null,
       "top": null,
       "visibility": null,
       "width": "100%"
      }
     },
     "c1ee0823f9e44c31be81fad50bb5c8db": {
      "model_module": "@jupyter-widgets/base",
      "model_module_version": "1.2.0",
      "model_name": "LayoutModel",
      "state": {
       "_model_module": "@jupyter-widgets/base",
       "_model_module_version": "1.2.0",
       "_model_name": "LayoutModel",
       "_view_count": null,
       "_view_module": "@jupyter-widgets/base",
       "_view_module_version": "1.2.0",
       "_view_name": "LayoutView",
       "align_content": null,
       "align_items": null,
       "align_self": null,
       "border": null,
       "bottom": null,
       "display": null,
       "flex": null,
       "flex_flow": null,
       "grid_area": null,
       "grid_auto_columns": null,
       "grid_auto_flow": null,
       "grid_auto_rows": null,
       "grid_column": null,
       "grid_gap": null,
       "grid_row": null,
       "grid_template_areas": null,
       "grid_template_columns": null,
       "grid_template_rows": null,
       "height": null,
       "justify_content": null,
       "justify_items": null,
       "left": null,
       "margin": null,
       "max_height": null,
       "max_width": null,
       "min_height": null,
       "min_width": null,
       "object_fit": null,
       "object_position": null,
       "order": null,
       "overflow": null,
       "overflow_x": null,
       "overflow_y": null,
       "padding": null,
       "right": null,
       "top": null,
       "visibility": null,
       "width": null
      }
     },
     "c4200a3e56274a3d84408f64fcb7eb00": {
      "model_module": "@jupyter-widgets/controls",
      "model_module_version": "1.5.0",
      "model_name": "DescriptionStyleModel",
      "state": {
       "_model_module": "@jupyter-widgets/controls",
       "_model_module_version": "1.5.0",
       "_model_name": "DescriptionStyleModel",
       "_view_count": null,
       "_view_module": "@jupyter-widgets/base",
       "_view_module_version": "1.2.0",
       "_view_name": "StyleView",
       "description_width": ""
      }
     },
     "c45dadb6b96a40b09742d796dbff8ee2": {
      "model_module": "@jupyter-widgets/controls",
      "model_module_version": "1.5.0",
      "model_name": "ButtonModel",
      "state": {
       "_dom_classes": [],
       "_model_module": "@jupyter-widgets/controls",
       "_model_module_version": "1.5.0",
       "_model_name": "ButtonModel",
       "_view_count": null,
       "_view_module": "@jupyter-widgets/controls",
       "_view_module_version": "1.5.0",
       "_view_name": "ButtonView",
       "button_style": "info",
       "description": "Record Answer",
       "disabled": false,
       "icon": "",
       "layout": "IPY_MODEL_5e8137d9c04849e495b2b70a54749afe",
       "style": "IPY_MODEL_3801c074bbdb4f829d7a2c84aac4c285",
       "tooltip": ""
      }
     },
     "c5fffca1bfd4489ca557bcb4171c83a5": {
      "model_module": "@jupyter-widgets/controls",
      "model_module_version": "1.5.0",
      "model_name": "ButtonModel",
      "state": {
       "_dom_classes": [],
       "_model_module": "@jupyter-widgets/controls",
       "_model_module_version": "1.5.0",
       "_model_name": "ButtonModel",
       "_view_count": null,
       "_view_module": "@jupyter-widgets/controls",
       "_view_module_version": "1.5.0",
       "_view_name": "ButtonView",
       "button_style": "info",
       "description": "Record Answers",
       "disabled": false,
       "icon": "",
       "layout": "IPY_MODEL_d8fade07bd1c4e40895f1560e96e6383",
       "style": "IPY_MODEL_d9efbf3a8d9f479f8279c6dc40f4ecf4",
       "tooltip": ""
      }
     },
     "c8dc6ec2d190443fa0c85d41a824ae0c": {
      "model_module": "@jupyter-widgets/base",
      "model_module_version": "1.2.0",
      "model_name": "LayoutModel",
      "state": {
       "_model_module": "@jupyter-widgets/base",
       "_model_module_version": "1.2.0",
       "_model_name": "LayoutModel",
       "_view_count": null,
       "_view_module": "@jupyter-widgets/base",
       "_view_module_version": "1.2.0",
       "_view_name": "LayoutView",
       "align_content": null,
       "align_items": null,
       "align_self": null,
       "border": null,
       "bottom": null,
       "display": null,
       "flex": null,
       "flex_flow": null,
       "grid_area": null,
       "grid_auto_columns": null,
       "grid_auto_flow": null,
       "grid_auto_rows": null,
       "grid_column": null,
       "grid_gap": null,
       "grid_row": null,
       "grid_template_areas": null,
       "grid_template_columns": null,
       "grid_template_rows": null,
       "height": "30px",
       "justify_content": null,
       "justify_items": null,
       "left": null,
       "margin": null,
       "max_height": null,
       "max_width": null,
       "min_height": null,
       "min_width": null,
       "object_fit": null,
       "object_position": null,
       "order": null,
       "overflow": null,
       "overflow_x": null,
       "overflow_y": null,
       "padding": null,
       "right": null,
       "top": null,
       "visibility": null,
       "width": "100%"
      }
     },
     "cf61d31eb7134809a5a46e469a893bdd": {
      "model_module": "@jupyter-widgets/base",
      "model_module_version": "1.2.0",
      "model_name": "LayoutModel",
      "state": {
       "_model_module": "@jupyter-widgets/base",
       "_model_module_version": "1.2.0",
       "_model_name": "LayoutModel",
       "_view_count": null,
       "_view_module": "@jupyter-widgets/base",
       "_view_module_version": "1.2.0",
       "_view_name": "LayoutView",
       "align_content": null,
       "align_items": null,
       "align_self": null,
       "border": null,
       "bottom": null,
       "display": null,
       "flex": null,
       "flex_flow": null,
       "grid_area": null,
       "grid_auto_columns": null,
       "grid_auto_flow": null,
       "grid_auto_rows": null,
       "grid_column": null,
       "grid_gap": null,
       "grid_row": null,
       "grid_template_areas": null,
       "grid_template_columns": null,
       "grid_template_rows": null,
       "height": "30px",
       "justify_content": null,
       "justify_items": null,
       "left": null,
       "margin": null,
       "max_height": null,
       "max_width": null,
       "min_height": null,
       "min_width": null,
       "object_fit": null,
       "object_position": null,
       "order": null,
       "overflow": null,
       "overflow_x": null,
       "overflow_y": null,
       "padding": null,
       "right": null,
       "top": null,
       "visibility": null,
       "width": "15%"
      }
     },
     "cfd222875fc943d3a0d7d0acc32cc876": {
      "model_module": "@jupyter-widgets/controls",
      "model_module_version": "1.5.0",
      "model_name": "ButtonModel",
      "state": {
       "_dom_classes": [],
       "_model_module": "@jupyter-widgets/controls",
       "_model_module_version": "1.5.0",
       "_model_name": "ButtonModel",
       "_view_count": null,
       "_view_module": "@jupyter-widgets/controls",
       "_view_module_version": "1.5.0",
       "_view_name": "ButtonView",
       "button_style": "info",
       "description": "Record Answer",
       "disabled": false,
       "icon": "",
       "layout": "IPY_MODEL_22c49894da42465dbdeac0056ad89bd5",
       "style": "IPY_MODEL_accd1b5ac55642a99a9b61cb6a9f0ca0",
       "tooltip": ""
      }
     },
     "d14128109a1740ee806fa2d7314aa7a0": {
      "model_module": "@jupyter-widgets/controls",
      "model_module_version": "1.5.0",
      "model_name": "ButtonModel",
      "state": {
       "_dom_classes": [],
       "_model_module": "@jupyter-widgets/controls",
       "_model_module_version": "1.5.0",
       "_model_name": "ButtonModel",
       "_view_count": null,
       "_view_module": "@jupyter-widgets/controls",
       "_view_module_version": "1.5.0",
       "_view_name": "ButtonView",
       "button_style": "info",
       "description": "Record Answer",
       "disabled": false,
       "icon": "",
       "layout": "IPY_MODEL_ede6cb16894c4a85b318503288b7e98e",
       "style": "IPY_MODEL_efed7bd8dd3f4f7dabb8175d5e61ce67",
       "tooltip": ""
      }
     },
     "d2608941c73e41d49b93af0f892dc04c": {
      "model_module": "@jupyter-widgets/controls",
      "model_module_version": "1.5.0",
      "model_name": "RadioButtonsModel",
      "state": {
       "_dom_classes": [],
       "_model_module": "@jupyter-widgets/controls",
       "_model_module_version": "1.5.0",
       "_model_name": "RadioButtonsModel",
       "_options_labels": [
        "Fixed",
        "Variable"
       ],
       "_view_count": null,
       "_view_module": "@jupyter-widgets/controls",
       "_view_module_version": "1.5.0",
       "_view_name": "RadioButtonsView",
       "description": "",
       "description_tooltip": null,
       "disabled": false,
       "index": 0,
       "layout": "IPY_MODEL_831dd026420448a091c094a2206ffe6e",
       "style": "IPY_MODEL_69f718afb6a041f09f948f18db39af03"
      }
     },
     "d43356a5664e42028e7c6df531a35c81": {
      "model_module": "@jupyter-widgets/controls",
      "model_module_version": "1.5.0",
      "model_name": "ButtonModel",
      "state": {
       "_dom_classes": [],
       "_model_module": "@jupyter-widgets/controls",
       "_model_module_version": "1.5.0",
       "_model_name": "ButtonModel",
       "_view_count": null,
       "_view_module": "@jupyter-widgets/controls",
       "_view_module_version": "1.5.0",
       "_view_name": "ButtonView",
       "button_style": "info",
       "description": "Record Answer",
       "disabled": false,
       "icon": "",
       "layout": "IPY_MODEL_655e2f268e6b4518b4cf10c9f1f8d542",
       "style": "IPY_MODEL_04509c2cf9be4c54959ea6d300f7c1a0",
       "tooltip": ""
      }
     },
     "d46da2a9a94c485a861aedbe49774924": {
      "model_module": "@jupyter-widgets/base",
      "model_module_version": "1.2.0",
      "model_name": "LayoutModel",
      "state": {
       "_model_module": "@jupyter-widgets/base",
       "_model_module_version": "1.2.0",
       "_model_name": "LayoutModel",
       "_view_count": null,
       "_view_module": "@jupyter-widgets/base",
       "_view_module_version": "1.2.0",
       "_view_name": "LayoutView",
       "align_content": null,
       "align_items": null,
       "align_self": null,
       "border": null,
       "bottom": null,
       "display": null,
       "flex": null,
       "flex_flow": null,
       "grid_area": null,
       "grid_auto_columns": null,
       "grid_auto_flow": null,
       "grid_auto_rows": null,
       "grid_column": null,
       "grid_gap": null,
       "grid_row": null,
       "grid_template_areas": null,
       "grid_template_columns": null,
       "grid_template_rows": null,
       "height": null,
       "justify_content": null,
       "justify_items": null,
       "left": null,
       "margin": null,
       "max_height": null,
       "max_width": null,
       "min_height": null,
       "min_width": null,
       "object_fit": null,
       "object_position": null,
       "order": null,
       "overflow": null,
       "overflow_x": null,
       "overflow_y": null,
       "padding": null,
       "right": null,
       "top": null,
       "visibility": null,
       "width": null
      }
     },
     "d8d29bd2443e46639b4137bfbc9505e0": {
      "model_module": "qgrid",
      "model_module_version": "1.1.1",
      "model_name": "QgridModel",
      "state": {
       "_columns": {
        "Balance ($)": {
         "cssClass": "number",
         "defaultSortAsc": true,
         "editable": true,
         "field": "Balance ($)",
         "id": "Balance ($)",
         "maxWidth": null,
         "minWidth": 30,
         "name": "Balance ($)",
         "position": 5,
         "resizable": true,
         "sortable": true,
         "toolTip": "",
         "type": "number",
         "width": null
        },
        "Credit ($)": {
         "cssClass": "string",
         "defaultSortAsc": true,
         "editable": true,
         "field": "Credit ($)",
         "id": "Credit ($)",
         "maxWidth": null,
         "minWidth": 30,
         "name": "Credit ($)",
         "position": 4,
         "resizable": true,
         "sortable": true,
         "toolTip": "",
         "type": "string",
         "width": null
        },
        "Date": {
         "cssClass": "string",
         "defaultSortAsc": true,
         "editable": true,
         "field": "Date",
         "first_index": true,
         "id": "Date",
         "index_display_text": "Date",
         "is_index": true,
         "level": 0,
         "maxWidth": null,
         "minWidth": 30,
         "name": "Date",
         "position": 0,
         "resizable": true,
         "sortable": true,
         "toolTip": "",
         "type": "string",
         "width": null
        },
        "Debit ($)": {
         "cssClass": "string",
         "defaultSortAsc": true,
         "editable": true,
         "field": "Debit ($)",
         "id": "Debit ($)",
         "maxWidth": null,
         "minWidth": 30,
         "name": "Debit ($)",
         "position": 3,
         "resizable": true,
         "sortable": true,
         "toolTip": "",
         "type": "string",
         "width": null
        },
        "Description": {
         "cssClass": "string",
         "defaultSortAsc": true,
         "editable": true,
         "field": "Description",
         "id": "Description",
         "maxWidth": null,
         "minWidth": 30,
         "name": "Description",
         "position": 2,
         "resizable": true,
         "sortable": true,
         "toolTip": "",
         "type": "string",
         "width": null
        },
        "qgrid_unfiltered_index": {
         "cssClass": "integer",
         "defaultSortAsc": true,
         "editable": true,
         "field": "qgrid_unfiltered_index",
         "id": "qgrid_unfiltered_index",
         "maxWidth": null,
         "minWidth": 30,
         "name": "qgrid_unfiltered_index",
         "position": 1,
         "resizable": true,
         "sortable": true,
         "toolTip": "",
         "type": "integer",
         "width": null
        }
       },
       "_df_json": "{\"schema\": {\"fields\":[{\"name\":\"Date\",\"type\":\"string\"},{\"name\":\"qgrid_unfiltered_index\",\"type\":\"integer\"},{\"name\":\"Description\",\"type\":\"string\"},{\"name\":\"Debit ($)\",\"type\":\"string\"},{\"name\":\"Credit ($)\",\"type\":\"string\"},{\"name\":\"Balance ($)\",\"type\":\"number\"}],\"pandas_version\":\"0.20.0\"}, \"data\": [{\"Date\":\"01-02-12\",\"qgrid_unfiltered_index\":0,\"Description\":\"Balance Forward\",\"Debit ($)\":\"\",\"Credit ($)\":\"\",\"Balance ($)\":45.92},{\"Date\":\"01-02-12\",\"qgrid_unfiltered_index\":1,\"Description\":\"AFT Gobeys Grocery\",\"Debit ($)\":\"\",\"Credit ($)\":\"321.13\",\"Balance ($)\":367.05},{\"Date\":\"01-02-12\",\"qgrid_unfiltered_index\":2,\"Description\":\"AFT RESP\",\"Debit ($)\":\"40.00\",\"Credit ($)\":\"\",\"Balance ($)\":327.05},{\"Date\":\"01-02-12\",\"qgrid_unfiltered_index\":3,\"Description\":\"DPmt Purchase U42153 CITY TRANSIT\",\"Debit ($)\":\"73.50\",\"Credit ($)\":\"\",\"Balance ($)\":253.55},{\"Date\":\"02-02-12\",\"qgrid_unfiltered_index\":4,\"Description\":\"DPmt Purchase U56487 BURGER & FRIES\",\"Debit ($)\":\"6.51\",\"Credit ($)\":\"\",\"Balance ($)\":247.04},{\"Date\":\"04-02-12\",\"qgrid_unfiltered_index\":5,\"Description\":\"Internet Bill Pay 467341 CELLULAR SERVICE\",\"Debit ($)\":\"30.15\",\"Credit ($)\":\"\",\"Balance ($)\":216.89},{\"Date\":\"06-02-12\",\"qgrid_unfiltered_index\":6,\"Description\":\"DPmt Purchase U45862 SUBS & SUCH\",\"Debit ($)\":\"4.56\",\"Credit ($)\":\"\",\"Balance ($)\":212.33},{\"Date\":\"07-02-12\",\"qgrid_unfiltered_index\":7,\"Description\":\"ATM Dep Own 056897\",\"Debit ($)\":\"\",\"Credit ($)\":\"40.00\",\"Balance ($)\":252.33},{\"Date\":\"07-02-12\",\"qgrid_unfiltered_index\":8,\"Description\":\"DPmt Purchase U45648 BURGER & FRIES\",\"Debit ($)\":\"10.53\",\"Credit ($)\":\"\",\"Balance ($)\":241.8},{\"Date\":\"09-02-12\",\"qgrid_unfiltered_index\":9,\"Description\":\"DPmt Purchase U423465 WOK INN\",\"Debit ($)\":\"5.34\",\"Credit ($)\":\"\",\"Balance ($)\":236.46},{\"Date\":\"10-02-12\",\"qgrid_unfiltered_index\":10,\"Description\":\"DPmt Purchase\\nU555468 SOCCER SHOES INC\",\"Debit ($)\":\"65.89\",\"Credit ($)\":\"\",\"Balance ($)\":170.57},{\"Date\":\"12-02-12\",\"qgrid_unfiltered_index\":11,\"Description\":\"ATM Dep Own 056648\",\"Debit ($)\":\"\",\"Credit ($)\":\"80.00\",\"Balance ($)\":250.57},{\"Date\":\"13-02-12\",\"qgrid_unfiltered_index\":12,\"Description\":\"ATM Dep Own 059874\",\"Debit ($)\":\"\",\"Credit ($)\":\"60.00\",\"Balance ($)\":310.57},{\"Date\":\"15-02-12\",\"qgrid_unfiltered_index\":13,\"Description\":\"AFT Gobeys Grocery\",\"Debit ($)\":\"\",\"Credit ($)\":\"321.13\",\"Balance ($)\":631.7},{\"Date\":\"15-02-12\",\"qgrid_unfiltered_index\":14,\"Description\":\"ATMWtd AB\\nATM475638\",\"Debit ($)\":\"180.00\",\"Credit ($)\":\"\",\"Balance ($)\":451.7},{\"Date\":\"15-02-12\",\"qgrid_unfiltered_index\":15,\"Description\":\"AFT RESP\",\"Debit ($)\":\"40.00\",\"Credit ($)\":\"\",\"Balance ($)\":411.7},{\"Date\":\"17-02-12\",\"qgrid_unfiltered_index\":16,\"Description\":\"DPmt Purchase U454697 SUBS & SUCH\",\"Debit ($)\":\"5.89\",\"Credit ($)\":\"\",\"Balance ($)\":405.81},{\"Date\":\"18-02-12\",\"qgrid_unfiltered_index\":17,\"Description\":\"DPmt Purchase U597845 BURGER &\\nFRIES\",\"Debit ($)\":\"6.43\",\"Credit ($)\":\"\",\"Balance ($)\":399.38},{\"Date\":\"18-02-12\",\"qgrid_unfiltered_index\":18,\"Description\":\"DPmt Purchase U645121 GUITAR AIDS\",\"Debit ($)\":\"53.64\",\"Credit ($)\":\"\",\"Balance ($)\":345.74},{\"Date\":\"19-02-12\",\"qgrid_unfiltered_index\":19,\"Description\":\"ATMWtd AB\\nATM095124\",\"Debit ($)\":\"20.00\",\"Credit ($)\":\"\",\"Balance ($)\":325.74},{\"Date\":\"19-02-12\",\"qgrid_unfiltered_index\":20,\"Description\":\"SERVICE CHARGE\",\"Debit ($)\":\"1.50\",\"Credit ($)\":\"\",\"Balance ($)\":324.24},{\"Date\":\"21-02-12\",\"qgrid_unfiltered_index\":21,\"Description\":\"ATM Dep Own 094576\",\"Debit ($)\":\"\",\"Credit ($)\":\"60.00\",\"Balance ($)\":384.24},{\"Date\":\"22-02-12\",\"qgrid_unfiltered_index\":22,\"Description\":\"DPmt Purchase U561481 PIZZA 123\",\"Debit ($)\":\"3.49\",\"Credit ($)\":\"\",\"Balance ($)\":380.75},{\"Date\":\"23-02-12\",\"qgrid_unfiltered_index\":23,\"Description\":\"DPmt Purchase U612485 WOK INN\",\"Debit ($)\":\"5.34\",\"Credit ($)\":\"\",\"Balance ($)\":375.41},{\"Date\":\"23-02-12\",\"qgrid_unfiltered_index\":24,\"Description\":\"ATMWtd AB\\nATM165478\",\"Debit ($)\":\"50.00\",\"Credit ($)\":\"\",\"Balance ($)\":325.41},{\"Date\":\"23-02-12\",\"qgrid_unfiltered_index\":25,\"Description\":\"SERVICE CHARGE\",\"Debit ($)\":\"1.50\",\"Credit ($)\":\"\",\"Balance ($)\":323.91},{\"Date\":\"25-02-12\",\"qgrid_unfiltered_index\":26,\"Description\":\"DPmt Purchase U649513 OLD ARMY\\nFASHIONS\",\"Debit ($)\":\"123.56\",\"Credit ($)\":\"\",\"Balance ($)\":200.35},{\"Date\":\"27-02-12\",\"qgrid_unfiltered_index\":27,\"Description\":\"ATM Dep Own 157653\",\"Debit ($)\":\"\",\"Credit ($)\":\"100.00\",\"Balance ($)\":300.35},{\"Date\":\"28-02-12\",\"qgrid_unfiltered_index\":28,\"Description\":\"ATM Dep Own 099945\",\"Debit ($)\":\"\",\"Credit ($)\":\"60.00\",\"Balance ($)\":360.35}]}",
       "_df_range": [
        0,
        100
       ],
       "_dom_classes": [],
       "_editable_rows": {},
       "_index_col_name": "qgrid_unfiltered_index",
       "_interval_columns": [],
       "_model_module": "qgrid",
       "_model_module_version": "1.1.1",
       "_model_name": "QgridModel",
       "_multi_index": false,
       "_row_count": 29,
       "_row_styles": {},
       "_sort_ascending": true,
       "_sort_field": null,
       "_view_count": null,
       "_view_module": "qgrid",
       "_view_module_version": "1.1.1",
       "_view_name": "QgridView",
       "_viewport_range": [
        0,
        100
       ],
       "grid_options": {
        "autoEdit": false,
        "boldIndex": true,
        "defaultColumnWidth": 150,
        "editable": false,
        "enableColumnReorder": true,
        "enableTextSelectionOnCells": true,
        "explicitInitialization": true,
        "filterable": false,
        "forceFitColumns": true,
        "fullWidthRows": true,
        "highlightSelectedCell": false,
        "highlightSelectedRow": true,
        "maxVisibleRows": 15,
        "minVisibleRows": 8,
        "rowHeight": 40,
        "sortable": false,
        "syncColumnCellResize": true
       },
       "id": "7b51259b-0690-4b02-aad7-be90a88fb5b9",
       "layout": "IPY_MODEL_d46da2a9a94c485a861aedbe49774924",
       "precision": 5,
       "show_toolbar": false
      }
     },
     "d8fade07bd1c4e40895f1560e96e6383": {
      "model_module": "@jupyter-widgets/base",
      "model_module_version": "1.2.0",
      "model_name": "LayoutModel",
      "state": {
       "_model_module": "@jupyter-widgets/base",
       "_model_module_version": "1.2.0",
       "_model_name": "LayoutModel",
       "_view_count": null,
       "_view_module": "@jupyter-widgets/base",
       "_view_module_version": "1.2.0",
       "_view_name": "LayoutView",
       "align_content": null,
       "align_items": null,
       "align_self": null,
       "border": null,
       "bottom": null,
       "display": null,
       "flex": null,
       "flex_flow": null,
       "grid_area": null,
       "grid_auto_columns": null,
       "grid_auto_flow": null,
       "grid_auto_rows": null,
       "grid_column": null,
       "grid_gap": null,
       "grid_row": null,
       "grid_template_areas": null,
       "grid_template_columns": null,
       "grid_template_rows": null,
       "height": "30px",
       "justify_content": null,
       "justify_items": null,
       "left": null,
       "margin": null,
       "max_height": null,
       "max_width": null,
       "min_height": null,
       "min_width": null,
       "object_fit": null,
       "object_position": null,
       "order": null,
       "overflow": null,
       "overflow_x": null,
       "overflow_y": null,
       "padding": null,
       "right": null,
       "top": null,
       "visibility": null,
       "width": "15%"
      }
     },
     "d9d578b21ea946fda5bee788fc314d71": {
      "model_module": "@jupyter-widgets/controls",
      "model_module_version": "1.5.0",
      "model_name": "DescriptionStyleModel",
      "state": {
       "_model_module": "@jupyter-widgets/controls",
       "_model_module_version": "1.5.0",
       "_model_name": "DescriptionStyleModel",
       "_view_count": null,
       "_view_module": "@jupyter-widgets/base",
       "_view_module_version": "1.2.0",
       "_view_name": "StyleView",
       "description_width": ""
      }
     },
     "d9efbf3a8d9f479f8279c6dc40f4ecf4": {
      "model_module": "@jupyter-widgets/controls",
      "model_module_version": "1.5.0",
      "model_name": "ButtonStyleModel",
      "state": {
       "_model_module": "@jupyter-widgets/controls",
       "_model_module_version": "1.5.0",
       "_model_name": "ButtonStyleModel",
       "_view_count": null,
       "_view_module": "@jupyter-widgets/base",
       "_view_module_version": "1.2.0",
       "_view_name": "StyleView",
       "button_color": null,
       "font_weight": ""
      }
     },
     "dcaed6205c764c909506f8dc9ebc6040": {
      "model_module": "@jupyter-widgets/base",
      "model_module_version": "1.2.0",
      "model_name": "LayoutModel",
      "state": {
       "_model_module": "@jupyter-widgets/base",
       "_model_module_version": "1.2.0",
       "_model_name": "LayoutModel",
       "_view_count": null,
       "_view_module": "@jupyter-widgets/base",
       "_view_module_version": "1.2.0",
       "_view_name": "LayoutView",
       "align_content": null,
       "align_items": null,
       "align_self": null,
       "border": null,
       "bottom": null,
       "display": null,
       "flex": null,
       "flex_flow": null,
       "grid_area": null,
       "grid_auto_columns": null,
       "grid_auto_flow": null,
       "grid_auto_rows": null,
       "grid_column": null,
       "grid_gap": null,
       "grid_row": null,
       "grid_template_areas": null,
       "grid_template_columns": null,
       "grid_template_rows": null,
       "height": "30px",
       "justify_content": null,
       "justify_items": null,
       "left": null,
       "margin": null,
       "max_height": null,
       "max_width": null,
       "min_height": null,
       "min_width": null,
       "object_fit": null,
       "object_position": null,
       "order": null,
       "overflow": null,
       "overflow_x": null,
       "overflow_y": null,
       "padding": null,
       "right": null,
       "top": null,
       "visibility": null,
       "width": "15%"
      }
     },
     "dd49c1143be34d728a197c146b830406": {
      "model_module": "@jupyter-widgets/controls",
      "model_module_version": "1.5.0",
      "model_name": "ButtonStyleModel",
      "state": {
       "_model_module": "@jupyter-widgets/controls",
       "_model_module_version": "1.5.0",
       "_model_name": "ButtonStyleModel",
       "_view_count": null,
       "_view_module": "@jupyter-widgets/base",
       "_view_module_version": "1.2.0",
       "_view_name": "StyleView",
       "button_color": null,
       "font_weight": ""
      }
     },
     "df18e2a65be4463a9bf124484ff23f6d": {
      "model_module": "@jupyter-widgets/controls",
      "model_module_version": "1.5.0",
      "model_name": "ButtonStyleModel",
      "state": {
       "_model_module": "@jupyter-widgets/controls",
       "_model_module_version": "1.5.0",
       "_model_name": "ButtonStyleModel",
       "_view_count": null,
       "_view_module": "@jupyter-widgets/base",
       "_view_module_version": "1.2.0",
       "_view_name": "StyleView",
       "button_color": null,
       "font_weight": ""
      }
     },
     "df437786b0b14686b46510c92574011e": {
      "model_module": "@jupyter-widgets/base",
      "model_module_version": "1.2.0",
      "model_name": "LayoutModel",
      "state": {
       "_model_module": "@jupyter-widgets/base",
       "_model_module_version": "1.2.0",
       "_model_name": "LayoutModel",
       "_view_count": null,
       "_view_module": "@jupyter-widgets/base",
       "_view_module_version": "1.2.0",
       "_view_name": "LayoutView",
       "align_content": null,
       "align_items": null,
       "align_self": null,
       "border": null,
       "bottom": null,
       "display": null,
       "flex": null,
       "flex_flow": null,
       "grid_area": null,
       "grid_auto_columns": null,
       "grid_auto_flow": null,
       "grid_auto_rows": null,
       "grid_column": null,
       "grid_gap": null,
       "grid_row": null,
       "grid_template_areas": null,
       "grid_template_columns": null,
       "grid_template_rows": null,
       "height": "30px",
       "justify_content": null,
       "justify_items": null,
       "left": null,
       "margin": null,
       "max_height": null,
       "max_width": null,
       "min_height": null,
       "min_width": null,
       "object_fit": null,
       "object_position": null,
       "order": null,
       "overflow": null,
       "overflow_x": null,
       "overflow_y": null,
       "padding": null,
       "right": null,
       "top": null,
       "visibility": null,
       "width": "15%"
      }
     },
     "e0017309ceee4b6fa57ba95b96bc7eb9": {
      "model_module": "@jupyter-widgets/base",
      "model_module_version": "1.2.0",
      "model_name": "LayoutModel",
      "state": {
       "_model_module": "@jupyter-widgets/base",
       "_model_module_version": "1.2.0",
       "_model_name": "LayoutModel",
       "_view_count": null,
       "_view_module": "@jupyter-widgets/base",
       "_view_module_version": "1.2.0",
       "_view_name": "LayoutView",
       "align_content": null,
       "align_items": null,
       "align_self": null,
       "border": null,
       "bottom": null,
       "display": null,
       "flex": null,
       "flex_flow": null,
       "grid_area": null,
       "grid_auto_columns": null,
       "grid_auto_flow": null,
       "grid_auto_rows": null,
       "grid_column": null,
       "grid_gap": null,
       "grid_row": null,
       "grid_template_areas": null,
       "grid_template_columns": null,
       "grid_template_rows": null,
       "height": "30px",
       "justify_content": null,
       "justify_items": null,
       "left": null,
       "margin": null,
       "max_height": null,
       "max_width": null,
       "min_height": null,
       "min_width": null,
       "object_fit": null,
       "object_position": null,
       "order": null,
       "overflow": null,
       "overflow_x": null,
       "overflow_y": null,
       "padding": null,
       "right": null,
       "top": null,
       "visibility": null,
       "width": "15%"
      }
     },
     "e29692ea3c224b46b0f7266d78723806": {
      "model_module": "qgrid",
      "model_module_version": "1.1.1",
      "model_name": "QgridModel",
      "state": {
       "_columns": {
        "Budgeted Amount ($)": {
         "cssClass": "string",
         "defaultSortAsc": true,
         "editable": true,
         "field": "Budgeted Amount ($)",
         "id": "Budgeted Amount ($)",
         "maxWidth": null,
         "minWidth": 30,
         "name": "Budgeted Amount ($)",
         "position": 2,
         "resizable": true,
         "sortable": true,
         "toolTip": "",
         "type": "string",
         "width": null
        },
        "Category": {
         "cssClass": "string",
         "defaultSortAsc": true,
         "editable": true,
         "field": "Category",
         "first_index": true,
         "id": "Category",
         "index_display_text": "Category",
         "is_index": true,
         "level": 0,
         "maxWidth": null,
         "minWidth": 30,
         "name": "Category",
         "position": 0,
         "resizable": true,
         "sortable": true,
         "toolTip": "",
         "type": "string",
         "width": null
        },
        "qgrid_unfiltered_index": {
         "cssClass": "integer",
         "defaultSortAsc": true,
         "editable": true,
         "field": "qgrid_unfiltered_index",
         "id": "qgrid_unfiltered_index",
         "maxWidth": null,
         "minWidth": 30,
         "name": "qgrid_unfiltered_index",
         "position": 1,
         "resizable": true,
         "sortable": true,
         "toolTip": "",
         "type": "integer",
         "width": null
        }
       },
       "_df_json": "{\"schema\": {\"fields\":[{\"name\":\"Category\",\"type\":\"string\"},{\"name\":\"qgrid_unfiltered_index\",\"type\":\"integer\"},{\"name\":\"Budgeted Amount ($)\",\"type\":\"string\"}],\"primaryKey\":[\"Category\"],\"pandas_version\":\"0.20.0\"}, \"data\": [{\"Category\":\"Savings (RESP)\",\"qgrid_unfiltered_index\":0,\"Budgeted Amount ($)\":\"\"},{\"Category\":\"Transportation\",\"qgrid_unfiltered_index\":1,\"Budgeted Amount ($)\":\"\"},{\"Category\":\"Utilities\",\"qgrid_unfiltered_index\":2,\"Budgeted Amount ($)\":\"\"},{\"Category\":\"Food\",\"qgrid_unfiltered_index\":3,\"Budgeted Amount ($)\":\"\"},{\"Category\":\"Clothing\",\"qgrid_unfiltered_index\":4,\"Budgeted Amount ($)\":\"\"},{\"Category\":\"Entertainment\",\"qgrid_unfiltered_index\":5,\"Budgeted Amount ($)\":\"\"},{\"Category\":\"Miscellaneous\",\"qgrid_unfiltered_index\":6,\"Budgeted Amount ($)\":\"\"},{\"Category\":\"Personal Care\",\"qgrid_unfiltered_index\":7,\"Budgeted Amount ($)\":\"\"},{\"Category\":\"Savings (Bass)\",\"qgrid_unfiltered_index\":8,\"Budgeted Amount ($)\":\"\"}]}",
       "_df_range": [
        0,
        100
       ],
       "_dom_classes": [],
       "_editable_rows": {},
       "_index_col_name": "qgrid_unfiltered_index",
       "_interval_columns": [],
       "_model_module": "qgrid",
       "_model_module_version": "1.1.1",
       "_model_name": "QgridModel",
       "_multi_index": false,
       "_row_count": 9,
       "_row_styles": {},
       "_sort_ascending": true,
       "_sort_field": null,
       "_view_count": null,
       "_view_module": "qgrid",
       "_view_module_version": "1.1.1",
       "_view_name": "QgridView",
       "_viewport_range": [
        0,
        100
       ],
       "grid_options": {
        "autoEdit": false,
        "boldIndex": true,
        "defaultColumnWidth": 150,
        "editable": true,
        "enableColumnReorder": true,
        "enableTextSelectionOnCells": true,
        "explicitInitialization": true,
        "filterable": false,
        "forceFitColumns": true,
        "fullWidthRows": true,
        "highlightSelectedCell": false,
        "highlightSelectedRow": true,
        "maxVisibleRows": 15,
        "minVisibleRows": 8,
        "rowHeight": 40,
        "sortable": false,
        "syncColumnCellResize": true
       },
       "id": "698269c9-1e08-436a-add2-fe7dd3f8a5a8",
       "layout": "IPY_MODEL_f35656e91b534fe1b63a195eb46dc53c",
       "precision": 5,
       "show_toolbar": false
      }
     },
     "e57435f907054c70be94e307a520e258": {
      "model_module": "@jupyter-widgets/controls",
      "model_module_version": "1.5.0",
      "model_name": "ButtonModel",
      "state": {
       "_dom_classes": [],
       "_model_module": "@jupyter-widgets/controls",
       "_model_module_version": "1.5.0",
       "_model_name": "ButtonModel",
       "_view_count": null,
       "_view_module": "@jupyter-widgets/controls",
       "_view_module_version": "1.5.0",
       "_view_name": "ButtonView",
       "button_style": "info",
       "description": "Record Answer",
       "disabled": false,
       "icon": "",
       "layout": "IPY_MODEL_5678df65d2944a9eb27980c5b7b20a84",
       "style": "IPY_MODEL_ab2c93b2ef5e4bc9807db29d68675f01",
       "tooltip": ""
      }
     },
     "e5aa91a5d37e49b1806c84a686d094e7": {
      "model_module": "qgrid",
      "model_module_version": "1.1.1",
      "model_name": "QgridModel",
      "state": {
       "_columns": {
        "Balance ($)": {
         "cssClass": "string",
         "defaultSortAsc": true,
         "editable": true,
         "field": "Balance ($)",
         "id": "Balance ($)",
         "maxWidth": null,
         "minWidth": 30,
         "name": "Balance ($)",
         "position": 5,
         "resizable": true,
         "sortable": true,
         "toolTip": "",
         "type": "string",
         "width": null
        },
        "Date": {
         "cssClass": "string",
         "defaultSortAsc": true,
         "editable": true,
         "field": "Date",
         "id": "Date",
         "maxWidth": null,
         "minWidth": 30,
         "name": "Date",
         "position": 2,
         "resizable": true,
         "sortable": true,
         "toolTip": "",
         "type": "string",
         "width": null
        },
        "Debit ($)": {
         "cssClass": "string",
         "defaultSortAsc": true,
         "editable": true,
         "field": "Debit ($)",
         "id": "Debit ($)",
         "maxWidth": null,
         "minWidth": 30,
         "name": "Debit ($)",
         "position": 4,
         "resizable": true,
         "sortable": true,
         "toolTip": "",
         "type": "string",
         "width": null
        },
        "Description": {
         "cssClass": "string",
         "defaultSortAsc": true,
         "editable": true,
         "field": "Description",
         "id": "Description",
         "maxWidth": null,
         "minWidth": 30,
         "name": "Description",
         "position": 3,
         "resizable": true,
         "sortable": true,
         "toolTip": "",
         "type": "string",
         "width": null
        },
        "Expense Category": {
         "cssClass": "string",
         "defaultSortAsc": true,
         "editable": true,
         "field": "Expense Category",
         "id": "Expense Category",
         "maxWidth": null,
         "minWidth": 30,
         "name": "Expense Category",
         "position": 6,
         "resizable": true,
         "sortable": true,
         "toolTip": "",
         "type": "string",
         "width": null
        },
        "Transaction #": {
         "cssClass": "integer",
         "defaultSortAsc": true,
         "editable": true,
         "field": "Transaction #",
         "first_index": true,
         "id": "Transaction #",
         "index_display_text": "Transaction #",
         "is_index": true,
         "level": 0,
         "maxWidth": null,
         "minWidth": 30,
         "name": "Transaction #",
         "position": 0,
         "resizable": true,
         "sortable": true,
         "toolTip": "",
         "type": "integer",
         "width": null
        },
        "qgrid_unfiltered_index": {
         "cssClass": "integer",
         "defaultSortAsc": true,
         "editable": true,
         "field": "qgrid_unfiltered_index",
         "id": "qgrid_unfiltered_index",
         "maxWidth": null,
         "minWidth": 30,
         "name": "qgrid_unfiltered_index",
         "position": 1,
         "resizable": true,
         "sortable": true,
         "toolTip": "",
         "type": "integer",
         "width": null
        }
       },
       "_df_json": "{\"schema\": {\"fields\":[{\"name\":\"Transaction #\",\"type\":\"integer\"},{\"name\":\"qgrid_unfiltered_index\",\"type\":\"integer\"},{\"name\":\"Date\",\"type\":\"string\"},{\"name\":\"Description\",\"type\":\"string\"},{\"name\":\"Debit ($)\",\"type\":\"string\"},{\"name\":\"Balance ($)\",\"type\":\"string\"},{\"name\":\"Expense Category\",\"type\":\"string\"}],\"primaryKey\":[\"Transaction #\"],\"pandas_version\":\"0.20.0\"}, \"data\": [{\"Transaction #\":1,\"qgrid_unfiltered_index\":0,\"Date\":\"February 1\",\"Description\":\"AFT RESP\",\"Debit ($)\":\"40.00\",\"Balance ($)\":\"327.05\",\"Expense Category\":\"\"},{\"Transaction #\":2,\"qgrid_unfiltered_index\":1,\"Date\":\"February 1\",\"Description\":\"DPmt Purchase U42153 CITY TRANSIT\",\"Debit ($)\":\"73.50\",\"Balance ($)\":\"253.55\",\"Expense Category\":\"\"},{\"Transaction #\":3,\"qgrid_unfiltered_index\":2,\"Date\":\"February 2\",\"Description\":\"DPmt Purchase U56487 BURGER & FRIES\",\"Debit ($)\":\"6.51\",\"Balance ($)\":\"247.04\",\"Expense Category\":\"\"},{\"Transaction #\":4,\"qgrid_unfiltered_index\":3,\"Date\":\"February 4\",\"Description\":\"Internet Bill Pay 467341 CELLULAR SERVICE\",\"Debit ($)\":\"30.15\",\"Balance ($)\":\"216.89\",\"Expense Category\":\"\"},{\"Transaction #\":5,\"qgrid_unfiltered_index\":4,\"Date\":\"February 6\",\"Description\":\"DPmt Purchase U45862 SUBS & SUCH\",\"Debit ($)\":\"4.56\",\"Balance ($)\":\"212.33\",\"Expense Category\":\"\"},{\"Transaction #\":6,\"qgrid_unfiltered_index\":5,\"Date\":\"February 7\",\"Description\":\"DPmt Purchase U45648 BURGER & FRIES\",\"Debit ($)\":\"10.53\",\"Balance ($)\":\"241.80\",\"Expense Category\":\"\"},{\"Transaction #\":7,\"qgrid_unfiltered_index\":6,\"Date\":\"February 9\",\"Description\":\"DPmt Purchase U423465 WOK INN\",\"Debit ($)\":\"5.34\",\"Balance ($)\":\"236.46\",\"Expense Category\":\"\"},{\"Transaction #\":8,\"qgrid_unfiltered_index\":7,\"Date\":\"February 10\",\"Description\":\"DPmt Purchase\\nU555468 SOCCER SHOES INC\",\"Debit ($)\":\"65.89\",\"Balance ($)\":\"170.57\",\"Expense Category\":\"\"},{\"Transaction #\":9,\"qgrid_unfiltered_index\":8,\"Date\":\"February 15\",\"Description\":\"ATMWtd AB\\nATM475638\",\"Debit ($)\":\"180.00\",\"Balance ($)\":\"451.70\",\"Expense Category\":\"\"},{\"Transaction #\":10,\"qgrid_unfiltered_index\":9,\"Date\":\"February 15\",\"Description\":\"AFT RESP\",\"Debit ($)\":\"40.00\",\"Balance ($)\":\"411.70\",\"Expense Category\":\"\"},{\"Transaction #\":11,\"qgrid_unfiltered_index\":10,\"Date\":\"February 17\",\"Description\":\"DPmt Purchase U454697 SUBS & SUCH\",\"Debit ($)\":\"5.89\",\"Balance ($)\":\"405.81\",\"Expense Category\":\"\"},{\"Transaction #\":12,\"qgrid_unfiltered_index\":11,\"Date\":\"February 18\",\"Description\":\"DPmt Purchase U597845 BURGER &\\nFRIES\",\"Debit ($)\":\"6.43\",\"Balance ($)\":\"399.38\",\"Expense Category\":\"\"},{\"Transaction #\":13,\"qgrid_unfiltered_index\":12,\"Date\":\"February 18\",\"Description\":\"DPmt Purchase U645121 GUITAR AIDS\",\"Debit ($)\":\"53.64\",\"Balance ($)\":\"345.74\",\"Expense Category\":\"\"},{\"Transaction #\":14,\"qgrid_unfiltered_index\":13,\"Date\":\"February 19\",\"Description\":\"ATMWtd AB\\nATM095124\",\"Debit ($)\":\"20.00\",\"Balance ($)\":\"325.74\",\"Expense Category\":\"\"},{\"Transaction #\":15,\"qgrid_unfiltered_index\":14,\"Date\":\"February 19\",\"Description\":\"SERVICE CHARGE\",\"Debit ($)\":\"1.50\",\"Balance ($)\":\"324.24\",\"Expense Category\":\"\"},{\"Transaction #\":16,\"qgrid_unfiltered_index\":15,\"Date\":\"February 22\",\"Description\":\"DPmt Purchase U561481 PIZZA 123\",\"Debit ($)\":\"3.49\",\"Balance ($)\":\"380.75\",\"Expense Category\":\"\"},{\"Transaction #\":17,\"qgrid_unfiltered_index\":16,\"Date\":\"February 23\",\"Description\":\"DPmt Purchase U612485 WOK INN\",\"Debit ($)\":\"5.34\",\"Balance ($)\":\"375.41\",\"Expense Category\":\"\"},{\"Transaction #\":18,\"qgrid_unfiltered_index\":17,\"Date\":\"February 23\",\"Description\":\"ATMWtd AB\\nATM165478\",\"Debit ($)\":\"50.00\",\"Balance ($)\":\"325.41\",\"Expense Category\":\"\"},{\"Transaction #\":19,\"qgrid_unfiltered_index\":18,\"Date\":\"February 23\",\"Description\":\"SERVICE CHARGE\",\"Debit ($)\":\"1.50\",\"Balance ($)\":\"323.91\",\"Expense Category\":\"\"},{\"Transaction #\":20,\"qgrid_unfiltered_index\":19,\"Date\":\"February 25\",\"Description\":\"DPmt Purchase U649513 OLD ARMY\\nFASHIONS\",\"Debit ($)\":\"123.56\",\"Balance ($)\":\"200.35\",\"Expense Category\":\"\"}]}",
       "_df_range": [
        0,
        100
       ],
       "_dom_classes": [],
       "_editable_rows": {},
       "_index_col_name": "qgrid_unfiltered_index",
       "_interval_columns": [],
       "_model_module": "qgrid",
       "_model_module_version": "1.1.1",
       "_model_name": "QgridModel",
       "_multi_index": false,
       "_row_count": 20,
       "_row_styles": {},
       "_sort_ascending": true,
       "_sort_field": null,
       "_view_count": null,
       "_view_module": "qgrid",
       "_view_module_version": "1.1.1",
       "_view_name": "QgridView",
       "_viewport_range": [
        0,
        100
       ],
       "grid_options": {
        "autoEdit": false,
        "boldIndex": true,
        "defaultColumnWidth": 150,
        "editable": true,
        "enableColumnReorder": true,
        "enableTextSelectionOnCells": true,
        "explicitInitialization": true,
        "filterable": false,
        "forceFitColumns": true,
        "fullWidthRows": true,
        "highlightSelectedCell": false,
        "highlightSelectedRow": true,
        "maxVisibleRows": 15,
        "minVisibleRows": 8,
        "rowHeight": 40,
        "sortable": false,
        "syncColumnCellResize": true
       },
       "id": "5a823d45-e385-4495-b32f-89c73b3c56dc",
       "layout": "IPY_MODEL_c1ee0823f9e44c31be81fad50bb5c8db",
       "precision": 5,
       "show_toolbar": false
      }
     },
     "e667eb6153304d53bcd7fba4546534f6": {
      "model_module": "@jupyter-widgets/controls",
      "model_module_version": "1.5.0",
      "model_name": "DescriptionStyleModel",
      "state": {
       "_model_module": "@jupyter-widgets/controls",
       "_model_module_version": "1.5.0",
       "_model_name": "DescriptionStyleModel",
       "_view_count": null,
       "_view_module": "@jupyter-widgets/base",
       "_view_module_version": "1.2.0",
       "_view_name": "StyleView",
       "description_width": ""
      }
     },
     "ecfaa461d48b49b693a3344c9daef061": {
      "model_module": "@jupyter-widgets/controls",
      "model_module_version": "1.5.0",
      "model_name": "DescriptionStyleModel",
      "state": {
       "_model_module": "@jupyter-widgets/controls",
       "_model_module_version": "1.5.0",
       "_model_name": "DescriptionStyleModel",
       "_view_count": null,
       "_view_module": "@jupyter-widgets/base",
       "_view_module_version": "1.2.0",
       "_view_name": "StyleView",
       "description_width": ""
      }
     },
     "edbc80f84f0a43ec80c68058a727aebe": {
      "model_module": "@jupyter-widgets/base",
      "model_module_version": "1.2.0",
      "model_name": "LayoutModel",
      "state": {
       "_model_module": "@jupyter-widgets/base",
       "_model_module_version": "1.2.0",
       "_model_name": "LayoutModel",
       "_view_count": null,
       "_view_module": "@jupyter-widgets/base",
       "_view_module_version": "1.2.0",
       "_view_name": "LayoutView",
       "align_content": null,
       "align_items": null,
       "align_self": null,
       "border": null,
       "bottom": null,
       "display": null,
       "flex": null,
       "flex_flow": null,
       "grid_area": null,
       "grid_auto_columns": null,
       "grid_auto_flow": null,
       "grid_auto_rows": null,
       "grid_column": null,
       "grid_gap": null,
       "grid_row": null,
       "grid_template_areas": null,
       "grid_template_columns": null,
       "grid_template_rows": null,
       "height": "30px",
       "justify_content": null,
       "justify_items": null,
       "left": null,
       "margin": null,
       "max_height": null,
       "max_width": null,
       "min_height": null,
       "min_width": null,
       "object_fit": null,
       "object_position": null,
       "order": null,
       "overflow": null,
       "overflow_x": null,
       "overflow_y": null,
       "padding": null,
       "right": null,
       "top": null,
       "visibility": null,
       "width": "15%"
      }
     },
     "ede6cb16894c4a85b318503288b7e98e": {
      "model_module": "@jupyter-widgets/base",
      "model_module_version": "1.2.0",
      "model_name": "LayoutModel",
      "state": {
       "_model_module": "@jupyter-widgets/base",
       "_model_module_version": "1.2.0",
       "_model_name": "LayoutModel",
       "_view_count": null,
       "_view_module": "@jupyter-widgets/base",
       "_view_module_version": "1.2.0",
       "_view_name": "LayoutView",
       "align_content": null,
       "align_items": null,
       "align_self": null,
       "border": null,
       "bottom": null,
       "display": null,
       "flex": null,
       "flex_flow": null,
       "grid_area": null,
       "grid_auto_columns": null,
       "grid_auto_flow": null,
       "grid_auto_rows": null,
       "grid_column": null,
       "grid_gap": null,
       "grid_row": null,
       "grid_template_areas": null,
       "grid_template_columns": null,
       "grid_template_rows": null,
       "height": "30px",
       "justify_content": null,
       "justify_items": null,
       "left": null,
       "margin": null,
       "max_height": null,
       "max_width": null,
       "min_height": null,
       "min_width": null,
       "object_fit": null,
       "object_position": null,
       "order": null,
       "overflow": null,
       "overflow_x": null,
       "overflow_y": null,
       "padding": null,
       "right": null,
       "top": null,
       "visibility": null,
       "width": "15%"
      }
     },
     "efed7bd8dd3f4f7dabb8175d5e61ce67": {
      "model_module": "@jupyter-widgets/controls",
      "model_module_version": "1.5.0",
      "model_name": "ButtonStyleModel",
      "state": {
       "_model_module": "@jupyter-widgets/controls",
       "_model_module_version": "1.5.0",
       "_model_name": "ButtonStyleModel",
       "_view_count": null,
       "_view_module": "@jupyter-widgets/base",
       "_view_module_version": "1.2.0",
       "_view_name": "StyleView",
       "button_color": null,
       "font_weight": ""
      }
     },
     "f0abbdfb438d450b99833bde0cd106b4": {
      "model_module": "@jupyter-widgets/controls",
      "model_module_version": "1.5.0",
      "model_name": "TextareaModel",
      "state": {
       "_dom_classes": [],
       "_model_module": "@jupyter-widgets/controls",
       "_model_module_version": "1.5.0",
       "_model_name": "TextareaModel",
       "_view_count": null,
       "_view_module": "@jupyter-widgets/controls",
       "_view_module_version": "1.5.0",
       "_view_name": "TextareaView",
       "continuous_update": true,
       "description": "",
       "description_tooltip": null,
       "disabled": false,
       "layout": "IPY_MODEL_051fab6eb26d4e58bd695cc6e98cfeaa",
       "placeholder": "Write your answer here for Question 6.",
       "rows": null,
       "style": "IPY_MODEL_87aa599f04c4488f8cef078f648c1e84",
       "value": ""
      }
     },
     "f1489660f267446fb8e22815c6df9069": {
      "model_module": "@jupyter-widgets/controls",
      "model_module_version": "1.5.0",
      "model_name": "TextareaModel",
      "state": {
       "_dom_classes": [],
       "_model_module": "@jupyter-widgets/controls",
       "_model_module_version": "1.5.0",
       "_model_name": "TextareaModel",
       "_view_count": null,
       "_view_module": "@jupyter-widgets/controls",
       "_view_module_version": "1.5.0",
       "_view_name": "TextareaView",
       "continuous_update": true,
       "description": "",
       "description_tooltip": null,
       "disabled": false,
       "layout": "IPY_MODEL_a6e0fdbe034c4cec99381a8858179fa2",
       "placeholder": "Write your answer here for Question 9",
       "rows": null,
       "style": "IPY_MODEL_ecfaa461d48b49b693a3344c9daef061",
       "value": ""
      }
     },
     "f271dde8d57547588b11741146f33128": {
      "model_module": "@jupyter-widgets/base",
      "model_module_version": "1.2.0",
      "model_name": "LayoutModel",
      "state": {
       "_model_module": "@jupyter-widgets/base",
       "_model_module_version": "1.2.0",
       "_model_name": "LayoutModel",
       "_view_count": null,
       "_view_module": "@jupyter-widgets/base",
       "_view_module_version": "1.2.0",
       "_view_name": "LayoutView",
       "align_content": null,
       "align_items": null,
       "align_self": null,
       "border": null,
       "bottom": null,
       "display": null,
       "flex": null,
       "flex_flow": null,
       "grid_area": null,
       "grid_auto_columns": null,
       "grid_auto_flow": null,
       "grid_auto_rows": null,
       "grid_column": null,
       "grid_gap": null,
       "grid_row": null,
       "grid_template_areas": null,
       "grid_template_columns": null,
       "grid_template_rows": null,
       "height": "30px",
       "justify_content": null,
       "justify_items": null,
       "left": null,
       "margin": null,
       "max_height": null,
       "max_width": null,
       "min_height": null,
       "min_width": null,
       "object_fit": null,
       "object_position": null,
       "order": null,
       "overflow": null,
       "overflow_x": null,
       "overflow_y": null,
       "padding": null,
       "right": null,
       "top": null,
       "visibility": null,
       "width": "15%"
      }
     },
     "f35656e91b534fe1b63a195eb46dc53c": {
      "model_module": "@jupyter-widgets/base",
      "model_module_version": "1.2.0",
      "model_name": "LayoutModel",
      "state": {
       "_model_module": "@jupyter-widgets/base",
       "_model_module_version": "1.2.0",
       "_model_name": "LayoutModel",
       "_view_count": null,
       "_view_module": "@jupyter-widgets/base",
       "_view_module_version": "1.2.0",
       "_view_name": "LayoutView",
       "align_content": null,
       "align_items": null,
       "align_self": null,
       "border": null,
       "bottom": null,
       "display": null,
       "flex": null,
       "flex_flow": null,
       "grid_area": null,
       "grid_auto_columns": null,
       "grid_auto_flow": null,
       "grid_auto_rows": null,
       "grid_column": null,
       "grid_gap": null,
       "grid_row": null,
       "grid_template_areas": null,
       "grid_template_columns": null,
       "grid_template_rows": null,
       "height": null,
       "justify_content": null,
       "justify_items": null,
       "left": null,
       "margin": null,
       "max_height": null,
       "max_width": null,
       "min_height": null,
       "min_width": null,
       "object_fit": null,
       "object_position": null,
       "order": null,
       "overflow": null,
       "overflow_x": null,
       "overflow_y": null,
       "padding": null,
       "right": null,
       "top": null,
       "visibility": null,
       "width": null
      }
     },
     "f70b8000abce4a32a456aac3eb57a360": {
      "model_module": "@jupyter-widgets/controls",
      "model_module_version": "1.5.0",
      "model_name": "DescriptionStyleModel",
      "state": {
       "_model_module": "@jupyter-widgets/controls",
       "_model_module_version": "1.5.0",
       "_model_name": "DescriptionStyleModel",
       "_view_count": null,
       "_view_module": "@jupyter-widgets/base",
       "_view_module_version": "1.2.0",
       "_view_name": "StyleView",
       "description_width": ""
      }
     },
     "f8972610823a4c76bd70f52b738265f9": {
      "model_module": "@jupyter-widgets/controls",
      "model_module_version": "1.5.0",
      "model_name": "ButtonModel",
      "state": {
       "_dom_classes": [],
       "_model_module": "@jupyter-widgets/controls",
       "_model_module_version": "1.5.0",
       "_model_name": "ButtonModel",
       "_view_count": null,
       "_view_module": "@jupyter-widgets/controls",
       "_view_module_version": "1.5.0",
       "_view_name": "ButtonView",
       "button_style": "info",
       "description": "Reset all values",
       "disabled": false,
       "icon": "",
       "layout": "IPY_MODEL_b889141ee6ea40cd83ba10f7df88fb09",
       "style": "IPY_MODEL_52acefa16aba4874a6687956d82e4784",
       "tooltip": ""
      }
     }
    },
    "version_major": 2,
    "version_minor": 0
   }
  }
 },
 "nbformat": 4,
 "nbformat_minor": 2
}