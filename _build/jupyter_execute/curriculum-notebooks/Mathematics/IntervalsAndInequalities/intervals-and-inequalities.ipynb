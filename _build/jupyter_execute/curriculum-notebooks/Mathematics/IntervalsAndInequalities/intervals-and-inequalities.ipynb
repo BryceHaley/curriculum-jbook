{
 "cells": [
  {
   "cell_type": "markdown",
   "metadata": {},
   "source": [
    "![Callysto.ca Banner](https://github.com/callysto/curriculum-notebooks/blob/master/callysto-notebook-banner-top.jpg?raw=true)\n",
    "\n",
    "<a href=\"https://hub.callysto.ca/jupyter/hub/user-redirect/git-pull?repo=https%3A%2F%2Fgithub.com%2Fcallysto%2Fcurriculum-notebooks&branch=master&subPath=Mathematics/IntervalsAndInequalities/intervals-and-inequalities.ipynb&depth=1\" target=\"_parent\"><img src=\"https://raw.githubusercontent.com/callysto/curriculum-notebooks/master/open-in-callysto-button.svg?sanitize=true\" width=\"123\" height=\"24\" alt=\"Open in Callysto\"/></a>"
   ]
  },
  {
   "cell_type": "code",
   "execution_count": 1,
   "metadata": {},
   "outputs": [
    {
     "data": {
      "text/html": [
       "<script>\n",
       "  function code_toggle() {\n",
       "    if (code_shown){\n",
       "      $('div.input').hide();\n",
       "      $('#toggleButton').val('Show Code')\n",
       "    } else {\n",
       "      $('div.input').show();\n",
       "      $('#toggleButton').val('Hide Code')\n",
       "    }\n",
       "    code_shown = !code_shown\n",
       "  }\n",
       "\n",
       "  $( document ).ready(function(){\n",
       "    code_shown=false;\n",
       "    $('div.input').hide()\n",
       "  });\n",
       "</script>\n",
       "<form action=\"javascript:code_toggle()\"><input type=\"submit\" id=\"toggleButton\" value=\"Show Code\"></form"
      ],
      "text/plain": [
       "<IPython.core.display.HTML object>"
      ]
     },
     "execution_count": 1,
     "metadata": {},
     "output_type": "execute_result"
    }
   ],
   "source": [
    "from IPython.display import display, Math, Latex, Markdown, HTML, clear_output, Javascript\n",
    "HTML('''<script>\n",
    "  function code_toggle() {\n",
    "    if (code_shown){\n",
    "      $('div.input').hide();\n",
    "      $('#toggleButton').val('Show Code')\n",
    "    } else {\n",
    "      $('div.input').show();\n",
    "      $('#toggleButton').val('Hide Code')\n",
    "    }\n",
    "    code_shown = !code_shown\n",
    "  }\n",
    "\n",
    "  $( document ).ready(function(){\n",
    "    code_shown=false;\n",
    "    $('div.input').hide()\n",
    "  });\n",
    "</script>\n",
    "<form action=\"javascript:code_toggle()\"><input type=\"submit\" id=\"toggleButton\" value=\"Show Code\"></form''')"
   ]
  },
  {
   "cell_type": "code",
   "execution_count": 2,
   "metadata": {
    "scrolled": false
   },
   "outputs": [],
   "source": [
    "import numpy as np\n",
    "import matplotlib.pyplot as plt\n",
    "from IPython.display import display, Math, Latex, Markdown, HTML, clear_output, Javascript\n",
    "import matplotlib as mpl\n",
    "import ipywidgets as widgets\n",
    "from ipywidgets import interact, interactive, Layout, Label,interact_manual,Text, HBox\n",
    "from ipywidgets import IntSlider as slid\n",
    "import time\n",
    "import matplotlib.image as mpimg\n",
    "from ipywidgets import IntSlider"
   ]
  },
  {
   "cell_type": "markdown",
   "metadata": {},
   "source": [
    "# Intervals and inequalities"
   ]
  },
  {
   "cell_type": "markdown",
   "metadata": {},
   "source": [
    "In this notebook, we will review some basics about polynomial functions such as\n",
    "- the general form of a polynomial\n",
    "- what terms make up a polynomial\n",
    "- what defines the degree or order of a polynomial\n",
    "\n",
    "We will then examine solving inequalities involving polynomials of degree 3 or less, both analytically and graphically, and briefly look over how to display the solutions on a number line, and how to represent solutions in interval notation. \n",
    "\n",
    "Finally, we will visualize how changing certain parameters of polynomials can change the shape of its graph, which results in a different interval, satisfying a given inequality.\n",
    "\n",
    "At the end of this notebook, there will be a small section covering some basics of  `python` syntax and coding. This optional section will show the user how to create simple plots of polynomials in `python`, which can be used to help solve some of the extra problems."
   ]
  },
  {
   "cell_type": "markdown",
   "metadata": {},
   "source": [
    "## Polynomials\n"
   ]
  },
  {
   "cell_type": "markdown",
   "metadata": {},
   "source": [
    "A polynomial is a function comprised of constants and variables. The constants and variables can be related to each other  by addition, multiplication and exponentiation to a non-negative integer power ( https://en.wikipedia.org/wiki/Polynomial ). In this notebook, we will let $P(x)$ denote a general polynomial, and we will only deal with polynomials of a single variable $x$. \n",
    "\n",
    "In general, a polynomial is expressed as:\n",
    "\n",
    "$P(x) = c_0 \\,  + \\,c_1x \\,  + ... +\\,  c_{n-2}x^{n-2} +  c_{n-1}x^{n-1} + c_nx^n = \\sum^n_{k=0}c_kx^k$\n",
    "\n",
    "where $c_k$ are *constant terms*, $x$ is the variable. The largest value of $n$ ( i.e. the largest exponent of the polynomial) determines the *degree* of the polynomial. For example, some polynomials of degree *three* ($n=3$) could be:</br>\n",
    "\n",
    "$P(x) = x^3 + 2x^2 + 5x + 4$\n",
    "\n",
    "$P(x) = 3x^3 + 8x $\n",
    "\n",
    "$P(x) = x^3 + x^2 + 4$\n",
    "\n",
    "Note how the number of terms **does not** affect the degree of the polynomial, only the value of the largest exponent does. \n",
    "\n",
    "A polynomial with degree 0 is called a *constant polynomial*, or just a *constant*. This is because of the mathematical identity\n",
    "\n",
    "$x^0 = 1$,\n",
    "\n",
    "so if we have any polynomail of degree 0, we have\n",
    "\n",
    "$P(x) = c_1x^0 + c_2 = c_1 + c_2 = C$,\n",
    "\n",
    "which of course is just a constant (i.e. some number, $C$).\n",
    "\n",
    "While we will only be dealing with singe variable polynomials, it is worth noting that they can exist with *multiple variables*, i.e.\n",
    "\n",
    "$P(x,y,z) = x^3 - xy^2 + z^6 -3x^2y^6z^4 +2$"
   ]
  },
  {
   "cell_type": "code",
   "execution_count": 3,
   "metadata": {
    "scrolled": false
   },
   "outputs": [
    {
     "data": {
      "text/latex": [
       "From the list of functions below, check which ones are polynomials:"
      ],
      "text/plain": [
       "<IPython.core.display.Latex object>"
      ]
     },
     "metadata": {},
     "output_type": "display_data"
    },
    {
     "data": {
      "application/vnd.jupyter.widget-view+json": {
       "model_id": "07a4adb8d5254b1ebd17a8b18b526dc8",
       "version_major": 2,
       "version_minor": 0
      },
      "text/plain": [
       "Checkbox(value=False, description='$x^2$$+5x$$-8x^3$', style=DescriptionStyle(description_width='initial'))"
      ]
     },
     "metadata": {},
     "output_type": "display_data"
    },
    {
     "data": {
      "application/vnd.jupyter.widget-view+json": {
       "model_id": "863a7b6d3bae425e903fb6834ba9f200",
       "version_major": 2,
       "version_minor": 0
      },
      "text/plain": [
       "Checkbox(value=False, description='$x$$+3$', style=DescriptionStyle(description_width='initial'))"
      ]
     },
     "metadata": {},
     "output_type": "display_data"
    },
    {
     "data": {
      "application/vnd.jupyter.widget-view+json": {
       "model_id": "0727b0210ac344eeae8c7b680afc0be2",
       "version_major": 2,
       "version_minor": 0
      },
      "text/plain": [
       "Checkbox(value=False, description='$\\\\sin$($x$)$+\\\\cos$($x$)', style=DescriptionStyle(description_width='initi…"
      ]
     },
     "metadata": {},
     "output_type": "display_data"
    },
    {
     "data": {
      "application/vnd.jupyter.widget-view+json": {
       "model_id": "2107b283769241fdb65261635a92e52b",
       "version_major": 2,
       "version_minor": 0
      },
      "text/plain": [
       "Checkbox(value=False, description='$x^5$$-2$', style=DescriptionStyle(description_width='initial'))"
      ]
     },
     "metadata": {},
     "output_type": "display_data"
    },
    {
     "data": {
      "application/vnd.jupyter.widget-view+json": {
       "model_id": "23fe46290b3c44f789f055a819a290a6",
       "version_major": 2,
       "version_minor": 0
      },
      "text/plain": [
       "Checkbox(value=False, description='$\\\\ln$$(x)$', style=DescriptionStyle(description_width='initial'))"
      ]
     },
     "metadata": {},
     "output_type": "display_data"
    },
    {
     "data": {
      "application/vnd.jupyter.widget-view+json": {
       "model_id": "5747987580d24c338b9a82c962e36a3a",
       "version_major": 2,
       "version_minor": 0
      },
      "text/plain": [
       "Checkbox(value=False, description='$100$', style=DescriptionStyle(description_width='initial'))"
      ]
     },
     "metadata": {},
     "output_type": "display_data"
    },
    {
     "data": {
      "application/vnd.jupyter.widget-view+json": {
       "model_id": "a0c50f2e1f8b4d45b6dc5e1d8f21b6d0",
       "version_major": 2,
       "version_minor": 0
      },
      "text/plain": [
       "Button(description='Check Answer', style=ButtonStyle())"
      ]
     },
     "metadata": {},
     "output_type": "display_data"
    },
    {
     "data": {
      "application/vnd.jupyter.widget-view+json": {
       "model_id": "4a443fafd4fd4af38545d2028eacc29f",
       "version_major": 2,
       "version_minor": 0
      },
      "text/plain": [
       "HTML(value='')"
      ]
     },
     "metadata": {},
     "output_type": "display_data"
    }
   ],
   "source": [
    "\n",
    "#display(Latex('...')) will print the string in the output cell, in a nice font, and allows for easily inputing Math symbos and equations\n",
    "display(Latex('From the list of functions below, check which ones are polynomials:'))\n",
    "\n",
    "#define a series of checkboxes to test knowledge of  polynomial forms\n",
    "\n",
    "style = {'description_width': 'initial'}\n",
    "\n",
    "a=widgets.Checkbox(\n",
    "#    description= '$\\ x^2+5x-8x^3$',\n",
    "    description= r'$x^2$'+r'$+5x$'+r'$-8x^3$',\n",
    "    value=False, #a false value means unchecked, while a checked value will be \"True'\" \n",
    "    style = style\n",
    ")\n",
    "\n",
    "b=widgets.Checkbox(\n",
    "    value=False,\n",
    "    description=r'$x$'+r'$+3$',\n",
    " #  description=r'$\\ x+3$',\n",
    "    style = style\n",
    ")\n",
    "c=widgets.Checkbox(\n",
    "    value=False,\n",
    " #   description=r'$\\ \\sin(x) + \\cos(x)$',\n",
    "    description=r'$\\sin$'+'('+r'$x$'+')'+r'$+\\cos$'+'('+r'$x$'+')',  \n",
    "    style = style\n",
    "    \n",
    ")\n",
    "d=widgets.Checkbox(\n",
    "    value=False,\n",
    "#    description=r'$\\ x^5-2$',\n",
    "    description=r'$x^5$'+r'$-2$',\n",
    "    disabled=False,\n",
    "    style = style\n",
    ")\n",
    "\n",
    "e=widgets.Checkbox(\n",
    "    value=False,\n",
    "#    description=r'$\\ \\ln(x)$',\n",
    "    description=r'$\\ln$'+r'$(x)$',\n",
    "    disabled=False,\n",
    "    style = style\n",
    ")\n",
    "\n",
    "f=widgets.Checkbox(\n",
    "    value=False,\n",
    "#    description= r'$\\ 100$',\n",
    "    description= r'$100$',\n",
    "    disabled=False,\n",
    "    style = style\n",
    ")\n",
    "\n",
    "#to actually display the buttons, we need to use the IPython.display package, and call each button as the argument\n",
    "display(a,b,c,d,e,f)\n",
    "\n",
    "#warning\n",
    "text_warning = widgets.HTML()\n",
    "\n",
    "#create a button widget to check answers, again calling the button to display\n",
    "button_check = widgets.Button(description=\"Check Answer\")\n",
    "display(button_check)\n",
    "\n",
    "\n",
    "#a simple funciton to determine if user inputs are correct\n",
    "def check_button(x):\n",
    "    if a.value==True and b.value==True and c.value==False and d.value==True and e.value==False and f.value==True: #notebook will display 'correct'  message  IF (and only if) each of the boxes satisfy these value conditions \n",
    "         text_warning.value=\"Correct - these are all polynomials! Let's move on to the next cell.\"\n",
    "    else: #if any of the checkboxes have the incorrect value, output will ask user to try again\n",
    "         text_warning.value=\"Not quite - either some of your selections aren't polynomials, or some of the options that you didn't select are. Check your answers again!\"\n",
    "\n",
    "button_check.on_click(check_button)\n",
    "\n",
    "display(text_warning)"
   ]
  },
  {
   "cell_type": "markdown",
   "metadata": {},
   "source": [
    "## Intervals of Inequalities"
   ]
  },
  {
   "cell_type": "markdown",
   "metadata": {},
   "source": [
    "### Interval Notation\n"
   ]
  },
  {
   "cell_type": "markdown",
   "metadata": {},
   "source": [
    "Interval notation is a way of representing an interval of numbers by the two endpoints of the interval. Parentheses (  ) and brackets [  ] are used to represent whether the end points are included in the interval or not.  \n",
    "\n",
    "\n",
    "For example, consider the interval between $-3$ and $4$, including $-3$, but **not** including $4$, i.e. $-3 \\leq x < 4$. We can represent this on a number line as follows:\n",
    "\n",
    "![intvl1.png](images/intvl1.png)\n",
    "\n",
    "In **interval notation**, we would simply write: $[-3,4)$\n",
    "\n",
    "If, however, the interval extended from $-3$ to **all** real numbers larger than $-3$, i.e. $-3 \\leq x$, the number line would look like this:\n",
    "\n",
    "![intvl2.png](images/intvl2.png)\n",
    "\n",
    "and our interval notation representation would be: $[-3, \\infty)$, where $\\infty$ (infinity) essentially means all possible numbers beyond this point.\n",
    "\n",
    "Sometimes it is also necessary to include multiple intervals. Consider an inequality in which the solution is $-3\\leq x <0$ and $4 \\leq x$. We can represent this solution in interval notation with the **union** symbol, which is just a capital U, and means that both intervals satisfy the inequality: $[-3,0)$ U $[4,\\infty)$"
   ]
  },
  {
   "cell_type": "markdown",
   "metadata": {},
   "source": [
    "### Solving Inequalities"
   ]
  },
  {
   "cell_type": "markdown",
   "metadata": {},
   "source": [
    "Given a polynomial $P(x)$, we can determine the range in which that polynomial satisfies a certain inequality. For example, consider the polynomial function\n",
    "\n",
    "$P(x) = x^2 + 4x$.\n",
    "\n",
    "For which values of $x$ is the ploynomial $P(x)$ less than three? Or, in a mathematical representations, on which interval is the inequality $P(x) \\leq -3$ satisfied?\n",
    "\n",
    "We can solve this algebraically, as follows:\n",
    "\n",
    "1. Write the polynomial in standard form:   $x^2 + 4x + 3 \\leq 0 $\n",
    "    \n",
    "2. Factor the polynomial:   $(x+1)(x+3) \\leq 0$\n",
    "\n",
    "What this new expression is essential telling us is that the product of two numbers (say $a=(x+1)$ and $b=(x+3)$) is equal to zero, or negative, i.e. $a\\cdot b\\leq 0 $. The only way this is possible is if $a=0$, $b=0$, or $a$ and $b$ have **opposite** signs. So the inequality $P(x) \\leq -3$ is satisfied if:\n",
    "\n",
    "- $(x+1) = 0$\n",
    "- $(x+3) = 0$\n",
    "- $(x+1)>0$ and $(x+3)<0$\n",
    "- $(x+1)<0$ and $(x+3)>0$\n",
    "\n",
    "From these possibilities, we can see the possible solutions are:\n",
    "\n",
    "- $x=-1$\n",
    "- $x=-3$\n",
    "- $x>-1$ and $x<-3$\n",
    "- $x<-1$ and $x>-3$\n",
    " \n",
    "If we consider the solution $x>-1$ and $x<-3$, what are the possible values of $x$? If we say $x=1$ we satisfy the first inequality, but not the second, since $1$ is **not** less than $-3$. We can see that there is no possible $x$ value that will result in  $(x+1)>0$ and $(x+3)<0$, so we can eliminate this as a possible solution.\n",
    "\n",
    "However, we can find values of $x$ that satisfy $x<-1$ and $x>-3$. For example, $x=-2$\n",
    "\n",
    "Thus, the solution to the inequality is $x=-1$, $x=-3$, and $x<-1$ and $x>-3$. We can plot this solution set on a number line:\n",
    "\n",
    "![ex1.png](images/ex1.png)\n",
    "\n",
    "\n",
    "or in *interval notation*, the solution is : **[-3,-1]**"
   ]
  },
  {
   "cell_type": "markdown",
   "metadata": {},
   "source": [
    "## Let's work through an example together"
   ]
  },
  {
   "cell_type": "code",
   "execution_count": 4,
   "metadata": {},
   "outputs": [
    {
     "data": {
      "text/latex": [
       "1.Consider the inequality $(-x)(4x - 8) \\leq -96$."
      ],
      "text/plain": [
       "<IPython.core.display.Latex object>"
      ]
     },
     "metadata": {},
     "output_type": "display_data"
    },
    {
     "data": {
      "text/latex": [
       " Re-write the inequality in standard form (use the symbol ^ to indicate an exponent and <= for the inequality sign)."
      ],
      "text/plain": [
       "<IPython.core.display.Latex object>"
      ]
     },
     "metadata": {},
     "output_type": "display_data"
    },
    {
     "data": {
      "application/vnd.jupyter.widget-view+json": {
       "model_id": "0855a04a70f54959a0708680a034744f",
       "version_major": 2,
       "version_minor": 0
      },
      "text/plain": [
       "HBox(children=(Text(value='', placeholder='Enter inequality'), Button(description='Check Answer', style=Button…"
      ]
     },
     "metadata": {},
     "output_type": "display_data"
    },
    {
     "data": {
      "application/vnd.jupyter.widget-view+json": {
       "model_id": "f8f3e491fe754b7aa514d79bdd855abf",
       "version_major": 2,
       "version_minor": 0
      },
      "text/plain": [
       "HTML(value='')"
      ]
     },
     "metadata": {},
     "output_type": "display_data"
    }
   ],
   "source": [
    "std_form1 = \"-4x^2+8x+96<=0\"\n",
    "\n",
    "display(Latex('1.Consider the inequality $(-x)(4x - 8) \\leq -96$.'))\n",
    "display(Latex(' Re-write the inequality in standard form (use the symbol ^ to indicate an exponent and <= for the inequality sign).'))\n",
    "\n",
    "inpt1 = widgets.Text(placeholder='Enter inequality')\n",
    "text_warning1 = widgets.HTML()\n",
    "button_check1 = widgets.Button(description=\"Check Answer\")\n",
    "\n",
    "display(widgets.HBox([inpt1,button_check1]))\n",
    "\n",
    "def check_button1(x):\n",
    "    inpt1.value = inpt1.value.replace(\" \",\"\")\n",
    "    if inpt1.value==std_form1 :\n",
    "        text_warning1.value=\"Very good!\"\n",
    "    else:\n",
    "        text_warning1.value=\"Not quite - please try again!\"\n",
    "\n",
    "button_check1.on_click(check_button1)\n",
    "\n",
    "display(text_warning1)"
   ]
  },
  {
   "cell_type": "code",
   "execution_count": 5,
   "metadata": {},
   "outputs": [
    {
     "data": {
      "text/latex": [
       "2.Consider the inequality we obtained in the first step."
      ],
      "text/plain": [
       "<IPython.core.display.Latex object>"
      ]
     },
     "metadata": {},
     "output_type": "display_data"
    },
    {
     "data": {
      "text/latex": [
       "We can simplify this further by reducing the leading coefficient to 1."
      ],
      "text/plain": [
       "<IPython.core.display.Latex object>"
      ]
     },
     "metadata": {},
     "output_type": "display_data"
    },
    {
     "data": {
      "text/latex": [
       "This can be done by simply dividing both sides by $-4$. If we do this, what does our expression become?"
      ],
      "text/plain": [
       "<IPython.core.display.Latex object>"
      ]
     },
     "metadata": {},
     "output_type": "display_data"
    },
    {
     "data": {
      "application/vnd.jupyter.widget-view+json": {
       "model_id": "4f44e7159dc1472a829312fd399e9272",
       "version_major": 2,
       "version_minor": 0
      },
      "text/plain": [
       "HBox(children=(Text(value='', placeholder='Enter inequality'), Button(description='Check Answer', style=Button…"
      ]
     },
     "metadata": {},
     "output_type": "display_data"
    },
    {
     "data": {
      "application/vnd.jupyter.widget-view+json": {
       "model_id": "8fe95453aeab46e1acf80a5f4c863871",
       "version_major": 2,
       "version_minor": 0
      },
      "text/plain": [
       "HTML(value='')"
      ]
     },
     "metadata": {},
     "output_type": "display_data"
    }
   ],
   "source": [
    "std_form2 = \"x^2-2x-24>=0\"\n",
    "display(Latex('2.Consider the inequality we obtained in the first step.'))#: $-4x^2+8x+96\\leq0$'))\n",
    "display(Latex('We can simplify this further by reducing the leading coefficient to 1.'))\n",
    "display(Latex('This can be done by simply dividing both sides by $-4$. If we do this, what does our expression become?'))\n",
    "\n",
    "inpt2 = widgets.Text(placeholder='Enter inequality')\n",
    "text_warning2 = widgets.HTML()\n",
    "button_check2 = widgets.Button(description=\"Check Answer\")\n",
    "\n",
    "display(widgets.HBox([inpt2,button_check2]))\n",
    "\n",
    "def check_button2(x):\n",
    "    inpt2.value = inpt2.value.replace(\" \",\"\")\n",
    "    if inpt2.value==std_form2 :\n",
    "        text_warning2.value=\"Very good!\"\n",
    "    else:\n",
    "        text_warning2.value=\"Almost! It's important to remember that if we divide or multiply an inequality by a negative number, we flip the inequality sign.\"\n",
    "\n",
    "button_check2.on_click(check_button2)\n",
    "\n",
    "display(text_warning2)"
   ]
  },
  {
   "cell_type": "code",
   "execution_count": 6,
   "metadata": {},
   "outputs": [
    {
     "data": {
      "text/latex": [
       "3.The next step is to factor our simplified polynomial expression."
      ],
      "text/plain": [
       "<IPython.core.display.Latex object>"
      ]
     },
     "metadata": {},
     "output_type": "display_data"
    },
    {
     "data": {
      "text/latex": [
       "Input the factored expression below:"
      ],
      "text/plain": [
       "<IPython.core.display.Latex object>"
      ]
     },
     "metadata": {},
     "output_type": "display_data"
    },
    {
     "data": {
      "application/vnd.jupyter.widget-view+json": {
       "model_id": "b1e940b4deaf44e8b3b007871988d7f0",
       "version_major": 2,
       "version_minor": 0
      },
      "text/plain": [
       "HBox(children=(Text(value='', placeholder='Enter inequality'), Button(description='Check Answer', style=Button…"
      ]
     },
     "metadata": {},
     "output_type": "display_data"
    },
    {
     "data": {
      "application/vnd.jupyter.widget-view+json": {
       "model_id": "62e4997d50254bdd8c27d8e73efca0a2",
       "version_major": 2,
       "version_minor": 0
      },
      "text/plain": [
       "HTML(value='')"
      ]
     },
     "metadata": {},
     "output_type": "display_data"
    }
   ],
   "source": [
    "std_form3_1 = '(x-6)(x+4)>=0'\n",
    "std_form3_2 = '(x+4)(x-6)>=0'\n",
    "display(Latex('3.The next step is to factor our simplified polynomial expression.')) #: $x^2 - 2x - 24 \\geq 0$.'))\n",
    "display(Latex('Input the factored expression below:'))\n",
    "\n",
    "inpt3 = widgets.Text(placeholder='Enter inequality')\n",
    "text_warning3 = widgets.HTML()\n",
    "button_check3 = widgets.Button(description=\"Check Answer\")\n",
    "\n",
    "display(widgets.HBox([inpt3,button_check3]))\n",
    "\n",
    "def check_button3(x):\n",
    "    inpt3.value = inpt3.value.replace(\" \",\"\")\n",
    "    if inpt3.value==std_form3_1 or inpt3.value==std_form3_2:\n",
    "        text_warning3.value=\"Correct!\"\n",
    "    else:\n",
    "        text_warning3.value=\"Not quite - please try again!\"\n",
    "\n",
    "button_check3.on_click(check_button3)\n",
    "\n",
    "display(text_warning3)"
   ]
  },
  {
   "cell_type": "code",
   "execution_count": 7,
   "metadata": {},
   "outputs": [
    {
     "data": {
      "text/latex": [
       "Since we have $(x-6)(x+4)\\geq 0$, there are the two sign possibilities; either"
      ],
      "text/plain": [
       "<IPython.core.display.Latex object>"
      ]
     },
     "metadata": {},
     "output_type": "display_data"
    },
    {
     "data": {
      "text/latex": [
       "$1. ~ (x-6)\\geq 0$ and $(x+4)\\geq 0$"
      ],
      "text/plain": [
       "<IPython.core.display.Latex object>"
      ]
     },
     "metadata": {},
     "output_type": "display_data"
    },
    {
     "data": {
      "text/latex": [
       "or"
      ],
      "text/plain": [
       "<IPython.core.display.Latex object>"
      ]
     },
     "metadata": {},
     "output_type": "display_data"
    },
    {
     "data": {
      "text/latex": [
       "$2. ~ (x-6)\\leq 0$ and $(x+4)\\leq 0$"
      ],
      "text/plain": [
       "<IPython.core.display.Latex object>"
      ]
     },
     "metadata": {},
     "output_type": "display_data"
    }
   ],
   "source": [
    "display(Latex('Since we have $(x-6)(x+4)\\geq 0$, there are the two sign possibilities; either'))\n",
    "display(Latex('$1. ~ (x-6)\\geq 0$ and $(x+4)\\geq 0$'))\n",
    "display(Latex('or'))\n",
    "display(Latex('$2. ~ (x-6)\\leq 0$ and $(x+4)\\leq 0$'))"
   ]
  },
  {
   "cell_type": "code",
   "execution_count": 8,
   "metadata": {},
   "outputs": [
    {
     "data": {
      "text/latex": [
       "4. Consider expression $1.$"
      ],
      "text/plain": [
       "<IPython.core.display.Latex object>"
      ]
     },
     "metadata": {},
     "output_type": "display_data"
    },
    {
     "data": {
      "text/latex": [
       " Can you see what solution satisfies both $(x-6)\\geq 0$ and $(x+4)\\geq 0$? Enter your answer below in the form \"x>= _\""
      ],
      "text/plain": [
       "<IPython.core.display.Latex object>"
      ]
     },
     "metadata": {},
     "output_type": "display_data"
    },
    {
     "data": {
      "application/vnd.jupyter.widget-view+json": {
       "model_id": "41c48f175a56422b9d4919f4a4eca511",
       "version_major": 2,
       "version_minor": 0
      },
      "text/plain": [
       "HBox(children=(Text(value='', placeholder='Enter interval'), Button(description='Check Answer', style=ButtonSt…"
      ]
     },
     "metadata": {},
     "output_type": "display_data"
    },
    {
     "data": {
      "application/vnd.jupyter.widget-view+json": {
       "model_id": "a1310197e2eb4848bb2c6274db9c9d99",
       "version_major": 2,
       "version_minor": 0
      },
      "text/plain": [
       "HTML(value='')"
      ]
     },
     "metadata": {},
     "output_type": "display_data"
    }
   ],
   "source": [
    "std_form4 = 'x>=6'\n",
    "\n",
    "display(Latex('4. Consider expression $1.$'))\n",
    "display(Latex(' Can you see what solution satisfies both $(x-6)\\geq 0$ and $(x+4)\\geq 0$? Enter your answer below in the form \"x>= _\"'))\n",
    "\n",
    "inpt4 = widgets.Text(placeholder='Enter interval')\n",
    "text_warning4 = widgets.HTML()\n",
    "button_check4 = widgets.Button(description=\"Check Answer\")\n",
    "\n",
    "display(widgets.HBox([inpt4,button_check4]))\n",
    "\n",
    "def check_button4(x):\n",
    "    inpt4.value = inpt4.value.replace(\" \",\"\")\n",
    "    if inpt4.value==std_form4 :\n",
    "        text_warning4.value=\"Very good! Since we are looking for values of x that are larger than 6 and -4, and 6>-4, the first expresssion gives us one simple solution interval: x>=6\"\n",
    "    else:\n",
    "        text_warning4.value=\"Not quite - please try again!\"\n",
    "\n",
    "button_check4.on_click(check_button4)\n",
    "\n",
    "display(text_warning4)"
   ]
  },
  {
   "cell_type": "code",
   "execution_count": 9,
   "metadata": {},
   "outputs": [
    {
     "data": {
      "text/latex": [
       "5.Now consider expression $2$ What is the interval satsfying these inequalities?"
      ],
      "text/plain": [
       "<IPython.core.display.Latex object>"
      ]
     },
     "metadata": {},
     "output_type": "display_data"
    },
    {
     "data": {
      "application/vnd.jupyter.widget-view+json": {
       "model_id": "3b50e3bc66d84fa5b71ea0e853914447",
       "version_major": 2,
       "version_minor": 0
      },
      "text/plain": [
       "HBox(children=(Text(value='', placeholder='Enter interval'), Button(description='Check Answer', style=ButtonSt…"
      ]
     },
     "metadata": {},
     "output_type": "display_data"
    },
    {
     "data": {
      "application/vnd.jupyter.widget-view+json": {
       "model_id": "ffd857ac69c947199820af2c549e16f9",
       "version_major": 2,
       "version_minor": 0
      },
      "text/plain": [
       "HTML(value='')"
      ]
     },
     "metadata": {},
     "output_type": "display_data"
    }
   ],
   "source": [
    "std_form5 = 'x<=-4'\n",
    "\n",
    "display(Latex('5.Now consider expression $2$ What is the interval satsfying these inequalities?'))\n",
    "\n",
    "inpt5 = widgets.Text(placeholder='Enter interval')\n",
    "text_warning5 = widgets.HTML()\n",
    "button_check5 = widgets.Button(description=\"Check Answer\")\n",
    "\n",
    "display(widgets.HBox([inpt5,button_check5]))\n",
    "\n",
    "def check_button5(x):\n",
    "    inpt5.value = inpt5.value.replace(\" \",\"\")\n",
    "    if inpt5.value==std_form5 :\n",
    "        text_warning5.value=\"Very good! Since we are looking for values of x that are less than -4 and 6 and 6>-4, this expresssion also gives us one simple solution interval: x<=-4\"\n",
    "    else:\n",
    "        text_warning5.value=\"Not quite - please try again!\"\n",
    "\n",
    "button_check5.on_click(check_button5)\n",
    "\n",
    "display(text_warning5)"
   ]
  },
  {
   "cell_type": "code",
   "execution_count": 10,
   "metadata": {},
   "outputs": [
    {
     "data": {
      "text/latex": [
       "6. So, what is our final solution interval for the inequality $(-x)(4x - 8) \\leq -96$?"
      ],
      "text/plain": [
       "<IPython.core.display.Latex object>"
      ]
     },
     "metadata": {},
     "output_type": "display_data"
    },
    {
     "data": {
      "text/latex": [
       "Enter your answer in interval notation, using the following notations if necessary: 'U' for union symbol and 'inf' for infinity"
      ],
      "text/plain": [
       "<IPython.core.display.Latex object>"
      ]
     },
     "metadata": {},
     "output_type": "display_data"
    },
    {
     "data": {
      "application/vnd.jupyter.widget-view+json": {
       "model_id": "9c893964b964459e8b46dacf60d36039",
       "version_major": 2,
       "version_minor": 0
      },
      "text/plain": [
       "HBox(children=(Text(value='', placeholder='Enter interval'), Button(description='Check Answer', style=ButtonSt…"
      ]
     },
     "metadata": {},
     "output_type": "display_data"
    },
    {
     "data": {
      "application/vnd.jupyter.widget-view+json": {
       "model_id": "3dcb89758997431682939ef3ce3dba34",
       "version_major": 2,
       "version_minor": 0
      },
      "text/plain": [
       "HTML(value='')"
      ]
     },
     "metadata": {},
     "output_type": "display_data"
    }
   ],
   "source": [
    "std_form6 = '(-inf,-4]U[6,inf)'\n",
    "\n",
    "display(Latex('6. So, what is our final solution interval for the inequality $(-x)(4x - 8) \\leq -96$?'))\n",
    "display(Latex(\"Enter your answer in interval notation, using the following notations if necessary: 'U' for union symbol and 'inf' for infinity\"))\n",
    "inpt6 = widgets.Text(placeholder='Enter interval')\n",
    "text_warning6 = widgets.HTML()\n",
    "button_check6 = widgets.Button(description=\"Check Answer\")\n",
    "\n",
    "display(widgets.HBox([inpt6,button_check6]))\n",
    "\n",
    "def check_button6(x):\n",
    "    inpt6.value = inpt6.value.replace(\" \",\"\")\n",
    "    if inpt6.value==std_form6 :\n",
    "        text_warning6.value=\"Excellent! Now let's see how the solution looks like on the number line\"\n",
    "    else:\n",
    "        text_warning6.value=\"Not quite - please try again!\"\n",
    "\n",
    "button_check6.on_click(check_button6)\n",
    "\n",
    "display(text_warning6)"
   ]
  },
  {
   "cell_type": "code",
   "execution_count": 11,
   "metadata": {},
   "outputs": [
    {
     "data": {
      "application/vnd.jupyter.widget-view+json": {
       "model_id": "68159043f2484b2794db4b827fe16a59",
       "version_major": 2,
       "version_minor": 0
      },
      "text/plain": [
       "Button(description='Display solution on  a number line', layout=Layout(height='50px', width='40%'), style=Butt…"
      ]
     },
     "metadata": {},
     "output_type": "display_data"
    }
   ],
   "source": [
    "button7 = widgets.Button(description=\"Display solution on  a number line\",layout=Layout(width='40%', height='50px'))\n",
    "\n",
    "display(button7)\n",
    "\n",
    "def display_button7(x):\n",
    "        img = mpimg.imread('images/ex_soln.png')\n",
    "        fig, ax = plt.subplots(figsize=(18, 3))\n",
    "        imgplot = ax.imshow(img,  aspect='auto')\n",
    "        ax.axis('off')\n",
    "        plt.show()\n",
    "        button7.disabled=True\n",
    "\n",
    "button7.on_click(display_button7)"
   ]
  },
  {
   "cell_type": "markdown",
   "metadata": {},
   "source": [
    "## Graphical visualization of inequality solutions\n"
   ]
  },
  {
   "cell_type": "code",
   "execution_count": 12,
   "metadata": {
    "scrolled": false
   },
   "outputs": [
    {
     "data": {
      "text/latex": [
       "Click on the button below to graph the polynomial $P(x) = x^2 + 4x$"
      ],
      "text/plain": [
       "<IPython.core.display.Latex object>"
      ]
     },
     "metadata": {},
     "output_type": "display_data"
    },
    {
     "data": {
      "application/vnd.jupyter.widget-view+json": {
       "model_id": "2c477482db55450299bd50a3df24f354",
       "version_major": 2,
       "version_minor": 0
      },
      "text/plain": [
       "Button(description='Graph the ploynomial', style=ButtonStyle())"
      ]
     },
     "metadata": {},
     "output_type": "display_data"
    }
   ],
   "source": [
    "%matplotlib inline\n",
    "\n",
    "display(Latex('Click on the button below to graph the polynomial $P(x) = x^2 + 4x$'))\n",
    "\n",
    "button_graph = widgets.Button(description=\"Graph the ploynomial\")\n",
    "\n",
    "display(button_graph)\n",
    "\n",
    "def display_graph(t):\n",
    "    x = np.linspace(-10,10,1000); #define a vector space for the variable x\n",
    "    plt.figure(3,figsize=(11,8)) #define the figure window size\n",
    "    plt.plot(x,x**2 + 4*x, linewidth=2, label=r'$P(x) = x^2 + 4x$'); #plot the polynomial as a function of x\n",
    "    plt.ylabel('P(x)', fontsize=20) #label the axes\n",
    "    plt.xlabel('x', fontsize=20)\n",
    "    plt.grid(alpha = 0.7) #place a grid on the figure for readability; alpha defines the opacity\n",
    "    plt.xticks(np.arange(-10,11)) #define the xticks for easier reading\n",
    "    plt.ylim([-20,40]) #adjust the limits of the y and x axes of the figure for readability\n",
    "    plt.xlim([-9,9])\n",
    "    plt.plot([-75,75],[0,0],'k-',alpha = 1,linewidth = 1) #plot solid lines along origin for easier reading\n",
    "    plt.plot([0,0],[-75,75],'k-',alpha = 1,linewidth = 1)\n",
    "    plt.legend(loc='best', fontsize = 18) #add a legend \n",
    "    button_graph.disabled=True\n",
    "    \n",
    "button_graph.on_click(display_graph)"
   ]
  },
  {
   "cell_type": "code",
   "execution_count": 13,
   "metadata": {},
   "outputs": [
    {
     "data": {
      "text/latex": [
       "Let's try to solve where this polynomial is $\\leq -3$, or  $x^2 + 4x \\leq -3$."
      ],
      "text/plain": [
       "<IPython.core.display.Latex object>"
      ]
     },
     "metadata": {},
     "output_type": "display_data"
    },
    {
     "data": {
      "text/latex": [
       "Let's draw a line at $y=-3$ to help visualize this."
      ],
      "text/plain": [
       "<IPython.core.display.Latex object>"
      ]
     },
     "metadata": {},
     "output_type": "display_data"
    },
    {
     "data": {
      "application/vnd.jupyter.widget-view+json": {
       "model_id": "fbfdbd865bf44cfdb832d4f6b455c05d",
       "version_major": 2,
       "version_minor": 0
      },
      "text/plain": [
       "Button(description='Draw a line', style=ButtonStyle())"
      ]
     },
     "metadata": {},
     "output_type": "display_data"
    }
   ],
   "source": [
    "display(Latex(\"Let's try to solve where this polynomial is $\\leq -3$, or  $x^2 + 4x \\leq -3$.\"))\n",
    "display(Latex(\"Let's draw a line at $y=-3$ to help visualize this.\"))\n",
    "\n",
    "button_draw = widgets.Button(description=\"Draw a line\")\n",
    "\n",
    "display(button_draw)\n",
    "\n",
    "def draw_line(t):\n",
    "    x = np.linspace(-10,10,1000); #define a vector space for the variable x\n",
    "    plt.figure(3,figsize=(11,8)) #define the figure window size\n",
    "    plt.plot(x,x**2 + 4*x, linewidth=2, label=r'$P(x) = x^2 + 4x$'); #plot the polynomial as a function of x\n",
    "    plt.ylabel('P(x)', fontsize=20) #label the axes\n",
    "    plt.xlabel('x', fontsize=20)\n",
    "    plt.grid(alpha = 0.7) #place a grid on the figure for readability; alpha defines the opacity\n",
    "    plt.xticks(np.arange(-10,11)) #define the xticks for easier reading\n",
    "    plt.ylim([-20,40]) #adjust the limits of the y and x axes of the figure for readability\n",
    "    plt.xlim([-9,9])\n",
    "    plt.plot([-75,75],[0,0],'k-',alpha = 1,linewidth = 1) #plot solid lines along origin for easier reading\n",
    "    plt.plot(x,np.ones(len(x))*-3, linewidth=2, label = r'$y = -3$'); #plot the y=0 line\n",
    "    plt.legend(loc='best', fontsize = 18) #add a legend\n",
    "    button_draw.disabled=True\n",
    "    \n",
    "button_draw.on_click(draw_line)\n",
    "    "
   ]
  },
  {
   "cell_type": "code",
   "execution_count": 14,
   "metadata": {},
   "outputs": [
    {
     "data": {
      "text/latex": [
       "Can you see where the inequality is satisfied?"
      ],
      "text/plain": [
       "<IPython.core.display.Latex object>"
      ]
     },
     "metadata": {},
     "output_type": "display_data"
    },
    {
     "data": {
      "text/latex": [
       "Click the button to shade the area where the inequality is satisfied"
      ],
      "text/plain": [
       "<IPython.core.display.Latex object>"
      ]
     },
     "metadata": {},
     "output_type": "display_data"
    },
    {
     "data": {
      "application/vnd.jupyter.widget-view+json": {
       "model_id": "43ed779705924a3bb2e13dabde852e02",
       "version_major": 2,
       "version_minor": 0
      },
      "text/plain": [
       "Button(description='Shade', style=ButtonStyle())"
      ]
     },
     "metadata": {},
     "output_type": "display_data"
    }
   ],
   "source": [
    "display(Latex('Can you see where the inequality is satisfied?'))\n",
    "display(Latex('Click the button to shade the area where the inequality is satisfied'))\n",
    "\n",
    "button_shade = widgets.Button(description=\"Shade\")\n",
    "\n",
    "display(button_shade)\n",
    "\n",
    "def shade(t):\n",
    "    x = np.linspace(-10,10,1000); #define a vector space for the variable x\n",
    "    plt.figure(3,figsize=(11,8)) #define the figure window size\n",
    "    plt.plot(x,x**2 + 4*x, linewidth=2, label=r'$P(x) = x^2 + 4x$'); #plot the polynomial as a function of x\n",
    "    plt.ylabel('P(x)', fontsize=20) #label the axes\n",
    "    plt.xlabel('x', fontsize=20)\n",
    "    plt.grid(alpha = 0.7) #place a grid on the figure for readability; alpha defines the opacity\n",
    "    plt.xticks(np.arange(-10,11)) #define the xticks for easier reading\n",
    "    plt.ylim([-20,40]) #adjust the limits of the y and x axes of the figure for readability\n",
    "    plt.xlim([-9,9])\n",
    "    plt.plot([-75,75],[0,0],'k-',alpha = 1,linewidth = 1) #plot solid lines along origin for easier reading\n",
    "    plt.plot(x,np.ones(len(x))*-3, linewidth=2, label = r'$y = -3$'); #plot the y=0 line\n",
    "    plt.legend(loc='best', fontsize = 18) #add a legend \n",
    "    plt.axvspan(-3,-1,facecolor='#2ca02c', alpha=0.5)\n",
    "    display(Latex(\"We can see that the interval for which $P(x) \\leq -3$ is again [-3,-1], agreeing with our algebraic solution.\"))\n",
    "    button_shade.disabled=True\n",
    "    \n",
    "button_shade.on_click(shade)"
   ]
  },
  {
   "cell_type": "markdown",
   "metadata": {},
   "source": [
    "## Changing Parameters"
   ]
  },
  {
   "cell_type": "markdown",
   "metadata": {},
   "source": [
    "### Constant term"
   ]
  },
  {
   "cell_type": "markdown",
   "metadata": {},
   "source": [
    "The **constant term** of a polynomial is the term in which the variable does not appear (i.e. the degree $0$ term). For example, the constant term for the polynomial \n",
    "\n",
    "$P(x) = x^3 + 2x^2 + 5x + 4$,</br>\n",
    "\n",
    "is $4$.\n",
    "\n",
    "Let's look at how changing the constant term changes the graph of the polynomial. We will consider the same polynomial as before, but this time we will let $k$ be an arbitrary value for the constant term. "
   ]
  },
  {
   "cell_type": "code",
   "execution_count": 15,
   "metadata": {
    "scrolled": false
   },
   "outputs": [
    {
     "data": {
      "text/latex": [
       "Adjust the value of $k$ using the slider. What do you notice about the graph as the value changes?"
      ],
      "text/plain": [
       "<IPython.core.display.Latex object>"
      ]
     },
     "metadata": {},
     "output_type": "display_data"
    },
    {
     "data": {
      "application/vnd.jupyter.widget-view+json": {
       "model_id": "de8b701d05814816a93e8a59a63e266d",
       "version_major": 2,
       "version_minor": 0
      },
      "text/plain": [
       "interactive(children=(IntSlider(value=0, continuous_update=False, description='k', max=10, min=-10), Output())…"
      ]
     },
     "metadata": {},
     "output_type": "display_data"
    },
    {
     "data": {
      "text/latex": [
       "Try doing the same with other polynomials. Is there a similar, or different behaviour?"
      ],
      "text/plain": [
       "<IPython.core.display.Latex object>"
      ]
     },
     "metadata": {},
     "output_type": "display_data"
    }
   ],
   "source": [
    "display(Latex('Adjust the value of $k$ using the slider. What do you notice about the graph as the value changes?'))\n",
    "\n",
    "x = np.linspace(-10,10, 1000)\n",
    "\n",
    "#define function to create a graph of a polynomial\n",
    "def Plot_poly(k=0): #we make the python function a function of the variable 'k', which we will use as the constant term in the polynomial\n",
    "    plt.figure(figsize=(11,8))\n",
    "    plt.plot(x,x**3 + 2*x**2 + 5*x + k, linewidth = 2) #here is the variable k\n",
    "    plt.title(r'Graph of $P(x) = x^3 + 2x^2 + 5x + k$', fontsize = 20)\n",
    "    plt.ylabel('P(x)', fontsize=20)\n",
    "    plt.xlabel('x', fontsize=20)\n",
    "    plt.grid(alpha = 0.7) \n",
    "    plt.xticks(np.arange(-10,11))\n",
    "    plt.ylim([-20,40])\n",
    "    plt.xlim([-9,9])\n",
    "    plt.plot([-75,75],[0,0],'k-',alpha = 1,linewidth = 1)\n",
    "    plt.plot([0,0],[-75,75],'k-',alpha = 1,linewidth = 1)\n",
    "    plt.show()\n",
    "    \n",
    "#interact(Plot_poly,k=(-10,10)); #use the IPython interact function to create a slider to adjust the value of 'k' for the plot\n",
    "\n",
    "interact(Plot_poly, k=slid(min=-10,max=10,step=1,value=0,continuous_update=False))\n",
    "#interact_manual(Plot_poly,k=widgets.IntSlider(min=-10,max=10,step=1,value=0))\n",
    "\n",
    "\n",
    "display(Latex('Try doing the same with other polynomials. Is there a similar, or different behaviour?'))"
   ]
  },
  {
   "cell_type": "code",
   "execution_count": 16,
   "metadata": {},
   "outputs": [
    {
     "data": {
      "text/markdown": [
       "**Order 1 Polynomials:**"
      ],
      "text/plain": [
       "<IPython.core.display.Markdown object>"
      ]
     },
     "metadata": {},
     "output_type": "display_data"
    },
    {
     "data": {
      "text/latex": [
       "Provide a value for $a$ in the polynomial $P(x) = ax + k$:"
      ],
      "text/plain": [
       "<IPython.core.display.Latex object>"
      ]
     },
     "metadata": {},
     "output_type": "display_data"
    },
    {
     "data": {
      "application/vnd.jupyter.widget-view+json": {
       "model_id": "a96e3cb28dfb4d0ba67387468c43ffdd",
       "version_major": 2,
       "version_minor": 0
      },
      "text/plain": [
       "HBox(children=(Text(value='', placeholder='Enter a'), Button(description='Graph', style=ButtonStyle())))"
      ]
     },
     "metadata": {},
     "output_type": "display_data"
    },
    {
     "data": {
      "application/vnd.jupyter.widget-view+json": {
       "model_id": "9eb6b36213004b60b58dbe067fcef0f9",
       "version_major": 2,
       "version_minor": 0
      },
      "text/plain": [
       "HTML(value='')"
      ]
     },
     "metadata": {},
     "output_type": "display_data"
    }
   ],
   "source": [
    "display(Markdown('**Order 1 Polynomials:**'))\n",
    "display(Latex('Provide a value for $a$ in the polynomial $P(x) = ax + k$:'))    \n",
    "\n",
    "inpt_a = widgets.Text(placeholder='Enter a')\n",
    "text_warning_a = widgets.HTML()\n",
    "button_check_a = widgets.Button(description=\"Graph\")\n",
    "\n",
    "display(widgets.HBox([inpt_a,button_check_a]))\n",
    "button_check_a.disabled=False\n",
    "inpt_a.disabled=False\n",
    "\n",
    "\n",
    "def check_button_a(b):\n",
    "    inpt_a.value = inpt_a.value.replace(\" \",\"\")\n",
    "    if inpt_a.value.isdigit():\n",
    "        text_warning_a.value=\"\"\n",
    "        \n",
    "        button_check_a.disabled=True\n",
    "        inpt_a.disabled=True\n",
    "        \n",
    "        x = np.linspace(-10,10,1000)\n",
    "        custom_poly = int(inpt_a.value)* x\n",
    "        \n",
    "        \n",
    "        def plot_poly1(k=0): \n",
    "            plt.figure(figsize=(11,8))\n",
    "            plt.plot(x,custom_poly + k, linewidth=2) #plot the polynomial with the constant term k \n",
    "            plt.ylabel('P(x)', fontsize=20)\n",
    "            plt.xlabel('x', fontsize=20)\n",
    "            plt.grid(alpha = 0.7) \n",
    "            plt.xticks(np.arange(-10,11))\n",
    "            plt.ylim([-20,40])\n",
    "            plt.xlim([-9,9])\n",
    "            plt.plot([-75,75],[0,0],'k-',alpha = 1,linewidth = 1)\n",
    "            plt.plot([0,0],[-75,75],'k-',alpha = 1,linewidth = 1)\n",
    "            plt.title('Graph of polynomial $P(x) ='+str(inpt_a.value) + 'x+ k$', fontsize=20)\n",
    "            plt.show()\n",
    "        \n",
    "        #interact(plot_poly1,k=(-10,10)); \n",
    "        interact(plot_poly1, k=slid(min=-10,max=10,step=1,value=0,continuous_update=False))\n",
    "        \n",
    "    else:\n",
    "        text_warning_a.value=\"Please enter numeric value\"\n",
    "\n",
    "button_check_a.on_click(check_button_a)\n",
    "\n",
    "display(text_warning_a)"
   ]
  },
  {
   "cell_type": "code",
   "execution_count": 17,
   "metadata": {},
   "outputs": [
    {
     "data": {
      "text/markdown": [
       "**Order 2 Polynomials:**"
      ],
      "text/plain": [
       "<IPython.core.display.Markdown object>"
      ]
     },
     "metadata": {},
     "output_type": "display_data"
    },
    {
     "data": {
      "text/latex": [
       "Provide values for $a$ and $b$ in the polynomial $P(x) = ax^2 +bx + k$ using format a,b:"
      ],
      "text/plain": [
       "<IPython.core.display.Latex object>"
      ]
     },
     "metadata": {},
     "output_type": "display_data"
    },
    {
     "data": {
      "application/vnd.jupyter.widget-view+json": {
       "model_id": "24615ea74b574e5d856bb744d59d4134",
       "version_major": 2,
       "version_minor": 0
      },
      "text/plain": [
       "HBox(children=(Text(value='', placeholder='Enter a,b'), Button(description='Graph', style=ButtonStyle())))"
      ]
     },
     "metadata": {},
     "output_type": "display_data"
    },
    {
     "data": {
      "application/vnd.jupyter.widget-view+json": {
       "model_id": "14e9bf2a6f7f412e932f40ce19a75ee6",
       "version_major": 2,
       "version_minor": 0
      },
      "text/plain": [
       "HTML(value='')"
      ]
     },
     "metadata": {},
     "output_type": "display_data"
    }
   ],
   "source": [
    "display(Markdown('**Order 2 Polynomials:**'))\n",
    "display(Latex('Provide values for $a$ and $b$ in the polynomial $P(x) = ax^2 +bx + k$ using format a,b:'))\n",
    "\n",
    "inpt_ab = widgets.Text(placeholder='Enter a,b')\n",
    "text_warning_ab = widgets.HTML()\n",
    "button_check_ab = widgets.Button(description=\"Graph\")\n",
    "\n",
    "display(widgets.HBox([inpt_ab,button_check_ab]))\n",
    "button_check_ab.disabled=False\n",
    "inpt_ab.disabled=False\n",
    "\n",
    "\n",
    "def check_button_ab(b):\n",
    "    inpt_ab.value = inpt_ab.value.replace(\" \",\"\")\n",
    "    list_ab = inpt_ab.value.split(',')\n",
    "    if not len(list_ab)==2:\n",
    "        text_warning_ab.value=\"Please enter two numbers in format a,b\"\n",
    "    else:\n",
    "        if list_ab[0].isdigit() and list_ab[1].isdigit():\n",
    "            text_warning_ab.value=\"\"\n",
    "\n",
    "            button_check_ab.disabled=True\n",
    "            inpt_ab.disabled=True\n",
    "\n",
    "            x = np.linspace(-10,10,1000)\n",
    "            custom_poly = int(list_ab[0]) * x**2 + int(list_ab[1])*x\n",
    "\n",
    "\n",
    "            def plot_poly2(k=0): \n",
    "                plt.figure(figsize=(11,8))\n",
    "                plt.plot(x,custom_poly + k, linewidth=2) #plot the polynomial with the constant term k \n",
    "                plt.ylabel('P(x)', fontsize=20)\n",
    "                plt.xlabel('x', fontsize=20)\n",
    "                plt.grid(alpha = 0.7) \n",
    "                plt.xticks(np.arange(-10,11))\n",
    "                plt.ylim([-20,40])\n",
    "                plt.xlim([-9,9])\n",
    "                plt.plot([-75,75],[0,0],'k-',alpha = 1,linewidth = 1)\n",
    "                plt.plot([0,0],[-75,75],'k-',alpha = 1,linewidth = 1)\n",
    "                plt.title('Graph of polynomial $P(x) ='+str(list_ab[0]) + 'x^2 +' + str(list_ab[1]) + 'x + k$', fontsize=20)\n",
    "                plt.show()\n",
    "            \n",
    "            #interact(plot_poly2,k=(-10,10))\n",
    "            interact(plot_poly2, k=slid(min=-10,max=10,step=1,value=0,continuous_update=False))\n",
    "\n",
    "\n",
    "        else:\n",
    "            text_warning_ab.value=\"Please enter numeric values\"\n",
    "\n",
    "button_check_ab.on_click(check_button_ab)\n",
    "\n",
    "display(text_warning_ab)"
   ]
  },
  {
   "cell_type": "code",
   "execution_count": 18,
   "metadata": {},
   "outputs": [
    {
     "data": {
      "text/markdown": [
       "**Order 3 Polynomials:**"
      ],
      "text/plain": [
       "<IPython.core.display.Markdown object>"
      ]
     },
     "metadata": {},
     "output_type": "display_data"
    },
    {
     "data": {
      "text/latex": [
       "Provide values for $a$, $b$, and $c$ in the polynomial $P(x) = ax^3 +bx^2 + cx + k$ using format a,b,c:"
      ],
      "text/plain": [
       "<IPython.core.display.Latex object>"
      ]
     },
     "metadata": {},
     "output_type": "display_data"
    },
    {
     "data": {
      "application/vnd.jupyter.widget-view+json": {
       "model_id": "09df20e752544253b5a08a58180906b2",
       "version_major": 2,
       "version_minor": 0
      },
      "text/plain": [
       "HBox(children=(Text(value='', placeholder='Enter a,b,c'), Button(description='Graph', style=ButtonStyle())))"
      ]
     },
     "metadata": {},
     "output_type": "display_data"
    },
    {
     "data": {
      "application/vnd.jupyter.widget-view+json": {
       "model_id": "ece55268514a493eb67bc183ab9e54ee",
       "version_major": 2,
       "version_minor": 0
      },
      "text/plain": [
       "HTML(value='')"
      ]
     },
     "metadata": {},
     "output_type": "display_data"
    }
   ],
   "source": [
    "display(Markdown('**Order 3 Polynomials:**'))\n",
    "display(Latex('Provide values for $a$, $b$, and $c$ in the polynomial $P(x) = ax^3 +bx^2 + cx + k$ using format a,b,c:'))\n",
    "\n",
    "inpt_abc = widgets.Text(placeholder='Enter a,b,c')\n",
    "text_warning_abc = widgets.HTML()\n",
    "button_check_abc = widgets.Button(description=\"Graph\")\n",
    "\n",
    "display(widgets.HBox([inpt_abc,button_check_abc]))\n",
    "button_check_abc.disabled=False\n",
    "inpt_abc.disabled=False\n",
    "\n",
    "\n",
    "def check_button_abc(b):\n",
    "    inpt_abc.value = inpt_abc.value.replace(\" \",\"\")\n",
    "    list_abc = inpt_abc.value.split(',')\n",
    "    if not len(list_abc)==3:\n",
    "        text_warning_abc.value=\"Please enter three numbers in format a,b,c\"\n",
    "    else:\n",
    "        if list_abc[0].isdigit() and list_abc[1].isdigit() and list_abc[2].isdigit():\n",
    "            text_warning_abc.value=\"\"\n",
    "\n",
    "            button_check_abc.disabled=True\n",
    "            inpt_abc.disabled=True\n",
    "\n",
    "            x = np.linspace(-10,10,1000)\n",
    "            custom_poly = int(list_abc[0]) * x**3 + int(list_abc[1])*x**2 + int(list_abc[2])*x\n",
    "\n",
    "\n",
    "            def plot_poly3(k=0): \n",
    "                plt.figure(figsize=(11,8))\n",
    "                plt.plot(x,custom_poly + k, linewidth=2) #plot the polynomial with the constant term k \n",
    "                plt.ylabel('P(x)', fontsize=20)\n",
    "                plt.xlabel('x', fontsize=20)\n",
    "                plt.grid(alpha = 0.7) \n",
    "                plt.xticks(np.arange(-10,11))\n",
    "                plt.ylim([-20,40])\n",
    "                plt.xlim([-9,9])\n",
    "                plt.plot([-75,75],[0,0],'k-',alpha = 1,linewidth = 1)\n",
    "                plt.plot([0,0],[-75,75],'k-',alpha = 1,linewidth = 1)\n",
    "                plt.title('Graph of polynomial $P(x) ='+str(list_abc[0]) + 'x^3 +' + str(list_abc[1]) + 'x^2+'+ str(list_abc[2]) + 'x+ k$', fontsize=20)\n",
    "                plt.show()\n",
    "            \n",
    "            #interact(plot_poly3,k=(-10,10)); \n",
    "            interact(plot_poly3, k=slid(min=-10,max=10,step=1,value=0,continuous_update=False))\n",
    "\n",
    "        else:\n",
    "            text_warning_abc.value=\"Please enter numeric values\"\n",
    "\n",
    "button_check_abc.on_click(check_button_abc)\n",
    "\n",
    "display(text_warning_abc)"
   ]
  },
  {
   "cell_type": "markdown",
   "metadata": {},
   "source": [
    "In the next exercise, we will quantify how the constant term can change the interval satisfying an inequality. \n",
    "\n",
    "**Note**: Please press the enter key after typing in a value for the intercepts. "
   ]
  },
  {
   "cell_type": "code",
   "execution_count": 19,
   "metadata": {
    "scrolled": false
   },
   "outputs": [
    {
     "data": {
      "text/latex": [
       "Where are the x intercepts for the polynomial $x^2-4x+3$?"
      ],
      "text/plain": [
       "<IPython.core.display.Latex object>"
      ]
     },
     "metadata": {},
     "output_type": "display_data"
    },
    {
     "data": {
      "application/vnd.jupyter.widget-view+json": {
       "model_id": "766ca289f95148cd91279751cdd03001",
       "version_major": 2,
       "version_minor": 0
      },
      "text/plain": [
       "Text(value='', description='$x_1$')"
      ]
     },
     "metadata": {},
     "output_type": "display_data"
    },
    {
     "data": {
      "application/vnd.jupyter.widget-view+json": {
       "model_id": "2019db0dc9c24eeebdf964fdfe91d167",
       "version_major": 2,
       "version_minor": 0
      },
      "text/plain": [
       "Text(value='', description='$x_2$')"
      ]
     },
     "metadata": {},
     "output_type": "display_data"
    },
    {
     "data": {
      "application/vnd.jupyter.widget-view+json": {
       "model_id": "9b7974522ce648deb38dd101bcaf90dc",
       "version_major": 2,
       "version_minor": 0
      },
      "text/plain": [
       "Button(description='Check Answer', style=ButtonStyle())"
      ]
     },
     "metadata": {},
     "output_type": "display_data"
    },
    {
     "data": {
      "application/vnd.jupyter.widget-view+json": {
       "model_id": "d15e52ca87124349ae9052fb62061e91",
       "version_major": 2,
       "version_minor": 0
      },
      "text/plain": [
       "HTML(value='')"
      ]
     },
     "metadata": {},
     "output_type": "display_data"
    }
   ],
   "source": [
    "display(Latex(\"Where are the x intercepts for the polynomial $x^2-4x+3$?\"))\n",
    "    \n",
    "#widgets for interactive cell input\n",
    "guess1_in= widgets.Text(disabled = False, description = r'$x_1$')\n",
    "guess2_in = widgets.Text(disabled = False, description = r'$x_2$')\n",
    "check = widgets.Button(description = 'Check Answer')\n",
    "change_c = widgets.Button(description = 'Change Constant')\n",
    "\n",
    "text_warning_check = widgets.HTML()\n",
    "\n",
    "display(guess1_in)\n",
    "display(guess2_in)\n",
    "display(check)\n",
    "\n",
    "def check_answr(b):\n",
    "    int_1 = str(1)\n",
    "    int_2 = str(3)\n",
    "    if (guess1_in.value == int_1 and guess2_in.value == int_2) or (guess1_in.value == int_2 and guess2_in.value == int_1):\n",
    "        text_warning_check.value='Correct!'\n",
    "        check.disabled=True\n",
    "        guess1_in.disabled=True\n",
    "        guess2_in.disabled=True\n",
    "        plt.figure(1,figsize=(11,8))\n",
    "        plt.plot(x,x**2  - 4*x + 3, linewidth=2, label=r'$P(x) = x^2 -4x+3$');\n",
    "        plt.plot([-75,75],[0,0],'k-',alpha = 1,linewidth = 1)\n",
    "        plt.plot([0,0],[-75,75],'k-',alpha = 1,linewidth = 1)\n",
    "        plt.plot(3,0,'ro',markersize=10)\n",
    "        plt.plot(1,0,'ro',markersize=10)\n",
    "        plt.ylabel('P(x)', fontsize=20)\n",
    "        plt.xlabel('x', fontsize=20)\n",
    "        plt.grid(alpha = 0.7)\n",
    "        plt.xticks(np.arange(-10,11))\n",
    "        plt.ylim([-20,20])\n",
    "        plt.xlim([-9,9])\n",
    "        plt.legend(loc='best', fontsize = 18)\n",
    "        plt.show()\n",
    "        display(Latex('Based on the previous cell, what do you think will happen if we change the constant term from $3$ to $-3$? Press the button to find out if you are correct.'))\n",
    "        display(change_c)\n",
    "    else:\n",
    "        text_warning_check.value='Try Again!'\n",
    "    return\n",
    "\n",
    "check.on_click(check_answr)\n",
    "    \n",
    "def change_const(b):\n",
    "    change_c.disabled=True\n",
    "    plt.figure(1,figsize=(11,8))\n",
    "    plt.plot(x,x**2  - 4*x - 3, linewidth=2, label=r'$P(x) = x^2 -4x-3$');\n",
    "    plt.plot([-75,75],[0,0],'k-',alpha = 1,linewidth = 1)\n",
    "    plt.plot([0,0],[-75,75],'k-',alpha = 1,linewidth = 1)\n",
    "    plt.plot(2-np.sqrt(7),0,'yo',markersize=10)\n",
    "    plt.plot(2+np.sqrt(7),0,'yo', markersize=10)\n",
    "    plt.ylabel('P(x)', fontsize=20)\n",
    "    plt.xlabel('x', fontsize=20)\n",
    "    plt.grid(alpha = 0.7)\n",
    "    plt.xticks(np.arange(-10,11))\n",
    "    plt.ylim([-20,20])\n",
    "    plt.xlim([-9,9])\n",
    "    plt.legend(loc='best', fontsize = 18)\n",
    "    plt.show()\n",
    "    display(Latex('As we can see, changing the constant term shifts the graph of a polynomial up or down. This results in different x-intercepts, and therefore a different interval. '))\n",
    "\n",
    "change_c.on_click(change_const)  \n",
    "\n",
    "display(text_warning_check)"
   ]
  },
  {
   "cell_type": "markdown",
   "metadata": {},
   "source": [
    "Another way to think about this is that changing the constant term is the same as solving for a different interval of inequality. Take, for example the polynomials we just used above.\n",
    "\n",
    "We know that \n",
    "\n",
    "$x^2-4x+3 \\leq 0$ \n",
    "\n",
    "is **not** the same as \n",
    "\n",
    "$x^2-4x-3\\leq 0$.\n",
    "\n",
    "However, consider a new inequality:\n",
    "\n",
    "$x^2 - 4x - 3 \\leq -6$.\n",
    "\n",
    "If we simplify this expression, we find\n",
    "\n",
    "$x^2 - 4x +3 \\leq 0$\n",
    "\n",
    "which is indeed equivalent to the first polynomial (plotted in blue in the cell above)."
   ]
  },
  {
   "cell_type": "markdown",
   "metadata": {},
   "source": [
    "## Extra Problems"
   ]
  },
  {
   "cell_type": "markdown",
   "metadata": {},
   "source": [
    "### Practice solving graphically"
   ]
  },
  {
   "cell_type": "markdown",
   "metadata": {},
   "source": [
    "First, we will practice how to solve inequalities graphically. Below is a plot of the polynomial $P(x) = x^3 - x^2 - 22x + 40$. Using the graph, find the values of the three x intercepts. Based on this, determine the interval where $P(x) \\leq 0 $.\n",
    "\n",
    "This can method can be used to solve almost any polynomial inequality, provided that the x-intercepts are rational numbers which can be easily read off of the axes of the graph."
   ]
  },
  {
   "cell_type": "code",
   "execution_count": 20,
   "metadata": {
    "scrolled": false
   },
   "outputs": [
    {
     "data": {
      "application/vnd.jupyter.widget-view+json": {
       "model_id": "00ccd70c8c594d989974e84c24c7ffd9",
       "version_major": 2,
       "version_minor": 0
      },
      "text/plain": [
       "interactive(children=(IntSlider(value=0, continuous_update=False, description='x1', max=10, min=-10), IntSlide…"
      ]
     },
     "metadata": {},
     "output_type": "display_data"
    },
    {
     "data": {
      "text/plain": [
       "<function __main__.slider(x1, x2, x3)>"
      ]
     },
     "execution_count": 20,
     "metadata": {},
     "output_type": "execute_result"
    }
   ],
   "source": [
    "text_check_intvl = widgets.HTML()\n",
    "        \n",
    "intvl_1=widgets.Checkbox(\n",
    "        value=False, \n",
    "        description=r'$[$'+r'$-5$'+r'$,4$'+r'$]$', \n",
    "        disabled=False\n",
    "        )\n",
    "intvl_2=widgets.Checkbox(\n",
    "            value=False,\n",
    "            description='['+'$-5$'+'$,3$'+']'+'$U$'+'['+r'$4,$'+r'$\\infty$'+r')',\n",
    "            disabled=False\n",
    "        )\n",
    "intvl_3=widgets.Checkbox(\n",
    "            value=False,\n",
    "            description=r'$[$'+r'$-5$'+r'$,2$'+r'$]$',\n",
    "            disabled=False\n",
    "        )\n",
    "intvl_4=widgets.Checkbox(\n",
    "            value=False,\n",
    "            description=r'$($'+r'$-\\infty$'+r'$,$'+r'$-5$'+'$]$'+'$U$'+ r'$[$' + r'$2$'+'$,$'+'$4$'+'$]$',\n",
    "            #description=r'$(-\\infty,-5] \\rm U [2,4]$',\n",
    "            disabled=False\n",
    "        )\n",
    "\n",
    "\n",
    "def check_button2(x):\n",
    "            if intvl_2.value == False and intvl_1.value==False and intvl_3.value==False and intvl_4.value==True:\n",
    "                text_check_intvl.value='Correct!'\n",
    "\n",
    "            else: \n",
    "                text_check_intvl.value=\"Not quite - Check your answer again!\"\n",
    "\n",
    "button_check2 = widgets.Button(description=\"Check Answer\")\n",
    "button_check2.on_click(check_button2)\n",
    "\n",
    "def slider(x1,x2,x3):\n",
    "    xx = np.linspace(-10,10,300)\n",
    "    p1 = plt.figure(1,figsize = (11,8))\n",
    "    hold = True\n",
    "    plt.plot(xx,xx**3 - 1*xx**2 - 22*xx + 40, linewidth = 2, label = r'$P(x) = x^3 - x^2 - 22x + 40$')\n",
    "    plt.axhline(y=0, color = 'k', linewidth=1)\n",
    "    plt.axvline(x=0, color = 'k', linewidth=1)\n",
    "    plt.plot(x1,0,'ro',markersize=10)\n",
    "    plt.plot(x2,0,'mo',markersize=10)\n",
    "    plt.plot(x3,0,'go',markersize=10)\n",
    "    if sorted([x1,x2,x3]) == sorted([-5,2,4]):\n",
    "        plt.text(-7,20,'VERY GOOD!', fontsize = 25, fontweight = 'bold',color = 'r')\n",
    "        plt.fill_between(xx,xx**3 - 1*xx**2 - 22*xx + 40,np.zeros(len(xx)), where=xx**3 - 1*xx**2 - 22*xx + 40<0, interpolate = True, alpha=0.5, color='g' )\n",
    "        display(Latex('What interval then satisfies $P(x) \\leq 0$?'))\n",
    "\n",
    "        display(intvl_1)\n",
    "        display(intvl_2)\n",
    "        display(intvl_3)\n",
    "        display(intvl_4)\n",
    "        display(button_check2)\n",
    "        display(text_check_intvl)\n",
    "        \n",
    "    plt.xlabel('$x$',fontsize = 14)\n",
    "    plt.ylabel('$y$',fontsize = 14)\n",
    "    plt.grid(alpha = 0.7)\n",
    "    plt.xticks(np.arange(-10,11))\n",
    "    plt.ylim([-75,75])\n",
    "    plt.xlim([-9,9])\n",
    "    plt.legend(loc = 'best', fontsize = 18)\n",
    "    plt.show()\n",
    "    \n",
    "interact(slider, x1=slid(min = -10,max = 10,step = 1,continuous_update = False), x2=slid(min = -10,max = 10,step = 1,continuous_update = False), x3=slid(min = -10,max = 10,step = 1,continuous_update = False))"
   ]
  },
  {
   "cell_type": "markdown",
   "metadata": {},
   "source": [
    "### Solve the inequalities"
   ]
  },
  {
   "cell_type": "markdown",
   "metadata": {},
   "source": [
    "In the next two cells, we have a function that will generate a random polynomial of degree 2 and 3. Using the analytic steps shown above, try to solve the intervals of inequalities for a few polynomials. Since we can always rearrange the polynomial into standard form, without loss of generality we can always take the inequality to be $\\leq 0 $ or $\\geq 0 $. Re-run this function as many times as you would like, until you are comfortable with solving polynomial inequalities.\n",
    "\n",
    "If you have trouble solving the inequality analytically, you can try to find the solution graphically, following the method in the cell above. At the bottom of this notebook, there will be some instructions on how to make basic plots with Python. Follow these steps and try to solve the inequality.\n",
    "\n",
    "**Note**: you will need to scroll to the top of the notebook and press the '**show code**' button to be able to write your own code in a cell."
   ]
  },
  {
   "cell_type": "code",
   "execution_count": 21,
   "metadata": {},
   "outputs": [],
   "source": [
    "def find_interval2():\n",
    "        C = np.random.randint(-5,5,2)\n",
    "        C1 = -1*np.sum(C)\n",
    "        C2 = C[0]*C[1]\n",
    "        if C1>0:\n",
    "            str1 = '+' + str(C1) + 'x'\n",
    "        elif C1== 0:\n",
    "            str1 = ''\n",
    "        else:\n",
    "            str1=  str(C1) + 'x'\n",
    "        if C2>0:\n",
    "            str2 = '+' + str(C2)\n",
    "        elif C2== 0:\n",
    "            str2=''\n",
    "        else:\n",
    "            str2= str(C2) \n",
    "\n",
    "        a = 'P(x) = x^2 ' + str1 + str2\n",
    "\n",
    "        def poly(x):\n",
    "            return x**2 + C1*x + C2\n",
    "    \n",
    "        Max = max(C)\n",
    "        Min = min(C)\n",
    "        M = [Min, Max]\n",
    "        V = np.sort(C)\n",
    "        eps = 0.1\n",
    " \n",
    "        if Max == Min and poly(Max+eps)>0:\n",
    "                interval = '(-inf,'+str(Min)+')U('+str(Min)+',inf)' #one root, convex\n",
    "        elif poly(Max+eps)<0:\n",
    "                interval = '('+str(Min)+','+str(Max)+')' #Two distinct roots, Concave\n",
    "        elif poly(Max + eps)>0:\n",
    "                interval = '(-inf,'+str(Min)+')U(' + str(Max)+',inf)' #Two distinct roots, convex\n",
    "        else:\n",
    "                interval = 'Nowhere' #one root, concave \n",
    "    \n",
    "        x = np.linspace(-100,100,10000)\n",
    "        p = poly(x)\n",
    "  \n",
    "        y = poly(x)\n",
    "        return interval,y,a"
   ]
  },
  {
   "cell_type": "code",
   "execution_count": 22,
   "metadata": {},
   "outputs": [],
   "source": [
    "def find_interval3():\n",
    "        C = np.random.randint(-5,5,3)\n",
    "        C1 = -1*np.sum(C)\n",
    "        C2 = C[0]*C[1] + C[2]*(C[0]+C[1])\n",
    "        C3 = -1*C[0]*C[1]*C[2]\n",
    "        if C1>0:\n",
    "            str1 = '+' + str(C1) + 'x^2'\n",
    "        elif C1== 0:\n",
    "            str1 = ''\n",
    "        else:\n",
    "            str1=  str(C1) + 'x^2'\n",
    "        if C2>0:\n",
    "            str2 = '+' + str(C2) + 'x'\n",
    "        elif C2== 0:\n",
    "            str2=''\n",
    "        else:\n",
    "            str2= str(C2) + 'x'\n",
    "        if C3>0:\n",
    "            str3 = '+' + str(C3)\n",
    "        elif C3== 0:\n",
    "            str3=''\n",
    "        else:\n",
    "            str3= str(C3)\n",
    "            \n",
    "        a = \"P(x)= x^3\" + str1 + str2 + str3\n",
    "        \n",
    "        def poly(x):\n",
    "            return x**3 + C1*x**2 + C2*x + C3\n",
    "        \n",
    "        Max = max(C)\n",
    "        Min = min(C)\n",
    "        M = [Min, Max]\n",
    "        V = np.sort(C)\n",
    "        eps = 0.1\n",
    "    \n",
    "        v = V[1]\n",
    "        if Max == Min and poly(Max +eps) > 0:\n",
    "                          interval = '('+str(Max)+',inf)' #One single root, increasing\n",
    "        if Max == Min and poly(Max +eps) < 0:\n",
    "                          interval = '(-inf,' + str( Max)+')' #One single root, decreasing\n",
    "                      \n",
    "        if poly(Max + eps) >0:\n",
    "            if v !=  Max and v!= Min:\n",
    "                          interval = '('+str(Min) + ',' + str(v) + ')U(' + str(Max) + ',inf)'\n",
    "            if v == Max:\n",
    "                          interval = '(' + str(Min) + ',inf)'\n",
    "            if v== Min:\n",
    "                          interval = '(' + str(Max) + ',inf)'\n",
    "    \n",
    "        if poly(Max + eps) <0:\n",
    "            if v != Max and v != Min:\n",
    "                          interval = '(-inf,' + str(Min) + 'U('+str(v) + ','+str(Max) + ')'\n",
    "            if v == Max:\n",
    "                          interval = '(-inf,' + str( Max) + ')'\n",
    "            if v == Min:\n",
    "                          interval = '(-inf,' + str(Min) + ')'\n",
    "                    \n",
    "        x = np.linspace(-100,100,10000)\n",
    "        y = poly(x)\n",
    "        return interval, y,a"
   ]
  },
  {
   "cell_type": "code",
   "execution_count": 23,
   "metadata": {},
   "outputs": [],
   "source": [
    "def check_answer(answer,interval,y,a,hwidget):\n",
    "\n",
    "    if answer == interval:\n",
    "        \n",
    "        hwidget.value=\"Correct! Here's a visualization of the solution:\"\n",
    "        x=np.linspace(-100,100,10000)\n",
    "        plt.figure(figsize=(11,8))\n",
    "        plt.plot(x,y, linewidth = 2, label = '$' + str(a) + '$')\n",
    "        plt.xlabel('$x$',fontsize = 14)\n",
    "        plt.ylabel('$y$',fontsize = 14)\n",
    "        plt.axhline(y=0, color = 'k', linewidth=1)\n",
    "        plt.axvline(x=0, color = 'k', linewidth=1)\n",
    "        plt.grid(alpha = 0.7)\n",
    "        plt.xticks(np.arange(-10,11))\n",
    "        plt.ylim([-75,75])\n",
    "        plt.xlim([-9,9])\n",
    "        plt.legend(loc = 'best', fontsize = 18)\n",
    "        plt.fill_between(x,y,0, where=y>0, interpolate=True, alpha = 0.5, color='g')\n",
    "        return True\n",
    "        \n",
    "    elif answer != interval:\n",
    "        hwidget.value=\"That's not quite right, try again.\" \n",
    "        return False"
   ]
  },
  {
   "cell_type": "code",
   "execution_count": 24,
   "metadata": {},
   "outputs": [
    {
     "data": {
      "text/markdown": [
       "**Order 2 Polynomials:**"
      ],
      "text/plain": [
       "<IPython.core.display.Markdown object>"
      ]
     },
     "metadata": {},
     "output_type": "display_data"
    },
    {
     "data": {
      "text/latex": [
       "Find the interval where $P(x) > 0$ , using 'inf' for infinity and 'U' for union:"
      ],
      "text/plain": [
       "<IPython.core.display.Latex object>"
      ]
     },
     "metadata": {},
     "output_type": "display_data"
    },
    {
     "data": {
      "text/latex": [
       "$\\displaystyle P(x) = x^2 -1x-12$"
      ],
      "text/plain": [
       "<IPython.core.display.Math object>"
      ]
     },
     "metadata": {},
     "output_type": "display_data"
    },
    {
     "data": {
      "application/vnd.jupyter.widget-view+json": {
       "model_id": "ccb7144ced2f402f8fa073e49f3945ce",
       "version_major": 2,
       "version_minor": 0
      },
      "text/plain": [
       "Text(value='', placeholder='Enter Interval')"
      ]
     },
     "metadata": {},
     "output_type": "display_data"
    },
    {
     "data": {
      "application/vnd.jupyter.widget-view+json": {
       "model_id": "383cfae1b789469693bb1f1a41cae5d5",
       "version_major": 2,
       "version_minor": 0
      },
      "text/plain": [
       "HBox(children=(Button(description='Check your answer', layout=Layout(height='40px', width='30%'), style=Button…"
      ]
     },
     "metadata": {},
     "output_type": "display_data"
    },
    {
     "data": {
      "application/vnd.jupyter.widget-view+json": {
       "model_id": "7aba9c0210194086abf50bc4dc9cf099",
       "version_major": 2,
       "version_minor": 0
      },
      "text/plain": [
       "HTML(value='')"
      ]
     },
     "metadata": {},
     "output_type": "display_data"
    }
   ],
   "source": [
    "interval2,y_values2,polynom_string2=find_interval2()\n",
    "\n",
    "display(Markdown('**Order 2 Polynomials:**'))\n",
    "display(Latex(\"Find the interval where $P(x) > 0$ , using 'inf' for infinity and 'U' for union:\"))\n",
    "display(Math(polynom_string2))\n",
    "\n",
    "text_poly2 = widgets.Text(placeholder='Enter Interval')\n",
    "display(text_poly2)\n",
    "\n",
    "gen_button2 = widgets.Button(description=\"Re-generate polynomial\", layout = Layout(width='30%', height='40px'))\n",
    "check_button2 = widgets.Button(description=\"Check your answer\", layout = Layout(width='30%', height='40px'),visible=False)\n",
    "\n",
    "display(widgets.HBox([check_button2,gen_button2]))\n",
    "\n",
    "text_check_ans2 = widgets.HTML()\n",
    "display(text_check_ans2)\n",
    "    \n",
    "def generate_polynomial2(b):\n",
    "    display(Javascript('IPython.notebook.execute_cell_range(IPython.notebook.get_selected_index(), IPython.notebook.get_selected_index()+1)'))\n",
    "\n",
    "gen_button2.on_click(generate_polynomial2) \n",
    "\n",
    "def check_answer2(b):\n",
    "    text_poly2.value = text_poly2.value.replace(\" \",\"\")\n",
    "    result=check_answer(text_poly2.value,interval2,y_values2,polynom_string2,text_check_ans2)\n",
    "    if result:\n",
    "        check_button2.disabled=True\n",
    "    \n",
    "check_button2.on_click(check_answer2)"
   ]
  },
  {
   "cell_type": "code",
   "execution_count": 25,
   "metadata": {},
   "outputs": [
    {
     "data": {
      "text/markdown": [
       "**Order 3 Polynomials:**"
      ],
      "text/plain": [
       "<IPython.core.display.Markdown object>"
      ]
     },
     "metadata": {},
     "output_type": "display_data"
    },
    {
     "data": {
      "text/latex": [
       "Find the interval where $P(x) > 0$ , using 'inf' for infinity and 'U' for union:"
      ],
      "text/plain": [
       "<IPython.core.display.Latex object>"
      ]
     },
     "metadata": {},
     "output_type": "display_data"
    },
    {
     "data": {
      "text/latex": [
       "$\\displaystyle P(x)= x^3+6x^2+11x+6$"
      ],
      "text/plain": [
       "<IPython.core.display.Math object>"
      ]
     },
     "metadata": {},
     "output_type": "display_data"
    },
    {
     "data": {
      "application/vnd.jupyter.widget-view+json": {
       "model_id": "68f1578d28f44987be427c1509d0b9b7",
       "version_major": 2,
       "version_minor": 0
      },
      "text/plain": [
       "Text(value='', placeholder='Enter Interval')"
      ]
     },
     "metadata": {},
     "output_type": "display_data"
    },
    {
     "data": {
      "application/vnd.jupyter.widget-view+json": {
       "model_id": "f715cffa653e485090c0c03b1314def1",
       "version_major": 2,
       "version_minor": 0
      },
      "text/plain": [
       "HBox(children=(Button(description='Check your answer', layout=Layout(height='40px', width='30%'), style=Button…"
      ]
     },
     "metadata": {},
     "output_type": "display_data"
    },
    {
     "data": {
      "application/vnd.jupyter.widget-view+json": {
       "model_id": "01ce547b42094919b83731c5b63dfdce",
       "version_major": 2,
       "version_minor": 0
      },
      "text/plain": [
       "HTML(value='')"
      ]
     },
     "metadata": {},
     "output_type": "display_data"
    }
   ],
   "source": [
    "interval3,y_values3,polynom_string3=find_interval3()\n",
    "\n",
    "display(Markdown('**Order 3 Polynomials:**'))\n",
    "display(Latex(\"Find the interval where $P(x) > 0$ , using 'inf' for infinity and 'U' for union:\"))\n",
    "display(Math(polynom_string3))\n",
    "\n",
    "text_poly3 = widgets.Text(placeholder='Enter Interval')\n",
    "display(text_poly3)\n",
    "\n",
    "gen_button3 = widgets.Button(description=\"Re-generate polynomial\", layout = Layout(width='30%', height='40px'))\n",
    "check_button3 = widgets.Button(description=\"Check your answer\", layout = Layout(width='30%', height='40px'),visible=False)\n",
    "\n",
    "display(widgets.HBox([check_button3,gen_button3]))\n",
    "\n",
    "text_check_ans3 = widgets.HTML()\n",
    "display(text_check_ans3)\n",
    "    \n",
    "def generate_polynomial3(b):\n",
    "    display(Javascript('IPython.notebook.execute_cell_range(IPython.notebook.get_selected_index(), IPython.notebook.get_selected_index()+1)'))\n",
    "\n",
    "gen_button3.on_click(generate_polynomial3) \n",
    "\n",
    "def check_answer3(b):\n",
    "    text_poly3.value = text_poly3.value.replace(\" \",\"\")\n",
    "    result=check_answer(text_poly3.value,interval3,y_values3,polynom_string3,text_check_ans3)\n",
    "    if result:\n",
    "        check_button3.disabled=True\n",
    "    \n",
    "check_button3.on_click(check_answer3)"
   ]
  },
  {
   "cell_type": "markdown",
   "metadata": {
    "collapsed": true
   },
   "source": [
    "## Plotting in Python\n"
   ]
  },
  {
   "cell_type": "markdown",
   "metadata": {},
   "source": [
    " To create a simple plot of a polynomial, we can run the following code:\n",
    "\n",
    "First, we have to import the necessary libraries to create the plot. We can call the matplotlib library in the code by using the 'plt.' prefix. \n",
    "\n",
    "We will use the Python `matplotlib` library to plot the polynomials.\n",
    "\n",
    "The` numpy` library is used to create an object called a 'vector' -- we use this to plot the  polynomial over some range of x:\n",
    "\n",
    "```python\n",
    "import matplotlib.pyplot as plt\n",
    "\n",
    "import numpy as np \n",
    "```\n",
    "\n",
    "From the `numpy` library, we call the 'linspace' function, which creates a list of linearly spaced numbers. The numbers in the brackets are the starting number, the final number, and the number of points between the two. In this case, we create a list of 1000 numbers equally spaced between `-10` and `10`. We will define this list as the variable `x` by typing `x=` before we call the `numpy` function:\n",
    "\n",
    "```python\n",
    "x = np.linspace(-10,10,1000) \n",
    "```\n",
    "\n",
    "Now we can use `matplotlib` functions to create the graph. Calling the `figure()` function creates a figure box to make the graph. We can enter arguments in the brackets to specify the size of the figure window to make it easier to read. To actually draw the graph, we call `plot(x,y)`, draws the graph of y as a function of x.\n",
    "\n",
    "```python\n",
    "plt.figure(figsize=(11,8)) \n",
    "\n",
    "plt.plot(x,y)  \n",
    "```\n",
    "\n",
    "When you write the code for yourself, instead of typing 'y' in the brackets, write out the actual polynomial you wish to plot. For example, if we wanted to plot $y = x^2 + 2x - 3$, our code may look like:\n",
    "\n",
    "```python\n",
    "plt.figure(figsize=(11,8)) \n",
    "\n",
    "plt.plot(x,x**2 + 2*x - 3)  \n",
    "```\n",
    "\n",
    "Notice the *syntax* of the polynomial. Double asterisks `**` are used to exponentiate variables (i.e. $x^2$ = `x**2`), while a single asterisk `*` means multiplication in Python. Addition and subtraction are the usual `+` and `-` symbols.\n",
    "\n",
    "We can make the intercepts easier to read by placing a grid on the figure with\n",
    "\n",
    "```python\n",
    "plt.grid(alpha=0.7)\n",
    "```\n",
    "and making the origin lines solid by using\n",
    "\n",
    "```python\n",
    "plt.axhline(y=0, color = 'k', linewidth=1)\n",
    "\n",
    "plt.axvline(x=0, color = 'k', linewidth=1)\n",
    "```\n",
    "\n",
    "\n",
    "\n",
    "In the cell below, write out this code block, entering the polynomial you wish to solve as 'y'."
   ]
  },
  {
   "cell_type": "markdown",
   "metadata": {},
   "source": [
    "## Conclusion\n"
   ]
  },
  {
   "cell_type": "markdown",
   "metadata": {},
   "source": [
    " In this notebook, we reviewed some basics of polynomial functions:\n",
    " - what is the general form of a polynomial\n",
    " - what are some examples of polynomials\n",
    " - what defines the order (or degree) of a polynomial\n",
    " - what is the constant term of a polynomial, and what is it's role on the graph of a polynomial\n",
    " \n",
    "We explored who to solve inequalities involving polynomials analytically, and demonstrated how we can search for solutions graphically as well.\n",
    "\n",
    "You should also be familiar with some basic Python syntax and plotting routines to create simple plots of polynomial functions with the `matplotlib` library."
   ]
  },
  {
   "cell_type": "markdown",
   "metadata": {},
   "source": [
    "[![Callysto.ca License](https://github.com/callysto/curriculum-notebooks/blob/master/callysto-notebook-banner-bottom.jpg?raw=true)](https://github.com/callysto/curriculum-notebooks/blob/master/LICENSE.md)"
   ]
  }
 ],
 "metadata": {
  "kernelspec": {
   "display_name": "Python 3",
   "language": "python",
   "name": "python3"
  },
  "language_info": {
   "codemirror_mode": {
    "name": "ipython",
    "version": 3
   },
   "file_extension": ".py",
   "mimetype": "text/x-python",
   "name": "python",
   "nbconvert_exporter": "python",
   "pygments_lexer": "ipython3",
   "version": "3.7.4"
  },
  "latex_envs": {
   "LaTeX_envs_menu_present": true,
   "autoclose": false,
   "autocomplete": true,
   "bibliofile": "biblio.bib",
   "cite_by": "apalike",
   "current_citInitial": 1,
   "eqLabelWithNumbers": true,
   "eqNumInitial": 1,
   "hotkeys": {
    "equation": "Ctrl-E",
    "itemize": "Ctrl-I"
   },
   "labels_anchors": false,
   "latex_user_defs": false,
   "report_style_numbering": false,
   "user_envs_cfg": false
  },
  "nbTranslate": {
   "displayLangs": [
    "*"
   ],
   "hotkey": "alt-t",
   "langInMainMenu": true,
   "sourceLang": "en",
   "targetLang": "fr",
   "useGoogleTranslate": true
  },
  "widgets": {
   "application/vnd.jupyter.widget-state+json": {
    "state": {
     "00ccd70c8c594d989974e84c24c7ffd9": {
      "model_module": "@jupyter-widgets/controls",
      "model_module_version": "1.5.0",
      "model_name": "VBoxModel",
      "state": {
       "_dom_classes": [
        "widget-interact"
       ],
       "_model_module": "@jupyter-widgets/controls",
       "_model_module_version": "1.5.0",
       "_model_name": "VBoxModel",
       "_view_count": null,
       "_view_module": "@jupyter-widgets/controls",
       "_view_module_version": "1.5.0",
       "_view_name": "VBoxView",
       "box_style": "",
       "children": [
        "IPY_MODEL_8aaa20a12baf49bab405d8f7118c98f9",
        "IPY_MODEL_5e430f23f9cd43a9b4992ba9b95ca52a",
        "IPY_MODEL_119fd5b85ac74007bed74cfac7a5c942",
        "IPY_MODEL_42bd5fdba26d4eeaa9e76248905be167"
       ],
       "layout": "IPY_MODEL_98ed91af0228482e81999bff82ab2e64"
      }
     },
     "01ce547b42094919b83731c5b63dfdce": {
      "model_module": "@jupyter-widgets/controls",
      "model_module_version": "1.5.0",
      "model_name": "HTMLModel",
      "state": {
       "_dom_classes": [],
       "_model_module": "@jupyter-widgets/controls",
       "_model_module_version": "1.5.0",
       "_model_name": "HTMLModel",
       "_view_count": null,
       "_view_module": "@jupyter-widgets/controls",
       "_view_module_version": "1.5.0",
       "_view_name": "HTMLView",
       "description": "",
       "description_tooltip": null,
       "layout": "IPY_MODEL_2859665894654a939c52aef8c6d134c9",
       "placeholder": "​",
       "style": "IPY_MODEL_729a0e17bad94c2ab305b6f58974eadc",
       "value": ""
      }
     },
     "01f5b44deb424f75a75f70db78f2bdd2": {
      "model_module": "@jupyter-widgets/controls",
      "model_module_version": "1.5.0",
      "model_name": "ButtonModel",
      "state": {
       "_dom_classes": [],
       "_model_module": "@jupyter-widgets/controls",
       "_model_module_version": "1.5.0",
       "_model_name": "ButtonModel",
       "_view_count": null,
       "_view_module": "@jupyter-widgets/controls",
       "_view_module_version": "1.5.0",
       "_view_name": "ButtonView",
       "button_style": "",
       "description": "Graph",
       "disabled": false,
       "icon": "",
       "layout": "IPY_MODEL_cb97e5ad7879418faee7b7f93666a5a6",
       "style": "IPY_MODEL_b15d53f29ba248a5992c02feb80875c8",
       "tooltip": ""
      }
     },
     "02112d7cb1ad45259e42970f7dcaa29b": {
      "model_module": "@jupyter-widgets/controls",
      "model_module_version": "1.5.0",
      "model_name": "DescriptionStyleModel",
      "state": {
       "_model_module": "@jupyter-widgets/controls",
       "_model_module_version": "1.5.0",
       "_model_name": "DescriptionStyleModel",
       "_view_count": null,
       "_view_module": "@jupyter-widgets/base",
       "_view_module_version": "1.2.0",
       "_view_name": "StyleView",
       "description_width": ""
      }
     },
     "069ae3cffdbf4b228c21c8f21c550ba6": {
      "model_module": "@jupyter-widgets/base",
      "model_module_version": "1.2.0",
      "model_name": "LayoutModel",
      "state": {
       "_model_module": "@jupyter-widgets/base",
       "_model_module_version": "1.2.0",
       "_model_name": "LayoutModel",
       "_view_count": null,
       "_view_module": "@jupyter-widgets/base",
       "_view_module_version": "1.2.0",
       "_view_name": "LayoutView",
       "align_content": null,
       "align_items": null,
       "align_self": null,
       "border": null,
       "bottom": null,
       "display": null,
       "flex": null,
       "flex_flow": null,
       "grid_area": null,
       "grid_auto_columns": null,
       "grid_auto_flow": null,
       "grid_auto_rows": null,
       "grid_column": null,
       "grid_gap": null,
       "grid_row": null,
       "grid_template_areas": null,
       "grid_template_columns": null,
       "grid_template_rows": null,
       "height": null,
       "justify_content": null,
       "justify_items": null,
       "left": null,
       "margin": null,
       "max_height": null,
       "max_width": null,
       "min_height": null,
       "min_width": null,
       "object_fit": null,
       "object_position": null,
       "order": null,
       "overflow": null,
       "overflow_x": null,
       "overflow_y": null,
       "padding": null,
       "right": null,
       "top": null,
       "visibility": null,
       "width": null
      }
     },
     "06f9ac137bb7418d9790dea99b921501": {
      "model_module": "@jupyter-widgets/controls",
      "model_module_version": "1.5.0",
      "model_name": "DescriptionStyleModel",
      "state": {
       "_model_module": "@jupyter-widgets/controls",
       "_model_module_version": "1.5.0",
       "_model_name": "DescriptionStyleModel",
       "_view_count": null,
       "_view_module": "@jupyter-widgets/base",
       "_view_module_version": "1.2.0",
       "_view_name": "StyleView",
       "description_width": ""
      }
     },
     "0727b0210ac344eeae8c7b680afc0be2": {
      "model_module": "@jupyter-widgets/controls",
      "model_module_version": "1.5.0",
      "model_name": "CheckboxModel",
      "state": {
       "_dom_classes": [],
       "_model_module": "@jupyter-widgets/controls",
       "_model_module_version": "1.5.0",
       "_model_name": "CheckboxModel",
       "_view_count": null,
       "_view_module": "@jupyter-widgets/controls",
       "_view_module_version": "1.5.0",
       "_view_name": "CheckboxView",
       "description": "$\\sin$($x$)$+\\cos$($x$)",
       "description_tooltip": null,
       "disabled": false,
       "indent": true,
       "layout": "IPY_MODEL_a0534921cdf242ffac0d743316fa23ed",
       "style": "IPY_MODEL_a93b6cb2a87c480aaede828416db4aa1",
       "value": false
      }
     },
     "07526b3ff8a44e0fbee1898c890b69da": {
      "model_module": "@jupyter-widgets/base",
      "model_module_version": "1.2.0",
      "model_name": "LayoutModel",
      "state": {
       "_model_module": "@jupyter-widgets/base",
       "_model_module_version": "1.2.0",
       "_model_name": "LayoutModel",
       "_view_count": null,
       "_view_module": "@jupyter-widgets/base",
       "_view_module_version": "1.2.0",
       "_view_name": "LayoutView",
       "align_content": null,
       "align_items": null,
       "align_self": null,
       "border": null,
       "bottom": null,
       "display": null,
       "flex": null,
       "flex_flow": null,
       "grid_area": null,
       "grid_auto_columns": null,
       "grid_auto_flow": null,
       "grid_auto_rows": null,
       "grid_column": null,
       "grid_gap": null,
       "grid_row": null,
       "grid_template_areas": null,
       "grid_template_columns": null,
       "grid_template_rows": null,
       "height": null,
       "justify_content": null,
       "justify_items": null,
       "left": null,
       "margin": null,
       "max_height": null,
       "max_width": null,
       "min_height": null,
       "min_width": null,
       "object_fit": null,
       "object_position": null,
       "order": null,
       "overflow": null,
       "overflow_x": null,
       "overflow_y": null,
       "padding": null,
       "right": null,
       "top": null,
       "visibility": null,
       "width": null
      }
     },
     "07a4adb8d5254b1ebd17a8b18b526dc8": {
      "model_module": "@jupyter-widgets/controls",
      "model_module_version": "1.5.0",
      "model_name": "CheckboxModel",
      "state": {
       "_dom_classes": [],
       "_model_module": "@jupyter-widgets/controls",
       "_model_module_version": "1.5.0",
       "_model_name": "CheckboxModel",
       "_view_count": null,
       "_view_module": "@jupyter-widgets/controls",
       "_view_module_version": "1.5.0",
       "_view_name": "CheckboxView",
       "description": "$x^2$$+5x$$-8x^3$",
       "description_tooltip": null,
       "disabled": false,
       "indent": true,
       "layout": "IPY_MODEL_371642b981cc431e9c4fde6963d75f84",
       "style": "IPY_MODEL_e5adc9334fe648aeb17b9a2f04f70353",
       "value": false
      }
     },
     "0855a04a70f54959a0708680a034744f": {
      "model_module": "@jupyter-widgets/controls",
      "model_module_version": "1.5.0",
      "model_name": "HBoxModel",
      "state": {
       "_dom_classes": [],
       "_model_module": "@jupyter-widgets/controls",
       "_model_module_version": "1.5.0",
       "_model_name": "HBoxModel",
       "_view_count": null,
       "_view_module": "@jupyter-widgets/controls",
       "_view_module_version": "1.5.0",
       "_view_name": "HBoxView",
       "box_style": "",
       "children": [
        "IPY_MODEL_f4346879773344838cd3bd9411cb6dea",
        "IPY_MODEL_c0d86ef1a9d8490aafaefed354cd72d9"
       ],
       "layout": "IPY_MODEL_c67a953a11bc4381b7f29f0ffb42274e"
      }
     },
     "08e5c94b65f0495b8bb085057de3fbff": {
      "model_module": "@jupyter-widgets/controls",
      "model_module_version": "1.5.0",
      "model_name": "TextModel",
      "state": {
       "_dom_classes": [],
       "_model_module": "@jupyter-widgets/controls",
       "_model_module_version": "1.5.0",
       "_model_name": "TextModel",
       "_view_count": null,
       "_view_module": "@jupyter-widgets/controls",
       "_view_module_version": "1.5.0",
       "_view_name": "TextView",
       "continuous_update": true,
       "description": "",
       "description_tooltip": null,
       "disabled": false,
       "layout": "IPY_MODEL_e11e11b8b172454ca93c52ca4edecc99",
       "placeholder": "Enter interval",
       "style": "IPY_MODEL_8516f9c4e5384ab0992d982faa7e2578",
       "value": ""
      }
     },
     "091074011ab643c8b7da4e26d886e848": {
      "model_module": "@jupyter-widgets/controls",
      "model_module_version": "1.5.0",
      "model_name": "ButtonStyleModel",
      "state": {
       "_model_module": "@jupyter-widgets/controls",
       "_model_module_version": "1.5.0",
       "_model_name": "ButtonStyleModel",
       "_view_count": null,
       "_view_module": "@jupyter-widgets/base",
       "_view_module_version": "1.2.0",
       "_view_name": "StyleView",
       "button_color": null,
       "font_weight": ""
      }
     },
     "09df20e752544253b5a08a58180906b2": {
      "model_module": "@jupyter-widgets/controls",
      "model_module_version": "1.5.0",
      "model_name": "HBoxModel",
      "state": {
       "_dom_classes": [],
       "_model_module": "@jupyter-widgets/controls",
       "_model_module_version": "1.5.0",
       "_model_name": "HBoxModel",
       "_view_count": null,
       "_view_module": "@jupyter-widgets/controls",
       "_view_module_version": "1.5.0",
       "_view_name": "HBoxView",
       "box_style": "",
       "children": [
        "IPY_MODEL_7713d98ba3c448e0965dd6becbe371e7",
        "IPY_MODEL_c9a7508152d448c28da5a38359d6ecb8"
       ],
       "layout": "IPY_MODEL_47604fd7556742d7a9f8e723188be131"
      }
     },
     "0ce955a0bd5043d2a8b2e64d24e050c0": {
      "model_module": "@jupyter-widgets/base",
      "model_module_version": "1.2.0",
      "model_name": "LayoutModel",
      "state": {
       "_model_module": "@jupyter-widgets/base",
       "_model_module_version": "1.2.0",
       "_model_name": "LayoutModel",
       "_view_count": null,
       "_view_module": "@jupyter-widgets/base",
       "_view_module_version": "1.2.0",
       "_view_name": "LayoutView",
       "align_content": null,
       "align_items": null,
       "align_self": null,
       "border": null,
       "bottom": null,
       "display": null,
       "flex": null,
       "flex_flow": null,
       "grid_area": null,
       "grid_auto_columns": null,
       "grid_auto_flow": null,
       "grid_auto_rows": null,
       "grid_column": null,
       "grid_gap": null,
       "grid_row": null,
       "grid_template_areas": null,
       "grid_template_columns": null,
       "grid_template_rows": null,
       "height": null,
       "justify_content": null,
       "justify_items": null,
       "left": null,
       "margin": null,
       "max_height": null,
       "max_width": null,
       "min_height": null,
       "min_width": null,
       "object_fit": null,
       "object_position": null,
       "order": null,
       "overflow": null,
       "overflow_x": null,
       "overflow_y": null,
       "padding": null,
       "right": null,
       "top": null,
       "visibility": null,
       "width": null
      }
     },
     "0d8d97ef807e420ca2037322f502d7e8": {
      "model_module": "@jupyter-widgets/base",
      "model_module_version": "1.2.0",
      "model_name": "LayoutModel",
      "state": {
       "_model_module": "@jupyter-widgets/base",
       "_model_module_version": "1.2.0",
       "_model_name": "LayoutModel",
       "_view_count": null,
       "_view_module": "@jupyter-widgets/base",
       "_view_module_version": "1.2.0",
       "_view_name": "LayoutView",
       "align_content": null,
       "align_items": null,
       "align_self": null,
       "border": null,
       "bottom": null,
       "display": null,
       "flex": null,
       "flex_flow": null,
       "grid_area": null,
       "grid_auto_columns": null,
       "grid_auto_flow": null,
       "grid_auto_rows": null,
       "grid_column": null,
       "grid_gap": null,
       "grid_row": null,
       "grid_template_areas": null,
       "grid_template_columns": null,
       "grid_template_rows": null,
       "height": null,
       "justify_content": null,
       "justify_items": null,
       "left": null,
       "margin": null,
       "max_height": null,
       "max_width": null,
       "min_height": null,
       "min_width": null,
       "object_fit": null,
       "object_position": null,
       "order": null,
       "overflow": null,
       "overflow_x": null,
       "overflow_y": null,
       "padding": null,
       "right": null,
       "top": null,
       "visibility": null,
       "width": null
      }
     },
     "0f8c9de2d61f490da3ea5b4efd399276": {
      "model_module": "@jupyter-widgets/controls",
      "model_module_version": "1.5.0",
      "model_name": "ButtonModel",
      "state": {
       "_dom_classes": [],
       "_model_module": "@jupyter-widgets/controls",
       "_model_module_version": "1.5.0",
       "_model_name": "ButtonModel",
       "_view_count": null,
       "_view_module": "@jupyter-widgets/controls",
       "_view_module_version": "1.5.0",
       "_view_name": "ButtonView",
       "button_style": "",
       "description": "Check your answer",
       "disabled": false,
       "icon": "",
       "layout": "IPY_MODEL_db0dd45ad4794cdab67bc72cefddbc85",
       "style": "IPY_MODEL_f27ac1e94b7a45eeb5b2646c39431090",
       "tooltip": ""
      }
     },
     "10793b1a7fd44cd187dcbc4165f7d9c6": {
      "model_module": "@jupyter-widgets/base",
      "model_module_version": "1.2.0",
      "model_name": "LayoutModel",
      "state": {
       "_model_module": "@jupyter-widgets/base",
       "_model_module_version": "1.2.0",
       "_model_name": "LayoutModel",
       "_view_count": null,
       "_view_module": "@jupyter-widgets/base",
       "_view_module_version": "1.2.0",
       "_view_name": "LayoutView",
       "align_content": null,
       "align_items": null,
       "align_self": null,
       "border": null,
       "bottom": null,
       "display": null,
       "flex": null,
       "flex_flow": null,
       "grid_area": null,
       "grid_auto_columns": null,
       "grid_auto_flow": null,
       "grid_auto_rows": null,
       "grid_column": null,
       "grid_gap": null,
       "grid_row": null,
       "grid_template_areas": null,
       "grid_template_columns": null,
       "grid_template_rows": null,
       "height": null,
       "justify_content": null,
       "justify_items": null,
       "left": null,
       "margin": null,
       "max_height": null,
       "max_width": null,
       "min_height": null,
       "min_width": null,
       "object_fit": null,
       "object_position": null,
       "order": null,
       "overflow": null,
       "overflow_x": null,
       "overflow_y": null,
       "padding": null,
       "right": null,
       "top": null,
       "visibility": null,
       "width": null
      }
     },
     "119fd5b85ac74007bed74cfac7a5c942": {
      "model_module": "@jupyter-widgets/controls",
      "model_module_version": "1.5.0",
      "model_name": "IntSliderModel",
      "state": {
       "_dom_classes": [],
       "_model_module": "@jupyter-widgets/controls",
       "_model_module_version": "1.5.0",
       "_model_name": "IntSliderModel",
       "_view_count": null,
       "_view_module": "@jupyter-widgets/controls",
       "_view_module_version": "1.5.0",
       "_view_name": "IntSliderView",
       "continuous_update": false,
       "description": "x3",
       "description_tooltip": null,
       "disabled": false,
       "layout": "IPY_MODEL_ffd3397e478541e1875bad5d2ab93783",
       "max": 10,
       "min": -10,
       "orientation": "horizontal",
       "readout": true,
       "readout_format": "d",
       "step": 1,
       "style": "IPY_MODEL_aff9322eec2349f890da3e4dba092757",
       "value": 0
      }
     },
     "12aa4a26a2c442149a5a6f92fd159a99": {
      "model_module": "@jupyter-widgets/base",
      "model_module_version": "1.2.0",
      "model_name": "LayoutModel",
      "state": {
       "_model_module": "@jupyter-widgets/base",
       "_model_module_version": "1.2.0",
       "_model_name": "LayoutModel",
       "_view_count": null,
       "_view_module": "@jupyter-widgets/base",
       "_view_module_version": "1.2.0",
       "_view_name": "LayoutView",
       "align_content": null,
       "align_items": null,
       "align_self": null,
       "border": null,
       "bottom": null,
       "display": null,
       "flex": null,
       "flex_flow": null,
       "grid_area": null,
       "grid_auto_columns": null,
       "grid_auto_flow": null,
       "grid_auto_rows": null,
       "grid_column": null,
       "grid_gap": null,
       "grid_row": null,
       "grid_template_areas": null,
       "grid_template_columns": null,
       "grid_template_rows": null,
       "height": null,
       "justify_content": null,
       "justify_items": null,
       "left": null,
       "margin": null,
       "max_height": null,
       "max_width": null,
       "min_height": null,
       "min_width": null,
       "object_fit": null,
       "object_position": null,
       "order": null,
       "overflow": null,
       "overflow_x": null,
       "overflow_y": null,
       "padding": null,
       "right": null,
       "top": null,
       "visibility": null,
       "width": null
      }
     },
     "13d4149307c14b238c92b0377a58caec": {
      "model_module": "@jupyter-widgets/controls",
      "model_module_version": "1.5.0",
      "model_name": "ButtonStyleModel",
      "state": {
       "_model_module": "@jupyter-widgets/controls",
       "_model_module_version": "1.5.0",
       "_model_name": "ButtonStyleModel",
       "_view_count": null,
       "_view_module": "@jupyter-widgets/base",
       "_view_module_version": "1.2.0",
       "_view_name": "StyleView",
       "button_color": null,
       "font_weight": ""
      }
     },
     "14e9bf2a6f7f412e932f40ce19a75ee6": {
      "model_module": "@jupyter-widgets/controls",
      "model_module_version": "1.5.0",
      "model_name": "HTMLModel",
      "state": {
       "_dom_classes": [],
       "_model_module": "@jupyter-widgets/controls",
       "_model_module_version": "1.5.0",
       "_model_name": "HTMLModel",
       "_view_count": null,
       "_view_module": "@jupyter-widgets/controls",
       "_view_module_version": "1.5.0",
       "_view_name": "HTMLView",
       "description": "",
       "description_tooltip": null,
       "layout": "IPY_MODEL_912c1791dec14424b282f022ff165d62",
       "placeholder": "​",
       "style": "IPY_MODEL_ff96993d1525452c98aeff4b76294188",
       "value": ""
      }
     },
     "17f86def1f344aaa93226a0cd5752767": {
      "model_module": "@jupyter-widgets/base",
      "model_module_version": "1.2.0",
      "model_name": "LayoutModel",
      "state": {
       "_model_module": "@jupyter-widgets/base",
       "_model_module_version": "1.2.0",
       "_model_name": "LayoutModel",
       "_view_count": null,
       "_view_module": "@jupyter-widgets/base",
       "_view_module_version": "1.2.0",
       "_view_name": "LayoutView",
       "align_content": null,
       "align_items": null,
       "align_self": null,
       "border": null,
       "bottom": null,
       "display": null,
       "flex": null,
       "flex_flow": null,
       "grid_area": null,
       "grid_auto_columns": null,
       "grid_auto_flow": null,
       "grid_auto_rows": null,
       "grid_column": null,
       "grid_gap": null,
       "grid_row": null,
       "grid_template_areas": null,
       "grid_template_columns": null,
       "grid_template_rows": null,
       "height": null,
       "justify_content": null,
       "justify_items": null,
       "left": null,
       "margin": null,
       "max_height": null,
       "max_width": null,
       "min_height": null,
       "min_width": null,
       "object_fit": null,
       "object_position": null,
       "order": null,
       "overflow": null,
       "overflow_x": null,
       "overflow_y": null,
       "padding": null,
       "right": null,
       "top": null,
       "visibility": null,
       "width": null
      }
     },
     "1804a95fac7b4f40858950dcbe513f4a": {
      "model_module": "@jupyter-widgets/base",
      "model_module_version": "1.2.0",
      "model_name": "LayoutModel",
      "state": {
       "_model_module": "@jupyter-widgets/base",
       "_model_module_version": "1.2.0",
       "_model_name": "LayoutModel",
       "_view_count": null,
       "_view_module": "@jupyter-widgets/base",
       "_view_module_version": "1.2.0",
       "_view_name": "LayoutView",
       "align_content": null,
       "align_items": null,
       "align_self": null,
       "border": null,
       "bottom": null,
       "display": null,
       "flex": null,
       "flex_flow": null,
       "grid_area": null,
       "grid_auto_columns": null,
       "grid_auto_flow": null,
       "grid_auto_rows": null,
       "grid_column": null,
       "grid_gap": null,
       "grid_row": null,
       "grid_template_areas": null,
       "grid_template_columns": null,
       "grid_template_rows": null,
       "height": null,
       "justify_content": null,
       "justify_items": null,
       "left": null,
       "margin": null,
       "max_height": null,
       "max_width": null,
       "min_height": null,
       "min_width": null,
       "object_fit": null,
       "object_position": null,
       "order": null,
       "overflow": null,
       "overflow_x": null,
       "overflow_y": null,
       "padding": null,
       "right": null,
       "top": null,
       "visibility": null,
       "width": null
      }
     },
     "183bd76cc4ee4551ad5f2d18bbc12774": {
      "model_module": "@jupyter-widgets/controls",
      "model_module_version": "1.5.0",
      "model_name": "SliderStyleModel",
      "state": {
       "_model_module": "@jupyter-widgets/controls",
       "_model_module_version": "1.5.0",
       "_model_name": "SliderStyleModel",
       "_view_count": null,
       "_view_module": "@jupyter-widgets/base",
       "_view_module_version": "1.2.0",
       "_view_name": "StyleView",
       "description_width": "",
       "handle_color": null
      }
     },
     "1a18854081774fc2ae4233eda34e06e2": {
      "model_module": "@jupyter-widgets/controls",
      "model_module_version": "1.5.0",
      "model_name": "DescriptionStyleModel",
      "state": {
       "_model_module": "@jupyter-widgets/controls",
       "_model_module_version": "1.5.0",
       "_model_name": "DescriptionStyleModel",
       "_view_count": null,
       "_view_module": "@jupyter-widgets/base",
       "_view_module_version": "1.2.0",
       "_view_name": "StyleView",
       "description_width": ""
      }
     },
     "1c47c390f92d4df783b36e4cf5bb3228": {
      "model_module": "@jupyter-widgets/base",
      "model_module_version": "1.2.0",
      "model_name": "LayoutModel",
      "state": {
       "_model_module": "@jupyter-widgets/base",
       "_model_module_version": "1.2.0",
       "_model_name": "LayoutModel",
       "_view_count": null,
       "_view_module": "@jupyter-widgets/base",
       "_view_module_version": "1.2.0",
       "_view_name": "LayoutView",
       "align_content": null,
       "align_items": null,
       "align_self": null,
       "border": null,
       "bottom": null,
       "display": null,
       "flex": null,
       "flex_flow": null,
       "grid_area": null,
       "grid_auto_columns": null,
       "grid_auto_flow": null,
       "grid_auto_rows": null,
       "grid_column": null,
       "grid_gap": null,
       "grid_row": null,
       "grid_template_areas": null,
       "grid_template_columns": null,
       "grid_template_rows": null,
       "height": null,
       "justify_content": null,
       "justify_items": null,
       "left": null,
       "margin": null,
       "max_height": null,
       "max_width": null,
       "min_height": null,
       "min_width": null,
       "object_fit": null,
       "object_position": null,
       "order": null,
       "overflow": null,
       "overflow_x": null,
       "overflow_y": null,
       "padding": null,
       "right": null,
       "top": null,
       "visibility": null,
       "width": null
      }
     },
     "1cfe3e9b36b245ac8903c6d4bfe93c80": {
      "model_module": "@jupyter-widgets/controls",
      "model_module_version": "1.5.0",
      "model_name": "DescriptionStyleModel",
      "state": {
       "_model_module": "@jupyter-widgets/controls",
       "_model_module_version": "1.5.0",
       "_model_name": "DescriptionStyleModel",
       "_view_count": null,
       "_view_module": "@jupyter-widgets/base",
       "_view_module_version": "1.2.0",
       "_view_name": "StyleView",
       "description_width": "initial"
      }
     },
     "1f0530b58d804e1f9e65e1cdb20abbfe": {
      "model_module": "@jupyter-widgets/controls",
      "model_module_version": "1.5.0",
      "model_name": "TextModel",
      "state": {
       "_dom_classes": [],
       "_model_module": "@jupyter-widgets/controls",
       "_model_module_version": "1.5.0",
       "_model_name": "TextModel",
       "_view_count": null,
       "_view_module": "@jupyter-widgets/controls",
       "_view_module_version": "1.5.0",
       "_view_name": "TextView",
       "continuous_update": true,
       "description": "",
       "description_tooltip": null,
       "disabled": false,
       "layout": "IPY_MODEL_7645525a33b34613b29e22605d12c1ca",
       "placeholder": "Enter inequality",
       "style": "IPY_MODEL_1a18854081774fc2ae4233eda34e06e2",
       "value": ""
      }
     },
     "2019db0dc9c24eeebdf964fdfe91d167": {
      "model_module": "@jupyter-widgets/controls",
      "model_module_version": "1.5.0",
      "model_name": "TextModel",
      "state": {
       "_dom_classes": [],
       "_model_module": "@jupyter-widgets/controls",
       "_model_module_version": "1.5.0",
       "_model_name": "TextModel",
       "_view_count": null,
       "_view_module": "@jupyter-widgets/controls",
       "_view_module_version": "1.5.0",
       "_view_name": "TextView",
       "continuous_update": true,
       "description": "$x_2$",
       "description_tooltip": null,
       "disabled": false,
       "layout": "IPY_MODEL_64a48b71f6514617ba55e06dca0aa87d",
       "placeholder": "​",
       "style": "IPY_MODEL_7bcec8bcf1de4a108a82b28557331c0d",
       "value": ""
      }
     },
     "20db051ec8f54e32bb1ccf9486137bfa": {
      "model_module": "@jupyter-widgets/controls",
      "model_module_version": "1.5.0",
      "model_name": "TextModel",
      "state": {
       "_dom_classes": [],
       "_model_module": "@jupyter-widgets/controls",
       "_model_module_version": "1.5.0",
       "_model_name": "TextModel",
       "_view_count": null,
       "_view_module": "@jupyter-widgets/controls",
       "_view_module_version": "1.5.0",
       "_view_name": "TextView",
       "continuous_update": true,
       "description": "",
       "description_tooltip": null,
       "disabled": false,
       "layout": "IPY_MODEL_d82eb8141f5d485e82efed88111796cd",
       "placeholder": "Enter a,b",
       "style": "IPY_MODEL_8e8600a4af8c4e3380fc40c05cc58497",
       "value": ""
      }
     },
     "2107b283769241fdb65261635a92e52b": {
      "model_module": "@jupyter-widgets/controls",
      "model_module_version": "1.5.0",
      "model_name": "CheckboxModel",
      "state": {
       "_dom_classes": [],
       "_model_module": "@jupyter-widgets/controls",
       "_model_module_version": "1.5.0",
       "_model_name": "CheckboxModel",
       "_view_count": null,
       "_view_module": "@jupyter-widgets/controls",
       "_view_module_version": "1.5.0",
       "_view_name": "CheckboxView",
       "description": "$x^5$$-2$",
       "description_tooltip": null,
       "disabled": false,
       "indent": true,
       "layout": "IPY_MODEL_9738988cb2784f9c822d922fa64b7b0a",
       "style": "IPY_MODEL_1cfe3e9b36b245ac8903c6d4bfe93c80",
       "value": false
      }
     },
     "21dded4f2da24655861986236271dce6": {
      "model_module": "@jupyter-widgets/base",
      "model_module_version": "1.2.0",
      "model_name": "LayoutModel",
      "state": {
       "_model_module": "@jupyter-widgets/base",
       "_model_module_version": "1.2.0",
       "_model_name": "LayoutModel",
       "_view_count": null,
       "_view_module": "@jupyter-widgets/base",
       "_view_module_version": "1.2.0",
       "_view_name": "LayoutView",
       "align_content": null,
       "align_items": null,
       "align_self": null,
       "border": null,
       "bottom": null,
       "display": null,
       "flex": null,
       "flex_flow": null,
       "grid_area": null,
       "grid_auto_columns": null,
       "grid_auto_flow": null,
       "grid_auto_rows": null,
       "grid_column": null,
       "grid_gap": null,
       "grid_row": null,
       "grid_template_areas": null,
       "grid_template_columns": null,
       "grid_template_rows": null,
       "height": null,
       "justify_content": null,
       "justify_items": null,
       "left": null,
       "margin": null,
       "max_height": null,
       "max_width": null,
       "min_height": null,
       "min_width": null,
       "object_fit": null,
       "object_position": null,
       "order": null,
       "overflow": null,
       "overflow_x": null,
       "overflow_y": null,
       "padding": null,
       "right": null,
       "top": null,
       "visibility": null,
       "width": null
      }
     },
     "23fe46290b3c44f789f055a819a290a6": {
      "model_module": "@jupyter-widgets/controls",
      "model_module_version": "1.5.0",
      "model_name": "CheckboxModel",
      "state": {
       "_dom_classes": [],
       "_model_module": "@jupyter-widgets/controls",
       "_model_module_version": "1.5.0",
       "_model_name": "CheckboxModel",
       "_view_count": null,
       "_view_module": "@jupyter-widgets/controls",
       "_view_module_version": "1.5.0",
       "_view_name": "CheckboxView",
       "description": "$\\ln$$(x)$",
       "description_tooltip": null,
       "disabled": false,
       "indent": true,
       "layout": "IPY_MODEL_e00f43dc4b9b42b695497ab8abc2b3cd",
       "style": "IPY_MODEL_f55ff3d8b40d475b837698457c1d0072",
       "value": false
      }
     },
     "24615ea74b574e5d856bb744d59d4134": {
      "model_module": "@jupyter-widgets/controls",
      "model_module_version": "1.5.0",
      "model_name": "HBoxModel",
      "state": {
       "_dom_classes": [],
       "_model_module": "@jupyter-widgets/controls",
       "_model_module_version": "1.5.0",
       "_model_name": "HBoxModel",
       "_view_count": null,
       "_view_module": "@jupyter-widgets/controls",
       "_view_module_version": "1.5.0",
       "_view_name": "HBoxView",
       "box_style": "",
       "children": [
        "IPY_MODEL_20db051ec8f54e32bb1ccf9486137bfa",
        "IPY_MODEL_01f5b44deb424f75a75f70db78f2bdd2"
       ],
       "layout": "IPY_MODEL_12aa4a26a2c442149a5a6f92fd159a99"
      }
     },
     "24f5bb22cbd84ec6a46455006b797b88": {
      "model_module": "@jupyter-widgets/base",
      "model_module_version": "1.2.0",
      "model_name": "LayoutModel",
      "state": {
       "_model_module": "@jupyter-widgets/base",
       "_model_module_version": "1.2.0",
       "_model_name": "LayoutModel",
       "_view_count": null,
       "_view_module": "@jupyter-widgets/base",
       "_view_module_version": "1.2.0",
       "_view_name": "LayoutView",
       "align_content": null,
       "align_items": null,
       "align_self": null,
       "border": null,
       "bottom": null,
       "display": null,
       "flex": null,
       "flex_flow": null,
       "grid_area": null,
       "grid_auto_columns": null,
       "grid_auto_flow": null,
       "grid_auto_rows": null,
       "grid_column": null,
       "grid_gap": null,
       "grid_row": null,
       "grid_template_areas": null,
       "grid_template_columns": null,
       "grid_template_rows": null,
       "height": null,
       "justify_content": null,
       "justify_items": null,
       "left": null,
       "margin": null,
       "max_height": null,
       "max_width": null,
       "min_height": null,
       "min_width": null,
       "object_fit": null,
       "object_position": null,
       "order": null,
       "overflow": null,
       "overflow_x": null,
       "overflow_y": null,
       "padding": null,
       "right": null,
       "top": null,
       "visibility": null,
       "width": null
      }
     },
     "2859665894654a939c52aef8c6d134c9": {
      "model_module": "@jupyter-widgets/base",
      "model_module_version": "1.2.0",
      "model_name": "LayoutModel",
      "state": {
       "_model_module": "@jupyter-widgets/base",
       "_model_module_version": "1.2.0",
       "_model_name": "LayoutModel",
       "_view_count": null,
       "_view_module": "@jupyter-widgets/base",
       "_view_module_version": "1.2.0",
       "_view_name": "LayoutView",
       "align_content": null,
       "align_items": null,
       "align_self": null,
       "border": null,
       "bottom": null,
       "display": null,
       "flex": null,
       "flex_flow": null,
       "grid_area": null,
       "grid_auto_columns": null,
       "grid_auto_flow": null,
       "grid_auto_rows": null,
       "grid_column": null,
       "grid_gap": null,
       "grid_row": null,
       "grid_template_areas": null,
       "grid_template_columns": null,
       "grid_template_rows": null,
       "height": null,
       "justify_content": null,
       "justify_items": null,
       "left": null,
       "margin": null,
       "max_height": null,
       "max_width": null,
       "min_height": null,
       "min_width": null,
       "object_fit": null,
       "object_position": null,
       "order": null,
       "overflow": null,
       "overflow_x": null,
       "overflow_y": null,
       "padding": null,
       "right": null,
       "top": null,
       "visibility": null,
       "width": null
      }
     },
     "28c539c42fab4d78a457066d599560fa": {
      "model_module": "@jupyter-widgets/controls",
      "model_module_version": "1.5.0",
      "model_name": "DescriptionStyleModel",
      "state": {
       "_model_module": "@jupyter-widgets/controls",
       "_model_module_version": "1.5.0",
       "_model_name": "DescriptionStyleModel",
       "_view_count": null,
       "_view_module": "@jupyter-widgets/base",
       "_view_module_version": "1.2.0",
       "_view_name": "StyleView",
       "description_width": ""
      }
     },
     "2958119035e440cf92feadc81cefdeda": {
      "model_module": "@jupyter-widgets/controls",
      "model_module_version": "1.5.0",
      "model_name": "DescriptionStyleModel",
      "state": {
       "_model_module": "@jupyter-widgets/controls",
       "_model_module_version": "1.5.0",
       "_model_name": "DescriptionStyleModel",
       "_view_count": null,
       "_view_module": "@jupyter-widgets/base",
       "_view_module_version": "1.2.0",
       "_view_name": "StyleView",
       "description_width": ""
      }
     },
     "29b1de3f4f1c49bd8ac1053938119d85": {
      "model_module": "@jupyter-widgets/base",
      "model_module_version": "1.2.0",
      "model_name": "LayoutModel",
      "state": {
       "_model_module": "@jupyter-widgets/base",
       "_model_module_version": "1.2.0",
       "_model_name": "LayoutModel",
       "_view_count": null,
       "_view_module": "@jupyter-widgets/base",
       "_view_module_version": "1.2.0",
       "_view_name": "LayoutView",
       "align_content": null,
       "align_items": null,
       "align_self": null,
       "border": null,
       "bottom": null,
       "display": null,
       "flex": null,
       "flex_flow": null,
       "grid_area": null,
       "grid_auto_columns": null,
       "grid_auto_flow": null,
       "grid_auto_rows": null,
       "grid_column": null,
       "grid_gap": null,
       "grid_row": null,
       "grid_template_areas": null,
       "grid_template_columns": null,
       "grid_template_rows": null,
       "height": null,
       "justify_content": null,
       "justify_items": null,
       "left": null,
       "margin": null,
       "max_height": null,
       "max_width": null,
       "min_height": null,
       "min_width": null,
       "object_fit": null,
       "object_position": null,
       "order": null,
       "overflow": null,
       "overflow_x": null,
       "overflow_y": null,
       "padding": null,
       "right": null,
       "top": null,
       "visibility": null,
       "width": null
      }
     },
     "2c477482db55450299bd50a3df24f354": {
      "model_module": "@jupyter-widgets/controls",
      "model_module_version": "1.5.0",
      "model_name": "ButtonModel",
      "state": {
       "_dom_classes": [],
       "_model_module": "@jupyter-widgets/controls",
       "_model_module_version": "1.5.0",
       "_model_name": "ButtonModel",
       "_view_count": null,
       "_view_module": "@jupyter-widgets/controls",
       "_view_module_version": "1.5.0",
       "_view_name": "ButtonView",
       "button_style": "",
       "description": "Graph the ploynomial",
       "disabled": false,
       "icon": "",
       "layout": "IPY_MODEL_e6737c2831b34cae93e4cc505ef9d207",
       "style": "IPY_MODEL_9217743ee374476eaa104b191994efb5",
       "tooltip": ""
      }
     },
     "2da3773149834872b3dbd4ebdcf9420c": {
      "model_module": "@jupyter-widgets/base",
      "model_module_version": "1.2.0",
      "model_name": "LayoutModel",
      "state": {
       "_model_module": "@jupyter-widgets/base",
       "_model_module_version": "1.2.0",
       "_model_name": "LayoutModel",
       "_view_count": null,
       "_view_module": "@jupyter-widgets/base",
       "_view_module_version": "1.2.0",
       "_view_name": "LayoutView",
       "align_content": null,
       "align_items": null,
       "align_self": null,
       "border": null,
       "bottom": null,
       "display": null,
       "flex": null,
       "flex_flow": null,
       "grid_area": null,
       "grid_auto_columns": null,
       "grid_auto_flow": null,
       "grid_auto_rows": null,
       "grid_column": null,
       "grid_gap": null,
       "grid_row": null,
       "grid_template_areas": null,
       "grid_template_columns": null,
       "grid_template_rows": null,
       "height": null,
       "justify_content": null,
       "justify_items": null,
       "left": null,
       "margin": null,
       "max_height": null,
       "max_width": null,
       "min_height": null,
       "min_width": null,
       "object_fit": null,
       "object_position": null,
       "order": null,
       "overflow": null,
       "overflow_x": null,
       "overflow_y": null,
       "padding": null,
       "right": null,
       "top": null,
       "visibility": null,
       "width": null
      }
     },
     "2e26955fc1644a25bb2873cd90963f8f": {
      "model_module": "@jupyter-widgets/base",
      "model_module_version": "1.2.0",
      "model_name": "LayoutModel",
      "state": {
       "_model_module": "@jupyter-widgets/base",
       "_model_module_version": "1.2.0",
       "_model_name": "LayoutModel",
       "_view_count": null,
       "_view_module": "@jupyter-widgets/base",
       "_view_module_version": "1.2.0",
       "_view_name": "LayoutView",
       "align_content": null,
       "align_items": null,
       "align_self": null,
       "border": null,
       "bottom": null,
       "display": null,
       "flex": null,
       "flex_flow": null,
       "grid_area": null,
       "grid_auto_columns": null,
       "grid_auto_flow": null,
       "grid_auto_rows": null,
       "grid_column": null,
       "grid_gap": null,
       "grid_row": null,
       "grid_template_areas": null,
       "grid_template_columns": null,
       "grid_template_rows": null,
       "height": null,
       "justify_content": null,
       "justify_items": null,
       "left": null,
       "margin": null,
       "max_height": null,
       "max_width": null,
       "min_height": null,
       "min_width": null,
       "object_fit": null,
       "object_position": null,
       "order": null,
       "overflow": null,
       "overflow_x": null,
       "overflow_y": null,
       "padding": null,
       "right": null,
       "top": null,
       "visibility": null,
       "width": null
      }
     },
     "2e5454c602f84cf4b67e9125c985d543": {
      "model_module": "@jupyter-widgets/base",
      "model_module_version": "1.2.0",
      "model_name": "LayoutModel",
      "state": {
       "_model_module": "@jupyter-widgets/base",
       "_model_module_version": "1.2.0",
       "_model_name": "LayoutModel",
       "_view_count": null,
       "_view_module": "@jupyter-widgets/base",
       "_view_module_version": "1.2.0",
       "_view_name": "LayoutView",
       "align_content": null,
       "align_items": null,
       "align_self": null,
       "border": null,
       "bottom": null,
       "display": null,
       "flex": null,
       "flex_flow": null,
       "grid_area": null,
       "grid_auto_columns": null,
       "grid_auto_flow": null,
       "grid_auto_rows": null,
       "grid_column": null,
       "grid_gap": null,
       "grid_row": null,
       "grid_template_areas": null,
       "grid_template_columns": null,
       "grid_template_rows": null,
       "height": null,
       "justify_content": null,
       "justify_items": null,
       "left": null,
       "margin": null,
       "max_height": null,
       "max_width": null,
       "min_height": null,
       "min_width": null,
       "object_fit": null,
       "object_position": null,
       "order": null,
       "overflow": null,
       "overflow_x": null,
       "overflow_y": null,
       "padding": null,
       "right": null,
       "top": null,
       "visibility": null,
       "width": null
      }
     },
     "35f6a08d90bf4074a496b29637369499": {
      "model_module": "@jupyter-widgets/base",
      "model_module_version": "1.2.0",
      "model_name": "LayoutModel",
      "state": {
       "_model_module": "@jupyter-widgets/base",
       "_model_module_version": "1.2.0",
       "_model_name": "LayoutModel",
       "_view_count": null,
       "_view_module": "@jupyter-widgets/base",
       "_view_module_version": "1.2.0",
       "_view_name": "LayoutView",
       "align_content": null,
       "align_items": null,
       "align_self": null,
       "border": null,
       "bottom": null,
       "display": null,
       "flex": null,
       "flex_flow": null,
       "grid_area": null,
       "grid_auto_columns": null,
       "grid_auto_flow": null,
       "grid_auto_rows": null,
       "grid_column": null,
       "grid_gap": null,
       "grid_row": null,
       "grid_template_areas": null,
       "grid_template_columns": null,
       "grid_template_rows": null,
       "height": null,
       "justify_content": null,
       "justify_items": null,
       "left": null,
       "margin": null,
       "max_height": null,
       "max_width": null,
       "min_height": null,
       "min_width": null,
       "object_fit": null,
       "object_position": null,
       "order": null,
       "overflow": null,
       "overflow_x": null,
       "overflow_y": null,
       "padding": null,
       "right": null,
       "top": null,
       "visibility": null,
       "width": null
      }
     },
     "371642b981cc431e9c4fde6963d75f84": {
      "model_module": "@jupyter-widgets/base",
      "model_module_version": "1.2.0",
      "model_name": "LayoutModel",
      "state": {
       "_model_module": "@jupyter-widgets/base",
       "_model_module_version": "1.2.0",
       "_model_name": "LayoutModel",
       "_view_count": null,
       "_view_module": "@jupyter-widgets/base",
       "_view_module_version": "1.2.0",
       "_view_name": "LayoutView",
       "align_content": null,
       "align_items": null,
       "align_self": null,
       "border": null,
       "bottom": null,
       "display": null,
       "flex": null,
       "flex_flow": null,
       "grid_area": null,
       "grid_auto_columns": null,
       "grid_auto_flow": null,
       "grid_auto_rows": null,
       "grid_column": null,
       "grid_gap": null,
       "grid_row": null,
       "grid_template_areas": null,
       "grid_template_columns": null,
       "grid_template_rows": null,
       "height": null,
       "justify_content": null,
       "justify_items": null,
       "left": null,
       "margin": null,
       "max_height": null,
       "max_width": null,
       "min_height": null,
       "min_width": null,
       "object_fit": null,
       "object_position": null,
       "order": null,
       "overflow": null,
       "overflow_x": null,
       "overflow_y": null,
       "padding": null,
       "right": null,
       "top": null,
       "visibility": null,
       "width": null
      }
     },
     "383cfae1b789469693bb1f1a41cae5d5": {
      "model_module": "@jupyter-widgets/controls",
      "model_module_version": "1.5.0",
      "model_name": "HBoxModel",
      "state": {
       "_dom_classes": [],
       "_model_module": "@jupyter-widgets/controls",
       "_model_module_version": "1.5.0",
       "_model_name": "HBoxModel",
       "_view_count": null,
       "_view_module": "@jupyter-widgets/controls",
       "_view_module_version": "1.5.0",
       "_view_name": "HBoxView",
       "box_style": "",
       "children": [
        "IPY_MODEL_0f8c9de2d61f490da3ea5b4efd399276",
        "IPY_MODEL_45877244fc774bf89c50137a3341a5fa"
       ],
       "layout": "IPY_MODEL_2e26955fc1644a25bb2873cd90963f8f"
      }
     },
     "3b50e3bc66d84fa5b71ea0e853914447": {
      "model_module": "@jupyter-widgets/controls",
      "model_module_version": "1.5.0",
      "model_name": "HBoxModel",
      "state": {
       "_dom_classes": [],
       "_model_module": "@jupyter-widgets/controls",
       "_model_module_version": "1.5.0",
       "_model_name": "HBoxModel",
       "_view_count": null,
       "_view_module": "@jupyter-widgets/controls",
       "_view_module_version": "1.5.0",
       "_view_name": "HBoxView",
       "box_style": "",
       "children": [
        "IPY_MODEL_e4a154afcfec432289eb6eaa13688dac",
        "IPY_MODEL_9114851076784214b2182e9d344df7ce"
       ],
       "layout": "IPY_MODEL_efb8485c0663478887c7fba302139112"
      }
     },
     "3b7b311fae4442d182724a573cea9d53": {
      "model_module": "@jupyter-widgets/base",
      "model_module_version": "1.2.0",
      "model_name": "LayoutModel",
      "state": {
       "_model_module": "@jupyter-widgets/base",
       "_model_module_version": "1.2.0",
       "_model_name": "LayoutModel",
       "_view_count": null,
       "_view_module": "@jupyter-widgets/base",
       "_view_module_version": "1.2.0",
       "_view_name": "LayoutView",
       "align_content": null,
       "align_items": null,
       "align_self": null,
       "border": null,
       "bottom": null,
       "display": null,
       "flex": null,
       "flex_flow": null,
       "grid_area": null,
       "grid_auto_columns": null,
       "grid_auto_flow": null,
       "grid_auto_rows": null,
       "grid_column": null,
       "grid_gap": null,
       "grid_row": null,
       "grid_template_areas": null,
       "grid_template_columns": null,
       "grid_template_rows": null,
       "height": null,
       "justify_content": null,
       "justify_items": null,
       "left": null,
       "margin": null,
       "max_height": null,
       "max_width": null,
       "min_height": null,
       "min_width": null,
       "object_fit": null,
       "object_position": null,
       "order": null,
       "overflow": null,
       "overflow_x": null,
       "overflow_y": null,
       "padding": null,
       "right": null,
       "top": null,
       "visibility": null,
       "width": null
      }
     },
     "3bcfa85ed94848d09eac2dbc2e142411": {
      "model_module": "@jupyter-widgets/controls",
      "model_module_version": "1.5.0",
      "model_name": "CheckboxModel",
      "state": {
       "_dom_classes": [],
       "_model_module": "@jupyter-widgets/controls",
       "_model_module_version": "1.5.0",
       "_model_name": "CheckboxModel",
       "_view_count": null,
       "_view_module": "@jupyter-widgets/controls",
       "_view_module_version": "1.5.0",
       "_view_name": "CheckboxView",
       "description": "$[$$-5$$,4$$]$",
       "description_tooltip": null,
       "disabled": false,
       "indent": true,
       "layout": "IPY_MODEL_069ae3cffdbf4b228c21c8f21c550ba6",
       "style": "IPY_MODEL_06f9ac137bb7418d9790dea99b921501",
       "value": false
      }
     },
     "3dcb89758997431682939ef3ce3dba34": {
      "model_module": "@jupyter-widgets/controls",
      "model_module_version": "1.5.0",
      "model_name": "HTMLModel",
      "state": {
       "_dom_classes": [],
       "_model_module": "@jupyter-widgets/controls",
       "_model_module_version": "1.5.0",
       "_model_name": "HTMLModel",
       "_view_count": null,
       "_view_module": "@jupyter-widgets/controls",
       "_view_module_version": "1.5.0",
       "_view_name": "HTMLView",
       "description": "",
       "description_tooltip": null,
       "layout": "IPY_MODEL_07526b3ff8a44e0fbee1898c890b69da",
       "placeholder": "​",
       "style": "IPY_MODEL_cff51cd355dd4f4dbb2a131321f73ae8",
       "value": ""
      }
     },
     "40b882a1e6a249719fab7de6417a81a4": {
      "model_module": "@jupyter-widgets/controls",
      "model_module_version": "1.5.0",
      "model_name": "ButtonStyleModel",
      "state": {
       "_model_module": "@jupyter-widgets/controls",
       "_model_module_version": "1.5.0",
       "_model_name": "ButtonStyleModel",
       "_view_count": null,
       "_view_module": "@jupyter-widgets/base",
       "_view_module_version": "1.2.0",
       "_view_name": "StyleView",
       "button_color": null,
       "font_weight": ""
      }
     },
     "415f4a553b61446dbdab2600507bfbdd": {
      "model_module": "@jupyter-widgets/controls",
      "model_module_version": "1.5.0",
      "model_name": "CheckboxModel",
      "state": {
       "_dom_classes": [],
       "_model_module": "@jupyter-widgets/controls",
       "_model_module_version": "1.5.0",
       "_model_name": "CheckboxModel",
       "_view_count": null,
       "_view_module": "@jupyter-widgets/controls",
       "_view_module_version": "1.5.0",
       "_view_name": "CheckboxView",
       "description": "[$-5$$,3$]$U$[$4,$$\\infty$)",
       "description_tooltip": null,
       "disabled": false,
       "indent": true,
       "layout": "IPY_MODEL_10793b1a7fd44cd187dcbc4165f7d9c6",
       "style": "IPY_MODEL_28c539c42fab4d78a457066d599560fa",
       "value": false
      }
     },
     "41ba8fe715fa450884e48b0c9300cb6b": {
      "model_module": "@jupyter-widgets/controls",
      "model_module_version": "1.5.0",
      "model_name": "DescriptionStyleModel",
      "state": {
       "_model_module": "@jupyter-widgets/controls",
       "_model_module_version": "1.5.0",
       "_model_name": "DescriptionStyleModel",
       "_view_count": null,
       "_view_module": "@jupyter-widgets/base",
       "_view_module_version": "1.2.0",
       "_view_name": "StyleView",
       "description_width": ""
      }
     },
     "41c48f175a56422b9d4919f4a4eca511": {
      "model_module": "@jupyter-widgets/controls",
      "model_module_version": "1.5.0",
      "model_name": "HBoxModel",
      "state": {
       "_dom_classes": [],
       "_model_module": "@jupyter-widgets/controls",
       "_model_module_version": "1.5.0",
       "_model_name": "HBoxModel",
       "_view_count": null,
       "_view_module": "@jupyter-widgets/controls",
       "_view_module_version": "1.5.0",
       "_view_name": "HBoxView",
       "box_style": "",
       "children": [
        "IPY_MODEL_b2de487582044968b44c1a645a2ab76c",
        "IPY_MODEL_8247a93a0d624160b6d91aa2402fc447"
       ],
       "layout": "IPY_MODEL_667e0fb1c41e45318fe14d68f266b041"
      }
     },
     "42bd5fdba26d4eeaa9e76248905be167": {
      "model_module": "@jupyter-widgets/output",
      "model_module_version": "1.0.0",
      "model_name": "OutputModel",
      "state": {
       "_dom_classes": [],
       "_model_module": "@jupyter-widgets/output",
       "_model_module_version": "1.0.0",
       "_model_name": "OutputModel",
       "_view_count": null,
       "_view_module": "@jupyter-widgets/output",
       "_view_module_version": "1.0.0",
       "_view_name": "OutputView",
       "layout": "IPY_MODEL_9d8dc33e84784533915f73a7f4dc97a5",
       "msg_id": "",
       "outputs": [
        {
         "data": {
          "image/png": "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\n",
          "text/plain": "<Figure size 792x576 with 1 Axes>"
         },
         "metadata": {
          "needs_background": "light"
         },
         "output_type": "display_data"
        }
       ]
      }
     },
     "43ed779705924a3bb2e13dabde852e02": {
      "model_module": "@jupyter-widgets/controls",
      "model_module_version": "1.5.0",
      "model_name": "ButtonModel",
      "state": {
       "_dom_classes": [],
       "_model_module": "@jupyter-widgets/controls",
       "_model_module_version": "1.5.0",
       "_model_name": "ButtonModel",
       "_view_count": null,
       "_view_module": "@jupyter-widgets/controls",
       "_view_module_version": "1.5.0",
       "_view_name": "ButtonView",
       "button_style": "",
       "description": "Shade",
       "disabled": false,
       "icon": "",
       "layout": "IPY_MODEL_e3a88e9c60e949bc99694717ee0ba324",
       "style": "IPY_MODEL_e1fc5a0857234965a75948339899ef11",
       "tooltip": ""
      }
     },
     "45877244fc774bf89c50137a3341a5fa": {
      "model_module": "@jupyter-widgets/controls",
      "model_module_version": "1.5.0",
      "model_name": "ButtonModel",
      "state": {
       "_dom_classes": [],
       "_model_module": "@jupyter-widgets/controls",
       "_model_module_version": "1.5.0",
       "_model_name": "ButtonModel",
       "_view_count": null,
       "_view_module": "@jupyter-widgets/controls",
       "_view_module_version": "1.5.0",
       "_view_name": "ButtonView",
       "button_style": "",
       "description": "Re-generate polynomial",
       "disabled": false,
       "icon": "",
       "layout": "IPY_MODEL_8b822200443045d69b651abc6dfe714b",
       "style": "IPY_MODEL_fac9de6860c84b858a71119b0aa1a032",
       "tooltip": ""
      }
     },
     "475724c29ba345da90ff8ee1647bd7a6": {
      "model_module": "@jupyter-widgets/controls",
      "model_module_version": "1.5.0",
      "model_name": "ButtonStyleModel",
      "state": {
       "_model_module": "@jupyter-widgets/controls",
       "_model_module_version": "1.5.0",
       "_model_name": "ButtonStyleModel",
       "_view_count": null,
       "_view_module": "@jupyter-widgets/base",
       "_view_module_version": "1.2.0",
       "_view_name": "StyleView",
       "button_color": null,
       "font_weight": ""
      }
     },
     "47604fd7556742d7a9f8e723188be131": {
      "model_module": "@jupyter-widgets/base",
      "model_module_version": "1.2.0",
      "model_name": "LayoutModel",
      "state": {
       "_model_module": "@jupyter-widgets/base",
       "_model_module_version": "1.2.0",
       "_model_name": "LayoutModel",
       "_view_count": null,
       "_view_module": "@jupyter-widgets/base",
       "_view_module_version": "1.2.0",
       "_view_name": "LayoutView",
       "align_content": null,
       "align_items": null,
       "align_self": null,
       "border": null,
       "bottom": null,
       "display": null,
       "flex": null,
       "flex_flow": null,
       "grid_area": null,
       "grid_auto_columns": null,
       "grid_auto_flow": null,
       "grid_auto_rows": null,
       "grid_column": null,
       "grid_gap": null,
       "grid_row": null,
       "grid_template_areas": null,
       "grid_template_columns": null,
       "grid_template_rows": null,
       "height": null,
       "justify_content": null,
       "justify_items": null,
       "left": null,
       "margin": null,
       "max_height": null,
       "max_width": null,
       "min_height": null,
       "min_width": null,
       "object_fit": null,
       "object_position": null,
       "order": null,
       "overflow": null,
       "overflow_x": null,
       "overflow_y": null,
       "padding": null,
       "right": null,
       "top": null,
       "visibility": null,
       "width": null
      }
     },
     "48c4de01e801415da6b9cf543572d8c5": {
      "model_module": "@jupyter-widgets/controls",
      "model_module_version": "1.5.0",
      "model_name": "ButtonStyleModel",
      "state": {
       "_model_module": "@jupyter-widgets/controls",
       "_model_module_version": "1.5.0",
       "_model_name": "ButtonStyleModel",
       "_view_count": null,
       "_view_module": "@jupyter-widgets/base",
       "_view_module_version": "1.2.0",
       "_view_name": "StyleView",
       "button_color": null,
       "font_weight": ""
      }
     },
     "49ac7e84ef524aa5813a7c7e033748d8": {
      "model_module": "@jupyter-widgets/base",
      "model_module_version": "1.2.0",
      "model_name": "LayoutModel",
      "state": {
       "_model_module": "@jupyter-widgets/base",
       "_model_module_version": "1.2.0",
       "_model_name": "LayoutModel",
       "_view_count": null,
       "_view_module": "@jupyter-widgets/base",
       "_view_module_version": "1.2.0",
       "_view_name": "LayoutView",
       "align_content": null,
       "align_items": null,
       "align_self": null,
       "border": null,
       "bottom": null,
       "display": null,
       "flex": null,
       "flex_flow": null,
       "grid_area": null,
       "grid_auto_columns": null,
       "grid_auto_flow": null,
       "grid_auto_rows": null,
       "grid_column": null,
       "grid_gap": null,
       "grid_row": null,
       "grid_template_areas": null,
       "grid_template_columns": null,
       "grid_template_rows": null,
       "height": null,
       "justify_content": null,
       "justify_items": null,
       "left": null,
       "margin": null,
       "max_height": null,
       "max_width": null,
       "min_height": null,
       "min_width": null,
       "object_fit": null,
       "object_position": null,
       "order": null,
       "overflow": null,
       "overflow_x": null,
       "overflow_y": null,
       "padding": null,
       "right": null,
       "top": null,
       "visibility": null,
       "width": null
      }
     },
     "4a443fafd4fd4af38545d2028eacc29f": {
      "model_module": "@jupyter-widgets/controls",
      "model_module_version": "1.5.0",
      "model_name": "HTMLModel",
      "state": {
       "_dom_classes": [],
       "_model_module": "@jupyter-widgets/controls",
       "_model_module_version": "1.5.0",
       "_model_name": "HTMLModel",
       "_view_count": null,
       "_view_module": "@jupyter-widgets/controls",
       "_view_module_version": "1.5.0",
       "_view_name": "HTMLView",
       "description": "",
       "description_tooltip": null,
       "layout": "IPY_MODEL_e91cd5c2a7e64d94ad7f78a825d6c51c",
       "placeholder": "​",
       "style": "IPY_MODEL_b18848629a664de5a0086441e0af6c09",
       "value": ""
      }
     },
     "4b57ada8f35d4152ae92b128eb840e0b": {
      "model_module": "@jupyter-widgets/base",
      "model_module_version": "1.2.0",
      "model_name": "LayoutModel",
      "state": {
       "_model_module": "@jupyter-widgets/base",
       "_model_module_version": "1.2.0",
       "_model_name": "LayoutModel",
       "_view_count": null,
       "_view_module": "@jupyter-widgets/base",
       "_view_module_version": "1.2.0",
       "_view_name": "LayoutView",
       "align_content": null,
       "align_items": null,
       "align_self": null,
       "border": null,
       "bottom": null,
       "display": null,
       "flex": null,
       "flex_flow": null,
       "grid_area": null,
       "grid_auto_columns": null,
       "grid_auto_flow": null,
       "grid_auto_rows": null,
       "grid_column": null,
       "grid_gap": null,
       "grid_row": null,
       "grid_template_areas": null,
       "grid_template_columns": null,
       "grid_template_rows": null,
       "height": null,
       "justify_content": null,
       "justify_items": null,
       "left": null,
       "margin": null,
       "max_height": null,
       "max_width": null,
       "min_height": null,
       "min_width": null,
       "object_fit": null,
       "object_position": null,
       "order": null,
       "overflow": null,
       "overflow_x": null,
       "overflow_y": null,
       "padding": null,
       "right": null,
       "top": null,
       "visibility": null,
       "width": null
      }
     },
     "4c983a49104a4396b45867b733ecd137": {
      "model_module": "@jupyter-widgets/controls",
      "model_module_version": "1.5.0",
      "model_name": "DescriptionStyleModel",
      "state": {
       "_model_module": "@jupyter-widgets/controls",
       "_model_module_version": "1.5.0",
       "_model_name": "DescriptionStyleModel",
       "_view_count": null,
       "_view_module": "@jupyter-widgets/base",
       "_view_module_version": "1.2.0",
       "_view_name": "StyleView",
       "description_width": ""
      }
     },
     "4d56150ac0e34c1a86502f600399fcf9": {
      "model_module": "@jupyter-widgets/controls",
      "model_module_version": "1.5.0",
      "model_name": "ButtonStyleModel",
      "state": {
       "_model_module": "@jupyter-widgets/controls",
       "_model_module_version": "1.5.0",
       "_model_name": "ButtonStyleModel",
       "_view_count": null,
       "_view_module": "@jupyter-widgets/base",
       "_view_module_version": "1.2.0",
       "_view_name": "StyleView",
       "button_color": null,
       "font_weight": ""
      }
     },
     "4d9371a5e5c347d0b82916d94e1ade5a": {
      "model_module": "@jupyter-widgets/controls",
      "model_module_version": "1.5.0",
      "model_name": "DescriptionStyleModel",
      "state": {
       "_model_module": "@jupyter-widgets/controls",
       "_model_module_version": "1.5.0",
       "_model_name": "DescriptionStyleModel",
       "_view_count": null,
       "_view_module": "@jupyter-widgets/base",
       "_view_module_version": "1.2.0",
       "_view_name": "StyleView",
       "description_width": ""
      }
     },
     "4f44e7159dc1472a829312fd399e9272": {
      "model_module": "@jupyter-widgets/controls",
      "model_module_version": "1.5.0",
      "model_name": "HBoxModel",
      "state": {
       "_dom_classes": [],
       "_model_module": "@jupyter-widgets/controls",
       "_model_module_version": "1.5.0",
       "_model_name": "HBoxModel",
       "_view_count": null,
       "_view_module": "@jupyter-widgets/controls",
       "_view_module_version": "1.5.0",
       "_view_name": "HBoxView",
       "box_style": "",
       "children": [
        "IPY_MODEL_1f0530b58d804e1f9e65e1cdb20abbfe",
        "IPY_MODEL_d107b78981bb497189b4781ccd175763"
       ],
       "layout": "IPY_MODEL_ac9da23385ac4c88a2c3aa3094f4b6d5"
      }
     },
     "4f5610251b9e44c38e8add1b8f1744aa": {
      "model_module": "@jupyter-widgets/controls",
      "model_module_version": "1.5.0",
      "model_name": "TextModel",
      "state": {
       "_dom_classes": [],
       "_model_module": "@jupyter-widgets/controls",
       "_model_module_version": "1.5.0",
       "_model_name": "TextModel",
       "_view_count": null,
       "_view_module": "@jupyter-widgets/controls",
       "_view_module_version": "1.5.0",
       "_view_name": "TextView",
       "continuous_update": true,
       "description": "",
       "description_tooltip": null,
       "disabled": false,
       "layout": "IPY_MODEL_bec98553b30a4349a80588888a3267f7",
       "placeholder": "Enter a",
       "style": "IPY_MODEL_4d9371a5e5c347d0b82916d94e1ade5a",
       "value": ""
      }
     },
     "4fc78240d56748d8800e405b9863ca91": {
      "model_module": "@jupyter-widgets/base",
      "model_module_version": "1.2.0",
      "model_name": "LayoutModel",
      "state": {
       "_model_module": "@jupyter-widgets/base",
       "_model_module_version": "1.2.0",
       "_model_name": "LayoutModel",
       "_view_count": null,
       "_view_module": "@jupyter-widgets/base",
       "_view_module_version": "1.2.0",
       "_view_name": "LayoutView",
       "align_content": null,
       "align_items": null,
       "align_self": null,
       "border": null,
       "bottom": null,
       "display": null,
       "flex": null,
       "flex_flow": null,
       "grid_area": null,
       "grid_auto_columns": null,
       "grid_auto_flow": null,
       "grid_auto_rows": null,
       "grid_column": null,
       "grid_gap": null,
       "grid_row": null,
       "grid_template_areas": null,
       "grid_template_columns": null,
       "grid_template_rows": null,
       "height": null,
       "justify_content": null,
       "justify_items": null,
       "left": null,
       "margin": null,
       "max_height": null,
       "max_width": null,
       "min_height": null,
       "min_width": null,
       "object_fit": null,
       "object_position": null,
       "order": null,
       "overflow": null,
       "overflow_x": null,
       "overflow_y": null,
       "padding": null,
       "right": null,
       "top": null,
       "visibility": null,
       "width": null
      }
     },
     "53a669ed4cdb48daafffe7ca012cca2e": {
      "model_module": "@jupyter-widgets/controls",
      "model_module_version": "1.5.0",
      "model_name": "ButtonModel",
      "state": {
       "_dom_classes": [],
       "_model_module": "@jupyter-widgets/controls",
       "_model_module_version": "1.5.0",
       "_model_name": "ButtonModel",
       "_view_count": null,
       "_view_module": "@jupyter-widgets/controls",
       "_view_module_version": "1.5.0",
       "_view_name": "ButtonView",
       "button_style": "",
       "description": "Re-generate polynomial",
       "disabled": false,
       "icon": "",
       "layout": "IPY_MODEL_7008430433c9442091e5b268beac2289",
       "style": "IPY_MODEL_7cb1e3f5816f4f9895deb8b6455aab86",
       "tooltip": ""
      }
     },
     "55a2d2d2cadf4f19937e3867eeff6a4f": {
      "model_module": "@jupyter-widgets/controls",
      "model_module_version": "1.5.0",
      "model_name": "ButtonModel",
      "state": {
       "_dom_classes": [],
       "_model_module": "@jupyter-widgets/controls",
       "_model_module_version": "1.5.0",
       "_model_name": "ButtonModel",
       "_view_count": null,
       "_view_module": "@jupyter-widgets/controls",
       "_view_module_version": "1.5.0",
       "_view_name": "ButtonView",
       "button_style": "",
       "description": "Check your answer",
       "disabled": false,
       "icon": "",
       "layout": "IPY_MODEL_b1f1f06ef11c4168bef6ee3cc8d1635d",
       "style": "IPY_MODEL_f2117071f5b54e63b071a65c3fe5772f",
       "tooltip": ""
      }
     },
     "5747987580d24c338b9a82c962e36a3a": {
      "model_module": "@jupyter-widgets/controls",
      "model_module_version": "1.5.0",
      "model_name": "CheckboxModel",
      "state": {
       "_dom_classes": [],
       "_model_module": "@jupyter-widgets/controls",
       "_model_module_version": "1.5.0",
       "_model_name": "CheckboxModel",
       "_view_count": null,
       "_view_module": "@jupyter-widgets/controls",
       "_view_module_version": "1.5.0",
       "_view_name": "CheckboxView",
       "description": "$100$",
       "description_tooltip": null,
       "disabled": false,
       "indent": true,
       "layout": "IPY_MODEL_9f502e5ecd534c52bc9154991784ac4a",
       "style": "IPY_MODEL_5c2e7bf34130453abd5f8d59f0523299",
       "value": false
      }
     },
     "58179b76790340e888de6ddc260a66fd": {
      "model_module": "@jupyter-widgets/base",
      "model_module_version": "1.2.0",
      "model_name": "LayoutModel",
      "state": {
       "_model_module": "@jupyter-widgets/base",
       "_model_module_version": "1.2.0",
       "_model_name": "LayoutModel",
       "_view_count": null,
       "_view_module": "@jupyter-widgets/base",
       "_view_module_version": "1.2.0",
       "_view_name": "LayoutView",
       "align_content": null,
       "align_items": null,
       "align_self": null,
       "border": null,
       "bottom": null,
       "display": null,
       "flex": null,
       "flex_flow": null,
       "grid_area": null,
       "grid_auto_columns": null,
       "grid_auto_flow": null,
       "grid_auto_rows": null,
       "grid_column": null,
       "grid_gap": null,
       "grid_row": null,
       "grid_template_areas": null,
       "grid_template_columns": null,
       "grid_template_rows": null,
       "height": null,
       "justify_content": null,
       "justify_items": null,
       "left": null,
       "margin": null,
       "max_height": null,
       "max_width": null,
       "min_height": null,
       "min_width": null,
       "object_fit": null,
       "object_position": null,
       "order": null,
       "overflow": null,
       "overflow_x": null,
       "overflow_y": null,
       "padding": null,
       "right": null,
       "top": null,
       "visibility": null,
       "width": null
      }
     },
     "5c2e7bf34130453abd5f8d59f0523299": {
      "model_module": "@jupyter-widgets/controls",
      "model_module_version": "1.5.0",
      "model_name": "DescriptionStyleModel",
      "state": {
       "_model_module": "@jupyter-widgets/controls",
       "_model_module_version": "1.5.0",
       "_model_name": "DescriptionStyleModel",
       "_view_count": null,
       "_view_module": "@jupyter-widgets/base",
       "_view_module_version": "1.2.0",
       "_view_name": "StyleView",
       "description_width": "initial"
      }
     },
     "5e430f23f9cd43a9b4992ba9b95ca52a": {
      "model_module": "@jupyter-widgets/controls",
      "model_module_version": "1.5.0",
      "model_name": "IntSliderModel",
      "state": {
       "_dom_classes": [],
       "_model_module": "@jupyter-widgets/controls",
       "_model_module_version": "1.5.0",
       "_model_name": "IntSliderModel",
       "_view_count": null,
       "_view_module": "@jupyter-widgets/controls",
       "_view_module_version": "1.5.0",
       "_view_name": "IntSliderView",
       "continuous_update": false,
       "description": "x2",
       "description_tooltip": null,
       "disabled": false,
       "layout": "IPY_MODEL_b3c8ac2fb85148ecb9d5e077a01ee1d1",
       "max": 10,
       "min": -10,
       "orientation": "horizontal",
       "readout": true,
       "readout_format": "d",
       "step": 1,
       "style": "IPY_MODEL_8b537c3e5fe74d03b759c5b7d93aabc2",
       "value": 0
      }
     },
     "60c6a26ff6504af08373d4ec38a37e8f": {
      "model_module": "@jupyter-widgets/base",
      "model_module_version": "1.2.0",
      "model_name": "LayoutModel",
      "state": {
       "_model_module": "@jupyter-widgets/base",
       "_model_module_version": "1.2.0",
       "_model_name": "LayoutModel",
       "_view_count": null,
       "_view_module": "@jupyter-widgets/base",
       "_view_module_version": "1.2.0",
       "_view_name": "LayoutView",
       "align_content": null,
       "align_items": null,
       "align_self": null,
       "border": null,
       "bottom": null,
       "display": null,
       "flex": null,
       "flex_flow": null,
       "grid_area": null,
       "grid_auto_columns": null,
       "grid_auto_flow": null,
       "grid_auto_rows": null,
       "grid_column": null,
       "grid_gap": null,
       "grid_row": null,
       "grid_template_areas": null,
       "grid_template_columns": null,
       "grid_template_rows": null,
       "height": null,
       "justify_content": null,
       "justify_items": null,
       "left": null,
       "margin": null,
       "max_height": null,
       "max_width": null,
       "min_height": null,
       "min_width": null,
       "object_fit": null,
       "object_position": null,
       "order": null,
       "overflow": null,
       "overflow_x": null,
       "overflow_y": null,
       "padding": null,
       "right": null,
       "top": null,
       "visibility": null,
       "width": null
      }
     },
     "6188f0dff5fc466486179aafae9a2019": {
      "model_module": "@jupyter-widgets/controls",
      "model_module_version": "1.5.0",
      "model_name": "DescriptionStyleModel",
      "state": {
       "_model_module": "@jupyter-widgets/controls",
       "_model_module_version": "1.5.0",
       "_model_name": "DescriptionStyleModel",
       "_view_count": null,
       "_view_module": "@jupyter-widgets/base",
       "_view_module_version": "1.2.0",
       "_view_name": "StyleView",
       "description_width": "initial"
      }
     },
     "62e4997d50254bdd8c27d8e73efca0a2": {
      "model_module": "@jupyter-widgets/controls",
      "model_module_version": "1.5.0",
      "model_name": "HTMLModel",
      "state": {
       "_dom_classes": [],
       "_model_module": "@jupyter-widgets/controls",
       "_model_module_version": "1.5.0",
       "_model_name": "HTMLModel",
       "_view_count": null,
       "_view_module": "@jupyter-widgets/controls",
       "_view_module_version": "1.5.0",
       "_view_name": "HTMLView",
       "description": "",
       "description_tooltip": null,
       "layout": "IPY_MODEL_6776092c12a04527808e97ff46b7fec6",
       "placeholder": "​",
       "style": "IPY_MODEL_02112d7cb1ad45259e42970f7dcaa29b",
       "value": ""
      }
     },
     "64a48b71f6514617ba55e06dca0aa87d": {
      "model_module": "@jupyter-widgets/base",
      "model_module_version": "1.2.0",
      "model_name": "LayoutModel",
      "state": {
       "_model_module": "@jupyter-widgets/base",
       "_model_module_version": "1.2.0",
       "_model_name": "LayoutModel",
       "_view_count": null,
       "_view_module": "@jupyter-widgets/base",
       "_view_module_version": "1.2.0",
       "_view_name": "LayoutView",
       "align_content": null,
       "align_items": null,
       "align_self": null,
       "border": null,
       "bottom": null,
       "display": null,
       "flex": null,
       "flex_flow": null,
       "grid_area": null,
       "grid_auto_columns": null,
       "grid_auto_flow": null,
       "grid_auto_rows": null,
       "grid_column": null,
       "grid_gap": null,
       "grid_row": null,
       "grid_template_areas": null,
       "grid_template_columns": null,
       "grid_template_rows": null,
       "height": null,
       "justify_content": null,
       "justify_items": null,
       "left": null,
       "margin": null,
       "max_height": null,
       "max_width": null,
       "min_height": null,
       "min_width": null,
       "object_fit": null,
       "object_position": null,
       "order": null,
       "overflow": null,
       "overflow_x": null,
       "overflow_y": null,
       "padding": null,
       "right": null,
       "top": null,
       "visibility": null,
       "width": null
      }
     },
     "667e0fb1c41e45318fe14d68f266b041": {
      "model_module": "@jupyter-widgets/base",
      "model_module_version": "1.2.0",
      "model_name": "LayoutModel",
      "state": {
       "_model_module": "@jupyter-widgets/base",
       "_model_module_version": "1.2.0",
       "_model_name": "LayoutModel",
       "_view_count": null,
       "_view_module": "@jupyter-widgets/base",
       "_view_module_version": "1.2.0",
       "_view_name": "LayoutView",
       "align_content": null,
       "align_items": null,
       "align_self": null,
       "border": null,
       "bottom": null,
       "display": null,
       "flex": null,
       "flex_flow": null,
       "grid_area": null,
       "grid_auto_columns": null,
       "grid_auto_flow": null,
       "grid_auto_rows": null,
       "grid_column": null,
       "grid_gap": null,
       "grid_row": null,
       "grid_template_areas": null,
       "grid_template_columns": null,
       "grid_template_rows": null,
       "height": null,
       "justify_content": null,
       "justify_items": null,
       "left": null,
       "margin": null,
       "max_height": null,
       "max_width": null,
       "min_height": null,
       "min_width": null,
       "object_fit": null,
       "object_position": null,
       "order": null,
       "overflow": null,
       "overflow_x": null,
       "overflow_y": null,
       "padding": null,
       "right": null,
       "top": null,
       "visibility": null,
       "width": null
      }
     },
     "668995d1d9dd40d09ded199a6c0a1554": {
      "model_module": "@jupyter-widgets/controls",
      "model_module_version": "1.5.0",
      "model_name": "DescriptionStyleModel",
      "state": {
       "_model_module": "@jupyter-widgets/controls",
       "_model_module_version": "1.5.0",
       "_model_name": "DescriptionStyleModel",
       "_view_count": null,
       "_view_module": "@jupyter-widgets/base",
       "_view_module_version": "1.2.0",
       "_view_name": "StyleView",
       "description_width": ""
      }
     },
     "6776092c12a04527808e97ff46b7fec6": {
      "model_module": "@jupyter-widgets/base",
      "model_module_version": "1.2.0",
      "model_name": "LayoutModel",
      "state": {
       "_model_module": "@jupyter-widgets/base",
       "_model_module_version": "1.2.0",
       "_model_name": "LayoutModel",
       "_view_count": null,
       "_view_module": "@jupyter-widgets/base",
       "_view_module_version": "1.2.0",
       "_view_name": "LayoutView",
       "align_content": null,
       "align_items": null,
       "align_self": null,
       "border": null,
       "bottom": null,
       "display": null,
       "flex": null,
       "flex_flow": null,
       "grid_area": null,
       "grid_auto_columns": null,
       "grid_auto_flow": null,
       "grid_auto_rows": null,
       "grid_column": null,
       "grid_gap": null,
       "grid_row": null,
       "grid_template_areas": null,
       "grid_template_columns": null,
       "grid_template_rows": null,
       "height": null,
       "justify_content": null,
       "justify_items": null,
       "left": null,
       "margin": null,
       "max_height": null,
       "max_width": null,
       "min_height": null,
       "min_width": null,
       "object_fit": null,
       "object_position": null,
       "order": null,
       "overflow": null,
       "overflow_x": null,
       "overflow_y": null,
       "padding": null,
       "right": null,
       "top": null,
       "visibility": null,
       "width": null
      }
     },
     "68159043f2484b2794db4b827fe16a59": {
      "model_module": "@jupyter-widgets/controls",
      "model_module_version": "1.5.0",
      "model_name": "ButtonModel",
      "state": {
       "_dom_classes": [],
       "_model_module": "@jupyter-widgets/controls",
       "_model_module_version": "1.5.0",
       "_model_name": "ButtonModel",
       "_view_count": null,
       "_view_module": "@jupyter-widgets/controls",
       "_view_module_version": "1.5.0",
       "_view_name": "ButtonView",
       "button_style": "",
       "description": "Display solution on  a number line",
       "disabled": false,
       "icon": "",
       "layout": "IPY_MODEL_6b6ec8dd23144ea0b296b480cde37e0b",
       "style": "IPY_MODEL_6e894140e5ca45b99cf23eea51e93c35",
       "tooltip": ""
      }
     },
     "68f1578d28f44987be427c1509d0b9b7": {
      "model_module": "@jupyter-widgets/controls",
      "model_module_version": "1.5.0",
      "model_name": "TextModel",
      "state": {
       "_dom_classes": [],
       "_model_module": "@jupyter-widgets/controls",
       "_model_module_version": "1.5.0",
       "_model_name": "TextModel",
       "_view_count": null,
       "_view_module": "@jupyter-widgets/controls",
       "_view_module_version": "1.5.0",
       "_view_name": "TextView",
       "continuous_update": true,
       "description": "",
       "description_tooltip": null,
       "disabled": false,
       "layout": "IPY_MODEL_3b7b311fae4442d182724a573cea9d53",
       "placeholder": "Enter Interval",
       "style": "IPY_MODEL_cf0542b1cbc04020a40dc1935c405cb0",
       "value": ""
      }
     },
     "691e17c839584be88a585bebec1db444": {
      "model_module": "@jupyter-widgets/controls",
      "model_module_version": "1.5.0",
      "model_name": "CheckboxModel",
      "state": {
       "_dom_classes": [],
       "_model_module": "@jupyter-widgets/controls",
       "_model_module_version": "1.5.0",
       "_model_name": "CheckboxModel",
       "_view_count": null,
       "_view_module": "@jupyter-widgets/controls",
       "_view_module_version": "1.5.0",
       "_view_name": "CheckboxView",
       "description": "$[$$-5$$,2$$]$",
       "description_tooltip": null,
       "disabled": false,
       "indent": true,
       "layout": "IPY_MODEL_c187cdaa386544e6b06936f39cb5d2fa",
       "style": "IPY_MODEL_41ba8fe715fa450884e48b0c9300cb6b",
       "value": false
      }
     },
     "6a9fdabc4efa4494871d46d0e3d68b28": {
      "model_module": "@jupyter-widgets/controls",
      "model_module_version": "1.5.0",
      "model_name": "CheckboxModel",
      "state": {
       "_dom_classes": [],
       "_model_module": "@jupyter-widgets/controls",
       "_model_module_version": "1.5.0",
       "_model_name": "CheckboxModel",
       "_view_count": null,
       "_view_module": "@jupyter-widgets/controls",
       "_view_module_version": "1.5.0",
       "_view_name": "CheckboxView",
       "description": "$($$-\\infty$$,$$-5$$]$$U$$[$$2$$,$$4$$]$",
       "description_tooltip": null,
       "disabled": false,
       "indent": true,
       "layout": "IPY_MODEL_24f5bb22cbd84ec6a46455006b797b88",
       "style": "IPY_MODEL_b993d21fb7dc493f84400266cab7357f",
       "value": false
      }
     },
     "6b6ec8dd23144ea0b296b480cde37e0b": {
      "model_module": "@jupyter-widgets/base",
      "model_module_version": "1.2.0",
      "model_name": "LayoutModel",
      "state": {
       "_model_module": "@jupyter-widgets/base",
       "_model_module_version": "1.2.0",
       "_model_name": "LayoutModel",
       "_view_count": null,
       "_view_module": "@jupyter-widgets/base",
       "_view_module_version": "1.2.0",
       "_view_name": "LayoutView",
       "align_content": null,
       "align_items": null,
       "align_self": null,
       "border": null,
       "bottom": null,
       "display": null,
       "flex": null,
       "flex_flow": null,
       "grid_area": null,
       "grid_auto_columns": null,
       "grid_auto_flow": null,
       "grid_auto_rows": null,
       "grid_column": null,
       "grid_gap": null,
       "grid_row": null,
       "grid_template_areas": null,
       "grid_template_columns": null,
       "grid_template_rows": null,
       "height": "50px",
       "justify_content": null,
       "justify_items": null,
       "left": null,
       "margin": null,
       "max_height": null,
       "max_width": null,
       "min_height": null,
       "min_width": null,
       "object_fit": null,
       "object_position": null,
       "order": null,
       "overflow": null,
       "overflow_x": null,
       "overflow_y": null,
       "padding": null,
       "right": null,
       "top": null,
       "visibility": null,
       "width": "40%"
      }
     },
     "6ba7dfa5f57a40d1bb9b40552af2270d": {
      "model_module": "@jupyter-widgets/base",
      "model_module_version": "1.2.0",
      "model_name": "LayoutModel",
      "state": {
       "_model_module": "@jupyter-widgets/base",
       "_model_module_version": "1.2.0",
       "_model_name": "LayoutModel",
       "_view_count": null,
       "_view_module": "@jupyter-widgets/base",
       "_view_module_version": "1.2.0",
       "_view_name": "LayoutView",
       "align_content": null,
       "align_items": null,
       "align_self": null,
       "border": null,
       "bottom": null,
       "display": null,
       "flex": null,
       "flex_flow": null,
       "grid_area": null,
       "grid_auto_columns": null,
       "grid_auto_flow": null,
       "grid_auto_rows": null,
       "grid_column": null,
       "grid_gap": null,
       "grid_row": null,
       "grid_template_areas": null,
       "grid_template_columns": null,
       "grid_template_rows": null,
       "height": null,
       "justify_content": null,
       "justify_items": null,
       "left": null,
       "margin": null,
       "max_height": null,
       "max_width": null,
       "min_height": null,
       "min_width": null,
       "object_fit": null,
       "object_position": null,
       "order": null,
       "overflow": null,
       "overflow_x": null,
       "overflow_y": null,
       "padding": null,
       "right": null,
       "top": null,
       "visibility": null,
       "width": null
      }
     },
     "6e894140e5ca45b99cf23eea51e93c35": {
      "model_module": "@jupyter-widgets/controls",
      "model_module_version": "1.5.0",
      "model_name": "ButtonStyleModel",
      "state": {
       "_model_module": "@jupyter-widgets/controls",
       "_model_module_version": "1.5.0",
       "_model_name": "ButtonStyleModel",
       "_view_count": null,
       "_view_module": "@jupyter-widgets/base",
       "_view_module_version": "1.2.0",
       "_view_name": "StyleView",
       "button_color": null,
       "font_weight": ""
      }
     },
     "7008430433c9442091e5b268beac2289": {
      "model_module": "@jupyter-widgets/base",
      "model_module_version": "1.2.0",
      "model_name": "LayoutModel",
      "state": {
       "_model_module": "@jupyter-widgets/base",
       "_model_module_version": "1.2.0",
       "_model_name": "LayoutModel",
       "_view_count": null,
       "_view_module": "@jupyter-widgets/base",
       "_view_module_version": "1.2.0",
       "_view_name": "LayoutView",
       "align_content": null,
       "align_items": null,
       "align_self": null,
       "border": null,
       "bottom": null,
       "display": null,
       "flex": null,
       "flex_flow": null,
       "grid_area": null,
       "grid_auto_columns": null,
       "grid_auto_flow": null,
       "grid_auto_rows": null,
       "grid_column": null,
       "grid_gap": null,
       "grid_row": null,
       "grid_template_areas": null,
       "grid_template_columns": null,
       "grid_template_rows": null,
       "height": "40px",
       "justify_content": null,
       "justify_items": null,
       "left": null,
       "margin": null,
       "max_height": null,
       "max_width": null,
       "min_height": null,
       "min_width": null,
       "object_fit": null,
       "object_position": null,
       "order": null,
       "overflow": null,
       "overflow_x": null,
       "overflow_y": null,
       "padding": null,
       "right": null,
       "top": null,
       "visibility": null,
       "width": "30%"
      }
     },
     "729a0e17bad94c2ab305b6f58974eadc": {
      "model_module": "@jupyter-widgets/controls",
      "model_module_version": "1.5.0",
      "model_name": "DescriptionStyleModel",
      "state": {
       "_model_module": "@jupyter-widgets/controls",
       "_model_module_version": "1.5.0",
       "_model_name": "DescriptionStyleModel",
       "_view_count": null,
       "_view_module": "@jupyter-widgets/base",
       "_view_module_version": "1.2.0",
       "_view_name": "StyleView",
       "description_width": ""
      }
     },
     "73a6df1a1d0e47ad8a7761497384b165": {
      "model_module": "@jupyter-widgets/base",
      "model_module_version": "1.2.0",
      "model_name": "LayoutModel",
      "state": {
       "_model_module": "@jupyter-widgets/base",
       "_model_module_version": "1.2.0",
       "_model_name": "LayoutModel",
       "_view_count": null,
       "_view_module": "@jupyter-widgets/base",
       "_view_module_version": "1.2.0",
       "_view_name": "LayoutView",
       "align_content": null,
       "align_items": null,
       "align_self": null,
       "border": null,
       "bottom": null,
       "display": null,
       "flex": null,
       "flex_flow": null,
       "grid_area": null,
       "grid_auto_columns": null,
       "grid_auto_flow": null,
       "grid_auto_rows": null,
       "grid_column": null,
       "grid_gap": null,
       "grid_row": null,
       "grid_template_areas": null,
       "grid_template_columns": null,
       "grid_template_rows": null,
       "height": null,
       "justify_content": null,
       "justify_items": null,
       "left": null,
       "margin": null,
       "max_height": null,
       "max_width": null,
       "min_height": null,
       "min_width": null,
       "object_fit": null,
       "object_position": null,
       "order": null,
       "overflow": null,
       "overflow_x": null,
       "overflow_y": null,
       "padding": null,
       "right": null,
       "top": null,
       "visibility": null,
       "width": null
      }
     },
     "7645525a33b34613b29e22605d12c1ca": {
      "model_module": "@jupyter-widgets/base",
      "model_module_version": "1.2.0",
      "model_name": "LayoutModel",
      "state": {
       "_model_module": "@jupyter-widgets/base",
       "_model_module_version": "1.2.0",
       "_model_name": "LayoutModel",
       "_view_count": null,
       "_view_module": "@jupyter-widgets/base",
       "_view_module_version": "1.2.0",
       "_view_name": "LayoutView",
       "align_content": null,
       "align_items": null,
       "align_self": null,
       "border": null,
       "bottom": null,
       "display": null,
       "flex": null,
       "flex_flow": null,
       "grid_area": null,
       "grid_auto_columns": null,
       "grid_auto_flow": null,
       "grid_auto_rows": null,
       "grid_column": null,
       "grid_gap": null,
       "grid_row": null,
       "grid_template_areas": null,
       "grid_template_columns": null,
       "grid_template_rows": null,
       "height": null,
       "justify_content": null,
       "justify_items": null,
       "left": null,
       "margin": null,
       "max_height": null,
       "max_width": null,
       "min_height": null,
       "min_width": null,
       "object_fit": null,
       "object_position": null,
       "order": null,
       "overflow": null,
       "overflow_x": null,
       "overflow_y": null,
       "padding": null,
       "right": null,
       "top": null,
       "visibility": null,
       "width": null
      }
     },
     "766ca289f95148cd91279751cdd03001": {
      "model_module": "@jupyter-widgets/controls",
      "model_module_version": "1.5.0",
      "model_name": "TextModel",
      "state": {
       "_dom_classes": [],
       "_model_module": "@jupyter-widgets/controls",
       "_model_module_version": "1.5.0",
       "_model_name": "TextModel",
       "_view_count": null,
       "_view_module": "@jupyter-widgets/controls",
       "_view_module_version": "1.5.0",
       "_view_name": "TextView",
       "continuous_update": true,
       "description": "$x_1$",
       "description_tooltip": null,
       "disabled": false,
       "layout": "IPY_MODEL_cada13b8f2a54220adf407e0e643ff22",
       "placeholder": "​",
       "style": "IPY_MODEL_dd6f8998a4434af78ed6ffa41eabe4f0",
       "value": ""
      }
     },
     "7713d98ba3c448e0965dd6becbe371e7": {
      "model_module": "@jupyter-widgets/controls",
      "model_module_version": "1.5.0",
      "model_name": "TextModel",
      "state": {
       "_dom_classes": [],
       "_model_module": "@jupyter-widgets/controls",
       "_model_module_version": "1.5.0",
       "_model_name": "TextModel",
       "_view_count": null,
       "_view_module": "@jupyter-widgets/controls",
       "_view_module_version": "1.5.0",
       "_view_name": "TextView",
       "continuous_update": true,
       "description": "",
       "description_tooltip": null,
       "disabled": false,
       "layout": "IPY_MODEL_78fb5cde025248e891b8265e91c15703",
       "placeholder": "Enter a,b,c",
       "style": "IPY_MODEL_8ec5396eb20f4f90b2c1402d4184dd20",
       "value": ""
      }
     },
     "78fb5cde025248e891b8265e91c15703": {
      "model_module": "@jupyter-widgets/base",
      "model_module_version": "1.2.0",
      "model_name": "LayoutModel",
      "state": {
       "_model_module": "@jupyter-widgets/base",
       "_model_module_version": "1.2.0",
       "_model_name": "LayoutModel",
       "_view_count": null,
       "_view_module": "@jupyter-widgets/base",
       "_view_module_version": "1.2.0",
       "_view_name": "LayoutView",
       "align_content": null,
       "align_items": null,
       "align_self": null,
       "border": null,
       "bottom": null,
       "display": null,
       "flex": null,
       "flex_flow": null,
       "grid_area": null,
       "grid_auto_columns": null,
       "grid_auto_flow": null,
       "grid_auto_rows": null,
       "grid_column": null,
       "grid_gap": null,
       "grid_row": null,
       "grid_template_areas": null,
       "grid_template_columns": null,
       "grid_template_rows": null,
       "height": null,
       "justify_content": null,
       "justify_items": null,
       "left": null,
       "margin": null,
       "max_height": null,
       "max_width": null,
       "min_height": null,
       "min_width": null,
       "object_fit": null,
       "object_position": null,
       "order": null,
       "overflow": null,
       "overflow_x": null,
       "overflow_y": null,
       "padding": null,
       "right": null,
       "top": null,
       "visibility": null,
       "width": null
      }
     },
     "7a6ca16f042340f98bab433c98a3a0c6": {
      "model_module": "@jupyter-widgets/controls",
      "model_module_version": "1.5.0",
      "model_name": "ButtonModel",
      "state": {
       "_dom_classes": [],
       "_model_module": "@jupyter-widgets/controls",
       "_model_module_version": "1.5.0",
       "_model_name": "ButtonModel",
       "_view_count": null,
       "_view_module": "@jupyter-widgets/controls",
       "_view_module_version": "1.5.0",
       "_view_name": "ButtonView",
       "button_style": "",
       "description": "Check Answer",
       "disabled": false,
       "icon": "",
       "layout": "IPY_MODEL_e729b8749d834cf8811061cc8848ccf8",
       "style": "IPY_MODEL_abdbbb161b4d47eab1f93408e4f78834",
       "tooltip": ""
      }
     },
     "7aba9c0210194086abf50bc4dc9cf099": {
      "model_module": "@jupyter-widgets/controls",
      "model_module_version": "1.5.0",
      "model_name": "HTMLModel",
      "state": {
       "_dom_classes": [],
       "_model_module": "@jupyter-widgets/controls",
       "_model_module_version": "1.5.0",
       "_model_name": "HTMLModel",
       "_view_count": null,
       "_view_module": "@jupyter-widgets/controls",
       "_view_module_version": "1.5.0",
       "_view_name": "HTMLView",
       "description": "",
       "description_tooltip": null,
       "layout": "IPY_MODEL_1c47c390f92d4df783b36e4cf5bb3228",
       "placeholder": "​",
       "style": "IPY_MODEL_2958119035e440cf92feadc81cefdeda",
       "value": ""
      }
     },
     "7bb6954e64fb4b2092ccb5321013b649": {
      "model_module": "@jupyter-widgets/controls",
      "model_module_version": "1.5.0",
      "model_name": "DescriptionStyleModel",
      "state": {
       "_model_module": "@jupyter-widgets/controls",
       "_model_module_version": "1.5.0",
       "_model_name": "DescriptionStyleModel",
       "_view_count": null,
       "_view_module": "@jupyter-widgets/base",
       "_view_module_version": "1.2.0",
       "_view_name": "StyleView",
       "description_width": ""
      }
     },
     "7bcec8bcf1de4a108a82b28557331c0d": {
      "model_module": "@jupyter-widgets/controls",
      "model_module_version": "1.5.0",
      "model_name": "DescriptionStyleModel",
      "state": {
       "_model_module": "@jupyter-widgets/controls",
       "_model_module_version": "1.5.0",
       "_model_name": "DescriptionStyleModel",
       "_view_count": null,
       "_view_module": "@jupyter-widgets/base",
       "_view_module_version": "1.2.0",
       "_view_name": "StyleView",
       "description_width": ""
      }
     },
     "7cb1e3f5816f4f9895deb8b6455aab86": {
      "model_module": "@jupyter-widgets/controls",
      "model_module_version": "1.5.0",
      "model_name": "ButtonStyleModel",
      "state": {
       "_model_module": "@jupyter-widgets/controls",
       "_model_module_version": "1.5.0",
       "_model_name": "ButtonStyleModel",
       "_view_count": null,
       "_view_module": "@jupyter-widgets/base",
       "_view_module_version": "1.2.0",
       "_view_name": "StyleView",
       "button_color": null,
       "font_weight": ""
      }
     },
     "8132b844e0fb41a18376914e6f032c32": {
      "model_module": "@jupyter-widgets/base",
      "model_module_version": "1.2.0",
      "model_name": "LayoutModel",
      "state": {
       "_model_module": "@jupyter-widgets/base",
       "_model_module_version": "1.2.0",
       "_model_name": "LayoutModel",
       "_view_count": null,
       "_view_module": "@jupyter-widgets/base",
       "_view_module_version": "1.2.0",
       "_view_name": "LayoutView",
       "align_content": null,
       "align_items": null,
       "align_self": null,
       "border": null,
       "bottom": null,
       "display": null,
       "flex": null,
       "flex_flow": null,
       "grid_area": null,
       "grid_auto_columns": null,
       "grid_auto_flow": null,
       "grid_auto_rows": null,
       "grid_column": null,
       "grid_gap": null,
       "grid_row": null,
       "grid_template_areas": null,
       "grid_template_columns": null,
       "grid_template_rows": null,
       "height": null,
       "justify_content": null,
       "justify_items": null,
       "left": null,
       "margin": null,
       "max_height": null,
       "max_width": null,
       "min_height": null,
       "min_width": null,
       "object_fit": null,
       "object_position": null,
       "order": null,
       "overflow": null,
       "overflow_x": null,
       "overflow_y": null,
       "padding": null,
       "right": null,
       "top": null,
       "visibility": null,
       "width": null
      }
     },
     "8247a93a0d624160b6d91aa2402fc447": {
      "model_module": "@jupyter-widgets/controls",
      "model_module_version": "1.5.0",
      "model_name": "ButtonModel",
      "state": {
       "_dom_classes": [],
       "_model_module": "@jupyter-widgets/controls",
       "_model_module_version": "1.5.0",
       "_model_name": "ButtonModel",
       "_view_count": null,
       "_view_module": "@jupyter-widgets/controls",
       "_view_module_version": "1.5.0",
       "_view_name": "ButtonView",
       "button_style": "",
       "description": "Check Answer",
       "disabled": false,
       "icon": "",
       "layout": "IPY_MODEL_bbef5cdd603b40c3b5ff79c359573f3c",
       "style": "IPY_MODEL_efa9178af478442086d25610a58122f0",
       "tooltip": ""
      }
     },
     "83b6b70a9c3b445e87ce23ea52caa568": {
      "model_module": "@jupyter-widgets/base",
      "model_module_version": "1.2.0",
      "model_name": "LayoutModel",
      "state": {
       "_model_module": "@jupyter-widgets/base",
       "_model_module_version": "1.2.0",
       "_model_name": "LayoutModel",
       "_view_count": null,
       "_view_module": "@jupyter-widgets/base",
       "_view_module_version": "1.2.0",
       "_view_name": "LayoutView",
       "align_content": null,
       "align_items": null,
       "align_self": null,
       "border": null,
       "bottom": null,
       "display": null,
       "flex": null,
       "flex_flow": null,
       "grid_area": null,
       "grid_auto_columns": null,
       "grid_auto_flow": null,
       "grid_auto_rows": null,
       "grid_column": null,
       "grid_gap": null,
       "grid_row": null,
       "grid_template_areas": null,
       "grid_template_columns": null,
       "grid_template_rows": null,
       "height": null,
       "justify_content": null,
       "justify_items": null,
       "left": null,
       "margin": null,
       "max_height": null,
       "max_width": null,
       "min_height": null,
       "min_width": null,
       "object_fit": null,
       "object_position": null,
       "order": null,
       "overflow": null,
       "overflow_x": null,
       "overflow_y": null,
       "padding": null,
       "right": null,
       "top": null,
       "visibility": null,
       "width": null
      }
     },
     "8492b5e536364f0095420d2573e01238": {
      "model_module": "@jupyter-widgets/controls",
      "model_module_version": "1.5.0",
      "model_name": "DescriptionStyleModel",
      "state": {
       "_model_module": "@jupyter-widgets/controls",
       "_model_module_version": "1.5.0",
       "_model_name": "DescriptionStyleModel",
       "_view_count": null,
       "_view_module": "@jupyter-widgets/base",
       "_view_module_version": "1.2.0",
       "_view_name": "StyleView",
       "description_width": ""
      }
     },
     "8516f9c4e5384ab0992d982faa7e2578": {
      "model_module": "@jupyter-widgets/controls",
      "model_module_version": "1.5.0",
      "model_name": "DescriptionStyleModel",
      "state": {
       "_model_module": "@jupyter-widgets/controls",
       "_model_module_version": "1.5.0",
       "_model_name": "DescriptionStyleModel",
       "_view_count": null,
       "_view_module": "@jupyter-widgets/base",
       "_view_module_version": "1.2.0",
       "_view_name": "StyleView",
       "description_width": ""
      }
     },
     "863a7b6d3bae425e903fb6834ba9f200": {
      "model_module": "@jupyter-widgets/controls",
      "model_module_version": "1.5.0",
      "model_name": "CheckboxModel",
      "state": {
       "_dom_classes": [],
       "_model_module": "@jupyter-widgets/controls",
       "_model_module_version": "1.5.0",
       "_model_name": "CheckboxModel",
       "_view_count": null,
       "_view_module": "@jupyter-widgets/controls",
       "_view_module_version": "1.5.0",
       "_view_name": "CheckboxView",
       "description": "$x$$+3$",
       "description_tooltip": null,
       "disabled": false,
       "indent": true,
       "layout": "IPY_MODEL_aade7cc2df024709b5b1c1a3ca2eac64",
       "style": "IPY_MODEL_6188f0dff5fc466486179aafae9a2019",
       "value": false
      }
     },
     "8aaa20a12baf49bab405d8f7118c98f9": {
      "model_module": "@jupyter-widgets/controls",
      "model_module_version": "1.5.0",
      "model_name": "IntSliderModel",
      "state": {
       "_dom_classes": [],
       "_model_module": "@jupyter-widgets/controls",
       "_model_module_version": "1.5.0",
       "_model_name": "IntSliderModel",
       "_view_count": null,
       "_view_module": "@jupyter-widgets/controls",
       "_view_module_version": "1.5.0",
       "_view_name": "IntSliderView",
       "continuous_update": false,
       "description": "x1",
       "description_tooltip": null,
       "disabled": false,
       "layout": "IPY_MODEL_ba7de9967bfa457a88810abe681bb800",
       "max": 10,
       "min": -10,
       "orientation": "horizontal",
       "readout": true,
       "readout_format": "d",
       "step": 1,
       "style": "IPY_MODEL_966bf892f19b4f809c2bde582046e359",
       "value": 0
      }
     },
     "8b537c3e5fe74d03b759c5b7d93aabc2": {
      "model_module": "@jupyter-widgets/controls",
      "model_module_version": "1.5.0",
      "model_name": "SliderStyleModel",
      "state": {
       "_model_module": "@jupyter-widgets/controls",
       "_model_module_version": "1.5.0",
       "_model_name": "SliderStyleModel",
       "_view_count": null,
       "_view_module": "@jupyter-widgets/base",
       "_view_module_version": "1.2.0",
       "_view_name": "StyleView",
       "description_width": "",
       "handle_color": null
      }
     },
     "8b822200443045d69b651abc6dfe714b": {
      "model_module": "@jupyter-widgets/base",
      "model_module_version": "1.2.0",
      "model_name": "LayoutModel",
      "state": {
       "_model_module": "@jupyter-widgets/base",
       "_model_module_version": "1.2.0",
       "_model_name": "LayoutModel",
       "_view_count": null,
       "_view_module": "@jupyter-widgets/base",
       "_view_module_version": "1.2.0",
       "_view_name": "LayoutView",
       "align_content": null,
       "align_items": null,
       "align_self": null,
       "border": null,
       "bottom": null,
       "display": null,
       "flex": null,
       "flex_flow": null,
       "grid_area": null,
       "grid_auto_columns": null,
       "grid_auto_flow": null,
       "grid_auto_rows": null,
       "grid_column": null,
       "grid_gap": null,
       "grid_row": null,
       "grid_template_areas": null,
       "grid_template_columns": null,
       "grid_template_rows": null,
       "height": "40px",
       "justify_content": null,
       "justify_items": null,
       "left": null,
       "margin": null,
       "max_height": null,
       "max_width": null,
       "min_height": null,
       "min_width": null,
       "object_fit": null,
       "object_position": null,
       "order": null,
       "overflow": null,
       "overflow_x": null,
       "overflow_y": null,
       "padding": null,
       "right": null,
       "top": null,
       "visibility": null,
       "width": "30%"
      }
     },
     "8bf727b5a5af45d0983131aef4658e32": {
      "model_module": "@jupyter-widgets/base",
      "model_module_version": "1.2.0",
      "model_name": "LayoutModel",
      "state": {
       "_model_module": "@jupyter-widgets/base",
       "_model_module_version": "1.2.0",
       "_model_name": "LayoutModel",
       "_view_count": null,
       "_view_module": "@jupyter-widgets/base",
       "_view_module_version": "1.2.0",
       "_view_name": "LayoutView",
       "align_content": null,
       "align_items": null,
       "align_self": null,
       "border": null,
       "bottom": null,
       "display": null,
       "flex": null,
       "flex_flow": null,
       "grid_area": null,
       "grid_auto_columns": null,
       "grid_auto_flow": null,
       "grid_auto_rows": null,
       "grid_column": null,
       "grid_gap": null,
       "grid_row": null,
       "grid_template_areas": null,
       "grid_template_columns": null,
       "grid_template_rows": null,
       "height": null,
       "justify_content": null,
       "justify_items": null,
       "left": null,
       "margin": null,
       "max_height": null,
       "max_width": null,
       "min_height": null,
       "min_width": null,
       "object_fit": null,
       "object_position": null,
       "order": null,
       "overflow": null,
       "overflow_x": null,
       "overflow_y": null,
       "padding": null,
       "right": null,
       "top": null,
       "visibility": null,
       "width": null
      }
     },
     "8d44ac06071a4e8b8bde2063322030d4": {
      "model_module": "@jupyter-widgets/base",
      "model_module_version": "1.2.0",
      "model_name": "LayoutModel",
      "state": {
       "_model_module": "@jupyter-widgets/base",
       "_model_module_version": "1.2.0",
       "_model_name": "LayoutModel",
       "_view_count": null,
       "_view_module": "@jupyter-widgets/base",
       "_view_module_version": "1.2.0",
       "_view_name": "LayoutView",
       "align_content": null,
       "align_items": null,
       "align_self": null,
       "border": null,
       "bottom": null,
       "display": null,
       "flex": null,
       "flex_flow": null,
       "grid_area": null,
       "grid_auto_columns": null,
       "grid_auto_flow": null,
       "grid_auto_rows": null,
       "grid_column": null,
       "grid_gap": null,
       "grid_row": null,
       "grid_template_areas": null,
       "grid_template_columns": null,
       "grid_template_rows": null,
       "height": null,
       "justify_content": null,
       "justify_items": null,
       "left": null,
       "margin": null,
       "max_height": null,
       "max_width": null,
       "min_height": null,
       "min_width": null,
       "object_fit": null,
       "object_position": null,
       "order": null,
       "overflow": null,
       "overflow_x": null,
       "overflow_y": null,
       "padding": null,
       "right": null,
       "top": null,
       "visibility": null,
       "width": null
      }
     },
     "8d5463f575e3486eb8fd30e35aa336e5": {
      "model_module": "@jupyter-widgets/controls",
      "model_module_version": "1.5.0",
      "model_name": "DescriptionStyleModel",
      "state": {
       "_model_module": "@jupyter-widgets/controls",
       "_model_module_version": "1.5.0",
       "_model_name": "DescriptionStyleModel",
       "_view_count": null,
       "_view_module": "@jupyter-widgets/base",
       "_view_module_version": "1.2.0",
       "_view_name": "StyleView",
       "description_width": ""
      }
     },
     "8e8600a4af8c4e3380fc40c05cc58497": {
      "model_module": "@jupyter-widgets/controls",
      "model_module_version": "1.5.0",
      "model_name": "DescriptionStyleModel",
      "state": {
       "_model_module": "@jupyter-widgets/controls",
       "_model_module_version": "1.5.0",
       "_model_name": "DescriptionStyleModel",
       "_view_count": null,
       "_view_module": "@jupyter-widgets/base",
       "_view_module_version": "1.2.0",
       "_view_name": "StyleView",
       "description_width": ""
      }
     },
     "8ec5396eb20f4f90b2c1402d4184dd20": {
      "model_module": "@jupyter-widgets/controls",
      "model_module_version": "1.5.0",
      "model_name": "DescriptionStyleModel",
      "state": {
       "_model_module": "@jupyter-widgets/controls",
       "_model_module_version": "1.5.0",
       "_model_name": "DescriptionStyleModel",
       "_view_count": null,
       "_view_module": "@jupyter-widgets/base",
       "_view_module_version": "1.2.0",
       "_view_name": "StyleView",
       "description_width": ""
      }
     },
     "8fe95453aeab46e1acf80a5f4c863871": {
      "model_module": "@jupyter-widgets/controls",
      "model_module_version": "1.5.0",
      "model_name": "HTMLModel",
      "state": {
       "_dom_classes": [],
       "_model_module": "@jupyter-widgets/controls",
       "_model_module_version": "1.5.0",
       "_model_name": "HTMLModel",
       "_view_count": null,
       "_view_module": "@jupyter-widgets/controls",
       "_view_module_version": "1.5.0",
       "_view_name": "HTMLView",
       "description": "",
       "description_tooltip": null,
       "layout": "IPY_MODEL_49ac7e84ef524aa5813a7c7e033748d8",
       "placeholder": "​",
       "style": "IPY_MODEL_8d5463f575e3486eb8fd30e35aa336e5",
       "value": ""
      }
     },
     "9114851076784214b2182e9d344df7ce": {
      "model_module": "@jupyter-widgets/controls",
      "model_module_version": "1.5.0",
      "model_name": "ButtonModel",
      "state": {
       "_dom_classes": [],
       "_model_module": "@jupyter-widgets/controls",
       "_model_module_version": "1.5.0",
       "_model_name": "ButtonModel",
       "_view_count": null,
       "_view_module": "@jupyter-widgets/controls",
       "_view_module_version": "1.5.0",
       "_view_name": "ButtonView",
       "button_style": "",
       "description": "Check Answer",
       "disabled": false,
       "icon": "",
       "layout": "IPY_MODEL_60c6a26ff6504af08373d4ec38a37e8f",
       "style": "IPY_MODEL_091074011ab643c8b7da4e26d886e848",
       "tooltip": ""
      }
     },
     "912c1791dec14424b282f022ff165d62": {
      "model_module": "@jupyter-widgets/base",
      "model_module_version": "1.2.0",
      "model_name": "LayoutModel",
      "state": {
       "_model_module": "@jupyter-widgets/base",
       "_model_module_version": "1.2.0",
       "_model_name": "LayoutModel",
       "_view_count": null,
       "_view_module": "@jupyter-widgets/base",
       "_view_module_version": "1.2.0",
       "_view_name": "LayoutView",
       "align_content": null,
       "align_items": null,
       "align_self": null,
       "border": null,
       "bottom": null,
       "display": null,
       "flex": null,
       "flex_flow": null,
       "grid_area": null,
       "grid_auto_columns": null,
       "grid_auto_flow": null,
       "grid_auto_rows": null,
       "grid_column": null,
       "grid_gap": null,
       "grid_row": null,
       "grid_template_areas": null,
       "grid_template_columns": null,
       "grid_template_rows": null,
       "height": null,
       "justify_content": null,
       "justify_items": null,
       "left": null,
       "margin": null,
       "max_height": null,
       "max_width": null,
       "min_height": null,
       "min_width": null,
       "object_fit": null,
       "object_position": null,
       "order": null,
       "overflow": null,
       "overflow_x": null,
       "overflow_y": null,
       "padding": null,
       "right": null,
       "top": null,
       "visibility": null,
       "width": null
      }
     },
     "9217743ee374476eaa104b191994efb5": {
      "model_module": "@jupyter-widgets/controls",
      "model_module_version": "1.5.0",
      "model_name": "ButtonStyleModel",
      "state": {
       "_model_module": "@jupyter-widgets/controls",
       "_model_module_version": "1.5.0",
       "_model_name": "ButtonStyleModel",
       "_view_count": null,
       "_view_module": "@jupyter-widgets/base",
       "_view_module_version": "1.2.0",
       "_view_name": "StyleView",
       "button_color": null,
       "font_weight": ""
      }
     },
     "9349747811e449d6becbb30259d21f03": {
      "model_module": "@jupyter-widgets/controls",
      "model_module_version": "1.5.0",
      "model_name": "DescriptionStyleModel",
      "state": {
       "_model_module": "@jupyter-widgets/controls",
       "_model_module_version": "1.5.0",
       "_model_name": "DescriptionStyleModel",
       "_view_count": null,
       "_view_module": "@jupyter-widgets/base",
       "_view_module_version": "1.2.0",
       "_view_name": "StyleView",
       "description_width": ""
      }
     },
     "93c0c949280145b48529854b685d928f": {
      "model_module": "@jupyter-widgets/controls",
      "model_module_version": "1.5.0",
      "model_name": "DescriptionStyleModel",
      "state": {
       "_model_module": "@jupyter-widgets/controls",
       "_model_module_version": "1.5.0",
       "_model_name": "DescriptionStyleModel",
       "_view_count": null,
       "_view_module": "@jupyter-widgets/base",
       "_view_module_version": "1.2.0",
       "_view_name": "StyleView",
       "description_width": ""
      }
     },
     "94f0ef20a4344f318eac18d35930564f": {
      "model_module": "@jupyter-widgets/controls",
      "model_module_version": "1.5.0",
      "model_name": "TextModel",
      "state": {
       "_dom_classes": [],
       "_model_module": "@jupyter-widgets/controls",
       "_model_module_version": "1.5.0",
       "_model_name": "TextModel",
       "_view_count": null,
       "_view_module": "@jupyter-widgets/controls",
       "_view_module_version": "1.5.0",
       "_view_name": "TextView",
       "continuous_update": true,
       "description": "",
       "description_tooltip": null,
       "disabled": false,
       "layout": "IPY_MODEL_f92043802e6e4d409c598c9d74c9f772",
       "placeholder": "Enter inequality",
       "style": "IPY_MODEL_8492b5e536364f0095420d2573e01238",
       "value": ""
      }
     },
     "966bf892f19b4f809c2bde582046e359": {
      "model_module": "@jupyter-widgets/controls",
      "model_module_version": "1.5.0",
      "model_name": "SliderStyleModel",
      "state": {
       "_model_module": "@jupyter-widgets/controls",
       "_model_module_version": "1.5.0",
       "_model_name": "SliderStyleModel",
       "_view_count": null,
       "_view_module": "@jupyter-widgets/base",
       "_view_module_version": "1.2.0",
       "_view_name": "StyleView",
       "description_width": "",
       "handle_color": null
      }
     },
     "9738988cb2784f9c822d922fa64b7b0a": {
      "model_module": "@jupyter-widgets/base",
      "model_module_version": "1.2.0",
      "model_name": "LayoutModel",
      "state": {
       "_model_module": "@jupyter-widgets/base",
       "_model_module_version": "1.2.0",
       "_model_name": "LayoutModel",
       "_view_count": null,
       "_view_module": "@jupyter-widgets/base",
       "_view_module_version": "1.2.0",
       "_view_name": "LayoutView",
       "align_content": null,
       "align_items": null,
       "align_self": null,
       "border": null,
       "bottom": null,
       "display": null,
       "flex": null,
       "flex_flow": null,
       "grid_area": null,
       "grid_auto_columns": null,
       "grid_auto_flow": null,
       "grid_auto_rows": null,
       "grid_column": null,
       "grid_gap": null,
       "grid_row": null,
       "grid_template_areas": null,
       "grid_template_columns": null,
       "grid_template_rows": null,
       "height": null,
       "justify_content": null,
       "justify_items": null,
       "left": null,
       "margin": null,
       "max_height": null,
       "max_width": null,
       "min_height": null,
       "min_width": null,
       "object_fit": null,
       "object_position": null,
       "order": null,
       "overflow": null,
       "overflow_x": null,
       "overflow_y": null,
       "padding": null,
       "right": null,
       "top": null,
       "visibility": null,
       "width": null
      }
     },
     "978a7696823e4b669d06485b45405619": {
      "model_module": "@jupyter-widgets/controls",
      "model_module_version": "1.5.0",
      "model_name": "ButtonStyleModel",
      "state": {
       "_model_module": "@jupyter-widgets/controls",
       "_model_module_version": "1.5.0",
       "_model_name": "ButtonStyleModel",
       "_view_count": null,
       "_view_module": "@jupyter-widgets/base",
       "_view_module_version": "1.2.0",
       "_view_name": "StyleView",
       "button_color": null,
       "font_weight": ""
      }
     },
     "98ed91af0228482e81999bff82ab2e64": {
      "model_module": "@jupyter-widgets/base",
      "model_module_version": "1.2.0",
      "model_name": "LayoutModel",
      "state": {
       "_model_module": "@jupyter-widgets/base",
       "_model_module_version": "1.2.0",
       "_model_name": "LayoutModel",
       "_view_count": null,
       "_view_module": "@jupyter-widgets/base",
       "_view_module_version": "1.2.0",
       "_view_name": "LayoutView",
       "align_content": null,
       "align_items": null,
       "align_self": null,
       "border": null,
       "bottom": null,
       "display": null,
       "flex": null,
       "flex_flow": null,
       "grid_area": null,
       "grid_auto_columns": null,
       "grid_auto_flow": null,
       "grid_auto_rows": null,
       "grid_column": null,
       "grid_gap": null,
       "grid_row": null,
       "grid_template_areas": null,
       "grid_template_columns": null,
       "grid_template_rows": null,
       "height": null,
       "justify_content": null,
       "justify_items": null,
       "left": null,
       "margin": null,
       "max_height": null,
       "max_width": null,
       "min_height": null,
       "min_width": null,
       "object_fit": null,
       "object_position": null,
       "order": null,
       "overflow": null,
       "overflow_x": null,
       "overflow_y": null,
       "padding": null,
       "right": null,
       "top": null,
       "visibility": null,
       "width": null
      }
     },
     "9b7974522ce648deb38dd101bcaf90dc": {
      "model_module": "@jupyter-widgets/controls",
      "model_module_version": "1.5.0",
      "model_name": "ButtonModel",
      "state": {
       "_dom_classes": [],
       "_model_module": "@jupyter-widgets/controls",
       "_model_module_version": "1.5.0",
       "_model_name": "ButtonModel",
       "_view_count": null,
       "_view_module": "@jupyter-widgets/controls",
       "_view_module_version": "1.5.0",
       "_view_name": "ButtonView",
       "button_style": "",
       "description": "Check Answer",
       "disabled": false,
       "icon": "",
       "layout": "IPY_MODEL_29b1de3f4f1c49bd8ac1053938119d85",
       "style": "IPY_MODEL_4d56150ac0e34c1a86502f600399fcf9",
       "tooltip": ""
      }
     },
     "9bdc3cd462a9487a989ba41b70e9b142": {
      "model_module": "@jupyter-widgets/controls",
      "model_module_version": "1.5.0",
      "model_name": "ButtonModel",
      "state": {
       "_dom_classes": [],
       "_model_module": "@jupyter-widgets/controls",
       "_model_module_version": "1.5.0",
       "_model_name": "ButtonModel",
       "_view_count": null,
       "_view_module": "@jupyter-widgets/controls",
       "_view_module_version": "1.5.0",
       "_view_name": "ButtonView",
       "button_style": "",
       "description": "Change Constant",
       "disabled": false,
       "icon": "",
       "layout": "IPY_MODEL_8d44ac06071a4e8b8bde2063322030d4",
       "style": "IPY_MODEL_978a7696823e4b669d06485b45405619",
       "tooltip": ""
      }
     },
     "9c893964b964459e8b46dacf60d36039": {
      "model_module": "@jupyter-widgets/controls",
      "model_module_version": "1.5.0",
      "model_name": "HBoxModel",
      "state": {
       "_dom_classes": [],
       "_model_module": "@jupyter-widgets/controls",
       "_model_module_version": "1.5.0",
       "_model_name": "HBoxModel",
       "_view_count": null,
       "_view_module": "@jupyter-widgets/controls",
       "_view_module_version": "1.5.0",
       "_view_name": "HBoxView",
       "box_style": "",
       "children": [
        "IPY_MODEL_08e5c94b65f0495b8bb085057de3fbff",
        "IPY_MODEL_d605030b9e504864acd20004346eaa96"
       ],
       "layout": "IPY_MODEL_2e5454c602f84cf4b67e9125c985d543"
      }
     },
     "9d8dc33e84784533915f73a7f4dc97a5": {
      "model_module": "@jupyter-widgets/base",
      "model_module_version": "1.2.0",
      "model_name": "LayoutModel",
      "state": {
       "_model_module": "@jupyter-widgets/base",
       "_model_module_version": "1.2.0",
       "_model_name": "LayoutModel",
       "_view_count": null,
       "_view_module": "@jupyter-widgets/base",
       "_view_module_version": "1.2.0",
       "_view_name": "LayoutView",
       "align_content": null,
       "align_items": null,
       "align_self": null,
       "border": null,
       "bottom": null,
       "display": null,
       "flex": null,
       "flex_flow": null,
       "grid_area": null,
       "grid_auto_columns": null,
       "grid_auto_flow": null,
       "grid_auto_rows": null,
       "grid_column": null,
       "grid_gap": null,
       "grid_row": null,
       "grid_template_areas": null,
       "grid_template_columns": null,
       "grid_template_rows": null,
       "height": null,
       "justify_content": null,
       "justify_items": null,
       "left": null,
       "margin": null,
       "max_height": null,
       "max_width": null,
       "min_height": null,
       "min_width": null,
       "object_fit": null,
       "object_position": null,
       "order": null,
       "overflow": null,
       "overflow_x": null,
       "overflow_y": null,
       "padding": null,
       "right": null,
       "top": null,
       "visibility": null,
       "width": null
      }
     },
     "9e567064ff2a4454a9b90e0a4327f16a": {
      "model_module": "@jupyter-widgets/base",
      "model_module_version": "1.2.0",
      "model_name": "LayoutModel",
      "state": {
       "_model_module": "@jupyter-widgets/base",
       "_model_module_version": "1.2.0",
       "_model_name": "LayoutModel",
       "_view_count": null,
       "_view_module": "@jupyter-widgets/base",
       "_view_module_version": "1.2.0",
       "_view_name": "LayoutView",
       "align_content": null,
       "align_items": null,
       "align_self": null,
       "border": null,
       "bottom": null,
       "display": null,
       "flex": null,
       "flex_flow": null,
       "grid_area": null,
       "grid_auto_columns": null,
       "grid_auto_flow": null,
       "grid_auto_rows": null,
       "grid_column": null,
       "grid_gap": null,
       "grid_row": null,
       "grid_template_areas": null,
       "grid_template_columns": null,
       "grid_template_rows": null,
       "height": null,
       "justify_content": null,
       "justify_items": null,
       "left": null,
       "margin": null,
       "max_height": null,
       "max_width": null,
       "min_height": null,
       "min_width": null,
       "object_fit": null,
       "object_position": null,
       "order": null,
       "overflow": null,
       "overflow_x": null,
       "overflow_y": null,
       "padding": null,
       "right": null,
       "top": null,
       "visibility": null,
       "width": null
      }
     },
     "9e680b87a83f41a7aa795718400c3d5c": {
      "model_module": "@jupyter-widgets/controls",
      "model_module_version": "1.5.0",
      "model_name": "DescriptionStyleModel",
      "state": {
       "_model_module": "@jupyter-widgets/controls",
       "_model_module_version": "1.5.0",
       "_model_name": "DescriptionStyleModel",
       "_view_count": null,
       "_view_module": "@jupyter-widgets/base",
       "_view_module_version": "1.2.0",
       "_view_name": "StyleView",
       "description_width": ""
      }
     },
     "9eb6b36213004b60b58dbe067fcef0f9": {
      "model_module": "@jupyter-widgets/controls",
      "model_module_version": "1.5.0",
      "model_name": "HTMLModel",
      "state": {
       "_dom_classes": [],
       "_model_module": "@jupyter-widgets/controls",
       "_model_module_version": "1.5.0",
       "_model_name": "HTMLModel",
       "_view_count": null,
       "_view_module": "@jupyter-widgets/controls",
       "_view_module_version": "1.5.0",
       "_view_name": "HTMLView",
       "description": "",
       "description_tooltip": null,
       "layout": "IPY_MODEL_58179b76790340e888de6ddc260a66fd",
       "placeholder": "​",
       "style": "IPY_MODEL_93c0c949280145b48529854b685d928f",
       "value": ""
      }
     },
     "9f502e5ecd534c52bc9154991784ac4a": {
      "model_module": "@jupyter-widgets/base",
      "model_module_version": "1.2.0",
      "model_name": "LayoutModel",
      "state": {
       "_model_module": "@jupyter-widgets/base",
       "_model_module_version": "1.2.0",
       "_model_name": "LayoutModel",
       "_view_count": null,
       "_view_module": "@jupyter-widgets/base",
       "_view_module_version": "1.2.0",
       "_view_name": "LayoutView",
       "align_content": null,
       "align_items": null,
       "align_self": null,
       "border": null,
       "bottom": null,
       "display": null,
       "flex": null,
       "flex_flow": null,
       "grid_area": null,
       "grid_auto_columns": null,
       "grid_auto_flow": null,
       "grid_auto_rows": null,
       "grid_column": null,
       "grid_gap": null,
       "grid_row": null,
       "grid_template_areas": null,
       "grid_template_columns": null,
       "grid_template_rows": null,
       "height": null,
       "justify_content": null,
       "justify_items": null,
       "left": null,
       "margin": null,
       "max_height": null,
       "max_width": null,
       "min_height": null,
       "min_width": null,
       "object_fit": null,
       "object_position": null,
       "order": null,
       "overflow": null,
       "overflow_x": null,
       "overflow_y": null,
       "padding": null,
       "right": null,
       "top": null,
       "visibility": null,
       "width": null
      }
     },
     "a0534921cdf242ffac0d743316fa23ed": {
      "model_module": "@jupyter-widgets/base",
      "model_module_version": "1.2.0",
      "model_name": "LayoutModel",
      "state": {
       "_model_module": "@jupyter-widgets/base",
       "_model_module_version": "1.2.0",
       "_model_name": "LayoutModel",
       "_view_count": null,
       "_view_module": "@jupyter-widgets/base",
       "_view_module_version": "1.2.0",
       "_view_name": "LayoutView",
       "align_content": null,
       "align_items": null,
       "align_self": null,
       "border": null,
       "bottom": null,
       "display": null,
       "flex": null,
       "flex_flow": null,
       "grid_area": null,
       "grid_auto_columns": null,
       "grid_auto_flow": null,
       "grid_auto_rows": null,
       "grid_column": null,
       "grid_gap": null,
       "grid_row": null,
       "grid_template_areas": null,
       "grid_template_columns": null,
       "grid_template_rows": null,
       "height": null,
       "justify_content": null,
       "justify_items": null,
       "left": null,
       "margin": null,
       "max_height": null,
       "max_width": null,
       "min_height": null,
       "min_width": null,
       "object_fit": null,
       "object_position": null,
       "order": null,
       "overflow": null,
       "overflow_x": null,
       "overflow_y": null,
       "padding": null,
       "right": null,
       "top": null,
       "visibility": null,
       "width": null
      }
     },
     "a0c50f2e1f8b4d45b6dc5e1d8f21b6d0": {
      "model_module": "@jupyter-widgets/controls",
      "model_module_version": "1.5.0",
      "model_name": "ButtonModel",
      "state": {
       "_dom_classes": [],
       "_model_module": "@jupyter-widgets/controls",
       "_model_module_version": "1.5.0",
       "_model_name": "ButtonModel",
       "_view_count": null,
       "_view_module": "@jupyter-widgets/controls",
       "_view_module_version": "1.5.0",
       "_view_name": "ButtonView",
       "button_style": "",
       "description": "Check Answer",
       "disabled": false,
       "icon": "",
       "layout": "IPY_MODEL_f4171761ee604b1fbe70aac9aa838bde",
       "style": "IPY_MODEL_b0c94cee32c844829b30c8f00b3b9763",
       "tooltip": ""
      }
     },
     "a1310197e2eb4848bb2c6274db9c9d99": {
      "model_module": "@jupyter-widgets/controls",
      "model_module_version": "1.5.0",
      "model_name": "HTMLModel",
      "state": {
       "_dom_classes": [],
       "_model_module": "@jupyter-widgets/controls",
       "_model_module_version": "1.5.0",
       "_model_name": "HTMLModel",
       "_view_count": null,
       "_view_module": "@jupyter-widgets/controls",
       "_view_module_version": "1.5.0",
       "_view_name": "HTMLView",
       "description": "",
       "description_tooltip": null,
       "layout": "IPY_MODEL_b44e674b435a45ff8476a85fca131568",
       "placeholder": "​",
       "style": "IPY_MODEL_7bb6954e64fb4b2092ccb5321013b649",
       "value": ""
      }
     },
     "a6f57c3f1cfd4d979e6fa234a3303e93": {
      "model_module": "@jupyter-widgets/base",
      "model_module_version": "1.2.0",
      "model_name": "LayoutModel",
      "state": {
       "_model_module": "@jupyter-widgets/base",
       "_model_module_version": "1.2.0",
       "_model_name": "LayoutModel",
       "_view_count": null,
       "_view_module": "@jupyter-widgets/base",
       "_view_module_version": "1.2.0",
       "_view_name": "LayoutView",
       "align_content": null,
       "align_items": null,
       "align_self": null,
       "border": null,
       "bottom": null,
       "display": null,
       "flex": null,
       "flex_flow": null,
       "grid_area": null,
       "grid_auto_columns": null,
       "grid_auto_flow": null,
       "grid_auto_rows": null,
       "grid_column": null,
       "grid_gap": null,
       "grid_row": null,
       "grid_template_areas": null,
       "grid_template_columns": null,
       "grid_template_rows": null,
       "height": null,
       "justify_content": null,
       "justify_items": null,
       "left": null,
       "margin": null,
       "max_height": null,
       "max_width": null,
       "min_height": null,
       "min_width": null,
       "object_fit": null,
       "object_position": null,
       "order": null,
       "overflow": null,
       "overflow_x": null,
       "overflow_y": null,
       "padding": null,
       "right": null,
       "top": null,
       "visibility": null,
       "width": null
      }
     },
     "a805919f76f241e0901b3c861d6949c3": {
      "model_module": "@jupyter-widgets/controls",
      "model_module_version": "1.5.0",
      "model_name": "DescriptionStyleModel",
      "state": {
       "_model_module": "@jupyter-widgets/controls",
       "_model_module_version": "1.5.0",
       "_model_name": "DescriptionStyleModel",
       "_view_count": null,
       "_view_module": "@jupyter-widgets/base",
       "_view_module_version": "1.2.0",
       "_view_name": "StyleView",
       "description_width": ""
      }
     },
     "a93b6cb2a87c480aaede828416db4aa1": {
      "model_module": "@jupyter-widgets/controls",
      "model_module_version": "1.5.0",
      "model_name": "DescriptionStyleModel",
      "state": {
       "_model_module": "@jupyter-widgets/controls",
       "_model_module_version": "1.5.0",
       "_model_name": "DescriptionStyleModel",
       "_view_count": null,
       "_view_module": "@jupyter-widgets/base",
       "_view_module_version": "1.2.0",
       "_view_name": "StyleView",
       "description_width": "initial"
      }
     },
     "a96e3cb28dfb4d0ba67387468c43ffdd": {
      "model_module": "@jupyter-widgets/controls",
      "model_module_version": "1.5.0",
      "model_name": "HBoxModel",
      "state": {
       "_dom_classes": [],
       "_model_module": "@jupyter-widgets/controls",
       "_model_module_version": "1.5.0",
       "_model_name": "HBoxModel",
       "_view_count": null,
       "_view_module": "@jupyter-widgets/controls",
       "_view_module_version": "1.5.0",
       "_view_name": "HBoxView",
       "box_style": "",
       "children": [
        "IPY_MODEL_4f5610251b9e44c38e8add1b8f1744aa",
        "IPY_MODEL_ae98b4cf11f043f4a48faef3a8e84fa5"
       ],
       "layout": "IPY_MODEL_d67e17449db14bb4b747b8d4c841a5b8"
      }
     },
     "aade7cc2df024709b5b1c1a3ca2eac64": {
      "model_module": "@jupyter-widgets/base",
      "model_module_version": "1.2.0",
      "model_name": "LayoutModel",
      "state": {
       "_model_module": "@jupyter-widgets/base",
       "_model_module_version": "1.2.0",
       "_model_name": "LayoutModel",
       "_view_count": null,
       "_view_module": "@jupyter-widgets/base",
       "_view_module_version": "1.2.0",
       "_view_name": "LayoutView",
       "align_content": null,
       "align_items": null,
       "align_self": null,
       "border": null,
       "bottom": null,
       "display": null,
       "flex": null,
       "flex_flow": null,
       "grid_area": null,
       "grid_auto_columns": null,
       "grid_auto_flow": null,
       "grid_auto_rows": null,
       "grid_column": null,
       "grid_gap": null,
       "grid_row": null,
       "grid_template_areas": null,
       "grid_template_columns": null,
       "grid_template_rows": null,
       "height": null,
       "justify_content": null,
       "justify_items": null,
       "left": null,
       "margin": null,
       "max_height": null,
       "max_width": null,
       "min_height": null,
       "min_width": null,
       "object_fit": null,
       "object_position": null,
       "order": null,
       "overflow": null,
       "overflow_x": null,
       "overflow_y": null,
       "padding": null,
       "right": null,
       "top": null,
       "visibility": null,
       "width": null
      }
     },
     "abdbbb161b4d47eab1f93408e4f78834": {
      "model_module": "@jupyter-widgets/controls",
      "model_module_version": "1.5.0",
      "model_name": "ButtonStyleModel",
      "state": {
       "_model_module": "@jupyter-widgets/controls",
       "_model_module_version": "1.5.0",
       "_model_name": "ButtonStyleModel",
       "_view_count": null,
       "_view_module": "@jupyter-widgets/base",
       "_view_module_version": "1.2.0",
       "_view_name": "StyleView",
       "button_color": null,
       "font_weight": ""
      }
     },
     "ac9da23385ac4c88a2c3aa3094f4b6d5": {
      "model_module": "@jupyter-widgets/base",
      "model_module_version": "1.2.0",
      "model_name": "LayoutModel",
      "state": {
       "_model_module": "@jupyter-widgets/base",
       "_model_module_version": "1.2.0",
       "_model_name": "LayoutModel",
       "_view_count": null,
       "_view_module": "@jupyter-widgets/base",
       "_view_module_version": "1.2.0",
       "_view_name": "LayoutView",
       "align_content": null,
       "align_items": null,
       "align_self": null,
       "border": null,
       "bottom": null,
       "display": null,
       "flex": null,
       "flex_flow": null,
       "grid_area": null,
       "grid_auto_columns": null,
       "grid_auto_flow": null,
       "grid_auto_rows": null,
       "grid_column": null,
       "grid_gap": null,
       "grid_row": null,
       "grid_template_areas": null,
       "grid_template_columns": null,
       "grid_template_rows": null,
       "height": null,
       "justify_content": null,
       "justify_items": null,
       "left": null,
       "margin": null,
       "max_height": null,
       "max_width": null,
       "min_height": null,
       "min_width": null,
       "object_fit": null,
       "object_position": null,
       "order": null,
       "overflow": null,
       "overflow_x": null,
       "overflow_y": null,
       "padding": null,
       "right": null,
       "top": null,
       "visibility": null,
       "width": null
      }
     },
     "addaaf874ba740e0b298b02c752c4d59": {
      "model_module": "@jupyter-widgets/base",
      "model_module_version": "1.2.0",
      "model_name": "LayoutModel",
      "state": {
       "_model_module": "@jupyter-widgets/base",
       "_model_module_version": "1.2.0",
       "_model_name": "LayoutModel",
       "_view_count": null,
       "_view_module": "@jupyter-widgets/base",
       "_view_module_version": "1.2.0",
       "_view_name": "LayoutView",
       "align_content": null,
       "align_items": null,
       "align_self": null,
       "border": null,
       "bottom": null,
       "display": null,
       "flex": null,
       "flex_flow": null,
       "grid_area": null,
       "grid_auto_columns": null,
       "grid_auto_flow": null,
       "grid_auto_rows": null,
       "grid_column": null,
       "grid_gap": null,
       "grid_row": null,
       "grid_template_areas": null,
       "grid_template_columns": null,
       "grid_template_rows": null,
       "height": null,
       "justify_content": null,
       "justify_items": null,
       "left": null,
       "margin": null,
       "max_height": null,
       "max_width": null,
       "min_height": null,
       "min_width": null,
       "object_fit": null,
       "object_position": null,
       "order": null,
       "overflow": null,
       "overflow_x": null,
       "overflow_y": null,
       "padding": null,
       "right": null,
       "top": null,
       "visibility": null,
       "width": null
      }
     },
     "ae98b4cf11f043f4a48faef3a8e84fa5": {
      "model_module": "@jupyter-widgets/controls",
      "model_module_version": "1.5.0",
      "model_name": "ButtonModel",
      "state": {
       "_dom_classes": [],
       "_model_module": "@jupyter-widgets/controls",
       "_model_module_version": "1.5.0",
       "_model_name": "ButtonModel",
       "_view_count": null,
       "_view_module": "@jupyter-widgets/controls",
       "_view_module_version": "1.5.0",
       "_view_name": "ButtonView",
       "button_style": "",
       "description": "Graph",
       "disabled": false,
       "icon": "",
       "layout": "IPY_MODEL_6ba7dfa5f57a40d1bb9b40552af2270d",
       "style": "IPY_MODEL_e944393739234e8a983d256bd0875b26",
       "tooltip": ""
      }
     },
     "aff9322eec2349f890da3e4dba092757": {
      "model_module": "@jupyter-widgets/controls",
      "model_module_version": "1.5.0",
      "model_name": "SliderStyleModel",
      "state": {
       "_model_module": "@jupyter-widgets/controls",
       "_model_module_version": "1.5.0",
       "_model_name": "SliderStyleModel",
       "_view_count": null,
       "_view_module": "@jupyter-widgets/base",
       "_view_module_version": "1.2.0",
       "_view_name": "StyleView",
       "description_width": "",
       "handle_color": null
      }
     },
     "b0c94cee32c844829b30c8f00b3b9763": {
      "model_module": "@jupyter-widgets/controls",
      "model_module_version": "1.5.0",
      "model_name": "ButtonStyleModel",
      "state": {
       "_model_module": "@jupyter-widgets/controls",
       "_model_module_version": "1.5.0",
       "_model_name": "ButtonStyleModel",
       "_view_count": null,
       "_view_module": "@jupyter-widgets/base",
       "_view_module_version": "1.2.0",
       "_view_name": "StyleView",
       "button_color": null,
       "font_weight": ""
      }
     },
     "b15d53f29ba248a5992c02feb80875c8": {
      "model_module": "@jupyter-widgets/controls",
      "model_module_version": "1.5.0",
      "model_name": "ButtonStyleModel",
      "state": {
       "_model_module": "@jupyter-widgets/controls",
       "_model_module_version": "1.5.0",
       "_model_name": "ButtonStyleModel",
       "_view_count": null,
       "_view_module": "@jupyter-widgets/base",
       "_view_module_version": "1.2.0",
       "_view_name": "StyleView",
       "button_color": null,
       "font_weight": ""
      }
     },
     "b18848629a664de5a0086441e0af6c09": {
      "model_module": "@jupyter-widgets/controls",
      "model_module_version": "1.5.0",
      "model_name": "DescriptionStyleModel",
      "state": {
       "_model_module": "@jupyter-widgets/controls",
       "_model_module_version": "1.5.0",
       "_model_name": "DescriptionStyleModel",
       "_view_count": null,
       "_view_module": "@jupyter-widgets/base",
       "_view_module_version": "1.2.0",
       "_view_name": "StyleView",
       "description_width": ""
      }
     },
     "b1e940b4deaf44e8b3b007871988d7f0": {
      "model_module": "@jupyter-widgets/controls",
      "model_module_version": "1.5.0",
      "model_name": "HBoxModel",
      "state": {
       "_dom_classes": [],
       "_model_module": "@jupyter-widgets/controls",
       "_model_module_version": "1.5.0",
       "_model_name": "HBoxModel",
       "_view_count": null,
       "_view_module": "@jupyter-widgets/controls",
       "_view_module_version": "1.5.0",
       "_view_name": "HBoxView",
       "box_style": "",
       "children": [
        "IPY_MODEL_94f0ef20a4344f318eac18d35930564f",
        "IPY_MODEL_d7e955fe676c45d58c5210cd22e6f21a"
       ],
       "layout": "IPY_MODEL_f24c9555b62d403c9f636913dc9f44ff"
      }
     },
     "b1f1f06ef11c4168bef6ee3cc8d1635d": {
      "model_module": "@jupyter-widgets/base",
      "model_module_version": "1.2.0",
      "model_name": "LayoutModel",
      "state": {
       "_model_module": "@jupyter-widgets/base",
       "_model_module_version": "1.2.0",
       "_model_name": "LayoutModel",
       "_view_count": null,
       "_view_module": "@jupyter-widgets/base",
       "_view_module_version": "1.2.0",
       "_view_name": "LayoutView",
       "align_content": null,
       "align_items": null,
       "align_self": null,
       "border": null,
       "bottom": null,
       "display": null,
       "flex": null,
       "flex_flow": null,
       "grid_area": null,
       "grid_auto_columns": null,
       "grid_auto_flow": null,
       "grid_auto_rows": null,
       "grid_column": null,
       "grid_gap": null,
       "grid_row": null,
       "grid_template_areas": null,
       "grid_template_columns": null,
       "grid_template_rows": null,
       "height": "40px",
       "justify_content": null,
       "justify_items": null,
       "left": null,
       "margin": null,
       "max_height": null,
       "max_width": null,
       "min_height": null,
       "min_width": null,
       "object_fit": null,
       "object_position": null,
       "order": null,
       "overflow": null,
       "overflow_x": null,
       "overflow_y": null,
       "padding": null,
       "right": null,
       "top": null,
       "visibility": null,
       "width": "30%"
      }
     },
     "b2de487582044968b44c1a645a2ab76c": {
      "model_module": "@jupyter-widgets/controls",
      "model_module_version": "1.5.0",
      "model_name": "TextModel",
      "state": {
       "_dom_classes": [],
       "_model_module": "@jupyter-widgets/controls",
       "_model_module_version": "1.5.0",
       "_model_name": "TextModel",
       "_view_count": null,
       "_view_module": "@jupyter-widgets/controls",
       "_view_module_version": "1.5.0",
       "_view_name": "TextView",
       "continuous_update": true,
       "description": "",
       "description_tooltip": null,
       "disabled": false,
       "layout": "IPY_MODEL_35f6a08d90bf4074a496b29637369499",
       "placeholder": "Enter interval",
       "style": "IPY_MODEL_c7aee95b0d2149cbb42e45dfc17ded63",
       "value": ""
      }
     },
     "b2f067ac32d7488fa483c2684ef4db57": {
      "model_module": "@jupyter-widgets/output",
      "model_module_version": "1.0.0",
      "model_name": "OutputModel",
      "state": {
       "_dom_classes": [],
       "_model_module": "@jupyter-widgets/output",
       "_model_module_version": "1.0.0",
       "_model_name": "OutputModel",
       "_view_count": null,
       "_view_module": "@jupyter-widgets/output",
       "_view_module_version": "1.0.0",
       "_view_name": "OutputView",
       "layout": "IPY_MODEL_21dded4f2da24655861986236271dce6",
       "msg_id": "",
       "outputs": [
        {
         "data": {
          "image/png": "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\n",
          "text/plain": "<Figure size 792x576 with 1 Axes>"
         },
         "metadata": {
          "needs_background": "light"
         },
         "output_type": "display_data"
        }
       ]
      }
     },
     "b3c8ac2fb85148ecb9d5e077a01ee1d1": {
      "model_module": "@jupyter-widgets/base",
      "model_module_version": "1.2.0",
      "model_name": "LayoutModel",
      "state": {
       "_model_module": "@jupyter-widgets/base",
       "_model_module_version": "1.2.0",
       "_model_name": "LayoutModel",
       "_view_count": null,
       "_view_module": "@jupyter-widgets/base",
       "_view_module_version": "1.2.0",
       "_view_name": "LayoutView",
       "align_content": null,
       "align_items": null,
       "align_self": null,
       "border": null,
       "bottom": null,
       "display": null,
       "flex": null,
       "flex_flow": null,
       "grid_area": null,
       "grid_auto_columns": null,
       "grid_auto_flow": null,
       "grid_auto_rows": null,
       "grid_column": null,
       "grid_gap": null,
       "grid_row": null,
       "grid_template_areas": null,
       "grid_template_columns": null,
       "grid_template_rows": null,
       "height": null,
       "justify_content": null,
       "justify_items": null,
       "left": null,
       "margin": null,
       "max_height": null,
       "max_width": null,
       "min_height": null,
       "min_width": null,
       "object_fit": null,
       "object_position": null,
       "order": null,
       "overflow": null,
       "overflow_x": null,
       "overflow_y": null,
       "padding": null,
       "right": null,
       "top": null,
       "visibility": null,
       "width": null
      }
     },
     "b44e674b435a45ff8476a85fca131568": {
      "model_module": "@jupyter-widgets/base",
      "model_module_version": "1.2.0",
      "model_name": "LayoutModel",
      "state": {
       "_model_module": "@jupyter-widgets/base",
       "_model_module_version": "1.2.0",
       "_model_name": "LayoutModel",
       "_view_count": null,
       "_view_module": "@jupyter-widgets/base",
       "_view_module_version": "1.2.0",
       "_view_name": "LayoutView",
       "align_content": null,
       "align_items": null,
       "align_self": null,
       "border": null,
       "bottom": null,
       "display": null,
       "flex": null,
       "flex_flow": null,
       "grid_area": null,
       "grid_auto_columns": null,
       "grid_auto_flow": null,
       "grid_auto_rows": null,
       "grid_column": null,
       "grid_gap": null,
       "grid_row": null,
       "grid_template_areas": null,
       "grid_template_columns": null,
       "grid_template_rows": null,
       "height": null,
       "justify_content": null,
       "justify_items": null,
       "left": null,
       "margin": null,
       "max_height": null,
       "max_width": null,
       "min_height": null,
       "min_width": null,
       "object_fit": null,
       "object_position": null,
       "order": null,
       "overflow": null,
       "overflow_x": null,
       "overflow_y": null,
       "padding": null,
       "right": null,
       "top": null,
       "visibility": null,
       "width": null
      }
     },
     "b993d21fb7dc493f84400266cab7357f": {
      "model_module": "@jupyter-widgets/controls",
      "model_module_version": "1.5.0",
      "model_name": "DescriptionStyleModel",
      "state": {
       "_model_module": "@jupyter-widgets/controls",
       "_model_module_version": "1.5.0",
       "_model_name": "DescriptionStyleModel",
       "_view_count": null,
       "_view_module": "@jupyter-widgets/base",
       "_view_module_version": "1.2.0",
       "_view_name": "StyleView",
       "description_width": ""
      }
     },
     "ba7de9967bfa457a88810abe681bb800": {
      "model_module": "@jupyter-widgets/base",
      "model_module_version": "1.2.0",
      "model_name": "LayoutModel",
      "state": {
       "_model_module": "@jupyter-widgets/base",
       "_model_module_version": "1.2.0",
       "_model_name": "LayoutModel",
       "_view_count": null,
       "_view_module": "@jupyter-widgets/base",
       "_view_module_version": "1.2.0",
       "_view_name": "LayoutView",
       "align_content": null,
       "align_items": null,
       "align_self": null,
       "border": null,
       "bottom": null,
       "display": null,
       "flex": null,
       "flex_flow": null,
       "grid_area": null,
       "grid_auto_columns": null,
       "grid_auto_flow": null,
       "grid_auto_rows": null,
       "grid_column": null,
       "grid_gap": null,
       "grid_row": null,
       "grid_template_areas": null,
       "grid_template_columns": null,
       "grid_template_rows": null,
       "height": null,
       "justify_content": null,
       "justify_items": null,
       "left": null,
       "margin": null,
       "max_height": null,
       "max_width": null,
       "min_height": null,
       "min_width": null,
       "object_fit": null,
       "object_position": null,
       "order": null,
       "overflow": null,
       "overflow_x": null,
       "overflow_y": null,
       "padding": null,
       "right": null,
       "top": null,
       "visibility": null,
       "width": null
      }
     },
     "bae972bab99149fc8f13b360dcbb4f3b": {
      "model_module": "@jupyter-widgets/controls",
      "model_module_version": "1.5.0",
      "model_name": "DescriptionStyleModel",
      "state": {
       "_model_module": "@jupyter-widgets/controls",
       "_model_module_version": "1.5.0",
       "_model_name": "DescriptionStyleModel",
       "_view_count": null,
       "_view_module": "@jupyter-widgets/base",
       "_view_module_version": "1.2.0",
       "_view_name": "StyleView",
       "description_width": ""
      }
     },
     "bbef5cdd603b40c3b5ff79c359573f3c": {
      "model_module": "@jupyter-widgets/base",
      "model_module_version": "1.2.0",
      "model_name": "LayoutModel",
      "state": {
       "_model_module": "@jupyter-widgets/base",
       "_model_module_version": "1.2.0",
       "_model_name": "LayoutModel",
       "_view_count": null,
       "_view_module": "@jupyter-widgets/base",
       "_view_module_version": "1.2.0",
       "_view_name": "LayoutView",
       "align_content": null,
       "align_items": null,
       "align_self": null,
       "border": null,
       "bottom": null,
       "display": null,
       "flex": null,
       "flex_flow": null,
       "grid_area": null,
       "grid_auto_columns": null,
       "grid_auto_flow": null,
       "grid_auto_rows": null,
       "grid_column": null,
       "grid_gap": null,
       "grid_row": null,
       "grid_template_areas": null,
       "grid_template_columns": null,
       "grid_template_rows": null,
       "height": null,
       "justify_content": null,
       "justify_items": null,
       "left": null,
       "margin": null,
       "max_height": null,
       "max_width": null,
       "min_height": null,
       "min_width": null,
       "object_fit": null,
       "object_position": null,
       "order": null,
       "overflow": null,
       "overflow_x": null,
       "overflow_y": null,
       "padding": null,
       "right": null,
       "top": null,
       "visibility": null,
       "width": null
      }
     },
     "bec98553b30a4349a80588888a3267f7": {
      "model_module": "@jupyter-widgets/base",
      "model_module_version": "1.2.0",
      "model_name": "LayoutModel",
      "state": {
       "_model_module": "@jupyter-widgets/base",
       "_model_module_version": "1.2.0",
       "_model_name": "LayoutModel",
       "_view_count": null,
       "_view_module": "@jupyter-widgets/base",
       "_view_module_version": "1.2.0",
       "_view_name": "LayoutView",
       "align_content": null,
       "align_items": null,
       "align_self": null,
       "border": null,
       "bottom": null,
       "display": null,
       "flex": null,
       "flex_flow": null,
       "grid_area": null,
       "grid_auto_columns": null,
       "grid_auto_flow": null,
       "grid_auto_rows": null,
       "grid_column": null,
       "grid_gap": null,
       "grid_row": null,
       "grid_template_areas": null,
       "grid_template_columns": null,
       "grid_template_rows": null,
       "height": null,
       "justify_content": null,
       "justify_items": null,
       "left": null,
       "margin": null,
       "max_height": null,
       "max_width": null,
       "min_height": null,
       "min_width": null,
       "object_fit": null,
       "object_position": null,
       "order": null,
       "overflow": null,
       "overflow_x": null,
       "overflow_y": null,
       "padding": null,
       "right": null,
       "top": null,
       "visibility": null,
       "width": null
      }
     },
     "c0d86ef1a9d8490aafaefed354cd72d9": {
      "model_module": "@jupyter-widgets/controls",
      "model_module_version": "1.5.0",
      "model_name": "ButtonModel",
      "state": {
       "_dom_classes": [],
       "_model_module": "@jupyter-widgets/controls",
       "_model_module_version": "1.5.0",
       "_model_name": "ButtonModel",
       "_view_count": null,
       "_view_module": "@jupyter-widgets/controls",
       "_view_module_version": "1.5.0",
       "_view_name": "ButtonView",
       "button_style": "",
       "description": "Check Answer",
       "disabled": false,
       "icon": "",
       "layout": "IPY_MODEL_0d8d97ef807e420ca2037322f502d7e8",
       "style": "IPY_MODEL_c2d1762127384691936de1f0849ac271",
       "tooltip": ""
      }
     },
     "c187cdaa386544e6b06936f39cb5d2fa": {
      "model_module": "@jupyter-widgets/base",
      "model_module_version": "1.2.0",
      "model_name": "LayoutModel",
      "state": {
       "_model_module": "@jupyter-widgets/base",
       "_model_module_version": "1.2.0",
       "_model_name": "LayoutModel",
       "_view_count": null,
       "_view_module": "@jupyter-widgets/base",
       "_view_module_version": "1.2.0",
       "_view_name": "LayoutView",
       "align_content": null,
       "align_items": null,
       "align_self": null,
       "border": null,
       "bottom": null,
       "display": null,
       "flex": null,
       "flex_flow": null,
       "grid_area": null,
       "grid_auto_columns": null,
       "grid_auto_flow": null,
       "grid_auto_rows": null,
       "grid_column": null,
       "grid_gap": null,
       "grid_row": null,
       "grid_template_areas": null,
       "grid_template_columns": null,
       "grid_template_rows": null,
       "height": null,
       "justify_content": null,
       "justify_items": null,
       "left": null,
       "margin": null,
       "max_height": null,
       "max_width": null,
       "min_height": null,
       "min_width": null,
       "object_fit": null,
       "object_position": null,
       "order": null,
       "overflow": null,
       "overflow_x": null,
       "overflow_y": null,
       "padding": null,
       "right": null,
       "top": null,
       "visibility": null,
       "width": null
      }
     },
     "c2d1762127384691936de1f0849ac271": {
      "model_module": "@jupyter-widgets/controls",
      "model_module_version": "1.5.0",
      "model_name": "ButtonStyleModel",
      "state": {
       "_model_module": "@jupyter-widgets/controls",
       "_model_module_version": "1.5.0",
       "_model_name": "ButtonStyleModel",
       "_view_count": null,
       "_view_module": "@jupyter-widgets/base",
       "_view_module_version": "1.2.0",
       "_view_name": "StyleView",
       "button_color": null,
       "font_weight": ""
      }
     },
     "c43c88ea79044dee825f08a72fb6f264": {
      "model_module": "@jupyter-widgets/base",
      "model_module_version": "1.2.0",
      "model_name": "LayoutModel",
      "state": {
       "_model_module": "@jupyter-widgets/base",
       "_model_module_version": "1.2.0",
       "_model_name": "LayoutModel",
       "_view_count": null,
       "_view_module": "@jupyter-widgets/base",
       "_view_module_version": "1.2.0",
       "_view_name": "LayoutView",
       "align_content": null,
       "align_items": null,
       "align_self": null,
       "border": null,
       "bottom": null,
       "display": null,
       "flex": null,
       "flex_flow": null,
       "grid_area": null,
       "grid_auto_columns": null,
       "grid_auto_flow": null,
       "grid_auto_rows": null,
       "grid_column": null,
       "grid_gap": null,
       "grid_row": null,
       "grid_template_areas": null,
       "grid_template_columns": null,
       "grid_template_rows": null,
       "height": null,
       "justify_content": null,
       "justify_items": null,
       "left": null,
       "margin": null,
       "max_height": null,
       "max_width": null,
       "min_height": null,
       "min_width": null,
       "object_fit": null,
       "object_position": null,
       "order": null,
       "overflow": null,
       "overflow_x": null,
       "overflow_y": null,
       "padding": null,
       "right": null,
       "top": null,
       "visibility": null,
       "width": null
      }
     },
     "c67a953a11bc4381b7f29f0ffb42274e": {
      "model_module": "@jupyter-widgets/base",
      "model_module_version": "1.2.0",
      "model_name": "LayoutModel",
      "state": {
       "_model_module": "@jupyter-widgets/base",
       "_model_module_version": "1.2.0",
       "_model_name": "LayoutModel",
       "_view_count": null,
       "_view_module": "@jupyter-widgets/base",
       "_view_module_version": "1.2.0",
       "_view_name": "LayoutView",
       "align_content": null,
       "align_items": null,
       "align_self": null,
       "border": null,
       "bottom": null,
       "display": null,
       "flex": null,
       "flex_flow": null,
       "grid_area": null,
       "grid_auto_columns": null,
       "grid_auto_flow": null,
       "grid_auto_rows": null,
       "grid_column": null,
       "grid_gap": null,
       "grid_row": null,
       "grid_template_areas": null,
       "grid_template_columns": null,
       "grid_template_rows": null,
       "height": null,
       "justify_content": null,
       "justify_items": null,
       "left": null,
       "margin": null,
       "max_height": null,
       "max_width": null,
       "min_height": null,
       "min_width": null,
       "object_fit": null,
       "object_position": null,
       "order": null,
       "overflow": null,
       "overflow_x": null,
       "overflow_y": null,
       "padding": null,
       "right": null,
       "top": null,
       "visibility": null,
       "width": null
      }
     },
     "c7aee95b0d2149cbb42e45dfc17ded63": {
      "model_module": "@jupyter-widgets/controls",
      "model_module_version": "1.5.0",
      "model_name": "DescriptionStyleModel",
      "state": {
       "_model_module": "@jupyter-widgets/controls",
       "_model_module_version": "1.5.0",
       "_model_name": "DescriptionStyleModel",
       "_view_count": null,
       "_view_module": "@jupyter-widgets/base",
       "_view_module_version": "1.2.0",
       "_view_name": "StyleView",
       "description_width": ""
      }
     },
     "c8b390b9480a4a5092c59b330bbf4fa5": {
      "model_module": "@jupyter-widgets/controls",
      "model_module_version": "1.5.0",
      "model_name": "DescriptionStyleModel",
      "state": {
       "_model_module": "@jupyter-widgets/controls",
       "_model_module_version": "1.5.0",
       "_model_name": "DescriptionStyleModel",
       "_view_count": null,
       "_view_module": "@jupyter-widgets/base",
       "_view_module_version": "1.2.0",
       "_view_name": "StyleView",
       "description_width": ""
      }
     },
     "c9a7508152d448c28da5a38359d6ecb8": {
      "model_module": "@jupyter-widgets/controls",
      "model_module_version": "1.5.0",
      "model_name": "ButtonModel",
      "state": {
       "_dom_classes": [],
       "_model_module": "@jupyter-widgets/controls",
       "_model_module_version": "1.5.0",
       "_model_name": "ButtonModel",
       "_view_count": null,
       "_view_module": "@jupyter-widgets/controls",
       "_view_module_version": "1.5.0",
       "_view_name": "ButtonView",
       "button_style": "",
       "description": "Graph",
       "disabled": false,
       "icon": "",
       "layout": "IPY_MODEL_9e567064ff2a4454a9b90e0a4327f16a",
       "style": "IPY_MODEL_48c4de01e801415da6b9cf543572d8c5",
       "tooltip": ""
      }
     },
     "cada13b8f2a54220adf407e0e643ff22": {
      "model_module": "@jupyter-widgets/base",
      "model_module_version": "1.2.0",
      "model_name": "LayoutModel",
      "state": {
       "_model_module": "@jupyter-widgets/base",
       "_model_module_version": "1.2.0",
       "_model_name": "LayoutModel",
       "_view_count": null,
       "_view_module": "@jupyter-widgets/base",
       "_view_module_version": "1.2.0",
       "_view_name": "LayoutView",
       "align_content": null,
       "align_items": null,
       "align_self": null,
       "border": null,
       "bottom": null,
       "display": null,
       "flex": null,
       "flex_flow": null,
       "grid_area": null,
       "grid_auto_columns": null,
       "grid_auto_flow": null,
       "grid_auto_rows": null,
       "grid_column": null,
       "grid_gap": null,
       "grid_row": null,
       "grid_template_areas": null,
       "grid_template_columns": null,
       "grid_template_rows": null,
       "height": null,
       "justify_content": null,
       "justify_items": null,
       "left": null,
       "margin": null,
       "max_height": null,
       "max_width": null,
       "min_height": null,
       "min_width": null,
       "object_fit": null,
       "object_position": null,
       "order": null,
       "overflow": null,
       "overflow_x": null,
       "overflow_y": null,
       "padding": null,
       "right": null,
       "top": null,
       "visibility": null,
       "width": null
      }
     },
     "cb97e5ad7879418faee7b7f93666a5a6": {
      "model_module": "@jupyter-widgets/base",
      "model_module_version": "1.2.0",
      "model_name": "LayoutModel",
      "state": {
       "_model_module": "@jupyter-widgets/base",
       "_model_module_version": "1.2.0",
       "_model_name": "LayoutModel",
       "_view_count": null,
       "_view_module": "@jupyter-widgets/base",
       "_view_module_version": "1.2.0",
       "_view_name": "LayoutView",
       "align_content": null,
       "align_items": null,
       "align_self": null,
       "border": null,
       "bottom": null,
       "display": null,
       "flex": null,
       "flex_flow": null,
       "grid_area": null,
       "grid_auto_columns": null,
       "grid_auto_flow": null,
       "grid_auto_rows": null,
       "grid_column": null,
       "grid_gap": null,
       "grid_row": null,
       "grid_template_areas": null,
       "grid_template_columns": null,
       "grid_template_rows": null,
       "height": null,
       "justify_content": null,
       "justify_items": null,
       "left": null,
       "margin": null,
       "max_height": null,
       "max_width": null,
       "min_height": null,
       "min_width": null,
       "object_fit": null,
       "object_position": null,
       "order": null,
       "overflow": null,
       "overflow_x": null,
       "overflow_y": null,
       "padding": null,
       "right": null,
       "top": null,
       "visibility": null,
       "width": null
      }
     },
     "ccb7144ced2f402f8fa073e49f3945ce": {
      "model_module": "@jupyter-widgets/controls",
      "model_module_version": "1.5.0",
      "model_name": "TextModel",
      "state": {
       "_dom_classes": [],
       "_model_module": "@jupyter-widgets/controls",
       "_model_module_version": "1.5.0",
       "_model_name": "TextModel",
       "_view_count": null,
       "_view_module": "@jupyter-widgets/controls",
       "_view_module_version": "1.5.0",
       "_view_name": "TextView",
       "continuous_update": true,
       "description": "",
       "description_tooltip": null,
       "disabled": false,
       "layout": "IPY_MODEL_17f86def1f344aaa93226a0cd5752767",
       "placeholder": "Enter Interval",
       "style": "IPY_MODEL_a805919f76f241e0901b3c861d6949c3",
       "value": ""
      }
     },
     "ccf21b1005304610bf1e3f8059f32f71": {
      "model_module": "@jupyter-widgets/controls",
      "model_module_version": "1.5.0",
      "model_name": "ButtonStyleModel",
      "state": {
       "_model_module": "@jupyter-widgets/controls",
       "_model_module_version": "1.5.0",
       "_model_name": "ButtonStyleModel",
       "_view_count": null,
       "_view_module": "@jupyter-widgets/base",
       "_view_module_version": "1.2.0",
       "_view_name": "StyleView",
       "button_color": null,
       "font_weight": ""
      }
     },
     "cf0542b1cbc04020a40dc1935c405cb0": {
      "model_module": "@jupyter-widgets/controls",
      "model_module_version": "1.5.0",
      "model_name": "DescriptionStyleModel",
      "state": {
       "_model_module": "@jupyter-widgets/controls",
       "_model_module_version": "1.5.0",
       "_model_name": "DescriptionStyleModel",
       "_view_count": null,
       "_view_module": "@jupyter-widgets/base",
       "_view_module_version": "1.2.0",
       "_view_name": "StyleView",
       "description_width": ""
      }
     },
     "cff51cd355dd4f4dbb2a131321f73ae8": {
      "model_module": "@jupyter-widgets/controls",
      "model_module_version": "1.5.0",
      "model_name": "DescriptionStyleModel",
      "state": {
       "_model_module": "@jupyter-widgets/controls",
       "_model_module_version": "1.5.0",
       "_model_name": "DescriptionStyleModel",
       "_view_count": null,
       "_view_module": "@jupyter-widgets/base",
       "_view_module_version": "1.2.0",
       "_view_name": "StyleView",
       "description_width": ""
      }
     },
     "d107b78981bb497189b4781ccd175763": {
      "model_module": "@jupyter-widgets/controls",
      "model_module_version": "1.5.0",
      "model_name": "ButtonModel",
      "state": {
       "_dom_classes": [],
       "_model_module": "@jupyter-widgets/controls",
       "_model_module_version": "1.5.0",
       "_model_name": "ButtonModel",
       "_view_count": null,
       "_view_module": "@jupyter-widgets/controls",
       "_view_module_version": "1.5.0",
       "_view_name": "ButtonView",
       "button_style": "",
       "description": "Check Answer",
       "disabled": false,
       "icon": "",
       "layout": "IPY_MODEL_8bf727b5a5af45d0983131aef4658e32",
       "style": "IPY_MODEL_40b882a1e6a249719fab7de6417a81a4",
       "tooltip": ""
      }
     },
     "d15e52ca87124349ae9052fb62061e91": {
      "model_module": "@jupyter-widgets/controls",
      "model_module_version": "1.5.0",
      "model_name": "HTMLModel",
      "state": {
       "_dom_classes": [],
       "_model_module": "@jupyter-widgets/controls",
       "_model_module_version": "1.5.0",
       "_model_name": "HTMLModel",
       "_view_count": null,
       "_view_module": "@jupyter-widgets/controls",
       "_view_module_version": "1.5.0",
       "_view_name": "HTMLView",
       "description": "",
       "description_tooltip": null,
       "layout": "IPY_MODEL_83b6b70a9c3b445e87ce23ea52caa568",
       "placeholder": "​",
       "style": "IPY_MODEL_4c983a49104a4396b45867b733ecd137",
       "value": ""
      }
     },
     "d22aead4301448fa86459b39188fe9bf": {
      "model_module": "@jupyter-widgets/controls",
      "model_module_version": "1.5.0",
      "model_name": "HTMLModel",
      "state": {
       "_dom_classes": [],
       "_model_module": "@jupyter-widgets/controls",
       "_model_module_version": "1.5.0",
       "_model_name": "HTMLModel",
       "_view_count": null,
       "_view_module": "@jupyter-widgets/controls",
       "_view_module_version": "1.5.0",
       "_view_name": "HTMLView",
       "description": "",
       "description_tooltip": null,
       "layout": "IPY_MODEL_2da3773149834872b3dbd4ebdcf9420c",
       "placeholder": "​",
       "style": "IPY_MODEL_c8b390b9480a4a5092c59b330bbf4fa5",
       "value": ""
      }
     },
     "d605030b9e504864acd20004346eaa96": {
      "model_module": "@jupyter-widgets/controls",
      "model_module_version": "1.5.0",
      "model_name": "ButtonModel",
      "state": {
       "_dom_classes": [],
       "_model_module": "@jupyter-widgets/controls",
       "_model_module_version": "1.5.0",
       "_model_name": "ButtonModel",
       "_view_count": null,
       "_view_module": "@jupyter-widgets/controls",
       "_view_module_version": "1.5.0",
       "_view_name": "ButtonView",
       "button_style": "",
       "description": "Check Answer",
       "disabled": false,
       "icon": "",
       "layout": "IPY_MODEL_73a6df1a1d0e47ad8a7761497384b165",
       "style": "IPY_MODEL_13d4149307c14b238c92b0377a58caec",
       "tooltip": ""
      }
     },
     "d67e17449db14bb4b747b8d4c841a5b8": {
      "model_module": "@jupyter-widgets/base",
      "model_module_version": "1.2.0",
      "model_name": "LayoutModel",
      "state": {
       "_model_module": "@jupyter-widgets/base",
       "_model_module_version": "1.2.0",
       "_model_name": "LayoutModel",
       "_view_count": null,
       "_view_module": "@jupyter-widgets/base",
       "_view_module_version": "1.2.0",
       "_view_name": "LayoutView",
       "align_content": null,
       "align_items": null,
       "align_self": null,
       "border": null,
       "bottom": null,
       "display": null,
       "flex": null,
       "flex_flow": null,
       "grid_area": null,
       "grid_auto_columns": null,
       "grid_auto_flow": null,
       "grid_auto_rows": null,
       "grid_column": null,
       "grid_gap": null,
       "grid_row": null,
       "grid_template_areas": null,
       "grid_template_columns": null,
       "grid_template_rows": null,
       "height": null,
       "justify_content": null,
       "justify_items": null,
       "left": null,
       "margin": null,
       "max_height": null,
       "max_width": null,
       "min_height": null,
       "min_width": null,
       "object_fit": null,
       "object_position": null,
       "order": null,
       "overflow": null,
       "overflow_x": null,
       "overflow_y": null,
       "padding": null,
       "right": null,
       "top": null,
       "visibility": null,
       "width": null
      }
     },
     "d7e955fe676c45d58c5210cd22e6f21a": {
      "model_module": "@jupyter-widgets/controls",
      "model_module_version": "1.5.0",
      "model_name": "ButtonModel",
      "state": {
       "_dom_classes": [],
       "_model_module": "@jupyter-widgets/controls",
       "_model_module_version": "1.5.0",
       "_model_name": "ButtonModel",
       "_view_count": null,
       "_view_module": "@jupyter-widgets/controls",
       "_view_module_version": "1.5.0",
       "_view_name": "ButtonView",
       "button_style": "",
       "description": "Check Answer",
       "disabled": false,
       "icon": "",
       "layout": "IPY_MODEL_1804a95fac7b4f40858950dcbe513f4a",
       "style": "IPY_MODEL_ccf21b1005304610bf1e3f8059f32f71",
       "tooltip": ""
      }
     },
     "d82eb8141f5d485e82efed88111796cd": {
      "model_module": "@jupyter-widgets/base",
      "model_module_version": "1.2.0",
      "model_name": "LayoutModel",
      "state": {
       "_model_module": "@jupyter-widgets/base",
       "_model_module_version": "1.2.0",
       "_model_name": "LayoutModel",
       "_view_count": null,
       "_view_module": "@jupyter-widgets/base",
       "_view_module_version": "1.2.0",
       "_view_name": "LayoutView",
       "align_content": null,
       "align_items": null,
       "align_self": null,
       "border": null,
       "bottom": null,
       "display": null,
       "flex": null,
       "flex_flow": null,
       "grid_area": null,
       "grid_auto_columns": null,
       "grid_auto_flow": null,
       "grid_auto_rows": null,
       "grid_column": null,
       "grid_gap": null,
       "grid_row": null,
       "grid_template_areas": null,
       "grid_template_columns": null,
       "grid_template_rows": null,
       "height": null,
       "justify_content": null,
       "justify_items": null,
       "left": null,
       "margin": null,
       "max_height": null,
       "max_width": null,
       "min_height": null,
       "min_width": null,
       "object_fit": null,
       "object_position": null,
       "order": null,
       "overflow": null,
       "overflow_x": null,
       "overflow_y": null,
       "padding": null,
       "right": null,
       "top": null,
       "visibility": null,
       "width": null
      }
     },
     "d8c23663544046209b0033b6a9a743fe": {
      "model_module": "@jupyter-widgets/base",
      "model_module_version": "1.2.0",
      "model_name": "LayoutModel",
      "state": {
       "_model_module": "@jupyter-widgets/base",
       "_model_module_version": "1.2.0",
       "_model_name": "LayoutModel",
       "_view_count": null,
       "_view_module": "@jupyter-widgets/base",
       "_view_module_version": "1.2.0",
       "_view_name": "LayoutView",
       "align_content": null,
       "align_items": null,
       "align_self": null,
       "border": null,
       "bottom": null,
       "display": null,
       "flex": null,
       "flex_flow": null,
       "grid_area": null,
       "grid_auto_columns": null,
       "grid_auto_flow": null,
       "grid_auto_rows": null,
       "grid_column": null,
       "grid_gap": null,
       "grid_row": null,
       "grid_template_areas": null,
       "grid_template_columns": null,
       "grid_template_rows": null,
       "height": null,
       "justify_content": null,
       "justify_items": null,
       "left": null,
       "margin": null,
       "max_height": null,
       "max_width": null,
       "min_height": null,
       "min_width": null,
       "object_fit": null,
       "object_position": null,
       "order": null,
       "overflow": null,
       "overflow_x": null,
       "overflow_y": null,
       "padding": null,
       "right": null,
       "top": null,
       "visibility": null,
       "width": null
      }
     },
     "db0dd45ad4794cdab67bc72cefddbc85": {
      "model_module": "@jupyter-widgets/base",
      "model_module_version": "1.2.0",
      "model_name": "LayoutModel",
      "state": {
       "_model_module": "@jupyter-widgets/base",
       "_model_module_version": "1.2.0",
       "_model_name": "LayoutModel",
       "_view_count": null,
       "_view_module": "@jupyter-widgets/base",
       "_view_module_version": "1.2.0",
       "_view_name": "LayoutView",
       "align_content": null,
       "align_items": null,
       "align_self": null,
       "border": null,
       "bottom": null,
       "display": null,
       "flex": null,
       "flex_flow": null,
       "grid_area": null,
       "grid_auto_columns": null,
       "grid_auto_flow": null,
       "grid_auto_rows": null,
       "grid_column": null,
       "grid_gap": null,
       "grid_row": null,
       "grid_template_areas": null,
       "grid_template_columns": null,
       "grid_template_rows": null,
       "height": "40px",
       "justify_content": null,
       "justify_items": null,
       "left": null,
       "margin": null,
       "max_height": null,
       "max_width": null,
       "min_height": null,
       "min_width": null,
       "object_fit": null,
       "object_position": null,
       "order": null,
       "overflow": null,
       "overflow_x": null,
       "overflow_y": null,
       "padding": null,
       "right": null,
       "top": null,
       "visibility": null,
       "width": "30%"
      }
     },
     "dcfee3bb92014874b39aa0274ad2cc3e": {
      "model_module": "@jupyter-widgets/controls",
      "model_module_version": "1.5.0",
      "model_name": "IntSliderModel",
      "state": {
       "_dom_classes": [],
       "_model_module": "@jupyter-widgets/controls",
       "_model_module_version": "1.5.0",
       "_model_name": "IntSliderModel",
       "_view_count": null,
       "_view_module": "@jupyter-widgets/controls",
       "_view_module_version": "1.5.0",
       "_view_name": "IntSliderView",
       "continuous_update": false,
       "description": "k",
       "description_tooltip": null,
       "disabled": false,
       "layout": "IPY_MODEL_c43c88ea79044dee825f08a72fb6f264",
       "max": 10,
       "min": -10,
       "orientation": "horizontal",
       "readout": true,
       "readout_format": "d",
       "step": 1,
       "style": "IPY_MODEL_183bd76cc4ee4551ad5f2d18bbc12774",
       "value": 0
      }
     },
     "dd6f8998a4434af78ed6ffa41eabe4f0": {
      "model_module": "@jupyter-widgets/controls",
      "model_module_version": "1.5.0",
      "model_name": "DescriptionStyleModel",
      "state": {
       "_model_module": "@jupyter-widgets/controls",
       "_model_module_version": "1.5.0",
       "_model_name": "DescriptionStyleModel",
       "_view_count": null,
       "_view_module": "@jupyter-widgets/base",
       "_view_module_version": "1.2.0",
       "_view_name": "StyleView",
       "description_width": ""
      }
     },
     "de8b701d05814816a93e8a59a63e266d": {
      "model_module": "@jupyter-widgets/controls",
      "model_module_version": "1.5.0",
      "model_name": "VBoxModel",
      "state": {
       "_dom_classes": [
        "widget-interact"
       ],
       "_model_module": "@jupyter-widgets/controls",
       "_model_module_version": "1.5.0",
       "_model_name": "VBoxModel",
       "_view_count": null,
       "_view_module": "@jupyter-widgets/controls",
       "_view_module_version": "1.5.0",
       "_view_name": "VBoxView",
       "box_style": "",
       "children": [
        "IPY_MODEL_dcfee3bb92014874b39aa0274ad2cc3e",
        "IPY_MODEL_b2f067ac32d7488fa483c2684ef4db57"
       ],
       "layout": "IPY_MODEL_8132b844e0fb41a18376914e6f032c32"
      }
     },
     "e00f43dc4b9b42b695497ab8abc2b3cd": {
      "model_module": "@jupyter-widgets/base",
      "model_module_version": "1.2.0",
      "model_name": "LayoutModel",
      "state": {
       "_model_module": "@jupyter-widgets/base",
       "_model_module_version": "1.2.0",
       "_model_name": "LayoutModel",
       "_view_count": null,
       "_view_module": "@jupyter-widgets/base",
       "_view_module_version": "1.2.0",
       "_view_name": "LayoutView",
       "align_content": null,
       "align_items": null,
       "align_self": null,
       "border": null,
       "bottom": null,
       "display": null,
       "flex": null,
       "flex_flow": null,
       "grid_area": null,
       "grid_auto_columns": null,
       "grid_auto_flow": null,
       "grid_auto_rows": null,
       "grid_column": null,
       "grid_gap": null,
       "grid_row": null,
       "grid_template_areas": null,
       "grid_template_columns": null,
       "grid_template_rows": null,
       "height": null,
       "justify_content": null,
       "justify_items": null,
       "left": null,
       "margin": null,
       "max_height": null,
       "max_width": null,
       "min_height": null,
       "min_width": null,
       "object_fit": null,
       "object_position": null,
       "order": null,
       "overflow": null,
       "overflow_x": null,
       "overflow_y": null,
       "padding": null,
       "right": null,
       "top": null,
       "visibility": null,
       "width": null
      }
     },
     "e11e11b8b172454ca93c52ca4edecc99": {
      "model_module": "@jupyter-widgets/base",
      "model_module_version": "1.2.0",
      "model_name": "LayoutModel",
      "state": {
       "_model_module": "@jupyter-widgets/base",
       "_model_module_version": "1.2.0",
       "_model_name": "LayoutModel",
       "_view_count": null,
       "_view_module": "@jupyter-widgets/base",
       "_view_module_version": "1.2.0",
       "_view_name": "LayoutView",
       "align_content": null,
       "align_items": null,
       "align_self": null,
       "border": null,
       "bottom": null,
       "display": null,
       "flex": null,
       "flex_flow": null,
       "grid_area": null,
       "grid_auto_columns": null,
       "grid_auto_flow": null,
       "grid_auto_rows": null,
       "grid_column": null,
       "grid_gap": null,
       "grid_row": null,
       "grid_template_areas": null,
       "grid_template_columns": null,
       "grid_template_rows": null,
       "height": null,
       "justify_content": null,
       "justify_items": null,
       "left": null,
       "margin": null,
       "max_height": null,
       "max_width": null,
       "min_height": null,
       "min_width": null,
       "object_fit": null,
       "object_position": null,
       "order": null,
       "overflow": null,
       "overflow_x": null,
       "overflow_y": null,
       "padding": null,
       "right": null,
       "top": null,
       "visibility": null,
       "width": null
      }
     },
     "e1fc5a0857234965a75948339899ef11": {
      "model_module": "@jupyter-widgets/controls",
      "model_module_version": "1.5.0",
      "model_name": "ButtonStyleModel",
      "state": {
       "_model_module": "@jupyter-widgets/controls",
       "_model_module_version": "1.5.0",
       "_model_name": "ButtonStyleModel",
       "_view_count": null,
       "_view_module": "@jupyter-widgets/base",
       "_view_module_version": "1.2.0",
       "_view_name": "StyleView",
       "button_color": null,
       "font_weight": ""
      }
     },
     "e29bd682008b44e39337a53dd2f6dac5": {
      "model_module": "@jupyter-widgets/base",
      "model_module_version": "1.2.0",
      "model_name": "LayoutModel",
      "state": {
       "_model_module": "@jupyter-widgets/base",
       "_model_module_version": "1.2.0",
       "_model_name": "LayoutModel",
       "_view_count": null,
       "_view_module": "@jupyter-widgets/base",
       "_view_module_version": "1.2.0",
       "_view_name": "LayoutView",
       "align_content": null,
       "align_items": null,
       "align_self": null,
       "border": null,
       "bottom": null,
       "display": null,
       "flex": null,
       "flex_flow": null,
       "grid_area": null,
       "grid_auto_columns": null,
       "grid_auto_flow": null,
       "grid_auto_rows": null,
       "grid_column": null,
       "grid_gap": null,
       "grid_row": null,
       "grid_template_areas": null,
       "grid_template_columns": null,
       "grid_template_rows": null,
       "height": null,
       "justify_content": null,
       "justify_items": null,
       "left": null,
       "margin": null,
       "max_height": null,
       "max_width": null,
       "min_height": null,
       "min_width": null,
       "object_fit": null,
       "object_position": null,
       "order": null,
       "overflow": null,
       "overflow_x": null,
       "overflow_y": null,
       "padding": null,
       "right": null,
       "top": null,
       "visibility": null,
       "width": null
      }
     },
     "e3a88e9c60e949bc99694717ee0ba324": {
      "model_module": "@jupyter-widgets/base",
      "model_module_version": "1.2.0",
      "model_name": "LayoutModel",
      "state": {
       "_model_module": "@jupyter-widgets/base",
       "_model_module_version": "1.2.0",
       "_model_name": "LayoutModel",
       "_view_count": null,
       "_view_module": "@jupyter-widgets/base",
       "_view_module_version": "1.2.0",
       "_view_name": "LayoutView",
       "align_content": null,
       "align_items": null,
       "align_self": null,
       "border": null,
       "bottom": null,
       "display": null,
       "flex": null,
       "flex_flow": null,
       "grid_area": null,
       "grid_auto_columns": null,
       "grid_auto_flow": null,
       "grid_auto_rows": null,
       "grid_column": null,
       "grid_gap": null,
       "grid_row": null,
       "grid_template_areas": null,
       "grid_template_columns": null,
       "grid_template_rows": null,
       "height": null,
       "justify_content": null,
       "justify_items": null,
       "left": null,
       "margin": null,
       "max_height": null,
       "max_width": null,
       "min_height": null,
       "min_width": null,
       "object_fit": null,
       "object_position": null,
       "order": null,
       "overflow": null,
       "overflow_x": null,
       "overflow_y": null,
       "padding": null,
       "right": null,
       "top": null,
       "visibility": null,
       "width": null
      }
     },
     "e4a154afcfec432289eb6eaa13688dac": {
      "model_module": "@jupyter-widgets/controls",
      "model_module_version": "1.5.0",
      "model_name": "TextModel",
      "state": {
       "_dom_classes": [],
       "_model_module": "@jupyter-widgets/controls",
       "_model_module_version": "1.5.0",
       "_model_name": "TextModel",
       "_view_count": null,
       "_view_module": "@jupyter-widgets/controls",
       "_view_module_version": "1.5.0",
       "_view_name": "TextView",
       "continuous_update": true,
       "description": "",
       "description_tooltip": null,
       "disabled": false,
       "layout": "IPY_MODEL_4fc78240d56748d8800e405b9863ca91",
       "placeholder": "Enter interval",
       "style": "IPY_MODEL_9349747811e449d6becbb30259d21f03",
       "value": ""
      }
     },
     "e5adc9334fe648aeb17b9a2f04f70353": {
      "model_module": "@jupyter-widgets/controls",
      "model_module_version": "1.5.0",
      "model_name": "DescriptionStyleModel",
      "state": {
       "_model_module": "@jupyter-widgets/controls",
       "_model_module_version": "1.5.0",
       "_model_name": "DescriptionStyleModel",
       "_view_count": null,
       "_view_module": "@jupyter-widgets/base",
       "_view_module_version": "1.2.0",
       "_view_name": "StyleView",
       "description_width": "initial"
      }
     },
     "e6737c2831b34cae93e4cc505ef9d207": {
      "model_module": "@jupyter-widgets/base",
      "model_module_version": "1.2.0",
      "model_name": "LayoutModel",
      "state": {
       "_model_module": "@jupyter-widgets/base",
       "_model_module_version": "1.2.0",
       "_model_name": "LayoutModel",
       "_view_count": null,
       "_view_module": "@jupyter-widgets/base",
       "_view_module_version": "1.2.0",
       "_view_name": "LayoutView",
       "align_content": null,
       "align_items": null,
       "align_self": null,
       "border": null,
       "bottom": null,
       "display": null,
       "flex": null,
       "flex_flow": null,
       "grid_area": null,
       "grid_auto_columns": null,
       "grid_auto_flow": null,
       "grid_auto_rows": null,
       "grid_column": null,
       "grid_gap": null,
       "grid_row": null,
       "grid_template_areas": null,
       "grid_template_columns": null,
       "grid_template_rows": null,
       "height": null,
       "justify_content": null,
       "justify_items": null,
       "left": null,
       "margin": null,
       "max_height": null,
       "max_width": null,
       "min_height": null,
       "min_width": null,
       "object_fit": null,
       "object_position": null,
       "order": null,
       "overflow": null,
       "overflow_x": null,
       "overflow_y": null,
       "padding": null,
       "right": null,
       "top": null,
       "visibility": null,
       "width": null
      }
     },
     "e729b8749d834cf8811061cc8848ccf8": {
      "model_module": "@jupyter-widgets/base",
      "model_module_version": "1.2.0",
      "model_name": "LayoutModel",
      "state": {
       "_model_module": "@jupyter-widgets/base",
       "_model_module_version": "1.2.0",
       "_model_name": "LayoutModel",
       "_view_count": null,
       "_view_module": "@jupyter-widgets/base",
       "_view_module_version": "1.2.0",
       "_view_name": "LayoutView",
       "align_content": null,
       "align_items": null,
       "align_self": null,
       "border": null,
       "bottom": null,
       "display": null,
       "flex": null,
       "flex_flow": null,
       "grid_area": null,
       "grid_auto_columns": null,
       "grid_auto_flow": null,
       "grid_auto_rows": null,
       "grid_column": null,
       "grid_gap": null,
       "grid_row": null,
       "grid_template_areas": null,
       "grid_template_columns": null,
       "grid_template_rows": null,
       "height": null,
       "justify_content": null,
       "justify_items": null,
       "left": null,
       "margin": null,
       "max_height": null,
       "max_width": null,
       "min_height": null,
       "min_width": null,
       "object_fit": null,
       "object_position": null,
       "order": null,
       "overflow": null,
       "overflow_x": null,
       "overflow_y": null,
       "padding": null,
       "right": null,
       "top": null,
       "visibility": null,
       "width": null
      }
     },
     "e91cd5c2a7e64d94ad7f78a825d6c51c": {
      "model_module": "@jupyter-widgets/base",
      "model_module_version": "1.2.0",
      "model_name": "LayoutModel",
      "state": {
       "_model_module": "@jupyter-widgets/base",
       "_model_module_version": "1.2.0",
       "_model_name": "LayoutModel",
       "_view_count": null,
       "_view_module": "@jupyter-widgets/base",
       "_view_module_version": "1.2.0",
       "_view_name": "LayoutView",
       "align_content": null,
       "align_items": null,
       "align_self": null,
       "border": null,
       "bottom": null,
       "display": null,
       "flex": null,
       "flex_flow": null,
       "grid_area": null,
       "grid_auto_columns": null,
       "grid_auto_flow": null,
       "grid_auto_rows": null,
       "grid_column": null,
       "grid_gap": null,
       "grid_row": null,
       "grid_template_areas": null,
       "grid_template_columns": null,
       "grid_template_rows": null,
       "height": null,
       "justify_content": null,
       "justify_items": null,
       "left": null,
       "margin": null,
       "max_height": null,
       "max_width": null,
       "min_height": null,
       "min_width": null,
       "object_fit": null,
       "object_position": null,
       "order": null,
       "overflow": null,
       "overflow_x": null,
       "overflow_y": null,
       "padding": null,
       "right": null,
       "top": null,
       "visibility": null,
       "width": null
      }
     },
     "e944393739234e8a983d256bd0875b26": {
      "model_module": "@jupyter-widgets/controls",
      "model_module_version": "1.5.0",
      "model_name": "ButtonStyleModel",
      "state": {
       "_model_module": "@jupyter-widgets/controls",
       "_model_module_version": "1.5.0",
       "_model_name": "ButtonStyleModel",
       "_view_count": null,
       "_view_module": "@jupyter-widgets/base",
       "_view_module_version": "1.2.0",
       "_view_name": "StyleView",
       "button_color": null,
       "font_weight": ""
      }
     },
     "ece55268514a493eb67bc183ab9e54ee": {
      "model_module": "@jupyter-widgets/controls",
      "model_module_version": "1.5.0",
      "model_name": "HTMLModel",
      "state": {
       "_dom_classes": [],
       "_model_module": "@jupyter-widgets/controls",
       "_model_module_version": "1.5.0",
       "_model_name": "HTMLModel",
       "_view_count": null,
       "_view_module": "@jupyter-widgets/controls",
       "_view_module_version": "1.5.0",
       "_view_name": "HTMLView",
       "description": "",
       "description_tooltip": null,
       "layout": "IPY_MODEL_addaaf874ba740e0b298b02c752c4d59",
       "placeholder": "​",
       "style": "IPY_MODEL_668995d1d9dd40d09ded199a6c0a1554",
       "value": ""
      }
     },
     "efa9178af478442086d25610a58122f0": {
      "model_module": "@jupyter-widgets/controls",
      "model_module_version": "1.5.0",
      "model_name": "ButtonStyleModel",
      "state": {
       "_model_module": "@jupyter-widgets/controls",
       "_model_module_version": "1.5.0",
       "_model_name": "ButtonStyleModel",
       "_view_count": null,
       "_view_module": "@jupyter-widgets/base",
       "_view_module_version": "1.2.0",
       "_view_name": "StyleView",
       "button_color": null,
       "font_weight": ""
      }
     },
     "efb8485c0663478887c7fba302139112": {
      "model_module": "@jupyter-widgets/base",
      "model_module_version": "1.2.0",
      "model_name": "LayoutModel",
      "state": {
       "_model_module": "@jupyter-widgets/base",
       "_model_module_version": "1.2.0",
       "_model_name": "LayoutModel",
       "_view_count": null,
       "_view_module": "@jupyter-widgets/base",
       "_view_module_version": "1.2.0",
       "_view_name": "LayoutView",
       "align_content": null,
       "align_items": null,
       "align_self": null,
       "border": null,
       "bottom": null,
       "display": null,
       "flex": null,
       "flex_flow": null,
       "grid_area": null,
       "grid_auto_columns": null,
       "grid_auto_flow": null,
       "grid_auto_rows": null,
       "grid_column": null,
       "grid_gap": null,
       "grid_row": null,
       "grid_template_areas": null,
       "grid_template_columns": null,
       "grid_template_rows": null,
       "height": null,
       "justify_content": null,
       "justify_items": null,
       "left": null,
       "margin": null,
       "max_height": null,
       "max_width": null,
       "min_height": null,
       "min_width": null,
       "object_fit": null,
       "object_position": null,
       "order": null,
       "overflow": null,
       "overflow_x": null,
       "overflow_y": null,
       "padding": null,
       "right": null,
       "top": null,
       "visibility": null,
       "width": null
      }
     },
     "f2117071f5b54e63b071a65c3fe5772f": {
      "model_module": "@jupyter-widgets/controls",
      "model_module_version": "1.5.0",
      "model_name": "ButtonStyleModel",
      "state": {
       "_model_module": "@jupyter-widgets/controls",
       "_model_module_version": "1.5.0",
       "_model_name": "ButtonStyleModel",
       "_view_count": null,
       "_view_module": "@jupyter-widgets/base",
       "_view_module_version": "1.2.0",
       "_view_name": "StyleView",
       "button_color": null,
       "font_weight": ""
      }
     },
     "f24c9555b62d403c9f636913dc9f44ff": {
      "model_module": "@jupyter-widgets/base",
      "model_module_version": "1.2.0",
      "model_name": "LayoutModel",
      "state": {
       "_model_module": "@jupyter-widgets/base",
       "_model_module_version": "1.2.0",
       "_model_name": "LayoutModel",
       "_view_count": null,
       "_view_module": "@jupyter-widgets/base",
       "_view_module_version": "1.2.0",
       "_view_name": "LayoutView",
       "align_content": null,
       "align_items": null,
       "align_self": null,
       "border": null,
       "bottom": null,
       "display": null,
       "flex": null,
       "flex_flow": null,
       "grid_area": null,
       "grid_auto_columns": null,
       "grid_auto_flow": null,
       "grid_auto_rows": null,
       "grid_column": null,
       "grid_gap": null,
       "grid_row": null,
       "grid_template_areas": null,
       "grid_template_columns": null,
       "grid_template_rows": null,
       "height": null,
       "justify_content": null,
       "justify_items": null,
       "left": null,
       "margin": null,
       "max_height": null,
       "max_width": null,
       "min_height": null,
       "min_width": null,
       "object_fit": null,
       "object_position": null,
       "order": null,
       "overflow": null,
       "overflow_x": null,
       "overflow_y": null,
       "padding": null,
       "right": null,
       "top": null,
       "visibility": null,
       "width": null
      }
     },
     "f27ac1e94b7a45eeb5b2646c39431090": {
      "model_module": "@jupyter-widgets/controls",
      "model_module_version": "1.5.0",
      "model_name": "ButtonStyleModel",
      "state": {
       "_model_module": "@jupyter-widgets/controls",
       "_model_module_version": "1.5.0",
       "_model_name": "ButtonStyleModel",
       "_view_count": null,
       "_view_module": "@jupyter-widgets/base",
       "_view_module_version": "1.2.0",
       "_view_name": "StyleView",
       "button_color": null,
       "font_weight": ""
      }
     },
     "f4171761ee604b1fbe70aac9aa838bde": {
      "model_module": "@jupyter-widgets/base",
      "model_module_version": "1.2.0",
      "model_name": "LayoutModel",
      "state": {
       "_model_module": "@jupyter-widgets/base",
       "_model_module_version": "1.2.0",
       "_model_name": "LayoutModel",
       "_view_count": null,
       "_view_module": "@jupyter-widgets/base",
       "_view_module_version": "1.2.0",
       "_view_name": "LayoutView",
       "align_content": null,
       "align_items": null,
       "align_self": null,
       "border": null,
       "bottom": null,
       "display": null,
       "flex": null,
       "flex_flow": null,
       "grid_area": null,
       "grid_auto_columns": null,
       "grid_auto_flow": null,
       "grid_auto_rows": null,
       "grid_column": null,
       "grid_gap": null,
       "grid_row": null,
       "grid_template_areas": null,
       "grid_template_columns": null,
       "grid_template_rows": null,
       "height": null,
       "justify_content": null,
       "justify_items": null,
       "left": null,
       "margin": null,
       "max_height": null,
       "max_width": null,
       "min_height": null,
       "min_width": null,
       "object_fit": null,
       "object_position": null,
       "order": null,
       "overflow": null,
       "overflow_x": null,
       "overflow_y": null,
       "padding": null,
       "right": null,
       "top": null,
       "visibility": null,
       "width": null
      }
     },
     "f4346879773344838cd3bd9411cb6dea": {
      "model_module": "@jupyter-widgets/controls",
      "model_module_version": "1.5.0",
      "model_name": "TextModel",
      "state": {
       "_dom_classes": [],
       "_model_module": "@jupyter-widgets/controls",
       "_model_module_version": "1.5.0",
       "_model_name": "TextModel",
       "_view_count": null,
       "_view_module": "@jupyter-widgets/controls",
       "_view_module_version": "1.5.0",
       "_view_name": "TextView",
       "continuous_update": true,
       "description": "",
       "description_tooltip": null,
       "disabled": false,
       "layout": "IPY_MODEL_0ce955a0bd5043d2a8b2e64d24e050c0",
       "placeholder": "Enter inequality",
       "style": "IPY_MODEL_9e680b87a83f41a7aa795718400c3d5c",
       "value": ""
      }
     },
     "f55ff3d8b40d475b837698457c1d0072": {
      "model_module": "@jupyter-widgets/controls",
      "model_module_version": "1.5.0",
      "model_name": "DescriptionStyleModel",
      "state": {
       "_model_module": "@jupyter-widgets/controls",
       "_model_module_version": "1.5.0",
       "_model_name": "DescriptionStyleModel",
       "_view_count": null,
       "_view_module": "@jupyter-widgets/base",
       "_view_module_version": "1.2.0",
       "_view_name": "StyleView",
       "description_width": "initial"
      }
     },
     "f715cffa653e485090c0c03b1314def1": {
      "model_module": "@jupyter-widgets/controls",
      "model_module_version": "1.5.0",
      "model_name": "HBoxModel",
      "state": {
       "_dom_classes": [],
       "_model_module": "@jupyter-widgets/controls",
       "_model_module_version": "1.5.0",
       "_model_name": "HBoxModel",
       "_view_count": null,
       "_view_module": "@jupyter-widgets/controls",
       "_view_module_version": "1.5.0",
       "_view_name": "HBoxView",
       "box_style": "",
       "children": [
        "IPY_MODEL_55a2d2d2cadf4f19937e3867eeff6a4f",
        "IPY_MODEL_53a669ed4cdb48daafffe7ca012cca2e"
       ],
       "layout": "IPY_MODEL_d8c23663544046209b0033b6a9a743fe"
      }
     },
     "f77ef75d3cad4c098b635b589bb2a2ef": {
      "model_module": "@jupyter-widgets/controls",
      "model_module_version": "1.5.0",
      "model_name": "DescriptionStyleModel",
      "state": {
       "_model_module": "@jupyter-widgets/controls",
       "_model_module_version": "1.5.0",
       "_model_name": "DescriptionStyleModel",
       "_view_count": null,
       "_view_module": "@jupyter-widgets/base",
       "_view_module_version": "1.2.0",
       "_view_name": "StyleView",
       "description_width": ""
      }
     },
     "f8f3e491fe754b7aa514d79bdd855abf": {
      "model_module": "@jupyter-widgets/controls",
      "model_module_version": "1.5.0",
      "model_name": "HTMLModel",
      "state": {
       "_dom_classes": [],
       "_model_module": "@jupyter-widgets/controls",
       "_model_module_version": "1.5.0",
       "_model_name": "HTMLModel",
       "_view_count": null,
       "_view_module": "@jupyter-widgets/controls",
       "_view_module_version": "1.5.0",
       "_view_name": "HTMLView",
       "description": "",
       "description_tooltip": null,
       "layout": "IPY_MODEL_e29bd682008b44e39337a53dd2f6dac5",
       "placeholder": "​",
       "style": "IPY_MODEL_f77ef75d3cad4c098b635b589bb2a2ef",
       "value": ""
      }
     },
     "f92043802e6e4d409c598c9d74c9f772": {
      "model_module": "@jupyter-widgets/base",
      "model_module_version": "1.2.0",
      "model_name": "LayoutModel",
      "state": {
       "_model_module": "@jupyter-widgets/base",
       "_model_module_version": "1.2.0",
       "_model_name": "LayoutModel",
       "_view_count": null,
       "_view_module": "@jupyter-widgets/base",
       "_view_module_version": "1.2.0",
       "_view_name": "LayoutView",
       "align_content": null,
       "align_items": null,
       "align_self": null,
       "border": null,
       "bottom": null,
       "display": null,
       "flex": null,
       "flex_flow": null,
       "grid_area": null,
       "grid_auto_columns": null,
       "grid_auto_flow": null,
       "grid_auto_rows": null,
       "grid_column": null,
       "grid_gap": null,
       "grid_row": null,
       "grid_template_areas": null,
       "grid_template_columns": null,
       "grid_template_rows": null,
       "height": null,
       "justify_content": null,
       "justify_items": null,
       "left": null,
       "margin": null,
       "max_height": null,
       "max_width": null,
       "min_height": null,
       "min_width": null,
       "object_fit": null,
       "object_position": null,
       "order": null,
       "overflow": null,
       "overflow_x": null,
       "overflow_y": null,
       "padding": null,
       "right": null,
       "top": null,
       "visibility": null,
       "width": null
      }
     },
     "fac9de6860c84b858a71119b0aa1a032": {
      "model_module": "@jupyter-widgets/controls",
      "model_module_version": "1.5.0",
      "model_name": "ButtonStyleModel",
      "state": {
       "_model_module": "@jupyter-widgets/controls",
       "_model_module_version": "1.5.0",
       "_model_name": "ButtonStyleModel",
       "_view_count": null,
       "_view_module": "@jupyter-widgets/base",
       "_view_module_version": "1.2.0",
       "_view_name": "StyleView",
       "button_color": null,
       "font_weight": ""
      }
     },
     "fbfdbd865bf44cfdb832d4f6b455c05d": {
      "model_module": "@jupyter-widgets/controls",
      "model_module_version": "1.5.0",
      "model_name": "ButtonModel",
      "state": {
       "_dom_classes": [],
       "_model_module": "@jupyter-widgets/controls",
       "_model_module_version": "1.5.0",
       "_model_name": "ButtonModel",
       "_view_count": null,
       "_view_module": "@jupyter-widgets/controls",
       "_view_module_version": "1.5.0",
       "_view_name": "ButtonView",
       "button_style": "",
       "description": "Draw a line",
       "disabled": false,
       "icon": "",
       "layout": "IPY_MODEL_4b57ada8f35d4152ae92b128eb840e0b",
       "style": "IPY_MODEL_475724c29ba345da90ff8ee1647bd7a6",
       "tooltip": ""
      }
     },
     "ff96993d1525452c98aeff4b76294188": {
      "model_module": "@jupyter-widgets/controls",
      "model_module_version": "1.5.0",
      "model_name": "DescriptionStyleModel",
      "state": {
       "_model_module": "@jupyter-widgets/controls",
       "_model_module_version": "1.5.0",
       "_model_name": "DescriptionStyleModel",
       "_view_count": null,
       "_view_module": "@jupyter-widgets/base",
       "_view_module_version": "1.2.0",
       "_view_name": "StyleView",
       "description_width": ""
      }
     },
     "ffd3397e478541e1875bad5d2ab93783": {
      "model_module": "@jupyter-widgets/base",
      "model_module_version": "1.2.0",
      "model_name": "LayoutModel",
      "state": {
       "_model_module": "@jupyter-widgets/base",
       "_model_module_version": "1.2.0",
       "_model_name": "LayoutModel",
       "_view_count": null,
       "_view_module": "@jupyter-widgets/base",
       "_view_module_version": "1.2.0",
       "_view_name": "LayoutView",
       "align_content": null,
       "align_items": null,
       "align_self": null,
       "border": null,
       "bottom": null,
       "display": null,
       "flex": null,
       "flex_flow": null,
       "grid_area": null,
       "grid_auto_columns": null,
       "grid_auto_flow": null,
       "grid_auto_rows": null,
       "grid_column": null,
       "grid_gap": null,
       "grid_row": null,
       "grid_template_areas": null,
       "grid_template_columns": null,
       "grid_template_rows": null,
       "height": null,
       "justify_content": null,
       "justify_items": null,
       "left": null,
       "margin": null,
       "max_height": null,
       "max_width": null,
       "min_height": null,
       "min_width": null,
       "object_fit": null,
       "object_position": null,
       "order": null,
       "overflow": null,
       "overflow_x": null,
       "overflow_y": null,
       "padding": null,
       "right": null,
       "top": null,
       "visibility": null,
       "width": null
      }
     },
     "ffd857ac69c947199820af2c549e16f9": {
      "model_module": "@jupyter-widgets/controls",
      "model_module_version": "1.5.0",
      "model_name": "HTMLModel",
      "state": {
       "_dom_classes": [],
       "_model_module": "@jupyter-widgets/controls",
       "_model_module_version": "1.5.0",
       "_model_name": "HTMLModel",
       "_view_count": null,
       "_view_module": "@jupyter-widgets/controls",
       "_view_module_version": "1.5.0",
       "_view_name": "HTMLView",
       "description": "",
       "description_tooltip": null,
       "layout": "IPY_MODEL_a6f57c3f1cfd4d979e6fa234a3303e93",
       "placeholder": "​",
       "style": "IPY_MODEL_bae972bab99149fc8f13b360dcbb4f3b",
       "value": ""
      }
     }
    },
    "version_major": 2,
    "version_minor": 0
   }
  }
 },
 "nbformat": 4,
 "nbformat_minor": 2
}