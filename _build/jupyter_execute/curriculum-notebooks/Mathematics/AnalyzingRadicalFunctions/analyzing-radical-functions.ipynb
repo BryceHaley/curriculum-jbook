{
 "cells": [
  {
   "cell_type": "markdown",
   "metadata": {},
   "source": [
    "![Callysto.ca Banner](https://github.com/callysto/curriculum-notebooks/blob/master/callysto-notebook-banner-top.jpg?raw=true)\n",
    "\n",
    "<a href=\"https://hub.callysto.ca/jupyter/hub/user-redirect/git-pull?repo=https%3A%2F%2Fgithub.com%2Fcallysto%2Fcurriculum-notebooks&branch=master&subPath=Mathematics/AnalyzingRadicalFunctions/analyzing-radical-functions.ipynb&depth=1\" target=\"_parent\"><img src=\"https://raw.githubusercontent.com/callysto/curriculum-notebooks/master/open-in-callysto-button.svg?sanitize=true\" width=\"123\" height=\"24\" alt=\"Open in Callysto\"/></a>"
   ]
  },
  {
   "cell_type": "code",
   "execution_count": 1,
   "metadata": {
    "scrolled": true,
    "tags": [
     "hide-input"
    ]
   },
   "outputs": [
    {
     "data": {
      "text/html": [
       "\n",
       "<script>\n",
       "  function code_toggle() {\n",
       "    if (code_shown){\n",
       "      $('div.input').hide('500');\n",
       "      $('#toggleButton').val('Show Code')\n",
       "    } else {\n",
       "      $('div.input').show('500');\n",
       "      $('#toggleButton').val('Hide Code')\n",
       "    }\n",
       "    code_shown = !code_shown\n",
       "  }\n",
       "\n",
       "  $( document ).ready(function(){\n",
       "    code_shown=false;\n",
       "    $('div.input').hide()\n",
       "  });\n",
       "</script>\n",
       "<p> Code is hidden for ease of viewing. Click the Show/Hide button to see. </>\n",
       "<form action=\"javascript:code_toggle()\"><input type=\"submit\" id=\"toggleButton\" value=\"Show Code\"></form>\n"
      ],
      "text/plain": [
       "<IPython.core.display.HTML object>"
      ]
     },
     "metadata": {},
     "output_type": "display_data"
    }
   ],
   "source": [
    "%%html\n",
    "\n",
    "<script>\n",
    "  function code_toggle() {\n",
    "    if (code_shown){\n",
    "      $('div.input').hide('500');\n",
    "      $('#toggleButton').val('Show Code')\n",
    "    } else {\n",
    "      $('div.input').show('500');\n",
    "      $('#toggleButton').val('Hide Code')\n",
    "    }\n",
    "    code_shown = !code_shown\n",
    "  }\n",
    "\n",
    "  $( document ).ready(function(){\n",
    "    code_shown=false;\n",
    "    $('div.input').hide()\n",
    "  });\n",
    "</script>\n",
    "<p> Code is hidden for ease of viewing. Click the Show/Hide button to see. </>\n",
    "<form action=\"javascript:code_toggle()\"><input type=\"submit\" id=\"toggleButton\" value=\"Show Code\"></form>"
   ]
  },
  {
   "cell_type": "code",
   "execution_count": 2,
   "metadata": {
    "tags": [
     "hide-input"
    ]
   },
   "outputs": [
    {
     "data": {
      "text/html": [
       "<style>\n",
       ".output_wrapper button.btn.btn-default,\n",
       ".output_wrapper .ui-dialog-titlebar {\n",
       "  display: none;\n",
       "}\n",
       "</style>\n"
      ],
      "text/plain": [
       "<IPython.core.display.HTML object>"
      ]
     },
     "metadata": {},
     "output_type": "display_data"
    }
   ],
   "source": [
    "%%html\n",
    "<style>\n",
    ".output_wrapper button.btn.btn-default,\n",
    ".output_wrapper .ui-dialog-titlebar {\n",
    "  display: none;\n",
    "}\n",
    "</style>"
   ]
  },
  {
   "cell_type": "markdown",
   "metadata": {},
   "source": [
    "# Analyzing Radical Functions\n",
    "\n",
    "## Mathematics 20-2"
   ]
  },
  {
   "cell_type": "code",
   "execution_count": 3,
   "metadata": {
    "tags": [
     "hide-input"
    ]
   },
   "outputs": [],
   "source": [
    "from IPython.display import display, Math, Latex, HTML, clear_output, Markdown\n",
    "import numpy as np\n",
    "import matplotlib.pyplot as plt\n",
    "from numpy import sqrt as sqrt\n",
    "import ipywidgets\n",
    "from ipywidgets import widgets, interact, interactive, interact_manual, Button, Layout\n",
    "\n",
    "%matplotlib inline"
   ]
  },
  {
   "cell_type": "markdown",
   "metadata": {},
   "source": [
    "## Introduction\n",
    "This notebook will explain how to analyze and graph radical functions. We will look at the square root function, which is the most common type of radical, as well as other forms of radicals.\n",
    "\n",
    "The most important thing to understand about radical functions is where the function *exists*. This is often called the *domain of existence* and will be further explained in the notebook. Looking at rational functions will incorporate aspects of intervals and inequalities. It will also help find the roots of quadratic equations."
   ]
  },
  {
   "cell_type": "markdown",
   "metadata": {},
   "source": [
    "<center><img src=\"./images/Spiral_gif.gif\"></center>"
   ]
  },
  {
   "cell_type": "markdown",
   "metadata": {},
   "source": [
    "## Background\n",
    "\n",
    "### Radical Functions\n",
    "\n",
    "A radical function is any function that is inside a **radical**. This tells us that some function, $f(x)$, is contained within a fractional exponent. This can be written as:\n",
    "\n",
    "$$f(g(x)) = g(x)^{\\frac{1}{n}}$$\n",
    "\n",
    "Where $n$ is an integer for the following exercises. \n",
    "\n",
    "So what does $g(x)$ look like? Well, it can take on any form! Let's look at a few examples of different $g(x)$ functions:\n",
    "\n",
    "1. If $g(x) = x$, then $f(g(x)) = g(x)^{\\frac{1}{n}} = x^{\\frac{1}{n}}$\n",
    "\n",
    "2. If $g(x) = x^2 + 2x$, then $f(g(x)) = (x^2 + 2x)^{\\frac{1}{n}}$\n",
    "\n",
    "3. If $g(x) = \\frac{x^3 - 9x + 3}{2x - 1}$, then  $f(g(x)) = \\Big(\\frac{x^3 - 9x + 3}{2x - 1}\\Big)^{\\frac{1}{n}}$\n",
    "\n",
    "The *most common radical function* is **the square root function**:\n",
    "\n",
    "$$\\sqrt{x}$$\n",
    "\n",
    "Which is equivalent to writing:\n",
    "\n",
    "$$x^{\\frac{1}{2}}$$\n",
    "\n",
    "So if we wanted to obtain the *square root* of some function $f(x)$, this is done by doing:\n",
    "\n",
    "$$\\big[ \\ f(x) \\ \\big]^{\\frac{1}{2}} = \\sqrt{f(x)}$$\n",
    "\n",
    "Now, if we try finding the *root of a function*, (*where $f(x) = 0$*), understanding how radicals work becomes important. If we only look at quadratic functions of the form:\n",
    "\n",
    "$$f(x) = ax^2 + bx + c$$\n",
    "\n",
    "There are many cases where the roots of this function can be found immediately by taking the square root. But, remember that when you take the square root of a single value, such as $4$, we get the result of:\n",
    "\n",
    "$$\\sqrt{4} = \\pm \\ 2$$\n",
    "\n",
    "Where either positive, ($+$), or negative, ($-$), $2$ can be squared to produce a value of $4$:\n",
    "\n",
    "$$(2)^2 = (-2)^2 = 4$$\n",
    "\n",
    "This exact same principle applies when dealing with functions. For example, let us look at the function $f(x) = x^2$:"
   ]
  },
  {
   "cell_type": "code",
   "execution_count": 4,
   "metadata": {
    "tags": [
     "hide-input"
    ]
   },
   "outputs": [
    {
     "data": {
      "image/png": "[encoded data removed]",
      "text/plain": [
       "<Figure size 720x504 with 1 Axes>"
      ]
     },
     "metadata": {
      "filenames": {
       "image/png": "/home/mikel/Documents/curriculum-jbook-local/_build/jupyter_execute/curriculum-notebooks/Mathematics/AnalyzingRadicalFunctions/analyzing-radical-functions_8_0.png"
      },
      "needs_background": "light"
     },
     "output_type": "display_data"
    }
   ],
   "source": [
    "# function to be plotted\n",
    "x = np.linspace(-10,10,100) \n",
    "fx = x**2.\n",
    "\n",
    "# plot showing f(x) = x^2 with (2,4) and (-2,4) plotted points to show +/- result for square roots.\n",
    "plt.figure(1,figsize = (10,7))\n",
    "hold = True\n",
    "ticks = np.arange(-5,6)\n",
    "\n",
    "plt.plot(x,fx,'r-',label = r'$f(x) = x^2$')\n",
    "plt.plot([-10,10],[0,0],'k-',alpha = 1,linewidth = 1)\n",
    "plt.plot([0,0],[-10,15],'k-',alpha = 1,linewidth = 1)\n",
    "plt.plot(2,4,'k.',markersize = 10)\n",
    "plt.plot(-2,4,'k.', markersize = 10)\n",
    "plt.grid(alpha = 0.7)\n",
    "plt.legend(loc = 'lower right',fontsize = 13)\n",
    "plt.xticks(ticks)\n",
    "plt.ylim([-2,15])\n",
    "plt.xlim([-5,5])\n",
    "plt.show()"
   ]
  },
  {
   "cell_type": "markdown",
   "metadata": {},
   "source": [
    "As you can see, at *both* $x=2$ and $x = -2$ our function equals $4$, which is marked with the *black dots*.\n",
    "\n",
    "If you were to take the square root of this function $f(x) = x^2$ you could write it as the following:\n",
    "\n",
    "$$\\sqrt{f(x)} = \\sqrt{x^2} = (x^{2})^{\\frac{1}{2}}$$\n",
    "\n",
    "Where you may be tempted to write the final answer like this:\n",
    "\n",
    "$$\\sqrt{x^2} = \\pm \\ x$$\n",
    "\n",
    "This is the formatting we had for a single value like $4$. **But,** when taking the square root of a function, $\\pm$ doesn't actually tell you what is happening in this scenario. Instead, we write it as:\n",
    "\n",
    "$$\\sqrt{x^2} = \\lvert x \\rvert$$\n",
    "\n",
    "Where $\\lvert x \\rvert$ is defined as the **absolute value** function. This means that:\n",
    "\n",
    "- If $x \\geq 0$, then $\\lvert x\\rvert$ equals $(x)$\n",
    "- If $x < 0$, then $\\lvert x\\rvert$ equals $-(x)$\n",
    "\n",
    "> ## **Note**\n",
    "Our second line states that *\"If $x<0$, then $\\lvert x \\rvert$ equals $-(x)$\"*. This means that for any **negative** value of $x$, we substitute that value into the $x$ in $-(x)$, and get a double negative. This results in a **positive** value. For example: $\\lvert -2 \\rvert = -(-2) = 2$. This is true for all negative values inside the absolute value function.\n",
    "\n",
    "A formal definition of this would be:\n",
    "\n",
    "$$\\lvert x\\rvert = \\begin{cases}x , & \\text{if } x\\geq 0 \\\\ -(x),& \\text{if }x<0\\end{cases}$$"
   ]
  },
  {
   "cell_type": "markdown",
   "metadata": {},
   "source": [
    "Now that we've introduced  the absolute value function, we can begin *finding the roots* of some quadratic functions.\n",
    "\n",
    "Remember that the root of a function is where $f(x) = 0$. In our initial example, where $f(x) = x^2$, we can prove by inspection of our graphic that the function has a root at $x = 0$. But, if we were to find this function's root more rigorously, you would **follow these steps**:\n",
    "\n",
    "1. Set $f(x)$ equal to $0$ so that $f(x) = x^2 = 0$. </h3>\n",
    "2. Take the square root of BOTH sides so that $\\lvert x \\rvert = 0$ </h3>\n",
    "3. Solve the expression for the POSITIVE case of the absolute value function. </h3>\n",
    "    \n",
    "> ## **Note**\n",
    "For step 3 we only look at the **positive** case of the absolute function. This is because, in our formal definition, the only condition where $x$ is defined at 0 is when x is **positive**. This is what is needed to solve for the root."
   ]
  },
  {
   "cell_type": "markdown",
   "metadata": {},
   "source": [
    "How about a less trivial example?\n",
    "\n",
    "Let's look at the function:\n",
    "\n",
    "$$h(x) = x^2 - 10x + 25$$\n",
    "\n",
    "If you can, take a moment to try and factor this by hand. You should end up with an expression that looks like $(x-a)^2$, where $a$ is an integer value. To check your answer, click on the button below."
   ]
  },
  {
   "cell_type": "code",
   "execution_count": 5,
   "metadata": {
    "scrolled": true,
    "tags": [
     "hide-input"
    ]
   },
   "outputs": [
    {
     "data": {
      "application/vnd.jupyter.widget-view+json": {
       "model_id": "827dd52ddba7499a96c25f3bec5b5f3d",
       "version_major": 2,
       "version_minor": 0
      },
      "text/plain": [
       "Button(description='Show Answer', style=ButtonStyle())"
      ]
     },
     "metadata": {},
     "output_type": "display_data"
    }
   ],
   "source": [
    "#Construction of button to provide factored polynomial result.\n",
    "buttonShowAnswer = widgets.Button(description=\"Show Answer\")\n",
    "\n",
    "def displayAnswer(a):\n",
    "    display(Math('x^2 - 10x + 25 = (x-5)^2'))\n",
    "    buttonShowAnswer.close()\n",
    "\n",
    "display(buttonShowAnswer)\n",
    "buttonShowAnswer.on_click(displayAnswer)"
   ]
  },
  {
   "cell_type": "markdown",
   "metadata": {},
   "source": [
    "This is in the same form as our last example, since $(x-5)$ is all squared. Therefore, we can follow the exact same steps as before:\n",
    "\n",
    "1. $\\sqrt{(x-5)^2} = 0$\n",
    "2. $\\lvert(x-5)\\rvert = 0$\n",
    "3. Positive case: $x-5 = 0$ $\\color{red}\\rightarrow$ $x=5$\n",
    "\n",
    "We've found the root!\n",
    "\n",
    "It is important to note that functions of the form $f(x) = (ax-b)^2$ only have **1** real root. This root can be found by inspecting the graph or by applying the method we just saw. \n",
    "\n",
    "So what would all these operations look like graphically? This is a good opportunity to practice making graphs of mathematical functions in Python!\n",
    "\n",
    "First off, let's look at our original functions $f(x)$ and $h(x)$. Graphically, the $x$ value is in the range of $[-5,10]$, (We are **only** looking at the values of $x$ between $-5$ and $10$, including $-5$ and $10$)."
   ]
  },
  {
   "cell_type": "code",
   "execution_count": 6,
   "metadata": {
    "scrolled": true,
    "tags": [
     "hide-input"
    ]
   },
   "outputs": [
    {
     "data": {
      "image/png": "[encoded data removed]",
      "text/plain": [
       "<Figure size 720x504 with 1 Axes>"
      ]
     },
     "metadata": {
      "filenames": {
       "image/png": "/home/mikel/Documents/curriculum-jbook-local/_build/jupyter_execute/curriculum-notebooks/Mathematics/AnalyzingRadicalFunctions/analyzing-radical-functions_14_0.png"
      },
      "needs_background": "light"
     },
     "output_type": "display_data"
    }
   ],
   "source": [
    "# functions to be plotted\n",
    "x = np.linspace(-10,10,1000)\n",
    "fx = x**2.\n",
    "gx = (x-5)**2.\n",
    "\n",
    "# plot showing f(x) and g(x)\n",
    "plt.figure(1,figsize = (10,7))\n",
    "hold = True\n",
    "plt.plot(x,fx,'r-',label = r'$f(x) = x^2$')\n",
    "plt.plot(x,gx,'b-',label = r'$g(x) = (x-5)^2$')\n",
    "plt.plot([-10,10],[0,0],'k-',alpha = 1,linewidth = 1)\n",
    "plt.plot([0,0],[-10,10],'k-',alpha = 1,linewidth = 1)\n",
    "plt.grid(alpha = 0.7)\n",
    "plt.legend(loc = 'lower right',fontsize = 13)\n",
    "plt.xticks(np.arange(-5,11))\n",
    "plt.ylim([-2,5])\n",
    "plt.xlim([-5,10])\n",
    "plt.show()"
   ]
  },
  {
   "cell_type": "markdown",
   "metadata": {},
   "source": [
    "As we found earlier, $f(x)$ and $h(x)$ are parabolas with roots at $x = 0$ and $x = 5$ respectively.\n",
    "\n",
    "The next step will be to *take the square root of our functions* and check what this process looks like. This time, you will input the required code for the functions, so that you become familiar with how to do it. To do this, here's a quick overview of how you type mathematical symbols:\n",
    "\n",
    "- $+$ and $-$ are simply typed as you see here\n",
    "- To do **multiplication** ($\\times$), you must type in an *asterisk*, ( $^{*}$ )\n",
    "- To do **division** ($\\div$), you must type in a *forward slash*, ( $/$ )\n",
    "- To do an **exponent** ($x^{n}$), you must type in *two asterisks* followed by the *exponent*, ( $x^{**}n$ )\n",
    "- To do a **square root** ($\\sqrt{x}$), you must type \"$sqrt(x)$\"."
   ]
  },
  {
   "cell_type": "code",
   "execution_count": 7,
   "metadata": {
    "tags": [
     "hide-input"
    ]
   },
   "outputs": [
    {
     "data": {
      "text/latex": [
       "Using the syntax from above, please enter what the square root of $h(x) = (x-5)^2$ is, (Remember to include brackets)"
      ],
      "text/plain": [
       "<IPython.core.display.Latex object>"
      ]
     },
     "metadata": {},
     "output_type": "display_data"
    },
    {
     "data": {
      "application/vnd.jupyter.widget-view+json": {
       "model_id": "f0f9db778d594047a48e1780f4636091",
       "version_major": 2,
       "version_minor": 0
      },
      "text/plain": [
       "Text(value='', description='Type your answer here: ', style=DescriptionStyle(description_width='initial'))"
      ]
     },
     "metadata": {},
     "output_type": "display_data"
    },
    {
     "data": {
      "application/vnd.jupyter.widget-view+json": {
       "model_id": "d59857e1c326420394a8c1d2f6389ae4",
       "version_major": 2,
       "version_minor": 0
      },
      "text/plain": [
       "Button(description='Check Answer', style=ButtonStyle())"
      ]
     },
     "metadata": {},
     "output_type": "display_data"
    }
   ],
   "source": [
    "from IPython.display import clear_output\n",
    "x = np.linspace(-10,10,1000)\n",
    "\n",
    "#Used to ensure the description text doesn't get cut off.\n",
    "style = {'description_width': 'initial'}\n",
    "\n",
    "#Create an input text widget.\n",
    "question = widgets.Text(\n",
    "    value=None,\n",
    "    description='Type your answer here: ',\n",
    "    disabled=False,\n",
    "    style = style\n",
    "    )\n",
    "\n",
    "#Create a button titled \"Check Answer\"\n",
    "checkButton = widgets.Button(description = \"Check Answer\")\n",
    "\n",
    "def checkAnswer(a):\n",
    "    #questionAnswer will be the input given by the user.\n",
    "    questionAnswer = question.value\n",
    "    \n",
    "    #answers is a list of possible answers that can be inputted. \n",
    "    answers = [\"sqrt((x-5)**2)\", \"(x-5)\", \"x-5\"]\n",
    "    \n",
    "    #Check if the input is in the list of answers. If this is the case:\n",
    "    if questionAnswer in answers:\n",
    "        clear_output()\n",
    "        display(writtenQuestion)\n",
    "        print(\"You answered: \" + questionAnswer)\n",
    "        print(\"Well done!\")\n",
    "        \n",
    "        fx = sqrt(x**2)\n",
    "        gx = sqrt((x-5)**2)\n",
    "        \n",
    "        # plot the absolute value functions of both f(x) and g(x)\n",
    "        plt.figure(1,figsize = (10,7))\n",
    "        hold = True\n",
    "        plt.plot(x,x**2.,'r-',label = r'$x^2$')\n",
    "        plt.plot(x,fx,'m--',label = r'$\\sqrt{x^2}$')\n",
    "        plt.plot(x,(x-5)**2.,'b-',label = r'$(x-5)^2$')\n",
    "        plt.plot(x,gx,'c--',label = r'$\\sqrt{(x-5)^2}$')\n",
    "        plt.plot([-10,10],[0,0],'k-',alpha = 1,linewidth = 1)\n",
    "        plt.plot([0,0],[-10,10],'k-',alpha = 1,linewidth = 1)\n",
    "        plt.grid(alpha = 0.7)\n",
    "        plt.legend(loc = 'lower right',fontsize = 13)\n",
    "        plt.xticks(np.arange(-5,11))\n",
    "        plt.ylim([-2,5])\n",
    "        plt.xlim([-5,10])\n",
    "        plt.show()\n",
    "    \n",
    "    #Otherwise, if no answer has been given, do nothing.\n",
    "    elif (questionAnswer == \"\"):\n",
    "        None\n",
    "    \n",
    "    #Lastly, if the answer is wrong, give the user a hint.\n",
    "    else:\n",
    "        clear_output()\n",
    "        display(writtenQuestion)\n",
    "        display(question)\n",
    "        display(checkButton)\n",
    "        print('Not quite right. \\nRemember, the answer is just \"sqrt(h(x))\"')\n",
    "\n",
    "#writtenQuestion is the question the user is asked.\n",
    "writtenQuestion =  Latex(\"Using the syntax from above, please enter what the \\\n",
    "square root of $h(x) = (x-5)^2$ is, (Remember to include brackets)\")\n",
    "\n",
    "display(writtenQuestion)\n",
    "display(question)\n",
    "display(checkButton)\n",
    "\n",
    "checkButton.on_click(checkAnswer)"
   ]
  },
  {
   "cell_type": "markdown",
   "metadata": {},
   "source": [
    "To summarize, taking the square root of functions of the form:\n",
    "\n",
    "$>$f(x) = (ax-b)^2$$\n",
    "\n",
    "Where $a$ and $b$ are constants, will give the result:\n",
    "\n",
    "$$\\sqrt{f(x)} = \\lvert ax-b\\rvert$$\n",
    "\n",
    "We can also generalize the principle root, which will be denoted as $x_0$, of such functions as \n",
    "\n",
    "$$x_0 = \\frac{b}{a}, \\qquad a \\neq 0 $$"
   ]
  },
  {
   "cell_type": "markdown",
   "metadata": {},
   "source": [
    "## Rational Exponents (n $\\geq$ 2)\n",
    "\n",
    "As mentioned before we defined a radical function to be of the form $f(g(x)) = g(x)^{\\frac{1}{n}}$. Now we are going to look at functions where $n\\geq2$. \n",
    "\n",
    "Below is an *interactive slider*. Moving the slider will change the value of $n$ in our rational exponent expression. See what happens when you move this around."
   ]
  },
  {
   "cell_type": "code",
   "execution_count": 8,
   "metadata": {
    "tags": [
     "hide-input"
    ]
   },
   "outputs": [
    {
     "data": {
      "application/vnd.jupyter.widget-view+json": {
       "model_id": "0e1c9d7d7af4419bbefe7b20e73d72d3",
       "version_major": 2,
       "version_minor": 0
      },
      "text/plain": [
       "interactive(children=(IntSlider(value=6, description='n', max=10, min=2), Output()), _dom_classes=('widget-int…"
      ]
     },
     "metadata": {},
     "output_type": "display_data"
    }
   ],
   "source": [
    "#Construction of interactive plot to visualize x^(1/n)\n",
    "def slider(n):\n",
    "    x = np.linspace(1e-7,10,500)\n",
    "    if n != 0:\n",
    "        plt.figure(1,figsize = (10,7))\n",
    "        hold = True\n",
    "        plt.plot(x,x**(1./n),'b-',linewidth = 2,label = str((r'$y = x^{1/' + str(n) + '}$')))\n",
    "        plt.xlabel('$x$',fontsize = 14)\n",
    "        plt.ylabel('$y$',fontsize = 14)\n",
    "        plt.plot([-10,10],[0,0],'k-',alpha = 1,linewidth = 1)\n",
    "        plt.plot([0,0],[-10,10],'k-',alpha = 1,linewidth = 1)\n",
    "        plt.grid(alpha = 0.7)\n",
    "        plt.xticks(np.arange(-5,11))\n",
    "        plt.ylim([-2,5])\n",
    "        plt.xlim([-5,10])\n",
    "        plt.legend(loc = 'best', fontsize = 18)\n",
    "        plt.show()\n",
    "\n",
    "    return n\n",
    "\n",
    "#Store a slider with a range between 2 and 10 in the character j.\n",
    "j = interactive(slider, n=(2,10,1))\n",
    "display(j)\n"
   ]
  },
  {
   "cell_type": "markdown",
   "metadata": {},
   "source": [
    "Likewise, we can look at functions where the exponent is negative, such that: \n",
    "\n",
    "$$f(g(x)) = g(x)^{\\frac{-1}{n}} = \\frac{1}{g(x)^{\\frac{1}{n}}}$$\n",
    "\n",
    "Again, an interactive graph is shown below, to observe how changing the value of n affects the behaviour of the function."
   ]
  },
  {
   "cell_type": "code",
   "execution_count": 9,
   "metadata": {
    "scrolled": false,
    "tags": [
     "hide-input"
    ]
   },
   "outputs": [
    {
     "data": {
      "application/vnd.jupyter.widget-view+json": {
       "model_id": "45abfd6c72bb4d04b1c022729712c112",
       "version_major": 2,
       "version_minor": 0
      },
      "text/plain": [
       "interactive(children=(IntSlider(value=-6, description='n', max=-2, min=-10), Output()), _dom_classes=('widget-…"
      ]
     },
     "metadata": {},
     "output_type": "display_data"
    }
   ],
   "source": [
    "#Construction of interactive plot to visualize x^(-1/n)\n",
    "def slider(n):\n",
    "    x = np.linspace(1e-7,10,500)\n",
    "    if n != 0:\n",
    "        plt.figure(1,figsize = (10,7))\n",
    "        hold = True\n",
    "        plt.plot(x,x**(1./n),'b-',linewidth = 2,label = str((r'$y = x^{-1/' + str(abs(n)) + '}$')))\n",
    "        plt.xlabel('$x$',fontsize = 14)\n",
    "        plt.ylabel('$y$',fontsize = 14)\n",
    "        plt.plot([-10,10],[0,0],'k-',alpha = 1,linewidth = 1)\n",
    "        plt.plot([0,0],[-10,10],'k-',alpha = 1,linewidth = 1)\n",
    "        plt.grid(alpha = 0.7)\n",
    "        plt.xticks(np.arange(-5,11))\n",
    "        plt.ylim([-2,5])\n",
    "        plt.xlim([-5,10])\n",
    "        plt.legend(loc = 'best', fontsize = 18)\n",
    "        plt.show()\n",
    "\n",
    "    return n\n",
    "\n",
    "#Store a slider with a range between -2 and -10 in the character j.\n",
    "j = interactive(slider, n=(-10,-2,1))\n",
    "display(j)"
   ]
  },
  {
   "cell_type": "markdown",
   "metadata": {},
   "source": [
    "We can see that no matter what value appears in the exponent, the function is **always** greater than 0. \n",
    "\n",
    "This is because a radical function like $x^{\\frac{1}{n}}$ is **only** defined for values of $x\\geq0$. Functions like $x^{\\frac{-1}{n}}$ are also **only** defined for values of $x > 0$. This is true of all radical functions. So:\n",
    "\n",
    "- An expression under an exponent $(1/n)$ must be a POSITIVE value </h3>\n",
    "- An expressions under an exponent $(-1/n)$ must be both POSITIVE and NON-ZERO</h3>"
   ]
  },
  {
   "cell_type": "markdown",
   "metadata": {},
   "source": [
    "\n",
    "Some examples of this are:\n",
    "\n",
    "1. $\\ \\sqrt{4-x}$ must be a **POSITIVE** quantity.\n",
    "2. $\\ (2x-10)^{\\frac{1}{3}}$ must be a **POSITIVE** quantity.\n",
    "3. $\\ (9-7x)^{\\frac{-1}{5}}$ must be a **POSITIVE** and **NON-ZERO** quantity.\n",
    "\n",
    "So what exactly does this mean? How do we know where these quantities become negative? What might these functions look like? This will all be answered in the next section!"
   ]
  },
  {
   "cell_type": "markdown",
   "metadata": {},
   "source": [
    "## Domain of Existence\n",
    "\n",
    "It is very important that the value underneath a fractional exponent ($\\frac{1}{n}$) is positive. Where the values are positive defines the **domain of existence**. Let's see if we can figure out what the domains of existence are for $a)$, $b)$ and $c)$. \n",
    "\n",
    "For $a)$, we need to see where $(4-x) \\geq 0$. To do this, we can **follow these steps**:\n",
    "\n",
    "\n",
    "1. Write out the expression, ( $(4 - x) \\geq 0$ ) \n",
    "2. Isolate for $x$, ( $-x \\geq -4 $ ) \n",
    "3. Ensure that $x$ doesn't have a negative sign in front of it, ( $x \\leq 4$ ) \n",
    "\n",
    "## **Note**\n",
    "Remember that *flipping a sign* from negative, ($-$), to positive, ($+$), will *flip the inequality*. This is also true the other way around, (Flipping a sign from positive to negative).\n",
    "\n",
    "So, we've found that the domain of existence for $\\sqrt{4-x}$ is all $x$ values such that $x \\leq 4$.\n",
    "\n",
    "Now, $b)$ and $c)$ will be left for you to solve and input into the boxes provided below. Remember, we want to find where the expression under the exponent is **positive**. If you get stuck, look back to how the domain of existence was found for function $a)$. \n",
    "\n",
    "### How to Input Domain of Existence\n",
    "Let's say we wanted to input our answer for the domain of existence of $\\sqrt{4-x}$, (Which was $x \\leq 4$). The input formatting for the *\"less than or equal to\"* symbol is written exactly how it is said. So, if you are given an input box to enter your answer, you would type in: \n",
    "\n",
    "<h3 align='center'> $x <= 4$ </h3>\n",
    "\n",
    "> ## **Note**\n",
    "*Spaces are important.* You should also write fractions like $\\frac{5}{3}$ as \"$5/3$\""
   ]
  },
  {
   "cell_type": "code",
   "execution_count": 10,
   "metadata": {
    "scrolled": true,
    "tags": [
     "hide-input"
    ]
   },
   "outputs": [
    {
     "data": {
      "text/latex": [
       "Type \"$x <= 4$\" into the input box below to ensure you are using the appropriate syntax."
      ],
      "text/plain": [
       "<IPython.core.display.Latex object>"
      ]
     },
     "metadata": {},
     "output_type": "display_data"
    },
    {
     "data": {
      "application/vnd.jupyter.widget-view+json": {
       "model_id": "4c1cdf807d954d3bb37e3603b68b1ef7",
       "version_major": 2,
       "version_minor": 0
      },
      "text/plain": [
       "Text(value='', description='Input: ', style=DescriptionStyle(description_width='initial'))"
      ]
     },
     "metadata": {},
     "output_type": "display_data"
    },
    {
     "data": {
      "application/vnd.jupyter.widget-view+json": {
       "model_id": "7d37ecba7bbd45c9a6ff0a641c8c9a5f",
       "version_major": 2,
       "version_minor": 0
      },
      "text/plain": [
       "Button(description='Check Answer', style=ButtonStyle())"
      ]
     },
     "metadata": {},
     "output_type": "display_data"
    }
   ],
   "source": [
    "from IPython.display import clear_output\n",
    "\n",
    "#Used to ensure the description text doesn't get cut off.\n",
    "style = {'description_width': 'initial'}\n",
    "\n",
    "#Create an input text widget.\n",
    "question = widgets.Text(\n",
    "    value=None,\n",
    "    description='Input: ',\n",
    "    disabled=False,\n",
    "    style = style\n",
    "    )\n",
    "\n",
    "checkButton = widgets.Button(description = \"Check Answer\")\n",
    "\n",
    "def checkAnswer(a):\n",
    "    #questionAnswer will be the input given by the user.\n",
    "    questionAnswer = question.value\n",
    "    \n",
    "    #answers is a list of possible answers that can be inputted. \n",
    "    answers = [\"x <= 4\"]\n",
    "    \n",
    "    #Check if the input is in the list of answers. If this is the case:\n",
    "    if questionAnswer in answers:\n",
    "        clear_output()\n",
    "        display(writtenQuestion)\n",
    "        print(\"You answered: \" + questionAnswer)\n",
    "        print(\"Well done!\")\n",
    "    \n",
    "    #Otherwise, if no input has been given, do nothing:\n",
    "    elif (questionAnswer == \"\"):\n",
    "        None\n",
    "    \n",
    "    #Lastly, if the answer is wrong, give the user a hint:\n",
    "    else:\n",
    "        clear_output()\n",
    "        display(writtenQuestion)\n",
    "        display(question)\n",
    "        display(checkButton)\n",
    "        print('Not quite right. \\nRemember, you only have to type in \"x <= 4\".')\n",
    "\n",
    "#writtenQuestion is the question the user is asked.\n",
    "writtenQuestion =  Latex('Type \"$x <= 4$\" into the input box below to ensure you are \\\n",
    "using the appropriate syntax.')\n",
    "\n",
    "display(writtenQuestion)\n",
    "display(question)\n",
    "display(checkButton)\n",
    "\n",
    "checkButton.on_click(checkAnswer)"
   ]
  },
  {
   "cell_type": "code",
   "execution_count": 11,
   "metadata": {
    "tags": [
     "hide-input"
    ]
   },
   "outputs": [
    {
     "data": {
      "text/latex": [
       "Find the domain of existence for: $(2x - 10)^{1/3}$"
      ],
      "text/plain": [
       "<IPython.core.display.Latex object>"
      ]
     },
     "metadata": {},
     "output_type": "display_data"
    },
    {
     "data": {
      "application/vnd.jupyter.widget-view+json": {
       "model_id": "2363621ff8e6405cb8116a6818c328fc",
       "version_major": 2,
       "version_minor": 0
      },
      "text/plain": [
       "Text(value='', description='Input: ', style=DescriptionStyle(description_width='initial'))"
      ]
     },
     "metadata": {},
     "output_type": "display_data"
    },
    {
     "data": {
      "application/vnd.jupyter.widget-view+json": {
       "model_id": "219abda80acc4f98bd71879c40cc550a",
       "version_major": 2,
       "version_minor": 0
      },
      "text/plain": [
       "Button(description='Check Answer', style=ButtonStyle())"
      ]
     },
     "metadata": {},
     "output_type": "display_data"
    }
   ],
   "source": [
    "from IPython.display import clear_output\n",
    "#Used to ensure the description text doesn't get cut off.\n",
    "style = {'description_width': 'initial'}\n",
    "\n",
    "question = widgets.Text(\n",
    "    value=None,\n",
    "    description='Input: ',\n",
    "    disabled=False,\n",
    "    style = style\n",
    "    )\n",
    "\n",
    "checkButton = widgets.Button(description = \"Check Answer\")\n",
    "\n",
    "def checkAnswer(a):\n",
    "    #questionAnswer will be the input given by the user.\n",
    "    questionAnswer = question.value\n",
    "    \n",
    "    #answers is a list of possible answers that can be inputted. \n",
    "    answers = [\"x >= 5\"]\n",
    "    \n",
    "    #Check if the input is in the list of answers. If this is the case:\n",
    "    if questionAnswer in answers:\n",
    "        clear_output()\n",
    "        display(writtenQuestion)\n",
    "        print(\"You answered: \" + questionAnswer)\n",
    "        print(correct)\n",
    "    \n",
    "    #Otherwise, if no input has been given, do nothing:\n",
    "    elif (questionAnswer == \"\"):\n",
    "        None\n",
    "    \n",
    "    #Lastly, if the answer is wrong, give the user a hint:\n",
    "    else:\n",
    "        clear_output()\n",
    "        display(writtenQuestion)\n",
    "        display(question)\n",
    "        display(checkButton)\n",
    "        print(hint)\n",
    "\n",
    "#writtenQuestion is the question the user is asked.\n",
    "writtenQuestion =  Latex(\"Find the domain of existence for: $(2x - 10)^{1/3}$\")\n",
    "\n",
    "#hint is the hint the user is given when the answer is incorrect.\n",
    "hint = 'Not quite right. \\nRemember, the process to find the domain of existence is:\\n\\\n",
    "    1. Write out the expression,\\n\\\n",
    "    2. Isolate for x, \\n\\\n",
    "    3. Ensure that x is not negative.'\n",
    "\n",
    "#correct is the message outputed for when the user gets the question correct.\n",
    "correct = \"Well done!\\n\\\n",
    "    1. Write out the expression, ((2x - 10) >= 0),\\n\\\n",
    "    2. Isolate for x, (x >= 5),\\n\\\n",
    "    3. Ensure that x doesn't have a negative sign, (x >= 5)\"\n",
    "\n",
    "display(writtenQuestion)\n",
    "display(question)\n",
    "display(checkButton)\n",
    "\n",
    "checkButton.on_click(checkAnswer)"
   ]
  },
  {
   "cell_type": "code",
   "execution_count": 12,
   "metadata": {
    "tags": [
     "hide-input"
    ]
   },
   "outputs": [
    {
     "data": {
      "text/latex": [
       "Find the domain of existence for: $(9 - 7x)^{-1/5}$"
      ],
      "text/plain": [
       "<IPython.core.display.Latex object>"
      ]
     },
     "metadata": {},
     "output_type": "display_data"
    },
    {
     "data": {
      "application/vnd.jupyter.widget-view+json": {
       "model_id": "5086ec36d6c04d1bbd02330199731f1a",
       "version_major": 2,
       "version_minor": 0
      },
      "text/plain": [
       "Text(value='', description='Input: ', style=DescriptionStyle(description_width='initial'))"
      ]
     },
     "metadata": {},
     "output_type": "display_data"
    },
    {
     "data": {
      "application/vnd.jupyter.widget-view+json": {
       "model_id": "d1eba25dfcfe406882a566288ced4ced",
       "version_major": 2,
       "version_minor": 0
      },
      "text/plain": [
       "Button(description='Check Answer', style=ButtonStyle())"
      ]
     },
     "metadata": {},
     "output_type": "display_data"
    }
   ],
   "source": [
    "from IPython.display import clear_output\n",
    "#Used to ensure the description text doesn't get cut off.\n",
    "style = {'description_width': 'initial'}\n",
    "\n",
    "question = widgets.Text(\n",
    "    value=None,\n",
    "    description='Input: ',\n",
    "    disabled=False,\n",
    "    style = style\n",
    "    )\n",
    "\n",
    "checkButton = widgets.Button(description = \"Check Answer\")\n",
    "\n",
    "def checkAnswer(a):\n",
    "    #questionAnswer will be the input given by the user.\n",
    "    questionAnswer = question.value\n",
    "    \n",
    "    #answers is a list of possible answers that can be inputted. \n",
    "    answers = [\"x < 9/7\", \"x < (9/7)\"]\n",
    "    \n",
    "    #Check if the input is in the list of answers. If this is the case:\n",
    "    if questionAnswer in answers:\n",
    "        clear_output()\n",
    "        display(writtenQuestion)\n",
    "        print(\"You answered: \" + questionAnswer)\n",
    "        print(correct)\n",
    "    \n",
    "    #Otherwise, if no input has been given, do nothing:\n",
    "    elif (questionAnswer == \"\"):\n",
    "        None\n",
    "    \n",
    "    #Lastly, if the answer is wrong, give the user a hint:\n",
    "    else:\n",
    "        clear_output()\n",
    "        display(writtenQuestion)\n",
    "        display(question)\n",
    "        display(checkButton)\n",
    "        print(hint)\n",
    "\n",
    "#writtenQuestion is the question the user is asked.\n",
    "writtenQuestion =  Latex(\"Find the domain of existence for: $(9 - 7x)^{-1/5}$\")\n",
    "\n",
    "#hint is the hint the user is given when the answer is incorrect.\n",
    "hint = 'Not quite right. \\nRemember, the process to find the domain of existence is:\\n\\\n",
    "    1. Write out the expression,\\n\\\n",
    "    2. Isolate for x, \\n\\\n",
    "    3. Ensure that x is not negative.'\n",
    "\n",
    "#correct is the message outputed for when the user gets the question correct.\n",
    "correct = \"Well done!\\n\\\n",
    "    1. Write out the expression, ((9 - 7x) > 0),\\n\\\n",
    "    2. Isolate for x, (-x > -9/7),\\n\\\n",
    "    3. Ensure that x doesn't have a negative sign, (x < 9/7)\"\n",
    "\n",
    "display(writtenQuestion)\n",
    "display(question)\n",
    "display(checkButton)\n",
    "\n",
    "checkButton.on_click(checkAnswer)"
   ]
  },
  {
   "cell_type": "markdown",
   "metadata": {},
   "source": [
    "The following graph shows us what these functions we worked with look like. It should be clear that each function exists exactly where we defined them in the previous exercise. "
   ]
  },
  {
   "cell_type": "code",
   "execution_count": 13,
   "metadata": {
    "tags": [
     "hide-input"
    ]
   },
   "outputs": [
    {
     "data": {
      "image/png": "[encoded data removed]",
      "text/plain": [
       "<Figure size 720x504 with 1 Axes>"
      ]
     },
     "metadata": {
      "filenames": {
       "image/png": "/home/mikel/Documents/curriculum-jbook-local/_build/jupyter_execute/curriculum-notebooks/Mathematics/AnalyzingRadicalFunctions/analyzing-radical-functions_29_0.png"
      },
      "needs_background": "light"
     },
     "output_type": "display_data"
    }
   ],
   "source": [
    "\"\"\"\"\n",
    "plot of all the functions a, b and c that students will have worked with\n",
    "shows the domains of existence that were found in the exercises\n",
    "\"\"\"\n",
    "\n",
    "x1 = np.linspace(-10,3,500)\n",
    "x2 = np.linspace(5,10,500)\n",
    "x3 = np.linspace(-10.,8.9999/7.,500)\n",
    "plt.figure(1,figsize = (10,7))\n",
    "hold = True\n",
    "plt.plot(9./7. * np.ones(100),np.linspace(0,12,100),'k--',alpha = 0.5)\n",
    "plt.plot(x1,sqrt(3-x1),'b-',label = r'$y = \\sqrt{3-x}$')\n",
    "plt.plot(x2,(2*x2-10)**(1./3.),'r-', label = r'$y = (2x-10)^{\\frac{1}{3}}$')\n",
    "plt.plot(x3,(9-7*x3)**(-1./5.),'g-', label = r'$y = (9-7x)^{\\frac{-1}{5}}$')\n",
    "\n",
    "plt.text(9./7.-0.4,-0.25,r'$9/7$',fontsize = 13)\n",
    "plt.xlabel('$x$',fontsize = 14)\n",
    "plt.ylabel('$y$',fontsize = 14)\n",
    "plt.plot([-10,10],[0,0],'k-',alpha = 1,linewidth = 1)\n",
    "plt.plot([0,0],[-10,10],'k-',alpha = 1,linewidth = 1)\n",
    "plt.grid(alpha = 0.7)\n",
    "plt.xticks(np.arange(-10,11))\n",
    "plt.ylim([-2,5])\n",
    "plt.xlim([-10,10])\n",
    "plt.legend(loc = 'best', fontsize = 18)\n",
    "plt.show()"
   ]
  },
  {
   "cell_type": "markdown",
   "metadata": {},
   "source": [
    "## Questions\n",
    "\n",
    "## Problem Set 1\n",
    "Here, you will be tested on the topics we covered in this notebook. You will be asked to find the roots for functions that must be factored first. You will also have to find the domain of existence of certain functions using the method we just applied in the section above. Remember to be careful of negative exponents!"
   ]
  },
  {
   "cell_type": "code",
   "execution_count": 14,
   "metadata": {
    "tags": [
     "hide-input"
    ]
   },
   "outputs": [
    {
     "data": {
      "text/latex": [
       "Find the domain of existence for: $(-2x + 14)^{1/2}$"
      ],
      "text/plain": [
       "<IPython.core.display.Latex object>"
      ]
     },
     "metadata": {},
     "output_type": "display_data"
    },
    {
     "data": {
      "application/vnd.jupyter.widget-view+json": {
       "model_id": "2d912ede30c34fb9b9c55546ba9cb481",
       "version_major": 2,
       "version_minor": 0
      },
      "text/plain": [
       "Text(value='', description='Input: ', style=DescriptionStyle(description_width='initial'))"
      ]
     },
     "metadata": {},
     "output_type": "display_data"
    },
    {
     "data": {
      "application/vnd.jupyter.widget-view+json": {
       "model_id": "4f69627c879b4e4ca641789d477f457b",
       "version_major": 2,
       "version_minor": 0
      },
      "text/plain": [
       "Button(description='Check Answer', style=ButtonStyle())"
      ]
     },
     "metadata": {},
     "output_type": "display_data"
    }
   ],
   "source": [
    "from IPython.display import clear_output\n",
    "#Used to ensure the description text doesn't get cut off.\n",
    "style = {'description_width': 'initial'}\n",
    "\n",
    "question = widgets.Text(\n",
    "    value=None,\n",
    "    description='Input: ',\n",
    "    disabled=False,\n",
    "    style = style\n",
    "    )\n",
    "\n",
    "checkButton = widgets.Button(description = \"Check Answer\")\n",
    "\n",
    "def checkAnswer(a):\n",
    "    #questionAnswer will be the input given by the user.\n",
    "    questionAnswer = question.value\n",
    "    \n",
    "    #answers is a list of possible answers that can be inputted. \n",
    "    answers = [\"x <= 7\"]\n",
    "    \n",
    "    #Check if the input is in the list of answers. If this is the case:\n",
    "    if questionAnswer in answers:\n",
    "        clear_output()\n",
    "        display(writtenQuestion)\n",
    "        print(\"You answered: \" + questionAnswer)\n",
    "        print(correct)\n",
    "    \n",
    "    #Otherwise, if no input has been given, do nothing:\n",
    "    elif (questionAnswer == \"\"):\n",
    "        None\n",
    "    \n",
    "    #Lastly, if the answer is wrong, give the user a hint:\n",
    "    else:\n",
    "        clear_output()\n",
    "        display(writtenQuestion)\n",
    "        display(question)\n",
    "        display(checkButton)\n",
    "        print(hint)\n",
    "\n",
    "#writtenQuestion is the question the user is asked.\n",
    "writtenQuestion =  Latex(\"Find the domain of existence for: $(-2x + 14)^{1/2}$\")\n",
    "\n",
    "#hint is the hint the user is given when the answer is incorrect.\n",
    "hint = 'Not quite right. \\nRemember, the process to find the domain of existence is:\\n\\\n",
    "    1. Write out the expression,\\n\\\n",
    "    2. Isolate for x, \\n\\\n",
    "    3. Ensure that x is not negative.'\n",
    "\n",
    "#correct is the message outputed for when the user gets the question correct.\n",
    "correct = \"Well done!\\n\\\n",
    "    1. Write out the expression, ((-2x + 14) >= 0),\\n\\\n",
    "    2. Isolate for x, (-x >= -7),\\n\\\n",
    "    3. Ensure that x doesn't have a negative sign, (x <= 7)\"\n",
    "\n",
    "display(writtenQuestion)\n",
    "display(question)\n",
    "display(checkButton)\n",
    "\n",
    "checkButton.on_click(checkAnswer)"
   ]
  },
  {
   "cell_type": "code",
   "execution_count": 15,
   "metadata": {
    "tags": [
     "hide-input"
    ]
   },
   "outputs": [
    {
     "data": {
      "text/latex": [
       "Find the domain of existence for: $(15x-5+8x)^{-1/5}$"
      ],
      "text/plain": [
       "<IPython.core.display.Latex object>"
      ]
     },
     "metadata": {},
     "output_type": "display_data"
    },
    {
     "data": {
      "application/vnd.jupyter.widget-view+json": {
       "model_id": "89050fbe8f464e1eb10101b9f60706d9",
       "version_major": 2,
       "version_minor": 0
      },
      "text/plain": [
       "Text(value='', description='Input: ', style=DescriptionStyle(description_width='initial'))"
      ]
     },
     "metadata": {},
     "output_type": "display_data"
    },
    {
     "data": {
      "application/vnd.jupyter.widget-view+json": {
       "model_id": "cd24802d74d14d32b6b7453ee6efed5c",
       "version_major": 2,
       "version_minor": 0
      },
      "text/plain": [
       "Button(description='Check Answer', style=ButtonStyle())"
      ]
     },
     "metadata": {},
     "output_type": "display_data"
    }
   ],
   "source": [
    "from IPython.display import clear_output\n",
    "#Used to ensure the description text doesn't get cut off.\n",
    "style = {'description_width': 'initial'}\n",
    "\n",
    "question = widgets.Text(\n",
    "    value=None,\n",
    "    description='Input: ',\n",
    "    disabled=False,\n",
    "    style = style\n",
    "    )\n",
    "\n",
    "checkButton = widgets.Button(description = \"Check Answer\")\n",
    "\n",
    "def checkAnswer(a):\n",
    "    #questionAnswer will be the input given by the user.\n",
    "    questionAnswer = question.value\n",
    "    \n",
    "    #answers is a list of possible answers that can be inputted. \n",
    "    answers = [\"x > 5/23\", \"x > (5/23)\"]\n",
    "    \n",
    "    #Check if the input is in the list of answers. If this is the case:\n",
    "    if questionAnswer in answers:\n",
    "        clear_output()\n",
    "        display(writtenQuestion)\n",
    "        print(\"You answered: \" + questionAnswer)\n",
    "        print(correct)\n",
    "    \n",
    "    #Otherwise, if no input has been given, do nothing:\n",
    "    elif (questionAnswer == \"\"):\n",
    "        None\n",
    "    \n",
    "    #Lastly, if the answer is wrong, give the user a hint:\n",
    "    else:\n",
    "        clear_output()\n",
    "        display(writtenQuestion)\n",
    "        display(question)\n",
    "        display(checkButton)\n",
    "        print(hint)\n",
    "        \n",
    "#writtenQuestion is the question the user is asked.\n",
    "writtenQuestion =  Latex(\"Find the domain of existence for: $(15x-5+8x)^{-1/5}$\")\n",
    "\n",
    "#hint is the hint the user is given when the answer is incorrect.\n",
    "hint = 'Not quite right. \\nRemember, the process to find the domain of existence is:\\n\\\n",
    "    1. Write out the expression,\\n\\\n",
    "    2. Isolate for x, \\n\\\n",
    "    3. Ensure that x is not negative.'\n",
    "\n",
    "#correct is the message outputed for when the user gets the question correct.\n",
    "correct = \"Well done!\\n\\\n",
    "    1. Write out the expression, ((23x - 5) > 0),\\n\\\n",
    "    2. Isolate for x, (x > 5/23),\\n\\\n",
    "    3. Ensure that x doesn't have a negative sign, (x > 5/23)\"\n",
    "\n",
    "display(writtenQuestion)\n",
    "display(question)\n",
    "display(checkButton)\n",
    "\n",
    "checkButton.on_click(checkAnswer)"
   ]
  },
  {
   "cell_type": "code",
   "execution_count": 16,
   "metadata": {
    "tags": [
     "hide-input"
    ]
   },
   "outputs": [
    {
     "data": {
      "text/latex": [
       "Find the principle root for: $(x^2-6x+9)^{1/3}$"
      ],
      "text/plain": [
       "<IPython.core.display.Latex object>"
      ]
     },
     "metadata": {},
     "output_type": "display_data"
    },
    {
     "data": {
      "application/vnd.jupyter.widget-view+json": {
       "model_id": "7163c492244f4bf0843ce8892838e734",
       "version_major": 2,
       "version_minor": 0
      },
      "text/plain": [
       "IntText(value=0, description='Input: ', style=DescriptionStyle(description_width='initial'))"
      ]
     },
     "metadata": {},
     "output_type": "display_data"
    },
    {
     "data": {
      "application/vnd.jupyter.widget-view+json": {
       "model_id": "dc197c58ba3b4875827f96d5badb9685",
       "version_major": 2,
       "version_minor": 0
      },
      "text/plain": [
       "Button(description='Check Answer', style=ButtonStyle())"
      ]
     },
     "metadata": {},
     "output_type": "display_data"
    }
   ],
   "source": [
    "from IPython.display import clear_output\n",
    "#Used to ensure the description text doesn't get cut off.\n",
    "style = {'description_width': 'initial'}\n",
    "\n",
    "question = widgets.IntText(\n",
    "    value=None,\n",
    "    description='Input: ',\n",
    "    disabled=False,\n",
    "    style = style\n",
    "    )\n",
    "\n",
    "checkButton = widgets.Button(description = \"Check Answer\")\n",
    "\n",
    "def checkAnswer(a):\n",
    "    #questionAnswer will be the input given by the user.\n",
    "    questionAnswer = question.value\n",
    "    \n",
    "    #answers is a list of possible answers that can be inputted. \n",
    "    answers = [3]\n",
    "    \n",
    "    #Check if the input is in the list of answers. If this is the case:\n",
    "    if questionAnswer in answers:\n",
    "        clear_output()\n",
    "        display(writtenQuestion)\n",
    "        print(\"You answered: \" + str(questionAnswer) )\n",
    "        print(correct)\n",
    "    \n",
    "    #Otherwise, if no input has been given, do nothing:\n",
    "    elif (questionAnswer == 0):\n",
    "        None\n",
    "    \n",
    "    #Lastly, if the answer is wrong, give the user a hint:\n",
    "    else:\n",
    "        clear_output()\n",
    "        display(writtenQuestion)\n",
    "        display(question)\n",
    "        display(checkButton)\n",
    "        print(hint)\n",
    "        \n",
    "#writtenQuestion is the question the user is asked.\n",
    "writtenQuestion =  Latex(\"Find the principle root for: $(x^2-6x+9)^{1/3}$\")\n",
    "\n",
    "#hint is the hint the user is given when the answer is incorrect.\n",
    "hint = 'Not quite right. \\nRemember, the process to find the principle root is:\\n\\\n",
    "    1. Set f(x)  equal to 0 so that f(x) = 0,\\n\\\n",
    "    2. Cube BOTH sides so that |x| = 0,\\n\\\n",
    "    3. Solve the expression for the POSITIVE case of the absolute value function.'\n",
    "\n",
    "#correct is the message outputed for when the user gets the question correct.\n",
    "correct = \"Well done!\\n\\\n",
    "    1. Set f(x)  equal to 0, ((x**2 - 6x + 9)**(1/3) = 0),\\n\\\n",
    "    2. Cube BOTH sides so that |x**2 - 6x + 9| = 0,\\n\\\n",
    "    3. Solve the expression for the POSITIVE case, (x = 3)\"\n",
    "\n",
    "display(writtenQuestion)\n",
    "display(question)\n",
    "display(checkButton)\n",
    "\n",
    "checkButton.on_click(checkAnswer)"
   ]
  },
  {
   "cell_type": "markdown",
   "metadata": {},
   "source": [
    "## Problem Set 2\n",
    "\n",
    "The next problems involve interacting with plots which already have functions graphed on them. In each function of the form:\n",
    "\n",
    "<h3 align='center'>$y = (a-bx)^{\\frac{1}{n}}$</h3>\n",
    "\n",
    "It is your job to find the right unknown parameters, **(a, b, n)**. This can be done by adjusting the sliders provided and matching the function graphically. This exercise will provide intuition on how adjusting the values in a function manipulates a graph."
   ]
  },
  {
   "cell_type": "code",
   "execution_count": 17,
   "metadata": {
    "scrolled": false,
    "tags": [
     "hide-input"
    ]
   },
   "outputs": [
    {
     "data": {
      "application/vnd.jupyter.widget-view+json": {
       "model_id": "d9efb47b4c774bdd82b54bf8e8cd0e6e",
       "version_major": 2,
       "version_minor": 0
      },
      "text/plain": [
       "interactive(children=(IntSlider(value=0, continuous_update=False, description='a', max=10, min=-10), IntSlider…"
      ]
     },
     "metadata": {},
     "output_type": "display_data"
    },
    {
     "data": {
      "text/latex": [
       "*If you're seeing no change, make sure b is NOT set to 0.*"
      ],
      "text/plain": [
       "<IPython.core.display.Latex object>"
      ]
     },
     "metadata": {},
     "output_type": "display_data"
    }
   ],
   "source": [
    "\"\"\"\n",
    "interactive plot where students have to match parameters a, b and n in the function f(x) = (a-bx)^(1/n)\n",
    "if & else statements are required to adjust the x-linspace such that python does not constantly return errors when\n",
    "an invalid (complex) value is encountered under the exponent\n",
    "\"\"\"\n",
    "\n",
    "def slider(a,b,n):\n",
    "    if b != 0:\n",
    "        i = float(a)/float(b)\n",
    "    else:\n",
    "        i = 0\n",
    "        a = 0 # when b = 0, set a = 0 to avoid all a < 0. Note at the bottom of each figure\n",
    "    if b > 0:\n",
    "        x = np.linspace(-10,i,500)\n",
    "    else:\n",
    "        x = np.linspace(i,10,500)\n",
    "    f = (a-b*x)**(1./n)\n",
    "    xx = np.linspace(-10,2,200)\n",
    "    plt.figure(1,figsize = (10,7))\n",
    "    hold = True\n",
    "    plt.plot(x,f,'m-',linewidth = 3)\n",
    "    plt.plot(xx,(6-3*xx)**(1./3.),'b--', linewidth = 2, label = r'$y = (a-bx)^{\\frac{1}{n}}$')\n",
    "    \n",
    "    #If the answer is correct,\n",
    "    if a == 6 and b == 3 and n == 3:\n",
    "        plt.text(1,2,'VERY GOOD!', fontsize = 25, fontweight = 'bold',color = 'r')\n",
    "        plt.plot(x,f,'m-',linewidth = 3, label = r'$y = (6-3x)^{\\frac{1}{3}}$')\n",
    "    plt.xlabel('$x$',fontsize = 14)\n",
    "    plt.ylabel('$y$',fontsize = 14)\n",
    "    plt.plot([-10,10],[0,0],'k-',alpha = 1,linewidth = 1)\n",
    "    plt.plot([0,0],[-10,10],'k-',alpha = 1,linewidth = 1)\n",
    "    plt.grid(alpha = 0.7)\n",
    "    plt.xticks(np.arange(-10,11))\n",
    "    plt.ylim([-2,5])\n",
    "    plt.xlim([-10,10])\n",
    "    plt.legend(loc = 'best', fontsize = 18)\n",
    "    plt.show()\n",
    "\n",
    "sl = interactive(slider, n=widgets.IntSlider(value = 2, min = 2,max = 5,step = 1, continuous_update = False),\n",
    "                a=widgets.IntSlider(value = 0, min = -10,max = 10,step = 1, continuous_update = False),\n",
    "                b=widgets.IntSlider(value = 0, min = -10,max = 10,step = 1, continuous_update = False))\n",
    "display(sl)\n",
    "display(Latex(\"*If you're seeing no change, make sure b is NOT set to 0.*\"))"
   ]
  },
  {
   "cell_type": "code",
   "execution_count": 18,
   "metadata": {
    "tags": [
     "hide-input"
    ]
   },
   "outputs": [
    {
     "data": {
      "application/vnd.jupyter.widget-view+json": {
       "model_id": "5dd62286d518460a807016cb76c32de5",
       "version_major": 2,
       "version_minor": 0
      },
      "text/plain": [
       "interactive(children=(IntSlider(value=0, continuous_update=False, description='a', max=10, min=-10), IntSlider…"
      ]
     },
     "metadata": {},
     "output_type": "display_data"
    },
    {
     "data": {
      "text/latex": [
       "*If you're seeing no change, make sure b is NOT set to 0.*"
      ],
      "text/plain": [
       "<IPython.core.display.Latex object>"
      ]
     },
     "metadata": {},
     "output_type": "display_data"
    }
   ],
   "source": [
    "def slider(a,b,n):\n",
    "    if b != 0:\n",
    "        i = float(a)/float(b)\n",
    "    else:\n",
    "        i = 0\n",
    "        a = 0\n",
    "    if b > 0:\n",
    "        x = np.linspace(-10,i,500)\n",
    "    else:\n",
    "        x = np.linspace(i,10,500)\n",
    "    f = (a-b*x)**(1./n)\n",
    "    xx = np.linspace(9./4,10,200)\n",
    "    plt.figure(1,figsize = (10,7))\n",
    "    hold = True\n",
    "    plt.plot(x,f,'m-',linewidth = 3)\n",
    "    plt.plot(xx,(-9+4*xx)**(1./2.),'b--', linewidth = 2, label = r'$y = (a-bx)^{\\frac{1}{n}}$')\n",
    "    \n",
    "    #If the answer is correct,\n",
    "    if a == -9 and b == -4 and n == 2:\n",
    "        plt.text(-7,2,'VERY GOOD!', fontsize = 25, fontweight = 'bold',color = 'r')\n",
    "        plt.plot(x,f,'m-',linewidth = 3, label = r'$y = (-9+4x)^{\\frac{1}{2}}$')\n",
    "    plt.xlabel('$x$',fontsize = 14)\n",
    "    plt.ylabel('$y$',fontsize = 14)\n",
    "    plt.plot([-10,10],[0,0],'k-',alpha = 1,linewidth = 1)\n",
    "    plt.plot([0,0],[-10,10],'k-',alpha = 1,linewidth = 1)\n",
    "    plt.grid(alpha = 0.7)\n",
    "    plt.xticks(np.arange(-10,11))\n",
    "    plt.ylim([-2,5])\n",
    "    plt.xlim([-10,10])\n",
    "    plt.legend(loc = 'best', fontsize = 18)\n",
    "    plt.show()\n",
    "\n",
    "sl = interactive(slider, n=widgets.IntSlider(value = 2, min = 2,max = 5,step = 1, continuous_update = False),\n",
    "                a=widgets.IntSlider(value = 0, min = -10,max = 10,step = 1, continuous_update = False),\n",
    "                b=widgets.IntSlider(value = 0, min = -10,max = 10,step = 1, continuous_update = False))\n",
    "display(sl)\n",
    "display(Latex(\"*If you're seeing no change, make sure b is NOT set to 0.*\"))"
   ]
  },
  {
   "cell_type": "code",
   "execution_count": 19,
   "metadata": {
    "tags": [
     "hide-input"
    ]
   },
   "outputs": [
    {
     "data": {
      "application/vnd.jupyter.widget-view+json": {
       "model_id": "726aa8d26a584fa4ab9cd2dc3b5de05c",
       "version_major": 2,
       "version_minor": 0
      },
      "text/plain": [
       "interactive(children=(IntSlider(value=0, continuous_update=False, description='a', max=10, min=-10), IntSlider…"
      ]
     },
     "metadata": {},
     "output_type": "display_data"
    },
    {
     "data": {
      "text/latex": [
       "*If you're seeing no change, make sure b is NOT set to 0.*"
      ],
      "text/plain": [
       "<IPython.core.display.Latex object>"
      ]
     },
     "metadata": {},
     "output_type": "display_data"
    }
   ],
   "source": [
    "def slider(a,b,n):\n",
    "    if b != 0:\n",
    "        i = float(a)/float(b)\n",
    "    else:\n",
    "        i = 0\n",
    "        a = 0\n",
    "    if b > 0:\n",
    "        x = np.linspace(-10,i,500)\n",
    "    else:\n",
    "        x = np.linspace(i,10,500)\n",
    "    f = (a-b*x)**(1./n)\n",
    "    xx = np.linspace(-4,10,200)\n",
    "    plt.figure(1,figsize = (10,7))\n",
    "    hold = True\n",
    "    plt.plot(x,f,'m-',linewidth = 3)\n",
    "    plt.plot(xx,(8+2*xx)**(1./5.),'b--', linewidth = 2, label = r'$y = (a-bx)^{\\frac{1}{n}}$')\n",
    "    \n",
    "    #If the answer is correct,\n",
    "    if a == 8 and b == -2 and n == 5:\n",
    "        plt.text(-8,3,'VERY GOOD!', fontsize = 25, fontweight = 'bold',color = 'r')\n",
    "        plt.plot(x,f,'m-',linewidth = 3, label = r'$y = (8+2x)^{\\frac{1}{5}}$')\n",
    "    plt.xlabel('$x$',fontsize = 14)\n",
    "    plt.ylabel('$y$',fontsize = 14)\n",
    "    plt.plot([-10,10],[0,0],'k-',alpha = 1,linewidth = 1)\n",
    "    plt.plot([0,0],[-10,10],'k-',alpha = 1,linewidth = 1)\n",
    "    plt.grid(alpha = 0.7)\n",
    "    plt.xticks(np.arange(-10,11))\n",
    "    plt.ylim([-2,5])\n",
    "    plt.xlim([-10,10])\n",
    "    plt.legend(loc = 'best', fontsize = 18)\n",
    "    plt.show()\n",
    "\n",
    "sl = interactive(slider, n=widgets.IntSlider(value = 2, min = 2,max = 5,step = 1, continuous_update = False),\n",
    "                a=widgets.IntSlider(value = 0, min = -10,max = 10,step = 1, continuous_update = False),\n",
    "                b=widgets.IntSlider(value = 0, min = -10,max = 10,step = 1, continuous_update = False))\n",
    "display(sl)\n",
    "display(Latex(\"*If you're seeing no change, make sure b is NOT set to 0.*\"))"
   ]
  },
  {
   "cell_type": "code",
   "execution_count": 20,
   "metadata": {
    "tags": [
     "hide-input"
    ]
   },
   "outputs": [
    {
     "data": {
      "application/vnd.jupyter.widget-view+json": {
       "model_id": "58b2563b129b4ed189f6ba31f358227e",
       "version_major": 2,
       "version_minor": 0
      },
      "text/plain": [
       "interactive(children=(IntSlider(value=0, continuous_update=False, description='a', max=10, min=-10), IntSlider…"
      ]
     },
     "metadata": {},
     "output_type": "display_data"
    },
    {
     "data": {
      "text/latex": [
       "*If you're seeing no change, make sure b is NOT set to 0.*"
      ],
      "text/plain": [
       "<IPython.core.display.Latex object>"
      ]
     },
     "metadata": {},
     "output_type": "display_data"
    }
   ],
   "source": [
    "def slider(a,b,n):\n",
    "    if b != 0 and a != 0:\n",
    "        i = float(a)/float(b)\n",
    "    elif b == 0:\n",
    "        a = 0\n",
    "        x = 1\n",
    "    else:\n",
    "        i = 0\n",
    "    if b > 0:\n",
    "        x = np.linspace(-11,i-1e-5,500)\n",
    "    elif b < 0:\n",
    "        x = np.linspace(i+1e-5,11,500)\n",
    "    elif b == 0:\n",
    "        b = -1\n",
    "    \n",
    "    f = (a-b*x)**(-1./n)\n",
    "    xx = np.linspace(-10,5-1e-5,300)\n",
    "    plt.figure(1,figsize = (10,7))\n",
    "    hold = True\n",
    "    plt.plot(x,f,'m-',linewidth = 3)\n",
    "    plt.plot(xx,(5-xx)**(-1./4.),'b--', linewidth = 2, label = r'$y = (a-bx)^{\\frac{1}{n}}$')\n",
    "    \n",
    "    #If the answer is correct,\n",
    "    if a == 5 and b == 1 and n == 4:\n",
    "        plt.text(-7,2,'VERY GOOD!', fontsize = 25, fontweight = 'bold',color = 'r')\n",
    "        plt.plot(x,f,'m-',linewidth = 3, label = r'$y = (5-x)^{\\frac{-1}{4}}$')\n",
    "    plt.xlabel('$x$',fontsize = 14)\n",
    "    plt.ylabel('$y$',fontsize = 14)\n",
    "    plt.plot([-10,10],[0,0],'k-',alpha = 1,linewidth = 1)\n",
    "    plt.plot([0,0],[-10,10],'k-',alpha = 1,linewidth = 1)\n",
    "    plt.grid(alpha = 0.7)\n",
    "    plt.xticks(np.arange(-10,11))\n",
    "    plt.ylim([-2,5])\n",
    "    plt.xlim([-10,10])\n",
    "    plt.legend(loc = 'best', fontsize = 18)\n",
    "    plt.show()\n",
    "\n",
    "sl = interactive(slider, n=widgets.IntSlider(value = 2, min = 2,max = 5,step = 1, continuous_update = False),\n",
    "                a=widgets.IntSlider(value = 0, min = -10,max = 10,step = 1, continuous_update = False),\n",
    "                b=widgets.IntSlider(value = 0, min = -10,max = 10,step = 1, continuous_update = False))\n",
    "display(sl)\n",
    "display(Latex(\"*If you're seeing no change, make sure b is NOT set to 0.*\"))"
   ]
  },
  {
   "cell_type": "markdown",
   "metadata": {},
   "source": [
    "## The Spiral of Theordorus \n",
    "https://en.wikipedia.org/wiki/Spiral_of_Theodorus\n",
    "\n",
    "The *Spiral of Theodorus or Pythagorean Spiral* is a geometrical construction of right angle triangles. It's a very interesting and fun application of square roots! So, let's look at an image of the spiral first and then we can look at the mathematics of how the square root gets involved. \n"
   ]
  },
  {
   "cell_type": "markdown",
   "metadata": {},
   "source": [
    "<center><img src=\"./images/Spiral_image.png\"></center>"
   ]
  },
  {
   "cell_type": "markdown",
   "metadata": {},
   "source": [
    "So what exactly is happening here? Well, as you may have noticed all the triangles that form this design are *right angle triangles*. \n",
    "\n",
    "Starting from the innermost triangle, you can see that it has two side lengths equal to 1 with a hypotenuse equal to $\\sqrt{2}$. \n",
    "\n",
    "Moving to the next triangle, we see it is again another right angle triangle, rotated now by some angle $\\phi$. It now has a base length of $\\sqrt{2}$, a hypotenuse of $\\sqrt{3}$, and the remaining side is still 1. Can you see the pattern here? Each of the $n^{\\rm th}$ triangle has its outermost side length fixed at 1. The base and the hypotenuse of these triangles are $\\sqrt{n}$ and $\\sqrt{n+1}$ respectively, for $n > 0$. \n",
    "\n",
    "We can also calculate what the angle $\\phi$ is for the $n^{\\rm th}$ triangle:\n",
    "\n",
    "$$\\phi = \\arctan\\Big(\\frac{1}{\\sqrt{n}}\\Big)$$\n",
    "\n",
    "This is true because $\\tan\\phi = \\frac{\\rm opposite}{\\rm adjacent}$, and our side opposite $\\phi$ is fixed at length 1, while the adjacent side changes to $\\sqrt{n}$ for the $n^{\\rm th}$ triangle. \n",
    "\n",
    "From these simple facts, one can construct a code that creates this fun visual application of square roots! Feel free to look at ``Spiral_Of_Theodorus.py`` to see how the spiral was created. Below is an interactive widget where you can change how many triangles are formed in the spiral."
   ]
  },
  {
   "cell_type": "code",
   "execution_count": 21,
   "metadata": {
    "tags": [
     "hide-input"
    ]
   },
   "outputs": [
    {
     "data": {
      "application/vnd.jupyter.widget-view+json": {
       "model_id": "29f6c3f33050423f8f3e1804d29c766f",
       "version_major": 2,
       "version_minor": 0
      },
      "text/plain": [
       "interactive(children=(IntSlider(value=17, continuous_update=False, description='n', min=2), Output()), _dom_cl…"
      ]
     },
     "metadata": {},
     "output_type": "display_data"
    }
   ],
   "source": [
    "#!/usr/bin/env python2\n",
    "# -*- coding: utf-8 -*-\n",
    "\"\"\"\n",
    "Created on Fri May 11 11:03:28 2018\n",
    "@author: jonathan\n",
    "\"\"\"\n",
    "import numpy as np\n",
    "import matplotlib.pyplot as plt\n",
    "from math import atan, sqrt, cos, sin\n",
    "col = ['#e02727','#e06e27','#e0ca27','#a9e027','#57e027','#27e07e','#27e0bc','#27cde0','#2789e0','#2750e0','#2c27e0','#6827e0','#8427e0','#b527e0','#e027de','#e0279f','#e02766']\n",
    "c = len(col)\n",
    "\n",
    "def Spiral(n):\n",
    "    col_counter = 0\n",
    "    N = np.arange(1,n)\n",
    "    phi = 0\n",
    "    plt.figure(1,figsize = (12,9))\n",
    "    hold = True\n",
    "    for n in N:\n",
    "\n",
    "        phi_n = atan(1./sqrt(n))\n",
    "        phi += phi_n\n",
    "        if n == 1:\n",
    "            plt.plot([0,1],[0,0],linewidth = 1.5,color = col[col_counter])\n",
    "            plt.plot([1,1],[0,1],linewidth = 1.5,color = col[col_counter])\n",
    "            r = sqrt(n + 1)\n",
    "            x = r*cos(phi)\n",
    "            y = r*sin(phi)\n",
    "            plt.plot([0,x],[0,y],linewidth = 1.5,color = col[col_counter])\n",
    "            string = str((r'$\\sqrt{' + str(n + 1) + '}$'))\n",
    "            plt.text(x/1.4,y/1.4,string)\n",
    "            X = [0,1,x]\n",
    "            Y = [0,0,y]\n",
    "            plt.fill(X,Y,color = col[col_counter],alpha = 0.45)            \n",
    "            last_x = 1\n",
    "            last_y = 1\n",
    "        else:\n",
    "            r = sqrt(n + 1)\n",
    "            x = r*cos(phi)\n",
    "            y = r*sin(phi)\n",
    "            plt.plot([0,x], [0,y], linewidth = 1.5,color = col[col_counter])\n",
    "            plt.plot([last_x,x], [last_y,y],color = col[col_counter])\n",
    "            string = str((r'$\\sqrt{' + str(n + 1) + '}$'))\n",
    "            plt.text(x/1.4,y/1.4,string,fontsize = 13)\n",
    "            X = [0,last_x,x]\n",
    "            Y = [0,last_y,y]\n",
    "            plt.fill(X,Y,color = col[col_counter],alpha = 0.45)\n",
    "            last_x = x\n",
    "            last_y = y\n",
    "\n",
    "        col_counter += 1\n",
    "        if col_counter > c-1:\n",
    "            col_counter = 0\n",
    "\n",
    "sl = interactive(Spiral, n=widgets.IntSlider(value = 17, min = 2,max = 100,step = 1, continuous_update = False)) \n",
    "display(sl)"
   ]
  },
  {
   "cell_type": "markdown",
   "metadata": {},
   "source": [
    "## Conclusion \n",
    "\n",
    "In this notebook, we covered the *fundamentals of radical functions* and their *domains of existence*. You should be able to recognize that any function underneath a radical requires its values to be *positive* and that we find this by solving for the root of the function inside the radical. It is important to differentiate that functions of the form:\n",
    "\n",
    "1. $\\ f(g(x)) = g(x)^{\\frac{1}{n}}$ \n",
    "2.  $\\ f(g(x)) = g(x)^{\\frac{-1}{n}}$ \n",
    "\n",
    "In $a)$, the domain of existence is values of $g(x) \\geq 0$, while in $b)$, the domain of existence is values of $g(x) > 0$. This is because *with a negative exponent, $g(x) = 0$ does not exist*. \n",
    "\n",
    "We also covered the most common radical function, *the square root*, and showed how this connects to the absolute value function. It can also be utilized to find the roots of certain quadratic functions of the form :\n",
    "\n",
    "$$f(x) = (ax-b)^2$$"
   ]
  },
  {
   "cell_type": "markdown",
   "metadata": {},
   "source": [
    "[![Callysto.ca License](https://github.com/callysto/curriculum-notebooks/blob/master/callysto-notebook-banner-bottom.jpg?raw=true)](https://github.com/callysto/curriculum-notebooks/blob/master/LICENSE.md)"
   ]
  }
 ],
 "metadata": {
  "celltoolbar": "Edit Metadata",
  "kernelspec": {
   "display_name": "Python 3",
   "language": "python",
   "name": "python3"
  },
  "language_info": {
   "codemirror_mode": {
    "name": "ipython",
    "version": 3
   },
   "file_extension": ".py",
   "mimetype": "text/x-python",
   "name": "python",
   "nbconvert_exporter": "python",
   "pygments_lexer": "ipython3",
   "version": "3.7.4"
  },
  "widgets": {
   "application/vnd.jupyter.widget-state+json": {
    "state": {
     "0164b3c842194440a9f2a5d3a01ca50f": {
      "model_module": "@jupyter-widgets/base",
      "model_module_version": "1.2.0",
      "model_name": "LayoutModel",
      "state": {
       "_model_module": "@jupyter-widgets/base",
       "_model_module_version": "1.2.0",
       "_model_name": "LayoutModel",
       "_view_count": null,
       "_view_module": "@jupyter-widgets/base",
       "_view_module_version": "1.2.0",
       "_view_name": "LayoutView",
       "align_content": null,
       "align_items": null,
       "align_self": null,
       "border": null,
       "bottom": null,
       "display": null,
       "flex": null,
       "flex_flow": null,
       "grid_area": null,
       "grid_auto_columns": null,
       "grid_auto_flow": null,
       "grid_auto_rows": null,
       "grid_column": null,
       "grid_gap": null,
       "grid_row": null,
       "grid_template_areas": null,
       "grid_template_columns": null,
       "grid_template_rows": null,
       "height": null,
       "justify_content": null,
       "justify_items": null,
       "left": null,
       "margin": null,
       "max_height": null,
       "max_width": null,
       "min_height": null,
       "min_width": null,
       "object_fit": null,
       "object_position": null,
       "order": null,
       "overflow": null,
       "overflow_x": null,
       "overflow_y": null,
       "padding": null,
       "right": null,
       "top": null,
       "visibility": null,
       "width": null
      }
     },
     "063cbce1f1a7415b8ee5c141d7bfe391": {
      "model_module": "@jupyter-widgets/base",
      "model_module_version": "1.2.0",
      "model_name": "LayoutModel",
      "state": {
       "_model_module": "@jupyter-widgets/base",
       "_model_module_version": "1.2.0",
       "_model_name": "LayoutModel",
       "_view_count": null,
       "_view_module": "@jupyter-widgets/base",
       "_view_module_version": "1.2.0",
       "_view_name": "LayoutView",
       "align_content": null,
       "align_items": null,
       "align_self": null,
       "border": null,
       "bottom": null,
       "display": null,
       "flex": null,
       "flex_flow": null,
       "grid_area": null,
       "grid_auto_columns": null,
       "grid_auto_flow": null,
       "grid_auto_rows": null,
       "grid_column": null,
       "grid_gap": null,
       "grid_row": null,
       "grid_template_areas": null,
       "grid_template_columns": null,
       "grid_template_rows": null,
       "height": null,
       "justify_content": null,
       "justify_items": null,
       "left": null,
       "margin": null,
       "max_height": null,
       "max_width": null,
       "min_height": null,
       "min_width": null,
       "object_fit": null,
       "object_position": null,
       "order": null,
       "overflow": null,
       "overflow_x": null,
       "overflow_y": null,
       "padding": null,
       "right": null,
       "top": null,
       "visibility": null,
       "width": null
      }
     },
     "0d865218924642e28ee42e3adb4ade2c": {
      "model_module": "@jupyter-widgets/base",
      "model_module_version": "1.2.0",
      "model_name": "LayoutModel",
      "state": {
       "_model_module": "@jupyter-widgets/base",
       "_model_module_version": "1.2.0",
       "_model_name": "LayoutModel",
       "_view_count": null,
       "_view_module": "@jupyter-widgets/base",
       "_view_module_version": "1.2.0",
       "_view_name": "LayoutView",
       "align_content": null,
       "align_items": null,
       "align_self": null,
       "border": null,
       "bottom": null,
       "display": null,
       "flex": null,
       "flex_flow": null,
       "grid_area": null,
       "grid_auto_columns": null,
       "grid_auto_flow": null,
       "grid_auto_rows": null,
       "grid_column": null,
       "grid_gap": null,
       "grid_row": null,
       "grid_template_areas": null,
       "grid_template_columns": null,
       "grid_template_rows": null,
       "height": null,
       "justify_content": null,
       "justify_items": null,
       "left": null,
       "margin": null,
       "max_height": null,
       "max_width": null,
       "min_height": null,
       "min_width": null,
       "object_fit": null,
       "object_position": null,
       "order": null,
       "overflow": null,
       "overflow_x": null,
       "overflow_y": null,
       "padding": null,
       "right": null,
       "top": null,
       "visibility": null,
       "width": null
      }
     },
     "0e1c9d7d7af4419bbefe7b20e73d72d3": {
      "model_module": "@jupyter-widgets/controls",
      "model_module_version": "1.5.0",
      "model_name": "VBoxModel",
      "state": {
       "_dom_classes": [
        "widget-interact"
       ],
       "_model_module": "@jupyter-widgets/controls",
       "_model_module_version": "1.5.0",
       "_model_name": "VBoxModel",
       "_view_count": null,
       "_view_module": "@jupyter-widgets/controls",
       "_view_module_version": "1.5.0",
       "_view_name": "VBoxView",
       "box_style": "",
       "children": [
        "IPY_MODEL_f1db8fbdb15f4e79b820c2ae79711dac",
        "IPY_MODEL_e90fc7eafe124289a05316e0b2270a10"
       ],
       "layout": "IPY_MODEL_4ac82dfea6874f188c3a0b9332016200"
      }
     },
     "1054ae0b4d62433a8fe68045932582c2": {
      "model_module": "@jupyter-widgets/base",
      "model_module_version": "1.2.0",
      "model_name": "LayoutModel",
      "state": {
       "_model_module": "@jupyter-widgets/base",
       "_model_module_version": "1.2.0",
       "_model_name": "LayoutModel",
       "_view_count": null,
       "_view_module": "@jupyter-widgets/base",
       "_view_module_version": "1.2.0",
       "_view_name": "LayoutView",
       "align_content": null,
       "align_items": null,
       "align_self": null,
       "border": null,
       "bottom": null,
       "display": null,
       "flex": null,
       "flex_flow": null,
       "grid_area": null,
       "grid_auto_columns": null,
       "grid_auto_flow": null,
       "grid_auto_rows": null,
       "grid_column": null,
       "grid_gap": null,
       "grid_row": null,
       "grid_template_areas": null,
       "grid_template_columns": null,
       "grid_template_rows": null,
       "height": null,
       "justify_content": null,
       "justify_items": null,
       "left": null,
       "margin": null,
       "max_height": null,
       "max_width": null,
       "min_height": null,
       "min_width": null,
       "object_fit": null,
       "object_position": null,
       "order": null,
       "overflow": null,
       "overflow_x": null,
       "overflow_y": null,
       "padding": null,
       "right": null,
       "top": null,
       "visibility": null,
       "width": null
      }
     },
     "1100482d590d4ff88aed0c613f2774c2": {
      "model_module": "@jupyter-widgets/base",
      "model_module_version": "1.2.0",
      "model_name": "LayoutModel",
      "state": {
       "_model_module": "@jupyter-widgets/base",
       "_model_module_version": "1.2.0",
       "_model_name": "LayoutModel",
       "_view_count": null,
       "_view_module": "@jupyter-widgets/base",
       "_view_module_version": "1.2.0",
       "_view_name": "LayoutView",
       "align_content": null,
       "align_items": null,
       "align_self": null,
       "border": null,
       "bottom": null,
       "display": null,
       "flex": null,
       "flex_flow": null,
       "grid_area": null,
       "grid_auto_columns": null,
       "grid_auto_flow": null,
       "grid_auto_rows": null,
       "grid_column": null,
       "grid_gap": null,
       "grid_row": null,
       "grid_template_areas": null,
       "grid_template_columns": null,
       "grid_template_rows": null,
       "height": null,
       "justify_content": null,
       "justify_items": null,
       "left": null,
       "margin": null,
       "max_height": null,
       "max_width": null,
       "min_height": null,
       "min_width": null,
       "object_fit": null,
       "object_position": null,
       "order": null,
       "overflow": null,
       "overflow_x": null,
       "overflow_y": null,
       "padding": null,
       "right": null,
       "top": null,
       "visibility": null,
       "width": null
      }
     },
     "11e9bbcd347b41ee9dc3542297ccdac6": {
      "model_module": "@jupyter-widgets/controls",
      "model_module_version": "1.5.0",
      "model_name": "IntSliderModel",
      "state": {
       "_dom_classes": [],
       "_model_module": "@jupyter-widgets/controls",
       "_model_module_version": "1.5.0",
       "_model_name": "IntSliderModel",
       "_view_count": null,
       "_view_module": "@jupyter-widgets/controls",
       "_view_module_version": "1.5.0",
       "_view_name": "IntSliderView",
       "continuous_update": false,
       "description": "n",
       "description_tooltip": null,
       "disabled": false,
       "layout": "IPY_MODEL_e67a1ac15bbf4e92b363429d8e9501e3",
       "max": 5,
       "min": 2,
       "orientation": "horizontal",
       "readout": true,
       "readout_format": "d",
       "step": 1,
       "style": "IPY_MODEL_2e8d2227f42f46b0b905ab4520494e25",
       "value": 2
      }
     },
     "122ca19e2a2c4665b09b167d5637c3eb": {
      "model_module": "@jupyter-widgets/controls",
      "model_module_version": "1.5.0",
      "model_name": "DescriptionStyleModel",
      "state": {
       "_model_module": "@jupyter-widgets/controls",
       "_model_module_version": "1.5.0",
       "_model_name": "DescriptionStyleModel",
       "_view_count": null,
       "_view_module": "@jupyter-widgets/base",
       "_view_module_version": "1.2.0",
       "_view_name": "StyleView",
       "description_width": "initial"
      }
     },
     "183840288523460da994c7ddb2728e37": {
      "model_module": "@jupyter-widgets/controls",
      "model_module_version": "1.5.0",
      "model_name": "SliderStyleModel",
      "state": {
       "_model_module": "@jupyter-widgets/controls",
       "_model_module_version": "1.5.0",
       "_model_name": "SliderStyleModel",
       "_view_count": null,
       "_view_module": "@jupyter-widgets/base",
       "_view_module_version": "1.2.0",
       "_view_name": "StyleView",
       "description_width": "",
       "handle_color": null
      }
     },
     "1aae47917417403ca453c5d8705ccf8e": {
      "model_module": "@jupyter-widgets/base",
      "model_module_version": "1.2.0",
      "model_name": "LayoutModel",
      "state": {
       "_model_module": "@jupyter-widgets/base",
       "_model_module_version": "1.2.0",
       "_model_name": "LayoutModel",
       "_view_count": null,
       "_view_module": "@jupyter-widgets/base",
       "_view_module_version": "1.2.0",
       "_view_name": "LayoutView",
       "align_content": null,
       "align_items": null,
       "align_self": null,
       "border": null,
       "bottom": null,
       "display": null,
       "flex": null,
       "flex_flow": null,
       "grid_area": null,
       "grid_auto_columns": null,
       "grid_auto_flow": null,
       "grid_auto_rows": null,
       "grid_column": null,
       "grid_gap": null,
       "grid_row": null,
       "grid_template_areas": null,
       "grid_template_columns": null,
       "grid_template_rows": null,
       "height": null,
       "justify_content": null,
       "justify_items": null,
       "left": null,
       "margin": null,
       "max_height": null,
       "max_width": null,
       "min_height": null,
       "min_width": null,
       "object_fit": null,
       "object_position": null,
       "order": null,
       "overflow": null,
       "overflow_x": null,
       "overflow_y": null,
       "padding": null,
       "right": null,
       "top": null,
       "visibility": null,
       "width": null
      }
     },
     "1cee933c899f40b9b12893583dc688aa": {
      "model_module": "@jupyter-widgets/base",
      "model_module_version": "1.2.0",
      "model_name": "LayoutModel",
      "state": {
       "_model_module": "@jupyter-widgets/base",
       "_model_module_version": "1.2.0",
       "_model_name": "LayoutModel",
       "_view_count": null,
       "_view_module": "@jupyter-widgets/base",
       "_view_module_version": "1.2.0",
       "_view_name": "LayoutView",
       "align_content": null,
       "align_items": null,
       "align_self": null,
       "border": null,
       "bottom": null,
       "display": null,
       "flex": null,
       "flex_flow": null,
       "grid_area": null,
       "grid_auto_columns": null,
       "grid_auto_flow": null,
       "grid_auto_rows": null,
       "grid_column": null,
       "grid_gap": null,
       "grid_row": null,
       "grid_template_areas": null,
       "grid_template_columns": null,
       "grid_template_rows": null,
       "height": null,
       "justify_content": null,
       "justify_items": null,
       "left": null,
       "margin": null,
       "max_height": null,
       "max_width": null,
       "min_height": null,
       "min_width": null,
       "object_fit": null,
       "object_position": null,
       "order": null,
       "overflow": null,
       "overflow_x": null,
       "overflow_y": null,
       "padding": null,
       "right": null,
       "top": null,
       "visibility": null,
       "width": null
      }
     },
     "219abda80acc4f98bd71879c40cc550a": {
      "model_module": "@jupyter-widgets/controls",
      "model_module_version": "1.5.0",
      "model_name": "ButtonModel",
      "state": {
       "_dom_classes": [],
       "_model_module": "@jupyter-widgets/controls",
       "_model_module_version": "1.5.0",
       "_model_name": "ButtonModel",
       "_view_count": null,
       "_view_module": "@jupyter-widgets/controls",
       "_view_module_version": "1.5.0",
       "_view_name": "ButtonView",
       "button_style": "",
       "description": "Check Answer",
       "disabled": false,
       "icon": "",
       "layout": "IPY_MODEL_5ce9a72aa0e64064b4342f463e3f832c",
       "style": "IPY_MODEL_d01d3b5aa678483f8fa4e596eb75f4cb",
       "tooltip": ""
      }
     },
     "2326633426ce42229c7461b8193e7217": {
      "model_module": "@jupyter-widgets/controls",
      "model_module_version": "1.5.0",
      "model_name": "IntSliderModel",
      "state": {
       "_dom_classes": [],
       "_model_module": "@jupyter-widgets/controls",
       "_model_module_version": "1.5.0",
       "_model_name": "IntSliderModel",
       "_view_count": null,
       "_view_module": "@jupyter-widgets/controls",
       "_view_module_version": "1.5.0",
       "_view_name": "IntSliderView",
       "continuous_update": false,
       "description": "n",
       "description_tooltip": null,
       "disabled": false,
       "layout": "IPY_MODEL_36cbfe9eab7b489e875376b16695a397",
       "max": 5,
       "min": 2,
       "orientation": "horizontal",
       "readout": true,
       "readout_format": "d",
       "step": 1,
       "style": "IPY_MODEL_b7cee3aa50de4ad9832c9575d9330417",
       "value": 2
      }
     },
     "2363621ff8e6405cb8116a6818c328fc": {
      "model_module": "@jupyter-widgets/controls",
      "model_module_version": "1.5.0",
      "model_name": "TextModel",
      "state": {
       "_dom_classes": [],
       "_model_module": "@jupyter-widgets/controls",
       "_model_module_version": "1.5.0",
       "_model_name": "TextModel",
       "_view_count": null,
       "_view_module": "@jupyter-widgets/controls",
       "_view_module_version": "1.5.0",
       "_view_name": "TextView",
       "continuous_update": true,
       "description": "Input: ",
       "description_tooltip": null,
       "disabled": false,
       "layout": "IPY_MODEL_1054ae0b4d62433a8fe68045932582c2",
       "placeholder": "​",
       "style": "IPY_MODEL_fc74de9fed3b4486b538cb1eee5c7ad7",
       "value": ""
      }
     },
     "2410f583bc66431792b40d9d8c524b21": {
      "model_module": "@jupyter-widgets/controls",
      "model_module_version": "1.5.0",
      "model_name": "SliderStyleModel",
      "state": {
       "_model_module": "@jupyter-widgets/controls",
       "_model_module_version": "1.5.0",
       "_model_name": "SliderStyleModel",
       "_view_count": null,
       "_view_module": "@jupyter-widgets/base",
       "_view_module_version": "1.2.0",
       "_view_name": "StyleView",
       "description_width": "",
       "handle_color": null
      }
     },
     "289c53b16f79498b914e7d91fd51acb6": {
      "model_module": "@jupyter-widgets/controls",
      "model_module_version": "1.5.0",
      "model_name": "DescriptionStyleModel",
      "state": {
       "_model_module": "@jupyter-widgets/controls",
       "_model_module_version": "1.5.0",
       "_model_name": "DescriptionStyleModel",
       "_view_count": null,
       "_view_module": "@jupyter-widgets/base",
       "_view_module_version": "1.2.0",
       "_view_name": "StyleView",
       "description_width": "initial"
      }
     },
     "29f6c3f33050423f8f3e1804d29c766f": {
      "model_module": "@jupyter-widgets/controls",
      "model_module_version": "1.5.0",
      "model_name": "VBoxModel",
      "state": {
       "_dom_classes": [
        "widget-interact"
       ],
       "_model_module": "@jupyter-widgets/controls",
       "_model_module_version": "1.5.0",
       "_model_name": "VBoxModel",
       "_view_count": null,
       "_view_module": "@jupyter-widgets/controls",
       "_view_module_version": "1.5.0",
       "_view_name": "VBoxView",
       "box_style": "",
       "children": [
        "IPY_MODEL_e758caa588b74d0abb8e0abb00df7cd9",
        "IPY_MODEL_30d5be2dec324d54818cb421d82f47f8"
       ],
       "layout": "IPY_MODEL_44744b18a9474e66bc196a1b05787d20"
      }
     },
     "2b4153b9fb7a4816b875c3b0e94187b7": {
      "model_module": "@jupyter-widgets/controls",
      "model_module_version": "1.5.0",
      "model_name": "SliderStyleModel",
      "state": {
       "_model_module": "@jupyter-widgets/controls",
       "_model_module_version": "1.5.0",
       "_model_name": "SliderStyleModel",
       "_view_count": null,
       "_view_module": "@jupyter-widgets/base",
       "_view_module_version": "1.2.0",
       "_view_name": "StyleView",
       "description_width": "",
       "handle_color": null
      }
     },
     "2c7c87010a774c098086623cc07a3a4f": {
      "model_module": "@jupyter-widgets/controls",
      "model_module_version": "1.5.0",
      "model_name": "ButtonStyleModel",
      "state": {
       "_model_module": "@jupyter-widgets/controls",
       "_model_module_version": "1.5.0",
       "_model_name": "ButtonStyleModel",
       "_view_count": null,
       "_view_module": "@jupyter-widgets/base",
       "_view_module_version": "1.2.0",
       "_view_name": "StyleView",
       "button_color": null,
       "font_weight": ""
      }
     },
     "2d33d0117e6b45b6b38352aa8c0d74a0": {
      "model_module": "@jupyter-widgets/base",
      "model_module_version": "1.2.0",
      "model_name": "LayoutModel",
      "state": {
       "_model_module": "@jupyter-widgets/base",
       "_model_module_version": "1.2.0",
       "_model_name": "LayoutModel",
       "_view_count": null,
       "_view_module": "@jupyter-widgets/base",
       "_view_module_version": "1.2.0",
       "_view_name": "LayoutView",
       "align_content": null,
       "align_items": null,
       "align_self": null,
       "border": null,
       "bottom": null,
       "display": null,
       "flex": null,
       "flex_flow": null,
       "grid_area": null,
       "grid_auto_columns": null,
       "grid_auto_flow": null,
       "grid_auto_rows": null,
       "grid_column": null,
       "grid_gap": null,
       "grid_row": null,
       "grid_template_areas": null,
       "grid_template_columns": null,
       "grid_template_rows": null,
       "height": null,
       "justify_content": null,
       "justify_items": null,
       "left": null,
       "margin": null,
       "max_height": null,
       "max_width": null,
       "min_height": null,
       "min_width": null,
       "object_fit": null,
       "object_position": null,
       "order": null,
       "overflow": null,
       "overflow_x": null,
       "overflow_y": null,
       "padding": null,
       "right": null,
       "top": null,
       "visibility": null,
       "width": null
      }
     },
     "2d912ede30c34fb9b9c55546ba9cb481": {
      "model_module": "@jupyter-widgets/controls",
      "model_module_version": "1.5.0",
      "model_name": "TextModel",
      "state": {
       "_dom_classes": [],
       "_model_module": "@jupyter-widgets/controls",
       "_model_module_version": "1.5.0",
       "_model_name": "TextModel",
       "_view_count": null,
       "_view_module": "@jupyter-widgets/controls",
       "_view_module_version": "1.5.0",
       "_view_name": "TextView",
       "continuous_update": true,
       "description": "Input: ",
       "description_tooltip": null,
       "disabled": false,
       "layout": "IPY_MODEL_47264b84509643098b9ccbd50420e4e2",
       "placeholder": "​",
       "style": "IPY_MODEL_59436ca6eecb41cd916a30233e9aacc2",
       "value": ""
      }
     },
     "2e8d2227f42f46b0b905ab4520494e25": {
      "model_module": "@jupyter-widgets/controls",
      "model_module_version": "1.5.0",
      "model_name": "SliderStyleModel",
      "state": {
       "_model_module": "@jupyter-widgets/controls",
       "_model_module_version": "1.5.0",
       "_model_name": "SliderStyleModel",
       "_view_count": null,
       "_view_module": "@jupyter-widgets/base",
       "_view_module_version": "1.2.0",
       "_view_name": "StyleView",
       "description_width": "",
       "handle_color": null
      }
     },
     "2ee15fd55ba4426e82f685f20fe539f9": {
      "model_module": "@jupyter-widgets/base",
      "model_module_version": "1.2.0",
      "model_name": "LayoutModel",
      "state": {
       "_model_module": "@jupyter-widgets/base",
       "_model_module_version": "1.2.0",
       "_model_name": "LayoutModel",
       "_view_count": null,
       "_view_module": "@jupyter-widgets/base",
       "_view_module_version": "1.2.0",
       "_view_name": "LayoutView",
       "align_content": null,
       "align_items": null,
       "align_self": null,
       "border": null,
       "bottom": null,
       "display": null,
       "flex": null,
       "flex_flow": null,
       "grid_area": null,
       "grid_auto_columns": null,
       "grid_auto_flow": null,
       "grid_auto_rows": null,
       "grid_column": null,
       "grid_gap": null,
       "grid_row": null,
       "grid_template_areas": null,
       "grid_template_columns": null,
       "grid_template_rows": null,
       "height": null,
       "justify_content": null,
       "justify_items": null,
       "left": null,
       "margin": null,
       "max_height": null,
       "max_width": null,
       "min_height": null,
       "min_width": null,
       "object_fit": null,
       "object_position": null,
       "order": null,
       "overflow": null,
       "overflow_x": null,
       "overflow_y": null,
       "padding": null,
       "right": null,
       "top": null,
       "visibility": null,
       "width": null
      }
     },
     "2efc6b088de84d03920ab32a7641fc0c": {
      "model_module": "@jupyter-widgets/output",
      "model_module_version": "1.0.0",
      "model_name": "OutputModel",
      "state": {
       "_dom_classes": [],
       "_model_module": "@jupyter-widgets/output",
       "_model_module_version": "1.0.0",
       "_model_name": "OutputModel",
       "_view_count": null,
       "_view_module": "@jupyter-widgets/output",
       "_view_module_version": "1.0.0",
       "_view_name": "OutputView",
       "layout": "IPY_MODEL_2d33d0117e6b45b6b38352aa8c0d74a0",
       "msg_id": "",
       "outputs": [
        {
         "data": {
          "image/png": "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\n",
          "text/plain": "<Figure size 720x504 with 1 Axes>"
         },
         "metadata": {
          "needs_background": "light"
         },
         "output_type": "display_data"
        }
       ]
      }
     },
     "3065feb2bbdd4d5e81d3161a36953d87": {
      "model_module": "@jupyter-widgets/controls",
      "model_module_version": "1.5.0",
      "model_name": "DescriptionStyleModel",
      "state": {
       "_model_module": "@jupyter-widgets/controls",
       "_model_module_version": "1.5.0",
       "_model_name": "DescriptionStyleModel",
       "_view_count": null,
       "_view_module": "@jupyter-widgets/base",
       "_view_module_version": "1.2.0",
       "_view_name": "StyleView",
       "description_width": "initial"
      }
     },
     "30d5be2dec324d54818cb421d82f47f8": {
      "model_module": "@jupyter-widgets/output",
      "model_module_version": "1.0.0",
      "model_name": "OutputModel",
      "state": {
       "_dom_classes": [],
       "_model_module": "@jupyter-widgets/output",
       "_model_module_version": "1.0.0",
       "_model_name": "OutputModel",
       "_view_count": null,
       "_view_module": "@jupyter-widgets/output",
       "_view_module_version": "1.0.0",
       "_view_name": "OutputView",
       "layout": "IPY_MODEL_cc66b401629b4ff1af4b195b3a8eb76f",
       "msg_id": "",
       "outputs": [
        {
         "data": {
          "image/png": "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\n",
          "text/plain": "<Figure size 864x648 with 1 Axes>"
         },
         "metadata": {
          "needs_background": "light"
         },
         "output_type": "display_data"
        }
       ]
      }
     },
     "31889eb0f2fc409ba48579cee2dad50b": {
      "model_module": "@jupyter-widgets/base",
      "model_module_version": "1.2.0",
      "model_name": "LayoutModel",
      "state": {
       "_model_module": "@jupyter-widgets/base",
       "_model_module_version": "1.2.0",
       "_model_name": "LayoutModel",
       "_view_count": null,
       "_view_module": "@jupyter-widgets/base",
       "_view_module_version": "1.2.0",
       "_view_name": "LayoutView",
       "align_content": null,
       "align_items": null,
       "align_self": null,
       "border": null,
       "bottom": null,
       "display": null,
       "flex": null,
       "flex_flow": null,
       "grid_area": null,
       "grid_auto_columns": null,
       "grid_auto_flow": null,
       "grid_auto_rows": null,
       "grid_column": null,
       "grid_gap": null,
       "grid_row": null,
       "grid_template_areas": null,
       "grid_template_columns": null,
       "grid_template_rows": null,
       "height": null,
       "justify_content": null,
       "justify_items": null,
       "left": null,
       "margin": null,
       "max_height": null,
       "max_width": null,
       "min_height": null,
       "min_width": null,
       "object_fit": null,
       "object_position": null,
       "order": null,
       "overflow": null,
       "overflow_x": null,
       "overflow_y": null,
       "padding": null,
       "right": null,
       "top": null,
       "visibility": null,
       "width": null
      }
     },
     "35711ce7b1af4fb5bd0bb12495ea5dbe": {
      "model_module": "@jupyter-widgets/base",
      "model_module_version": "1.2.0",
      "model_name": "LayoutModel",
      "state": {
       "_model_module": "@jupyter-widgets/base",
       "_model_module_version": "1.2.0",
       "_model_name": "LayoutModel",
       "_view_count": null,
       "_view_module": "@jupyter-widgets/base",
       "_view_module_version": "1.2.0",
       "_view_name": "LayoutView",
       "align_content": null,
       "align_items": null,
       "align_self": null,
       "border": null,
       "bottom": null,
       "display": null,
       "flex": null,
       "flex_flow": null,
       "grid_area": null,
       "grid_auto_columns": null,
       "grid_auto_flow": null,
       "grid_auto_rows": null,
       "grid_column": null,
       "grid_gap": null,
       "grid_row": null,
       "grid_template_areas": null,
       "grid_template_columns": null,
       "grid_template_rows": null,
       "height": null,
       "justify_content": null,
       "justify_items": null,
       "left": null,
       "margin": null,
       "max_height": null,
       "max_width": null,
       "min_height": null,
       "min_width": null,
       "object_fit": null,
       "object_position": null,
       "order": null,
       "overflow": null,
       "overflow_x": null,
       "overflow_y": null,
       "padding": null,
       "right": null,
       "top": null,
       "visibility": null,
       "width": null
      }
     },
     "36cbfe9eab7b489e875376b16695a397": {
      "model_module": "@jupyter-widgets/base",
      "model_module_version": "1.2.0",
      "model_name": "LayoutModel",
      "state": {
       "_model_module": "@jupyter-widgets/base",
       "_model_module_version": "1.2.0",
       "_model_name": "LayoutModel",
       "_view_count": null,
       "_view_module": "@jupyter-widgets/base",
       "_view_module_version": "1.2.0",
       "_view_name": "LayoutView",
       "align_content": null,
       "align_items": null,
       "align_self": null,
       "border": null,
       "bottom": null,
       "display": null,
       "flex": null,
       "flex_flow": null,
       "grid_area": null,
       "grid_auto_columns": null,
       "grid_auto_flow": null,
       "grid_auto_rows": null,
       "grid_column": null,
       "grid_gap": null,
       "grid_row": null,
       "grid_template_areas": null,
       "grid_template_columns": null,
       "grid_template_rows": null,
       "height": null,
       "justify_content": null,
       "justify_items": null,
       "left": null,
       "margin": null,
       "max_height": null,
       "max_width": null,
       "min_height": null,
       "min_width": null,
       "object_fit": null,
       "object_position": null,
       "order": null,
       "overflow": null,
       "overflow_x": null,
       "overflow_y": null,
       "padding": null,
       "right": null,
       "top": null,
       "visibility": null,
       "width": null
      }
     },
     "37a769c541e14554ac1517fdd198f0ba": {
      "model_module": "@jupyter-widgets/base",
      "model_module_version": "1.2.0",
      "model_name": "LayoutModel",
      "state": {
       "_model_module": "@jupyter-widgets/base",
       "_model_module_version": "1.2.0",
       "_model_name": "LayoutModel",
       "_view_count": null,
       "_view_module": "@jupyter-widgets/base",
       "_view_module_version": "1.2.0",
       "_view_name": "LayoutView",
       "align_content": null,
       "align_items": null,
       "align_self": null,
       "border": null,
       "bottom": null,
       "display": null,
       "flex": null,
       "flex_flow": null,
       "grid_area": null,
       "grid_auto_columns": null,
       "grid_auto_flow": null,
       "grid_auto_rows": null,
       "grid_column": null,
       "grid_gap": null,
       "grid_row": null,
       "grid_template_areas": null,
       "grid_template_columns": null,
       "grid_template_rows": null,
       "height": null,
       "justify_content": null,
       "justify_items": null,
       "left": null,
       "margin": null,
       "max_height": null,
       "max_width": null,
       "min_height": null,
       "min_width": null,
       "object_fit": null,
       "object_position": null,
       "order": null,
       "overflow": null,
       "overflow_x": null,
       "overflow_y": null,
       "padding": null,
       "right": null,
       "top": null,
       "visibility": null,
       "width": null
      }
     },
     "3aa64e72ba3e4f78932e655e7caa43c1": {
      "model_module": "@jupyter-widgets/base",
      "model_module_version": "1.2.0",
      "model_name": "LayoutModel",
      "state": {
       "_model_module": "@jupyter-widgets/base",
       "_model_module_version": "1.2.0",
       "_model_name": "LayoutModel",
       "_view_count": null,
       "_view_module": "@jupyter-widgets/base",
       "_view_module_version": "1.2.0",
       "_view_name": "LayoutView",
       "align_content": null,
       "align_items": null,
       "align_self": null,
       "border": null,
       "bottom": null,
       "display": null,
       "flex": null,
       "flex_flow": null,
       "grid_area": null,
       "grid_auto_columns": null,
       "grid_auto_flow": null,
       "grid_auto_rows": null,
       "grid_column": null,
       "grid_gap": null,
       "grid_row": null,
       "grid_template_areas": null,
       "grid_template_columns": null,
       "grid_template_rows": null,
       "height": null,
       "justify_content": null,
       "justify_items": null,
       "left": null,
       "margin": null,
       "max_height": null,
       "max_width": null,
       "min_height": null,
       "min_width": null,
       "object_fit": null,
       "object_position": null,
       "order": null,
       "overflow": null,
       "overflow_x": null,
       "overflow_y": null,
       "padding": null,
       "right": null,
       "top": null,
       "visibility": null,
       "width": null
      }
     },
     "3c29b5ac1218439aa9e03da405890643": {
      "model_module": "@jupyter-widgets/controls",
      "model_module_version": "1.5.0",
      "model_name": "ButtonStyleModel",
      "state": {
       "_model_module": "@jupyter-widgets/controls",
       "_model_module_version": "1.5.0",
       "_model_name": "ButtonStyleModel",
       "_view_count": null,
       "_view_module": "@jupyter-widgets/base",
       "_view_module_version": "1.2.0",
       "_view_name": "StyleView",
       "button_color": null,
       "font_weight": ""
      }
     },
     "44744b18a9474e66bc196a1b05787d20": {
      "model_module": "@jupyter-widgets/base",
      "model_module_version": "1.2.0",
      "model_name": "LayoutModel",
      "state": {
       "_model_module": "@jupyter-widgets/base",
       "_model_module_version": "1.2.0",
       "_model_name": "LayoutModel",
       "_view_count": null,
       "_view_module": "@jupyter-widgets/base",
       "_view_module_version": "1.2.0",
       "_view_name": "LayoutView",
       "align_content": null,
       "align_items": null,
       "align_self": null,
       "border": null,
       "bottom": null,
       "display": null,
       "flex": null,
       "flex_flow": null,
       "grid_area": null,
       "grid_auto_columns": null,
       "grid_auto_flow": null,
       "grid_auto_rows": null,
       "grid_column": null,
       "grid_gap": null,
       "grid_row": null,
       "grid_template_areas": null,
       "grid_template_columns": null,
       "grid_template_rows": null,
       "height": null,
       "justify_content": null,
       "justify_items": null,
       "left": null,
       "margin": null,
       "max_height": null,
       "max_width": null,
       "min_height": null,
       "min_width": null,
       "object_fit": null,
       "object_position": null,
       "order": null,
       "overflow": null,
       "overflow_x": null,
       "overflow_y": null,
       "padding": null,
       "right": null,
       "top": null,
       "visibility": null,
       "width": null
      }
     },
     "45abfd6c72bb4d04b1c022729712c112": {
      "model_module": "@jupyter-widgets/controls",
      "model_module_version": "1.5.0",
      "model_name": "VBoxModel",
      "state": {
       "_dom_classes": [
        "widget-interact"
       ],
       "_model_module": "@jupyter-widgets/controls",
       "_model_module_version": "1.5.0",
       "_model_name": "VBoxModel",
       "_view_count": null,
       "_view_module": "@jupyter-widgets/controls",
       "_view_module_version": "1.5.0",
       "_view_name": "VBoxView",
       "box_style": "",
       "children": [
        "IPY_MODEL_d9915b8c29414df0bc05ea50b3e8616c",
        "IPY_MODEL_d09a6b996a414dccb8f4606a8bc0996b"
       ],
       "layout": "IPY_MODEL_1cee933c899f40b9b12893583dc688aa"
      }
     },
     "47264b84509643098b9ccbd50420e4e2": {
      "model_module": "@jupyter-widgets/base",
      "model_module_version": "1.2.0",
      "model_name": "LayoutModel",
      "state": {
       "_model_module": "@jupyter-widgets/base",
       "_model_module_version": "1.2.0",
       "_model_name": "LayoutModel",
       "_view_count": null,
       "_view_module": "@jupyter-widgets/base",
       "_view_module_version": "1.2.0",
       "_view_name": "LayoutView",
       "align_content": null,
       "align_items": null,
       "align_self": null,
       "border": null,
       "bottom": null,
       "display": null,
       "flex": null,
       "flex_flow": null,
       "grid_area": null,
       "grid_auto_columns": null,
       "grid_auto_flow": null,
       "grid_auto_rows": null,
       "grid_column": null,
       "grid_gap": null,
       "grid_row": null,
       "grid_template_areas": null,
       "grid_template_columns": null,
       "grid_template_rows": null,
       "height": null,
       "justify_content": null,
       "justify_items": null,
       "left": null,
       "margin": null,
       "max_height": null,
       "max_width": null,
       "min_height": null,
       "min_width": null,
       "object_fit": null,
       "object_position": null,
       "order": null,
       "overflow": null,
       "overflow_x": null,
       "overflow_y": null,
       "padding": null,
       "right": null,
       "top": null,
       "visibility": null,
       "width": null
      }
     },
     "4787a195e19d46bb9a41eb544f30b304": {
      "model_module": "@jupyter-widgets/output",
      "model_module_version": "1.0.0",
      "model_name": "OutputModel",
      "state": {
       "_dom_classes": [],
       "_model_module": "@jupyter-widgets/output",
       "_model_module_version": "1.0.0",
       "_model_name": "OutputModel",
       "_view_count": null,
       "_view_module": "@jupyter-widgets/output",
       "_view_module_version": "1.0.0",
       "_view_name": "OutputView",
       "layout": "IPY_MODEL_0164b3c842194440a9f2a5d3a01ca50f",
       "msg_id": "",
       "outputs": [
        {
         "data": {
          "image/png": "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\n",
          "text/plain": "<Figure size 720x504 with 1 Axes>"
         },
         "metadata": {
          "needs_background": "light"
         },
         "output_type": "display_data"
        }
       ]
      }
     },
     "4ac82dfea6874f188c3a0b9332016200": {
      "model_module": "@jupyter-widgets/base",
      "model_module_version": "1.2.0",
      "model_name": "LayoutModel",
      "state": {
       "_model_module": "@jupyter-widgets/base",
       "_model_module_version": "1.2.0",
       "_model_name": "LayoutModel",
       "_view_count": null,
       "_view_module": "@jupyter-widgets/base",
       "_view_module_version": "1.2.0",
       "_view_name": "LayoutView",
       "align_content": null,
       "align_items": null,
       "align_self": null,
       "border": null,
       "bottom": null,
       "display": null,
       "flex": null,
       "flex_flow": null,
       "grid_area": null,
       "grid_auto_columns": null,
       "grid_auto_flow": null,
       "grid_auto_rows": null,
       "grid_column": null,
       "grid_gap": null,
       "grid_row": null,
       "grid_template_areas": null,
       "grid_template_columns": null,
       "grid_template_rows": null,
       "height": null,
       "justify_content": null,
       "justify_items": null,
       "left": null,
       "margin": null,
       "max_height": null,
       "max_width": null,
       "min_height": null,
       "min_width": null,
       "object_fit": null,
       "object_position": null,
       "order": null,
       "overflow": null,
       "overflow_x": null,
       "overflow_y": null,
       "padding": null,
       "right": null,
       "top": null,
       "visibility": null,
       "width": null
      }
     },
     "4b30dfbfd28242f3adbd7b7db427b6e0": {
      "model_module": "@jupyter-widgets/base",
      "model_module_version": "1.2.0",
      "model_name": "LayoutModel",
      "state": {
       "_model_module": "@jupyter-widgets/base",
       "_model_module_version": "1.2.0",
       "_model_name": "LayoutModel",
       "_view_count": null,
       "_view_module": "@jupyter-widgets/base",
       "_view_module_version": "1.2.0",
       "_view_name": "LayoutView",
       "align_content": null,
       "align_items": null,
       "align_self": null,
       "border": null,
       "bottom": null,
       "display": null,
       "flex": null,
       "flex_flow": null,
       "grid_area": null,
       "grid_auto_columns": null,
       "grid_auto_flow": null,
       "grid_auto_rows": null,
       "grid_column": null,
       "grid_gap": null,
       "grid_row": null,
       "grid_template_areas": null,
       "grid_template_columns": null,
       "grid_template_rows": null,
       "height": null,
       "justify_content": null,
       "justify_items": null,
       "left": null,
       "margin": null,
       "max_height": null,
       "max_width": null,
       "min_height": null,
       "min_width": null,
       "object_fit": null,
       "object_position": null,
       "order": null,
       "overflow": null,
       "overflow_x": null,
       "overflow_y": null,
       "padding": null,
       "right": null,
       "top": null,
       "visibility": null,
       "width": null
      }
     },
     "4be5d18c0b6d4bb38a3a7f4b3c2556bc": {
      "model_module": "@jupyter-widgets/base",
      "model_module_version": "1.2.0",
      "model_name": "LayoutModel",
      "state": {
       "_model_module": "@jupyter-widgets/base",
       "_model_module_version": "1.2.0",
       "_model_name": "LayoutModel",
       "_view_count": null,
       "_view_module": "@jupyter-widgets/base",
       "_view_module_version": "1.2.0",
       "_view_name": "LayoutView",
       "align_content": null,
       "align_items": null,
       "align_self": null,
       "border": null,
       "bottom": null,
       "display": null,
       "flex": null,
       "flex_flow": null,
       "grid_area": null,
       "grid_auto_columns": null,
       "grid_auto_flow": null,
       "grid_auto_rows": null,
       "grid_column": null,
       "grid_gap": null,
       "grid_row": null,
       "grid_template_areas": null,
       "grid_template_columns": null,
       "grid_template_rows": null,
       "height": null,
       "justify_content": null,
       "justify_items": null,
       "left": null,
       "margin": null,
       "max_height": null,
       "max_width": null,
       "min_height": null,
       "min_width": null,
       "object_fit": null,
       "object_position": null,
       "order": null,
       "overflow": null,
       "overflow_x": null,
       "overflow_y": null,
       "padding": null,
       "right": null,
       "top": null,
       "visibility": null,
       "width": null
      }
     },
     "4c1cdf807d954d3bb37e3603b68b1ef7": {
      "model_module": "@jupyter-widgets/controls",
      "model_module_version": "1.5.0",
      "model_name": "TextModel",
      "state": {
       "_dom_classes": [],
       "_model_module": "@jupyter-widgets/controls",
       "_model_module_version": "1.5.0",
       "_model_name": "TextModel",
       "_view_count": null,
       "_view_module": "@jupyter-widgets/controls",
       "_view_module_version": "1.5.0",
       "_view_name": "TextView",
       "continuous_update": true,
       "description": "Input: ",
       "description_tooltip": null,
       "disabled": false,
       "layout": "IPY_MODEL_b4f56f71adb24e44a7007f8258e70d91",
       "placeholder": "​",
       "style": "IPY_MODEL_526507667edd43a588c6e72e61fc0333",
       "value": ""
      }
     },
     "4e78071cf3a04ad984b76f4d82b58c9f": {
      "model_module": "@jupyter-widgets/controls",
      "model_module_version": "1.5.0",
      "model_name": "ButtonStyleModel",
      "state": {
       "_model_module": "@jupyter-widgets/controls",
       "_model_module_version": "1.5.0",
       "_model_name": "ButtonStyleModel",
       "_view_count": null,
       "_view_module": "@jupyter-widgets/base",
       "_view_module_version": "1.2.0",
       "_view_name": "StyleView",
       "button_color": null,
       "font_weight": ""
      }
     },
     "4f69627c879b4e4ca641789d477f457b": {
      "model_module": "@jupyter-widgets/controls",
      "model_module_version": "1.5.0",
      "model_name": "ButtonModel",
      "state": {
       "_dom_classes": [],
       "_model_module": "@jupyter-widgets/controls",
       "_model_module_version": "1.5.0",
       "_model_name": "ButtonModel",
       "_view_count": null,
       "_view_module": "@jupyter-widgets/controls",
       "_view_module_version": "1.5.0",
       "_view_name": "ButtonView",
       "button_style": "",
       "description": "Check Answer",
       "disabled": false,
       "icon": "",
       "layout": "IPY_MODEL_d6a23b9946794c8bbb624c98a34ea8ca",
       "style": "IPY_MODEL_909ae40777eb47d2a3c2d25fef3a9fb4",
       "tooltip": ""
      }
     },
     "500ce05e85bd44468d3819fbfb308dbc": {
      "model_module": "@jupyter-widgets/base",
      "model_module_version": "1.2.0",
      "model_name": "LayoutModel",
      "state": {
       "_model_module": "@jupyter-widgets/base",
       "_model_module_version": "1.2.0",
       "_model_name": "LayoutModel",
       "_view_count": null,
       "_view_module": "@jupyter-widgets/base",
       "_view_module_version": "1.2.0",
       "_view_name": "LayoutView",
       "align_content": null,
       "align_items": null,
       "align_self": null,
       "border": null,
       "bottom": null,
       "display": null,
       "flex": null,
       "flex_flow": null,
       "grid_area": null,
       "grid_auto_columns": null,
       "grid_auto_flow": null,
       "grid_auto_rows": null,
       "grid_column": null,
       "grid_gap": null,
       "grid_row": null,
       "grid_template_areas": null,
       "grid_template_columns": null,
       "grid_template_rows": null,
       "height": null,
       "justify_content": null,
       "justify_items": null,
       "left": null,
       "margin": null,
       "max_height": null,
       "max_width": null,
       "min_height": null,
       "min_width": null,
       "object_fit": null,
       "object_position": null,
       "order": null,
       "overflow": null,
       "overflow_x": null,
       "overflow_y": null,
       "padding": null,
       "right": null,
       "top": null,
       "visibility": null,
       "width": null
      }
     },
     "5086ec36d6c04d1bbd02330199731f1a": {
      "model_module": "@jupyter-widgets/controls",
      "model_module_version": "1.5.0",
      "model_name": "TextModel",
      "state": {
       "_dom_classes": [],
       "_model_module": "@jupyter-widgets/controls",
       "_model_module_version": "1.5.0",
       "_model_name": "TextModel",
       "_view_count": null,
       "_view_module": "@jupyter-widgets/controls",
       "_view_module_version": "1.5.0",
       "_view_name": "TextView",
       "continuous_update": true,
       "description": "Input: ",
       "description_tooltip": null,
       "disabled": false,
       "layout": "IPY_MODEL_9f435cc1080d48c3b3d110317ffe7da2",
       "placeholder": "​",
       "style": "IPY_MODEL_bb5a2d7ce17049a7b15b894577f44e9c",
       "value": ""
      }
     },
     "526507667edd43a588c6e72e61fc0333": {
      "model_module": "@jupyter-widgets/controls",
      "model_module_version": "1.5.0",
      "model_name": "DescriptionStyleModel",
      "state": {
       "_model_module": "@jupyter-widgets/controls",
       "_model_module_version": "1.5.0",
       "_model_name": "DescriptionStyleModel",
       "_view_count": null,
       "_view_module": "@jupyter-widgets/base",
       "_view_module_version": "1.2.0",
       "_view_name": "StyleView",
       "description_width": "initial"
      }
     },
     "54023951d3794cf582d30516bfa7643b": {
      "model_module": "@jupyter-widgets/base",
      "model_module_version": "1.2.0",
      "model_name": "LayoutModel",
      "state": {
       "_model_module": "@jupyter-widgets/base",
       "_model_module_version": "1.2.0",
       "_model_name": "LayoutModel",
       "_view_count": null,
       "_view_module": "@jupyter-widgets/base",
       "_view_module_version": "1.2.0",
       "_view_name": "LayoutView",
       "align_content": null,
       "align_items": null,
       "align_self": null,
       "border": null,
       "bottom": null,
       "display": null,
       "flex": null,
       "flex_flow": null,
       "grid_area": null,
       "grid_auto_columns": null,
       "grid_auto_flow": null,
       "grid_auto_rows": null,
       "grid_column": null,
       "grid_gap": null,
       "grid_row": null,
       "grid_template_areas": null,
       "grid_template_columns": null,
       "grid_template_rows": null,
       "height": null,
       "justify_content": null,
       "justify_items": null,
       "left": null,
       "margin": null,
       "max_height": null,
       "max_width": null,
       "min_height": null,
       "min_width": null,
       "object_fit": null,
       "object_position": null,
       "order": null,
       "overflow": null,
       "overflow_x": null,
       "overflow_y": null,
       "padding": null,
       "right": null,
       "top": null,
       "visibility": null,
       "width": null
      }
     },
     "58b2563b129b4ed189f6ba31f358227e": {
      "model_module": "@jupyter-widgets/controls",
      "model_module_version": "1.5.0",
      "model_name": "VBoxModel",
      "state": {
       "_dom_classes": [
        "widget-interact"
       ],
       "_model_module": "@jupyter-widgets/controls",
       "_model_module_version": "1.5.0",
       "_model_name": "VBoxModel",
       "_view_count": null,
       "_view_module": "@jupyter-widgets/controls",
       "_view_module_version": "1.5.0",
       "_view_name": "VBoxView",
       "box_style": "",
       "children": [
        "IPY_MODEL_71e7c881b7ba4fd4b0b11dcea4ded01e",
        "IPY_MODEL_8c7c866f0a9a404a9894515593c83a44",
        "IPY_MODEL_b80127b2e36043c2bf0fb85bbb8c6f7e",
        "IPY_MODEL_4787a195e19d46bb9a41eb544f30b304"
       ],
       "layout": "IPY_MODEL_1aae47917417403ca453c5d8705ccf8e"
      }
     },
     "59436ca6eecb41cd916a30233e9aacc2": {
      "model_module": "@jupyter-widgets/controls",
      "model_module_version": "1.5.0",
      "model_name": "DescriptionStyleModel",
      "state": {
       "_model_module": "@jupyter-widgets/controls",
       "_model_module_version": "1.5.0",
       "_model_name": "DescriptionStyleModel",
       "_view_count": null,
       "_view_module": "@jupyter-widgets/base",
       "_view_module_version": "1.2.0",
       "_view_name": "StyleView",
       "description_width": "initial"
      }
     },
     "5ce9a72aa0e64064b4342f463e3f832c": {
      "model_module": "@jupyter-widgets/base",
      "model_module_version": "1.2.0",
      "model_name": "LayoutModel",
      "state": {
       "_model_module": "@jupyter-widgets/base",
       "_model_module_version": "1.2.0",
       "_model_name": "LayoutModel",
       "_view_count": null,
       "_view_module": "@jupyter-widgets/base",
       "_view_module_version": "1.2.0",
       "_view_name": "LayoutView",
       "align_content": null,
       "align_items": null,
       "align_self": null,
       "border": null,
       "bottom": null,
       "display": null,
       "flex": null,
       "flex_flow": null,
       "grid_area": null,
       "grid_auto_columns": null,
       "grid_auto_flow": null,
       "grid_auto_rows": null,
       "grid_column": null,
       "grid_gap": null,
       "grid_row": null,
       "grid_template_areas": null,
       "grid_template_columns": null,
       "grid_template_rows": null,
       "height": null,
       "justify_content": null,
       "justify_items": null,
       "left": null,
       "margin": null,
       "max_height": null,
       "max_width": null,
       "min_height": null,
       "min_width": null,
       "object_fit": null,
       "object_position": null,
       "order": null,
       "overflow": null,
       "overflow_x": null,
       "overflow_y": null,
       "padding": null,
       "right": null,
       "top": null,
       "visibility": null,
       "width": null
      }
     },
     "5ced7db547dc40979d427fbc276cd3ce": {
      "model_module": "@jupyter-widgets/controls",
      "model_module_version": "1.5.0",
      "model_name": "IntSliderModel",
      "state": {
       "_dom_classes": [],
       "_model_module": "@jupyter-widgets/controls",
       "_model_module_version": "1.5.0",
       "_model_name": "IntSliderModel",
       "_view_count": null,
       "_view_module": "@jupyter-widgets/controls",
       "_view_module_version": "1.5.0",
       "_view_name": "IntSliderView",
       "continuous_update": false,
       "description": "b",
       "description_tooltip": null,
       "disabled": false,
       "layout": "IPY_MODEL_6a689d0e392d4a3083ca3069e7282e52",
       "max": 10,
       "min": -10,
       "orientation": "horizontal",
       "readout": true,
       "readout_format": "d",
       "step": 1,
       "style": "IPY_MODEL_cb32b38b9dbe400c8759b7a045920c1c",
       "value": 0
      }
     },
     "5dd62286d518460a807016cb76c32de5": {
      "model_module": "@jupyter-widgets/controls",
      "model_module_version": "1.5.0",
      "model_name": "VBoxModel",
      "state": {
       "_dom_classes": [
        "widget-interact"
       ],
       "_model_module": "@jupyter-widgets/controls",
       "_model_module_version": "1.5.0",
       "_model_name": "VBoxModel",
       "_view_count": null,
       "_view_module": "@jupyter-widgets/controls",
       "_view_module_version": "1.5.0",
       "_view_name": "VBoxView",
       "box_style": "",
       "children": [
        "IPY_MODEL_f0177cd0a1e44b1eba390009ebfc2c3f",
        "IPY_MODEL_5ced7db547dc40979d427fbc276cd3ce",
        "IPY_MODEL_9eccbe6680124e9aa640d2e49bd86680",
        "IPY_MODEL_fddbd2598fca40aaaaa2273a2fd7e957"
       ],
       "layout": "IPY_MODEL_0d865218924642e28ee42e3adb4ade2c"
      }
     },
     "686c348c6091401f980bc62b124149a6": {
      "model_module": "@jupyter-widgets/base",
      "model_module_version": "1.2.0",
      "model_name": "LayoutModel",
      "state": {
       "_model_module": "@jupyter-widgets/base",
       "_model_module_version": "1.2.0",
       "_model_name": "LayoutModel",
       "_view_count": null,
       "_view_module": "@jupyter-widgets/base",
       "_view_module_version": "1.2.0",
       "_view_name": "LayoutView",
       "align_content": null,
       "align_items": null,
       "align_self": null,
       "border": null,
       "bottom": null,
       "display": null,
       "flex": null,
       "flex_flow": null,
       "grid_area": null,
       "grid_auto_columns": null,
       "grid_auto_flow": null,
       "grid_auto_rows": null,
       "grid_column": null,
       "grid_gap": null,
       "grid_row": null,
       "grid_template_areas": null,
       "grid_template_columns": null,
       "grid_template_rows": null,
       "height": null,
       "justify_content": null,
       "justify_items": null,
       "left": null,
       "margin": null,
       "max_height": null,
       "max_width": null,
       "min_height": null,
       "min_width": null,
       "object_fit": null,
       "object_position": null,
       "order": null,
       "overflow": null,
       "overflow_x": null,
       "overflow_y": null,
       "padding": null,
       "right": null,
       "top": null,
       "visibility": null,
       "width": null
      }
     },
     "6a689d0e392d4a3083ca3069e7282e52": {
      "model_module": "@jupyter-widgets/base",
      "model_module_version": "1.2.0",
      "model_name": "LayoutModel",
      "state": {
       "_model_module": "@jupyter-widgets/base",
       "_model_module_version": "1.2.0",
       "_model_name": "LayoutModel",
       "_view_count": null,
       "_view_module": "@jupyter-widgets/base",
       "_view_module_version": "1.2.0",
       "_view_name": "LayoutView",
       "align_content": null,
       "align_items": null,
       "align_self": null,
       "border": null,
       "bottom": null,
       "display": null,
       "flex": null,
       "flex_flow": null,
       "grid_area": null,
       "grid_auto_columns": null,
       "grid_auto_flow": null,
       "grid_auto_rows": null,
       "grid_column": null,
       "grid_gap": null,
       "grid_row": null,
       "grid_template_areas": null,
       "grid_template_columns": null,
       "grid_template_rows": null,
       "height": null,
       "justify_content": null,
       "justify_items": null,
       "left": null,
       "margin": null,
       "max_height": null,
       "max_width": null,
       "min_height": null,
       "min_width": null,
       "object_fit": null,
       "object_position": null,
       "order": null,
       "overflow": null,
       "overflow_x": null,
       "overflow_y": null,
       "padding": null,
       "right": null,
       "top": null,
       "visibility": null,
       "width": null
      }
     },
     "6aec2271c63c4916a89b774725d6f274": {
      "model_module": "@jupyter-widgets/base",
      "model_module_version": "1.2.0",
      "model_name": "LayoutModel",
      "state": {
       "_model_module": "@jupyter-widgets/base",
       "_model_module_version": "1.2.0",
       "_model_name": "LayoutModel",
       "_view_count": null,
       "_view_module": "@jupyter-widgets/base",
       "_view_module_version": "1.2.0",
       "_view_name": "LayoutView",
       "align_content": null,
       "align_items": null,
       "align_self": null,
       "border": null,
       "bottom": null,
       "display": null,
       "flex": null,
       "flex_flow": null,
       "grid_area": null,
       "grid_auto_columns": null,
       "grid_auto_flow": null,
       "grid_auto_rows": null,
       "grid_column": null,
       "grid_gap": null,
       "grid_row": null,
       "grid_template_areas": null,
       "grid_template_columns": null,
       "grid_template_rows": null,
       "height": null,
       "justify_content": null,
       "justify_items": null,
       "left": null,
       "margin": null,
       "max_height": null,
       "max_width": null,
       "min_height": null,
       "min_width": null,
       "object_fit": null,
       "object_position": null,
       "order": null,
       "overflow": null,
       "overflow_x": null,
       "overflow_y": null,
       "padding": null,
       "right": null,
       "top": null,
       "visibility": null,
       "width": null
      }
     },
     "6f972246c2b44601a91fb580e4c46e9e": {
      "model_module": "@jupyter-widgets/base",
      "model_module_version": "1.2.0",
      "model_name": "LayoutModel",
      "state": {
       "_model_module": "@jupyter-widgets/base",
       "_model_module_version": "1.2.0",
       "_model_name": "LayoutModel",
       "_view_count": null,
       "_view_module": "@jupyter-widgets/base",
       "_view_module_version": "1.2.0",
       "_view_name": "LayoutView",
       "align_content": null,
       "align_items": null,
       "align_self": null,
       "border": null,
       "bottom": null,
       "display": null,
       "flex": null,
       "flex_flow": null,
       "grid_area": null,
       "grid_auto_columns": null,
       "grid_auto_flow": null,
       "grid_auto_rows": null,
       "grid_column": null,
       "grid_gap": null,
       "grid_row": null,
       "grid_template_areas": null,
       "grid_template_columns": null,
       "grid_template_rows": null,
       "height": null,
       "justify_content": null,
       "justify_items": null,
       "left": null,
       "margin": null,
       "max_height": null,
       "max_width": null,
       "min_height": null,
       "min_width": null,
       "object_fit": null,
       "object_position": null,
       "order": null,
       "overflow": null,
       "overflow_x": null,
       "overflow_y": null,
       "padding": null,
       "right": null,
       "top": null,
       "visibility": null,
       "width": null
      }
     },
     "7163c492244f4bf0843ce8892838e734": {
      "model_module": "@jupyter-widgets/controls",
      "model_module_version": "1.5.0",
      "model_name": "IntTextModel",
      "state": {
       "_dom_classes": [],
       "_model_module": "@jupyter-widgets/controls",
       "_model_module_version": "1.5.0",
       "_model_name": "IntTextModel",
       "_view_count": null,
       "_view_module": "@jupyter-widgets/controls",
       "_view_module_version": "1.5.0",
       "_view_name": "IntTextView",
       "continuous_update": false,
       "description": "Input: ",
       "description_tooltip": null,
       "disabled": false,
       "layout": "IPY_MODEL_a54c70c64c8a40d0bf4f5d32de532ecd",
       "step": 1,
       "style": "IPY_MODEL_122ca19e2a2c4665b09b167d5637c3eb",
       "value": 0
      }
     },
     "7187d9cdc84042dabbac54f128f02a30": {
      "model_module": "@jupyter-widgets/controls",
      "model_module_version": "1.5.0",
      "model_name": "ButtonStyleModel",
      "state": {
       "_model_module": "@jupyter-widgets/controls",
       "_model_module_version": "1.5.0",
       "_model_name": "ButtonStyleModel",
       "_view_count": null,
       "_view_module": "@jupyter-widgets/base",
       "_view_module_version": "1.2.0",
       "_view_name": "StyleView",
       "button_color": null,
       "font_weight": ""
      }
     },
     "71e7c881b7ba4fd4b0b11dcea4ded01e": {
      "model_module": "@jupyter-widgets/controls",
      "model_module_version": "1.5.0",
      "model_name": "IntSliderModel",
      "state": {
       "_dom_classes": [],
       "_model_module": "@jupyter-widgets/controls",
       "_model_module_version": "1.5.0",
       "_model_name": "IntSliderModel",
       "_view_count": null,
       "_view_module": "@jupyter-widgets/controls",
       "_view_module_version": "1.5.0",
       "_view_name": "IntSliderView",
       "continuous_update": false,
       "description": "a",
       "description_tooltip": null,
       "disabled": false,
       "layout": "IPY_MODEL_063cbce1f1a7415b8ee5c141d7bfe391",
       "max": 10,
       "min": -10,
       "orientation": "horizontal",
       "readout": true,
       "readout_format": "d",
       "step": 1,
       "style": "IPY_MODEL_dca7f8317de64dfca7f76f08e3e2fa6d",
       "value": 0
      }
     },
     "726aa8d26a584fa4ab9cd2dc3b5de05c": {
      "model_module": "@jupyter-widgets/controls",
      "model_module_version": "1.5.0",
      "model_name": "VBoxModel",
      "state": {
       "_dom_classes": [
        "widget-interact"
       ],
       "_model_module": "@jupyter-widgets/controls",
       "_model_module_version": "1.5.0",
       "_model_name": "VBoxModel",
       "_view_count": null,
       "_view_module": "@jupyter-widgets/controls",
       "_view_module_version": "1.5.0",
       "_view_name": "VBoxView",
       "box_style": "",
       "children": [
        "IPY_MODEL_c158d1f82bcb4caca09c3fe22a25f083",
        "IPY_MODEL_cda52a14d0b54b20bd12fcb275fcd8af",
        "IPY_MODEL_11e9bbcd347b41ee9dc3542297ccdac6",
        "IPY_MODEL_2efc6b088de84d03920ab32a7641fc0c"
       ],
       "layout": "IPY_MODEL_ffab13bfcf3846a28ff23e513f91612e"
      }
     },
     "72ca086119624e9c8550498aa908f28d": {
      "model_module": "@jupyter-widgets/base",
      "model_module_version": "1.2.0",
      "model_name": "LayoutModel",
      "state": {
       "_model_module": "@jupyter-widgets/base",
       "_model_module_version": "1.2.0",
       "_model_name": "LayoutModel",
       "_view_count": null,
       "_view_module": "@jupyter-widgets/base",
       "_view_module_version": "1.2.0",
       "_view_name": "LayoutView",
       "align_content": null,
       "align_items": null,
       "align_self": null,
       "border": null,
       "bottom": null,
       "display": null,
       "flex": null,
       "flex_flow": null,
       "grid_area": null,
       "grid_auto_columns": null,
       "grid_auto_flow": null,
       "grid_auto_rows": null,
       "grid_column": null,
       "grid_gap": null,
       "grid_row": null,
       "grid_template_areas": null,
       "grid_template_columns": null,
       "grid_template_rows": null,
       "height": null,
       "justify_content": null,
       "justify_items": null,
       "left": null,
       "margin": null,
       "max_height": null,
       "max_width": null,
       "min_height": null,
       "min_width": null,
       "object_fit": null,
       "object_position": null,
       "order": null,
       "overflow": null,
       "overflow_x": null,
       "overflow_y": null,
       "padding": null,
       "right": null,
       "top": null,
       "visibility": null,
       "width": null
      }
     },
     "78f649a39dcc4155a7d5c083053544d5": {
      "model_module": "@jupyter-widgets/base",
      "model_module_version": "1.2.0",
      "model_name": "LayoutModel",
      "state": {
       "_model_module": "@jupyter-widgets/base",
       "_model_module_version": "1.2.0",
       "_model_name": "LayoutModel",
       "_view_count": null,
       "_view_module": "@jupyter-widgets/base",
       "_view_module_version": "1.2.0",
       "_view_name": "LayoutView",
       "align_content": null,
       "align_items": null,
       "align_self": null,
       "border": null,
       "bottom": null,
       "display": null,
       "flex": null,
       "flex_flow": null,
       "grid_area": null,
       "grid_auto_columns": null,
       "grid_auto_flow": null,
       "grid_auto_rows": null,
       "grid_column": null,
       "grid_gap": null,
       "grid_row": null,
       "grid_template_areas": null,
       "grid_template_columns": null,
       "grid_template_rows": null,
       "height": null,
       "justify_content": null,
       "justify_items": null,
       "left": null,
       "margin": null,
       "max_height": null,
       "max_width": null,
       "min_height": null,
       "min_width": null,
       "object_fit": null,
       "object_position": null,
       "order": null,
       "overflow": null,
       "overflow_x": null,
       "overflow_y": null,
       "padding": null,
       "right": null,
       "top": null,
       "visibility": null,
       "width": null
      }
     },
     "7a528edeaca74e01aed66e534593886e": {
      "model_module": "@jupyter-widgets/controls",
      "model_module_version": "1.5.0",
      "model_name": "IntSliderModel",
      "state": {
       "_dom_classes": [],
       "_model_module": "@jupyter-widgets/controls",
       "_model_module_version": "1.5.0",
       "_model_name": "IntSliderModel",
       "_view_count": null,
       "_view_module": "@jupyter-widgets/controls",
       "_view_module_version": "1.5.0",
       "_view_name": "IntSliderView",
       "continuous_update": false,
       "description": "a",
       "description_tooltip": null,
       "disabled": false,
       "layout": "IPY_MODEL_2ee15fd55ba4426e82f685f20fe539f9",
       "max": 10,
       "min": -10,
       "orientation": "horizontal",
       "readout": true,
       "readout_format": "d",
       "step": 1,
       "style": "IPY_MODEL_a0402d2b44d0453e821ee8b56c00bece",
       "value": 0
      }
     },
     "7c4da13fa8f84370a8de1b4606df1775": {
      "model_module": "@jupyter-widgets/output",
      "model_module_version": "1.0.0",
      "model_name": "OutputModel",
      "state": {
       "_dom_classes": [],
       "_model_module": "@jupyter-widgets/output",
       "_model_module_version": "1.0.0",
       "_model_name": "OutputModel",
       "_view_count": null,
       "_view_module": "@jupyter-widgets/output",
       "_view_module_version": "1.0.0",
       "_view_name": "OutputView",
       "layout": "IPY_MODEL_4b30dfbfd28242f3adbd7b7db427b6e0",
       "msg_id": "",
       "outputs": [
        {
         "data": {
          "image/png": "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\n",
          "text/plain": "<Figure size 720x504 with 1 Axes>"
         },
         "metadata": {
          "needs_background": "light"
         },
         "output_type": "display_data"
        }
       ]
      }
     },
     "7c77ec1d595f4c2b9747dc6c88c8c822": {
      "model_module": "@jupyter-widgets/base",
      "model_module_version": "1.2.0",
      "model_name": "LayoutModel",
      "state": {
       "_model_module": "@jupyter-widgets/base",
       "_model_module_version": "1.2.0",
       "_model_name": "LayoutModel",
       "_view_count": null,
       "_view_module": "@jupyter-widgets/base",
       "_view_module_version": "1.2.0",
       "_view_name": "LayoutView",
       "align_content": null,
       "align_items": null,
       "align_self": null,
       "border": null,
       "bottom": null,
       "display": null,
       "flex": null,
       "flex_flow": null,
       "grid_area": null,
       "grid_auto_columns": null,
       "grid_auto_flow": null,
       "grid_auto_rows": null,
       "grid_column": null,
       "grid_gap": null,
       "grid_row": null,
       "grid_template_areas": null,
       "grid_template_columns": null,
       "grid_template_rows": null,
       "height": null,
       "justify_content": null,
       "justify_items": null,
       "left": null,
       "margin": null,
       "max_height": null,
       "max_width": null,
       "min_height": null,
       "min_width": null,
       "object_fit": null,
       "object_position": null,
       "order": null,
       "overflow": null,
       "overflow_x": null,
       "overflow_y": null,
       "padding": null,
       "right": null,
       "top": null,
       "visibility": null,
       "width": null
      }
     },
     "7d37ecba7bbd45c9a6ff0a641c8c9a5f": {
      "model_module": "@jupyter-widgets/controls",
      "model_module_version": "1.5.0",
      "model_name": "ButtonModel",
      "state": {
       "_dom_classes": [],
       "_model_module": "@jupyter-widgets/controls",
       "_model_module_version": "1.5.0",
       "_model_name": "ButtonModel",
       "_view_count": null,
       "_view_module": "@jupyter-widgets/controls",
       "_view_module_version": "1.5.0",
       "_view_name": "ButtonView",
       "button_style": "",
       "description": "Check Answer",
       "disabled": false,
       "icon": "",
       "layout": "IPY_MODEL_37a769c541e14554ac1517fdd198f0ba",
       "style": "IPY_MODEL_2c7c87010a774c098086623cc07a3a4f",
       "tooltip": ""
      }
     },
     "7fa4323cf091445da98085ea6daf2b8f": {
      "model_module": "@jupyter-widgets/controls",
      "model_module_version": "1.5.0",
      "model_name": "IntSliderModel",
      "state": {
       "_dom_classes": [],
       "_model_module": "@jupyter-widgets/controls",
       "_model_module_version": "1.5.0",
       "_model_name": "IntSliderModel",
       "_view_count": null,
       "_view_module": "@jupyter-widgets/controls",
       "_view_module_version": "1.5.0",
       "_view_name": "IntSliderView",
       "continuous_update": false,
       "description": "b",
       "description_tooltip": null,
       "disabled": false,
       "layout": "IPY_MODEL_4be5d18c0b6d4bb38a3a7f4b3c2556bc",
       "max": 10,
       "min": -10,
       "orientation": "horizontal",
       "readout": true,
       "readout_format": "d",
       "step": 1,
       "style": "IPY_MODEL_ac4a6615e8354e29b59506c7bc5f79e1",
       "value": 0
      }
     },
     "817a282eb593423bb74610c57c671d04": {
      "model_module": "@jupyter-widgets/controls",
      "model_module_version": "1.5.0",
      "model_name": "SliderStyleModel",
      "state": {
       "_model_module": "@jupyter-widgets/controls",
       "_model_module_version": "1.5.0",
       "_model_name": "SliderStyleModel",
       "_view_count": null,
       "_view_module": "@jupyter-widgets/base",
       "_view_module_version": "1.2.0",
       "_view_name": "StyleView",
       "description_width": "",
       "handle_color": null
      }
     },
     "827dd52ddba7499a96c25f3bec5b5f3d": {
      "model_module": "@jupyter-widgets/controls",
      "model_module_version": "1.5.0",
      "model_name": "ButtonModel",
      "state": {
       "_dom_classes": [],
       "_model_module": "@jupyter-widgets/controls",
       "_model_module_version": "1.5.0",
       "_model_name": "ButtonModel",
       "_view_count": null,
       "_view_module": "@jupyter-widgets/controls",
       "_view_module_version": "1.5.0",
       "_view_name": "ButtonView",
       "button_style": "",
       "description": "Show Answer",
       "disabled": false,
       "icon": "",
       "layout": "IPY_MODEL_6f972246c2b44601a91fb580e4c46e9e",
       "style": "IPY_MODEL_7187d9cdc84042dabbac54f128f02a30",
       "tooltip": ""
      }
     },
     "87c0132761c54efab2cf6b774d6577bf": {
      "model_module": "@jupyter-widgets/controls",
      "model_module_version": "1.5.0",
      "model_name": "ButtonStyleModel",
      "state": {
       "_model_module": "@jupyter-widgets/controls",
       "_model_module_version": "1.5.0",
       "_model_name": "ButtonStyleModel",
       "_view_count": null,
       "_view_module": "@jupyter-widgets/base",
       "_view_module_version": "1.2.0",
       "_view_name": "StyleView",
       "button_color": null,
       "font_weight": ""
      }
     },
     "89050fbe8f464e1eb10101b9f60706d9": {
      "model_module": "@jupyter-widgets/controls",
      "model_module_version": "1.5.0",
      "model_name": "TextModel",
      "state": {
       "_dom_classes": [],
       "_model_module": "@jupyter-widgets/controls",
       "_model_module_version": "1.5.0",
       "_model_name": "TextModel",
       "_view_count": null,
       "_view_module": "@jupyter-widgets/controls",
       "_view_module_version": "1.5.0",
       "_view_name": "TextView",
       "continuous_update": true,
       "description": "Input: ",
       "description_tooltip": null,
       "disabled": false,
       "layout": "IPY_MODEL_ee7bd0472d95475b935e7f610145f37e",
       "placeholder": "​",
       "style": "IPY_MODEL_289c53b16f79498b914e7d91fd51acb6",
       "value": ""
      }
     },
     "8c7c866f0a9a404a9894515593c83a44": {
      "model_module": "@jupyter-widgets/controls",
      "model_module_version": "1.5.0",
      "model_name": "IntSliderModel",
      "state": {
       "_dom_classes": [],
       "_model_module": "@jupyter-widgets/controls",
       "_model_module_version": "1.5.0",
       "_model_name": "IntSliderModel",
       "_view_count": null,
       "_view_module": "@jupyter-widgets/controls",
       "_view_module_version": "1.5.0",
       "_view_name": "IntSliderView",
       "continuous_update": false,
       "description": "b",
       "description_tooltip": null,
       "disabled": false,
       "layout": "IPY_MODEL_c8e45576854340b8a3664697fcacca54",
       "max": 10,
       "min": -10,
       "orientation": "horizontal",
       "readout": true,
       "readout_format": "d",
       "step": 1,
       "style": "IPY_MODEL_a076e42b77ea4bdd9cd077ca25caed1e",
       "value": 0
      }
     },
     "909ae40777eb47d2a3c2d25fef3a9fb4": {
      "model_module": "@jupyter-widgets/controls",
      "model_module_version": "1.5.0",
      "model_name": "ButtonStyleModel",
      "state": {
       "_model_module": "@jupyter-widgets/controls",
       "_model_module_version": "1.5.0",
       "_model_name": "ButtonStyleModel",
       "_view_count": null,
       "_view_module": "@jupyter-widgets/base",
       "_view_module_version": "1.2.0",
       "_view_name": "StyleView",
       "button_color": null,
       "font_weight": ""
      }
     },
     "9eccbe6680124e9aa640d2e49bd86680": {
      "model_module": "@jupyter-widgets/controls",
      "model_module_version": "1.5.0",
      "model_name": "IntSliderModel",
      "state": {
       "_dom_classes": [],
       "_model_module": "@jupyter-widgets/controls",
       "_model_module_version": "1.5.0",
       "_model_name": "IntSliderModel",
       "_view_count": null,
       "_view_module": "@jupyter-widgets/controls",
       "_view_module_version": "1.5.0",
       "_view_name": "IntSliderView",
       "continuous_update": false,
       "description": "n",
       "description_tooltip": null,
       "disabled": false,
       "layout": "IPY_MODEL_cb20d20904ce4808bf9c7abf20704cc7",
       "max": 5,
       "min": 2,
       "orientation": "horizontal",
       "readout": true,
       "readout_format": "d",
       "step": 1,
       "style": "IPY_MODEL_9eedafbdcbd6416282d0a4839aca9c86",
       "value": 2
      }
     },
     "9eedafbdcbd6416282d0a4839aca9c86": {
      "model_module": "@jupyter-widgets/controls",
      "model_module_version": "1.5.0",
      "model_name": "SliderStyleModel",
      "state": {
       "_model_module": "@jupyter-widgets/controls",
       "_model_module_version": "1.5.0",
       "_model_name": "SliderStyleModel",
       "_view_count": null,
       "_view_module": "@jupyter-widgets/base",
       "_view_module_version": "1.2.0",
       "_view_name": "StyleView",
       "description_width": "",
       "handle_color": null
      }
     },
     "9f435cc1080d48c3b3d110317ffe7da2": {
      "model_module": "@jupyter-widgets/base",
      "model_module_version": "1.2.0",
      "model_name": "LayoutModel",
      "state": {
       "_model_module": "@jupyter-widgets/base",
       "_model_module_version": "1.2.0",
       "_model_name": "LayoutModel",
       "_view_count": null,
       "_view_module": "@jupyter-widgets/base",
       "_view_module_version": "1.2.0",
       "_view_name": "LayoutView",
       "align_content": null,
       "align_items": null,
       "align_self": null,
       "border": null,
       "bottom": null,
       "display": null,
       "flex": null,
       "flex_flow": null,
       "grid_area": null,
       "grid_auto_columns": null,
       "grid_auto_flow": null,
       "grid_auto_rows": null,
       "grid_column": null,
       "grid_gap": null,
       "grid_row": null,
       "grid_template_areas": null,
       "grid_template_columns": null,
       "grid_template_rows": null,
       "height": null,
       "justify_content": null,
       "justify_items": null,
       "left": null,
       "margin": null,
       "max_height": null,
       "max_width": null,
       "min_height": null,
       "min_width": null,
       "object_fit": null,
       "object_position": null,
       "order": null,
       "overflow": null,
       "overflow_x": null,
       "overflow_y": null,
       "padding": null,
       "right": null,
       "top": null,
       "visibility": null,
       "width": null
      }
     },
     "a0402d2b44d0453e821ee8b56c00bece": {
      "model_module": "@jupyter-widgets/controls",
      "model_module_version": "1.5.0",
      "model_name": "SliderStyleModel",
      "state": {
       "_model_module": "@jupyter-widgets/controls",
       "_model_module_version": "1.5.0",
       "_model_name": "SliderStyleModel",
       "_view_count": null,
       "_view_module": "@jupyter-widgets/base",
       "_view_module_version": "1.2.0",
       "_view_name": "StyleView",
       "description_width": "",
       "handle_color": null
      }
     },
     "a076e42b77ea4bdd9cd077ca25caed1e": {
      "model_module": "@jupyter-widgets/controls",
      "model_module_version": "1.5.0",
      "model_name": "SliderStyleModel",
      "state": {
       "_model_module": "@jupyter-widgets/controls",
       "_model_module_version": "1.5.0",
       "_model_name": "SliderStyleModel",
       "_view_count": null,
       "_view_module": "@jupyter-widgets/base",
       "_view_module_version": "1.2.0",
       "_view_name": "StyleView",
       "description_width": "",
       "handle_color": null
      }
     },
     "a54c70c64c8a40d0bf4f5d32de532ecd": {
      "model_module": "@jupyter-widgets/base",
      "model_module_version": "1.2.0",
      "model_name": "LayoutModel",
      "state": {
       "_model_module": "@jupyter-widgets/base",
       "_model_module_version": "1.2.0",
       "_model_name": "LayoutModel",
       "_view_count": null,
       "_view_module": "@jupyter-widgets/base",
       "_view_module_version": "1.2.0",
       "_view_name": "LayoutView",
       "align_content": null,
       "align_items": null,
       "align_self": null,
       "border": null,
       "bottom": null,
       "display": null,
       "flex": null,
       "flex_flow": null,
       "grid_area": null,
       "grid_auto_columns": null,
       "grid_auto_flow": null,
       "grid_auto_rows": null,
       "grid_column": null,
       "grid_gap": null,
       "grid_row": null,
       "grid_template_areas": null,
       "grid_template_columns": null,
       "grid_template_rows": null,
       "height": null,
       "justify_content": null,
       "justify_items": null,
       "left": null,
       "margin": null,
       "max_height": null,
       "max_width": null,
       "min_height": null,
       "min_width": null,
       "object_fit": null,
       "object_position": null,
       "order": null,
       "overflow": null,
       "overflow_x": null,
       "overflow_y": null,
       "padding": null,
       "right": null,
       "top": null,
       "visibility": null,
       "width": null
      }
     },
     "ac4a6615e8354e29b59506c7bc5f79e1": {
      "model_module": "@jupyter-widgets/controls",
      "model_module_version": "1.5.0",
      "model_name": "SliderStyleModel",
      "state": {
       "_model_module": "@jupyter-widgets/controls",
       "_model_module_version": "1.5.0",
       "_model_name": "SliderStyleModel",
       "_view_count": null,
       "_view_module": "@jupyter-widgets/base",
       "_view_module_version": "1.2.0",
       "_view_name": "StyleView",
       "description_width": "",
       "handle_color": null
      }
     },
     "b4f56f71adb24e44a7007f8258e70d91": {
      "model_module": "@jupyter-widgets/base",
      "model_module_version": "1.2.0",
      "model_name": "LayoutModel",
      "state": {
       "_model_module": "@jupyter-widgets/base",
       "_model_module_version": "1.2.0",
       "_model_name": "LayoutModel",
       "_view_count": null,
       "_view_module": "@jupyter-widgets/base",
       "_view_module_version": "1.2.0",
       "_view_name": "LayoutView",
       "align_content": null,
       "align_items": null,
       "align_self": null,
       "border": null,
       "bottom": null,
       "display": null,
       "flex": null,
       "flex_flow": null,
       "grid_area": null,
       "grid_auto_columns": null,
       "grid_auto_flow": null,
       "grid_auto_rows": null,
       "grid_column": null,
       "grid_gap": null,
       "grid_row": null,
       "grid_template_areas": null,
       "grid_template_columns": null,
       "grid_template_rows": null,
       "height": null,
       "justify_content": null,
       "justify_items": null,
       "left": null,
       "margin": null,
       "max_height": null,
       "max_width": null,
       "min_height": null,
       "min_width": null,
       "object_fit": null,
       "object_position": null,
       "order": null,
       "overflow": null,
       "overflow_x": null,
       "overflow_y": null,
       "padding": null,
       "right": null,
       "top": null,
       "visibility": null,
       "width": null
      }
     },
     "b5bdc3b2bd4c41d08bd8bc02de88925a": {
      "model_module": "@jupyter-widgets/base",
      "model_module_version": "1.2.0",
      "model_name": "LayoutModel",
      "state": {
       "_model_module": "@jupyter-widgets/base",
       "_model_module_version": "1.2.0",
       "_model_name": "LayoutModel",
       "_view_count": null,
       "_view_module": "@jupyter-widgets/base",
       "_view_module_version": "1.2.0",
       "_view_name": "LayoutView",
       "align_content": null,
       "align_items": null,
       "align_self": null,
       "border": null,
       "bottom": null,
       "display": null,
       "flex": null,
       "flex_flow": null,
       "grid_area": null,
       "grid_auto_columns": null,
       "grid_auto_flow": null,
       "grid_auto_rows": null,
       "grid_column": null,
       "grid_gap": null,
       "grid_row": null,
       "grid_template_areas": null,
       "grid_template_columns": null,
       "grid_template_rows": null,
       "height": null,
       "justify_content": null,
       "justify_items": null,
       "left": null,
       "margin": null,
       "max_height": null,
       "max_width": null,
       "min_height": null,
       "min_width": null,
       "object_fit": null,
       "object_position": null,
       "order": null,
       "overflow": null,
       "overflow_x": null,
       "overflow_y": null,
       "padding": null,
       "right": null,
       "top": null,
       "visibility": null,
       "width": null
      }
     },
     "b7cee3aa50de4ad9832c9575d9330417": {
      "model_module": "@jupyter-widgets/controls",
      "model_module_version": "1.5.0",
      "model_name": "SliderStyleModel",
      "state": {
       "_model_module": "@jupyter-widgets/controls",
       "_model_module_version": "1.5.0",
       "_model_name": "SliderStyleModel",
       "_view_count": null,
       "_view_module": "@jupyter-widgets/base",
       "_view_module_version": "1.2.0",
       "_view_name": "StyleView",
       "description_width": "",
       "handle_color": null
      }
     },
     "b80127b2e36043c2bf0fb85bbb8c6f7e": {
      "model_module": "@jupyter-widgets/controls",
      "model_module_version": "1.5.0",
      "model_name": "IntSliderModel",
      "state": {
       "_dom_classes": [],
       "_model_module": "@jupyter-widgets/controls",
       "_model_module_version": "1.5.0",
       "_model_name": "IntSliderModel",
       "_view_count": null,
       "_view_module": "@jupyter-widgets/controls",
       "_view_module_version": "1.5.0",
       "_view_name": "IntSliderView",
       "continuous_update": false,
       "description": "n",
       "description_tooltip": null,
       "disabled": false,
       "layout": "IPY_MODEL_7c77ec1d595f4c2b9747dc6c88c8c822",
       "max": 5,
       "min": 2,
       "orientation": "horizontal",
       "readout": true,
       "readout_format": "d",
       "step": 1,
       "style": "IPY_MODEL_c061452c4cc14261ae9e81a7abb01d24",
       "value": 2
      }
     },
     "ba3cbb369f8d4ecd87e4abf91e7228d4": {
      "model_module": "@jupyter-widgets/base",
      "model_module_version": "1.2.0",
      "model_name": "LayoutModel",
      "state": {
       "_model_module": "@jupyter-widgets/base",
       "_model_module_version": "1.2.0",
       "_model_name": "LayoutModel",
       "_view_count": null,
       "_view_module": "@jupyter-widgets/base",
       "_view_module_version": "1.2.0",
       "_view_name": "LayoutView",
       "align_content": null,
       "align_items": null,
       "align_self": null,
       "border": null,
       "bottom": null,
       "display": null,
       "flex": null,
       "flex_flow": null,
       "grid_area": null,
       "grid_auto_columns": null,
       "grid_auto_flow": null,
       "grid_auto_rows": null,
       "grid_column": null,
       "grid_gap": null,
       "grid_row": null,
       "grid_template_areas": null,
       "grid_template_columns": null,
       "grid_template_rows": null,
       "height": null,
       "justify_content": null,
       "justify_items": null,
       "left": null,
       "margin": null,
       "max_height": null,
       "max_width": null,
       "min_height": null,
       "min_width": null,
       "object_fit": null,
       "object_position": null,
       "order": null,
       "overflow": null,
       "overflow_x": null,
       "overflow_y": null,
       "padding": null,
       "right": null,
       "top": null,
       "visibility": null,
       "width": null
      }
     },
     "bb5a2d7ce17049a7b15b894577f44e9c": {
      "model_module": "@jupyter-widgets/controls",
      "model_module_version": "1.5.0",
      "model_name": "DescriptionStyleModel",
      "state": {
       "_model_module": "@jupyter-widgets/controls",
       "_model_module_version": "1.5.0",
       "_model_name": "DescriptionStyleModel",
       "_view_count": null,
       "_view_module": "@jupyter-widgets/base",
       "_view_module_version": "1.2.0",
       "_view_name": "StyleView",
       "description_width": "initial"
      }
     },
     "c061452c4cc14261ae9e81a7abb01d24": {
      "model_module": "@jupyter-widgets/controls",
      "model_module_version": "1.5.0",
      "model_name": "SliderStyleModel",
      "state": {
       "_model_module": "@jupyter-widgets/controls",
       "_model_module_version": "1.5.0",
       "_model_name": "SliderStyleModel",
       "_view_count": null,
       "_view_module": "@jupyter-widgets/base",
       "_view_module_version": "1.2.0",
       "_view_name": "StyleView",
       "description_width": "",
       "handle_color": null
      }
     },
     "c158d1f82bcb4caca09c3fe22a25f083": {
      "model_module": "@jupyter-widgets/controls",
      "model_module_version": "1.5.0",
      "model_name": "IntSliderModel",
      "state": {
       "_dom_classes": [],
       "_model_module": "@jupyter-widgets/controls",
       "_model_module_version": "1.5.0",
       "_model_name": "IntSliderModel",
       "_view_count": null,
       "_view_module": "@jupyter-widgets/controls",
       "_view_module_version": "1.5.0",
       "_view_name": "IntSliderView",
       "continuous_update": false,
       "description": "a",
       "description_tooltip": null,
       "disabled": false,
       "layout": "IPY_MODEL_1100482d590d4ff88aed0c613f2774c2",
       "max": 10,
       "min": -10,
       "orientation": "horizontal",
       "readout": true,
       "readout_format": "d",
       "step": 1,
       "style": "IPY_MODEL_817a282eb593423bb74610c57c671d04",
       "value": 0
      }
     },
     "c33a0597a2f4454fa8786037625e0539": {
      "model_module": "@jupyter-widgets/controls",
      "model_module_version": "1.5.0",
      "model_name": "SliderStyleModel",
      "state": {
       "_model_module": "@jupyter-widgets/controls",
       "_model_module_version": "1.5.0",
       "_model_name": "SliderStyleModel",
       "_view_count": null,
       "_view_module": "@jupyter-widgets/base",
       "_view_module_version": "1.2.0",
       "_view_name": "StyleView",
       "description_width": "",
       "handle_color": null
      }
     },
     "c49354cfb04441fca13f03bb3d2e1218": {
      "model_module": "@jupyter-widgets/base",
      "model_module_version": "1.2.0",
      "model_name": "LayoutModel",
      "state": {
       "_model_module": "@jupyter-widgets/base",
       "_model_module_version": "1.2.0",
       "_model_name": "LayoutModel",
       "_view_count": null,
       "_view_module": "@jupyter-widgets/base",
       "_view_module_version": "1.2.0",
       "_view_name": "LayoutView",
       "align_content": null,
       "align_items": null,
       "align_self": null,
       "border": null,
       "bottom": null,
       "display": null,
       "flex": null,
       "flex_flow": null,
       "grid_area": null,
       "grid_auto_columns": null,
       "grid_auto_flow": null,
       "grid_auto_rows": null,
       "grid_column": null,
       "grid_gap": null,
       "grid_row": null,
       "grid_template_areas": null,
       "grid_template_columns": null,
       "grid_template_rows": null,
       "height": null,
       "justify_content": null,
       "justify_items": null,
       "left": null,
       "margin": null,
       "max_height": null,
       "max_width": null,
       "min_height": null,
       "min_width": null,
       "object_fit": null,
       "object_position": null,
       "order": null,
       "overflow": null,
       "overflow_x": null,
       "overflow_y": null,
       "padding": null,
       "right": null,
       "top": null,
       "visibility": null,
       "width": null
      }
     },
     "c8e45576854340b8a3664697fcacca54": {
      "model_module": "@jupyter-widgets/base",
      "model_module_version": "1.2.0",
      "model_name": "LayoutModel",
      "state": {
       "_model_module": "@jupyter-widgets/base",
       "_model_module_version": "1.2.0",
       "_model_name": "LayoutModel",
       "_view_count": null,
       "_view_module": "@jupyter-widgets/base",
       "_view_module_version": "1.2.0",
       "_view_name": "LayoutView",
       "align_content": null,
       "align_items": null,
       "align_self": null,
       "border": null,
       "bottom": null,
       "display": null,
       "flex": null,
       "flex_flow": null,
       "grid_area": null,
       "grid_auto_columns": null,
       "grid_auto_flow": null,
       "grid_auto_rows": null,
       "grid_column": null,
       "grid_gap": null,
       "grid_row": null,
       "grid_template_areas": null,
       "grid_template_columns": null,
       "grid_template_rows": null,
       "height": null,
       "justify_content": null,
       "justify_items": null,
       "left": null,
       "margin": null,
       "max_height": null,
       "max_width": null,
       "min_height": null,
       "min_width": null,
       "object_fit": null,
       "object_position": null,
       "order": null,
       "overflow": null,
       "overflow_x": null,
       "overflow_y": null,
       "padding": null,
       "right": null,
       "top": null,
       "visibility": null,
       "width": null
      }
     },
     "cb20d20904ce4808bf9c7abf20704cc7": {
      "model_module": "@jupyter-widgets/base",
      "model_module_version": "1.2.0",
      "model_name": "LayoutModel",
      "state": {
       "_model_module": "@jupyter-widgets/base",
       "_model_module_version": "1.2.0",
       "_model_name": "LayoutModel",
       "_view_count": null,
       "_view_module": "@jupyter-widgets/base",
       "_view_module_version": "1.2.0",
       "_view_name": "LayoutView",
       "align_content": null,
       "align_items": null,
       "align_self": null,
       "border": null,
       "bottom": null,
       "display": null,
       "flex": null,
       "flex_flow": null,
       "grid_area": null,
       "grid_auto_columns": null,
       "grid_auto_flow": null,
       "grid_auto_rows": null,
       "grid_column": null,
       "grid_gap": null,
       "grid_row": null,
       "grid_template_areas": null,
       "grid_template_columns": null,
       "grid_template_rows": null,
       "height": null,
       "justify_content": null,
       "justify_items": null,
       "left": null,
       "margin": null,
       "max_height": null,
       "max_width": null,
       "min_height": null,
       "min_width": null,
       "object_fit": null,
       "object_position": null,
       "order": null,
       "overflow": null,
       "overflow_x": null,
       "overflow_y": null,
       "padding": null,
       "right": null,
       "top": null,
       "visibility": null,
       "width": null
      }
     },
     "cb32b38b9dbe400c8759b7a045920c1c": {
      "model_module": "@jupyter-widgets/controls",
      "model_module_version": "1.5.0",
      "model_name": "SliderStyleModel",
      "state": {
       "_model_module": "@jupyter-widgets/controls",
       "_model_module_version": "1.5.0",
       "_model_name": "SliderStyleModel",
       "_view_count": null,
       "_view_module": "@jupyter-widgets/base",
       "_view_module_version": "1.2.0",
       "_view_name": "StyleView",
       "description_width": "",
       "handle_color": null
      }
     },
     "cc66b401629b4ff1af4b195b3a8eb76f": {
      "model_module": "@jupyter-widgets/base",
      "model_module_version": "1.2.0",
      "model_name": "LayoutModel",
      "state": {
       "_model_module": "@jupyter-widgets/base",
       "_model_module_version": "1.2.0",
       "_model_name": "LayoutModel",
       "_view_count": null,
       "_view_module": "@jupyter-widgets/base",
       "_view_module_version": "1.2.0",
       "_view_name": "LayoutView",
       "align_content": null,
       "align_items": null,
       "align_self": null,
       "border": null,
       "bottom": null,
       "display": null,
       "flex": null,
       "flex_flow": null,
       "grid_area": null,
       "grid_auto_columns": null,
       "grid_auto_flow": null,
       "grid_auto_rows": null,
       "grid_column": null,
       "grid_gap": null,
       "grid_row": null,
       "grid_template_areas": null,
       "grid_template_columns": null,
       "grid_template_rows": null,
       "height": null,
       "justify_content": null,
       "justify_items": null,
       "left": null,
       "margin": null,
       "max_height": null,
       "max_width": null,
       "min_height": null,
       "min_width": null,
       "object_fit": null,
       "object_position": null,
       "order": null,
       "overflow": null,
       "overflow_x": null,
       "overflow_y": null,
       "padding": null,
       "right": null,
       "top": null,
       "visibility": null,
       "width": null
      }
     },
     "cd24802d74d14d32b6b7453ee6efed5c": {
      "model_module": "@jupyter-widgets/controls",
      "model_module_version": "1.5.0",
      "model_name": "ButtonModel",
      "state": {
       "_dom_classes": [],
       "_model_module": "@jupyter-widgets/controls",
       "_model_module_version": "1.5.0",
       "_model_name": "ButtonModel",
       "_view_count": null,
       "_view_module": "@jupyter-widgets/controls",
       "_view_module_version": "1.5.0",
       "_view_name": "ButtonView",
       "button_style": "",
       "description": "Check Answer",
       "disabled": false,
       "icon": "",
       "layout": "IPY_MODEL_54023951d3794cf582d30516bfa7643b",
       "style": "IPY_MODEL_ec90b6dfe2314941bd6a35e9e35fd221",
       "tooltip": ""
      }
     },
     "cda52a14d0b54b20bd12fcb275fcd8af": {
      "model_module": "@jupyter-widgets/controls",
      "model_module_version": "1.5.0",
      "model_name": "IntSliderModel",
      "state": {
       "_dom_classes": [],
       "_model_module": "@jupyter-widgets/controls",
       "_model_module_version": "1.5.0",
       "_model_name": "IntSliderModel",
       "_view_count": null,
       "_view_module": "@jupyter-widgets/controls",
       "_view_module_version": "1.5.0",
       "_view_name": "IntSliderView",
       "continuous_update": false,
       "description": "b",
       "description_tooltip": null,
       "disabled": false,
       "layout": "IPY_MODEL_686c348c6091401f980bc62b124149a6",
       "max": 10,
       "min": -10,
       "orientation": "horizontal",
       "readout": true,
       "readout_format": "d",
       "step": 1,
       "style": "IPY_MODEL_183840288523460da994c7ddb2728e37",
       "value": 0
      }
     },
     "ce3c3316d74a40f9bf5272569fd6e369": {
      "model_module": "@jupyter-widgets/base",
      "model_module_version": "1.2.0",
      "model_name": "LayoutModel",
      "state": {
       "_model_module": "@jupyter-widgets/base",
       "_model_module_version": "1.2.0",
       "_model_name": "LayoutModel",
       "_view_count": null,
       "_view_module": "@jupyter-widgets/base",
       "_view_module_version": "1.2.0",
       "_view_name": "LayoutView",
       "align_content": null,
       "align_items": null,
       "align_self": null,
       "border": null,
       "bottom": null,
       "display": null,
       "flex": null,
       "flex_flow": null,
       "grid_area": null,
       "grid_auto_columns": null,
       "grid_auto_flow": null,
       "grid_auto_rows": null,
       "grid_column": null,
       "grid_gap": null,
       "grid_row": null,
       "grid_template_areas": null,
       "grid_template_columns": null,
       "grid_template_rows": null,
       "height": null,
       "justify_content": null,
       "justify_items": null,
       "left": null,
       "margin": null,
       "max_height": null,
       "max_width": null,
       "min_height": null,
       "min_width": null,
       "object_fit": null,
       "object_position": null,
       "order": null,
       "overflow": null,
       "overflow_x": null,
       "overflow_y": null,
       "padding": null,
       "right": null,
       "top": null,
       "visibility": null,
       "width": null
      }
     },
     "d01d3b5aa678483f8fa4e596eb75f4cb": {
      "model_module": "@jupyter-widgets/controls",
      "model_module_version": "1.5.0",
      "model_name": "ButtonStyleModel",
      "state": {
       "_model_module": "@jupyter-widgets/controls",
       "_model_module_version": "1.5.0",
       "_model_name": "ButtonStyleModel",
       "_view_count": null,
       "_view_module": "@jupyter-widgets/base",
       "_view_module_version": "1.2.0",
       "_view_name": "StyleView",
       "button_color": null,
       "font_weight": ""
      }
     },
     "d09a6b996a414dccb8f4606a8bc0996b": {
      "model_module": "@jupyter-widgets/output",
      "model_module_version": "1.0.0",
      "model_name": "OutputModel",
      "state": {
       "_dom_classes": [],
       "_model_module": "@jupyter-widgets/output",
       "_model_module_version": "1.0.0",
       "_model_name": "OutputModel",
       "_view_count": null,
       "_view_module": "@jupyter-widgets/output",
       "_view_module_version": "1.0.0",
       "_view_name": "OutputView",
       "layout": "IPY_MODEL_ce3c3316d74a40f9bf5272569fd6e369",
       "msg_id": "",
       "outputs": [
        {
         "data": {
          "image/png": "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\n",
          "text/plain": "<Figure size 720x504 with 1 Axes>"
         },
         "metadata": {
          "needs_background": "light"
         },
         "output_type": "display_data"
        }
       ]
      }
     },
     "d1eba25dfcfe406882a566288ced4ced": {
      "model_module": "@jupyter-widgets/controls",
      "model_module_version": "1.5.0",
      "model_name": "ButtonModel",
      "state": {
       "_dom_classes": [],
       "_model_module": "@jupyter-widgets/controls",
       "_model_module_version": "1.5.0",
       "_model_name": "ButtonModel",
       "_view_count": null,
       "_view_module": "@jupyter-widgets/controls",
       "_view_module_version": "1.5.0",
       "_view_name": "ButtonView",
       "button_style": "",
       "description": "Check Answer",
       "disabled": false,
       "icon": "",
       "layout": "IPY_MODEL_78f649a39dcc4155a7d5c083053544d5",
       "style": "IPY_MODEL_4e78071cf3a04ad984b76f4d82b58c9f",
       "tooltip": ""
      }
     },
     "d59857e1c326420394a8c1d2f6389ae4": {
      "model_module": "@jupyter-widgets/controls",
      "model_module_version": "1.5.0",
      "model_name": "ButtonModel",
      "state": {
       "_dom_classes": [],
       "_model_module": "@jupyter-widgets/controls",
       "_model_module_version": "1.5.0",
       "_model_name": "ButtonModel",
       "_view_count": null,
       "_view_module": "@jupyter-widgets/controls",
       "_view_module_version": "1.5.0",
       "_view_name": "ButtonView",
       "button_style": "",
       "description": "Check Answer",
       "disabled": false,
       "icon": "",
       "layout": "IPY_MODEL_c49354cfb04441fca13f03bb3d2e1218",
       "style": "IPY_MODEL_87c0132761c54efab2cf6b774d6577bf",
       "tooltip": ""
      }
     },
     "d6a23b9946794c8bbb624c98a34ea8ca": {
      "model_module": "@jupyter-widgets/base",
      "model_module_version": "1.2.0",
      "model_name": "LayoutModel",
      "state": {
       "_model_module": "@jupyter-widgets/base",
       "_model_module_version": "1.2.0",
       "_model_name": "LayoutModel",
       "_view_count": null,
       "_view_module": "@jupyter-widgets/base",
       "_view_module_version": "1.2.0",
       "_view_name": "LayoutView",
       "align_content": null,
       "align_items": null,
       "align_self": null,
       "border": null,
       "bottom": null,
       "display": null,
       "flex": null,
       "flex_flow": null,
       "grid_area": null,
       "grid_auto_columns": null,
       "grid_auto_flow": null,
       "grid_auto_rows": null,
       "grid_column": null,
       "grid_gap": null,
       "grid_row": null,
       "grid_template_areas": null,
       "grid_template_columns": null,
       "grid_template_rows": null,
       "height": null,
       "justify_content": null,
       "justify_items": null,
       "left": null,
       "margin": null,
       "max_height": null,
       "max_width": null,
       "min_height": null,
       "min_width": null,
       "object_fit": null,
       "object_position": null,
       "order": null,
       "overflow": null,
       "overflow_x": null,
       "overflow_y": null,
       "padding": null,
       "right": null,
       "top": null,
       "visibility": null,
       "width": null
      }
     },
     "d9915b8c29414df0bc05ea50b3e8616c": {
      "model_module": "@jupyter-widgets/controls",
      "model_module_version": "1.5.0",
      "model_name": "IntSliderModel",
      "state": {
       "_dom_classes": [],
       "_model_module": "@jupyter-widgets/controls",
       "_model_module_version": "1.5.0",
       "_model_name": "IntSliderModel",
       "_view_count": null,
       "_view_module": "@jupyter-widgets/controls",
       "_view_module_version": "1.5.0",
       "_view_name": "IntSliderView",
       "continuous_update": true,
       "description": "n",
       "description_tooltip": null,
       "disabled": false,
       "layout": "IPY_MODEL_35711ce7b1af4fb5bd0bb12495ea5dbe",
       "max": -2,
       "min": -10,
       "orientation": "horizontal",
       "readout": true,
       "readout_format": "d",
       "step": 1,
       "style": "IPY_MODEL_feaa925c93b94fc4b3433107a3f7893e",
       "value": -6
      }
     },
     "d9efb47b4c774bdd82b54bf8e8cd0e6e": {
      "model_module": "@jupyter-widgets/controls",
      "model_module_version": "1.5.0",
      "model_name": "VBoxModel",
      "state": {
       "_dom_classes": [
        "widget-interact"
       ],
       "_model_module": "@jupyter-widgets/controls",
       "_model_module_version": "1.5.0",
       "_model_name": "VBoxModel",
       "_view_count": null,
       "_view_module": "@jupyter-widgets/controls",
       "_view_module_version": "1.5.0",
       "_view_name": "VBoxView",
       "box_style": "",
       "children": [
        "IPY_MODEL_7a528edeaca74e01aed66e534593886e",
        "IPY_MODEL_7fa4323cf091445da98085ea6daf2b8f",
        "IPY_MODEL_2326633426ce42229c7461b8193e7217",
        "IPY_MODEL_7c4da13fa8f84370a8de1b4606df1775"
       ],
       "layout": "IPY_MODEL_6aec2271c63c4916a89b774725d6f274"
      }
     },
     "dc197c58ba3b4875827f96d5badb9685": {
      "model_module": "@jupyter-widgets/controls",
      "model_module_version": "1.5.0",
      "model_name": "ButtonModel",
      "state": {
       "_dom_classes": [],
       "_model_module": "@jupyter-widgets/controls",
       "_model_module_version": "1.5.0",
       "_model_name": "ButtonModel",
       "_view_count": null,
       "_view_module": "@jupyter-widgets/controls",
       "_view_module_version": "1.5.0",
       "_view_name": "ButtonView",
       "button_style": "",
       "description": "Check Answer",
       "disabled": false,
       "icon": "",
       "layout": "IPY_MODEL_3aa64e72ba3e4f78932e655e7caa43c1",
       "style": "IPY_MODEL_3c29b5ac1218439aa9e03da405890643",
       "tooltip": ""
      }
     },
     "dca7f8317de64dfca7f76f08e3e2fa6d": {
      "model_module": "@jupyter-widgets/controls",
      "model_module_version": "1.5.0",
      "model_name": "SliderStyleModel",
      "state": {
       "_model_module": "@jupyter-widgets/controls",
       "_model_module_version": "1.5.0",
       "_model_name": "SliderStyleModel",
       "_view_count": null,
       "_view_module": "@jupyter-widgets/base",
       "_view_module_version": "1.2.0",
       "_view_name": "StyleView",
       "description_width": "",
       "handle_color": null
      }
     },
     "e67a1ac15bbf4e92b363429d8e9501e3": {
      "model_module": "@jupyter-widgets/base",
      "model_module_version": "1.2.0",
      "model_name": "LayoutModel",
      "state": {
       "_model_module": "@jupyter-widgets/base",
       "_model_module_version": "1.2.0",
       "_model_name": "LayoutModel",
       "_view_count": null,
       "_view_module": "@jupyter-widgets/base",
       "_view_module_version": "1.2.0",
       "_view_name": "LayoutView",
       "align_content": null,
       "align_items": null,
       "align_self": null,
       "border": null,
       "bottom": null,
       "display": null,
       "flex": null,
       "flex_flow": null,
       "grid_area": null,
       "grid_auto_columns": null,
       "grid_auto_flow": null,
       "grid_auto_rows": null,
       "grid_column": null,
       "grid_gap": null,
       "grid_row": null,
       "grid_template_areas": null,
       "grid_template_columns": null,
       "grid_template_rows": null,
       "height": null,
       "justify_content": null,
       "justify_items": null,
       "left": null,
       "margin": null,
       "max_height": null,
       "max_width": null,
       "min_height": null,
       "min_width": null,
       "object_fit": null,
       "object_position": null,
       "order": null,
       "overflow": null,
       "overflow_x": null,
       "overflow_y": null,
       "padding": null,
       "right": null,
       "top": null,
       "visibility": null,
       "width": null
      }
     },
     "e758caa588b74d0abb8e0abb00df7cd9": {
      "model_module": "@jupyter-widgets/controls",
      "model_module_version": "1.5.0",
      "model_name": "IntSliderModel",
      "state": {
       "_dom_classes": [],
       "_model_module": "@jupyter-widgets/controls",
       "_model_module_version": "1.5.0",
       "_model_name": "IntSliderModel",
       "_view_count": null,
       "_view_module": "@jupyter-widgets/controls",
       "_view_module_version": "1.5.0",
       "_view_name": "IntSliderView",
       "continuous_update": false,
       "description": "n",
       "description_tooltip": null,
       "disabled": false,
       "layout": "IPY_MODEL_72ca086119624e9c8550498aa908f28d",
       "max": 100,
       "min": 2,
       "orientation": "horizontal",
       "readout": true,
       "readout_format": "d",
       "step": 1,
       "style": "IPY_MODEL_2410f583bc66431792b40d9d8c524b21",
       "value": 17
      }
     },
     "e90fc7eafe124289a05316e0b2270a10": {
      "model_module": "@jupyter-widgets/output",
      "model_module_version": "1.0.0",
      "model_name": "OutputModel",
      "state": {
       "_dom_classes": [],
       "_model_module": "@jupyter-widgets/output",
       "_model_module_version": "1.0.0",
       "_model_name": "OutputModel",
       "_view_count": null,
       "_view_module": "@jupyter-widgets/output",
       "_view_module_version": "1.0.0",
       "_view_name": "OutputView",
       "layout": "IPY_MODEL_31889eb0f2fc409ba48579cee2dad50b",
       "msg_id": "",
       "outputs": [
        {
         "data": {
          "image/png": "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\n",
          "text/plain": "<Figure size 720x504 with 1 Axes>"
         },
         "metadata": {
          "needs_background": "light"
         },
         "output_type": "display_data"
        }
       ]
      }
     },
     "ec90b6dfe2314941bd6a35e9e35fd221": {
      "model_module": "@jupyter-widgets/controls",
      "model_module_version": "1.5.0",
      "model_name": "ButtonStyleModel",
      "state": {
       "_model_module": "@jupyter-widgets/controls",
       "_model_module_version": "1.5.0",
       "_model_name": "ButtonStyleModel",
       "_view_count": null,
       "_view_module": "@jupyter-widgets/base",
       "_view_module_version": "1.2.0",
       "_view_name": "StyleView",
       "button_color": null,
       "font_weight": ""
      }
     },
     "ee7bd0472d95475b935e7f610145f37e": {
      "model_module": "@jupyter-widgets/base",
      "model_module_version": "1.2.0",
      "model_name": "LayoutModel",
      "state": {
       "_model_module": "@jupyter-widgets/base",
       "_model_module_version": "1.2.0",
       "_model_name": "LayoutModel",
       "_view_count": null,
       "_view_module": "@jupyter-widgets/base",
       "_view_module_version": "1.2.0",
       "_view_name": "LayoutView",
       "align_content": null,
       "align_items": null,
       "align_self": null,
       "border": null,
       "bottom": null,
       "display": null,
       "flex": null,
       "flex_flow": null,
       "grid_area": null,
       "grid_auto_columns": null,
       "grid_auto_flow": null,
       "grid_auto_rows": null,
       "grid_column": null,
       "grid_gap": null,
       "grid_row": null,
       "grid_template_areas": null,
       "grid_template_columns": null,
       "grid_template_rows": null,
       "height": null,
       "justify_content": null,
       "justify_items": null,
       "left": null,
       "margin": null,
       "max_height": null,
       "max_width": null,
       "min_height": null,
       "min_width": null,
       "object_fit": null,
       "object_position": null,
       "order": null,
       "overflow": null,
       "overflow_x": null,
       "overflow_y": null,
       "padding": null,
       "right": null,
       "top": null,
       "visibility": null,
       "width": null
      }
     },
     "f00f7bc35e7a4a8282470e471494249e": {
      "model_module": "@jupyter-widgets/base",
      "model_module_version": "1.2.0",
      "model_name": "LayoutModel",
      "state": {
       "_model_module": "@jupyter-widgets/base",
       "_model_module_version": "1.2.0",
       "_model_name": "LayoutModel",
       "_view_count": null,
       "_view_module": "@jupyter-widgets/base",
       "_view_module_version": "1.2.0",
       "_view_name": "LayoutView",
       "align_content": null,
       "align_items": null,
       "align_self": null,
       "border": null,
       "bottom": null,
       "display": null,
       "flex": null,
       "flex_flow": null,
       "grid_area": null,
       "grid_auto_columns": null,
       "grid_auto_flow": null,
       "grid_auto_rows": null,
       "grid_column": null,
       "grid_gap": null,
       "grid_row": null,
       "grid_template_areas": null,
       "grid_template_columns": null,
       "grid_template_rows": null,
       "height": null,
       "justify_content": null,
       "justify_items": null,
       "left": null,
       "margin": null,
       "max_height": null,
       "max_width": null,
       "min_height": null,
       "min_width": null,
       "object_fit": null,
       "object_position": null,
       "order": null,
       "overflow": null,
       "overflow_x": null,
       "overflow_y": null,
       "padding": null,
       "right": null,
       "top": null,
       "visibility": null,
       "width": null
      }
     },
     "f0177cd0a1e44b1eba390009ebfc2c3f": {
      "model_module": "@jupyter-widgets/controls",
      "model_module_version": "1.5.0",
      "model_name": "IntSliderModel",
      "state": {
       "_dom_classes": [],
       "_model_module": "@jupyter-widgets/controls",
       "_model_module_version": "1.5.0",
       "_model_name": "IntSliderModel",
       "_view_count": null,
       "_view_module": "@jupyter-widgets/controls",
       "_view_module_version": "1.5.0",
       "_view_name": "IntSliderView",
       "continuous_update": false,
       "description": "a",
       "description_tooltip": null,
       "disabled": false,
       "layout": "IPY_MODEL_f00f7bc35e7a4a8282470e471494249e",
       "max": 10,
       "min": -10,
       "orientation": "horizontal",
       "readout": true,
       "readout_format": "d",
       "step": 1,
       "style": "IPY_MODEL_c33a0597a2f4454fa8786037625e0539",
       "value": 0
      }
     },
     "f0f9db778d594047a48e1780f4636091": {
      "model_module": "@jupyter-widgets/controls",
      "model_module_version": "1.5.0",
      "model_name": "TextModel",
      "state": {
       "_dom_classes": [],
       "_model_module": "@jupyter-widgets/controls",
       "_model_module_version": "1.5.0",
       "_model_name": "TextModel",
       "_view_count": null,
       "_view_module": "@jupyter-widgets/controls",
       "_view_module_version": "1.5.0",
       "_view_name": "TextView",
       "continuous_update": true,
       "description": "Type your answer here: ",
       "description_tooltip": null,
       "disabled": false,
       "layout": "IPY_MODEL_500ce05e85bd44468d3819fbfb308dbc",
       "placeholder": "​",
       "style": "IPY_MODEL_3065feb2bbdd4d5e81d3161a36953d87",
       "value": ""
      }
     },
     "f1db8fbdb15f4e79b820c2ae79711dac": {
      "model_module": "@jupyter-widgets/controls",
      "model_module_version": "1.5.0",
      "model_name": "IntSliderModel",
      "state": {
       "_dom_classes": [],
       "_model_module": "@jupyter-widgets/controls",
       "_model_module_version": "1.5.0",
       "_model_name": "IntSliderModel",
       "_view_count": null,
       "_view_module": "@jupyter-widgets/controls",
       "_view_module_version": "1.5.0",
       "_view_name": "IntSliderView",
       "continuous_update": true,
       "description": "n",
       "description_tooltip": null,
       "disabled": false,
       "layout": "IPY_MODEL_b5bdc3b2bd4c41d08bd8bc02de88925a",
       "max": 10,
       "min": 2,
       "orientation": "horizontal",
       "readout": true,
       "readout_format": "d",
       "step": 1,
       "style": "IPY_MODEL_2b4153b9fb7a4816b875c3b0e94187b7",
       "value": 6
      }
     },
     "fc74de9fed3b4486b538cb1eee5c7ad7": {
      "model_module": "@jupyter-widgets/controls",
      "model_module_version": "1.5.0",
      "model_name": "DescriptionStyleModel",
      "state": {
       "_model_module": "@jupyter-widgets/controls",
       "_model_module_version": "1.5.0",
       "_model_name": "DescriptionStyleModel",
       "_view_count": null,
       "_view_module": "@jupyter-widgets/base",
       "_view_module_version": "1.2.0",
       "_view_name": "StyleView",
       "description_width": "initial"
      }
     },
     "fddbd2598fca40aaaaa2273a2fd7e957": {
      "model_module": "@jupyter-widgets/output",
      "model_module_version": "1.0.0",
      "model_name": "OutputModel",
      "state": {
       "_dom_classes": [],
       "_model_module": "@jupyter-widgets/output",
       "_model_module_version": "1.0.0",
       "_model_name": "OutputModel",
       "_view_count": null,
       "_view_module": "@jupyter-widgets/output",
       "_view_module_version": "1.0.0",
       "_view_name": "OutputView",
       "layout": "IPY_MODEL_ba3cbb369f8d4ecd87e4abf91e7228d4",
       "msg_id": "",
       "outputs": [
        {
         "data": {
          "image/png": "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\n",
          "text/plain": "<Figure size 720x504 with 1 Axes>"
         },
         "metadata": {
          "needs_background": "light"
         },
         "output_type": "display_data"
        }
       ]
      }
     },
     "feaa925c93b94fc4b3433107a3f7893e": {
      "model_module": "@jupyter-widgets/controls",
      "model_module_version": "1.5.0",
      "model_name": "SliderStyleModel",
      "state": {
       "_model_module": "@jupyter-widgets/controls",
       "_model_module_version": "1.5.0",
       "_model_name": "SliderStyleModel",
       "_view_count": null,
       "_view_module": "@jupyter-widgets/base",
       "_view_module_version": "1.2.0",
       "_view_name": "StyleView",
       "description_width": "",
       "handle_color": null
      }
     },
     "ffab13bfcf3846a28ff23e513f91612e": {
      "model_module": "@jupyter-widgets/base",
      "model_module_version": "1.2.0",
      "model_name": "LayoutModel",
      "state": {
       "_model_module": "@jupyter-widgets/base",
       "_model_module_version": "1.2.0",
       "_model_name": "LayoutModel",
       "_view_count": null,
       "_view_module": "@jupyter-widgets/base",
       "_view_module_version": "1.2.0",
       "_view_name": "LayoutView",
       "align_content": null,
       "align_items": null,
       "align_self": null,
       "border": null,
       "bottom": null,
       "display": null,
       "flex": null,
       "flex_flow": null,
       "grid_area": null,
       "grid_auto_columns": null,
       "grid_auto_flow": null,
       "grid_auto_rows": null,
       "grid_column": null,
       "grid_gap": null,
       "grid_row": null,
       "grid_template_areas": null,
       "grid_template_columns": null,
       "grid_template_rows": null,
       "height": null,
       "justify_content": null,
       "justify_items": null,
       "left": null,
       "margin": null,
       "max_height": null,
       "max_width": null,
       "min_height": null,
       "min_width": null,
       "object_fit": null,
       "object_position": null,
       "order": null,
       "overflow": null,
       "overflow_x": null,
       "overflow_y": null,
       "padding": null,
       "right": null,
       "top": null,
       "visibility": null,
       "width": null
      }
     }
    },
    "version_major": 2,
    "version_minor": 0
   }
  }
 },
 "nbformat": 4,
 "nbformat_minor": 2
}