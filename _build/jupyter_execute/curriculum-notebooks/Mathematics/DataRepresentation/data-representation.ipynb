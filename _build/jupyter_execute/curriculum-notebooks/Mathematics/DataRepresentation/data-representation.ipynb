{
 "cells": [
  {
   "cell_type": "markdown",
   "metadata": {},
   "source": [
    "![Callysto.ca Banner](https://github.com/callysto/curriculum-notebooks/blob/master/callysto-notebook-banner-top.jpg?raw=true)\n",
    "\n",
    "<a href=\"https://hub.callysto.ca/jupyter/hub/user-redirect/git-pull?repo=https%3A%2F%2Fgithub.com%2Fcallysto%2Fcurriculum-notebooks&branch=master&subPath=Mathematics/DataRepresentation/data-representation.ipynb&depth=1\" target=\"_parent\"><img src=\"https://raw.githubusercontent.com/callysto/curriculum-notebooks/master/open-in-callysto-button.svg?sanitize=true\" width=\"123\" height=\"24\" alt=\"Open in Callysto\"/></a>"
   ]
  },
  {
   "cell_type": "code",
   "execution_count": 1,
   "metadata": {},
   "outputs": [
    {
     "data": {
      "text/html": [
       "<script>\n",
       "code_show=true; \n",
       "function code_toggle() {\n",
       "  if (code_show) {\n",
       "    $('div.input').each(function(id) {\n",
       "      el = $(this).find('.cm-variable:first');\n",
       "      if (id == 0 || el.text() == 'hide_me') {\n",
       "        $(this).hide();\n",
       "      }\n",
       "    });\n",
       "    $('div.output_prompt').css('opacity', 0);\n",
       "  } else {\n",
       "    $('div.input').each(function(id) {\n",
       "      $(this).show();\n",
       "    });\n",
       "    $('div.output_prompt').css('opacity', 1);\n",
       "  }\n",
       "  code_show = !code_show\n",
       "} \n",
       "$( document ).ready(code_toggle);\n",
       "</script>\n",
       "<form action=\"javascript:code_toggle()\"><input style=\"opacity:1\" type=\"submit\" value=\"Click here to toggle on/off the raw code.\"></form>"
      ],
      "text/plain": [
       "<IPython.core.display.HTML object>"
      ]
     },
     "execution_count": 1,
     "metadata": {},
     "output_type": "execute_result"
    }
   ],
   "source": [
    "from IPython.display import HTML\n",
    "hide_me = ''\n",
    "HTML('''<script>\n",
    "code_show=true; \n",
    "function code_toggle() {\n",
    "  if (code_show) {\n",
    "    $('div.input').each(function(id) {\n",
    "      el = $(this).find('.cm-variable:first');\n",
    "      if (id == 0 || el.text() == 'hide_me') {\n",
    "        $(this).hide();\n",
    "      }\n",
    "    });\n",
    "    $('div.output_prompt').css('opacity', 0);\n",
    "  } else {\n",
    "    $('div.input').each(function(id) {\n",
    "      $(this).show();\n",
    "    });\n",
    "    $('div.output_prompt').css('opacity', 1);\n",
    "  }\n",
    "  code_show = !code_show\n",
    "} \n",
    "$( document ).ready(code_toggle);\n",
    "</script>\n",
    "<form action=\"javascript:code_toggle()\"><input style=\"opacity:1\" type=\"submit\" value=\"Click here to toggle on/off the raw code.\"></form>''')"
   ]
  },
  {
   "cell_type": "code",
   "execution_count": 2,
   "metadata": {},
   "outputs": [],
   "source": [
    "hide_me\n",
    "\n",
    "from ipywidgets import interact\n",
    "import ipywidgets as widgets\n",
    "import IPython\n",
    "\n",
    "import matplotlib.pyplot as plt\n",
    "import numpy as np\n",
    "import math\n",
    "\n",
    "import plotly as py\n",
    "import plotly.graph_objs as go\n",
    "\n",
    "import pylab\n",
    "\n",
    "from IPython.display import Image, HTML, YouTubeVideo"
   ]
  },
  {
   "cell_type": "markdown",
   "metadata": {},
   "source": [
    "# Data Representation in Graphs\n",
    "\n",
    "### Grade 8 curriculum"
   ]
  },
  {
   "cell_type": "markdown",
   "metadata": {},
   "source": [
    "Data plays an ever-increasing role in our lives. Like it or not, we are faced with numerical information every day, and we use it to make decisions. Should I be glad that 9 out of 10 dentists recommend my toothpaste? What about the 10th? A new study says that going for a run at 5 a.m. every morning reduces my risk of catching some terrible disease by 15%. Is it worth getting out of bed?\n",
    "\n",
    "It's often hard to find meaning in data if it's just a bunch of numbers on a page, so we make that easier by using graphs. Graphs take data and turn them into pictures—bars, lines, circles, and more. But not all graphs are created equal; some do their jobs better than others. A good graph is a perfect tool for understanding a problem. A bad graph can be confusing, or in some cases, intentionally misleading.\n",
    "\n",
    "Graphs are used every day by news media, politicians, and scientists to convey information. Some use them well; some do not. In this notebook, we'll explore good and bad examples of graphs. By working through the examples and exercises in this notebook, you'll learn:\n",
    "\n",
    "- how to decide which type of graph is best for a given set of data;\n",
    "- how to identify flawed or misleading graphs;\n",
    "- how some of those flaws can be corrected; and\n",
    "- most importantly, how to read a graph and apply its meaning to your everyday life.\n"
   ]
  },
  {
   "cell_type": "markdown",
   "metadata": {},
   "source": [
    "*Many of the examples of bad graphs you'll find below are from the media (and one source in particular). This notebook isn't trying to criticize these sources. They just happen to have given us a lot of examples to choose from.*"
   ]
  },
  {
   "cell_type": "markdown",
   "metadata": {},
   "source": [
    "## What makes a good graph?\n",
    "\n",
    "First and most importantly, a graph should allow a reader, at a glance, to understand the information it's meant to convey. A good graph is like a good movie scene; if it's set up well, you can tell exactly what you're supposed to know. Some basic parts of a successful graph are:\n",
    "\n",
    "1. A title\n",
    "2. Proper labels\n",
    "3. Axes that start at zero (if numerical)\n",
    "4. Percentages that add to 100%\n",
    "5. Easy to read\n",
    "6. Use of colours, *as long as they are meaningful* and not just for show\n",
    "\n",
    "*By the way: **axes** (ACK-sees) are the reference lines on a graph. They're where you find the names of the categories (usually at the bottom) and the number scale (usually on the left).  One of these lines is called an **axis** (ACK-sis).*"
   ]
  },
  {
   "cell_type": "markdown",
   "metadata": {},
   "source": [
    "For a quick overview of different types of graphs and simple examples, you might find this \n",
    "[Math Is Fun](https://www.mathsisfun.com/data/pictographs.html) article useful. We'll look at some of these kinds of graphs below. You'll notice many of them are eye-catching, and they also convey information really well.\n",
    "\n",
    "One of the places you'll find a lot of graphs is in political coverage. The media (and many of their readers/viewers) love a good \"horse race\". For example, this [CBC federal poll tracking article](http://www.cbc.ca/news/politics/poll-tracker-federal-poll-averages-and-seat-projections-1.4171977) uses almost every type of graph you'll find in this notebook.\n",
    "\n",
    "We'll also explore how a graph can be used to [mislead someone](http://teachersinstitute.yale.edu/curriculum/units/2008/6/08.06.06.x.html). We hope this notebook will help you learn how to avoid using misleading graphs, as well as how to avoid being misled yourself.\n",
    "\n",
    "There's even a [wall of shame](http://bcuchta.com/wall_of_shame/) with some of the worst graphs and charts!"
   ]
  },
  {
   "cell_type": "markdown",
   "metadata": {},
   "source": [
    "## Let's look at bar graphs\n",
    "\n",
    "### What is a bar graph?\n",
    "\n",
    "A bar graph is a graph where data is separated into categories, and those categories are shown as bars with different heights. It's a very useful graph, but it can also easily be misleading.\n",
    "\n",
    "![picture](./images/bar-graph-fruit.svg)\n",
    "\n",
    "from [Math is Fun](https://mathsisfun.com/data/images/bar-graph-fruit.svg)\n",
    "\n",
    "### When are bar graphs good to use?\n",
    "\n",
    "Bar graphs can be used in many ways, but they usually show one piece of information collected from many groups or categories. For example, they might show the number of hours worked by people in different age groups, or how many grey shirts each girl in a class owns.\n",
    "\n",
    "### What are some ways to misuse bar graphs?\n",
    "\n",
    "1. **Make the scale on the graph start above zero.** This makes small differences between bars look much bigger than they really are.\n",
    "2. **Change the width of the bars to make one category look more important.** This gives one bar more area, which looks like more data.\n",
    "3. **Remove the space between the bars** (that's a **histogram**). Histograms are used for a different kind of data set, and so they are read in a different way.\n",
    "\n",
    "Here's an example of a poorly made bar graph.  It shows the total welfare (support money) received by people in the US from 2009 to 2011.  Each year is divided into 4 three-month pieces called **quarters**.\n",
    "\n",
    "![picture](./images/fnc-an-20120809-welfarechart.jpg)\n",
    "\n",
    "from [MediaMatters](https://www.mediamatters.org/fox-news/today-dishonest-fox-charts-government-aid-edition)\n",
    "\n",
    "What makes this a bad bar graph?\n",
    "1. Their scale starts at 94 million insead of 0.\n",
    "2. The bars are in 3D, making their values harder to read.\n",
    "3. Their y-axis has 8 labels, but there are 10 levels on the graph (including the top and bottom).\n",
    "\n",
    "Whoever made this graph probably wanted the viewer to think welfare in the US is rising faster than it really is.  Now, let's ask ourselves:\n",
    "\n",
    "- What can we change to make this a good graph?\n",
    "- How does it look after we make these changes?\n",
    "- Why might the original creators not want to use our new graph?\n",
    "\n",
    "One way we can improve this graph is by changing where its scale starts.  Play with the slider below to see how the graph looks with different scales."
   ]
  },
  {
   "cell_type": "markdown",
   "metadata": {},
   "source": [
    "*Slide the slider below to change the starting point of the $y$-axis. The initial position corresponds to the graph in the image above. As you move the slider to the left, the starting point for the $y$-axis is reduced to zero.*\n",
    "\n",
    "*Warning: This graph is slow to respond, please be patient with it.*"
   ]
  },
  {
   "cell_type": "code",
   "execution_count": 3,
   "metadata": {},
   "outputs": [
    {
     "data": {
      "application/vnd.jupyter.widget-view+json": {
       "model_id": "2d7b41feb19948aca44e1676f360eb17",
       "version_major": 2,
       "version_minor": 0
      },
      "text/plain": [
       "interactive(children=(IntSlider(value=90, description='yaxis', max=90), Output()), _dom_classes=('widget-inter…"
      ]
     },
     "metadata": {},
     "output_type": "display_data"
    },
    {
     "data": {
      "text/plain": [
       "<function __main__.plot(yaxis=94)>"
      ]
     },
     "execution_count": 3,
     "metadata": {},
     "output_type": "execute_result"
    }
   ],
   "source": [
    "hide_me\n",
    "\n",
    "columns = ['09-Q1', '09-Q2', '09-Q3', '09-Q4', '10-Q1', '10-Q2','10-Q3', '10-Q4', '11-Q1', '11-Q2']\n",
    "#fig, ax = plt.subplots()\n",
    "def plot(yaxis=94):\n",
    "    y = [97, 98, 99, 101, 104, 105, 106, 107, 107.5, 108]\n",
    "    x = np.arange(len(y))\n",
    "    fig, ax = plt.subplots(figsize=(10,4))\n",
    "    ax.bar(x, y, width=0.5)\n",
    "    ax.set_xticks(x)\n",
    "    ax.set_xticklabels(columns)\n",
    "    ax.set_ylim((yaxis,110))\n",
    "    ax.set_title(\"Federal Welfare Received in the US\")\n",
    "    \n",
    "interact(plot, yaxis=(0,90), continuous_update = True, wait = False)\n",
    "#plt.show()"
   ]
  },
  {
   "cell_type": "markdown",
   "metadata": {},
   "source": [
    "## Let's look at pictographs\n",
    "\n",
    "### What is a pictograph?\n",
    "\n",
    "A pictograph is a way to show data using images, where each image represents a certain number of things that are being measured. They look a lot like bar graphs and they can be horizontal or vertical too.\n",
    "\n",
    "![picture](./images/pictograph-tennis.svg)\n",
    "\n",
    "from [Math is Fun](https://www.mathsisfun.com/data/images/pictograph-tennis.svg)\n",
    "\n",
    "### Why do people like to use pictographs?\n",
    "\n",
    "The main reason is because the pictures offer something for readers to connect with other than just a row of coloured bars.\n",
    "\n",
    "Also, pictographs often work best to show data with small numbers. If everything can be easily expressed with a simple scale like the one above, then a pictograph might be the right choice to represent the data.\n",
    "\n",
    "### When are pictographs not a good choice?\n",
    "\n",
    "In the example above, what if Sam played 46 games instead of 45? This pictogram counts games in steps of 5, so numbers in between these steps might be hard or impossible to show.\n",
    "\n",
    "A reader might also make a connection with a pictograph that wasn't intended.  Let's show this with an example.\n",
    "\n",
    "On Halloween, Shayna and Michael went trick-or-treating.  Shayna got 18 pieces of candy, and Michael got 36.  Their totals are shown in this pictograph:\n",
    "\n",
    "![picture](./images/halloween-candy-collected.jpg)\n",
    "\n",
    "from [teachersinstitute.yale.edu](http://teachersinstitute.yale.edu/curriculum/units/2008/6/08.06.06.x.html)\n",
    "\n",
    "At first, is looks like a fine way to show how much candy each child got. The heights of the candy corn pieces are being used to mark the two amounts.  But as a viewer, we don't see just the height—we also see the width. Not only is the second candy corn twice as high, it's also twice as wide, giving it four times the area as the first candy corn.  This makes it *look like* Michael got 4 times as much candy as Shayna, even though he only got twice as much.\n",
    "\n",
    "Click the \"Display\" button below to show a better, more accurate way to represent the same data:"
   ]
  },
  {
   "cell_type": "code",
   "execution_count": 4,
   "metadata": {},
   "outputs": [
    {
     "data": {
      "application/vnd.jupyter.widget-view+json": {
       "model_id": "697cf27ef201404b8ce3e2b39e73c541",
       "version_major": 2,
       "version_minor": 0
      },
      "text/plain": [
       "Checkbox(value=False, description='Display')"
      ]
     },
     "metadata": {},
     "output_type": "display_data"
    }
   ],
   "source": [
    "hide_me\n",
    "\n",
    "pic = Image('images/CandyCornGraph.png')\n",
    "clicker = widgets.Checkbox(value=False, description='Display', disabled=False)\n",
    "\n",
    "def checking(a):\n",
    "    if clicker.value == True:\n",
    "        IPython.display.display(pic)\n",
    "    else:\n",
    "        IPython.display.clear_output()\n",
    "        IPython.display.display(clicker)\n",
    "\n",
    "IPython.display.display(clicker)\n",
    "clicker.observe(checking, 'value')"
   ]
  },
  {
   "cell_type": "markdown",
   "metadata": {},
   "source": [
    "## Let's look at line graphs\n",
    "\n",
    "### What is a line graph?\n",
    "\n",
    "A line graph is a way to show how the measurement of one value responds to changes in another, like how something may change over time. In fact, time is one of the most common variables with a line graph.\n",
    "\n",
    "![picture](./images/line-graph-example.svg)\n",
    "\n",
    "from [Math is Fun](https://www.mathsisfun.com/data/images/line-graph-example.svg)\n",
    "\n",
    "### Why are line graphs useful?\n",
    "\n",
    "They show a moving trend with a line that's easy to follow, instead of just dots on a graph. They work best when the trend involves the change of one variable (jobs, temperature, debt) with respect to another (usually time).\n",
    "\n",
    "In some cases it can also be useful to plot multiple lines on one graph, usually with different colours to help tell them apart. For example, one might plot polling results for different political parties over time, as with this graph from the CBC:\n",
    "\n",
    "![federal polling averages](./images/poll-averages.jpg)\n",
    "\n",
    "from [cbc.ca](http://www.cbc.ca/polopoly_fs/1.3265490!/fileImage/httpImage/image.jpg)\n",
    "\n",
    "\n",
    "### How can line graphs go wrong?\n",
    "\n",
    "A common error with line graphs is unlabelled axes. A graph might show a line that slopes upwards, but without labels, we wouldn't know what is growing or how fast. Also, line graphs can trick us into thinking a trend is linear by spacing out the ticks unevenly on one axis, so that the data points neatly line up. Like this example:\n",
    "\n",
    "![Picture](./images/job-loss-by-quarter.png)\n",
    "\n",
    "from [Online Stat Book](http://onlinestatbook.com/2/graphing_distributions/graphics/graph2.png)"
   ]
  },
  {
   "cell_type": "code",
   "execution_count": 5,
   "metadata": {},
   "outputs": [
    {
     "data": {
      "application/vnd.jupyter.widget-view+json": {
       "model_id": "470bb2f6871646e2812d942a3ffb2034",
       "version_major": 2,
       "version_minor": 0
      },
      "text/plain": [
       "SelectionSlider(description='Slide to fix', options=('original', 'fixed'), value='original')"
      ]
     },
     "metadata": {},
     "output_type": "display_data"
    },
    {
     "name": "stderr",
     "output_type": "stream",
     "text": [
      "No handles with labels found to put in legend.\n"
     ]
    },
    {
     "data": {
      "image/png": "[encoded data removed]",
      "text/plain": [
       "<Figure size 720x360 with 1 Axes>"
      ]
     },
     "metadata": {
      "filenames": {
       "image/png": "/home/mikel/Documents/curriculum-jbook-local/_build/jupyter_execute/curriculum-notebooks/Mathematics/DataRepresentation/data-representation_14_2.png"
      },
      "needs_background": "light"
     },
     "output_type": "display_data"
    }
   ],
   "source": [
    "hide_me\n",
    "\n",
    "fix = widgets.SelectionSlider(options=['original', 'fixed'], value ='original', description='Slide to fix',\n",
    "    continuous_update=True, orientation='horizontal',)\n",
    "\n",
    "def fixing(a):\n",
    "    if fix.value == 'fixed':\n",
    "        IPython.display.clear_output()\n",
    "        IPython.display.display(fix)\n",
    "        f, ax1 = plt.subplots(1,1,figsize=(10,5))\n",
    "        ax1.set_title(\"Job Loss by Quarter\")\n",
    "        ax1.set_xlabel('Months from November 07',fontsize=15)\n",
    "        ax1.set_ylabel(\"Jobs Lost in Millions\",color='b',fontsize=15)\n",
    "        x1 = [1, 10, 16, 29]\n",
    "        y1 = [7,9,13.5,15]\n",
    "        ax1.plot(x1, y1,\"bo-\")\n",
    "        plt.legend()\n",
    "        plt.show()\n",
    "    else:\n",
    "        IPython.display.clear_output()\n",
    "        IPython.display.display(fix)\n",
    "        f, ax1 = plt.subplots(1,1,figsize=(10,5))\n",
    "        ax1.set_title(\"Job Loss by Quarter\")\n",
    "        ax1.set_xlabel('Months from November 07',fontsize=15)\n",
    "        ax1.set_ylabel(\"Jobs Lost in Millions\",color='b',fontsize=15)\n",
    "        x1 = [0,7,23,29]\n",
    "        y1 = [7,9,13.5,15]\n",
    "        ax1.plot(x1, y1,\"bo-\")\n",
    "        plt.legend()\n",
    "        plt.show()\n",
    "        \n",
    "IPython.display.display(fix)        \n",
    "fix.observe(fixing, 'value')\n",
    "\n",
    "IPython.display.clear_output()\n",
    "IPython.display.display(fix)\n",
    "f, ax1 = plt.subplots(1,1,figsize=(10,5))\n",
    "ax1.set_title(\"Job Loss by Quarter\")\n",
    "ax1.set_xlabel('Months from November 07',fontsize=15)\n",
    "ax1.set_ylabel(\"Jobs Lost in Millions\",color='b',fontsize=15)\n",
    "x1 = [0,7,23,29]\n",
    "y1 = [7,9,13.5,15]\n",
    "ax1.plot(x1, y1,\"bo-\")\n",
    "plt.legend()\n",
    "plt.show()"
   ]
  },
  {
   "cell_type": "markdown",
   "metadata": {},
   "source": [
    "## Let's look at circle graphs\n",
    "\n",
    "### What is a circle graph?\n",
    "\n",
    "Also known as a pie chart, a circle graph is used to show how a total is split into different groups. The whole pie represents the total, and each slice of the pie represents a different group.  Each slice gets as much of the pie as its group has of the total—the bigger the slice, the more of the total that group represents.\n",
    "\n",
    "![picture](./images/pie-chart-movies.svg)\n",
    "\n",
    "from [Math is Fun](https://www.mathsisfun.com/data/images/pie-chart-movies.svg)\n",
    "\n",
    "### Why are circle graphs useful?\n",
    "\n",
    "They make it easy to compare group sizes; if there's a biggest or smallest group, that's easy to see, since group sizes are shown as pieces of a whole.\n",
    "\n",
    "### Why might people not use circle graphs?\n",
    "\n",
    "To be displayed as a circle graph, data must be converted into percentages of the total, then into slices of a circle, which is more work than other graphs need. Plus, it's easy to mess up if the data are not converted properly (or at all). Circle graphs are also hard to draw accurately on paper, since you need a protractor to ensure your angles are correct. Some people might even say that any time a circle graph would do, a bar graph would do better, and that the pie chart below is the only acceptable one.\n",
    "\n",
    "![picture](./images/Pie-I-have-Eaten.jpg)\n",
    "\n",
    "from [Flowing Data](https://i1.wp.com/flowingdata.com/wp-content/uploads/2008/09/Pie-I-have-Eaten.jpg)"
   ]
  },
  {
   "cell_type": "markdown",
   "metadata": {},
   "source": [
    "********************\n",
    "\n",
    "### What's wrong with these graphs?\n",
    "\n",
    "![Picture](./images/unemployment-rate.jpg)\n",
    "\n",
    "[Business Insider](https://amp.businessinsider.com/images/51cb26c469beddf14c000015-750-453.jpg)\n",
    "\n",
    "![Picture](./images/candidates-pie.png)\n",
    "\n",
    "[Flowing Data](http://flowingdata.com/wp-content/uploads/yapb_cache/app15725951258947184.acq6gmp0hf4sowckg80ssc8wg.2xne1totli0w8s8k0o44cs0wc.th.png)\n",
    "\n",
    "![Picture](./images/130207SuperBowlPoll.jpg)\n",
    "\n",
    "[Flowing Data](https://i0.wp.com/flowingdata.com/wp-content/uploads/2013/03/130207SuperBowlPoll.jpg?fit=500%2C430&ssl=1)\n"
   ]
  },
  {
   "cell_type": "markdown",
   "metadata": {},
   "source": [
    "## What was wrong with these graphs?\n",
    "\n",
    "1. Mislabeled/Missing axes\n",
    "2. Plotted wrong\n",
    "3. Hard to read\n",
    "4. Numbers don't add to 100%\n",
    "5. Wrong data shown"
   ]
  },
  {
   "cell_type": "markdown",
   "metadata": {},
   "source": [
    "The video below goes through several examples of bad/misleading graphs (some of them shown in this notebook) and why they are not good representations of the original data."
   ]
  },
  {
   "cell_type": "code",
   "execution_count": 6,
   "metadata": {},
   "outputs": [
    {
     "data": {
      "image/jpeg": "[encoded data removed]",
      "text/html": [
       "\n",
       "<iframe\n",
       "    width=\"400\"\n",
       "    height=\"300\"\n",
       "    src=\"https://www.youtube.com/embed/1F7gm_BG0iQ\"\n",
       "    frameborder=\"0\"\n",
       "    allowfullscreen\n",
       "></iframe>\n"
      ],
      "text/plain": [
       "<IPython.lib.display.YouTubeVideo at 0x7fd36e723750>"
      ]
     },
     "execution_count": 6,
     "metadata": {
      "filenames": {
       "image/jpeg": "/home/mikel/Documents/curriculum-jbook-local/_build/jupyter_execute/curriculum-notebooks/Mathematics/DataRepresentation/data-representation_19_0.jpeg"
      }
     },
     "output_type": "execute_result"
    }
   ],
   "source": [
    "hide_me\n",
    "\n",
    "YouTubeVideo('1F7gm_BG0iQ')"
   ]
  },
  {
   "cell_type": "markdown",
   "metadata": {},
   "source": [
    "*************\n",
    "\n",
    "## Practice Questions\n",
    "\n",
    "### Question 1\n",
    "\n",
    "A group of kids was asked **what they do first** when they get home from school. The data are shown in the table below. [Data source here](http://www.ur.umich.edu/9900/Apr03_00/7.htm)\n",
    "\n",
    "| Activity        | Percent|\n",
    "|-----------------|-----|\n",
    "|   Eat           | 27% |\n",
    "|   Personal Care | 19% |\n",
    "|   Watch TV      | 15% |\n",
    "|   Study         | 13% |\n",
    "|   Play          | 9%  |\n",
    "|   Other         | 17% |"
   ]
  },
  {
   "cell_type": "code",
   "execution_count": 7,
   "metadata": {},
   "outputs": [
    {
     "name": "stdout",
     "output_type": "stream",
     "text": [
      "What would be the best graph to display this set of data?\n"
     ]
    },
    {
     "data": {
      "application/vnd.jupyter.widget-view+json": {
       "model_id": "e03dc8a1d2f44b339fe7409341500464",
       "version_major": 2,
       "version_minor": 0
      },
      "text/plain": [
       "RadioButtons(description='Answer:', options=('', 'circle graph', 'line graph', 'bar graph', 'pictograph'), val…"
      ]
     },
     "metadata": {},
     "output_type": "display_data"
    }
   ],
   "source": [
    "hide_me\n",
    "\n",
    "answer = widgets.RadioButtons(options=['','circle graph', 'line graph', 'bar graph', 'pictograph'],\n",
    "                              value='', description='Answer:')\n",
    "labels = ['Eat', 'Personal Care', 'Watch TV', 'Study', 'Play', 'Other']\n",
    "data = [0.27, 0.19, 0.15, 0.13, 0.09, 0.17]\n",
    "\n",
    "def display():\n",
    "    print('What would be the best graph to display this set of data?')\n",
    "    IPython.display.display(answer)\n",
    "\n",
    "def check(a):\n",
    "    IPython.display.clear_output(wait=False)\n",
    "    display()\n",
    "    if answer.value == 'circle graph':\n",
    "        print(\"Correct! Circle graphs are used for percentages.\")\n",
    "        print(\"Let's see this data in a circle graph.\")\n",
    "        patches, texts = plt.pie(data, labels=labels)\n",
    "        plt.axis('equal')\n",
    "        plt.tight_layout()\n",
    "        plt.show()\n",
    "    else:\n",
    "        if answer.value == 'bar graph':\n",
    "            print(\"A Bar graph would work, but there's a better option. Try again.\")\n",
    "        else:\n",
    "            if answer.value == 'line graph':\n",
    "                print(\"Line graphs are good for change over time, not percentages. Try again.\")\n",
    "            else:\n",
    "                print(\"A pictograph would work if the data was in amounts instead of percentages. Try again.\")\n",
    "\n",
    "display()\n",
    "answer.observe(check, 'value')"
   ]
  },
  {
   "cell_type": "markdown",
   "metadata": {},
   "source": [
    "### Question 2\n",
    "\n",
    "A group of kids was asked **how much time** they spend doing different activities after school.  The data are shown in the table below. [Data source here](http://www.ur.umich.edu/9900/Apr03_00/7.htm)\n",
    "\n",
    "| Activity        | Time spent (minutes)|\n",
    "|-----------------|-----|\n",
    "|   Reading       | 30  |\n",
    "|  Chores         | 30  |\n",
    "|   Watch TV      | 100 |\n",
    "|   Study         | 60  |\n",
    "|   Play          | 74  |\n",
    "|   Sports        | 60  |"
   ]
  },
  {
   "cell_type": "code",
   "execution_count": 8,
   "metadata": {},
   "outputs": [
    {
     "name": "stdout",
     "output_type": "stream",
     "text": [
      "What would be the best graph to display this set of data?\n"
     ]
    },
    {
     "data": {
      "application/vnd.jupyter.widget-view+json": {
       "model_id": "e29d94fed8a049419308a021e085ff7e",
       "version_major": 2,
       "version_minor": 0
      },
      "text/plain": [
       "RadioButtons(description='Answer:', options=('', 'circle graph', 'line graph', 'bar graph', 'pictograph'), val…"
      ]
     },
     "metadata": {},
     "output_type": "display_data"
    }
   ],
   "source": [
    "hide_me\n",
    "\n",
    "answer2 = widgets.RadioButtons(options=['','circle graph', 'line graph', 'bar graph', 'pictograph'],\n",
    "                              value='', description='Answer:')\n",
    "labels2 = ['Reading', 'Chores', 'Watch TV', 'Study', 'Play', 'Sports']\n",
    "data2 = [30, 30, 100, 60, 74, 60]\n",
    "x = np.arange(len(data2))\n",
    "\n",
    "def display2():\n",
    "    print('What would be the best graph to display this set of data?')\n",
    "    IPython.display.display(answer2)\n",
    "\n",
    "def check(a):\n",
    "    IPython.display.clear_output(wait=False)\n",
    "    display2()\n",
    "    if answer2.value == 'circle graph':\n",
    "        print(\"A circle graph is used for percentages. Try again.\")\n",
    "    else:\n",
    "        if answer2.value == 'bar graph':\n",
    "            print(\"Correct! A bar graph shows the relation between both parameters in an easy to read format.\")\n",
    "            print(\"Let's see what that looks like.\")\n",
    "            plt.bar(x, data2, width = .3)\n",
    "            plt.xticks(x, labels2)\n",
    "            plt.ylabel('Time in Minutes')\n",
    "            plt.title('Time Spent on Afterschool Activities')\n",
    "            plt.show()\n",
    "        else:\n",
    "            if answer2.value == 'line graph':\n",
    "                print(\"Line graphs are good for change over time. Try again.\")\n",
    "            else:\n",
    "                print(\"A pictograph would work, but there's a better option to be more accurate. Try again.\")\n",
    "\n",
    "display2()\n",
    "answer2.observe(check, 'value')"
   ]
  },
  {
   "cell_type": "markdown",
   "metadata": {},
   "source": [
    "Now that we have seen many examples of both good and bad graphs, let's look at [the worst graphs in science literature](https://www.biostat.wisc.edu/~kbroman/topten_worstgraphs/) and try to figure out why each graph is on the list.\n",
    "\n",
    "(You can click on a graph to make it bigger.  See if you can point out the flaws in these graphs on your own, then click the \"Discussion\" links to learn what's wrong with each graph and why it made it to the list!)"
   ]
  },
  {
   "cell_type": "markdown",
   "metadata": {},
   "source": [
    "*Even top academic institutions sometimes produce images that, while they might look impressive, do very little to help us understand the numbers involved in an issue. Try to figure out what's wrong with these\n",
    "[infographics from Princeton](http://www.princeton.edu/~ina/infographics/index.html) on your own.*"
   ]
  },
  {
   "cell_type": "markdown",
   "metadata": {},
   "source": [
    "## What have we learned?\n",
    "\n",
    "In this notebook, we have learned:\n",
    "\n",
    "* Graphs are great at conveying numerical information\n",
    "* Not all types of graphs are created equal\n",
    "* Graphs can be manipulated to be misleading\n",
    "* How to identify misleading parts of graphs \n",
    "* There are steps to create truthful graphs\n",
    "\n",
    "With this knowledge, you are able to be more informed when you see any kind of data displayed in a graph. You are also able to create truthful graphs of your own. Keep trying to identify good and bad graphs in your every day life."
   ]
  },
  {
   "cell_type": "markdown",
   "metadata": {},
   "source": [
    "[![Callysto.ca License](https://github.com/callysto/curriculum-notebooks/blob/master/callysto-notebook-banner-bottom.jpg?raw=true)](https://github.com/callysto/curriculum-notebooks/blob/master/LICENSE.md)"
   ]
  }
 ],
 "metadata": {
  "kernelspec": {
   "display_name": "Python 3",
   "language": "python",
   "name": "python3"
  },
  "language_info": {
   "codemirror_mode": {
    "name": "ipython",
    "version": 3
   },
   "file_extension": ".py",
   "mimetype": "text/x-python",
   "name": "python",
   "nbconvert_exporter": "python",
   "pygments_lexer": "ipython3",
   "version": "3.7.4"
  },
  "widgets": {
   "application/vnd.jupyter.widget-state+json": {
    "state": {
     "02d8fdbf9cbc4fc68db1d8d35bf9d23e": {
      "model_module": "@jupyter-widgets/controls",
      "model_module_version": "1.5.0",
      "model_name": "DescriptionStyleModel",
      "state": {
       "_model_module": "@jupyter-widgets/controls",
       "_model_module_version": "1.5.0",
       "_model_name": "DescriptionStyleModel",
       "_view_count": null,
       "_view_module": "@jupyter-widgets/base",
       "_view_module_version": "1.2.0",
       "_view_name": "StyleView",
       "description_width": ""
      }
     },
     "12111d65d0a548f091998e9ab061a83a": {
      "model_module": "@jupyter-widgets/controls",
      "model_module_version": "1.5.0",
      "model_name": "IntSliderModel",
      "state": {
       "_dom_classes": [],
       "_model_module": "@jupyter-widgets/controls",
       "_model_module_version": "1.5.0",
       "_model_name": "IntSliderModel",
       "_view_count": null,
       "_view_module": "@jupyter-widgets/controls",
       "_view_module_version": "1.5.0",
       "_view_name": "IntSliderView",
       "continuous_update": true,
       "description": "yaxis",
       "description_tooltip": null,
       "disabled": false,
       "layout": "IPY_MODEL_bafc5471ca0046d6819eb23c0c6d0df8",
       "max": 90,
       "min": 0,
       "orientation": "horizontal",
       "readout": true,
       "readout_format": "d",
       "step": 1,
       "style": "IPY_MODEL_15fb9e2eeaec49f1b06345e1504a7620",
       "value": 90
      }
     },
     "15fb9e2eeaec49f1b06345e1504a7620": {
      "model_module": "@jupyter-widgets/controls",
      "model_module_version": "1.5.0",
      "model_name": "SliderStyleModel",
      "state": {
       "_model_module": "@jupyter-widgets/controls",
       "_model_module_version": "1.5.0",
       "_model_name": "SliderStyleModel",
       "_view_count": null,
       "_view_module": "@jupyter-widgets/base",
       "_view_module_version": "1.2.0",
       "_view_name": "StyleView",
       "description_width": "",
       "handle_color": null
      }
     },
     "21d7f420a7da466d80e0197f2076aad0": {
      "model_module": "@jupyter-widgets/base",
      "model_module_version": "1.2.0",
      "model_name": "LayoutModel",
      "state": {
       "_model_module": "@jupyter-widgets/base",
       "_model_module_version": "1.2.0",
       "_model_name": "LayoutModel",
       "_view_count": null,
       "_view_module": "@jupyter-widgets/base",
       "_view_module_version": "1.2.0",
       "_view_name": "LayoutView",
       "align_content": null,
       "align_items": null,
       "align_self": null,
       "border": null,
       "bottom": null,
       "display": null,
       "flex": null,
       "flex_flow": null,
       "grid_area": null,
       "grid_auto_columns": null,
       "grid_auto_flow": null,
       "grid_auto_rows": null,
       "grid_column": null,
       "grid_gap": null,
       "grid_row": null,
       "grid_template_areas": null,
       "grid_template_columns": null,
       "grid_template_rows": null,
       "height": null,
       "justify_content": null,
       "justify_items": null,
       "left": null,
       "margin": null,
       "max_height": null,
       "max_width": null,
       "min_height": null,
       "min_width": null,
       "object_fit": null,
       "object_position": null,
       "order": null,
       "overflow": null,
       "overflow_x": null,
       "overflow_y": null,
       "padding": null,
       "right": null,
       "top": null,
       "visibility": null,
       "width": null
      }
     },
     "2d7b41feb19948aca44e1676f360eb17": {
      "model_module": "@jupyter-widgets/controls",
      "model_module_version": "1.5.0",
      "model_name": "VBoxModel",
      "state": {
       "_dom_classes": [
        "widget-interact"
       ],
       "_model_module": "@jupyter-widgets/controls",
       "_model_module_version": "1.5.0",
       "_model_name": "VBoxModel",
       "_view_count": null,
       "_view_module": "@jupyter-widgets/controls",
       "_view_module_version": "1.5.0",
       "_view_name": "VBoxView",
       "box_style": "",
       "children": [
        "IPY_MODEL_12111d65d0a548f091998e9ab061a83a",
        "IPY_MODEL_ddfa4d0f21e947bd81654329a6e815e9"
       ],
       "layout": "IPY_MODEL_21d7f420a7da466d80e0197f2076aad0"
      }
     },
     "3a2d182b7c2f4194a55e4b4679966147": {
      "model_module": "@jupyter-widgets/base",
      "model_module_version": "1.2.0",
      "model_name": "LayoutModel",
      "state": {
       "_model_module": "@jupyter-widgets/base",
       "_model_module_version": "1.2.0",
       "_model_name": "LayoutModel",
       "_view_count": null,
       "_view_module": "@jupyter-widgets/base",
       "_view_module_version": "1.2.0",
       "_view_name": "LayoutView",
       "align_content": null,
       "align_items": null,
       "align_self": null,
       "border": null,
       "bottom": null,
       "display": null,
       "flex": null,
       "flex_flow": null,
       "grid_area": null,
       "grid_auto_columns": null,
       "grid_auto_flow": null,
       "grid_auto_rows": null,
       "grid_column": null,
       "grid_gap": null,
       "grid_row": null,
       "grid_template_areas": null,
       "grid_template_columns": null,
       "grid_template_rows": null,
       "height": null,
       "justify_content": null,
       "justify_items": null,
       "left": null,
       "margin": null,
       "max_height": null,
       "max_width": null,
       "min_height": null,
       "min_width": null,
       "object_fit": null,
       "object_position": null,
       "order": null,
       "overflow": null,
       "overflow_x": null,
       "overflow_y": null,
       "padding": null,
       "right": null,
       "top": null,
       "visibility": null,
       "width": null
      }
     },
     "470bb2f6871646e2812d942a3ffb2034": {
      "model_module": "@jupyter-widgets/controls",
      "model_module_version": "1.5.0",
      "model_name": "SelectionSliderModel",
      "state": {
       "_dom_classes": [],
       "_model_module": "@jupyter-widgets/controls",
       "_model_module_version": "1.5.0",
       "_model_name": "SelectionSliderModel",
       "_options_labels": [
        "original",
        "fixed"
       ],
       "_view_count": null,
       "_view_module": "@jupyter-widgets/controls",
       "_view_module_version": "1.5.0",
       "_view_name": "SelectionSliderView",
       "continuous_update": true,
       "description": "Slide to fix",
       "description_tooltip": null,
       "disabled": false,
       "index": 0,
       "layout": "IPY_MODEL_3a2d182b7c2f4194a55e4b4679966147",
       "orientation": "horizontal",
       "readout": true,
       "style": "IPY_MODEL_02d8fdbf9cbc4fc68db1d8d35bf9d23e"
      }
     },
     "57fc2333b8574a23a75adbe5ff3fd00e": {
      "model_module": "@jupyter-widgets/controls",
      "model_module_version": "1.5.0",
      "model_name": "DescriptionStyleModel",
      "state": {
       "_model_module": "@jupyter-widgets/controls",
       "_model_module_version": "1.5.0",
       "_model_name": "DescriptionStyleModel",
       "_view_count": null,
       "_view_module": "@jupyter-widgets/base",
       "_view_module_version": "1.2.0",
       "_view_name": "StyleView",
       "description_width": ""
      }
     },
     "61df0183959c4520b46463bac1a28845": {
      "model_module": "@jupyter-widgets/base",
      "model_module_version": "1.2.0",
      "model_name": "LayoutModel",
      "state": {
       "_model_module": "@jupyter-widgets/base",
       "_model_module_version": "1.2.0",
       "_model_name": "LayoutModel",
       "_view_count": null,
       "_view_module": "@jupyter-widgets/base",
       "_view_module_version": "1.2.0",
       "_view_name": "LayoutView",
       "align_content": null,
       "align_items": null,
       "align_self": null,
       "border": null,
       "bottom": null,
       "display": null,
       "flex": null,
       "flex_flow": null,
       "grid_area": null,
       "grid_auto_columns": null,
       "grid_auto_flow": null,
       "grid_auto_rows": null,
       "grid_column": null,
       "grid_gap": null,
       "grid_row": null,
       "grid_template_areas": null,
       "grid_template_columns": null,
       "grid_template_rows": null,
       "height": null,
       "justify_content": null,
       "justify_items": null,
       "left": null,
       "margin": null,
       "max_height": null,
       "max_width": null,
       "min_height": null,
       "min_width": null,
       "object_fit": null,
       "object_position": null,
       "order": null,
       "overflow": null,
       "overflow_x": null,
       "overflow_y": null,
       "padding": null,
       "right": null,
       "top": null,
       "visibility": null,
       "width": null
      }
     },
     "697cf27ef201404b8ce3e2b39e73c541": {
      "model_module": "@jupyter-widgets/controls",
      "model_module_version": "1.5.0",
      "model_name": "CheckboxModel",
      "state": {
       "_dom_classes": [],
       "_model_module": "@jupyter-widgets/controls",
       "_model_module_version": "1.5.0",
       "_model_name": "CheckboxModel",
       "_view_count": null,
       "_view_module": "@jupyter-widgets/controls",
       "_view_module_version": "1.5.0",
       "_view_name": "CheckboxView",
       "description": "Display",
       "description_tooltip": null,
       "disabled": false,
       "indent": true,
       "layout": "IPY_MODEL_61df0183959c4520b46463bac1a28845",
       "style": "IPY_MODEL_ff0893b07b50419b8e6c006be8f18643",
       "value": false
      }
     },
     "778e564e831e4707bfc6d310584c6ef8": {
      "model_module": "@jupyter-widgets/base",
      "model_module_version": "1.2.0",
      "model_name": "LayoutModel",
      "state": {
       "_model_module": "@jupyter-widgets/base",
       "_model_module_version": "1.2.0",
       "_model_name": "LayoutModel",
       "_view_count": null,
       "_view_module": "@jupyter-widgets/base",
       "_view_module_version": "1.2.0",
       "_view_name": "LayoutView",
       "align_content": null,
       "align_items": null,
       "align_self": null,
       "border": null,
       "bottom": null,
       "display": null,
       "flex": null,
       "flex_flow": null,
       "grid_area": null,
       "grid_auto_columns": null,
       "grid_auto_flow": null,
       "grid_auto_rows": null,
       "grid_column": null,
       "grid_gap": null,
       "grid_row": null,
       "grid_template_areas": null,
       "grid_template_columns": null,
       "grid_template_rows": null,
       "height": null,
       "justify_content": null,
       "justify_items": null,
       "left": null,
       "margin": null,
       "max_height": null,
       "max_width": null,
       "min_height": null,
       "min_width": null,
       "object_fit": null,
       "object_position": null,
       "order": null,
       "overflow": null,
       "overflow_x": null,
       "overflow_y": null,
       "padding": null,
       "right": null,
       "top": null,
       "visibility": null,
       "width": null
      }
     },
     "961dcd7a3e5744a5b4375c36f65f5169": {
      "model_module": "@jupyter-widgets/base",
      "model_module_version": "1.2.0",
      "model_name": "LayoutModel",
      "state": {
       "_model_module": "@jupyter-widgets/base",
       "_model_module_version": "1.2.0",
       "_model_name": "LayoutModel",
       "_view_count": null,
       "_view_module": "@jupyter-widgets/base",
       "_view_module_version": "1.2.0",
       "_view_name": "LayoutView",
       "align_content": null,
       "align_items": null,
       "align_self": null,
       "border": null,
       "bottom": null,
       "display": null,
       "flex": null,
       "flex_flow": null,
       "grid_area": null,
       "grid_auto_columns": null,
       "grid_auto_flow": null,
       "grid_auto_rows": null,
       "grid_column": null,
       "grid_gap": null,
       "grid_row": null,
       "grid_template_areas": null,
       "grid_template_columns": null,
       "grid_template_rows": null,
       "height": null,
       "justify_content": null,
       "justify_items": null,
       "left": null,
       "margin": null,
       "max_height": null,
       "max_width": null,
       "min_height": null,
       "min_width": null,
       "object_fit": null,
       "object_position": null,
       "order": null,
       "overflow": null,
       "overflow_x": null,
       "overflow_y": null,
       "padding": null,
       "right": null,
       "top": null,
       "visibility": null,
       "width": null
      }
     },
     "9f166f0a1dd5435189efb9fddbbaf102": {
      "model_module": "@jupyter-widgets/base",
      "model_module_version": "1.2.0",
      "model_name": "LayoutModel",
      "state": {
       "_model_module": "@jupyter-widgets/base",
       "_model_module_version": "1.2.0",
       "_model_name": "LayoutModel",
       "_view_count": null,
       "_view_module": "@jupyter-widgets/base",
       "_view_module_version": "1.2.0",
       "_view_name": "LayoutView",
       "align_content": null,
       "align_items": null,
       "align_self": null,
       "border": null,
       "bottom": null,
       "display": null,
       "flex": null,
       "flex_flow": null,
       "grid_area": null,
       "grid_auto_columns": null,
       "grid_auto_flow": null,
       "grid_auto_rows": null,
       "grid_column": null,
       "grid_gap": null,
       "grid_row": null,
       "grid_template_areas": null,
       "grid_template_columns": null,
       "grid_template_rows": null,
       "height": null,
       "justify_content": null,
       "justify_items": null,
       "left": null,
       "margin": null,
       "max_height": null,
       "max_width": null,
       "min_height": null,
       "min_width": null,
       "object_fit": null,
       "object_position": null,
       "order": null,
       "overflow": null,
       "overflow_x": null,
       "overflow_y": null,
       "padding": null,
       "right": null,
       "top": null,
       "visibility": null,
       "width": null
      }
     },
     "bafc5471ca0046d6819eb23c0c6d0df8": {
      "model_module": "@jupyter-widgets/base",
      "model_module_version": "1.2.0",
      "model_name": "LayoutModel",
      "state": {
       "_model_module": "@jupyter-widgets/base",
       "_model_module_version": "1.2.0",
       "_model_name": "LayoutModel",
       "_view_count": null,
       "_view_module": "@jupyter-widgets/base",
       "_view_module_version": "1.2.0",
       "_view_name": "LayoutView",
       "align_content": null,
       "align_items": null,
       "align_self": null,
       "border": null,
       "bottom": null,
       "display": null,
       "flex": null,
       "flex_flow": null,
       "grid_area": null,
       "grid_auto_columns": null,
       "grid_auto_flow": null,
       "grid_auto_rows": null,
       "grid_column": null,
       "grid_gap": null,
       "grid_row": null,
       "grid_template_areas": null,
       "grid_template_columns": null,
       "grid_template_rows": null,
       "height": null,
       "justify_content": null,
       "justify_items": null,
       "left": null,
       "margin": null,
       "max_height": null,
       "max_width": null,
       "min_height": null,
       "min_width": null,
       "object_fit": null,
       "object_position": null,
       "order": null,
       "overflow": null,
       "overflow_x": null,
       "overflow_y": null,
       "padding": null,
       "right": null,
       "top": null,
       "visibility": null,
       "width": null
      }
     },
     "ddfa4d0f21e947bd81654329a6e815e9": {
      "model_module": "@jupyter-widgets/output",
      "model_module_version": "1.0.0",
      "model_name": "OutputModel",
      "state": {
       "_dom_classes": [],
       "_model_module": "@jupyter-widgets/output",
       "_model_module_version": "1.0.0",
       "_model_name": "OutputModel",
       "_view_count": null,
       "_view_module": "@jupyter-widgets/output",
       "_view_module_version": "1.0.0",
       "_view_name": "OutputView",
       "layout": "IPY_MODEL_9f166f0a1dd5435189efb9fddbbaf102",
       "msg_id": "",
       "outputs": [
        {
         "data": {
          "image/png": "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\n",
          "text/plain": "<Figure size 720x288 with 1 Axes>"
         },
         "metadata": {
          "needs_background": "light"
         },
         "output_type": "display_data"
        }
       ]
      }
     },
     "e03dc8a1d2f44b339fe7409341500464": {
      "model_module": "@jupyter-widgets/controls",
      "model_module_version": "1.5.0",
      "model_name": "RadioButtonsModel",
      "state": {
       "_dom_classes": [],
       "_model_module": "@jupyter-widgets/controls",
       "_model_module_version": "1.5.0",
       "_model_name": "RadioButtonsModel",
       "_options_labels": [
        "",
        "circle graph",
        "line graph",
        "bar graph",
        "pictograph"
       ],
       "_view_count": null,
       "_view_module": "@jupyter-widgets/controls",
       "_view_module_version": "1.5.0",
       "_view_name": "RadioButtonsView",
       "description": "Answer:",
       "description_tooltip": null,
       "disabled": false,
       "index": 0,
       "layout": "IPY_MODEL_778e564e831e4707bfc6d310584c6ef8",
       "style": "IPY_MODEL_57fc2333b8574a23a75adbe5ff3fd00e"
      }
     },
     "e29d94fed8a049419308a021e085ff7e": {
      "model_module": "@jupyter-widgets/controls",
      "model_module_version": "1.5.0",
      "model_name": "RadioButtonsModel",
      "state": {
       "_dom_classes": [],
       "_model_module": "@jupyter-widgets/controls",
       "_model_module_version": "1.5.0",
       "_model_name": "RadioButtonsModel",
       "_options_labels": [
        "",
        "circle graph",
        "line graph",
        "bar graph",
        "pictograph"
       ],
       "_view_count": null,
       "_view_module": "@jupyter-widgets/controls",
       "_view_module_version": "1.5.0",
       "_view_name": "RadioButtonsView",
       "description": "Answer:",
       "description_tooltip": null,
       "disabled": false,
       "index": 0,
       "layout": "IPY_MODEL_961dcd7a3e5744a5b4375c36f65f5169",
       "style": "IPY_MODEL_eb0740eda8ae4672b839520c4074db03"
      }
     },
     "eb0740eda8ae4672b839520c4074db03": {
      "model_module": "@jupyter-widgets/controls",
      "model_module_version": "1.5.0",
      "model_name": "DescriptionStyleModel",
      "state": {
       "_model_module": "@jupyter-widgets/controls",
       "_model_module_version": "1.5.0",
       "_model_name": "DescriptionStyleModel",
       "_view_count": null,
       "_view_module": "@jupyter-widgets/base",
       "_view_module_version": "1.2.0",
       "_view_name": "StyleView",
       "description_width": ""
      }
     },
     "ff0893b07b50419b8e6c006be8f18643": {
      "model_module": "@jupyter-widgets/controls",
      "model_module_version": "1.5.0",
      "model_name": "DescriptionStyleModel",
      "state": {
       "_model_module": "@jupyter-widgets/controls",
       "_model_module_version": "1.5.0",
       "_model_name": "DescriptionStyleModel",
       "_view_count": null,
       "_view_module": "@jupyter-widgets/base",
       "_view_module_version": "1.2.0",
       "_view_name": "StyleView",
       "description_width": ""
      }
     }
    },
    "version_major": 2,
    "version_minor": 0
   }
  }
 },
 "nbformat": 4,
 "nbformat_minor": 2
}