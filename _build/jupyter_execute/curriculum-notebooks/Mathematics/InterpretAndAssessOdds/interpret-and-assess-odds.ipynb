{
 "cells": [
  {
   "cell_type": "markdown",
   "metadata": {},
   "source": [
    "![Callysto.ca Banner](https://github.com/callysto/curriculum-notebooks/blob/master/callysto-notebook-banner-top.jpg?raw=true)\n",
    "\n",
    "<a href=\"https://hub.callysto.ca/jupyter/hub/user-redirect/git-pull?repo=https%3A%2F%2Fgithub.com%2Fcallysto%2Fcurriculum-notebooks&branch=master&subPath=Mathematics/InterpretAndAssessOdds/interpret-and-assess-odds.ipynb&depth=1\" target=\"_parent\"><img src=\"https://raw.githubusercontent.com/callysto/curriculum-notebooks/master/open-in-callysto-button.svg?sanitize=true\" width=\"123\" height=\"24\" alt=\"Open in Callysto\"/></a>"
   ]
  },
  {
   "cell_type": "code",
   "execution_count": 1,
   "metadata": {
    "hidden": false
   },
   "outputs": [
    {
     "data": {
      "text/html": [
       "<script type=\"text/javascript\">\n",
       "window.PlotlyConfig = {MathJaxConfig: 'local'};\n",
       "if (window.MathJax) {MathJax.Hub.Config({SVG: {font: \"STIX-Web\"}});}\n",
       "if (typeof require !== 'undefined') {\n",
       "require.undef(\"plotly\");\n",
       "requirejs.config({\n",
       "    paths: {\n",
       "        'plotly': ['https://cdn.plot.ly/plotly-latest.min']\n",
       "    }\n",
       "});\n",
       "require(['plotly'], function(Plotly) {\n",
       "    window._Plotly = Plotly;\n",
       "});\n",
       "}\n",
       "</script>\n"
      ]
     },
     "metadata": {},
     "output_type": "display_data"
    },
    {
     "data": {
      "text/html": [
       "<script>\n",
       "  function code_toggle() {\n",
       "    if (code_shown){\n",
       "      $('div.input').hide('500');\n",
       "      $('#toggleButton').val('Show Code')\n",
       "    } else {\n",
       "      $('div.input').show('500');\n",
       "      $('#toggleButton').val('Hide Code')\n",
       "    }\n",
       "    code_shown = !code_shown\n",
       "  }\n",
       "\n",
       "  $( document ).ready(function(){\n",
       "    code_shown=false;\n",
       "    $('div.input').hide()\n",
       "  });\n",
       "</script>\n",
       "<form action=\"javascript:code_toggle()\"><input type=\"submit\" id=\"toggleButton\" value=\"Show Code\"></form>"
      ],
      "text/plain": [
       "<IPython.core.display.HTML object>"
      ]
     },
     "execution_count": 1,
     "metadata": {},
     "output_type": "execute_result"
    }
   ],
   "source": [
    "import numpy as np\n",
    "import pandas as pd\n",
    "import matplotlib.pyplot as plt\n",
    "from IPython.display import display, Math, Latex, HTML, clear_output, Markdown, Javascript, clear_output\n",
    "import ipywidgets as widgets\n",
    "from ipywidgets import interact, FloatSlider, IntSlider, interactive, Layout, ButtonStyle, HBox\n",
    "from traitlets import traitlets\n",
    "\n",
    "\n",
    "import plotly as py\n",
    "import plotly.graph_objs as go\n",
    "from plotly.offline import download_plotlyjs, init_notebook_mode, plot, iplot\n",
    "init_notebook_mode(connected=True)\n",
    "\n",
    "\n",
    "\n",
    "HTML('''<script>\n",
    "  function code_toggle() {\n",
    "    if (code_shown){\n",
    "      $('div.input').hide('500');\n",
    "      $('#toggleButton').val('Show Code')\n",
    "    } else {\n",
    "      $('div.input').show('500');\n",
    "      $('#toggleButton').val('Hide Code')\n",
    "    }\n",
    "    code_shown = !code_shown\n",
    "  }\n",
    "  \n",
    "  $( document ).ready(function(){\n",
    "    code_shown=false;\n",
    "    $('div.input').hide()\n",
    "  });\n",
    "</script>\n",
    "<form action=\"javascript:code_toggle()\"><input type=\"submit\" id=\"toggleButton\" value=\"Show Code\"></form>''')"
   ]
  },
  {
   "cell_type": "code",
   "execution_count": 2,
   "metadata": {
    "hidden": false
   },
   "outputs": [],
   "source": [
    "# Function: executes next cell on button widget click event \n",
    "\n",
    "def run_cells(ev):\n",
    "    \n",
    "    display(Javascript('IPython.notebook.execute_cell_range(IPython.notebook.get_selected_index()+1,IPython.notebook.get_selected_index()+2)'))\n",
    "    return"
   ]
  },
  {
   "cell_type": "markdown",
   "metadata": {
    "hidden": false
   },
   "source": [
    "# Interpret and Assess the Odds\n",
    "    \n",
    "## and the validity of a probability statement\n",
    "---\n",
    "\n",
    "In this Jupyter Notebook, you will be looking at examples of probabilistic statements that we encounter in our daily lives and some errors in our judgment that can arise when we try to reason with probabilistic statements. We will be looking at:\n",
    "\n",
    "- Examples of statements of probability and odds.\n",
    "- Expressing odds as a probability and vice versa.\n",
    "- Determining the probability of, or the odds on and against, an outcome in a situation.\n",
    "- Explain, using examples, how decisions may be based on probability or odds and on subjective judgments.\n",
    "- Solving a contextual problem that involves odds or probability.\n"
   ]
  },
  {
   "cell_type": "markdown",
   "metadata": {
    "hidden": false
   },
   "source": [
    "## Probability and Odds\n",
    "\n",
    "Let's begin with some definitions. Having a clear understanding of these definitions will help with the rest of the notebook, as these concepts will be used often. \n",
    "\n",
    "<div class=\"alert alert-warning\">\n",
    "<font color=\"black\"><b>Event:</b> \n",
    "An outcome of an experiment. These are the outcomes that are possible. \n",
    "</div>\n",
    "\n",
    "For example, when rolling a die, the possible events are the die landing on the numbers $1-6$.\n",
    "\n",
    "<div class=\"alert alert-warning\">\n",
    "<font color=\"black\"><b>Probability:</b> \n",
    "The likelihood that an event will occur. In a very large amount of trials, it is the fraction of times you expect the event to happen. This is expressed as a number between $0$ and $1$, with $1$ being $100$% likelihood.  \n",
    "</div>\n",
    "\n",
    "For example, after a large number of coin flips you would expect a properly weighted coin to land on heads half of the time. Therefore the probability of said event is $0.5$.\n",
    "\n",
    "<div class=\"alert alert-warning\">\n",
    "<font color=\"black\"><b>Odds:</b> \n",
    "The odds of an event $X$ is expressed as a ratio $X$ to $Y$. This the ratio between the probability that the event will occur and the probability that it will not occur. \n",
    "</div>\n",
    "\n",
    "For example, what are the odds of rolling a $1$ for a fair die? \n",
    "\n",
    "Well, the probability of rolling a $1$ is $(\\frac{1}{6})$ and the probability of not rolling a $1$ is $1-(\\frac{1}{6}) = (\\frac{5}{6})$ . Therefore the odds are: <br>\n",
    " <br>\n",
    "     \n",
    "<center>$\\frac{1}{6}:\\frac{5}{6} = 1:5$</center>\n",
    "\n",
    "**Note**: You would express the probability of an event *not* happening as: $1-p$, where $p$ is the probability of the event occurring. It will be useful to think in the negative case sometimes. "
   ]
  },
  {
   "cell_type": "markdown",
   "metadata": {
    "hidden": false
   },
   "source": [
    "### Different types of Odds\n",
    "\n",
    "<div class=\"alert alert-warning\">\n",
    "<font color=\"black\"><b>Odds Against:</b> \n",
    "This happens when the probability of the event not happening are higher than the event happening. Odds against are expressed with the larger number first.\n",
    "</div>\n",
    "    \n",
    "For example, the odds against rolling a 1 on a fair dice are 5:1.\n",
    "\n",
    "<div class=\"alert alert-warning\">\n",
    "<font color=\"black\"><b>Odds-on:</b> \n",
    "These are the opposite of odds against, (i.e. The probability of the event happening are greater than it not happening).\n",
    "</div>\n",
    "    \n",
    "For example, the odds for rolling an even number or a 1 on a fair dice is 4:2\n",
    "\n",
    "<div class=\"alert alert-warning\">\n",
    "<font color=\"black\"><b>Even Odds:</b> \n",
    "This occurs when the probability of an event happening is equal to that of the event not happening. \n",
    "</div>\n",
    "    \n",
    "For example, tossing a fair coin as an even odds of landing on heads or tails. \n",
    "\n",
    "### Dependent vs. Independent Events\n",
    "\n",
    "\n",
    "<div class=\"alert alert-warning\">\n",
    "<font color=\"black\"><b>Independent Events:</b> \n",
    "Events that, if they occurs, do not influence the likelihood of any other event happening.  \n",
    "</div>\n",
    "\n",
    "For example, tossing a coin. The fact that one coin toss lands on heads does not affect the probability of the next coin toss. \n",
    "\n",
    "<div class=\"alert alert-warning\">\n",
    "<font color=\"black\"><b>Dependent Events:</b> \n",
    "Events that, if they occurs, change the future probability of the other events happening. \n",
    "</div>\n",
    "\n",
    "The most classic example is pulling cards at random from a deck of cards. If you take a card out and don't put it back in, then there are fewer cards in the deck. If you pulled an *ace of spades* from a standard deck of cards, with probability $(\\frac{1}{52})$, the probability of pulling an *ace of hearts* is now $(\\frac{1}{51})$. The first event of pulling a card at random *and not replacing it* influenced the probability of the next card being pulled. When evaluating probabilities, it is important to consider whether the events are *dependent or independent*.\n",
    "\n",
    "\n",
    "Let's try some true or false questions on what you have learned about odds and probability so far!"
   ]
  },
  {
   "cell_type": "code",
   "execution_count": 3,
   "metadata": {},
   "outputs": [
    {
     "data": {
      "text/latex": [
       "The probability of rolling an even number on a fair die is $\\frac{1}{2}$."
      ],
      "text/plain": [
       "<IPython.core.display.Latex object>"
      ]
     },
     "metadata": {},
     "output_type": "display_data"
    },
    {
     "data": {
      "application/vnd.jupyter.widget-view+json": {
       "model_id": "21d1412cf7ae42de83116fa39b45be51",
       "version_major": 2,
       "version_minor": 0
      },
      "text/plain": [
       "RadioButtons(options=('True', 'False'), value=None)"
      ]
     },
     "metadata": {},
     "output_type": "display_data"
    },
    {
     "data": {
      "application/vnd.jupyter.widget-view+json": {
       "model_id": "461804bc985d4741a87610fa9bc28207",
       "version_major": 2,
       "version_minor": 0
      },
      "text/plain": [
       "Button(button_style='info', description='Check Answers', layout=Layout(height='60px', width='25%'), style=Butt…"
      ]
     },
     "metadata": {},
     "output_type": "display_data"
    }
   ],
   "source": [
    "#trueFalseQuestion1 stores the true or false question that is being asked:\n",
    "trueFalseQuestion1 = Latex('The probability of rolling an even number on a fair die is $\\\\frac{1}{2}$.')\n",
    "display(trueFalseQuestion1)\n",
    "\n",
    "#a1 is the input button widget for true and false.\n",
    "a1 = widgets.RadioButtons(\n",
    "    options=['True', 'False'],\n",
    "    value= None,\n",
    "    disabled=False\n",
    ")\n",
    "display(a1)\n",
    "\n",
    "#bt1 is a button labeled \"Check Answer\".\n",
    "bt1 = widgets.Button(description = \"Check Answers\", \n",
    "                    layout = Layout(width = '25%', height = '60px'),\n",
    "                    button_style = 'info'\n",
    "                    )\n",
    "\n",
    "#Check if answer is correct.\n",
    "def check_answer(b):\n",
    "    #If the answer is correct:\n",
    "    if a1.value == 'True':\n",
    "        clear_output()\n",
    "        display(trueFalseQuestion1)\n",
    "        display(Latex(\"$\\;$ True\"))\n",
    "        display(Latex(\"$\\;$ Correct! A die has equal parts odd and even numbers.\"))\n",
    "        display()\n",
    "    \n",
    "    #Otherwise:\n",
    "    else:\n",
    "        clear_output()\n",
    "        display(trueFalseQuestion1)\n",
    "        display(a1)\n",
    "        display(bt1)\n",
    "        display(Latex(\"$\\;$ Not quite, please try again.\"))\n",
    "        display(Latex(\"$\\;$ Remember, a die is made up of equal part odd and even numbers.\"))\n",
    "\n",
    "bt1.on_click(check_answer)\n",
    "display(bt1)"
   ]
  },
  {
   "cell_type": "code",
   "execution_count": 4,
   "metadata": {
    "scrolled": false
   },
   "outputs": [
    {
     "data": {
      "text/latex": [
       "The odds of rolling an even number are $2:1$."
      ],
      "text/plain": [
       "<IPython.core.display.Latex object>"
      ]
     },
     "metadata": {},
     "output_type": "display_data"
    },
    {
     "data": {
      "application/vnd.jupyter.widget-view+json": {
       "model_id": "7fcbd04e0be449f68e4758e58e648d7c",
       "version_major": 2,
       "version_minor": 0
      },
      "text/plain": [
       "RadioButtons(options=('True', 'False'), value=None)"
      ]
     },
     "metadata": {},
     "output_type": "display_data"
    },
    {
     "data": {
      "application/vnd.jupyter.widget-view+json": {
       "model_id": "1e0eb73da2b2445c8a2eb6cdbb469dd3",
       "version_major": 2,
       "version_minor": 0
      },
      "text/plain": [
       "Button(button_style='info', description='Check Answers', layout=Layout(height='60px', width='25%'), style=Butt…"
      ]
     },
     "metadata": {},
     "output_type": "display_data"
    }
   ],
   "source": [
    "#trueFalseQuestion2 stores the true or false question that is being asked:\n",
    "trueFalseQuestion2 = Latex('The odds of rolling an even number are $2:1$.')\n",
    "display(trueFalseQuestion2)\n",
    "\n",
    "#a2 is the input button widget for true and false.\n",
    "a2 = widgets.RadioButtons(\n",
    "    options=['True', 'False'],\n",
    "    value= None,\n",
    "    disabled=False\n",
    ")\n",
    "display(a2)\n",
    "\n",
    "#bt2 is a button labeled \"Check Answer\".\n",
    "bt2 = widgets.Button(description = \"Check Answers\", \n",
    "                    layout = Layout(width = '25%', height = '60px'),\n",
    "                    button_style = 'info'\n",
    "                    )\n",
    "\n",
    "#Check if answer is correct.\n",
    "def check_answer(b):\n",
    "    #If the answer is correct:\n",
    "    if a2.value == 'False':\n",
    "        clear_output()\n",
    "        display(trueFalseQuestion2)\n",
    "        display(Latex(\"$\\;$ False\"))\n",
    "        display(Latex(\"$\\;$ Correct! A die has equal parts odd and even numbers.\"))\n",
    "        display()\n",
    "    \n",
    "    #Otherwise:\n",
    "    else:\n",
    "        clear_output()\n",
    "        display(trueFalseQuestion2)\n",
    "        display(a2)\n",
    "        display(bt2)\n",
    "        display(Latex(\"$\\;$ Not quite, please try again.\"))\n",
    "        display(Latex(\"$\\;$ Remember, a dece is made up of equal part odd and even numbers.\"))\n",
    "\n",
    "bt2.on_click(check_answer)\n",
    "display(bt2)"
   ]
  },
  {
   "cell_type": "code",
   "execution_count": 5,
   "metadata": {},
   "outputs": [
    {
     "data": {
      "text/latex": [
       "The odds against rolling a $4$ are $1:5$."
      ],
      "text/plain": [
       "<IPython.core.display.Latex object>"
      ]
     },
     "metadata": {},
     "output_type": "display_data"
    },
    {
     "data": {
      "application/vnd.jupyter.widget-view+json": {
       "model_id": "2720677d8667425bb08abb6923ce3951",
       "version_major": 2,
       "version_minor": 0
      },
      "text/plain": [
       "RadioButtons(options=('True', 'False'), value=None)"
      ]
     },
     "metadata": {},
     "output_type": "display_data"
    },
    {
     "data": {
      "application/vnd.jupyter.widget-view+json": {
       "model_id": "884711ecfe3c44d990b30406528fa9d4",
       "version_major": 2,
       "version_minor": 0
      },
      "text/plain": [
       "Button(button_style='info', description='Check Answers', layout=Layout(height='60px', width='25%'), style=Butt…"
      ]
     },
     "metadata": {},
     "output_type": "display_data"
    }
   ],
   "source": [
    "#trueFalseQuestion3 stores the true or false question that is being asked:\n",
    "trueFalseQuestion3 = Latex('The odds against rolling a $4$ are $1:5$.')\n",
    "display(trueFalseQuestion3)\n",
    "\n",
    "#a3 is the input button widget for true and false.\n",
    "a3 = widgets.RadioButtons(\n",
    "    options=['True', 'False'],\n",
    "    value= None,\n",
    "    disabled=False\n",
    ")\n",
    "display(a3)\n",
    "\n",
    "#bt3 is a button labeled \"Check Answer\".\n",
    "bt3 = widgets.Button(description = \"Check Answers\", \n",
    "                    layout = Layout(width = '25%', height = '60px'),\n",
    "                    button_style = 'info'\n",
    "                    )\n",
    "\n",
    "#Check if answer is correct.\n",
    "def check_answer(b):\n",
    "    #If the answer is correct:\n",
    "    if a3.value == 'False':\n",
    "        clear_output()\n",
    "        display(trueFalseQuestion3)\n",
    "        display(Latex(\"$\\;$ False\"))\n",
    "        display(Latex(\"$\\;$ Correct! The odds against rolling any number once is 5 : 1.\"))\n",
    "        display()\n",
    "    \n",
    "    #Otherwise:\n",
    "    else:\n",
    "        clear_output()\n",
    "        display(trueFalseQuestion3)\n",
    "        display(a3)\n",
    "        display(bt3)\n",
    "        display(Latex(\"$\\;$ Not quite, please try again.\"))\n",
    "        display(Latex(\"$\\;$ Remember, the odds against has the larger number in the front.\"))\n",
    "\n",
    "bt3.on_click(check_answer)\n",
    "display(bt3)"
   ]
  },
  {
   "cell_type": "code",
   "execution_count": 6,
   "metadata": {},
   "outputs": [
    {
     "data": {
      "text/latex": [
       "The odds of rolling an uneven number are $1:1$."
      ],
      "text/plain": [
       "<IPython.core.display.Latex object>"
      ]
     },
     "metadata": {},
     "output_type": "display_data"
    },
    {
     "data": {
      "application/vnd.jupyter.widget-view+json": {
       "model_id": "65d16b163a424fc2931ca2baeb749ff6",
       "version_major": 2,
       "version_minor": 0
      },
      "text/plain": [
       "RadioButtons(options=('True', 'False'), value=None)"
      ]
     },
     "metadata": {},
     "output_type": "display_data"
    },
    {
     "data": {
      "application/vnd.jupyter.widget-view+json": {
       "model_id": "d2499428b56e4684ab34d00bfb65c301",
       "version_major": 2,
       "version_minor": 0
      },
      "text/plain": [
       "Button(button_style='info', description='Check Answers', layout=Layout(height='60px', width='25%'), style=Butt…"
      ]
     },
     "metadata": {},
     "output_type": "display_data"
    }
   ],
   "source": [
    "#trueFalseQuestion4 stores the true or false question that is being asked:\n",
    "trueFalseQuestion4 = Latex('The odds of rolling an uneven number are $1:1$.')\n",
    "display(trueFalseQuestion4)\n",
    "\n",
    "#a4 is the input button widget for true and false.\n",
    "a4 = widgets.RadioButtons(\n",
    "    options=['True', 'False'],\n",
    "    value= None,\n",
    "    disabled=False\n",
    ")\n",
    "display(a4)\n",
    "\n",
    "#bt4 is a button labeled \"Check Answer\".\n",
    "bt4 = widgets.Button(description = \"Check Answers\", \n",
    "                    layout = Layout(width = '25%', height = '60px'),\n",
    "                    button_style = 'info'\n",
    "                    )\n",
    "\n",
    "#Check if answer is correct.\n",
    "def check_answer(b):\n",
    "    #If the answer is correct:\n",
    "    if a4.value == 'True':\n",
    "        clear_output()\n",
    "        display(trueFalseQuestion4)\n",
    "        display(Latex(\"$\\;$ True\"))\n",
    "        display(Latex(\"$\\;$ Correct! A die has equal parts odd and even numbers.\"))\n",
    "        display()\n",
    "    \n",
    "    #Otherwise:\n",
    "    else:\n",
    "        clear_output()\n",
    "        display(trueFalseQuestion4)\n",
    "        display(a4)\n",
    "        display(bt4)\n",
    "        display(Latex(\"$\\;$ Not quite, please try again.\"))\n",
    "        display(Latex(\"$\\;$ Remember, dice are usually made up of equal part odd and even numbers.\"))\n",
    "\n",
    "bt4.on_click(check_answer)\n",
    "display(bt4)"
   ]
  },
  {
   "cell_type": "code",
   "execution_count": 7,
   "metadata": {
    "scrolled": true
   },
   "outputs": [
    {
     "data": {
      "text/latex": [
       "The probability of not rolling a $5$ is $\\frac{5}{6}$."
      ],
      "text/plain": [
       "<IPython.core.display.Latex object>"
      ]
     },
     "metadata": {},
     "output_type": "display_data"
    },
    {
     "data": {
      "application/vnd.jupyter.widget-view+json": {
       "model_id": "5188667566a243baa8f4c077f17fd307",
       "version_major": 2,
       "version_minor": 0
      },
      "text/plain": [
       "RadioButtons(options=('True', 'False'), value=None)"
      ]
     },
     "metadata": {},
     "output_type": "display_data"
    },
    {
     "data": {
      "application/vnd.jupyter.widget-view+json": {
       "model_id": "479f9f9edca2496a9a1dc184431aedfb",
       "version_major": 2,
       "version_minor": 0
      },
      "text/plain": [
       "Button(button_style='info', description='Check Answers', layout=Layout(height='60px', width='25%'), style=Butt…"
      ]
     },
     "metadata": {},
     "output_type": "display_data"
    }
   ],
   "source": [
    "#trueFalseQuestion5 stores the true or false question that is being asked:\n",
    "trueFalseQuestion5 = Latex('The probability of not rolling a $5$ is $\\\\frac{5}{6}$.')\n",
    "display(trueFalseQuestion5)\n",
    "\n",
    "#a5 is the input button widget for true and false.\n",
    "a5 = widgets.RadioButtons(\n",
    "    options=['True', 'False'],\n",
    "    value= None,\n",
    "    disabled=False\n",
    ")\n",
    "display(a5)\n",
    "\n",
    "#bt5 is a button labeled \"Check Answer\".\n",
    "bt5 = widgets.Button(description = \"Check Answers\", \n",
    "                    layout = Layout(width = '25%', height = '60px'),\n",
    "                    button_style = 'info'\n",
    "                    )\n",
    "\n",
    "#Check if answer is correct.\n",
    "def check_answer(b):\n",
    "    #If the answer is correct:\n",
    "    if a5.value == 'True':\n",
    "        clear_output()\n",
    "        display(trueFalseQuestion5)\n",
    "        display(Latex(\"$\\;$ True\"))\n",
    "        display(Latex(\"$\\;$ Correct! The probability of not rolling a $5 = 1 - ({1\\\\over6}) = {5\\\\over6}.$\"))\n",
    "        display()\n",
    "    \n",
    "    #Otherwise:\n",
    "    else:\n",
    "        clear_output()\n",
    "        display(trueFalseQuestion5)\n",
    "        display(a5)\n",
    "        display(bt5)\n",
    "        display(Latex(\"$\\;$ Not quite, please try again.\"))\n",
    "        display(Latex(r\"$\\;$ Remember, the odds of not rolling a number $n = 1 - P(\\textrm{Rolling }n).$\"))\n",
    "\n",
    "bt5.on_click(check_answer)\n",
    "display(bt5)"
   ]
  },
  {
   "cell_type": "code",
   "execution_count": 8,
   "metadata": {
    "scrolled": true
   },
   "outputs": [
    {
     "data": {
      "text/latex": [
       "The probability of rolling a $7$ on a regular die is $1$."
      ],
      "text/plain": [
       "<IPython.core.display.Latex object>"
      ]
     },
     "metadata": {},
     "output_type": "display_data"
    },
    {
     "data": {
      "application/vnd.jupyter.widget-view+json": {
       "model_id": "f95ef1acf61f4411879c768ed4973cb1",
       "version_major": 2,
       "version_minor": 0
      },
      "text/plain": [
       "RadioButtons(options=('True', 'False'), value=None)"
      ]
     },
     "metadata": {},
     "output_type": "display_data"
    },
    {
     "data": {
      "application/vnd.jupyter.widget-view+json": {
       "model_id": "d43f9da3cdce4c7983f47942749600ad",
       "version_major": 2,
       "version_minor": 0
      },
      "text/plain": [
       "Button(button_style='info', description='Check Answers', layout=Layout(height='60px', width='25%'), style=Butt…"
      ]
     },
     "metadata": {},
     "output_type": "display_data"
    }
   ],
   "source": [
    "#trueFalseQuestion6 stores the true or false question that is being asked:\n",
    "trueFalseQuestion6 = Latex('The probability of rolling a $7$ on a regular die is $1$.')\n",
    "display(trueFalseQuestion6)\n",
    "\n",
    "#a6 is the input button widget for true and false.\n",
    "a6 = widgets.RadioButtons(\n",
    "    options=['True', 'False'],\n",
    "    value= None,\n",
    "    disabled=False\n",
    ")\n",
    "display(a6)\n",
    "\n",
    "#bt5 is a button labeled \"Check Answer\".\n",
    "bt6 = widgets.Button(description = \"Check Answers\", \n",
    "                    layout = Layout(width = '25%', height = '60px'),\n",
    "                    button_style = 'info'\n",
    "                    )\n",
    "\n",
    "#Check if answer is correct.\n",
    "def check_answer(b):\n",
    "    #If the answer is correct:\n",
    "    if a6.value == 'False':\n",
    "        clear_output()\n",
    "        display(trueFalseQuestion6)\n",
    "        display(Latex(\"$\\;$ False\"))\n",
    "        display(Latex(\"$\\;$ Correct! A regular die only has numbers between $1$ and $6$. So, the probability\\\n",
    "        of rolling a 7 is 0.\"))\n",
    "        display()\n",
    "    \n",
    "    #Otherwise:\n",
    "    else:\n",
    "        clear_output()\n",
    "        display(trueFalseQuestion6)\n",
    "        display(a6)\n",
    "        display(bt6)\n",
    "        display(Latex(\"$\\;$ Not quite, please try again.\"))\n",
    "        display(Latex(r\"$\\;$ Remember, a regular die only goes from $1$ to $6$.\"))\n",
    "\n",
    "bt6.on_click(check_answer)\n",
    "display(bt6)"
   ]
  },
  {
   "cell_type": "markdown",
   "metadata": {
    "hidden": false
   },
   "source": [
    "**Wording** plays a crucial role in evaluating these statements. This last exercise demonstrated that there are many ways to phrase these questions. It is important to pay attention to the structure of these statements when evaluating and assessing them."
   ]
  },
  {
   "cell_type": "markdown",
   "metadata": {
    "hidden": false
   },
   "source": [
    "## Converting between Odds and Probability\n",
    "\n",
    "\n",
    "Now that we understand what odds and probabilities mean, we can look at how they are related. We can also look at how we can express one as the other. \n",
    "\n",
    "To describe odds in favour of an event $E$, we have to think about what we are writing a ratio of. We are writing the ratio of $E$ happening versus that of $E$ not happening. This we write as $P(E)$ and $1-P(E)$ respectively.\n",
    "\n",
    "We can write this as an equation:\n",
    "\n",
    "$$\\text{Odds for the event $E$ occurring} = {P(E) \\over 1-P(E)}$$\n",
    "\n",
    "As a ratio, we would write this as $P(E):1-P(E).$  \n",
    "\n",
    "If the odds are $r:s$ in favour of an event $E$, we write this as:\n",
    "$$\\text{Odds for the event $E$ occurring} = \\displaystyle { ({r \\over s}) \\over {1 + ({r \\over s}) } }.$$\n",
    "\n",
    "However, if the odds are against the event $E$ occurring, we would write the equation:\n",
    "\n",
    "$$\\text{Odds against the event $E$ occurring} = {1-P(E) \\over P(E)}$$\n",
    "\n",
    "As a ratio, we would write this as $1-P(E):P(E).$"
   ]
  },
  {
   "cell_type": "code",
   "execution_count": 9,
   "metadata": {
    "hidden": false,
    "scrolled": true
   },
   "outputs": [
    {
     "data": {
      "text/latex": [
       "If the odds against an event happening are $N:1$, where $N$ is a natural number, what is the probability of the event happening? (Let $p$ be the probability of the event occurring)"
      ],
      "text/plain": [
       "<IPython.core.display.Latex object>"
      ]
     },
     "metadata": {},
     "output_type": "display_data"
    },
    {
     "data": {
      "application/vnd.jupyter.widget-view+json": {
       "model_id": "8626f160cdb84b27802592d7a70d5838",
       "version_major": 2,
       "version_minor": 0
      },
      "text/plain": [
       "Button(button_style='info', description='Show Answer', layout=Layout(height='60px', width='25%'), style=Button…"
      ]
     },
     "metadata": {},
     "output_type": "display_data"
    }
   ],
   "source": [
    "#question is the question the user is asked.\n",
    "question = Latex('If the odds against an event happening are $N:1$, where $N$ is a natural number, what is the \\\n",
    "probability of the event happening? (Let $p$ be the probability of the event occurring)')\n",
    "display(question)\n",
    "\n",
    "#Steps for the answer:\n",
    "prob_button= widgets.Button(description = \"Show Answer\", \n",
    "                            layout = Layout(width = '25%', height = '60px'),\n",
    "                            button_style = 'info'\n",
    "                            )\n",
    "display(prob_button)\n",
    "\n",
    "#If \"Show Answer\" is clicked:\n",
    "def prob_answer(b):\n",
    "    clear_output()\n",
    "    display(question)\n",
    "    display(Latex(\"$\\;$ The formula we need here is $N = {1-p \\\\over p}$\"))\n",
    "    display(Latex(\"$\\;$ Why? This is because odds against is the reciprocal ratio of odds on.\"))\n",
    "    display(Latex(\"$\\;$ Rearrange the formula: $Np + p = 1$\"))\n",
    "    display(Latex(\"$\\;$ Isolate for the value you're looking for: $p(1+N) = 1$\"))\n",
    "    display(Latex(\"$\\;$ $\\\\Rightarrow p = {1 \\\\over N+1}$\"))\n",
    "    return\n",
    "\n",
    "prob_button.on_click(prob_answer)"
   ]
  },
  {
   "cell_type": "markdown",
   "metadata": {
    "hidden": false
   },
   "source": [
    "Check to make sure this works for the dice roll!\n",
    "\n",
    "---"
   ]
  },
  {
   "cell_type": "markdown",
   "metadata": {
    "hidden": false
   },
   "source": [
    "## <center> Bayesian vs. Frequentist Reasoning </center>\n",
    "    \n",
    "These two schools of thinking are the foundation of modern probability theory. Since you are not taking a course in probability theory, we won't delve too deep into these subjects. Still, learning their basic principles will help you check the validity of statements about odds and probability.\n",
    "\n",
    "<div class=\"alert alert-warning\">\n",
    "<font color=\"black\"><b>Frequentist School:</b> \n",
    "Focuses on large amounts of data to assess probabilities. \n",
    "</div>\n",
    "    \n",
    "<div class=\"alert alert-warning\">\n",
    "<font color=\"black\"><b>Bayesian School:</b> \n",
    "The Bayesian approach was named after the 18th century Reverend Thomas Bayes. It employs the use of conditional probabilities. They look at large amounts of data but also want to consider the conditional probabilities. These are the likelihoods of a certain event occurring in the first place.\n",
    "</div>\n",
    "\n",
    "It's easiest to understand their differences through an example:\n",
    "> Say you have a bird feeder hung from a stand which keeps track of how many and what type of birds come to feed. At some point, it is noted that 2 Emperor Penguins have come to feed. If there were $N$ birds over 1 day:\n",
    "- *The Frequentist* would say that there is a $\\frac{2}{N}$ probability that an Emperor Penguin will fly up to the bird feeder in a day. \n",
    "- *The Bayesian*, with their conditional probabilities, disagrees. The Bayesian knows the percentage of all the birds in Canada that are Emperor Penguins. This percentage happens to be very small (some might say $0$). So, the Bayesian says this is an incredibly rare event.\n",
    "<br /><br />\n",
    "By considering a prior probability, the Bayesian drew a more educated conclusion. \n",
    "\n",
    "Before you decide which approach is better to use, we must note a couple very important points:\n",
    "\n",
    "- What if the conditional probabilities are incorrect? Where did the Bayesian get their data from? What were the methods used? Were they biased? The Bayesian can sometimes unknowingly introduce biases with their prior knowledge. This may make the interpretation of the probability values somewhat subjective.\n",
    "\n",
    "- The Frequentist would rely only on the data collected. This means they would remain as unbiased as possible.\n",
    "\n",
    "It is crucial to understand the pros and cons of each school of thought. Using one approach or the other can be useful based on the context of the problem and data set.  "
   ]
  },
  {
   "cell_type": "markdown",
   "metadata": {
    "hidden": false
   },
   "source": [
    "## Dartboard Exercise\n",
    "\n",
    "Let's do a bit more of an applied exercise for the concepts you have learned thus far. Consider the dartboard simulation below. If a dart is thrown at random, what are the odds on it hitting inside the green circle?"
   ]
  },
  {
   "cell_type": "code",
   "execution_count": 10,
   "metadata": {
    "hidden": false
   },
   "outputs": [
    {
     "data": {
      "text/markdown": [
       "**Number of darts to throw** (up to 100000):"
      ],
      "text/plain": [
       "<IPython.core.display.Markdown object>"
      ]
     },
     "metadata": {},
     "output_type": "display_data"
    },
    {
     "data": {
      "application/vnd.jupyter.widget-view+json": {
       "model_id": "0438581c6eb9439e9202f7150a8e332f",
       "version_major": 2,
       "version_minor": 0
      },
      "text/plain": [
       "HBox(children=(IntText(value=0), Button(button_style='info', description='Throw', style=ButtonStyle())))"
      ]
     },
     "metadata": {},
     "output_type": "display_data"
    },
    {
     "data": {
      "application/vnd.jupyter.widget-view+json": {
       "model_id": "a52d34cbe8464b89b6fb0d60adfebc15",
       "version_major": 2,
       "version_minor": 0
      },
      "text/plain": [
       "HTML(value=' ')"
      ]
     },
     "metadata": {},
     "output_type": "display_data"
    }
   ],
   "source": [
    "# import matplotlib.pyplot as plt\n",
    "%matplotlib inline\n",
    "import random\n",
    "\n",
    "circle_centerx=1\n",
    "circle_centery=1\n",
    "circle_radius=0.5\n",
    "\n",
    "darts_number=widgets.IntText(value=0,disabled=False)\n",
    "submit_button3=widgets.Button(description='Throw',button_style='info',disabled=False)\n",
    "reset_button3=widgets.Button(description='Restart',disabled=False)\n",
    "warning3=widgets.HTML(value=\" \")\n",
    "\n",
    "def on_button_submit3_clicked(b):\n",
    "    global circle_centerx,circle_centery,circle_radius\n",
    "    x_green=[]\n",
    "    y_green=[]\n",
    "    x_inside=[]\n",
    "    y_inside=[]\n",
    "    x_outside=[]\n",
    "    y_outside=[]\n",
    "    if darts_number.value >0:\n",
    "        if darts_number.value>100000:\n",
    "            darts_number.value=100000\n",
    "        warning3.value=\"\"\n",
    "        for i in range(darts_number.value):\n",
    "            x=random.random()*2\n",
    "            y=random.random()*2\n",
    "            if (x-circle_centerx)**2+(y-circle_centery)**2<circle_radius**2:\n",
    "                x_green.append(x)\n",
    "                y_green.append(y)\n",
    "            elif (x-circle_centerx)**2+(y-circle_centery)**2<(circle_radius*2)**2:\n",
    "                x_inside.append(x)\n",
    "                y_inside.append(y)\n",
    "            else:\n",
    "                x_outside.append(x)\n",
    "                y_outside.append(y)\n",
    "\n",
    "        circle1 = plt.Circle((circle_centerx, circle_centery), circle_radius,color='g',fill=False)\n",
    "        circle2 = plt.Circle((circle_centerx, circle_centery), circle_radius*2,color='black',fill=False)\n",
    "        fig, ax = plt.subplots(figsize=(10,10)) \n",
    "\n",
    "        ax.plot(x_green,y_green, 'o', color='g',alpha=0.4)\n",
    "        ax.plot(x_inside,y_inside, 'o', color='y',alpha=0.4)\n",
    "        ax.plot(x_outside,y_outside, 'o', color='r',alpha=0.4)\n",
    "        \n",
    "        ax.add_artist(circle2)\n",
    "        ax.add_artist(circle1)\n",
    "        \n",
    "\n",
    "        plt.ylim(0, 2) \n",
    "        plt.xlim(0, 2) \n",
    "        plt.show()\n",
    "        ###################b.disabled=True\n",
    "        darts_number.disabled=True\n",
    "        display(Latex(\"Number of  darts inside the green circle: \"+str(len(x_green))))\n",
    "        display(Latex(\"Number of  darts that hit the dart board: \"+str(len(x_green)+len(x_inside))))\n",
    "        display(Latex(\"Total number of darts thrown: \"+str(darts_number.value)))\n",
    "        display(reset_button3)\n",
    "    else:\n",
    "        warning3.value=\"Please enter number greater than zero\"\n",
    "    \n",
    "submit_button3.on_click(on_button_submit3_clicked)\n",
    "\n",
    "def restart_cell(b):\n",
    "    display(Javascript('IPython.notebook.execute_cell_range(IPython.notebook.get_selected_index(), IPython.notebook.get_selected_index()+1)'))\n",
    "\n",
    "reset_button3.on_click(restart_cell)\n",
    "\n",
    "display(Markdown(\"**Number of darts to throw** (up to 100000):\"))\n",
    "display(widgets.HBox([darts_number,submit_button3]))\n",
    "display(warning3)"
   ]
  },
  {
   "cell_type": "markdown",
   "metadata": {},
   "source": [
    "*Approach to solving this problem*: We need to understand how to calculate a probability in this context. We must calculate the areas of the inner and outer circles, calculate the probability, and then the odds!\n",
    "\n",
    "*For our current problem*: Take $r_1=1$ to be the radius of the inner (green) circle and $r_2=2$ as the radius of the dartboard (the outer circle). Calculate the probability of a dart thrown at random will land within the inner circle. For now we will ignore the darts that do not hit the dart board."
   ]
  },
  {
   "cell_type": "code",
   "execution_count": 11,
   "metadata": {
    "hidden": false
   },
   "outputs": [
    {
     "data": {
      "application/vnd.jupyter.widget-view+json": {
       "model_id": "6455d4d07ac24d88864222410938c3f1",
       "version_major": 2,
       "version_minor": 0
      },
      "text/plain": [
       "Button(button_style='info', description='Check Answer', layout=Layout(height='60px', width='25%'), style=Butto…"
      ]
     },
     "metadata": {},
     "output_type": "display_data"
    }
   ],
   "source": [
    "#Dartboard exercise part 1 answer\n",
    "dboard1 = widgets.Button(description = \"Check Answer\", \n",
    "                         layout = Layout(width = '25%', height = \"60px\"),\n",
    "                         button_style = 'info'\n",
    "                        )\n",
    "display(dboard1)\n",
    "\n",
    "def check_dboard1(b):\n",
    "    clear_output()\n",
    "    display(Latex(\"$\\;$ The area of the inner circle is given by: $\\pi (r_1)^2$\"))\n",
    "    display(Latex(\"$\\;$ The area of the dartboard is given by: $\\pi (r_2)^2$\"))\n",
    "    display(Latex(\"$\\;$ The ratio of the areas is given by: $\\\\frac{\\pi (r_1)^2}{\\pi (r_2)^2}$\"))\n",
    "    display(Latex(\"$\\;$ Simplifying and substituting in values we obtain: $\\\\frac{(r_1)^2}{(r_2)^2}=\\\\frac{1^2}{2^2}=\\\\frac{1}{4}$\"))\n",
    "    display(Latex(\"$\\;$ Thus the probability of darts that hit the dartboard \\\n",
    "                  landing in the inner circle is $\\\\frac{1}{4}$\"))\n",
    "    \n",
    "    return\n",
    "\n",
    "dboard1.on_click(check_dboard1)"
   ]
  },
  {
   "cell_type": "markdown",
   "metadata": {
    "hidden": false
   },
   "source": [
    "Now, what are the odds against landing in the inner cirle?"
   ]
  },
  {
   "cell_type": "code",
   "execution_count": 12,
   "metadata": {
    "hidden": false,
    "scrolled": true
   },
   "outputs": [
    {
     "data": {
      "application/vnd.jupyter.widget-view+json": {
       "model_id": "1b305a4696544816ab3d3c1afa18dfb0",
       "version_major": 2,
       "version_minor": 0
      },
      "text/plain": [
       "Button(button_style='info', description='Check Answer', layout=Layout(height='60px', width='25%'), style=Butto…"
      ]
     },
     "metadata": {},
     "output_type": "display_data"
    }
   ],
   "source": [
    "#dartboard exercise part 2\n",
    "\n",
    "dboard2_button = widgets.Button(description = \"Check Answer\", \n",
    "                                layout = Layout(width = '25%', height = '60px'),\n",
    "                                button_style = 'info'\n",
    "                               )\n",
    "display(dboard2_button)\n",
    "\n",
    "def check_dboard2(b):\n",
    "    clear_output()\n",
    "    display(Latex(\"$\\;$ The probability of landing in the inner circle is $(\\\\frac{\\pi}{4})$, \\\n",
    "                  therefore the probability of not landing in the inner circle is $1-(\\\\frac{\\pi}{4}) \\\n",
    "                  = (\\\\frac{3}{4})$.\"))\n",
    "    display(Latex(\"$\\;$ As explained above, we take the ratio $(\\\\frac{3}{4}):(\\\\frac{1}{4})$.\"))\n",
    "    display(Latex(\"$\\;$ Thus the odds against landing in the inner circle are $3:1$. \\\n",
    "                  Again ignoring the darts that missed the dartboard.\"))\n",
    "    \n",
    "    return\n",
    "dboard2_button.on_click(check_dboard2)\n",
    "                            "
   ]
  },
  {
   "cell_type": "markdown",
   "metadata": {
    "hidden": false
   },
   "source": [
    "Now, let's try some more difficult questions with the dartboard. These may take a bit more time to work through. If you would like to review some more material, please go through the rest of the notebook and then come back to these! Try taking the time to solve the questions on paper before pressing the \"Show Answer\" button. While it may be tempting, it is always more rewarding to attempt to solve it yourself."
   ]
  },
  {
   "cell_type": "code",
   "execution_count": 13,
   "metadata": {
    "hidden": false
   },
   "outputs": [
    {
     "data": {
      "application/vnd.jupyter.widget-view+json": {
       "model_id": "3529ad65252244e09310682f997b369b",
       "version_major": 2,
       "version_minor": 0
      },
      "text/plain": [
       "Button(button_style='info', description='Question #1', layout=Layout(height='60px', width='25%'), style=Button…"
      ]
     },
     "metadata": {},
     "output_type": "display_data"
    }
   ],
   "source": [
    "question1 = widgets.Button(description = \"Question #1\", \n",
    "                           layout = Layout(width = '25%', height = '60px'),\n",
    "                           button_style = 'info'\n",
    "                          )\n",
    "display(question1)\n",
    "\n",
    "q1answer = widgets.Button(description = \"Show Answer\")\n",
    "\n",
    "def q1check(b):\n",
    "    clear_output()\n",
    "    display(Latex(\"If we consider all of the darts, what is the probability of not hitting the dartboard?\"))\n",
    "    display(q1answer)\n",
    "    return\n",
    "question1.on_click(q1check)\n",
    "\n",
    "def q1ans(b):\n",
    "    clear_output()\n",
    "    display(Latex(\"If we consider all of the darts, what is the probability of not hitting the dartboard?\"))\n",
    "    display(Latex(\"$\\;$ We start with the area of the square, $A_s = (b)(h) = (2)(2) = 4$\"))\n",
    "    display(Latex(\"$\\;$ The area of the dartboard is $A_d = \\pi (r_2)^2 = \\pi (1)^2 = \\pi$\"))\n",
    "    display(Latex(\"$\\;$ Thus the probability of hitting the dartboard is $\\\\frac{\\pi}{4}$ \\\n",
    "                  and the probability of not hitting the dartboard is $1-\\\\frac{\\pi}{4} \\\\approx 0.215$.\"))\n",
    "    return\n",
    "\n",
    "q1answer.on_click(q1ans)\n",
    "    "
   ]
  },
  {
   "cell_type": "code",
   "execution_count": 14,
   "metadata": {
    "hidden": false
   },
   "outputs": [
    {
     "data": {
      "application/vnd.jupyter.widget-view+json": {
       "model_id": "db774431f97e441eb02d9aa8de0cdc55",
       "version_major": 2,
       "version_minor": 0
      },
      "text/plain": [
       "Button(button_style='info', description='Question #2', layout=Layout(height='60px', width='25%'), style=Button…"
      ]
     },
     "metadata": {},
     "output_type": "display_data"
    }
   ],
   "source": [
    "question2 = widgets.Button(description = \"Question #2\", \n",
    "                           layout = Layout(width = '25%', height = '60px'),\n",
    "                           button_style = 'info'\n",
    "                          )\n",
    "display(question2)\n",
    "\n",
    "q2answer = widgets.Button(description = \"Show Answer\")\n",
    "\n",
    "def q2check(b):\n",
    "    clear_output()\n",
    "    display(Latex(\"What is the probability of hitting the inner circle twice in a row?\"))\n",
    "    display(q2answer)\n",
    "    return\n",
    "question2.on_click(q2check)\n",
    "\n",
    "def q2ans(b):\n",
    "    clear_output()\n",
    "    display(Latex(\"What is the probability of hitting the inner circle twice in a row?\"))\n",
    "    display(Latex(\"$\\;$ First off, we note that the two events are independent of \\\n",
    "                  one another. The probability of each is $\\\\frac{1}{4}$\"))\n",
    "    display(Latex(\"$\\;$ Finally, we multiply these two probabilities together. This gives us the \\\n",
    "                  probability of these events happening in succession to get \\\n",
    "                  $ \\\\frac{1}{4} \\\\times \\\\frac{1}{4} = \\\\frac{1}{16}$.\"))\n",
    "    return\n",
    "\n",
    "q2answer.on_click(q2ans)\n",
    "    "
   ]
  },
  {
   "cell_type": "code",
   "execution_count": 15,
   "metadata": {
    "hidden": false
   },
   "outputs": [
    {
     "data": {
      "application/vnd.jupyter.widget-view+json": {
       "model_id": "000789c4733a4df48800ee8d3dd0940e",
       "version_major": 2,
       "version_minor": 0
      },
      "text/plain": [
       "Button(button_style='info', description='Question #3', layout=Layout(height='60px', width='25%'), style=Button…"
      ]
     },
     "metadata": {},
     "output_type": "display_data"
    }
   ],
   "source": [
    "question3 = widgets.Button(description = \"Question #3\", \n",
    "                           layout = Layout(width = '25%', height = '60px'),\n",
    "                           button_style = 'info'\n",
    "                          )\n",
    "display(question3)\n",
    "\n",
    "q3answer = widgets.Button(description = \"Show Answer\")\n",
    "\n",
    "def q3check(b):\n",
    "    clear_output()\n",
    "    display(Latex(\"What is the probability of hitting the outer circle and then the outer circle?\"))\n",
    "    display(q3answer)\n",
    "    return\n",
    "question3.on_click(q3check)\n",
    "\n",
    "def q3ans(b):\n",
    "    clear_output()\n",
    "    display(Latex(\"$What is the probability of hitting the outer circle and then the outer circle?\"))\n",
    "    display(Latex(\"$\\;$ Again the two events are independent of one another. We have to calculate the \\\n",
    "                  probability of each event.\"))\n",
    "    display(Latex(\"$\\;$ The probability of hitting the inner circle is $\\\\frac{1}{4}$ and \\\n",
    "                  the probability of hitting the outer circle but not the inner circle is \\\n",
    "                  $\\\\frac{3}{4}-\\\\frac{1}{4}=\\\\frac{1}{2}$.\"))\n",
    "    display(Latex(\"$\\;$ Finally we multiply the two probabilities together. This gives us the \\\n",
    "                  probability of these events happening in succession to get \\\n",
    "                  $\\\\frac{1}{2} \\\\times \\\\frac{1}{4} = \\\\frac{1}{8}$.\"))\n",
    "\n",
    "    \n",
    "    return\n",
    "\n",
    "q3answer.on_click(q3ans)\n",
    "    "
   ]
  },
  {
   "cell_type": "markdown",
   "metadata": {
    "hidden": false
   },
   "source": [
    "This dartboard example can also be used to see the different ways of assessing validity.\n",
    "\n",
    "Use the frequentist approach to determine the probability of landing in the inner circle or on a certain number. Remember that the frequentist assumes no prior knowledge about the dartboard. They must collect data. Note where the random throws lands. Keep track of both the number of throws, $N$, and the number of times, $m$, they land on the red circle. How many throws until $\\frac{m}{N} \\approx \\frac{1}{4}$? \n",
    "\n",
    "Remember, the frequentist approach relies on large data sets! See if there is a convergence towards $\\frac{1}{4}$ after 20 throws. "
   ]
  },
  {
   "cell_type": "markdown",
   "metadata": {
    "hidden": false
   },
   "source": [
    "---\n",
    "## Making Decisions Based on Odds & Probability\n",
    "\n",
    "\n",
    "One topic we may hear in the news that uses odds and probability is that of lottery winners. According to the CBC, approximately a quarter of all Canadians play the lottery weekly. We can buy a ticket and choose three sets of seven numbers for $5.00. Now, how do we calculate the odds of winning?\n",
    "\n",
    "Consider [Lotto Max](http://lotto.bclc.com/lotto-max-and-extra/prizes-and-odds.html). In this lottery game, the player selects 7 distinct numbers from 1 to 49. We can count the number of ways to do this by using the  _Choose Function_ (Also known as the [Binomial Coefficients](https://en.wikipedia.org/wiki/Binomial_coefficient)). This gives us the number of ways to choose $k$ non-ordered elements from a fixed set of $n$ elements, which we write as follows: \n",
    "\n",
    "$${n \\choose k} = {n! \\over {k!(n-k)!}}$$\n",
    "\n",
    "Here, $n$ and $k$ are both positive integers and $n!$ means $n\\cdot(n-1)\\cdot(n-2)\\cdots 3\\cdot 2\\cdot 1$, (Some positive integer $n$ multiplied by every positive integer less than it). Now, back to the lottery. \n",
    "\n",
    "We have $k=7$ numbers to choose from a total of $n=49$ numbers. The number of ways to do this is given by:\n",
    "\n",
    "$${49 \\choose 7} = {49! \\over {7!(49-7)!}} = {49! \\over {7!42!}} = {49\\cdot 48\\cdot 47\\cdot 46\\cdot 45\\cdot 44\\cdot 43\\cdot 42! \\over {7!42!}} = {49\\cdot 48\\cdot 47\\cdot 46\\cdot 45\\cdot 44\\cdot 43 \\over {7\\cdot6\\cdot5\\cdot4\\cdot3\\cdot2\\cdot 1}} = 85,900,584$$\n",
    "\n",
    "To win the lottery, we must hold a winning ticket, where one of the sets of numbers we chose matches all 7 of the winning numbers. Note that there is exactly one set of winning numbers.\n",
    "\n",
    "Since a $5.00 ticket allows us to choose three sets of seven numbers, our chances of winning are slightly better. This is assuming that we don't choose exactly the same seven numbers for two or three of our sets.\n",
    "\n",
    "So, we have three of the possible $85,900,584$ seven number configurations. This makes the odds for holding a winning ticket as $3:85,900,584$, (Or $1:28,633,528$).\n",
    "\n",
    "**Exploration:** Every ticket comes with three sets of seven numbers we can choose from. We saw that the odds of having a winning ticket is $3:85,900,584$, (Or $1:28,633,528$ simplified). If we had only one set of seven numbers to choose from in a single ticket, the odds of winning would be much lower: $1:85,900,584$. So, in comparing having one set of numbers to having three sets of numbers, our chances seem to have improved.\n",
    "\n",
    "**Exploration Question 1:** Would buying more tickets improve our chances of winning?"
   ]
  },
  {
   "cell_type": "code",
   "execution_count": 16,
   "metadata": {
    "hidden": false,
    "scrolled": false
   },
   "outputs": [
    {
     "data": {
      "application/vnd.jupyter.widget-view+json": {
       "model_id": "efd47f7a946f4add88761781d0fd8bac",
       "version_major": 2,
       "version_minor": 0
      },
      "text/plain": [
       "Textarea(value='', layout=Layout(height='250px', width='50%'), placeholder='Enter your answer here.')"
      ]
     },
     "metadata": {},
     "output_type": "display_data"
    },
    {
     "data": {
      "application/vnd.jupyter.widget-view+json": {
       "model_id": "e0ed7191ae1f45a3ab7eabeb707812e1",
       "version_major": 2,
       "version_minor": 0
      },
      "text/plain": [
       "Button(button_style='info', description='Save & View Answer', layout=Layout(height='30px', width='50%'), style…"
      ]
     },
     "metadata": {},
     "output_type": "display_data"
    }
   ],
   "source": [
    "decision_q1_ctr = 0\n",
    "\n",
    "# Exercise 2 widgets\n",
    "\n",
    "decision_q1_button = widgets.Button(button_style='info', description=\"Save & View Answer\", \\\n",
    "                                    layout=Layout(width='50%', height='30px') )\n",
    "decision_q1_text = widgets.Textarea( placeholder='Enter your answer here.', description='', \\\n",
    "                                    disabled=False , layout = Layout(width='50%',height='250px')  )\n",
    "\n",
    "display(decision_q1_text)\n",
    "display(decision_q1_button)\n",
    "\n",
    "decision_q1_button.on_click( run_cells )"
   ]
  },
  {
   "cell_type": "code",
   "execution_count": 17,
   "metadata": {
    "hidden": false
   },
   "outputs": [],
   "source": [
    "decision_q1_ctr += 1\n",
    "\n",
    "# Explanation to display in markdown format\n",
    "\n",
    "exp_q1_line1 = \"Would buying more tickets improve our chances of winning? **Yes.**\"\n",
    "exp_q1_line2 = \"From a technical perspective, buying more tickets would improve our chance of winning. \\\n",
    "For example, if we buy two tickets, we now have a $6:89,900,584$ chance of winning. That is \\\n",
    "approximately a $1$ out of $14,983,430$ chance.\"\n",
    "exp_q1_line3 = \"Let $n$ be the number of tickets. Then every $n$ tickets gives us $3n$ sets of seven \\\n",
    "numbers to choose from. We can see that as we increase $n$, the fraction ${89,900,584 \\over 3n}$ becomes \\\n",
    "smaller. This makes our chances of winning approximately $1$ out of ${89,900,584 \\over 3n}.$ For instance, \\\n",
    "if we buy $n=7$ tickets, then our chance of winning is approximately 1 out of ${89,900,594 \\over 21}$. \\\n",
    "That is, approximately a $1$ out of $4,280,980$ chance.\"\n",
    "\n",
    "# Executes when user saves answer\n",
    "\n",
    "if(decision_q1_ctr >= 2):\n",
    "    decision_q1_button.close()\n",
    "    user_decision_q1_text = decision_q1_text.value\n",
    "    \n",
    "    display(Markdown(\"**You wrote: **\"))\n",
    "    display(Markdown(user_decision_q1_text))\n",
    "    \n",
    "    display(Markdown(\"**Explanation: **\"))\n",
    "    display(Markdown(exp_q1_line1))\n",
    "    display(Markdown(exp_q1_line2))\n",
    "    display(Markdown(exp_q1_line3))"
   ]
  },
  {
   "cell_type": "markdown",
   "metadata": {
    "hidden": false
   },
   "source": [
    "**Exploration Question 2.** Would this be a sound financial strategy?"
   ]
  },
  {
   "cell_type": "code",
   "execution_count": 18,
   "metadata": {
    "hidden": false,
    "scrolled": false
   },
   "outputs": [
    {
     "data": {
      "application/vnd.jupyter.widget-view+json": {
       "model_id": "0e8cf6e5224d447a9b99b2059bb0af8c",
       "version_major": 2,
       "version_minor": 0
      },
      "text/plain": [
       "Textarea(value='', layout=Layout(height='250px', width='50%'), placeholder='Enter your answer here.')"
      ]
     },
     "metadata": {},
     "output_type": "display_data"
    },
    {
     "data": {
      "application/vnd.jupyter.widget-view+json": {
       "model_id": "77bfb32138e047128f0944f2171c5207",
       "version_major": 2,
       "version_minor": 0
      },
      "text/plain": [
       "Button(button_style='info', description='Save & View Answer', layout=Layout(height='30px', width='50%'), style…"
      ]
     },
     "metadata": {},
     "output_type": "display_data"
    }
   ],
   "source": [
    "decision_q2_ctr = 0\n",
    "\n",
    "# Exercise 2 widgets\n",
    "\n",
    "decision_q2_button = widgets.Button(button_style='info',description=\"Save & View Answer\", layout=Layout(width='50%', height='30px') )\n",
    "decision_q2_text = widgets.Textarea( placeholder='Enter your answer here.', description='', disabled=False , layout = Layout(width='50%',height='250px')  )\n",
    "\n",
    "display(decision_q2_text)\n",
    "display(decision_q2_button)\n",
    "\n",
    "decision_q2_button.on_click( run_cells )\n",
    "\n",
    "decision_q1_ctr = 0"
   ]
  },
  {
   "cell_type": "code",
   "execution_count": 19,
   "metadata": {},
   "outputs": [],
   "source": [
    "decision_q2_ctr += 1\n",
    "\n",
    "# Explanation to display in markdown format\n",
    "\n",
    "exp_q2_line1 = \"Would this be a sound financial strategy? **No.**\"\n",
    "exp_q2_line2 = \"While it would technically increase your chances, buying more tickets would not be a good\\\n",
    "financial strategy. For example, if we bought 1000 tickets, we would have a $1000:89,900,584$ chance of winning. \\\n",
    "That is approximately a $1$ out of $29,967$ chance.\"\n",
    "exp_q2_line3 = \"So, the odds of you winning if you bought 1000 tickets are still not great. Plus, for every $n$ \\\n",
    "tickets you buy, you pay $5n$ dollars. That means that you would have spent $5000 dollars to get 1000 tickets. \"\n",
    "\n",
    "# Executes when user saves answer\n",
    "\n",
    "if(decision_q2_ctr >= 2):\n",
    "    decision_q2_button.close()\n",
    "    user_decision_q2_text = decision_q2_text.value\n",
    "    \n",
    "    display(Markdown(\"**You wrote: **\"))\n",
    "    display(Markdown(user_decision_q2_text))\n",
    "\n",
    "    display(Markdown(\"**Explanation: **\"))\n",
    "    display(Markdown(exp_q2_line1))\n",
    "    display(Markdown(exp_q2_line2))\n",
    "    display(Markdown(exp_q2_line3))"
   ]
  },
  {
   "cell_type": "markdown",
   "metadata": {
    "hidden": false
   },
   "source": [
    "---\n",
    "## Conclusion\n",
    "\n",
    "In this Jupyter Notebook by Callysto, you learned about assessing the validity of odds and probability statements. We first outlined the concepts of:\n",
    "\n",
    "* *Events*, \n",
    "* *Probability*, \n",
    "* And *Odds*. \n",
    "\n",
    "Thereafter, we defined some commonly used types of odds:\n",
    "\n",
    "* *Odds on*,\n",
    "* *Odds against*, \n",
    "* And *Even odds*.\n",
    "\n",
    "We learnt the differences between *Dependent* and *Independent events*. We also elucidated the perspectives of Bayesian and Frequentist reasoning. These two schools of thought, along with an understanding of the concepts outlined throughout this Notebook, will give the reader a necessary toolset to interpret and assess the validity of odds and probability statements."
   ]
  },
  {
   "cell_type": "markdown",
   "metadata": {},
   "source": [
    "[![Callysto.ca License](https://github.com/callysto/curriculum-notebooks/blob/master/callysto-notebook-banner-bottom.jpg?raw=true)](https://github.com/callysto/curriculum-notebooks/blob/master/LICENSE.md)"
   ]
  }
 ],
 "metadata": {
  "kernelspec": {
   "display_name": "Python 3",
   "language": "python",
   "name": "python3"
  },
  "language_info": {
   "codemirror_mode": {
    "name": "ipython",
    "version": 3
   },
   "file_extension": ".py",
   "mimetype": "text/x-python",
   "name": "python",
   "nbconvert_exporter": "python",
   "pygments_lexer": "ipython3",
   "version": "3.7.4"
  },
  "widgets": {
   "application/vnd.jupyter.widget-state+json": {
    "state": {
     "000789c4733a4df48800ee8d3dd0940e": {
      "model_module": "@jupyter-widgets/controls",
      "model_module_version": "1.5.0",
      "model_name": "ButtonModel",
      "state": {
       "_dom_classes": [],
       "_model_module": "@jupyter-widgets/controls",
       "_model_module_version": "1.5.0",
       "_model_name": "ButtonModel",
       "_view_count": null,
       "_view_module": "@jupyter-widgets/controls",
       "_view_module_version": "1.5.0",
       "_view_name": "ButtonView",
       "button_style": "info",
       "description": "Question #3",
       "disabled": false,
       "icon": "",
       "layout": "IPY_MODEL_8ba14d81e106425486f5b86eb27ed520",
       "style": "IPY_MODEL_d2796fb1d03b4598aadcc60a95bd39d5",
       "tooltip": ""
      }
     },
     "023b2a021bfd43af8b3dad7527e0499b": {
      "model_module": "@jupyter-widgets/base",
      "model_module_version": "1.2.0",
      "model_name": "LayoutModel",
      "state": {
       "_model_module": "@jupyter-widgets/base",
       "_model_module_version": "1.2.0",
       "_model_name": "LayoutModel",
       "_view_count": null,
       "_view_module": "@jupyter-widgets/base",
       "_view_module_version": "1.2.0",
       "_view_name": "LayoutView",
       "align_content": null,
       "align_items": null,
       "align_self": null,
       "border": null,
       "bottom": null,
       "display": null,
       "flex": null,
       "flex_flow": null,
       "grid_area": null,
       "grid_auto_columns": null,
       "grid_auto_flow": null,
       "grid_auto_rows": null,
       "grid_column": null,
       "grid_gap": null,
       "grid_row": null,
       "grid_template_areas": null,
       "grid_template_columns": null,
       "grid_template_rows": null,
       "height": null,
       "justify_content": null,
       "justify_items": null,
       "left": null,
       "margin": null,
       "max_height": null,
       "max_width": null,
       "min_height": null,
       "min_width": null,
       "object_fit": null,
       "object_position": null,
       "order": null,
       "overflow": null,
       "overflow_x": null,
       "overflow_y": null,
       "padding": null,
       "right": null,
       "top": null,
       "visibility": null,
       "width": null
      }
     },
     "0438581c6eb9439e9202f7150a8e332f": {
      "model_module": "@jupyter-widgets/controls",
      "model_module_version": "1.5.0",
      "model_name": "HBoxModel",
      "state": {
       "_dom_classes": [],
       "_model_module": "@jupyter-widgets/controls",
       "_model_module_version": "1.5.0",
       "_model_name": "HBoxModel",
       "_view_count": null,
       "_view_module": "@jupyter-widgets/controls",
       "_view_module_version": "1.5.0",
       "_view_name": "HBoxView",
       "box_style": "",
       "children": [
        "IPY_MODEL_51ad4b9804d8455c803998f8128d8556",
        "IPY_MODEL_ca44dc026aa4445f8b6e4c05c071290f"
       ],
       "layout": "IPY_MODEL_8938c73d66f54eceba0261f09b3fcd34"
      }
     },
     "09fad61faa324f3ab075b1b237dec168": {
      "model_module": "@jupyter-widgets/base",
      "model_module_version": "1.2.0",
      "model_name": "LayoutModel",
      "state": {
       "_model_module": "@jupyter-widgets/base",
       "_model_module_version": "1.2.0",
       "_model_name": "LayoutModel",
       "_view_count": null,
       "_view_module": "@jupyter-widgets/base",
       "_view_module_version": "1.2.0",
       "_view_name": "LayoutView",
       "align_content": null,
       "align_items": null,
       "align_self": null,
       "border": null,
       "bottom": null,
       "display": null,
       "flex": null,
       "flex_flow": null,
       "grid_area": null,
       "grid_auto_columns": null,
       "grid_auto_flow": null,
       "grid_auto_rows": null,
       "grid_column": null,
       "grid_gap": null,
       "grid_row": null,
       "grid_template_areas": null,
       "grid_template_columns": null,
       "grid_template_rows": null,
       "height": null,
       "justify_content": null,
       "justify_items": null,
       "left": null,
       "margin": null,
       "max_height": null,
       "max_width": null,
       "min_height": null,
       "min_width": null,
       "object_fit": null,
       "object_position": null,
       "order": null,
       "overflow": null,
       "overflow_x": null,
       "overflow_y": null,
       "padding": null,
       "right": null,
       "top": null,
       "visibility": null,
       "width": null
      }
     },
     "0e42f6f0027240228e527fbf4e38eeee": {
      "model_module": "@jupyter-widgets/controls",
      "model_module_version": "1.5.0",
      "model_name": "DescriptionStyleModel",
      "state": {
       "_model_module": "@jupyter-widgets/controls",
       "_model_module_version": "1.5.0",
       "_model_name": "DescriptionStyleModel",
       "_view_count": null,
       "_view_module": "@jupyter-widgets/base",
       "_view_module_version": "1.2.0",
       "_view_name": "StyleView",
       "description_width": ""
      }
     },
     "0e8cf6e5224d447a9b99b2059bb0af8c": {
      "model_module": "@jupyter-widgets/controls",
      "model_module_version": "1.5.0",
      "model_name": "TextareaModel",
      "state": {
       "_dom_classes": [],
       "_model_module": "@jupyter-widgets/controls",
       "_model_module_version": "1.5.0",
       "_model_name": "TextareaModel",
       "_view_count": null,
       "_view_module": "@jupyter-widgets/controls",
       "_view_module_version": "1.5.0",
       "_view_name": "TextareaView",
       "continuous_update": true,
       "description": "",
       "description_tooltip": null,
       "disabled": false,
       "layout": "IPY_MODEL_e5e6b8148eb04122a80bf9649ae4edb2",
       "placeholder": "Enter your answer here.",
       "rows": null,
       "style": "IPY_MODEL_93e3ad2c59364dc08dcba53d779f0e25",
       "value": ""
      }
     },
     "17005271c96140b7a9cdd606032a0f45": {
      "model_module": "@jupyter-widgets/base",
      "model_module_version": "1.2.0",
      "model_name": "LayoutModel",
      "state": {
       "_model_module": "@jupyter-widgets/base",
       "_model_module_version": "1.2.0",
       "_model_name": "LayoutModel",
       "_view_count": null,
       "_view_module": "@jupyter-widgets/base",
       "_view_module_version": "1.2.0",
       "_view_name": "LayoutView",
       "align_content": null,
       "align_items": null,
       "align_self": null,
       "border": null,
       "bottom": null,
       "display": null,
       "flex": null,
       "flex_flow": null,
       "grid_area": null,
       "grid_auto_columns": null,
       "grid_auto_flow": null,
       "grid_auto_rows": null,
       "grid_column": null,
       "grid_gap": null,
       "grid_row": null,
       "grid_template_areas": null,
       "grid_template_columns": null,
       "grid_template_rows": null,
       "height": "60px",
       "justify_content": null,
       "justify_items": null,
       "left": null,
       "margin": null,
       "max_height": null,
       "max_width": null,
       "min_height": null,
       "min_width": null,
       "object_fit": null,
       "object_position": null,
       "order": null,
       "overflow": null,
       "overflow_x": null,
       "overflow_y": null,
       "padding": null,
       "right": null,
       "top": null,
       "visibility": null,
       "width": "25%"
      }
     },
     "193fb4aacab347caba44d8bd33c9a9e7": {
      "model_module": "@jupyter-widgets/controls",
      "model_module_version": "1.5.0",
      "model_name": "ButtonStyleModel",
      "state": {
       "_model_module": "@jupyter-widgets/controls",
       "_model_module_version": "1.5.0",
       "_model_name": "ButtonStyleModel",
       "_view_count": null,
       "_view_module": "@jupyter-widgets/base",
       "_view_module_version": "1.2.0",
       "_view_name": "StyleView",
       "button_color": null,
       "font_weight": ""
      }
     },
     "1b305a4696544816ab3d3c1afa18dfb0": {
      "model_module": "@jupyter-widgets/controls",
      "model_module_version": "1.5.0",
      "model_name": "ButtonModel",
      "state": {
       "_dom_classes": [],
       "_model_module": "@jupyter-widgets/controls",
       "_model_module_version": "1.5.0",
       "_model_name": "ButtonModel",
       "_view_count": null,
       "_view_module": "@jupyter-widgets/controls",
       "_view_module_version": "1.5.0",
       "_view_name": "ButtonView",
       "button_style": "info",
       "description": "Check Answer",
       "disabled": false,
       "icon": "",
       "layout": "IPY_MODEL_1e7a272f2e6648feb1aa072aa1312086",
       "style": "IPY_MODEL_7d38f7f32bc84dfbad90b6cec8f113df",
       "tooltip": ""
      }
     },
     "1e0eb73da2b2445c8a2eb6cdbb469dd3": {
      "model_module": "@jupyter-widgets/controls",
      "model_module_version": "1.5.0",
      "model_name": "ButtonModel",
      "state": {
       "_dom_classes": [],
       "_model_module": "@jupyter-widgets/controls",
       "_model_module_version": "1.5.0",
       "_model_name": "ButtonModel",
       "_view_count": null,
       "_view_module": "@jupyter-widgets/controls",
       "_view_module_version": "1.5.0",
       "_view_name": "ButtonView",
       "button_style": "info",
       "description": "Check Answers",
       "disabled": false,
       "icon": "",
       "layout": "IPY_MODEL_c7bd809049ef483d843b2920370cd3bb",
       "style": "IPY_MODEL_9d7d2bcdb8fc4d91819bb0235ad93b6a",
       "tooltip": ""
      }
     },
     "1e67b965bd3643ac809e9bcef5a712be": {
      "model_module": "@jupyter-widgets/base",
      "model_module_version": "1.2.0",
      "model_name": "LayoutModel",
      "state": {
       "_model_module": "@jupyter-widgets/base",
       "_model_module_version": "1.2.0",
       "_model_name": "LayoutModel",
       "_view_count": null,
       "_view_module": "@jupyter-widgets/base",
       "_view_module_version": "1.2.0",
       "_view_name": "LayoutView",
       "align_content": null,
       "align_items": null,
       "align_self": null,
       "border": null,
       "bottom": null,
       "display": null,
       "flex": null,
       "flex_flow": null,
       "grid_area": null,
       "grid_auto_columns": null,
       "grid_auto_flow": null,
       "grid_auto_rows": null,
       "grid_column": null,
       "grid_gap": null,
       "grid_row": null,
       "grid_template_areas": null,
       "grid_template_columns": null,
       "grid_template_rows": null,
       "height": null,
       "justify_content": null,
       "justify_items": null,
       "left": null,
       "margin": null,
       "max_height": null,
       "max_width": null,
       "min_height": null,
       "min_width": null,
       "object_fit": null,
       "object_position": null,
       "order": null,
       "overflow": null,
       "overflow_x": null,
       "overflow_y": null,
       "padding": null,
       "right": null,
       "top": null,
       "visibility": null,
       "width": null
      }
     },
     "1e7a272f2e6648feb1aa072aa1312086": {
      "model_module": "@jupyter-widgets/base",
      "model_module_version": "1.2.0",
      "model_name": "LayoutModel",
      "state": {
       "_model_module": "@jupyter-widgets/base",
       "_model_module_version": "1.2.0",
       "_model_name": "LayoutModel",
       "_view_count": null,
       "_view_module": "@jupyter-widgets/base",
       "_view_module_version": "1.2.0",
       "_view_name": "LayoutView",
       "align_content": null,
       "align_items": null,
       "align_self": null,
       "border": null,
       "bottom": null,
       "display": null,
       "flex": null,
       "flex_flow": null,
       "grid_area": null,
       "grid_auto_columns": null,
       "grid_auto_flow": null,
       "grid_auto_rows": null,
       "grid_column": null,
       "grid_gap": null,
       "grid_row": null,
       "grid_template_areas": null,
       "grid_template_columns": null,
       "grid_template_rows": null,
       "height": "60px",
       "justify_content": null,
       "justify_items": null,
       "left": null,
       "margin": null,
       "max_height": null,
       "max_width": null,
       "min_height": null,
       "min_width": null,
       "object_fit": null,
       "object_position": null,
       "order": null,
       "overflow": null,
       "overflow_x": null,
       "overflow_y": null,
       "padding": null,
       "right": null,
       "top": null,
       "visibility": null,
       "width": "25%"
      }
     },
     "1eaf8aeaa2754b56ba1fee277d86389c": {
      "model_module": "@jupyter-widgets/controls",
      "model_module_version": "1.5.0",
      "model_name": "DescriptionStyleModel",
      "state": {
       "_model_module": "@jupyter-widgets/controls",
       "_model_module_version": "1.5.0",
       "_model_name": "DescriptionStyleModel",
       "_view_count": null,
       "_view_module": "@jupyter-widgets/base",
       "_view_module_version": "1.2.0",
       "_view_name": "StyleView",
       "description_width": ""
      }
     },
     "21d1412cf7ae42de83116fa39b45be51": {
      "model_module": "@jupyter-widgets/controls",
      "model_module_version": "1.5.0",
      "model_name": "RadioButtonsModel",
      "state": {
       "_dom_classes": [],
       "_model_module": "@jupyter-widgets/controls",
       "_model_module_version": "1.5.0",
       "_model_name": "RadioButtonsModel",
       "_options_labels": [
        "True",
        "False"
       ],
       "_view_count": null,
       "_view_module": "@jupyter-widgets/controls",
       "_view_module_version": "1.5.0",
       "_view_name": "RadioButtonsView",
       "description": "",
       "description_tooltip": null,
       "disabled": false,
       "index": null,
       "layout": "IPY_MODEL_a3e20c32bfd6428b91083a4559d8e24b",
       "style": "IPY_MODEL_68f0a0d9e0f441d2b66290ea1547370d"
      }
     },
     "2720677d8667425bb08abb6923ce3951": {
      "model_module": "@jupyter-widgets/controls",
      "model_module_version": "1.5.0",
      "model_name": "RadioButtonsModel",
      "state": {
       "_dom_classes": [],
       "_model_module": "@jupyter-widgets/controls",
       "_model_module_version": "1.5.0",
       "_model_name": "RadioButtonsModel",
       "_options_labels": [
        "True",
        "False"
       ],
       "_view_count": null,
       "_view_module": "@jupyter-widgets/controls",
       "_view_module_version": "1.5.0",
       "_view_name": "RadioButtonsView",
       "description": "",
       "description_tooltip": null,
       "disabled": false,
       "index": null,
       "layout": "IPY_MODEL_a3c707a1cfab48989f25160b11fa3c7b",
       "style": "IPY_MODEL_efd5cf757b2043b3bd6c409583e4b913"
      }
     },
     "2b2b4c8818834adf87bcb075f345c6ff": {
      "model_module": "@jupyter-widgets/base",
      "model_module_version": "1.2.0",
      "model_name": "LayoutModel",
      "state": {
       "_model_module": "@jupyter-widgets/base",
       "_model_module_version": "1.2.0",
       "_model_name": "LayoutModel",
       "_view_count": null,
       "_view_module": "@jupyter-widgets/base",
       "_view_module_version": "1.2.0",
       "_view_name": "LayoutView",
       "align_content": null,
       "align_items": null,
       "align_self": null,
       "border": null,
       "bottom": null,
       "display": null,
       "flex": null,
       "flex_flow": null,
       "grid_area": null,
       "grid_auto_columns": null,
       "grid_auto_flow": null,
       "grid_auto_rows": null,
       "grid_column": null,
       "grid_gap": null,
       "grid_row": null,
       "grid_template_areas": null,
       "grid_template_columns": null,
       "grid_template_rows": null,
       "height": null,
       "justify_content": null,
       "justify_items": null,
       "left": null,
       "margin": null,
       "max_height": null,
       "max_width": null,
       "min_height": null,
       "min_width": null,
       "object_fit": null,
       "object_position": null,
       "order": null,
       "overflow": null,
       "overflow_x": null,
       "overflow_y": null,
       "padding": null,
       "right": null,
       "top": null,
       "visibility": null,
       "width": null
      }
     },
     "34afde582be24e119901df7459553cfa": {
      "model_module": "@jupyter-widgets/controls",
      "model_module_version": "1.5.0",
      "model_name": "DescriptionStyleModel",
      "state": {
       "_model_module": "@jupyter-widgets/controls",
       "_model_module_version": "1.5.0",
       "_model_name": "DescriptionStyleModel",
       "_view_count": null,
       "_view_module": "@jupyter-widgets/base",
       "_view_module_version": "1.2.0",
       "_view_name": "StyleView",
       "description_width": ""
      }
     },
     "3529ad65252244e09310682f997b369b": {
      "model_module": "@jupyter-widgets/controls",
      "model_module_version": "1.5.0",
      "model_name": "ButtonModel",
      "state": {
       "_dom_classes": [],
       "_model_module": "@jupyter-widgets/controls",
       "_model_module_version": "1.5.0",
       "_model_name": "ButtonModel",
       "_view_count": null,
       "_view_module": "@jupyter-widgets/controls",
       "_view_module_version": "1.5.0",
       "_view_name": "ButtonView",
       "button_style": "info",
       "description": "Question #1",
       "disabled": false,
       "icon": "",
       "layout": "IPY_MODEL_5843d434ee6e4e23a8c59d2cd0b11e89",
       "style": "IPY_MODEL_5caa832f1c1f4c23b61bb77806f0729c",
       "tooltip": ""
      }
     },
     "3623c6c444364d3793b68a3fe934648c": {
      "model_module": "@jupyter-widgets/controls",
      "model_module_version": "1.5.0",
      "model_name": "ButtonStyleModel",
      "state": {
       "_model_module": "@jupyter-widgets/controls",
       "_model_module_version": "1.5.0",
       "_model_name": "ButtonStyleModel",
       "_view_count": null,
       "_view_module": "@jupyter-widgets/base",
       "_view_module_version": "1.2.0",
       "_view_name": "StyleView",
       "button_color": null,
       "font_weight": ""
      }
     },
     "38725450fc234d50adda4928ed6f1dde": {
      "model_module": "@jupyter-widgets/controls",
      "model_module_version": "1.5.0",
      "model_name": "ButtonStyleModel",
      "state": {
       "_model_module": "@jupyter-widgets/controls",
       "_model_module_version": "1.5.0",
       "_model_name": "ButtonStyleModel",
       "_view_count": null,
       "_view_module": "@jupyter-widgets/base",
       "_view_module_version": "1.2.0",
       "_view_name": "StyleView",
       "button_color": null,
       "font_weight": ""
      }
     },
     "3b227cc5984247e3a08424bc86c47625": {
      "model_module": "@jupyter-widgets/controls",
      "model_module_version": "1.5.0",
      "model_name": "ButtonModel",
      "state": {
       "_dom_classes": [],
       "_model_module": "@jupyter-widgets/controls",
       "_model_module_version": "1.5.0",
       "_model_name": "ButtonModel",
       "_view_count": null,
       "_view_module": "@jupyter-widgets/controls",
       "_view_module_version": "1.5.0",
       "_view_name": "ButtonView",
       "button_style": "",
       "description": "Restart",
       "disabled": false,
       "icon": "",
       "layout": "IPY_MODEL_bb688e0ed75c4be1b82dc6037ae93c90",
       "style": "IPY_MODEL_f32b7d11286147ff8f24c7b477d1a9d1",
       "tooltip": ""
      }
     },
     "3c379f243f1b4d6395af6eb34ba26710": {
      "model_module": "@jupyter-widgets/base",
      "model_module_version": "1.2.0",
      "model_name": "LayoutModel",
      "state": {
       "_model_module": "@jupyter-widgets/base",
       "_model_module_version": "1.2.0",
       "_model_name": "LayoutModel",
       "_view_count": null,
       "_view_module": "@jupyter-widgets/base",
       "_view_module_version": "1.2.0",
       "_view_name": "LayoutView",
       "align_content": null,
       "align_items": null,
       "align_self": null,
       "border": null,
       "bottom": null,
       "display": null,
       "flex": null,
       "flex_flow": null,
       "grid_area": null,
       "grid_auto_columns": null,
       "grid_auto_flow": null,
       "grid_auto_rows": null,
       "grid_column": null,
       "grid_gap": null,
       "grid_row": null,
       "grid_template_areas": null,
       "grid_template_columns": null,
       "grid_template_rows": null,
       "height": null,
       "justify_content": null,
       "justify_items": null,
       "left": null,
       "margin": null,
       "max_height": null,
       "max_width": null,
       "min_height": null,
       "min_width": null,
       "object_fit": null,
       "object_position": null,
       "order": null,
       "overflow": null,
       "overflow_x": null,
       "overflow_y": null,
       "padding": null,
       "right": null,
       "top": null,
       "visibility": null,
       "width": null
      }
     },
     "3d8c5001087a4d7c9f2884d26535f799": {
      "model_module": "@jupyter-widgets/controls",
      "model_module_version": "1.5.0",
      "model_name": "DescriptionStyleModel",
      "state": {
       "_model_module": "@jupyter-widgets/controls",
       "_model_module_version": "1.5.0",
       "_model_name": "DescriptionStyleModel",
       "_view_count": null,
       "_view_module": "@jupyter-widgets/base",
       "_view_module_version": "1.2.0",
       "_view_name": "StyleView",
       "description_width": ""
      }
     },
     "3fac0e826f224df08b3bc1ad2d88c367": {
      "model_module": "@jupyter-widgets/base",
      "model_module_version": "1.2.0",
      "model_name": "LayoutModel",
      "state": {
       "_model_module": "@jupyter-widgets/base",
       "_model_module_version": "1.2.0",
       "_model_name": "LayoutModel",
       "_view_count": null,
       "_view_module": "@jupyter-widgets/base",
       "_view_module_version": "1.2.0",
       "_view_name": "LayoutView",
       "align_content": null,
       "align_items": null,
       "align_self": null,
       "border": null,
       "bottom": null,
       "display": null,
       "flex": null,
       "flex_flow": null,
       "grid_area": null,
       "grid_auto_columns": null,
       "grid_auto_flow": null,
       "grid_auto_rows": null,
       "grid_column": null,
       "grid_gap": null,
       "grid_row": null,
       "grid_template_areas": null,
       "grid_template_columns": null,
       "grid_template_rows": null,
       "height": null,
       "justify_content": null,
       "justify_items": null,
       "left": null,
       "margin": null,
       "max_height": null,
       "max_width": null,
       "min_height": null,
       "min_width": null,
       "object_fit": null,
       "object_position": null,
       "order": null,
       "overflow": null,
       "overflow_x": null,
       "overflow_y": null,
       "padding": null,
       "right": null,
       "top": null,
       "visibility": null,
       "width": null
      }
     },
     "461804bc985d4741a87610fa9bc28207": {
      "model_module": "@jupyter-widgets/controls",
      "model_module_version": "1.5.0",
      "model_name": "ButtonModel",
      "state": {
       "_dom_classes": [],
       "_model_module": "@jupyter-widgets/controls",
       "_model_module_version": "1.5.0",
       "_model_name": "ButtonModel",
       "_view_count": null,
       "_view_module": "@jupyter-widgets/controls",
       "_view_module_version": "1.5.0",
       "_view_name": "ButtonView",
       "button_style": "info",
       "description": "Check Answers",
       "disabled": false,
       "icon": "",
       "layout": "IPY_MODEL_8f27f475672144b18a42c0d280621cb6",
       "style": "IPY_MODEL_824f001f953e4c31b6999e6876f9e925",
       "tooltip": ""
      }
     },
     "46d525ab58c24ce4bd0db0448f9f5cc6": {
      "model_module": "@jupyter-widgets/controls",
      "model_module_version": "1.5.0",
      "model_name": "ButtonModel",
      "state": {
       "_dom_classes": [],
       "_model_module": "@jupyter-widgets/controls",
       "_model_module_version": "1.5.0",
       "_model_name": "ButtonModel",
       "_view_count": null,
       "_view_module": "@jupyter-widgets/controls",
       "_view_module_version": "1.5.0",
       "_view_name": "ButtonView",
       "button_style": "",
       "description": "Show Answer",
       "disabled": false,
       "icon": "",
       "layout": "IPY_MODEL_2b2b4c8818834adf87bcb075f345c6ff",
       "style": "IPY_MODEL_81ef1438adb2472c8949fba1daf847d6",
       "tooltip": ""
      }
     },
     "479f9f9edca2496a9a1dc184431aedfb": {
      "model_module": "@jupyter-widgets/controls",
      "model_module_version": "1.5.0",
      "model_name": "ButtonModel",
      "state": {
       "_dom_classes": [],
       "_model_module": "@jupyter-widgets/controls",
       "_model_module_version": "1.5.0",
       "_model_name": "ButtonModel",
       "_view_count": null,
       "_view_module": "@jupyter-widgets/controls",
       "_view_module_version": "1.5.0",
       "_view_name": "ButtonView",
       "button_style": "info",
       "description": "Check Answers",
       "disabled": false,
       "icon": "",
       "layout": "IPY_MODEL_578368ed40444fbe964dd471c117882f",
       "style": "IPY_MODEL_3623c6c444364d3793b68a3fe934648c",
       "tooltip": ""
      }
     },
     "4d362e65d7bc4ab9bf73583cc5ac81b3": {
      "model_module": "@jupyter-widgets/controls",
      "model_module_version": "1.5.0",
      "model_name": "ButtonStyleModel",
      "state": {
       "_model_module": "@jupyter-widgets/controls",
       "_model_module_version": "1.5.0",
       "_model_name": "ButtonStyleModel",
       "_view_count": null,
       "_view_module": "@jupyter-widgets/base",
       "_view_module_version": "1.2.0",
       "_view_name": "StyleView",
       "button_color": null,
       "font_weight": ""
      }
     },
     "50bf4930443e4bb29837b3a0547ac1cf": {
      "model_module": "@jupyter-widgets/base",
      "model_module_version": "1.2.0",
      "model_name": "LayoutModel",
      "state": {
       "_model_module": "@jupyter-widgets/base",
       "_model_module_version": "1.2.0",
       "_model_name": "LayoutModel",
       "_view_count": null,
       "_view_module": "@jupyter-widgets/base",
       "_view_module_version": "1.2.0",
       "_view_name": "LayoutView",
       "align_content": null,
       "align_items": null,
       "align_self": null,
       "border": null,
       "bottom": null,
       "display": null,
       "flex": null,
       "flex_flow": null,
       "grid_area": null,
       "grid_auto_columns": null,
       "grid_auto_flow": null,
       "grid_auto_rows": null,
       "grid_column": null,
       "grid_gap": null,
       "grid_row": null,
       "grid_template_areas": null,
       "grid_template_columns": null,
       "grid_template_rows": null,
       "height": "250px",
       "justify_content": null,
       "justify_items": null,
       "left": null,
       "margin": null,
       "max_height": null,
       "max_width": null,
       "min_height": null,
       "min_width": null,
       "object_fit": null,
       "object_position": null,
       "order": null,
       "overflow": null,
       "overflow_x": null,
       "overflow_y": null,
       "padding": null,
       "right": null,
       "top": null,
       "visibility": null,
       "width": "50%"
      }
     },
     "5188667566a243baa8f4c077f17fd307": {
      "model_module": "@jupyter-widgets/controls",
      "model_module_version": "1.5.0",
      "model_name": "RadioButtonsModel",
      "state": {
       "_dom_classes": [],
       "_model_module": "@jupyter-widgets/controls",
       "_model_module_version": "1.5.0",
       "_model_name": "RadioButtonsModel",
       "_options_labels": [
        "True",
        "False"
       ],
       "_view_count": null,
       "_view_module": "@jupyter-widgets/controls",
       "_view_module_version": "1.5.0",
       "_view_name": "RadioButtonsView",
       "description": "",
       "description_tooltip": null,
       "disabled": false,
       "index": null,
       "layout": "IPY_MODEL_023b2a021bfd43af8b3dad7527e0499b",
       "style": "IPY_MODEL_3d8c5001087a4d7c9f2884d26535f799"
      }
     },
     "51ad4b9804d8455c803998f8128d8556": {
      "model_module": "@jupyter-widgets/controls",
      "model_module_version": "1.5.0",
      "model_name": "IntTextModel",
      "state": {
       "_dom_classes": [],
       "_model_module": "@jupyter-widgets/controls",
       "_model_module_version": "1.5.0",
       "_model_name": "IntTextModel",
       "_view_count": null,
       "_view_module": "@jupyter-widgets/controls",
       "_view_module_version": "1.5.0",
       "_view_name": "IntTextView",
       "continuous_update": false,
       "description": "",
       "description_tooltip": null,
       "disabled": false,
       "layout": "IPY_MODEL_7ed45027e11b42b880f800d9eaf24049",
       "step": 1,
       "style": "IPY_MODEL_0e42f6f0027240228e527fbf4e38eeee",
       "value": 0
      }
     },
     "5734dd82877a443680b3929491d974a1": {
      "model_module": "@jupyter-widgets/controls",
      "model_module_version": "1.5.0",
      "model_name": "ButtonModel",
      "state": {
       "_dom_classes": [],
       "_model_module": "@jupyter-widgets/controls",
       "_model_module_version": "1.5.0",
       "_model_name": "ButtonModel",
       "_view_count": null,
       "_view_module": "@jupyter-widgets/controls",
       "_view_module_version": "1.5.0",
       "_view_name": "ButtonView",
       "button_style": "",
       "description": "Show Answer",
       "disabled": false,
       "icon": "",
       "layout": "IPY_MODEL_3fac0e826f224df08b3bc1ad2d88c367",
       "style": "IPY_MODEL_4d362e65d7bc4ab9bf73583cc5ac81b3",
       "tooltip": ""
      }
     },
     "578368ed40444fbe964dd471c117882f": {
      "model_module": "@jupyter-widgets/base",
      "model_module_version": "1.2.0",
      "model_name": "LayoutModel",
      "state": {
       "_model_module": "@jupyter-widgets/base",
       "_model_module_version": "1.2.0",
       "_model_name": "LayoutModel",
       "_view_count": null,
       "_view_module": "@jupyter-widgets/base",
       "_view_module_version": "1.2.0",
       "_view_name": "LayoutView",
       "align_content": null,
       "align_items": null,
       "align_self": null,
       "border": null,
       "bottom": null,
       "display": null,
       "flex": null,
       "flex_flow": null,
       "grid_area": null,
       "grid_auto_columns": null,
       "grid_auto_flow": null,
       "grid_auto_rows": null,
       "grid_column": null,
       "grid_gap": null,
       "grid_row": null,
       "grid_template_areas": null,
       "grid_template_columns": null,
       "grid_template_rows": null,
       "height": "60px",
       "justify_content": null,
       "justify_items": null,
       "left": null,
       "margin": null,
       "max_height": null,
       "max_width": null,
       "min_height": null,
       "min_width": null,
       "object_fit": null,
       "object_position": null,
       "order": null,
       "overflow": null,
       "overflow_x": null,
       "overflow_y": null,
       "padding": null,
       "right": null,
       "top": null,
       "visibility": null,
       "width": "25%"
      }
     },
     "5843d434ee6e4e23a8c59d2cd0b11e89": {
      "model_module": "@jupyter-widgets/base",
      "model_module_version": "1.2.0",
      "model_name": "LayoutModel",
      "state": {
       "_model_module": "@jupyter-widgets/base",
       "_model_module_version": "1.2.0",
       "_model_name": "LayoutModel",
       "_view_count": null,
       "_view_module": "@jupyter-widgets/base",
       "_view_module_version": "1.2.0",
       "_view_name": "LayoutView",
       "align_content": null,
       "align_items": null,
       "align_self": null,
       "border": null,
       "bottom": null,
       "display": null,
       "flex": null,
       "flex_flow": null,
       "grid_area": null,
       "grid_auto_columns": null,
       "grid_auto_flow": null,
       "grid_auto_rows": null,
       "grid_column": null,
       "grid_gap": null,
       "grid_row": null,
       "grid_template_areas": null,
       "grid_template_columns": null,
       "grid_template_rows": null,
       "height": "60px",
       "justify_content": null,
       "justify_items": null,
       "left": null,
       "margin": null,
       "max_height": null,
       "max_width": null,
       "min_height": null,
       "min_width": null,
       "object_fit": null,
       "object_position": null,
       "order": null,
       "overflow": null,
       "overflow_x": null,
       "overflow_y": null,
       "padding": null,
       "right": null,
       "top": null,
       "visibility": null,
       "width": "25%"
      }
     },
     "5caa832f1c1f4c23b61bb77806f0729c": {
      "model_module": "@jupyter-widgets/controls",
      "model_module_version": "1.5.0",
      "model_name": "ButtonStyleModel",
      "state": {
       "_model_module": "@jupyter-widgets/controls",
       "_model_module_version": "1.5.0",
       "_model_name": "ButtonStyleModel",
       "_view_count": null,
       "_view_module": "@jupyter-widgets/base",
       "_view_module_version": "1.2.0",
       "_view_name": "StyleView",
       "button_color": null,
       "font_weight": ""
      }
     },
     "5cdb8f9501314237a74f52fdd6823d6f": {
      "model_module": "@jupyter-widgets/base",
      "model_module_version": "1.2.0",
      "model_name": "LayoutModel",
      "state": {
       "_model_module": "@jupyter-widgets/base",
       "_model_module_version": "1.2.0",
       "_model_name": "LayoutModel",
       "_view_count": null,
       "_view_module": "@jupyter-widgets/base",
       "_view_module_version": "1.2.0",
       "_view_name": "LayoutView",
       "align_content": null,
       "align_items": null,
       "align_self": null,
       "border": null,
       "bottom": null,
       "display": null,
       "flex": null,
       "flex_flow": null,
       "grid_area": null,
       "grid_auto_columns": null,
       "grid_auto_flow": null,
       "grid_auto_rows": null,
       "grid_column": null,
       "grid_gap": null,
       "grid_row": null,
       "grid_template_areas": null,
       "grid_template_columns": null,
       "grid_template_rows": null,
       "height": "60px",
       "justify_content": null,
       "justify_items": null,
       "left": null,
       "margin": null,
       "max_height": null,
       "max_width": null,
       "min_height": null,
       "min_width": null,
       "object_fit": null,
       "object_position": null,
       "order": null,
       "overflow": null,
       "overflow_x": null,
       "overflow_y": null,
       "padding": null,
       "right": null,
       "top": null,
       "visibility": null,
       "width": "25%"
      }
     },
     "63e4575e47f746399cc2a06844dcdfb5": {
      "model_module": "@jupyter-widgets/base",
      "model_module_version": "1.2.0",
      "model_name": "LayoutModel",
      "state": {
       "_model_module": "@jupyter-widgets/base",
       "_model_module_version": "1.2.0",
       "_model_name": "LayoutModel",
       "_view_count": null,
       "_view_module": "@jupyter-widgets/base",
       "_view_module_version": "1.2.0",
       "_view_name": "LayoutView",
       "align_content": null,
       "align_items": null,
       "align_self": null,
       "border": null,
       "bottom": null,
       "display": null,
       "flex": null,
       "flex_flow": null,
       "grid_area": null,
       "grid_auto_columns": null,
       "grid_auto_flow": null,
       "grid_auto_rows": null,
       "grid_column": null,
       "grid_gap": null,
       "grid_row": null,
       "grid_template_areas": null,
       "grid_template_columns": null,
       "grid_template_rows": null,
       "height": "60px",
       "justify_content": null,
       "justify_items": null,
       "left": null,
       "margin": null,
       "max_height": null,
       "max_width": null,
       "min_height": null,
       "min_width": null,
       "object_fit": null,
       "object_position": null,
       "order": null,
       "overflow": null,
       "overflow_x": null,
       "overflow_y": null,
       "padding": null,
       "right": null,
       "top": null,
       "visibility": null,
       "width": "25%"
      }
     },
     "6455d4d07ac24d88864222410938c3f1": {
      "model_module": "@jupyter-widgets/controls",
      "model_module_version": "1.5.0",
      "model_name": "ButtonModel",
      "state": {
       "_dom_classes": [],
       "_model_module": "@jupyter-widgets/controls",
       "_model_module_version": "1.5.0",
       "_model_name": "ButtonModel",
       "_view_count": null,
       "_view_module": "@jupyter-widgets/controls",
       "_view_module_version": "1.5.0",
       "_view_name": "ButtonView",
       "button_style": "info",
       "description": "Check Answer",
       "disabled": false,
       "icon": "",
       "layout": "IPY_MODEL_63e4575e47f746399cc2a06844dcdfb5",
       "style": "IPY_MODEL_970d2d42d38a47e5a1693a8132dbae76",
       "tooltip": ""
      }
     },
     "65d16b163a424fc2931ca2baeb749ff6": {
      "model_module": "@jupyter-widgets/controls",
      "model_module_version": "1.5.0",
      "model_name": "RadioButtonsModel",
      "state": {
       "_dom_classes": [],
       "_model_module": "@jupyter-widgets/controls",
       "_model_module_version": "1.5.0",
       "_model_name": "RadioButtonsModel",
       "_options_labels": [
        "True",
        "False"
       ],
       "_view_count": null,
       "_view_module": "@jupyter-widgets/controls",
       "_view_module_version": "1.5.0",
       "_view_name": "RadioButtonsView",
       "description": "",
       "description_tooltip": null,
       "disabled": false,
       "index": null,
       "layout": "IPY_MODEL_dc419aeaaac241749f58c61e0dc74222",
       "style": "IPY_MODEL_1eaf8aeaa2754b56ba1fee277d86389c"
      }
     },
     "68f0a0d9e0f441d2b66290ea1547370d": {
      "model_module": "@jupyter-widgets/controls",
      "model_module_version": "1.5.0",
      "model_name": "DescriptionStyleModel",
      "state": {
       "_model_module": "@jupyter-widgets/controls",
       "_model_module_version": "1.5.0",
       "_model_name": "DescriptionStyleModel",
       "_view_count": null,
       "_view_module": "@jupyter-widgets/base",
       "_view_module_version": "1.2.0",
       "_view_name": "StyleView",
       "description_width": ""
      }
     },
     "6d95bc5702594a51b586ace566db189b": {
      "model_module": "@jupyter-widgets/controls",
      "model_module_version": "1.5.0",
      "model_name": "ButtonStyleModel",
      "state": {
       "_model_module": "@jupyter-widgets/controls",
       "_model_module_version": "1.5.0",
       "_model_name": "ButtonStyleModel",
       "_view_count": null,
       "_view_module": "@jupyter-widgets/base",
       "_view_module_version": "1.2.0",
       "_view_name": "StyleView",
       "button_color": null,
       "font_weight": ""
      }
     },
     "730e95b5a1c74517956b9d3251f2f327": {
      "model_module": "@jupyter-widgets/base",
      "model_module_version": "1.2.0",
      "model_name": "LayoutModel",
      "state": {
       "_model_module": "@jupyter-widgets/base",
       "_model_module_version": "1.2.0",
       "_model_name": "LayoutModel",
       "_view_count": null,
       "_view_module": "@jupyter-widgets/base",
       "_view_module_version": "1.2.0",
       "_view_name": "LayoutView",
       "align_content": null,
       "align_items": null,
       "align_self": null,
       "border": null,
       "bottom": null,
       "display": null,
       "flex": null,
       "flex_flow": null,
       "grid_area": null,
       "grid_auto_columns": null,
       "grid_auto_flow": null,
       "grid_auto_rows": null,
       "grid_column": null,
       "grid_gap": null,
       "grid_row": null,
       "grid_template_areas": null,
       "grid_template_columns": null,
       "grid_template_rows": null,
       "height": "30px",
       "justify_content": null,
       "justify_items": null,
       "left": null,
       "margin": null,
       "max_height": null,
       "max_width": null,
       "min_height": null,
       "min_width": null,
       "object_fit": null,
       "object_position": null,
       "order": null,
       "overflow": null,
       "overflow_x": null,
       "overflow_y": null,
       "padding": null,
       "right": null,
       "top": null,
       "visibility": null,
       "width": "50%"
      }
     },
     "77bfb32138e047128f0944f2171c5207": {
      "model_module": "@jupyter-widgets/controls",
      "model_module_version": "1.5.0",
      "model_name": "ButtonModel",
      "state": {
       "_dom_classes": [],
       "_model_module": "@jupyter-widgets/controls",
       "_model_module_version": "1.5.0",
       "_model_name": "ButtonModel",
       "_view_count": null,
       "_view_module": "@jupyter-widgets/controls",
       "_view_module_version": "1.5.0",
       "_view_name": "ButtonView",
       "button_style": "info",
       "description": "Save & View Answer",
       "disabled": false,
       "icon": "",
       "layout": "IPY_MODEL_ef4a0b5f247d4e07bb3bd2cb4c0f4a36",
       "style": "IPY_MODEL_38725450fc234d50adda4928ed6f1dde",
       "tooltip": ""
      }
     },
     "7d38f7f32bc84dfbad90b6cec8f113df": {
      "model_module": "@jupyter-widgets/controls",
      "model_module_version": "1.5.0",
      "model_name": "ButtonStyleModel",
      "state": {
       "_model_module": "@jupyter-widgets/controls",
       "_model_module_version": "1.5.0",
       "_model_name": "ButtonStyleModel",
       "_view_count": null,
       "_view_module": "@jupyter-widgets/base",
       "_view_module_version": "1.2.0",
       "_view_name": "StyleView",
       "button_color": null,
       "font_weight": ""
      }
     },
     "7ed45027e11b42b880f800d9eaf24049": {
      "model_module": "@jupyter-widgets/base",
      "model_module_version": "1.2.0",
      "model_name": "LayoutModel",
      "state": {
       "_model_module": "@jupyter-widgets/base",
       "_model_module_version": "1.2.0",
       "_model_name": "LayoutModel",
       "_view_count": null,
       "_view_module": "@jupyter-widgets/base",
       "_view_module_version": "1.2.0",
       "_view_name": "LayoutView",
       "align_content": null,
       "align_items": null,
       "align_self": null,
       "border": null,
       "bottom": null,
       "display": null,
       "flex": null,
       "flex_flow": null,
       "grid_area": null,
       "grid_auto_columns": null,
       "grid_auto_flow": null,
       "grid_auto_rows": null,
       "grid_column": null,
       "grid_gap": null,
       "grid_row": null,
       "grid_template_areas": null,
       "grid_template_columns": null,
       "grid_template_rows": null,
       "height": null,
       "justify_content": null,
       "justify_items": null,
       "left": null,
       "margin": null,
       "max_height": null,
       "max_width": null,
       "min_height": null,
       "min_width": null,
       "object_fit": null,
       "object_position": null,
       "order": null,
       "overflow": null,
       "overflow_x": null,
       "overflow_y": null,
       "padding": null,
       "right": null,
       "top": null,
       "visibility": null,
       "width": null
      }
     },
     "7fcbd04e0be449f68e4758e58e648d7c": {
      "model_module": "@jupyter-widgets/controls",
      "model_module_version": "1.5.0",
      "model_name": "RadioButtonsModel",
      "state": {
       "_dom_classes": [],
       "_model_module": "@jupyter-widgets/controls",
       "_model_module_version": "1.5.0",
       "_model_name": "RadioButtonsModel",
       "_options_labels": [
        "True",
        "False"
       ],
       "_view_count": null,
       "_view_module": "@jupyter-widgets/controls",
       "_view_module_version": "1.5.0",
       "_view_name": "RadioButtonsView",
       "description": "",
       "description_tooltip": null,
       "disabled": false,
       "index": null,
       "layout": "IPY_MODEL_df37f462b69642be8d702f4953664996",
       "style": "IPY_MODEL_e7867c9c05de4f3f81d78a9f81f315db"
      }
     },
     "81ef1438adb2472c8949fba1daf847d6": {
      "model_module": "@jupyter-widgets/controls",
      "model_module_version": "1.5.0",
      "model_name": "ButtonStyleModel",
      "state": {
       "_model_module": "@jupyter-widgets/controls",
       "_model_module_version": "1.5.0",
       "_model_name": "ButtonStyleModel",
       "_view_count": null,
       "_view_module": "@jupyter-widgets/base",
       "_view_module_version": "1.2.0",
       "_view_name": "StyleView",
       "button_color": null,
       "font_weight": ""
      }
     },
     "824f001f953e4c31b6999e6876f9e925": {
      "model_module": "@jupyter-widgets/controls",
      "model_module_version": "1.5.0",
      "model_name": "ButtonStyleModel",
      "state": {
       "_model_module": "@jupyter-widgets/controls",
       "_model_module_version": "1.5.0",
       "_model_name": "ButtonStyleModel",
       "_view_count": null,
       "_view_module": "@jupyter-widgets/base",
       "_view_module_version": "1.2.0",
       "_view_name": "StyleView",
       "button_color": null,
       "font_weight": ""
      }
     },
     "854af07580d743d5a63dc9197d3fc20b": {
      "model_module": "@jupyter-widgets/controls",
      "model_module_version": "1.5.0",
      "model_name": "ButtonStyleModel",
      "state": {
       "_model_module": "@jupyter-widgets/controls",
       "_model_module_version": "1.5.0",
       "_model_name": "ButtonStyleModel",
       "_view_count": null,
       "_view_module": "@jupyter-widgets/base",
       "_view_module_version": "1.2.0",
       "_view_name": "StyleView",
       "button_color": null,
       "font_weight": ""
      }
     },
     "8626f160cdb84b27802592d7a70d5838": {
      "model_module": "@jupyter-widgets/controls",
      "model_module_version": "1.5.0",
      "model_name": "ButtonModel",
      "state": {
       "_dom_classes": [],
       "_model_module": "@jupyter-widgets/controls",
       "_model_module_version": "1.5.0",
       "_model_name": "ButtonModel",
       "_view_count": null,
       "_view_module": "@jupyter-widgets/controls",
       "_view_module_version": "1.5.0",
       "_view_name": "ButtonView",
       "button_style": "info",
       "description": "Show Answer",
       "disabled": false,
       "icon": "",
       "layout": "IPY_MODEL_8fcc00ac8ba84a898ea9b5cf5ab5a516",
       "style": "IPY_MODEL_89de4bcc8b9741489845d27a70452c78",
       "tooltip": ""
      }
     },
     "884711ecfe3c44d990b30406528fa9d4": {
      "model_module": "@jupyter-widgets/controls",
      "model_module_version": "1.5.0",
      "model_name": "ButtonModel",
      "state": {
       "_dom_classes": [],
       "_model_module": "@jupyter-widgets/controls",
       "_model_module_version": "1.5.0",
       "_model_name": "ButtonModel",
       "_view_count": null,
       "_view_module": "@jupyter-widgets/controls",
       "_view_module_version": "1.5.0",
       "_view_name": "ButtonView",
       "button_style": "info",
       "description": "Check Answers",
       "disabled": false,
       "icon": "",
       "layout": "IPY_MODEL_17005271c96140b7a9cdd606032a0f45",
       "style": "IPY_MODEL_ed43b18f8a67452a85eaa224498497b4",
       "tooltip": ""
      }
     },
     "8938c73d66f54eceba0261f09b3fcd34": {
      "model_module": "@jupyter-widgets/base",
      "model_module_version": "1.2.0",
      "model_name": "LayoutModel",
      "state": {
       "_model_module": "@jupyter-widgets/base",
       "_model_module_version": "1.2.0",
       "_model_name": "LayoutModel",
       "_view_count": null,
       "_view_module": "@jupyter-widgets/base",
       "_view_module_version": "1.2.0",
       "_view_name": "LayoutView",
       "align_content": null,
       "align_items": null,
       "align_self": null,
       "border": null,
       "bottom": null,
       "display": null,
       "flex": null,
       "flex_flow": null,
       "grid_area": null,
       "grid_auto_columns": null,
       "grid_auto_flow": null,
       "grid_auto_rows": null,
       "grid_column": null,
       "grid_gap": null,
       "grid_row": null,
       "grid_template_areas": null,
       "grid_template_columns": null,
       "grid_template_rows": null,
       "height": null,
       "justify_content": null,
       "justify_items": null,
       "left": null,
       "margin": null,
       "max_height": null,
       "max_width": null,
       "min_height": null,
       "min_width": null,
       "object_fit": null,
       "object_position": null,
       "order": null,
       "overflow": null,
       "overflow_x": null,
       "overflow_y": null,
       "padding": null,
       "right": null,
       "top": null,
       "visibility": null,
       "width": null
      }
     },
     "89de4bcc8b9741489845d27a70452c78": {
      "model_module": "@jupyter-widgets/controls",
      "model_module_version": "1.5.0",
      "model_name": "ButtonStyleModel",
      "state": {
       "_model_module": "@jupyter-widgets/controls",
       "_model_module_version": "1.5.0",
       "_model_name": "ButtonStyleModel",
       "_view_count": null,
       "_view_module": "@jupyter-widgets/base",
       "_view_module_version": "1.2.0",
       "_view_name": "StyleView",
       "button_color": null,
       "font_weight": ""
      }
     },
     "8ba14d81e106425486f5b86eb27ed520": {
      "model_module": "@jupyter-widgets/base",
      "model_module_version": "1.2.0",
      "model_name": "LayoutModel",
      "state": {
       "_model_module": "@jupyter-widgets/base",
       "_model_module_version": "1.2.0",
       "_model_name": "LayoutModel",
       "_view_count": null,
       "_view_module": "@jupyter-widgets/base",
       "_view_module_version": "1.2.0",
       "_view_name": "LayoutView",
       "align_content": null,
       "align_items": null,
       "align_self": null,
       "border": null,
       "bottom": null,
       "display": null,
       "flex": null,
       "flex_flow": null,
       "grid_area": null,
       "grid_auto_columns": null,
       "grid_auto_flow": null,
       "grid_auto_rows": null,
       "grid_column": null,
       "grid_gap": null,
       "grid_row": null,
       "grid_template_areas": null,
       "grid_template_columns": null,
       "grid_template_rows": null,
       "height": "60px",
       "justify_content": null,
       "justify_items": null,
       "left": null,
       "margin": null,
       "max_height": null,
       "max_width": null,
       "min_height": null,
       "min_width": null,
       "object_fit": null,
       "object_position": null,
       "order": null,
       "overflow": null,
       "overflow_x": null,
       "overflow_y": null,
       "padding": null,
       "right": null,
       "top": null,
       "visibility": null,
       "width": "25%"
      }
     },
     "8f27f475672144b18a42c0d280621cb6": {
      "model_module": "@jupyter-widgets/base",
      "model_module_version": "1.2.0",
      "model_name": "LayoutModel",
      "state": {
       "_model_module": "@jupyter-widgets/base",
       "_model_module_version": "1.2.0",
       "_model_name": "LayoutModel",
       "_view_count": null,
       "_view_module": "@jupyter-widgets/base",
       "_view_module_version": "1.2.0",
       "_view_name": "LayoutView",
       "align_content": null,
       "align_items": null,
       "align_self": null,
       "border": null,
       "bottom": null,
       "display": null,
       "flex": null,
       "flex_flow": null,
       "grid_area": null,
       "grid_auto_columns": null,
       "grid_auto_flow": null,
       "grid_auto_rows": null,
       "grid_column": null,
       "grid_gap": null,
       "grid_row": null,
       "grid_template_areas": null,
       "grid_template_columns": null,
       "grid_template_rows": null,
       "height": "60px",
       "justify_content": null,
       "justify_items": null,
       "left": null,
       "margin": null,
       "max_height": null,
       "max_width": null,
       "min_height": null,
       "min_width": null,
       "object_fit": null,
       "object_position": null,
       "order": null,
       "overflow": null,
       "overflow_x": null,
       "overflow_y": null,
       "padding": null,
       "right": null,
       "top": null,
       "visibility": null,
       "width": "25%"
      }
     },
     "8fcc00ac8ba84a898ea9b5cf5ab5a516": {
      "model_module": "@jupyter-widgets/base",
      "model_module_version": "1.2.0",
      "model_name": "LayoutModel",
      "state": {
       "_model_module": "@jupyter-widgets/base",
       "_model_module_version": "1.2.0",
       "_model_name": "LayoutModel",
       "_view_count": null,
       "_view_module": "@jupyter-widgets/base",
       "_view_module_version": "1.2.0",
       "_view_name": "LayoutView",
       "align_content": null,
       "align_items": null,
       "align_self": null,
       "border": null,
       "bottom": null,
       "display": null,
       "flex": null,
       "flex_flow": null,
       "grid_area": null,
       "grid_auto_columns": null,
       "grid_auto_flow": null,
       "grid_auto_rows": null,
       "grid_column": null,
       "grid_gap": null,
       "grid_row": null,
       "grid_template_areas": null,
       "grid_template_columns": null,
       "grid_template_rows": null,
       "height": "60px",
       "justify_content": null,
       "justify_items": null,
       "left": null,
       "margin": null,
       "max_height": null,
       "max_width": null,
       "min_height": null,
       "min_width": null,
       "object_fit": null,
       "object_position": null,
       "order": null,
       "overflow": null,
       "overflow_x": null,
       "overflow_y": null,
       "padding": null,
       "right": null,
       "top": null,
       "visibility": null,
       "width": "25%"
      }
     },
     "916665b9766a4779a8e0437f5bdc06f0": {
      "model_module": "@jupyter-widgets/base",
      "model_module_version": "1.2.0",
      "model_name": "LayoutModel",
      "state": {
       "_model_module": "@jupyter-widgets/base",
       "_model_module_version": "1.2.0",
       "_model_name": "LayoutModel",
       "_view_count": null,
       "_view_module": "@jupyter-widgets/base",
       "_view_module_version": "1.2.0",
       "_view_name": "LayoutView",
       "align_content": null,
       "align_items": null,
       "align_self": null,
       "border": null,
       "bottom": null,
       "display": null,
       "flex": null,
       "flex_flow": null,
       "grid_area": null,
       "grid_auto_columns": null,
       "grid_auto_flow": null,
       "grid_auto_rows": null,
       "grid_column": null,
       "grid_gap": null,
       "grid_row": null,
       "grid_template_areas": null,
       "grid_template_columns": null,
       "grid_template_rows": null,
       "height": "60px",
       "justify_content": null,
       "justify_items": null,
       "left": null,
       "margin": null,
       "max_height": null,
       "max_width": null,
       "min_height": null,
       "min_width": null,
       "object_fit": null,
       "object_position": null,
       "order": null,
       "overflow": null,
       "overflow_x": null,
       "overflow_y": null,
       "padding": null,
       "right": null,
       "top": null,
       "visibility": null,
       "width": "25%"
      }
     },
     "927d7f95ca044632870d8d55fb927184": {
      "model_module": "@jupyter-widgets/controls",
      "model_module_version": "1.5.0",
      "model_name": "ButtonModel",
      "state": {
       "_dom_classes": [],
       "_model_module": "@jupyter-widgets/controls",
       "_model_module_version": "1.5.0",
       "_model_name": "ButtonModel",
       "_view_count": null,
       "_view_module": "@jupyter-widgets/controls",
       "_view_module_version": "1.5.0",
       "_view_name": "ButtonView",
       "button_style": "",
       "description": "Show Answer",
       "disabled": false,
       "icon": "",
       "layout": "IPY_MODEL_e1f67a3c1e534889b1654a5478776ac4",
       "style": "IPY_MODEL_bc8208dd60e54a788f25e02b06881dd0",
       "tooltip": ""
      }
     },
     "93e3ad2c59364dc08dcba53d779f0e25": {
      "model_module": "@jupyter-widgets/controls",
      "model_module_version": "1.5.0",
      "model_name": "DescriptionStyleModel",
      "state": {
       "_model_module": "@jupyter-widgets/controls",
       "_model_module_version": "1.5.0",
       "_model_name": "DescriptionStyleModel",
       "_view_count": null,
       "_view_module": "@jupyter-widgets/base",
       "_view_module_version": "1.2.0",
       "_view_name": "StyleView",
       "description_width": ""
      }
     },
     "970d2d42d38a47e5a1693a8132dbae76": {
      "model_module": "@jupyter-widgets/controls",
      "model_module_version": "1.5.0",
      "model_name": "ButtonStyleModel",
      "state": {
       "_model_module": "@jupyter-widgets/controls",
       "_model_module_version": "1.5.0",
       "_model_name": "ButtonStyleModel",
       "_view_count": null,
       "_view_module": "@jupyter-widgets/base",
       "_view_module_version": "1.2.0",
       "_view_name": "StyleView",
       "button_color": null,
       "font_weight": ""
      }
     },
     "9d7d2bcdb8fc4d91819bb0235ad93b6a": {
      "model_module": "@jupyter-widgets/controls",
      "model_module_version": "1.5.0",
      "model_name": "ButtonStyleModel",
      "state": {
       "_model_module": "@jupyter-widgets/controls",
       "_model_module_version": "1.5.0",
       "_model_name": "ButtonStyleModel",
       "_view_count": null,
       "_view_module": "@jupyter-widgets/base",
       "_view_module_version": "1.2.0",
       "_view_name": "StyleView",
       "button_color": null,
       "font_weight": ""
      }
     },
     "a3c707a1cfab48989f25160b11fa3c7b": {
      "model_module": "@jupyter-widgets/base",
      "model_module_version": "1.2.0",
      "model_name": "LayoutModel",
      "state": {
       "_model_module": "@jupyter-widgets/base",
       "_model_module_version": "1.2.0",
       "_model_name": "LayoutModel",
       "_view_count": null,
       "_view_module": "@jupyter-widgets/base",
       "_view_module_version": "1.2.0",
       "_view_name": "LayoutView",
       "align_content": null,
       "align_items": null,
       "align_self": null,
       "border": null,
       "bottom": null,
       "display": null,
       "flex": null,
       "flex_flow": null,
       "grid_area": null,
       "grid_auto_columns": null,
       "grid_auto_flow": null,
       "grid_auto_rows": null,
       "grid_column": null,
       "grid_gap": null,
       "grid_row": null,
       "grid_template_areas": null,
       "grid_template_columns": null,
       "grid_template_rows": null,
       "height": null,
       "justify_content": null,
       "justify_items": null,
       "left": null,
       "margin": null,
       "max_height": null,
       "max_width": null,
       "min_height": null,
       "min_width": null,
       "object_fit": null,
       "object_position": null,
       "order": null,
       "overflow": null,
       "overflow_x": null,
       "overflow_y": null,
       "padding": null,
       "right": null,
       "top": null,
       "visibility": null,
       "width": null
      }
     },
     "a3e20c32bfd6428b91083a4559d8e24b": {
      "model_module": "@jupyter-widgets/base",
      "model_module_version": "1.2.0",
      "model_name": "LayoutModel",
      "state": {
       "_model_module": "@jupyter-widgets/base",
       "_model_module_version": "1.2.0",
       "_model_name": "LayoutModel",
       "_view_count": null,
       "_view_module": "@jupyter-widgets/base",
       "_view_module_version": "1.2.0",
       "_view_name": "LayoutView",
       "align_content": null,
       "align_items": null,
       "align_self": null,
       "border": null,
       "bottom": null,
       "display": null,
       "flex": null,
       "flex_flow": null,
       "grid_area": null,
       "grid_auto_columns": null,
       "grid_auto_flow": null,
       "grid_auto_rows": null,
       "grid_column": null,
       "grid_gap": null,
       "grid_row": null,
       "grid_template_areas": null,
       "grid_template_columns": null,
       "grid_template_rows": null,
       "height": null,
       "justify_content": null,
       "justify_items": null,
       "left": null,
       "margin": null,
       "max_height": null,
       "max_width": null,
       "min_height": null,
       "min_width": null,
       "object_fit": null,
       "object_position": null,
       "order": null,
       "overflow": null,
       "overflow_x": null,
       "overflow_y": null,
       "padding": null,
       "right": null,
       "top": null,
       "visibility": null,
       "width": null
      }
     },
     "a52d34cbe8464b89b6fb0d60adfebc15": {
      "model_module": "@jupyter-widgets/controls",
      "model_module_version": "1.5.0",
      "model_name": "HTMLModel",
      "state": {
       "_dom_classes": [],
       "_model_module": "@jupyter-widgets/controls",
       "_model_module_version": "1.5.0",
       "_model_name": "HTMLModel",
       "_view_count": null,
       "_view_module": "@jupyter-widgets/controls",
       "_view_module_version": "1.5.0",
       "_view_name": "HTMLView",
       "description": "",
       "description_tooltip": null,
       "layout": "IPY_MODEL_09fad61faa324f3ab075b1b237dec168",
       "placeholder": "​",
       "style": "IPY_MODEL_d790093c6455438a8c7083703368e66b",
       "value": " "
      }
     },
     "bb688e0ed75c4be1b82dc6037ae93c90": {
      "model_module": "@jupyter-widgets/base",
      "model_module_version": "1.2.0",
      "model_name": "LayoutModel",
      "state": {
       "_model_module": "@jupyter-widgets/base",
       "_model_module_version": "1.2.0",
       "_model_name": "LayoutModel",
       "_view_count": null,
       "_view_module": "@jupyter-widgets/base",
       "_view_module_version": "1.2.0",
       "_view_name": "LayoutView",
       "align_content": null,
       "align_items": null,
       "align_self": null,
       "border": null,
       "bottom": null,
       "display": null,
       "flex": null,
       "flex_flow": null,
       "grid_area": null,
       "grid_auto_columns": null,
       "grid_auto_flow": null,
       "grid_auto_rows": null,
       "grid_column": null,
       "grid_gap": null,
       "grid_row": null,
       "grid_template_areas": null,
       "grid_template_columns": null,
       "grid_template_rows": null,
       "height": null,
       "justify_content": null,
       "justify_items": null,
       "left": null,
       "margin": null,
       "max_height": null,
       "max_width": null,
       "min_height": null,
       "min_width": null,
       "object_fit": null,
       "object_position": null,
       "order": null,
       "overflow": null,
       "overflow_x": null,
       "overflow_y": null,
       "padding": null,
       "right": null,
       "top": null,
       "visibility": null,
       "width": null
      }
     },
     "bc8208dd60e54a788f25e02b06881dd0": {
      "model_module": "@jupyter-widgets/controls",
      "model_module_version": "1.5.0",
      "model_name": "ButtonStyleModel",
      "state": {
       "_model_module": "@jupyter-widgets/controls",
       "_model_module_version": "1.5.0",
       "_model_name": "ButtonStyleModel",
       "_view_count": null,
       "_view_module": "@jupyter-widgets/base",
       "_view_module_version": "1.2.0",
       "_view_name": "StyleView",
       "button_color": null,
       "font_weight": ""
      }
     },
     "c3644c115a7445a6b2db4af5592f7df4": {
      "model_module": "@jupyter-widgets/controls",
      "model_module_version": "1.5.0",
      "model_name": "ButtonStyleModel",
      "state": {
       "_model_module": "@jupyter-widgets/controls",
       "_model_module_version": "1.5.0",
       "_model_name": "ButtonStyleModel",
       "_view_count": null,
       "_view_module": "@jupyter-widgets/base",
       "_view_module_version": "1.2.0",
       "_view_name": "StyleView",
       "button_color": null,
       "font_weight": ""
      }
     },
     "c7bd809049ef483d843b2920370cd3bb": {
      "model_module": "@jupyter-widgets/base",
      "model_module_version": "1.2.0",
      "model_name": "LayoutModel",
      "state": {
       "_model_module": "@jupyter-widgets/base",
       "_model_module_version": "1.2.0",
       "_model_name": "LayoutModel",
       "_view_count": null,
       "_view_module": "@jupyter-widgets/base",
       "_view_module_version": "1.2.0",
       "_view_name": "LayoutView",
       "align_content": null,
       "align_items": null,
       "align_self": null,
       "border": null,
       "bottom": null,
       "display": null,
       "flex": null,
       "flex_flow": null,
       "grid_area": null,
       "grid_auto_columns": null,
       "grid_auto_flow": null,
       "grid_auto_rows": null,
       "grid_column": null,
       "grid_gap": null,
       "grid_row": null,
       "grid_template_areas": null,
       "grid_template_columns": null,
       "grid_template_rows": null,
       "height": "60px",
       "justify_content": null,
       "justify_items": null,
       "left": null,
       "margin": null,
       "max_height": null,
       "max_width": null,
       "min_height": null,
       "min_width": null,
       "object_fit": null,
       "object_position": null,
       "order": null,
       "overflow": null,
       "overflow_x": null,
       "overflow_y": null,
       "padding": null,
       "right": null,
       "top": null,
       "visibility": null,
       "width": "25%"
      }
     },
     "ca44dc026aa4445f8b6e4c05c071290f": {
      "model_module": "@jupyter-widgets/controls",
      "model_module_version": "1.5.0",
      "model_name": "ButtonModel",
      "state": {
       "_dom_classes": [],
       "_model_module": "@jupyter-widgets/controls",
       "_model_module_version": "1.5.0",
       "_model_name": "ButtonModel",
       "_view_count": null,
       "_view_module": "@jupyter-widgets/controls",
       "_view_module_version": "1.5.0",
       "_view_name": "ButtonView",
       "button_style": "info",
       "description": "Throw",
       "disabled": false,
       "icon": "",
       "layout": "IPY_MODEL_3c379f243f1b4d6395af6eb34ba26710",
       "style": "IPY_MODEL_193fb4aacab347caba44d8bd33c9a9e7",
       "tooltip": ""
      }
     },
     "d2499428b56e4684ab34d00bfb65c301": {
      "model_module": "@jupyter-widgets/controls",
      "model_module_version": "1.5.0",
      "model_name": "ButtonModel",
      "state": {
       "_dom_classes": [],
       "_model_module": "@jupyter-widgets/controls",
       "_model_module_version": "1.5.0",
       "_model_name": "ButtonModel",
       "_view_count": null,
       "_view_module": "@jupyter-widgets/controls",
       "_view_module_version": "1.5.0",
       "_view_name": "ButtonView",
       "button_style": "info",
       "description": "Check Answers",
       "disabled": false,
       "icon": "",
       "layout": "IPY_MODEL_5cdb8f9501314237a74f52fdd6823d6f",
       "style": "IPY_MODEL_e2dad390bd244680bc4370d6a637897b",
       "tooltip": ""
      }
     },
     "d2796fb1d03b4598aadcc60a95bd39d5": {
      "model_module": "@jupyter-widgets/controls",
      "model_module_version": "1.5.0",
      "model_name": "ButtonStyleModel",
      "state": {
       "_model_module": "@jupyter-widgets/controls",
       "_model_module_version": "1.5.0",
       "_model_name": "ButtonStyleModel",
       "_view_count": null,
       "_view_module": "@jupyter-widgets/base",
       "_view_module_version": "1.2.0",
       "_view_name": "StyleView",
       "button_color": null,
       "font_weight": ""
      }
     },
     "d369ed5c7ae94acdbd7195fbbdc77da0": {
      "model_module": "@jupyter-widgets/base",
      "model_module_version": "1.2.0",
      "model_name": "LayoutModel",
      "state": {
       "_model_module": "@jupyter-widgets/base",
       "_model_module_version": "1.2.0",
       "_model_name": "LayoutModel",
       "_view_count": null,
       "_view_module": "@jupyter-widgets/base",
       "_view_module_version": "1.2.0",
       "_view_name": "LayoutView",
       "align_content": null,
       "align_items": null,
       "align_self": null,
       "border": null,
       "bottom": null,
       "display": null,
       "flex": null,
       "flex_flow": null,
       "grid_area": null,
       "grid_auto_columns": null,
       "grid_auto_flow": null,
       "grid_auto_rows": null,
       "grid_column": null,
       "grid_gap": null,
       "grid_row": null,
       "grid_template_areas": null,
       "grid_template_columns": null,
       "grid_template_rows": null,
       "height": "60px",
       "justify_content": null,
       "justify_items": null,
       "left": null,
       "margin": null,
       "max_height": null,
       "max_width": null,
       "min_height": null,
       "min_width": null,
       "object_fit": null,
       "object_position": null,
       "order": null,
       "overflow": null,
       "overflow_x": null,
       "overflow_y": null,
       "padding": null,
       "right": null,
       "top": null,
       "visibility": null,
       "width": "25%"
      }
     },
     "d43f9da3cdce4c7983f47942749600ad": {
      "model_module": "@jupyter-widgets/controls",
      "model_module_version": "1.5.0",
      "model_name": "ButtonModel",
      "state": {
       "_dom_classes": [],
       "_model_module": "@jupyter-widgets/controls",
       "_model_module_version": "1.5.0",
       "_model_name": "ButtonModel",
       "_view_count": null,
       "_view_module": "@jupyter-widgets/controls",
       "_view_module_version": "1.5.0",
       "_view_name": "ButtonView",
       "button_style": "info",
       "description": "Check Answers",
       "disabled": false,
       "icon": "",
       "layout": "IPY_MODEL_916665b9766a4779a8e0437f5bdc06f0",
       "style": "IPY_MODEL_6d95bc5702594a51b586ace566db189b",
       "tooltip": ""
      }
     },
     "d790093c6455438a8c7083703368e66b": {
      "model_module": "@jupyter-widgets/controls",
      "model_module_version": "1.5.0",
      "model_name": "DescriptionStyleModel",
      "state": {
       "_model_module": "@jupyter-widgets/controls",
       "_model_module_version": "1.5.0",
       "_model_name": "DescriptionStyleModel",
       "_view_count": null,
       "_view_module": "@jupyter-widgets/base",
       "_view_module_version": "1.2.0",
       "_view_name": "StyleView",
       "description_width": ""
      }
     },
     "db774431f97e441eb02d9aa8de0cdc55": {
      "model_module": "@jupyter-widgets/controls",
      "model_module_version": "1.5.0",
      "model_name": "ButtonModel",
      "state": {
       "_dom_classes": [],
       "_model_module": "@jupyter-widgets/controls",
       "_model_module_version": "1.5.0",
       "_model_name": "ButtonModel",
       "_view_count": null,
       "_view_module": "@jupyter-widgets/controls",
       "_view_module_version": "1.5.0",
       "_view_name": "ButtonView",
       "button_style": "info",
       "description": "Question #2",
       "disabled": false,
       "icon": "",
       "layout": "IPY_MODEL_d369ed5c7ae94acdbd7195fbbdc77da0",
       "style": "IPY_MODEL_854af07580d743d5a63dc9197d3fc20b",
       "tooltip": ""
      }
     },
     "dc419aeaaac241749f58c61e0dc74222": {
      "model_module": "@jupyter-widgets/base",
      "model_module_version": "1.2.0",
      "model_name": "LayoutModel",
      "state": {
       "_model_module": "@jupyter-widgets/base",
       "_model_module_version": "1.2.0",
       "_model_name": "LayoutModel",
       "_view_count": null,
       "_view_module": "@jupyter-widgets/base",
       "_view_module_version": "1.2.0",
       "_view_name": "LayoutView",
       "align_content": null,
       "align_items": null,
       "align_self": null,
       "border": null,
       "bottom": null,
       "display": null,
       "flex": null,
       "flex_flow": null,
       "grid_area": null,
       "grid_auto_columns": null,
       "grid_auto_flow": null,
       "grid_auto_rows": null,
       "grid_column": null,
       "grid_gap": null,
       "grid_row": null,
       "grid_template_areas": null,
       "grid_template_columns": null,
       "grid_template_rows": null,
       "height": null,
       "justify_content": null,
       "justify_items": null,
       "left": null,
       "margin": null,
       "max_height": null,
       "max_width": null,
       "min_height": null,
       "min_width": null,
       "object_fit": null,
       "object_position": null,
       "order": null,
       "overflow": null,
       "overflow_x": null,
       "overflow_y": null,
       "padding": null,
       "right": null,
       "top": null,
       "visibility": null,
       "width": null
      }
     },
     "df37f462b69642be8d702f4953664996": {
      "model_module": "@jupyter-widgets/base",
      "model_module_version": "1.2.0",
      "model_name": "LayoutModel",
      "state": {
       "_model_module": "@jupyter-widgets/base",
       "_model_module_version": "1.2.0",
       "_model_name": "LayoutModel",
       "_view_count": null,
       "_view_module": "@jupyter-widgets/base",
       "_view_module_version": "1.2.0",
       "_view_name": "LayoutView",
       "align_content": null,
       "align_items": null,
       "align_self": null,
       "border": null,
       "bottom": null,
       "display": null,
       "flex": null,
       "flex_flow": null,
       "grid_area": null,
       "grid_auto_columns": null,
       "grid_auto_flow": null,
       "grid_auto_rows": null,
       "grid_column": null,
       "grid_gap": null,
       "grid_row": null,
       "grid_template_areas": null,
       "grid_template_columns": null,
       "grid_template_rows": null,
       "height": null,
       "justify_content": null,
       "justify_items": null,
       "left": null,
       "margin": null,
       "max_height": null,
       "max_width": null,
       "min_height": null,
       "min_width": null,
       "object_fit": null,
       "object_position": null,
       "order": null,
       "overflow": null,
       "overflow_x": null,
       "overflow_y": null,
       "padding": null,
       "right": null,
       "top": null,
       "visibility": null,
       "width": null
      }
     },
     "e0ed7191ae1f45a3ab7eabeb707812e1": {
      "model_module": "@jupyter-widgets/controls",
      "model_module_version": "1.5.0",
      "model_name": "ButtonModel",
      "state": {
       "_dom_classes": [],
       "_model_module": "@jupyter-widgets/controls",
       "_model_module_version": "1.5.0",
       "_model_name": "ButtonModel",
       "_view_count": null,
       "_view_module": "@jupyter-widgets/controls",
       "_view_module_version": "1.5.0",
       "_view_name": "ButtonView",
       "button_style": "info",
       "description": "Save & View Answer",
       "disabled": false,
       "icon": "",
       "layout": "IPY_MODEL_730e95b5a1c74517956b9d3251f2f327",
       "style": "IPY_MODEL_c3644c115a7445a6b2db4af5592f7df4",
       "tooltip": ""
      }
     },
     "e1f67a3c1e534889b1654a5478776ac4": {
      "model_module": "@jupyter-widgets/base",
      "model_module_version": "1.2.0",
      "model_name": "LayoutModel",
      "state": {
       "_model_module": "@jupyter-widgets/base",
       "_model_module_version": "1.2.0",
       "_model_name": "LayoutModel",
       "_view_count": null,
       "_view_module": "@jupyter-widgets/base",
       "_view_module_version": "1.2.0",
       "_view_name": "LayoutView",
       "align_content": null,
       "align_items": null,
       "align_self": null,
       "border": null,
       "bottom": null,
       "display": null,
       "flex": null,
       "flex_flow": null,
       "grid_area": null,
       "grid_auto_columns": null,
       "grid_auto_flow": null,
       "grid_auto_rows": null,
       "grid_column": null,
       "grid_gap": null,
       "grid_row": null,
       "grid_template_areas": null,
       "grid_template_columns": null,
       "grid_template_rows": null,
       "height": null,
       "justify_content": null,
       "justify_items": null,
       "left": null,
       "margin": null,
       "max_height": null,
       "max_width": null,
       "min_height": null,
       "min_width": null,
       "object_fit": null,
       "object_position": null,
       "order": null,
       "overflow": null,
       "overflow_x": null,
       "overflow_y": null,
       "padding": null,
       "right": null,
       "top": null,
       "visibility": null,
       "width": null
      }
     },
     "e2dad390bd244680bc4370d6a637897b": {
      "model_module": "@jupyter-widgets/controls",
      "model_module_version": "1.5.0",
      "model_name": "ButtonStyleModel",
      "state": {
       "_model_module": "@jupyter-widgets/controls",
       "_model_module_version": "1.5.0",
       "_model_name": "ButtonStyleModel",
       "_view_count": null,
       "_view_module": "@jupyter-widgets/base",
       "_view_module_version": "1.2.0",
       "_view_name": "StyleView",
       "button_color": null,
       "font_weight": ""
      }
     },
     "e5e6b8148eb04122a80bf9649ae4edb2": {
      "model_module": "@jupyter-widgets/base",
      "model_module_version": "1.2.0",
      "model_name": "LayoutModel",
      "state": {
       "_model_module": "@jupyter-widgets/base",
       "_model_module_version": "1.2.0",
       "_model_name": "LayoutModel",
       "_view_count": null,
       "_view_module": "@jupyter-widgets/base",
       "_view_module_version": "1.2.0",
       "_view_name": "LayoutView",
       "align_content": null,
       "align_items": null,
       "align_self": null,
       "border": null,
       "bottom": null,
       "display": null,
       "flex": null,
       "flex_flow": null,
       "grid_area": null,
       "grid_auto_columns": null,
       "grid_auto_flow": null,
       "grid_auto_rows": null,
       "grid_column": null,
       "grid_gap": null,
       "grid_row": null,
       "grid_template_areas": null,
       "grid_template_columns": null,
       "grid_template_rows": null,
       "height": "250px",
       "justify_content": null,
       "justify_items": null,
       "left": null,
       "margin": null,
       "max_height": null,
       "max_width": null,
       "min_height": null,
       "min_width": null,
       "object_fit": null,
       "object_position": null,
       "order": null,
       "overflow": null,
       "overflow_x": null,
       "overflow_y": null,
       "padding": null,
       "right": null,
       "top": null,
       "visibility": null,
       "width": "50%"
      }
     },
     "e7867c9c05de4f3f81d78a9f81f315db": {
      "model_module": "@jupyter-widgets/controls",
      "model_module_version": "1.5.0",
      "model_name": "DescriptionStyleModel",
      "state": {
       "_model_module": "@jupyter-widgets/controls",
       "_model_module_version": "1.5.0",
       "_model_name": "DescriptionStyleModel",
       "_view_count": null,
       "_view_module": "@jupyter-widgets/base",
       "_view_module_version": "1.2.0",
       "_view_name": "StyleView",
       "description_width": ""
      }
     },
     "ed43b18f8a67452a85eaa224498497b4": {
      "model_module": "@jupyter-widgets/controls",
      "model_module_version": "1.5.0",
      "model_name": "ButtonStyleModel",
      "state": {
       "_model_module": "@jupyter-widgets/controls",
       "_model_module_version": "1.5.0",
       "_model_name": "ButtonStyleModel",
       "_view_count": null,
       "_view_module": "@jupyter-widgets/base",
       "_view_module_version": "1.2.0",
       "_view_name": "StyleView",
       "button_color": null,
       "font_weight": ""
      }
     },
     "ef4a0b5f247d4e07bb3bd2cb4c0f4a36": {
      "model_module": "@jupyter-widgets/base",
      "model_module_version": "1.2.0",
      "model_name": "LayoutModel",
      "state": {
       "_model_module": "@jupyter-widgets/base",
       "_model_module_version": "1.2.0",
       "_model_name": "LayoutModel",
       "_view_count": null,
       "_view_module": "@jupyter-widgets/base",
       "_view_module_version": "1.2.0",
       "_view_name": "LayoutView",
       "align_content": null,
       "align_items": null,
       "align_self": null,
       "border": null,
       "bottom": null,
       "display": null,
       "flex": null,
       "flex_flow": null,
       "grid_area": null,
       "grid_auto_columns": null,
       "grid_auto_flow": null,
       "grid_auto_rows": null,
       "grid_column": null,
       "grid_gap": null,
       "grid_row": null,
       "grid_template_areas": null,
       "grid_template_columns": null,
       "grid_template_rows": null,
       "height": "30px",
       "justify_content": null,
       "justify_items": null,
       "left": null,
       "margin": null,
       "max_height": null,
       "max_width": null,
       "min_height": null,
       "min_width": null,
       "object_fit": null,
       "object_position": null,
       "order": null,
       "overflow": null,
       "overflow_x": null,
       "overflow_y": null,
       "padding": null,
       "right": null,
       "top": null,
       "visibility": null,
       "width": "50%"
      }
     },
     "efd47f7a946f4add88761781d0fd8bac": {
      "model_module": "@jupyter-widgets/controls",
      "model_module_version": "1.5.0",
      "model_name": "TextareaModel",
      "state": {
       "_dom_classes": [],
       "_model_module": "@jupyter-widgets/controls",
       "_model_module_version": "1.5.0",
       "_model_name": "TextareaModel",
       "_view_count": null,
       "_view_module": "@jupyter-widgets/controls",
       "_view_module_version": "1.5.0",
       "_view_name": "TextareaView",
       "continuous_update": true,
       "description": "",
       "description_tooltip": null,
       "disabled": false,
       "layout": "IPY_MODEL_50bf4930443e4bb29837b3a0547ac1cf",
       "placeholder": "Enter your answer here.",
       "rows": null,
       "style": "IPY_MODEL_f975b1d33d7740eb9d8c9066c84e672a",
       "value": ""
      }
     },
     "efd5cf757b2043b3bd6c409583e4b913": {
      "model_module": "@jupyter-widgets/controls",
      "model_module_version": "1.5.0",
      "model_name": "DescriptionStyleModel",
      "state": {
       "_model_module": "@jupyter-widgets/controls",
       "_model_module_version": "1.5.0",
       "_model_name": "DescriptionStyleModel",
       "_view_count": null,
       "_view_module": "@jupyter-widgets/base",
       "_view_module_version": "1.2.0",
       "_view_name": "StyleView",
       "description_width": ""
      }
     },
     "f32b7d11286147ff8f24c7b477d1a9d1": {
      "model_module": "@jupyter-widgets/controls",
      "model_module_version": "1.5.0",
      "model_name": "ButtonStyleModel",
      "state": {
       "_model_module": "@jupyter-widgets/controls",
       "_model_module_version": "1.5.0",
       "_model_name": "ButtonStyleModel",
       "_view_count": null,
       "_view_module": "@jupyter-widgets/base",
       "_view_module_version": "1.2.0",
       "_view_name": "StyleView",
       "button_color": null,
       "font_weight": ""
      }
     },
     "f95ef1acf61f4411879c768ed4973cb1": {
      "model_module": "@jupyter-widgets/controls",
      "model_module_version": "1.5.0",
      "model_name": "RadioButtonsModel",
      "state": {
       "_dom_classes": [],
       "_model_module": "@jupyter-widgets/controls",
       "_model_module_version": "1.5.0",
       "_model_name": "RadioButtonsModel",
       "_options_labels": [
        "True",
        "False"
       ],
       "_view_count": null,
       "_view_module": "@jupyter-widgets/controls",
       "_view_module_version": "1.5.0",
       "_view_name": "RadioButtonsView",
       "description": "",
       "description_tooltip": null,
       "disabled": false,
       "index": null,
       "layout": "IPY_MODEL_1e67b965bd3643ac809e9bcef5a712be",
       "style": "IPY_MODEL_34afde582be24e119901df7459553cfa"
      }
     },
     "f975b1d33d7740eb9d8c9066c84e672a": {
      "model_module": "@jupyter-widgets/controls",
      "model_module_version": "1.5.0",
      "model_name": "DescriptionStyleModel",
      "state": {
       "_model_module": "@jupyter-widgets/controls",
       "_model_module_version": "1.5.0",
       "_model_name": "DescriptionStyleModel",
       "_view_count": null,
       "_view_module": "@jupyter-widgets/base",
       "_view_module_version": "1.2.0",
       "_view_name": "StyleView",
       "description_width": ""
      }
     }
    },
    "version_major": 2,
    "version_minor": 0
   }
  }
 },
 "nbformat": 4,
 "nbformat_minor": 2
}