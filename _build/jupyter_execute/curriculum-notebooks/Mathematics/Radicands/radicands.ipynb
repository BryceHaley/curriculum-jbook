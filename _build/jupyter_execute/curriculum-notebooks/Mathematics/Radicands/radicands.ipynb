{
 "cells": [
  {
   "cell_type": "markdown",
   "metadata": {},
   "source": [
    "![Callysto.ca Banner](https://github.com/callysto/curriculum-notebooks/blob/master/callysto-notebook-banner-top.jpg?raw=true)\n",
    "\n",
    "<a href=\"https://hub.callysto.ca/jupyter/hub/user-redirect/git-pull?repo=https%3A%2F%2Fgithub.com%2Fcallysto%2Fcurriculum-notebooks&branch=master&subPath=Mathematics/Radicands/radicands.ipynb&depth=1\" target=\"_parent\"><img src=\"https://raw.githubusercontent.com/callysto/curriculum-notebooks/master/open-in-callysto-button.svg?sanitize=true\" width=\"123\" height=\"24\" alt=\"Open in Callysto\"/></a>"
   ]
  },
  {
   "cell_type": "code",
   "execution_count": 1,
   "metadata": {},
   "outputs": [
    {
     "data": {
      "application/javascript": [
       "\n",
       "            require.config({\n",
       "                paths: {\n",
       "                    ggb: \"https://cdn.geogebra.org/apps/deployggb\"\n",
       "                }\n",
       "            });\n",
       "\n",
       "            require([\"ggb\"]);\n",
       "        "
      ],
      "text/plain": [
       "<IPython.core.display.Javascript object>"
      ]
     },
     "metadata": {},
     "output_type": "display_data"
    },
    {
     "data": {
      "text/html": [
       "<script>\n",
       "  function code_toggle() {\n",
       "    if (code_shown){\n",
       "      $('div.input').hide('500');\n",
       "      $('#toggleButton').val('Show Code')\n",
       "    } else {\n",
       "      $('div.input').show('500');\n",
       "      $('#toggleButton').val('Hide Code')\n",
       "    }\n",
       "    code_shown = !code_shown\n",
       "  }\n",
       "\n",
       "  $( document ).ready(function(){\n",
       "    code_shown=false;\n",
       "    $('div.input').hide()\n",
       "  });\n",
       "</script>\n",
       "<form action=\"javascript:code_toggle()\"><input type=\"submit\" id=\"toggleButton\" value=\"Show Code\"></form>"
      ],
      "text/plain": [
       "<IPython.core.display.HTML object>"
      ]
     },
     "execution_count": 1,
     "metadata": {},
     "output_type": "execute_result"
    }
   ],
   "source": [
    "import numpy as np\n",
    "import pylab as plt\n",
    "from IPython.display import display, Latex, clear_output, Markdown, Image, HTML, Javascript\n",
    "import ipywidgets as widgets\n",
    "from astropy.table import Table, Column\n",
    "from ipywidgets import interact, interactive, Button , Layout\n",
    "import ipywidgets as w\n",
    "import matplotlib.pyplot as plt\n",
    "import plotly.graph_objs as go\n",
    "import math\n",
    "from ggb import *\n",
    "\n",
    "ggb = GGB()\n",
    "\n",
    "\n",
    "# Create a text box for user to input text\n",
    "\n",
    "get_user_text = w.Textarea( value='', placeholder='Enter your text here.', description='', disabled=False , layout=Layout(width='100%', height='250px') )\n",
    "\n",
    "# Create a slider to obtain shift integer from user \n",
    "\n",
    "get_user_shift = w.IntSlider( value=7, min=1, max=26, step=1, description='Ceasar Shift:', disabled=False, continuous_update=False, orientation='horizontal', readout=True, readout_format='d')\n",
    "\n",
    "# Function: After clicking on a button prompt, the next cell is executed.\n",
    "\n",
    "def rerun_cell(ev):\n",
    "    \n",
    "    display(Javascript('IPython.notebook.execute_cell_range(IPython.notebook.get_selected_index()+1,IPython.notebook.get_selected_index()+2)'))\n",
    "    button_t = w.Button(button_style='info',description=\"Restart\") \n",
    "\n",
    "\n",
    "from IPython.display import HTML\n",
    "HTML('''<script>\n",
    "  function code_toggle() {\n",
    "    if (code_shown){\n",
    "      $('div.input').hide('500');\n",
    "      $('#toggleButton').val('Show Code')\n",
    "    } else {\n",
    "      $('div.input').show('500');\n",
    "      $('#toggleButton').val('Hide Code')\n",
    "    }\n",
    "    code_shown = !code_shown\n",
    "  }\n",
    "  \n",
    "  $( document ).ready(function(){\n",
    "    code_shown=false;\n",
    "    $('div.input').hide()\n",
    "  });\n",
    "</script>\n",
    "<form action=\"javascript:code_toggle()\"><input type=\"submit\" id=\"toggleButton\" value=\"Show Code\"></form>''')"
   ]
  },
  {
   "cell_type": "markdown",
   "metadata": {},
   "source": [
    "# Radicans: Simplifying\n",
    "\n",
    "\n",
    "\n",
    "## Overview\n",
    "\n",
    ">### Lesson outcomes\n",
    "\n",
    "<ul>\n",
    "    <li> Compare and simplify radical expressions with numbers and variables. </li>\n",
    "    <li> Express an entire radical as a mixed radical and vice versa. </li>\n",
    "    <li> Rationalize  a radical expression.</li>\n",
    "    <li>Identify values for which the radical expression is defined.</li>\n",
    "</ul>\n",
    "\n",
    "\n",
    "## Introduction\n",
    "\n",
    "\n",
    "**Radicals** (or *roots*) are the *opposite* operation of applying exponents: we can undo a power with a radical, and we can undo a radical with a power. \n",
    "For instance, if we square 2, we get 4, and if we \"take the square root of 4\", we get 2.\n",
    "In mathematical notation, the previous sentence means the following:\n",
    "\n",
    "$$2^2 = 4, \\quad \\text{so} \\quad \\sqrt{4} = 2$$\n",
    "\n",
    "The $\\sqrt{}$ symbol used above is called the radical symbol. The expression $\\sqrt{9}$ is read as \"root nine\", \"radical nine\", or \"the square root of nine\".\n",
    "\n",
    "The figure below should help you understand what we mean by squaring a number\n",
    "\n",
    "\n"
   ]
  },
  {
   "cell_type": "code",
   "execution_count": 2,
   "metadata": {},
   "outputs": [
    {
     "data": {
      "text/html": [
       "<div id=\"ggb_0_0e\"></div>"
      ],
      "text/plain": [
       "<IPython.core.display.HTML object>"
      ]
     },
     "metadata": {},
     "output_type": "display_data"
    },
    {
     "data": {
      "application/javascript": [
       "var ggb_0_0e = new GGBApplet({\"filename\": \"files/square_numbers.ggb\"}, \"ggb_0_0e\", false); ggb_0_0e.inject(); "
      ],
      "text/plain": [
       "<IPython.core.display.Javascript object>"
      ]
     },
     "metadata": {},
     "output_type": "display_data"
    }
   ],
   "source": [
    "ggb.file('files/square_numbers.ggb').draw();"
   ]
  },
  {
   "cell_type": "markdown",
   "metadata": {},
   "source": [
    "Numbers can be raised to powers other than just 2; you can cube things, raise them to the fourth power, raise them to the 100th power, and so forth. In the same way, you can take the cube root of a number, the fourth root, the 100th root, and so forth. To indicate some root other than a square root, you use the same radical symbol, but you insert a number into the radical, tucking it into the check mark. For example:\n",
    "\n",
    "$$4^3 =64 \\qquad \\sqrt[3]{64} = 4$$\n",
    "\n",
    "The $3$ inside the check mark part is the **index** of the radical. The $64$ is *the argument of the radical*, also called **the radicand**. Since most radicals you see are square roots, the index is notincluded on square roots. \n",
    "\n",
    "Throughout this notebook, we will only deal with the **square root**. The  equation for the square root function is\n",
    "\n",
    "$$y =\\sqrt{x}.$$\n",
    "\n",
    "The figure below displays what the graph of the square root looks like."
   ]
  },
  {
   "cell_type": "code",
   "execution_count": 3,
   "metadata": {},
   "outputs": [
    {
     "data": {
      "image/png": "[encoded data removed]",
      "text/plain": [
       "<Figure size 432x288 with 1 Axes>"
      ]
     },
     "metadata": {
      "filenames": {
       "image/png": "/home/mikel/Documents/curriculum-jbook-local/_build/jupyter_execute/curriculum-notebooks/Mathematics/Radicands/radicands_5_0.png"
      },
      "needs_background": "light"
     },
     "output_type": "display_data"
    }
   ],
   "source": [
    "x = np.linspace(0,100, 100)\n",
    "y = np.sqrt(x)\n",
    "plt.plot(x,y)\n",
    "plt.title(\"Graph of $y = \\sqrt{x}$\")\n",
    "plt.xlabel(\"$x$\")\n",
    "plt.ylabel(\"$y$\")\n",
    "axes = plt.gca()\n",
    "plt.show()"
   ]
  },
  {
   "cell_type": "markdown",
   "metadata": {},
   "source": [
    "### Compare and order radical expressions with numerical radicands.\n",
    "\n",
    "\n",
    "To compare irrational numbers that are square roots, we can simply examine the number that we are taking the square root of. For example, we know that $\\sqrt{15} < \\sqrt{17}$ because $15$ is less than $17$.\n",
    "\n",
    "The reason for this is that the function \n",
    "\n",
    "$$y =\\sqrt{x}$$\n",
    "\n",
    "is *increasing*. This means that given any two numbers $a$ and $b$, if $a < b$ then $f(a) < f(b)$, in other words, a function is increasing when the output is always bigger than the input.\n",
    "\n",
    "Observe the figure below where the points $5$ and $10$ are highlighted. Because $5<10$, then also $\\sqrt{5} <\\sqrt{10}$.\n",
    "\n",
    "<img src=\"./figures/sqrt_increasing.jpg\" style=\"width: 700px;\"/>\n",
    "\n",
    "This rule holds for any number under the square root!\n",
    "\n",
    "Therefore, it is pretty easy to compare and order numerical radicands. You just look at the number under the square root and decide which one is bigger.\n",
    "\n",
    "\n",
    "Use the activity below to test your understanding."
   ]
  },
  {
   "cell_type": "code",
   "execution_count": 4,
   "metadata": {},
   "outputs": [
    {
     "data": {
      "text/latex": [
       "Is $\\sqrt{45}$ smaller than $\\sqrt{33}$?"
      ],
      "text/plain": [
       "<IPython.core.display.Latex object>"
      ]
     },
     "metadata": {},
     "output_type": "display_data"
    },
    {
     "data": {
      "application/vnd.jupyter.widget-view+json": {
       "model_id": "b71d779e26e744cbaeacbb3a8c80eb9c",
       "version_major": 2,
       "version_minor": 0
      },
      "text/plain": [
       "interactive(children=(Dropdown(description='Choose One:', options=(' ', 'Yes', 'No'), value=' '), Output()), _…"
      ]
     },
     "metadata": {},
     "output_type": "display_data"
    }
   ],
   "source": [
    "def rad(val):\n",
    "    if val == \"Yes\":\n",
    "        display(Latex(\"No! $45>33$, therefore $\\sqrt{45}>\\sqrt{33}$.\"))\n",
    "        #display(Latex(\"This equation has no exponent on either variable, and is therefore linear.\"))\n",
    "    elif val == \"No\":\n",
    "        display(Latex(\"Correct!\"))\n",
    "\n",
    "display(Latex(\"Is $\\sqrt{45}$ smaller than $\\sqrt{33}$?\"))\n",
    "\n",
    "    \n",
    "interact(rad, val = widgets.Dropdown(options=[' ','Yes', 'No'],value = ' ',description = 'Choose One:',disabled = False));"
   ]
  },
  {
   "cell_type": "markdown",
   "metadata": {},
   "source": [
    "However, if you're trying to compare a radical expression to a decimal number things may get little bit more tricky.\n",
    "\n",
    "For example, let's say you have to decide which number, between $\\sqrt{29}$ and $5.1$ is bigger.\n",
    "\n",
    "Well we know that \n",
    "\n",
    "$$\\sqrt{29}>\\sqrt{25} = 5,$$ \n",
    "\n",
    "and\n",
    "\n",
    "$$\\sqrt{29}<\\sqrt{36} = 6,$$\n",
    "\n",
    "Because $29$ is almost halfway between $25$ and $36$ we can estimate that $\\sqrt{29}$ would be closer to $5.5$ than to $5.1$. Therefore, we can conclude that\n",
    "\n",
    "$$\\sqrt{29} > 5.1.$$\n",
    "\n",
    "Say now we want to compare $\\sqrt{27}$ and $5.1$. This time, $\\sqrt{27}$ is much closer to $\\sqrt{25}$ and $\\sqrt{36}$ so it is more complicated to decide which number is bigger.\n",
    "\n",
    "The safest way to make a decision, in this case, is by squaring $5.1$ and see if it is bigger that $27$ or not.\n",
    "\n",
    "$$5.1^2 = 5.1 \\cdot5.1 = 26.01$$\n",
    "\n",
    "Therefore, $\\sqrt{26.01} = 5.1$. Now, since $\\sqrt{27} > \\sqrt{26.01}$, we conclude that \n",
    "\n",
    "\n",
    "$$\\sqrt{27}> 5.1$$"
   ]
  },
  {
   "cell_type": "markdown",
   "metadata": {},
   "source": [
    "### Properties of Radicands\n",
    "\n",
    "Before explaining how to simplify radical expressions, we need to learn about some of their properties.\n",
    "\n",
    "**Product of Radicands**\n",
    "\n",
    "This property lets you take a square root of a product of numbers and break up the radical into the product of separate square roots. \n",
    "\n",
    "$$\\left(\\sqrt{ab}\\right)^2 = ab = a \\cdot b = \\left(\\sqrt{a}\\right)^2  \\left(\\sqrt{b}\\right)^2 =  \\left(\\sqrt{a}  \\sqrt{b}\\right)^2$$\n",
    "\n",
    "\n",
    "So we have\n",
    "\n",
    "$$\\sqrt{ab}  = \\sqrt{a}\\sqrt{b}$$\n",
    "\n",
    "Note that this property is valid for all $a,b \\geq 0$\n",
    "\n",
    "Another way to think about this property is that **the root of the product is the product of the roots**.\n",
    "\n",
    "**Quotient of Radicands**\n",
    "\n",
    "This property lets you take a square root of the quotient of numbers and break up the radical into the quotient of separate square roots. \n",
    "\n",
    "$$\\left(\\sqrt{\\frac{a}{b}}\\right)^2 =\\frac{a}{b} =  \\frac{\\left(\\sqrt{a}\\right)^2}{  \\left(\\sqrt{b}\\right)^2 } =\\left(\\frac{\\sqrt{a} }{ \\sqrt{b}}\\right)^2$$\n",
    "\n",
    "So we have\n",
    "\n",
    "$$\\sqrt{\\frac{a}{b}} = \\frac{\\sqrt{a}}{\\sqrt{b}}$$\n",
    "\n",
    "This property is valid for all $a \\geq 0$ and for $b>0$.\n",
    "\n",
    "Another way to think about this property is that **the root of a quotient is the quotient of the roots**.\n",
    "\n",
    "\n",
    "*Remark*\n",
    "\n",
    "Also note that while we can break up products and quotients under a radical we can’t do the same thing for sums or differences.  In other words,\n",
    "\n",
    "$$\\sqrt{a + b} \\neq \\sqrt{a} + \\sqrt{b} \\qquad \\sqrt{a - b} \\neq \\sqrt{a} - \\sqrt{b}$$\n"
   ]
  },
  {
   "cell_type": "markdown",
   "metadata": {},
   "source": [
    "### Simplify square root terms\n",
    "\n",
    "\n",
    "We already learned that taking the quare root of a number is the opposite operation than raising to the power of two.\n",
    "The following table summarizes these results for the first $10$ positive integers.\n",
    "\n",
    "|[]()|[]()|[]()|[]()|[]()|\n",
    "|--------------|--------|-------|--------|---------|\n",
    "| $\\sqrt{1}$   | = $1$  | since | $1^2$  | = $1$   |\n",
    "| $\\sqrt{4}$   | = $2$  | since | $2^2$  | = $4$   |\n",
    "| $\\sqrt{9}$   | = $3$  | since | $3^2$  | = $9$   |\n",
    "| $\\sqrt{16}$  | = $4$  | since | $4^2$  | = $16$  |\n",
    "| $\\sqrt{25}$  | = $5$  | since | $5^2$  | = $25$  |\n",
    "| $\\sqrt{36}$  | = $6$  | since | $6^2$  | = $36$  |\n",
    "| $\\sqrt{49}$  | = $7$  | since | $7^2$  | = $49$  |\n",
    "| $\\sqrt{64}$  | = $8$  | since | $8^2$  | = $64$  |\n",
    "| $\\sqrt{81}$  | = $9$  | since | $9^2$  | = $81$  |\n",
    "| $\\sqrt{100}$ | = $10$ | since | $10^2$ | = $100$ |\n",
    "      \n",
    "      \n",
    "The numbers $1,4,9,16 \\dots$ are called **perfect squares** and we will use them to simplify square root terms.\n",
    "\n",
    "To simplify a term containing a square root, we factor out anything that is a *perfect square*; that is, we factor inside the radical symbol and then we take out in front of that symbol anything that has two copies of the same factor. \n",
    "\n",
    "This rules still apply when we try to simplify a number under the square root that is not a perfect square.\n",
    "\n",
    "Consider for instance $\\sqrt{75}$. First of all, we need to factor $75$ in prime factors.\n",
    "\n",
    "$$\\sqrt{75} = \\sqrt{3 \\cdot 5 \\cdot 5}.$$\n",
    "\n",
    "Next, we look for any factor that has two copies\n",
    "$$\\sqrt{75} = \\sqrt{3 \\cdot 5 \\cdot 5}=  \\sqrt{5^2 \\cdot 3}.$$ \n",
    "\n",
    "Finally, we take those factors out of the square root symbol using the property for product of radicands that we learned above.\n",
    "\n",
    "$$\\sqrt{75} = \\sqrt{3 \\cdot 3 \\cdot 5}=  \\sqrt{5^2 \\cdot 3} = \\sqrt{5^2}\\sqrt{3} =5\\sqrt{3}.$$\n",
    "\n",
    "This factorization gives me two copies of the factor $5$, but only one copy of the factor $3$. Since I have two copies of $5$, I can take $5$ out front. Since I have only the one copy of 3, we have to leave it under the square root.\n",
    "\n",
    "In this last case, we say that **expressed an entire radical with a numerical radicand as a mixed radical**.\n",
    "\n",
    "\n",
    "Consider now $\\sqrt{72}$. It can be decomposed as\n",
    "\n",
    "$$\\sqrt{72} = \\sqrt{3 \\cdot 3 \\cdot 2 \\cdot 2 \\cdot 2} = \\sqrt{3^2 \\cdot 2^2 \\cdot 2}$$\n",
    "\n",
    "Because the last $2$ under the square root does not come as a pair of factor, we have to leave it under the square root.\n",
    "\n",
    "Therefore we have\n",
    "\n",
    "$$\\sqrt{72} = \\sqrt{3 \\cdot 3 \\cdot 2 \\cdot 2 \\cdot 2} = \\sqrt{3^2 \\cdot 2^2 \\cdot 2} = 3\\cdot 2\\sqrt{2} = 6\\sqrt{2}.$$\n",
    "\n",
    "\n",
    "As another example consider $\\sqrt{720}$\n",
    "\n",
    "$$\\sqrt{720}= \\sqrt{3 \\cdot 3  \\cdot 2  \\cdot  2 \\cdot 2 \\cdot 2 \\cdot 5} = \\sqrt{3^2 \\cdot 2^2 \\cdot 2^2 \\cdot 5} = 3\\cdot2\\cdot2\\sqrt{5} = 12 \\sqrt{5}.$$\n",
    "\n",
    "Use the following activity to test your understanding."
   ]
  },
  {
   "cell_type": "code",
   "execution_count": 5,
   "metadata": {},
   "outputs": [
    {
     "data": {
      "text/html": [
       "<div id=\"ggb_1_0e\"></div>"
      ],
      "text/plain": [
       "<IPython.core.display.HTML object>"
      ]
     },
     "metadata": {},
     "output_type": "display_data"
    },
    {
     "data": {
      "application/javascript": [
       "var ggb_1_0e = new GGBApplet({\"filename\": \"files/ToMixedRadicals.ggb\"}, \"ggb_1_0e\", false); ggb_1_0e.inject(); "
      ],
      "text/plain": [
       "<IPython.core.display.Javascript object>"
      ]
     },
     "metadata": {},
     "output_type": "display_data"
    }
   ],
   "source": [
    "ggb.file('files/ToMixedRadicals.ggb').draw();"
   ]
  },
  {
   "cell_type": "markdown",
   "metadata": {},
   "source": [
    "\n",
    "### Express a mixed radical with a numerical radicand as an entire radical\n",
    "\n",
    "In the next section, we will learn how to express a mixed radical as an entire radical.\n",
    "\n",
    "Keeping in mind that any number can be written as the square root of its square, you can use this strategy to write a mixed radical as an entire radical by writing the leading number as a radical, then multiplying the radicands.\n",
    "\n",
    "**Example 1**\n",
    "\n",
    "Express $3\\sqrt{2}$ as an entire radical. \n",
    "\n",
    "We know that the index of $3\\sqrt{2}$ is $2$ so we can write\n",
    "\n",
    "$$3\\sqrt{2} = \\sqrt{3^2}\\sqrt{2} = \\sqrt{9}\\sqrt{2} = \\sqrt{9\\cdot 2}=\\sqrt{18}.$$\n",
    "\n",
    "\n",
    "**Example 2**\n",
    "\n",
    "Express $5\\sqrt{7}$ as an entire radical. \n",
    "\n",
    "We know that the index of $5\\sqrt{7}$ is again $2$ so we can write\n",
    "\n",
    "$$5\\sqrt{7} = \\sqrt{5^2}\\sqrt{7} = \\sqrt{25}\\sqrt{7} = \\sqrt{25\\cdot 7} = \\sqrt{175}.$$\n",
    "\n",
    "\n",
    "Test you knowledge with the following activities."
   ]
  },
  {
   "cell_type": "code",
   "execution_count": 6,
   "metadata": {},
   "outputs": [
    {
     "data": {
      "text/latex": [
       "Is $2\\sqrt{4}$ greater than $4\\sqrt{2}$?"
      ],
      "text/plain": [
       "<IPython.core.display.Latex object>"
      ]
     },
     "metadata": {},
     "output_type": "display_data"
    },
    {
     "data": {
      "application/vnd.jupyter.widget-view+json": {
       "model_id": "9a60f376dba94990afbf8a858889428a",
       "version_major": 2,
       "version_minor": 0
      },
      "text/plain": [
       "interactive(children=(Dropdown(description='Choose One:', options=(' ', 'Yes', 'No'), value=' '), Output()), _…"
      ]
     },
     "metadata": {},
     "output_type": "display_data"
    }
   ],
   "source": [
    "def rad(val):\n",
    "    if val == \"Yes\":\n",
    "         display(Latex(\"Try again!\"))\n",
    "    elif val == \"No\":\n",
    "        display(Latex(\"Correct!\"))       \n",
    "        display(Latex(\"$4\\sqrt{2} = \\sqrt{4^2}\\sqrt{2} = \\sqrt{16}\\sqrt{2} = \\sqrt{32}.$\"))\n",
    "        display(Latex(\"$2\\sqrt{4} = \\sqrt{2^2}\\sqrt{4} = \\sqrt{4}\\sqrt{4} = \\sqrt{16}.$\"))\n",
    "\n",
    "display(Latex(\"Is $2\\sqrt{4}$ greater than $4\\sqrt{2}$?\"))\n",
    "\n",
    "    \n",
    "interact(rad, val = widgets.Dropdown(options=[ ' ', 'Yes', 'No'],value = ' ',description = 'Choose One:',disabled = False));"
   ]
  },
  {
   "cell_type": "code",
   "execution_count": 7,
   "metadata": {},
   "outputs": [
    {
     "data": {
      "text/latex": [
       "Express $6\\sqrt{2}$ as an entire radical"
      ],
      "text/plain": [
       "<IPython.core.display.Latex object>"
      ]
     },
     "metadata": {},
     "output_type": "display_data"
    },
    {
     "data": {
      "application/vnd.jupyter.widget-view+json": {
       "model_id": "ac0880a9c289469d874e7ab60f64da9d",
       "version_major": 2,
       "version_minor": 0
      },
      "text/plain": [
       "Text(value='', description='$\\\\sqrt{}$', placeholder='Your answer')"
      ]
     },
     "metadata": {},
     "output_type": "display_data"
    },
    {
     "data": {
      "application/vnd.jupyter.widget-view+json": {
       "model_id": "14bc8523159e45c093b93634ee02fa4d",
       "version_major": 2,
       "version_minor": 0
      },
      "text/plain": [
       "Button(button_style='info', description='Enter', layout=Layout(height='30px', width='15%'), style=ButtonStyle(…"
      ]
     },
     "metadata": {},
     "output_type": "display_data"
    }
   ],
   "source": [
    "display(Latex(\"Express $6\\sqrt{2}$ as an entire radical\"))\n",
    "#display(Latex(\"Write your answer as sqrt(your answer)\"))\n",
    "\n",
    "\n",
    "\n",
    "attempts_1 = 0\n",
    "exercise_1 = w.Text( placeholder='Your answer', description='$\\sqrt{}$', disabled=False )\n",
    "display(exercise_1)\n",
    "\n",
    "button_exercise_1 = w.Button(button_style='info',description=\"Enter\", layout=Layout(width='15%', height='30px') )\n",
    "button_exercise_1.on_click(rerun_cell)\n",
    "display(button_exercise_1)"
   ]
  },
  {
   "cell_type": "code",
   "execution_count": 8,
   "metadata": {},
   "outputs": [],
   "source": [
    "# Exercise 1 user answer handling\n",
    "\n",
    "user_answer = exercise_1.value\n",
    "expected_answer =  '72'\n",
    "\n",
    "\n",
    "if attempts_1 == 0:\n",
    "    attempts_1 += 1\n",
    "else:\n",
    "    # Close the option to keep attempting the answer \n",
    "    if(attempts_1 >= 4):\n",
    "        \n",
    "        exercise_1.disabled = True\n",
    "        button_exercise_1.disabled = True\n",
    "        \n",
    "    \n",
    "        display(Markdown(\"#### The aswer is $6\\sqrt{2} = \\sqrt{36}\\sqrt{2} = \\sqrt{72}$\"))\n",
    "\n",
    "        \n",
    "    # If answer is correct, display appropriate markdown cells\n",
    "    \n",
    "    if(user_answer == expected_answer):\n",
    "        \n",
    "        display(Markdown(\"#### Your answer is correct.\"))\n",
    "        \n",
    "        exercise_1.disabled = True\n",
    "        button_exercise_1.disabled = True\n",
    "        \n",
    "    else:\n",
    "        \n",
    "        attempts_1 += 1\n",
    "        \n",
    "        if(attempts_1 <= 4):\n",
    "            display(Markdown(\"# Please try again.\"))"
   ]
  },
  {
   "cell_type": "markdown",
   "metadata": {},
   "source": [
    "### Perform one or more operations to simplify radical expressions with numerical or variable radicands\n",
    "\n",
    "When square roots include variables, they are still simplified the same way. We just have to work with variables as well as numbers.\n",
    "\n",
    "We follow again these basic steps:\n",
    "\n",
    "1)\tFactor the radicand (the numbers/variables inside the square root). Factor the number into its prime factors and expand the variable(s).\n",
    "\n",
    "2)\tBring any factor listed twice in the radicand to the outside.\n",
    "\n",
    "\n",
    "Consider for example \n",
    "\n",
    "$$\\sqrt{9x^2y} = \\sqrt{(3 \\cdot 3)\\cdot (x \\cdot x) \\cdot y} = \\sqrt{3^2 \\cdot x^2 \\cdot y} = \\sqrt{3^2}\\sqrt{x^2}\\sqrt{y} = 3x\\sqrt{y}.$$\n",
    "\n",
    "Since there was a pair of $3$'s and a pair of $x$'s, we brought the $3$ and the $x$ outside, but the $y$ stayed inside since it was not a pair.\n",
    "\n",
    "As another example consider $\\sqrt{7a^5}$\n",
    "\n",
    "$$\\sqrt{7a^5} = \\sqrt{7\\cdot ({a}\\cdot a)\\cdot (a\\cdot a) \\cdot a} = \\sqrt{7 \\cdot a^2 \\cdot a^2 \\cdot a} = \\sqrt{7} \\cdot \\sqrt{a^2} \\cdot \\sqrt{a^2} \\cdot \\sqrt{a} = a \\cdot a \\sqrt{7}\\sqrt{a} = a^2\\sqrt{7a}.$$\n",
    "\n",
    "Notice that there were two pairs of $a$'s, so we were able to bring two to the outside. The last $a$, however, was not part of a pair and thus stayed inside.\n",
    "\n",
    "Test you understanding with the following activity."
   ]
  },
  {
   "cell_type": "code",
   "execution_count": 9,
   "metadata": {},
   "outputs": [
    {
     "data": {
      "text/latex": [
       "Express $\\sqrt{12a^2c}$ as a mixed radicand"
      ],
      "text/plain": [
       "<IPython.core.display.Latex object>"
      ]
     },
     "metadata": {},
     "output_type": "display_data"
    },
    {
     "data": {
      "application/vnd.jupyter.widget-view+json": {
       "model_id": "1158eb0aa991413694728d3764d1eba6",
       "version_major": 2,
       "version_minor": 0
      },
      "text/plain": [
       "Text(value='', placeholder='Factors outside the square root')"
      ]
     },
     "metadata": {},
     "output_type": "display_data"
    },
    {
     "data": {
      "application/vnd.jupyter.widget-view+json": {
       "model_id": "bd107f4582a943bc9e95466cb2ecf908",
       "version_major": 2,
       "version_minor": 0
      },
      "text/plain": [
       "Button(button_style='info', description='Enter', layout=Layout(height='30px', width='10%'), style=ButtonStyle(…"
      ]
     },
     "metadata": {},
     "output_type": "display_data"
    }
   ],
   "source": [
    "display(Latex(\"Express $\\sqrt{12a^2c}$ as a mixed radicand\"))\n",
    "#display(Latex(\"Write your answer as (factors outside of the square root)sqrt(factors inside of the square root) \"))\n",
    "\n",
    "\n",
    "attempts_2 = 0\n",
    "exercise_2 = w.Text( placeholder='Factors outside the square root', description='', disabled=False ) \n",
    "display(exercise_2)\n",
    "\n",
    "button_exercise_2 = w.Button(button_style='info',description=\"Enter\", layout=Layout(width='10%', height='30px') )\n",
    "button_exercise_2.on_click(rerun_cell)\n",
    "display(button_exercise_2)\n",
    "\n",
    "\n"
   ]
  },
  {
   "cell_type": "code",
   "execution_count": 10,
   "metadata": {},
   "outputs": [],
   "source": [
    "# Exercise 2 user answer handling\n",
    "\n",
    "user_answer = exercise_2.value\n",
    "expected_answer =  '2a'\n",
    "\n",
    "\n",
    "\n",
    "\n",
    "if attempts_2 == 0:\n",
    "    attempts_2 += 1\n",
    "else:\n",
    "    # Close the option to keep attempting the answer \n",
    "    if(attempts_2 >= 4):\n",
    "        \n",
    "        exercise_2.disabled = True\n",
    "        button_exercise_2.disabled = True\n",
    "        \n",
    "    \n",
    "        display(Latex(\"The answer is $2a$ because $\\sqrt{12a^2c}$ factors as  $\\sqrt{2\\cdot2\\cdot 3\\cdot a \\cdot a \\cdot c}$\"))\n",
    "\n",
    "        \n",
    "    # If answer is correct, display appropriate markdown cells\n",
    "    \n",
    "    if(user_answer == expected_answer):\n",
    "        \n",
    "        display(Markdown(\"#### Your answer is correct.\"))\n",
    "        \n",
    "        exercise_2.disabled = True\n",
    "        button_exercise_2.disabled = True\n",
    "        \n",
    "    else:\n",
    "        \n",
    "        attempts_2 += 1\n",
    "        \n",
    "        if(attempts_2 <= 4):\n",
    "            display(Markdown(\"# Please try again.\"))"
   ]
  },
  {
   "cell_type": "code",
   "execution_count": 11,
   "metadata": {},
   "outputs": [
    {
     "data": {
      "application/vnd.jupyter.widget-view+json": {
       "model_id": "4b6480af58644d71bf26d14f6be3ea20",
       "version_major": 2,
       "version_minor": 0
      },
      "text/plain": [
       "Text(value='', description='$\\\\sqrt{}$', placeholder='Factors inside the square root')"
      ]
     },
     "metadata": {},
     "output_type": "display_data"
    },
    {
     "data": {
      "application/vnd.jupyter.widget-view+json": {
       "model_id": "a7f006d1dfcb4f06a76f6eb93a2d9677",
       "version_major": 2,
       "version_minor": 0
      },
      "text/plain": [
       "Button(button_style='info', description='Enter', layout=Layout(height='30px', width='10%'), style=ButtonStyle(…"
      ]
     },
     "metadata": {},
     "output_type": "display_data"
    }
   ],
   "source": [
    "attempts_3 = 0\n",
    "\n",
    "exercise_3 = w.Text( placeholder='Factors inside the square root', description='$\\sqrt{}$', disabled=False )\n",
    "display(exercise_3)\n",
    "\n",
    "button_exercise_3 = w.Button(button_style='info',description=\"Enter\", layout=Layout(width='10%', height='30px') )\n",
    "button_exercise_3.on_click(rerun_cell)\n",
    "display(button_exercise_3)"
   ]
  },
  {
   "cell_type": "code",
   "execution_count": 12,
   "metadata": {},
   "outputs": [],
   "source": [
    "# Exercise 3 user answer handling\n",
    "\n",
    "user_answer = exercise_3.value\n",
    "expected_answer =  '3c'\n",
    "\n",
    "\n",
    "\n",
    "\n",
    "if attempts_3 == 0:\n",
    "    attempts_3 += 1\n",
    "else:\n",
    "    # Close the option to keep attempting the answer \n",
    "    if(attempts_3 >= 4):\n",
    "        \n",
    "        exercise_3.disabled = True\n",
    "        button_exercise_3.disabled = True\n",
    "        \n",
    "    \n",
    "        display(Latex(\"The answer is $2a$ because $\\sqrt{12a^2c}$ factors as  $\\sqrt{2\\cdot2\\cdot 3\\cdot a \\cdot a \\cdot c}$\"))\n",
    "\n",
    "        \n",
    "    # If answer is correct, display appropriate markdown cells\n",
    "    \n",
    "    if(user_answer == expected_answer):\n",
    "        \n",
    "        display(Markdown(\"#### Your answer is correct.\"))\n",
    "        \n",
    "        exercise_3.disabled = True\n",
    "        button_exercise_3.disabled = True\n",
    "        \n",
    "    else:\n",
    "\n",
    "        attempts_3 += 1\n",
    "        \n",
    "        if(attempts_3 <= 4):\n",
    "            display(Markdown(\"# Please try again.\"))"
   ]
  },
  {
   "cell_type": "markdown",
   "metadata": {},
   "source": [
    "### Rationalize the monomial denominator of a radical expression\n",
    "\n",
    "\n",
    "\n",
    "The result of taking the square root of a number that is not a perfect square, for example $\\sqrt{5}$,   is  an irrational number. In the case we are working with fraction, if the irrational number appears in the denominator, we usually want to *rationalize* it by getting rid of all radicals that are in the denominator.\n",
    "\n",
    "\n",
    "\n",
    "For example, assume we want to rationalize the following fraction\n",
    "\n",
    "$$\\frac{4}{\\sqrt{6}}$$\n",
    "\n",
    "**Step 1**\n",
    "*Multiply numerator and denominator by a radical that will get rid of the radical in the denominator*.\n",
    "\n",
    "Since we have a square root in the denominator, then we need to multiply by the square root of an expression that will give us a perfect square under the radical in the denominator.\n",
    "\n",
    "$$\\frac{4}{\\sqrt{6}}\\cdot \\frac{\\sqrt{6}}{\\sqrt{6}} = \\frac{4\\sqrt{6}}{\\sqrt{36}}$$\n",
    "\n",
    "Notice that the denominator now has a perfect square under the square root.\n",
    "\n",
    "**Step 2**\n",
    "*Simplify the radicals.*\n",
    "\n",
    "Here we notice that the square root of $36$ is $6$\n",
    "\n",
    "$$\\frac{4\\sqrt{6}}{\\sqrt{36}} = \\frac{4\\sqrt{6}}{6}$$\n",
    "\n",
    "**Step 3** *Simplify the fraction.*\n",
    "\n",
    "Divide numerator and denominator by the common factor of $2$.\n",
    "\n",
    "$$ \\frac{4\\sqrt{6}}{6} = \\frac{2\\sqrt{6}}{3}$$\n",
    "\n",
    "\n",
    "An another example consider\n",
    "\n",
    "$$\\frac{32}{\\sqrt{8}}$$\n",
    "\n",
    "**Step 1**\n",
    "\n",
    "First of all, we want to multiply by the square root of an expression that will give us a perfect square under the radical in the denominator.\n",
    "\n",
    "$$\\frac{32}{\\sqrt{8}}\\cdot \\frac{\\sqrt{8}}{\\sqrt{8}} = \\frac{32\\sqrt{8}}{\\sqrt{64}}$$\n",
    "\n",
    "\n",
    "**Step 2**\n",
    "\n",
    "Next, we notice that the square root of $64$ is $8$\n",
    "\n",
    "$$\\frac{32\\sqrt{8}}{\\sqrt{64}} = \\frac{32\\sqrt{8}}{8}$$\n",
    "\n",
    "**Step 3**\n",
    "\n",
    "Finally, we simplify the fraction\n",
    "\n",
    "$$ \\frac{32\\sqrt{8}}{8} = 4\\sqrt{8}.$$\n",
    "\n",
    "The reason why we choose to rationalize a radical expression is because they are easier to understand. For example, consider $\\frac{7}{\\sqrt{8}}$. We learned that\n",
    "\n",
    "$$\\frac{7}{\\sqrt{8}} = \\frac{7\\sqrt{8}}{8}$$.\n",
    "\n",
    "If you think about it, it is easier to divide a number by a whole number: dividing $7\\sqrt{8}$ by $8$ is simpler that dividing $7$ by $\\sqrt{8}$!\n",
    "\n",
    "However, it is very important that you remember that the value of radical expression before and after rationalizing **does not change!**\n",
    "\n",
    "Test your understanding using the activity below."
   ]
  },
  {
   "cell_type": "code",
   "execution_count": 13,
   "metadata": {},
   "outputs": [
    {
     "data": {
      "text/latex": [
       "Rationalize and simplify $\\frac{13}{\\sqrt{7}}$"
      ],
      "text/plain": [
       "<IPython.core.display.Latex object>"
      ]
     },
     "metadata": {},
     "output_type": "display_data"
    },
    {
     "data": {
      "application/vnd.jupyter.widget-view+json": {
       "model_id": "3f53fab13c2c464eba535eb66b053bf1",
       "version_major": 2,
       "version_minor": 0
      },
      "text/plain": [
       "Text(value='', placeholder='Factors at the nominator outside the square root')"
      ]
     },
     "metadata": {},
     "output_type": "display_data"
    },
    {
     "data": {
      "application/vnd.jupyter.widget-view+json": {
       "model_id": "4d26ab339ebf44f58edb29cdce206457",
       "version_major": 2,
       "version_minor": 0
      },
      "text/plain": [
       "Button(button_style='info', description='Enter', layout=Layout(height='30px', width='20%'), style=ButtonStyle(…"
      ]
     },
     "metadata": {},
     "output_type": "display_data"
    }
   ],
   "source": [
    "display(Latex(\"Rationalize and simplify $\\\\frac{13}{\\sqrt{7}}$\"))\n",
    "#display(Latex(\"Write your answer as (factor)sqrt(factor)/factor \"))\n",
    "\n",
    "\n",
    "attempts_4 = 0\n",
    "exercise_4 = w.Text( placeholder='Factors at the nominator outside the square root', description='', disabled=False )\n",
    "display(exercise_4)\n",
    "\n",
    "button_exercise_4 = w.Button(button_style='info',description=\"Enter\", layout=Layout(width='20%', height='30px') )\n",
    "button_exercise_4.on_click(rerun_cell)\n",
    "display(button_exercise_4)"
   ]
  },
  {
   "cell_type": "code",
   "execution_count": 14,
   "metadata": {},
   "outputs": [],
   "source": [
    "# Exercise 1 user answer handling\n",
    "\n",
    "user_answer = exercise_4.value\n",
    "expected_answer =  '13'\n",
    "\n",
    "if attempts_4 == 0:\n",
    "    attempts_4 += 1\n",
    "else:\n",
    "    # Close the option to keep attempting the answer \n",
    "    if(attempts_4 >= 4):\n",
    "        \n",
    "        exercise_4.disabled = True\n",
    "        button_exercise_4.disabled = True\n",
    "        \n",
    "    \n",
    "        display(Markdown(\"#### The aswer is $13$\"))\n",
    "\n",
    "        \n",
    "    # If answer is correct, display appropriate markdown cells\n",
    "    \n",
    "    if(user_answer == expected_answer):\n",
    "        \n",
    "        display(Markdown(\"#### Your answer is correct.\"))\n",
    "        \n",
    "        exercise_4.disabled = True\n",
    "        button_exercise_4.disabled = True\n",
    "        \n",
    "    else:\n",
    "        \n",
    "        attempts_4 += 1\n",
    "        \n",
    "        if(attempts_4 <= 4):\n",
    "            display(Markdown(\"# Please try again.\"))"
   ]
  },
  {
   "cell_type": "code",
   "execution_count": 15,
   "metadata": {},
   "outputs": [
    {
     "data": {
      "application/vnd.jupyter.widget-view+json": {
       "model_id": "263ebfb760b94048a6159f7da0e682fc",
       "version_major": 2,
       "version_minor": 0
      },
      "text/plain": [
       "Text(value='', description='$\\\\sqrt{}$', placeholder='Factors at the nominator inside the square root')"
      ]
     },
     "metadata": {},
     "output_type": "display_data"
    },
    {
     "data": {
      "application/vnd.jupyter.widget-view+json": {
       "model_id": "5ed32732870549a78d4a02a1d053f0c4",
       "version_major": 2,
       "version_minor": 0
      },
      "text/plain": [
       "Button(button_style='info', description='Enter', layout=Layout(height='30px', width='20%'), style=ButtonStyle(…"
      ]
     },
     "metadata": {},
     "output_type": "display_data"
    }
   ],
   "source": [
    "attempts_5 = 0\n",
    "exercise_5 = w.Text( placeholder='Factors at the nominator inside the square root', description='$\\sqrt{}$', disabled=False )\n",
    "display(exercise_5)\n",
    "\n",
    "button_exercise_5 = w.Button(button_style='info',description=\"Enter\", layout=Layout(width='20%', height='30px') )\n",
    "button_exercise_5.on_click(rerun_cell)\n",
    "display(button_exercise_5)"
   ]
  },
  {
   "cell_type": "code",
   "execution_count": 16,
   "metadata": {},
   "outputs": [],
   "source": [
    "# Exercise 1 user answer handling\n",
    "\n",
    "user_answer = exercise_5.value\n",
    "expected_answer =  '7'\n",
    "\n",
    "if attempts_5 == 0:\n",
    "    attempts_5 += 1\n",
    "else:\n",
    "    # Close the option to keep attempting the answer \n",
    "    if(attempts_5 >= 4):\n",
    "        \n",
    "        exercise_5.disabled = True\n",
    "        button_exercise_5.disabled = True\n",
    "        \n",
    "    \n",
    "        display(Markdown(\"#### The aswer is $7$\"))\n",
    "\n",
    "        \n",
    "    # If answer is correct, display appropriate markdown cells\n",
    "    \n",
    "    if(user_answer == expected_answer):\n",
    "        \n",
    "        display(Markdown(\"#### Your answer is correct.\"))\n",
    "        \n",
    "        exercise_5.disabled = True\n",
    "        button_exercise_5.disabled = True\n",
    "        \n",
    "    else:\n",
    "        \n",
    "        attempts_5 += 1\n",
    "        \n",
    "        if(attempts_5 <= 4):\n",
    "            display(Markdown(\"# Please try again.\"))"
   ]
  },
  {
   "cell_type": "code",
   "execution_count": 17,
   "metadata": {},
   "outputs": [
    {
     "data": {
      "application/vnd.jupyter.widget-view+json": {
       "model_id": "30f87bda3cd0471dba1bdd79cedcefce",
       "version_major": 2,
       "version_minor": 0
      },
      "text/plain": [
       "Text(value='', placeholder='Denominator')"
      ]
     },
     "metadata": {},
     "output_type": "display_data"
    },
    {
     "data": {
      "application/vnd.jupyter.widget-view+json": {
       "model_id": "aac4ce4348a14b40a3f4edf8aa1a69ac",
       "version_major": 2,
       "version_minor": 0
      },
      "text/plain": [
       "Button(button_style='info', description='Enter', layout=Layout(height='30px', width='15%'), style=ButtonStyle(…"
      ]
     },
     "metadata": {},
     "output_type": "display_data"
    }
   ],
   "source": [
    "attempts_6 = 0\n",
    "exercise_6 = w.Text( placeholder='Denominator', description='', disabled=False )\n",
    "display(exercise_6)\n",
    "\n",
    "button_exercise_6 = w.Button(button_style='info',description=\"Enter\", layout=Layout(width='15%', height='30px') )\n",
    "button_exercise_6.on_click(rerun_cell)\n",
    "display(button_exercise_6)"
   ]
  },
  {
   "cell_type": "code",
   "execution_count": 18,
   "metadata": {},
   "outputs": [],
   "source": [
    "# Exercise 6 user answer handling\n",
    "\n",
    "user_answer = exercise_6.value\n",
    "expected_answer =  '7'\n",
    "\n",
    "if attempts_6 == 0:\n",
    "    attempts_6 += 1\n",
    "else:\n",
    "    # Close the option to keep attempting the answer \n",
    "    if(attempts_6 >= 4):\n",
    "        \n",
    "        exercise_6.disabled = True\n",
    "        button_exercise_6.disabled = True\n",
    "        \n",
    "    \n",
    "        display(Markdown(\"#### The aswer is $7$\"))\n",
    "\n",
    "        \n",
    "    # If answer is correct, display appropriate markdown cells\n",
    "    \n",
    "    if(user_answer == expected_answer):\n",
    "        \n",
    "        display(Markdown(\"#### Your answer is correct.\"))\n",
    "        \n",
    "        exercise_6.disabled = True\n",
    "        button_exercise_6.disabled = True\n",
    "        \n",
    "    else:\n",
    "        \n",
    "        attempts_6 += 1\n",
    "        \n",
    "        if(attempts_6 <= 4):\n",
    "            display(Markdown(\"# Please try again.\"))"
   ]
  },
  {
   "cell_type": "markdown",
   "metadata": {},
   "source": [
    "### Identify values of the variable for which the radical expression is defined\n",
    "\n",
    "We cannot have a negative inside number a square root. This can be better understood by looking at the graph of the square root we've seen at the beginning of this notebook.\n",
    "\n",
    "You see that the function only branches from the origin to the positive side of the $x$ axis. This means that the square root is not defined (in other words, 'cannot handle') values of $x$ that are negative.\n",
    "\n",
    "\n",
    "In particular, consider taking the square root of $-4$. You quickly realize that this is not possible as there is no **real number that squares to $-4$**.\n",
    "\n",
    "$$\\sqrt{-4} \\neq -2, $$\n",
    " as we can verify by squaring\n",
    " \n",
    " $$(-2)^2 = + 4 \\neq -4.$$\n",
    "\n",
    "We must have a **positive value** inside the square root. This fact can be important for defining and graphing functions. \n",
    "\n",
    "The exception is for *imaginary* (also called *complex*) numbers. \n",
    "\n",
    "\n",
    "\n",
    "Another way to see why the square root cannot take negative values is to consider a square with side length $l$. We know that the area $A$ of the square is given by\n",
    "\n",
    "$$A = l \\times l= l^2.$$\n",
    "\n",
    "Therefore\n",
    "\n",
    "$$l = \\sqrt{A}.$$"
   ]
  },
  {
   "cell_type": "code",
   "execution_count": 19,
   "metadata": {},
   "outputs": [
    {
     "data": {
      "text/html": [
       "<div id=\"ggb_2_0e\"></div>"
      ],
      "text/plain": [
       "<IPython.core.display.HTML object>"
      ]
     },
     "metadata": {},
     "output_type": "display_data"
    },
    {
     "data": {
      "application/javascript": [
       "var ggb_2_0e = new GGBApplet({\"filename\": \"files/square_area.ggb\"}, \"ggb_2_0e\", false); ggb_2_0e.inject(); "
      ],
      "text/plain": [
       "<IPython.core.display.Javascript object>"
      ]
     },
     "metadata": {},
     "output_type": "display_data"
    }
   ],
   "source": [
    "ggb.file('files/square_area.ggb').draw();"
   ]
  },
  {
   "cell_type": "markdown",
   "metadata": {},
   "source": [
    "Because the area of a square (or of any geometric figure!) cannot be negative, we cannot compute the square root of  negative number. \n",
    "\n",
    "In the following exercise you will learn about what happens to the number zero."
   ]
  },
  {
   "cell_type": "code",
   "execution_count": 20,
   "metadata": {},
   "outputs": [
    {
     "data": {
      "text/latex": [
       "What is $\\sqrt{0}?$"
      ],
      "text/plain": [
       "<IPython.core.display.Latex object>"
      ]
     },
     "metadata": {},
     "output_type": "display_data"
    },
    {
     "data": {
      "text/latex": [
       "Hint. Think about it..what do you get if you multiply any number by $0?$"
      ],
      "text/plain": [
       "<IPython.core.display.Latex object>"
      ]
     },
     "metadata": {},
     "output_type": "display_data"
    },
    {
     "data": {
      "application/vnd.jupyter.widget-view+json": {
       "model_id": "d1b9d46ace1b41b4afb65d734fc29728",
       "version_major": 2,
       "version_minor": 0
      },
      "text/plain": [
       "Text(value='', description='$\\\\sqrt{}$', placeholder='Your answer')"
      ]
     },
     "metadata": {},
     "output_type": "display_data"
    },
    {
     "data": {
      "application/vnd.jupyter.widget-view+json": {
       "model_id": "703f60e5e30742febd7d86f9698d86ab",
       "version_major": 2,
       "version_minor": 0
      },
      "text/plain": [
       "Button(button_style='info', description='Enter', layout=Layout(height='30px', width='15%'), style=ButtonStyle(…"
      ]
     },
     "metadata": {},
     "output_type": "display_data"
    }
   ],
   "source": [
    "display(Latex(\"What is $\\sqrt{0}?$\"))\n",
    "#display(Latex(\"Write your answer as sqrt(your answer)\"))\n",
    "\n",
    "\n",
    "display(Latex(\"Hint. Think about it..what do you get if you multiply any number by $0?$\"))\n",
    "\n",
    "\n",
    "attempts_7 = 0\n",
    "exercise_7 = w.Text( placeholder='Your answer', description='$\\sqrt{}$', disabled=False )\n",
    "display(exercise_7)\n",
    "\n",
    "button_exercise_7 = w.Button(button_style='info',description=\"Enter\", layout=Layout(width='15%', height='30px') )\n",
    "button_exercise_7.on_click(rerun_cell)\n",
    "display(button_exercise_7)\n",
    "\n"
   ]
  },
  {
   "cell_type": "code",
   "execution_count": 21,
   "metadata": {},
   "outputs": [],
   "source": [
    "# Exercise 7 user answer handling\n",
    "\n",
    "user_answer = exercise_7.value\n",
    "expected_answer =  '0'\n",
    "\n",
    "if attempts_7 == 0:\n",
    "    attempts_7 += 1\n",
    "else:\n",
    "    # Close the option to keep attempting the answer \n",
    "    if(attempts_7 >= 4):\n",
    "        \n",
    "        exercise_7.disabled = True\n",
    "        button_exercise_7.disabled = True\n",
    "        \n",
    "    \n",
    "        display(Markdown(\"#### The aswer is $0$ because $0 \\cdot 0 = 0^2 =  0$.\"))\n",
    "\n",
    "        \n",
    "    # If answer is correct, display appropriate markdown cells\n",
    "    \n",
    "    if(user_answer == expected_answer):\n",
    "        \n",
    "        display(Markdown(\"#### Your answer is correct! The square root of $0$ is $0$ because $0 \\cdot 0 = 0^2 =  0$.\"))\n",
    "        \n",
    "        exercise_7.disabled = True\n",
    "        button_exercise_7.disabled = True\n",
    "        \n",
    "    else:\n",
    "        \n",
    "        attempts_7 += 1\n",
    "        \n",
    "        if(attempts_7 <= 4):\n",
    "            display(Markdown(\"# Please try again.\"))"
   ]
  },
  {
   "cell_type": "markdown",
   "metadata": {},
   "source": [
    "### Conclusion\n",
    "\n",
    "In this notebook we learnt\n",
    "\n",
    "\n",
    "<ul>\n",
    "    <li> The square root is an increasing function, therefore comparing radicals under the square root is easy. </li>\n",
    "    <li> The value of a fraction doesn't change before and after we rationalized it.</li>\n",
    "    <li>We can only take the square root of any number greater than or equal than zero.</li>\n",
    "</ul>\n"
   ]
  },
  {
   "cell_type": "markdown",
   "metadata": {},
   "source": [
    "[![Callysto.ca License](https://github.com/callysto/curriculum-notebooks/blob/master/callysto-notebook-banner-bottom.jpg?raw=true)](https://github.com/callysto/curriculum-notebooks/blob/master/LICENSE.md)"
   ]
  }
 ],
 "metadata": {
  "kernelspec": {
   "display_name": "Python 3",
   "language": "python",
   "name": "python3"
  },
  "language_info": {
   "codemirror_mode": {
    "name": "ipython",
    "version": 3
   },
   "file_extension": ".py",
   "mimetype": "text/x-python",
   "name": "python",
   "nbconvert_exporter": "python",
   "pygments_lexer": "ipython3",
   "version": "3.7.4"
  },
  "widgets": {
   "application/vnd.jupyter.widget-state+json": {
    "state": {
     "1158eb0aa991413694728d3764d1eba6": {
      "model_module": "@jupyter-widgets/controls",
      "model_module_version": "1.5.0",
      "model_name": "TextModel",
      "state": {
       "_dom_classes": [],
       "_model_module": "@jupyter-widgets/controls",
       "_model_module_version": "1.5.0",
       "_model_name": "TextModel",
       "_view_count": null,
       "_view_module": "@jupyter-widgets/controls",
       "_view_module_version": "1.5.0",
       "_view_name": "TextView",
       "continuous_update": true,
       "description": "",
       "description_tooltip": null,
       "disabled": false,
       "layout": "IPY_MODEL_146dd1e412a241f79f4cf01c17df86e5",
       "placeholder": "Factors outside the square root",
       "style": "IPY_MODEL_16542e6b6398479bac3cfa260df2bf23",
       "value": ""
      }
     },
     "145054e64cf7436cb01d45c0f6ff0dfc": {
      "model_module": "@jupyter-widgets/controls",
      "model_module_version": "1.5.0",
      "model_name": "ButtonStyleModel",
      "state": {
       "_model_module": "@jupyter-widgets/controls",
       "_model_module_version": "1.5.0",
       "_model_name": "ButtonStyleModel",
       "_view_count": null,
       "_view_module": "@jupyter-widgets/base",
       "_view_module_version": "1.2.0",
       "_view_name": "StyleView",
       "button_color": null,
       "font_weight": ""
      }
     },
     "146dd1e412a241f79f4cf01c17df86e5": {
      "model_module": "@jupyter-widgets/base",
      "model_module_version": "1.2.0",
      "model_name": "LayoutModel",
      "state": {
       "_model_module": "@jupyter-widgets/base",
       "_model_module_version": "1.2.0",
       "_model_name": "LayoutModel",
       "_view_count": null,
       "_view_module": "@jupyter-widgets/base",
       "_view_module_version": "1.2.0",
       "_view_name": "LayoutView",
       "align_content": null,
       "align_items": null,
       "align_self": null,
       "border": null,
       "bottom": null,
       "display": null,
       "flex": null,
       "flex_flow": null,
       "grid_area": null,
       "grid_auto_columns": null,
       "grid_auto_flow": null,
       "grid_auto_rows": null,
       "grid_column": null,
       "grid_gap": null,
       "grid_row": null,
       "grid_template_areas": null,
       "grid_template_columns": null,
       "grid_template_rows": null,
       "height": null,
       "justify_content": null,
       "justify_items": null,
       "left": null,
       "margin": null,
       "max_height": null,
       "max_width": null,
       "min_height": null,
       "min_width": null,
       "object_fit": null,
       "object_position": null,
       "order": null,
       "overflow": null,
       "overflow_x": null,
       "overflow_y": null,
       "padding": null,
       "right": null,
       "top": null,
       "visibility": null,
       "width": null
      }
     },
     "14bc8523159e45c093b93634ee02fa4d": {
      "model_module": "@jupyter-widgets/controls",
      "model_module_version": "1.5.0",
      "model_name": "ButtonModel",
      "state": {
       "_dom_classes": [],
       "_model_module": "@jupyter-widgets/controls",
       "_model_module_version": "1.5.0",
       "_model_name": "ButtonModel",
       "_view_count": null,
       "_view_module": "@jupyter-widgets/controls",
       "_view_module_version": "1.5.0",
       "_view_name": "ButtonView",
       "button_style": "info",
       "description": "Enter",
       "disabled": false,
       "icon": "",
       "layout": "IPY_MODEL_81259ce1bb924ed088f52c65e3f6330a",
       "style": "IPY_MODEL_145054e64cf7436cb01d45c0f6ff0dfc",
       "tooltip": ""
      }
     },
     "153d0323c410407984bc55021d0c6cc2": {
      "model_module": "@jupyter-widgets/controls",
      "model_module_version": "1.5.0",
      "model_name": "DescriptionStyleModel",
      "state": {
       "_model_module": "@jupyter-widgets/controls",
       "_model_module_version": "1.5.0",
       "_model_name": "DescriptionStyleModel",
       "_view_count": null,
       "_view_module": "@jupyter-widgets/base",
       "_view_module_version": "1.2.0",
       "_view_name": "StyleView",
       "description_width": ""
      }
     },
     "16542e6b6398479bac3cfa260df2bf23": {
      "model_module": "@jupyter-widgets/controls",
      "model_module_version": "1.5.0",
      "model_name": "DescriptionStyleModel",
      "state": {
       "_model_module": "@jupyter-widgets/controls",
       "_model_module_version": "1.5.0",
       "_model_name": "DescriptionStyleModel",
       "_view_count": null,
       "_view_module": "@jupyter-widgets/base",
       "_view_module_version": "1.2.0",
       "_view_name": "StyleView",
       "description_width": ""
      }
     },
     "19c611e7bac1404aba7e4152ed989fa1": {
      "model_module": "@jupyter-widgets/base",
      "model_module_version": "1.2.0",
      "model_name": "LayoutModel",
      "state": {
       "_model_module": "@jupyter-widgets/base",
       "_model_module_version": "1.2.0",
       "_model_name": "LayoutModel",
       "_view_count": null,
       "_view_module": "@jupyter-widgets/base",
       "_view_module_version": "1.2.0",
       "_view_name": "LayoutView",
       "align_content": null,
       "align_items": null,
       "align_self": null,
       "border": null,
       "bottom": null,
       "display": null,
       "flex": null,
       "flex_flow": null,
       "grid_area": null,
       "grid_auto_columns": null,
       "grid_auto_flow": null,
       "grid_auto_rows": null,
       "grid_column": null,
       "grid_gap": null,
       "grid_row": null,
       "grid_template_areas": null,
       "grid_template_columns": null,
       "grid_template_rows": null,
       "height": "30px",
       "justify_content": null,
       "justify_items": null,
       "left": null,
       "margin": null,
       "max_height": null,
       "max_width": null,
       "min_height": null,
       "min_width": null,
       "object_fit": null,
       "object_position": null,
       "order": null,
       "overflow": null,
       "overflow_x": null,
       "overflow_y": null,
       "padding": null,
       "right": null,
       "top": null,
       "visibility": null,
       "width": "20%"
      }
     },
     "1b427899010a418aa4f1f4c3006291af": {
      "model_module": "@jupyter-widgets/controls",
      "model_module_version": "1.5.0",
      "model_name": "ButtonStyleModel",
      "state": {
       "_model_module": "@jupyter-widgets/controls",
       "_model_module_version": "1.5.0",
       "_model_name": "ButtonStyleModel",
       "_view_count": null,
       "_view_module": "@jupyter-widgets/base",
       "_view_module_version": "1.2.0",
       "_view_name": "StyleView",
       "button_color": null,
       "font_weight": ""
      }
     },
     "1da641e7c6e54502bd668a6bb08891d8": {
      "model_module": "@jupyter-widgets/base",
      "model_module_version": "1.2.0",
      "model_name": "LayoutModel",
      "state": {
       "_model_module": "@jupyter-widgets/base",
       "_model_module_version": "1.2.0",
       "_model_name": "LayoutModel",
       "_view_count": null,
       "_view_module": "@jupyter-widgets/base",
       "_view_module_version": "1.2.0",
       "_view_name": "LayoutView",
       "align_content": null,
       "align_items": null,
       "align_self": null,
       "border": null,
       "bottom": null,
       "display": null,
       "flex": null,
       "flex_flow": null,
       "grid_area": null,
       "grid_auto_columns": null,
       "grid_auto_flow": null,
       "grid_auto_rows": null,
       "grid_column": null,
       "grid_gap": null,
       "grid_row": null,
       "grid_template_areas": null,
       "grid_template_columns": null,
       "grid_template_rows": null,
       "height": null,
       "justify_content": null,
       "justify_items": null,
       "left": null,
       "margin": null,
       "max_height": null,
       "max_width": null,
       "min_height": null,
       "min_width": null,
       "object_fit": null,
       "object_position": null,
       "order": null,
       "overflow": null,
       "overflow_x": null,
       "overflow_y": null,
       "padding": null,
       "right": null,
       "top": null,
       "visibility": null,
       "width": null
      }
     },
     "2144c5a3b8404d759ef93addc935d687": {
      "model_module": "@jupyter-widgets/base",
      "model_module_version": "1.2.0",
      "model_name": "LayoutModel",
      "state": {
       "_model_module": "@jupyter-widgets/base",
       "_model_module_version": "1.2.0",
       "_model_name": "LayoutModel",
       "_view_count": null,
       "_view_module": "@jupyter-widgets/base",
       "_view_module_version": "1.2.0",
       "_view_name": "LayoutView",
       "align_content": null,
       "align_items": null,
       "align_self": null,
       "border": null,
       "bottom": null,
       "display": null,
       "flex": null,
       "flex_flow": null,
       "grid_area": null,
       "grid_auto_columns": null,
       "grid_auto_flow": null,
       "grid_auto_rows": null,
       "grid_column": null,
       "grid_gap": null,
       "grid_row": null,
       "grid_template_areas": null,
       "grid_template_columns": null,
       "grid_template_rows": null,
       "height": "30px",
       "justify_content": null,
       "justify_items": null,
       "left": null,
       "margin": null,
       "max_height": null,
       "max_width": null,
       "min_height": null,
       "min_width": null,
       "object_fit": null,
       "object_position": null,
       "order": null,
       "overflow": null,
       "overflow_x": null,
       "overflow_y": null,
       "padding": null,
       "right": null,
       "top": null,
       "visibility": null,
       "width": "10%"
      }
     },
     "23c384ebcfd649878d8d0e5b0c365be3": {
      "model_module": "@jupyter-widgets/controls",
      "model_module_version": "1.5.0",
      "model_name": "DescriptionStyleModel",
      "state": {
       "_model_module": "@jupyter-widgets/controls",
       "_model_module_version": "1.5.0",
       "_model_name": "DescriptionStyleModel",
       "_view_count": null,
       "_view_module": "@jupyter-widgets/base",
       "_view_module_version": "1.2.0",
       "_view_name": "StyleView",
       "description_width": ""
      }
     },
     "263ebfb760b94048a6159f7da0e682fc": {
      "model_module": "@jupyter-widgets/controls",
      "model_module_version": "1.5.0",
      "model_name": "TextModel",
      "state": {
       "_dom_classes": [],
       "_model_module": "@jupyter-widgets/controls",
       "_model_module_version": "1.5.0",
       "_model_name": "TextModel",
       "_view_count": null,
       "_view_module": "@jupyter-widgets/controls",
       "_view_module_version": "1.5.0",
       "_view_name": "TextView",
       "continuous_update": true,
       "description": "$\\sqrt{}$",
       "description_tooltip": null,
       "disabled": false,
       "layout": "IPY_MODEL_34c365501da346a0973f264921154787",
       "placeholder": "Factors at the nominator inside the square root",
       "style": "IPY_MODEL_6d13936fd30a495ba3fbee1a39d48d05",
       "value": ""
      }
     },
     "2c3815cc33234ec1aa5f6c40c98d4bd7": {
      "model_module": "@jupyter-widgets/base",
      "model_module_version": "1.2.0",
      "model_name": "LayoutModel",
      "state": {
       "_model_module": "@jupyter-widgets/base",
       "_model_module_version": "1.2.0",
       "_model_name": "LayoutModel",
       "_view_count": null,
       "_view_module": "@jupyter-widgets/base",
       "_view_module_version": "1.2.0",
       "_view_name": "LayoutView",
       "align_content": null,
       "align_items": null,
       "align_self": null,
       "border": null,
       "bottom": null,
       "display": null,
       "flex": null,
       "flex_flow": null,
       "grid_area": null,
       "grid_auto_columns": null,
       "grid_auto_flow": null,
       "grid_auto_rows": null,
       "grid_column": null,
       "grid_gap": null,
       "grid_row": null,
       "grid_template_areas": null,
       "grid_template_columns": null,
       "grid_template_rows": null,
       "height": null,
       "justify_content": null,
       "justify_items": null,
       "left": null,
       "margin": null,
       "max_height": null,
       "max_width": null,
       "min_height": null,
       "min_width": null,
       "object_fit": null,
       "object_position": null,
       "order": null,
       "overflow": null,
       "overflow_x": null,
       "overflow_y": null,
       "padding": null,
       "right": null,
       "top": null,
       "visibility": null,
       "width": null
      }
     },
     "30f87bda3cd0471dba1bdd79cedcefce": {
      "model_module": "@jupyter-widgets/controls",
      "model_module_version": "1.5.0",
      "model_name": "TextModel",
      "state": {
       "_dom_classes": [],
       "_model_module": "@jupyter-widgets/controls",
       "_model_module_version": "1.5.0",
       "_model_name": "TextModel",
       "_view_count": null,
       "_view_module": "@jupyter-widgets/controls",
       "_view_module_version": "1.5.0",
       "_view_name": "TextView",
       "continuous_update": true,
       "description": "",
       "description_tooltip": null,
       "disabled": false,
       "layout": "IPY_MODEL_51653a4c78b240b184e4666d23395390",
       "placeholder": "Denominator",
       "style": "IPY_MODEL_23c384ebcfd649878d8d0e5b0c365be3",
       "value": ""
      }
     },
     "34c365501da346a0973f264921154787": {
      "model_module": "@jupyter-widgets/base",
      "model_module_version": "1.2.0",
      "model_name": "LayoutModel",
      "state": {
       "_model_module": "@jupyter-widgets/base",
       "_model_module_version": "1.2.0",
       "_model_name": "LayoutModel",
       "_view_count": null,
       "_view_module": "@jupyter-widgets/base",
       "_view_module_version": "1.2.0",
       "_view_name": "LayoutView",
       "align_content": null,
       "align_items": null,
       "align_self": null,
       "border": null,
       "bottom": null,
       "display": null,
       "flex": null,
       "flex_flow": null,
       "grid_area": null,
       "grid_auto_columns": null,
       "grid_auto_flow": null,
       "grid_auto_rows": null,
       "grid_column": null,
       "grid_gap": null,
       "grid_row": null,
       "grid_template_areas": null,
       "grid_template_columns": null,
       "grid_template_rows": null,
       "height": null,
       "justify_content": null,
       "justify_items": null,
       "left": null,
       "margin": null,
       "max_height": null,
       "max_width": null,
       "min_height": null,
       "min_width": null,
       "object_fit": null,
       "object_position": null,
       "order": null,
       "overflow": null,
       "overflow_x": null,
       "overflow_y": null,
       "padding": null,
       "right": null,
       "top": null,
       "visibility": null,
       "width": null
      }
     },
     "3675be74fe534a958cb9d79eb12a1d29": {
      "model_module": "@jupyter-widgets/base",
      "model_module_version": "1.2.0",
      "model_name": "LayoutModel",
      "state": {
       "_model_module": "@jupyter-widgets/base",
       "_model_module_version": "1.2.0",
       "_model_name": "LayoutModel",
       "_view_count": null,
       "_view_module": "@jupyter-widgets/base",
       "_view_module_version": "1.2.0",
       "_view_name": "LayoutView",
       "align_content": null,
       "align_items": null,
       "align_self": null,
       "border": null,
       "bottom": null,
       "display": null,
       "flex": null,
       "flex_flow": null,
       "grid_area": null,
       "grid_auto_columns": null,
       "grid_auto_flow": null,
       "grid_auto_rows": null,
       "grid_column": null,
       "grid_gap": null,
       "grid_row": null,
       "grid_template_areas": null,
       "grid_template_columns": null,
       "grid_template_rows": null,
       "height": null,
       "justify_content": null,
       "justify_items": null,
       "left": null,
       "margin": null,
       "max_height": null,
       "max_width": null,
       "min_height": null,
       "min_width": null,
       "object_fit": null,
       "object_position": null,
       "order": null,
       "overflow": null,
       "overflow_x": null,
       "overflow_y": null,
       "padding": null,
       "right": null,
       "top": null,
       "visibility": null,
       "width": null
      }
     },
     "3e6e8620ac3c4a41abfe7b98861cf424": {
      "model_module": "@jupyter-widgets/controls",
      "model_module_version": "1.5.0",
      "model_name": "SliderStyleModel",
      "state": {
       "_model_module": "@jupyter-widgets/controls",
       "_model_module_version": "1.5.0",
       "_model_name": "SliderStyleModel",
       "_view_count": null,
       "_view_module": "@jupyter-widgets/base",
       "_view_module_version": "1.2.0",
       "_view_name": "StyleView",
       "description_width": "",
       "handle_color": null
      }
     },
     "3f53fab13c2c464eba535eb66b053bf1": {
      "model_module": "@jupyter-widgets/controls",
      "model_module_version": "1.5.0",
      "model_name": "TextModel",
      "state": {
       "_dom_classes": [],
       "_model_module": "@jupyter-widgets/controls",
       "_model_module_version": "1.5.0",
       "_model_name": "TextModel",
       "_view_count": null,
       "_view_module": "@jupyter-widgets/controls",
       "_view_module_version": "1.5.0",
       "_view_name": "TextView",
       "continuous_update": true,
       "description": "",
       "description_tooltip": null,
       "disabled": false,
       "layout": "IPY_MODEL_f48ed7b8287542389197f918a52b5c17",
       "placeholder": "Factors at the nominator outside the square root",
       "style": "IPY_MODEL_c005f2db700340eeaa62a05404c11d4d",
       "value": ""
      }
     },
     "45945be0c539466391713bb070b1da08": {
      "model_module": "@jupyter-widgets/base",
      "model_module_version": "1.2.0",
      "model_name": "LayoutModel",
      "state": {
       "_model_module": "@jupyter-widgets/base",
       "_model_module_version": "1.2.0",
       "_model_name": "LayoutModel",
       "_view_count": null,
       "_view_module": "@jupyter-widgets/base",
       "_view_module_version": "1.2.0",
       "_view_name": "LayoutView",
       "align_content": null,
       "align_items": null,
       "align_self": null,
       "border": null,
       "bottom": null,
       "display": null,
       "flex": null,
       "flex_flow": null,
       "grid_area": null,
       "grid_auto_columns": null,
       "grid_auto_flow": null,
       "grid_auto_rows": null,
       "grid_column": null,
       "grid_gap": null,
       "grid_row": null,
       "grid_template_areas": null,
       "grid_template_columns": null,
       "grid_template_rows": null,
       "height": null,
       "justify_content": null,
       "justify_items": null,
       "left": null,
       "margin": null,
       "max_height": null,
       "max_width": null,
       "min_height": null,
       "min_width": null,
       "object_fit": null,
       "object_position": null,
       "order": null,
       "overflow": null,
       "overflow_x": null,
       "overflow_y": null,
       "padding": null,
       "right": null,
       "top": null,
       "visibility": null,
       "width": null
      }
     },
     "464dfa8a55434cc98ce19f7b5082c371": {
      "model_module": "@jupyter-widgets/controls",
      "model_module_version": "1.5.0",
      "model_name": "ButtonStyleModel",
      "state": {
       "_model_module": "@jupyter-widgets/controls",
       "_model_module_version": "1.5.0",
       "_model_name": "ButtonStyleModel",
       "_view_count": null,
       "_view_module": "@jupyter-widgets/base",
       "_view_module_version": "1.2.0",
       "_view_name": "StyleView",
       "button_color": null,
       "font_weight": ""
      }
     },
     "4b6480af58644d71bf26d14f6be3ea20": {
      "model_module": "@jupyter-widgets/controls",
      "model_module_version": "1.5.0",
      "model_name": "TextModel",
      "state": {
       "_dom_classes": [],
       "_model_module": "@jupyter-widgets/controls",
       "_model_module_version": "1.5.0",
       "_model_name": "TextModel",
       "_view_count": null,
       "_view_module": "@jupyter-widgets/controls",
       "_view_module_version": "1.5.0",
       "_view_name": "TextView",
       "continuous_update": true,
       "description": "$\\sqrt{}$",
       "description_tooltip": null,
       "disabled": false,
       "layout": "IPY_MODEL_50e64e00e9b24cd0a061983bb7dd93b5",
       "placeholder": "Factors inside the square root",
       "style": "IPY_MODEL_153d0323c410407984bc55021d0c6cc2",
       "value": ""
      }
     },
     "4d26ab339ebf44f58edb29cdce206457": {
      "model_module": "@jupyter-widgets/controls",
      "model_module_version": "1.5.0",
      "model_name": "ButtonModel",
      "state": {
       "_dom_classes": [],
       "_model_module": "@jupyter-widgets/controls",
       "_model_module_version": "1.5.0",
       "_model_name": "ButtonModel",
       "_view_count": null,
       "_view_module": "@jupyter-widgets/controls",
       "_view_module_version": "1.5.0",
       "_view_name": "ButtonView",
       "button_style": "info",
       "description": "Enter",
       "disabled": false,
       "icon": "",
       "layout": "IPY_MODEL_63e0a459e143459db3d18d302334bea0",
       "style": "IPY_MODEL_80447f24962e4ffcab93c2465db726a5",
       "tooltip": ""
      }
     },
     "4f111f0ed18e4f06943cf3b1afa4d88f": {
      "model_module": "@jupyter-widgets/base",
      "model_module_version": "1.2.0",
      "model_name": "LayoutModel",
      "state": {
       "_model_module": "@jupyter-widgets/base",
       "_model_module_version": "1.2.0",
       "_model_name": "LayoutModel",
       "_view_count": null,
       "_view_module": "@jupyter-widgets/base",
       "_view_module_version": "1.2.0",
       "_view_name": "LayoutView",
       "align_content": null,
       "align_items": null,
       "align_self": null,
       "border": null,
       "bottom": null,
       "display": null,
       "flex": null,
       "flex_flow": null,
       "grid_area": null,
       "grid_auto_columns": null,
       "grid_auto_flow": null,
       "grid_auto_rows": null,
       "grid_column": null,
       "grid_gap": null,
       "grid_row": null,
       "grid_template_areas": null,
       "grid_template_columns": null,
       "grid_template_rows": null,
       "height": "30px",
       "justify_content": null,
       "justify_items": null,
       "left": null,
       "margin": null,
       "max_height": null,
       "max_width": null,
       "min_height": null,
       "min_width": null,
       "object_fit": null,
       "object_position": null,
       "order": null,
       "overflow": null,
       "overflow_x": null,
       "overflow_y": null,
       "padding": null,
       "right": null,
       "top": null,
       "visibility": null,
       "width": "15%"
      }
     },
     "50e64e00e9b24cd0a061983bb7dd93b5": {
      "model_module": "@jupyter-widgets/base",
      "model_module_version": "1.2.0",
      "model_name": "LayoutModel",
      "state": {
       "_model_module": "@jupyter-widgets/base",
       "_model_module_version": "1.2.0",
       "_model_name": "LayoutModel",
       "_view_count": null,
       "_view_module": "@jupyter-widgets/base",
       "_view_module_version": "1.2.0",
       "_view_name": "LayoutView",
       "align_content": null,
       "align_items": null,
       "align_self": null,
       "border": null,
       "bottom": null,
       "display": null,
       "flex": null,
       "flex_flow": null,
       "grid_area": null,
       "grid_auto_columns": null,
       "grid_auto_flow": null,
       "grid_auto_rows": null,
       "grid_column": null,
       "grid_gap": null,
       "grid_row": null,
       "grid_template_areas": null,
       "grid_template_columns": null,
       "grid_template_rows": null,
       "height": null,
       "justify_content": null,
       "justify_items": null,
       "left": null,
       "margin": null,
       "max_height": null,
       "max_width": null,
       "min_height": null,
       "min_width": null,
       "object_fit": null,
       "object_position": null,
       "order": null,
       "overflow": null,
       "overflow_x": null,
       "overflow_y": null,
       "padding": null,
       "right": null,
       "top": null,
       "visibility": null,
       "width": null
      }
     },
     "51653a4c78b240b184e4666d23395390": {
      "model_module": "@jupyter-widgets/base",
      "model_module_version": "1.2.0",
      "model_name": "LayoutModel",
      "state": {
       "_model_module": "@jupyter-widgets/base",
       "_model_module_version": "1.2.0",
       "_model_name": "LayoutModel",
       "_view_count": null,
       "_view_module": "@jupyter-widgets/base",
       "_view_module_version": "1.2.0",
       "_view_name": "LayoutView",
       "align_content": null,
       "align_items": null,
       "align_self": null,
       "border": null,
       "bottom": null,
       "display": null,
       "flex": null,
       "flex_flow": null,
       "grid_area": null,
       "grid_auto_columns": null,
       "grid_auto_flow": null,
       "grid_auto_rows": null,
       "grid_column": null,
       "grid_gap": null,
       "grid_row": null,
       "grid_template_areas": null,
       "grid_template_columns": null,
       "grid_template_rows": null,
       "height": null,
       "justify_content": null,
       "justify_items": null,
       "left": null,
       "margin": null,
       "max_height": null,
       "max_width": null,
       "min_height": null,
       "min_width": null,
       "object_fit": null,
       "object_position": null,
       "order": null,
       "overflow": null,
       "overflow_x": null,
       "overflow_y": null,
       "padding": null,
       "right": null,
       "top": null,
       "visibility": null,
       "width": null
      }
     },
     "52c6fd1a4f9c400390fcb56979e1b94a": {
      "model_module": "@jupyter-widgets/base",
      "model_module_version": "1.2.0",
      "model_name": "LayoutModel",
      "state": {
       "_model_module": "@jupyter-widgets/base",
       "_model_module_version": "1.2.0",
       "_model_name": "LayoutModel",
       "_view_count": null,
       "_view_module": "@jupyter-widgets/base",
       "_view_module_version": "1.2.0",
       "_view_name": "LayoutView",
       "align_content": null,
       "align_items": null,
       "align_self": null,
       "border": null,
       "bottom": null,
       "display": null,
       "flex": null,
       "flex_flow": null,
       "grid_area": null,
       "grid_auto_columns": null,
       "grid_auto_flow": null,
       "grid_auto_rows": null,
       "grid_column": null,
       "grid_gap": null,
       "grid_row": null,
       "grid_template_areas": null,
       "grid_template_columns": null,
       "grid_template_rows": null,
       "height": null,
       "justify_content": null,
       "justify_items": null,
       "left": null,
       "margin": null,
       "max_height": null,
       "max_width": null,
       "min_height": null,
       "min_width": null,
       "object_fit": null,
       "object_position": null,
       "order": null,
       "overflow": null,
       "overflow_x": null,
       "overflow_y": null,
       "padding": null,
       "right": null,
       "top": null,
       "visibility": null,
       "width": null
      }
     },
     "567543038fdd4c49b2591458a1824c0a": {
      "model_module": "@jupyter-widgets/controls",
      "model_module_version": "1.5.0",
      "model_name": "ButtonStyleModel",
      "state": {
       "_model_module": "@jupyter-widgets/controls",
       "_model_module_version": "1.5.0",
       "_model_name": "ButtonStyleModel",
       "_view_count": null,
       "_view_module": "@jupyter-widgets/base",
       "_view_module_version": "1.2.0",
       "_view_name": "StyleView",
       "button_color": null,
       "font_weight": ""
      }
     },
     "5b00b17bfd3d4cada2b47e736e480aeb": {
      "model_module": "@jupyter-widgets/base",
      "model_module_version": "1.2.0",
      "model_name": "LayoutModel",
      "state": {
       "_model_module": "@jupyter-widgets/base",
       "_model_module_version": "1.2.0",
       "_model_name": "LayoutModel",
       "_view_count": null,
       "_view_module": "@jupyter-widgets/base",
       "_view_module_version": "1.2.0",
       "_view_name": "LayoutView",
       "align_content": null,
       "align_items": null,
       "align_self": null,
       "border": null,
       "bottom": null,
       "display": null,
       "flex": null,
       "flex_flow": null,
       "grid_area": null,
       "grid_auto_columns": null,
       "grid_auto_flow": null,
       "grid_auto_rows": null,
       "grid_column": null,
       "grid_gap": null,
       "grid_row": null,
       "grid_template_areas": null,
       "grid_template_columns": null,
       "grid_template_rows": null,
       "height": "250px",
       "justify_content": null,
       "justify_items": null,
       "left": null,
       "margin": null,
       "max_height": null,
       "max_width": null,
       "min_height": null,
       "min_width": null,
       "object_fit": null,
       "object_position": null,
       "order": null,
       "overflow": null,
       "overflow_x": null,
       "overflow_y": null,
       "padding": null,
       "right": null,
       "top": null,
       "visibility": null,
       "width": "100%"
      }
     },
     "5ed32732870549a78d4a02a1d053f0c4": {
      "model_module": "@jupyter-widgets/controls",
      "model_module_version": "1.5.0",
      "model_name": "ButtonModel",
      "state": {
       "_dom_classes": [],
       "_model_module": "@jupyter-widgets/controls",
       "_model_module_version": "1.5.0",
       "_model_name": "ButtonModel",
       "_view_count": null,
       "_view_module": "@jupyter-widgets/controls",
       "_view_module_version": "1.5.0",
       "_view_name": "ButtonView",
       "button_style": "info",
       "description": "Enter",
       "disabled": false,
       "icon": "",
       "layout": "IPY_MODEL_19c611e7bac1404aba7e4152ed989fa1",
       "style": "IPY_MODEL_ae8579cab6ce45f5aa820c7384744acc",
       "tooltip": ""
      }
     },
     "63e0a459e143459db3d18d302334bea0": {
      "model_module": "@jupyter-widgets/base",
      "model_module_version": "1.2.0",
      "model_name": "LayoutModel",
      "state": {
       "_model_module": "@jupyter-widgets/base",
       "_model_module_version": "1.2.0",
       "_model_name": "LayoutModel",
       "_view_count": null,
       "_view_module": "@jupyter-widgets/base",
       "_view_module_version": "1.2.0",
       "_view_name": "LayoutView",
       "align_content": null,
       "align_items": null,
       "align_self": null,
       "border": null,
       "bottom": null,
       "display": null,
       "flex": null,
       "flex_flow": null,
       "grid_area": null,
       "grid_auto_columns": null,
       "grid_auto_flow": null,
       "grid_auto_rows": null,
       "grid_column": null,
       "grid_gap": null,
       "grid_row": null,
       "grid_template_areas": null,
       "grid_template_columns": null,
       "grid_template_rows": null,
       "height": "30px",
       "justify_content": null,
       "justify_items": null,
       "left": null,
       "margin": null,
       "max_height": null,
       "max_width": null,
       "min_height": null,
       "min_width": null,
       "object_fit": null,
       "object_position": null,
       "order": null,
       "overflow": null,
       "overflow_x": null,
       "overflow_y": null,
       "padding": null,
       "right": null,
       "top": null,
       "visibility": null,
       "width": "20%"
      }
     },
     "660a12d02f044e7fa0efbbe17f91886b": {
      "model_module": "@jupyter-widgets/controls",
      "model_module_version": "1.5.0",
      "model_name": "DropdownModel",
      "state": {
       "_dom_classes": [],
       "_model_module": "@jupyter-widgets/controls",
       "_model_module_version": "1.5.0",
       "_model_name": "DropdownModel",
       "_options_labels": [
        " ",
        "Yes",
        "No"
       ],
       "_view_count": null,
       "_view_module": "@jupyter-widgets/controls",
       "_view_module_version": "1.5.0",
       "_view_name": "DropdownView",
       "description": "Choose One:",
       "description_tooltip": null,
       "disabled": false,
       "index": 0,
       "layout": "IPY_MODEL_3675be74fe534a958cb9d79eb12a1d29",
       "style": "IPY_MODEL_9523f8f30346449a9eae0c664c3ba92d"
      }
     },
     "69ca16b568164fd1a4524d9eb2990241": {
      "model_module": "@jupyter-widgets/controls",
      "model_module_version": "1.5.0",
      "model_name": "IntSliderModel",
      "state": {
       "_dom_classes": [],
       "_model_module": "@jupyter-widgets/controls",
       "_model_module_version": "1.5.0",
       "_model_name": "IntSliderModel",
       "_view_count": null,
       "_view_module": "@jupyter-widgets/controls",
       "_view_module_version": "1.5.0",
       "_view_name": "IntSliderView",
       "continuous_update": false,
       "description": "Ceasar Shift:",
       "description_tooltip": null,
       "disabled": false,
       "layout": "IPY_MODEL_1da641e7c6e54502bd668a6bb08891d8",
       "max": 26,
       "min": 1,
       "orientation": "horizontal",
       "readout": true,
       "readout_format": "d",
       "step": 1,
       "style": "IPY_MODEL_3e6e8620ac3c4a41abfe7b98861cf424",
       "value": 7
      }
     },
     "6a322c22e2a941c282c347cf1bcfb0e6": {
      "model_module": "@jupyter-widgets/base",
      "model_module_version": "1.2.0",
      "model_name": "LayoutModel",
      "state": {
       "_model_module": "@jupyter-widgets/base",
       "_model_module_version": "1.2.0",
       "_model_name": "LayoutModel",
       "_view_count": null,
       "_view_module": "@jupyter-widgets/base",
       "_view_module_version": "1.2.0",
       "_view_name": "LayoutView",
       "align_content": null,
       "align_items": null,
       "align_self": null,
       "border": null,
       "bottom": null,
       "display": null,
       "flex": null,
       "flex_flow": null,
       "grid_area": null,
       "grid_auto_columns": null,
       "grid_auto_flow": null,
       "grid_auto_rows": null,
       "grid_column": null,
       "grid_gap": null,
       "grid_row": null,
       "grid_template_areas": null,
       "grid_template_columns": null,
       "grid_template_rows": null,
       "height": null,
       "justify_content": null,
       "justify_items": null,
       "left": null,
       "margin": null,
       "max_height": null,
       "max_width": null,
       "min_height": null,
       "min_width": null,
       "object_fit": null,
       "object_position": null,
       "order": null,
       "overflow": null,
       "overflow_x": null,
       "overflow_y": null,
       "padding": null,
       "right": null,
       "top": null,
       "visibility": null,
       "width": null
      }
     },
     "6b5d77b9d0dc4e95a92d777542918d02": {
      "model_module": "@jupyter-widgets/controls",
      "model_module_version": "1.5.0",
      "model_name": "DescriptionStyleModel",
      "state": {
       "_model_module": "@jupyter-widgets/controls",
       "_model_module_version": "1.5.0",
       "_model_name": "DescriptionStyleModel",
       "_view_count": null,
       "_view_module": "@jupyter-widgets/base",
       "_view_module_version": "1.2.0",
       "_view_name": "StyleView",
       "description_width": ""
      }
     },
     "6d13936fd30a495ba3fbee1a39d48d05": {
      "model_module": "@jupyter-widgets/controls",
      "model_module_version": "1.5.0",
      "model_name": "DescriptionStyleModel",
      "state": {
       "_model_module": "@jupyter-widgets/controls",
       "_model_module_version": "1.5.0",
       "_model_name": "DescriptionStyleModel",
       "_view_count": null,
       "_view_module": "@jupyter-widgets/base",
       "_view_module_version": "1.2.0",
       "_view_name": "StyleView",
       "description_width": ""
      }
     },
     "6ed31aed41014caf8285f06d4735d91d": {
      "model_module": "@jupyter-widgets/controls",
      "model_module_version": "1.5.0",
      "model_name": "DescriptionStyleModel",
      "state": {
       "_model_module": "@jupyter-widgets/controls",
       "_model_module_version": "1.5.0",
       "_model_name": "DescriptionStyleModel",
       "_view_count": null,
       "_view_module": "@jupyter-widgets/base",
       "_view_module_version": "1.2.0",
       "_view_name": "StyleView",
       "description_width": ""
      }
     },
     "6f8c64247c3140b9a28efd25448f4a41": {
      "model_module": "@jupyter-widgets/controls",
      "model_module_version": "1.5.0",
      "model_name": "DescriptionStyleModel",
      "state": {
       "_model_module": "@jupyter-widgets/controls",
       "_model_module_version": "1.5.0",
       "_model_name": "DescriptionStyleModel",
       "_view_count": null,
       "_view_module": "@jupyter-widgets/base",
       "_view_module_version": "1.2.0",
       "_view_name": "StyleView",
       "description_width": ""
      }
     },
     "701b56107e3f412fba1adfb3766d80fe": {
      "model_module": "@jupyter-widgets/base",
      "model_module_version": "1.2.0",
      "model_name": "LayoutModel",
      "state": {
       "_model_module": "@jupyter-widgets/base",
       "_model_module_version": "1.2.0",
       "_model_name": "LayoutModel",
       "_view_count": null,
       "_view_module": "@jupyter-widgets/base",
       "_view_module_version": "1.2.0",
       "_view_name": "LayoutView",
       "align_content": null,
       "align_items": null,
       "align_self": null,
       "border": null,
       "bottom": null,
       "display": null,
       "flex": null,
       "flex_flow": null,
       "grid_area": null,
       "grid_auto_columns": null,
       "grid_auto_flow": null,
       "grid_auto_rows": null,
       "grid_column": null,
       "grid_gap": null,
       "grid_row": null,
       "grid_template_areas": null,
       "grid_template_columns": null,
       "grid_template_rows": null,
       "height": null,
       "justify_content": null,
       "justify_items": null,
       "left": null,
       "margin": null,
       "max_height": null,
       "max_width": null,
       "min_height": null,
       "min_width": null,
       "object_fit": null,
       "object_position": null,
       "order": null,
       "overflow": null,
       "overflow_x": null,
       "overflow_y": null,
       "padding": null,
       "right": null,
       "top": null,
       "visibility": null,
       "width": null
      }
     },
     "703f60e5e30742febd7d86f9698d86ab": {
      "model_module": "@jupyter-widgets/controls",
      "model_module_version": "1.5.0",
      "model_name": "ButtonModel",
      "state": {
       "_dom_classes": [],
       "_model_module": "@jupyter-widgets/controls",
       "_model_module_version": "1.5.0",
       "_model_name": "ButtonModel",
       "_view_count": null,
       "_view_module": "@jupyter-widgets/controls",
       "_view_module_version": "1.5.0",
       "_view_name": "ButtonView",
       "button_style": "info",
       "description": "Enter",
       "disabled": false,
       "icon": "",
       "layout": "IPY_MODEL_9a0d9032a53d448d85d4089524b74046",
       "style": "IPY_MODEL_464dfa8a55434cc98ce19f7b5082c371",
       "tooltip": ""
      }
     },
     "71e40d79f42d42ad8013a9e4a1b70cb6": {
      "model_module": "@jupyter-widgets/controls",
      "model_module_version": "1.5.0",
      "model_name": "DropdownModel",
      "state": {
       "_dom_classes": [],
       "_model_module": "@jupyter-widgets/controls",
       "_model_module_version": "1.5.0",
       "_model_name": "DropdownModel",
       "_options_labels": [
        " ",
        "Yes",
        "No"
       ],
       "_view_count": null,
       "_view_module": "@jupyter-widgets/controls",
       "_view_module_version": "1.5.0",
       "_view_name": "DropdownView",
       "description": "Choose One:",
       "description_tooltip": null,
       "disabled": false,
       "index": 0,
       "layout": "IPY_MODEL_52c6fd1a4f9c400390fcb56979e1b94a",
       "style": "IPY_MODEL_6f8c64247c3140b9a28efd25448f4a41"
      }
     },
     "80447f24962e4ffcab93c2465db726a5": {
      "model_module": "@jupyter-widgets/controls",
      "model_module_version": "1.5.0",
      "model_name": "ButtonStyleModel",
      "state": {
       "_model_module": "@jupyter-widgets/controls",
       "_model_module_version": "1.5.0",
       "_model_name": "ButtonStyleModel",
       "_view_count": null,
       "_view_module": "@jupyter-widgets/base",
       "_view_module_version": "1.2.0",
       "_view_name": "StyleView",
       "button_color": null,
       "font_weight": ""
      }
     },
     "81259ce1bb924ed088f52c65e3f6330a": {
      "model_module": "@jupyter-widgets/base",
      "model_module_version": "1.2.0",
      "model_name": "LayoutModel",
      "state": {
       "_model_module": "@jupyter-widgets/base",
       "_model_module_version": "1.2.0",
       "_model_name": "LayoutModel",
       "_view_count": null,
       "_view_module": "@jupyter-widgets/base",
       "_view_module_version": "1.2.0",
       "_view_name": "LayoutView",
       "align_content": null,
       "align_items": null,
       "align_self": null,
       "border": null,
       "bottom": null,
       "display": null,
       "flex": null,
       "flex_flow": null,
       "grid_area": null,
       "grid_auto_columns": null,
       "grid_auto_flow": null,
       "grid_auto_rows": null,
       "grid_column": null,
       "grid_gap": null,
       "grid_row": null,
       "grid_template_areas": null,
       "grid_template_columns": null,
       "grid_template_rows": null,
       "height": "30px",
       "justify_content": null,
       "justify_items": null,
       "left": null,
       "margin": null,
       "max_height": null,
       "max_width": null,
       "min_height": null,
       "min_width": null,
       "object_fit": null,
       "object_position": null,
       "order": null,
       "overflow": null,
       "overflow_x": null,
       "overflow_y": null,
       "padding": null,
       "right": null,
       "top": null,
       "visibility": null,
       "width": "15%"
      }
     },
     "8810ce16a0a34c9a9ec6e6a737cd44a0": {
      "model_module": "@jupyter-widgets/output",
      "model_module_version": "1.0.0",
      "model_name": "OutputModel",
      "state": {
       "_dom_classes": [],
       "_model_module": "@jupyter-widgets/output",
       "_model_module_version": "1.0.0",
       "_model_name": "OutputModel",
       "_view_count": null,
       "_view_module": "@jupyter-widgets/output",
       "_view_module_version": "1.0.0",
       "_view_name": "OutputView",
       "layout": "IPY_MODEL_701b56107e3f412fba1adfb3766d80fe",
       "msg_id": "",
       "outputs": []
      }
     },
     "8c6b6815f4db4ffa936ea5fbe9f059a7": {
      "model_module": "@jupyter-widgets/controls",
      "model_module_version": "1.5.0",
      "model_name": "TextareaModel",
      "state": {
       "_dom_classes": [],
       "_model_module": "@jupyter-widgets/controls",
       "_model_module_version": "1.5.0",
       "_model_name": "TextareaModel",
       "_view_count": null,
       "_view_module": "@jupyter-widgets/controls",
       "_view_module_version": "1.5.0",
       "_view_name": "TextareaView",
       "continuous_update": true,
       "description": "",
       "description_tooltip": null,
       "disabled": false,
       "layout": "IPY_MODEL_5b00b17bfd3d4cada2b47e736e480aeb",
       "placeholder": "Enter your text here.",
       "rows": null,
       "style": "IPY_MODEL_6ed31aed41014caf8285f06d4735d91d",
       "value": ""
      }
     },
     "9523f8f30346449a9eae0c664c3ba92d": {
      "model_module": "@jupyter-widgets/controls",
      "model_module_version": "1.5.0",
      "model_name": "DescriptionStyleModel",
      "state": {
       "_model_module": "@jupyter-widgets/controls",
       "_model_module_version": "1.5.0",
       "_model_name": "DescriptionStyleModel",
       "_view_count": null,
       "_view_module": "@jupyter-widgets/base",
       "_view_module_version": "1.2.0",
       "_view_name": "StyleView",
       "description_width": ""
      }
     },
     "9a0d9032a53d448d85d4089524b74046": {
      "model_module": "@jupyter-widgets/base",
      "model_module_version": "1.2.0",
      "model_name": "LayoutModel",
      "state": {
       "_model_module": "@jupyter-widgets/base",
       "_model_module_version": "1.2.0",
       "_model_name": "LayoutModel",
       "_view_count": null,
       "_view_module": "@jupyter-widgets/base",
       "_view_module_version": "1.2.0",
       "_view_name": "LayoutView",
       "align_content": null,
       "align_items": null,
       "align_self": null,
       "border": null,
       "bottom": null,
       "display": null,
       "flex": null,
       "flex_flow": null,
       "grid_area": null,
       "grid_auto_columns": null,
       "grid_auto_flow": null,
       "grid_auto_rows": null,
       "grid_column": null,
       "grid_gap": null,
       "grid_row": null,
       "grid_template_areas": null,
       "grid_template_columns": null,
       "grid_template_rows": null,
       "height": "30px",
       "justify_content": null,
       "justify_items": null,
       "left": null,
       "margin": null,
       "max_height": null,
       "max_width": null,
       "min_height": null,
       "min_width": null,
       "object_fit": null,
       "object_position": null,
       "order": null,
       "overflow": null,
       "overflow_x": null,
       "overflow_y": null,
       "padding": null,
       "right": null,
       "top": null,
       "visibility": null,
       "width": "15%"
      }
     },
     "9a60f376dba94990afbf8a858889428a": {
      "model_module": "@jupyter-widgets/controls",
      "model_module_version": "1.5.0",
      "model_name": "VBoxModel",
      "state": {
       "_dom_classes": [
        "widget-interact"
       ],
       "_model_module": "@jupyter-widgets/controls",
       "_model_module_version": "1.5.0",
       "_model_name": "VBoxModel",
       "_view_count": null,
       "_view_module": "@jupyter-widgets/controls",
       "_view_module_version": "1.5.0",
       "_view_name": "VBoxView",
       "box_style": "",
       "children": [
        "IPY_MODEL_71e40d79f42d42ad8013a9e4a1b70cb6",
        "IPY_MODEL_a85e1502485c424eb112265115db0e8c"
       ],
       "layout": "IPY_MODEL_2c3815cc33234ec1aa5f6c40c98d4bd7"
      }
     },
     "a7f006d1dfcb4f06a76f6eb93a2d9677": {
      "model_module": "@jupyter-widgets/controls",
      "model_module_version": "1.5.0",
      "model_name": "ButtonModel",
      "state": {
       "_dom_classes": [],
       "_model_module": "@jupyter-widgets/controls",
       "_model_module_version": "1.5.0",
       "_model_name": "ButtonModel",
       "_view_count": null,
       "_view_module": "@jupyter-widgets/controls",
       "_view_module_version": "1.5.0",
       "_view_name": "ButtonView",
       "button_style": "info",
       "description": "Enter",
       "disabled": false,
       "icon": "",
       "layout": "IPY_MODEL_f37dea700bdd41ae820064d86229db95",
       "style": "IPY_MODEL_1b427899010a418aa4f1f4c3006291af",
       "tooltip": ""
      }
     },
     "a85e1502485c424eb112265115db0e8c": {
      "model_module": "@jupyter-widgets/output",
      "model_module_version": "1.0.0",
      "model_name": "OutputModel",
      "state": {
       "_dom_classes": [],
       "_model_module": "@jupyter-widgets/output",
       "_model_module_version": "1.0.0",
       "_model_name": "OutputModel",
       "_view_count": null,
       "_view_module": "@jupyter-widgets/output",
       "_view_module_version": "1.0.0",
       "_view_name": "OutputView",
       "layout": "IPY_MODEL_45945be0c539466391713bb070b1da08",
       "msg_id": "",
       "outputs": []
      }
     },
     "aac4ce4348a14b40a3f4edf8aa1a69ac": {
      "model_module": "@jupyter-widgets/controls",
      "model_module_version": "1.5.0",
      "model_name": "ButtonModel",
      "state": {
       "_dom_classes": [],
       "_model_module": "@jupyter-widgets/controls",
       "_model_module_version": "1.5.0",
       "_model_name": "ButtonModel",
       "_view_count": null,
       "_view_module": "@jupyter-widgets/controls",
       "_view_module_version": "1.5.0",
       "_view_name": "ButtonView",
       "button_style": "info",
       "description": "Enter",
       "disabled": false,
       "icon": "",
       "layout": "IPY_MODEL_4f111f0ed18e4f06943cf3b1afa4d88f",
       "style": "IPY_MODEL_567543038fdd4c49b2591458a1824c0a",
       "tooltip": ""
      }
     },
     "ac0880a9c289469d874e7ab60f64da9d": {
      "model_module": "@jupyter-widgets/controls",
      "model_module_version": "1.5.0",
      "model_name": "TextModel",
      "state": {
       "_dom_classes": [],
       "_model_module": "@jupyter-widgets/controls",
       "_model_module_version": "1.5.0",
       "_model_name": "TextModel",
       "_view_count": null,
       "_view_module": "@jupyter-widgets/controls",
       "_view_module_version": "1.5.0",
       "_view_name": "TextView",
       "continuous_update": true,
       "description": "$\\sqrt{}$",
       "description_tooltip": null,
       "disabled": false,
       "layout": "IPY_MODEL_f8e7a60ee47b4f3dbbae4a26dc2b1a35",
       "placeholder": "Your answer",
       "style": "IPY_MODEL_6b5d77b9d0dc4e95a92d777542918d02",
       "value": ""
      }
     },
     "aceb5dc78ab24e80bffe655b1a4300bc": {
      "model_module": "@jupyter-widgets/controls",
      "model_module_version": "1.5.0",
      "model_name": "DescriptionStyleModel",
      "state": {
       "_model_module": "@jupyter-widgets/controls",
       "_model_module_version": "1.5.0",
       "_model_name": "DescriptionStyleModel",
       "_view_count": null,
       "_view_module": "@jupyter-widgets/base",
       "_view_module_version": "1.2.0",
       "_view_name": "StyleView",
       "description_width": ""
      }
     },
     "ae8579cab6ce45f5aa820c7384744acc": {
      "model_module": "@jupyter-widgets/controls",
      "model_module_version": "1.5.0",
      "model_name": "ButtonStyleModel",
      "state": {
       "_model_module": "@jupyter-widgets/controls",
       "_model_module_version": "1.5.0",
       "_model_name": "ButtonStyleModel",
       "_view_count": null,
       "_view_module": "@jupyter-widgets/base",
       "_view_module_version": "1.2.0",
       "_view_name": "StyleView",
       "button_color": null,
       "font_weight": ""
      }
     },
     "b71d779e26e744cbaeacbb3a8c80eb9c": {
      "model_module": "@jupyter-widgets/controls",
      "model_module_version": "1.5.0",
      "model_name": "VBoxModel",
      "state": {
       "_dom_classes": [
        "widget-interact"
       ],
       "_model_module": "@jupyter-widgets/controls",
       "_model_module_version": "1.5.0",
       "_model_name": "VBoxModel",
       "_view_count": null,
       "_view_module": "@jupyter-widgets/controls",
       "_view_module_version": "1.5.0",
       "_view_name": "VBoxView",
       "box_style": "",
       "children": [
        "IPY_MODEL_660a12d02f044e7fa0efbbe17f91886b",
        "IPY_MODEL_8810ce16a0a34c9a9ec6e6a737cd44a0"
       ],
       "layout": "IPY_MODEL_6a322c22e2a941c282c347cf1bcfb0e6"
      }
     },
     "bae5a4d8c8f64b0cb24c21a1bcb0af7e": {
      "model_module": "@jupyter-widgets/base",
      "model_module_version": "1.2.0",
      "model_name": "LayoutModel",
      "state": {
       "_model_module": "@jupyter-widgets/base",
       "_model_module_version": "1.2.0",
       "_model_name": "LayoutModel",
       "_view_count": null,
       "_view_module": "@jupyter-widgets/base",
       "_view_module_version": "1.2.0",
       "_view_name": "LayoutView",
       "align_content": null,
       "align_items": null,
       "align_self": null,
       "border": null,
       "bottom": null,
       "display": null,
       "flex": null,
       "flex_flow": null,
       "grid_area": null,
       "grid_auto_columns": null,
       "grid_auto_flow": null,
       "grid_auto_rows": null,
       "grid_column": null,
       "grid_gap": null,
       "grid_row": null,
       "grid_template_areas": null,
       "grid_template_columns": null,
       "grid_template_rows": null,
       "height": null,
       "justify_content": null,
       "justify_items": null,
       "left": null,
       "margin": null,
       "max_height": null,
       "max_width": null,
       "min_height": null,
       "min_width": null,
       "object_fit": null,
       "object_position": null,
       "order": null,
       "overflow": null,
       "overflow_x": null,
       "overflow_y": null,
       "padding": null,
       "right": null,
       "top": null,
       "visibility": null,
       "width": null
      }
     },
     "bd107f4582a943bc9e95466cb2ecf908": {
      "model_module": "@jupyter-widgets/controls",
      "model_module_version": "1.5.0",
      "model_name": "ButtonModel",
      "state": {
       "_dom_classes": [],
       "_model_module": "@jupyter-widgets/controls",
       "_model_module_version": "1.5.0",
       "_model_name": "ButtonModel",
       "_view_count": null,
       "_view_module": "@jupyter-widgets/controls",
       "_view_module_version": "1.5.0",
       "_view_name": "ButtonView",
       "button_style": "info",
       "description": "Enter",
       "disabled": false,
       "icon": "",
       "layout": "IPY_MODEL_2144c5a3b8404d759ef93addc935d687",
       "style": "IPY_MODEL_fa8c1e46e9014cc592b161a90b18eee4",
       "tooltip": ""
      }
     },
     "c005f2db700340eeaa62a05404c11d4d": {
      "model_module": "@jupyter-widgets/controls",
      "model_module_version": "1.5.0",
      "model_name": "DescriptionStyleModel",
      "state": {
       "_model_module": "@jupyter-widgets/controls",
       "_model_module_version": "1.5.0",
       "_model_name": "DescriptionStyleModel",
       "_view_count": null,
       "_view_module": "@jupyter-widgets/base",
       "_view_module_version": "1.2.0",
       "_view_name": "StyleView",
       "description_width": ""
      }
     },
     "d1b9d46ace1b41b4afb65d734fc29728": {
      "model_module": "@jupyter-widgets/controls",
      "model_module_version": "1.5.0",
      "model_name": "TextModel",
      "state": {
       "_dom_classes": [],
       "_model_module": "@jupyter-widgets/controls",
       "_model_module_version": "1.5.0",
       "_model_name": "TextModel",
       "_view_count": null,
       "_view_module": "@jupyter-widgets/controls",
       "_view_module_version": "1.5.0",
       "_view_name": "TextView",
       "continuous_update": true,
       "description": "$\\sqrt{}$",
       "description_tooltip": null,
       "disabled": false,
       "layout": "IPY_MODEL_bae5a4d8c8f64b0cb24c21a1bcb0af7e",
       "placeholder": "Your answer",
       "style": "IPY_MODEL_aceb5dc78ab24e80bffe655b1a4300bc",
       "value": ""
      }
     },
     "f37dea700bdd41ae820064d86229db95": {
      "model_module": "@jupyter-widgets/base",
      "model_module_version": "1.2.0",
      "model_name": "LayoutModel",
      "state": {
       "_model_module": "@jupyter-widgets/base",
       "_model_module_version": "1.2.0",
       "_model_name": "LayoutModel",
       "_view_count": null,
       "_view_module": "@jupyter-widgets/base",
       "_view_module_version": "1.2.0",
       "_view_name": "LayoutView",
       "align_content": null,
       "align_items": null,
       "align_self": null,
       "border": null,
       "bottom": null,
       "display": null,
       "flex": null,
       "flex_flow": null,
       "grid_area": null,
       "grid_auto_columns": null,
       "grid_auto_flow": null,
       "grid_auto_rows": null,
       "grid_column": null,
       "grid_gap": null,
       "grid_row": null,
       "grid_template_areas": null,
       "grid_template_columns": null,
       "grid_template_rows": null,
       "height": "30px",
       "justify_content": null,
       "justify_items": null,
       "left": null,
       "margin": null,
       "max_height": null,
       "max_width": null,
       "min_height": null,
       "min_width": null,
       "object_fit": null,
       "object_position": null,
       "order": null,
       "overflow": null,
       "overflow_x": null,
       "overflow_y": null,
       "padding": null,
       "right": null,
       "top": null,
       "visibility": null,
       "width": "10%"
      }
     },
     "f48ed7b8287542389197f918a52b5c17": {
      "model_module": "@jupyter-widgets/base",
      "model_module_version": "1.2.0",
      "model_name": "LayoutModel",
      "state": {
       "_model_module": "@jupyter-widgets/base",
       "_model_module_version": "1.2.0",
       "_model_name": "LayoutModel",
       "_view_count": null,
       "_view_module": "@jupyter-widgets/base",
       "_view_module_version": "1.2.0",
       "_view_name": "LayoutView",
       "align_content": null,
       "align_items": null,
       "align_self": null,
       "border": null,
       "bottom": null,
       "display": null,
       "flex": null,
       "flex_flow": null,
       "grid_area": null,
       "grid_auto_columns": null,
       "grid_auto_flow": null,
       "grid_auto_rows": null,
       "grid_column": null,
       "grid_gap": null,
       "grid_row": null,
       "grid_template_areas": null,
       "grid_template_columns": null,
       "grid_template_rows": null,
       "height": null,
       "justify_content": null,
       "justify_items": null,
       "left": null,
       "margin": null,
       "max_height": null,
       "max_width": null,
       "min_height": null,
       "min_width": null,
       "object_fit": null,
       "object_position": null,
       "order": null,
       "overflow": null,
       "overflow_x": null,
       "overflow_y": null,
       "padding": null,
       "right": null,
       "top": null,
       "visibility": null,
       "width": null
      }
     },
     "f8e7a60ee47b4f3dbbae4a26dc2b1a35": {
      "model_module": "@jupyter-widgets/base",
      "model_module_version": "1.2.0",
      "model_name": "LayoutModel",
      "state": {
       "_model_module": "@jupyter-widgets/base",
       "_model_module_version": "1.2.0",
       "_model_name": "LayoutModel",
       "_view_count": null,
       "_view_module": "@jupyter-widgets/base",
       "_view_module_version": "1.2.0",
       "_view_name": "LayoutView",
       "align_content": null,
       "align_items": null,
       "align_self": null,
       "border": null,
       "bottom": null,
       "display": null,
       "flex": null,
       "flex_flow": null,
       "grid_area": null,
       "grid_auto_columns": null,
       "grid_auto_flow": null,
       "grid_auto_rows": null,
       "grid_column": null,
       "grid_gap": null,
       "grid_row": null,
       "grid_template_areas": null,
       "grid_template_columns": null,
       "grid_template_rows": null,
       "height": null,
       "justify_content": null,
       "justify_items": null,
       "left": null,
       "margin": null,
       "max_height": null,
       "max_width": null,
       "min_height": null,
       "min_width": null,
       "object_fit": null,
       "object_position": null,
       "order": null,
       "overflow": null,
       "overflow_x": null,
       "overflow_y": null,
       "padding": null,
       "right": null,
       "top": null,
       "visibility": null,
       "width": null
      }
     },
     "fa8c1e46e9014cc592b161a90b18eee4": {
      "model_module": "@jupyter-widgets/controls",
      "model_module_version": "1.5.0",
      "model_name": "ButtonStyleModel",
      "state": {
       "_model_module": "@jupyter-widgets/controls",
       "_model_module_version": "1.5.0",
       "_model_name": "ButtonStyleModel",
       "_view_count": null,
       "_view_module": "@jupyter-widgets/base",
       "_view_module_version": "1.2.0",
       "_view_name": "StyleView",
       "button_color": null,
       "font_weight": ""
      }
     }
    },
    "version_major": 2,
    "version_minor": 0
   }
  }
 },
 "nbformat": 4,
 "nbformat_minor": 2
}