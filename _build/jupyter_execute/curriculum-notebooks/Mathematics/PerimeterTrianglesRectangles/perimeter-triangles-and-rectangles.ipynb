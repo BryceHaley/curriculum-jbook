{
 "cells": [
  {
   "cell_type": "markdown",
   "metadata": {},
   "source": [
    "![Callysto.ca Banner](https://github.com/callysto/curriculum-notebooks/blob/master/callysto-notebook-banner-top.jpg?raw=true)\n",
    "\n",
    "<a href=\"https://hub.callysto.ca/jupyter/hub/user-redirect/git-pull?repo=https%3A%2F%2Fgithub.com%2Fcallysto%2Fcurriculum-notebooks&branch=master&subPath=Mathematics/PerimeterTrianglesRectangles/perimeter-triangles-and-rectangles.ipynb&depth=1\" target=\"_parent\"><img src=\"https://raw.githubusercontent.com/callysto/curriculum-notebooks/master/open-in-callysto-button.svg?sanitize=true\" width=\"123\" height=\"24\" alt=\"Open in Callysto\"/></a>"
   ]
  },
  {
   "cell_type": "code",
   "execution_count": 1,
   "metadata": {
    "scrolled": true
   },
   "outputs": [
    {
     "data": {
      "text/html": [
       "<script>\n",
       "code_show=true; \n",
       "function code_toggle() {\n",
       " if (code_show){\n",
       " $('div.input').hide();\n",
       " } else {\n",
       " $('div.input').show();\n",
       " }\n",
       " code_show = !code_show\n",
       "} \n",
       "$( document ).ready(code_toggle);\n",
       "</script>\n",
       "The raw code for this IPython notebook is by default hidden for easier reading.\n",
       "To toggle on/off the raw code, click <a href=\"javascript:code_toggle()\">here</a>."
      ],
      "text/plain": [
       "<IPython.core.display.HTML object>"
      ]
     },
     "execution_count": 1,
     "metadata": {},
     "output_type": "execute_result"
    }
   ],
   "source": [
    "from IPython.display import HTML\n",
    "HTML('''<script>\n",
    "code_show=true; \n",
    "function code_toggle() {\n",
    " if (code_show){\n",
    " $('div.input').hide();\n",
    " } else {\n",
    " $('div.input').show();\n",
    " }\n",
    " code_show = !code_show\n",
    "} \n",
    "$( document ).ready(code_toggle);\n",
    "</script>\n",
    "The raw code for this IPython notebook is by default hidden for easier reading.\n",
    "To toggle on/off the raw code, click <a href=\"javascript:code_toggle()\">here</a>.''')"
   ]
  },
  {
   "cell_type": "markdown",
   "metadata": {},
   "source": [
    "\n",
    "# Perimeter - Triangles and Rectangles"
   ]
  },
  {
   "cell_type": "code",
   "execution_count": 2,
   "metadata": {},
   "outputs": [],
   "source": [
    "import matplotlib.pyplot as plt\n",
    "import ipywidgets\n",
    "from ipywidgets import widgets, interact, interact_manual, Button, Layout\n",
    "from IPython.display import Javascript, display, Latex, clear_output, Markdown"
   ]
  },
  {
   "cell_type": "markdown",
   "metadata": {},
   "source": [
    "Geometry is one of the most valuable topics of everyday life. It is important for driving, cooking, drawing, decorating, and many other tasks. It is also instinctive to human beings. Babies use geometry when deciding that circular pieces fit in circular holes. So, this notebook is describing the math behind natural activities.\n",
    "\n",
    "In this notebook, you will learn how to find the perimeter of quadrilaterals and triangles. These topics will be taught through visual aids and interactive models."
   ]
  },
  {
   "cell_type": "markdown",
   "metadata": {},
   "source": [
    "## Perimeter Background\n",
    "\n",
    "## Squares\n",
    "\n",
    "A **perimeter** is: \"The continuous line that forms a boundary around a shape.\" This means that a perimeter is the *length of every edge of a shape added together*. So, let's say we want to find the **perimeter of a square**:"
   ]
  },
  {
   "cell_type": "code",
   "execution_count": 3,
   "metadata": {
    "scrolled": true
   },
   "outputs": [
    {
     "data": {
      "text/html": [
       "<svg height=\"400\" width=\"1500\">\n",
       "<rect x=\"370\" y=\"30\" width=\"200\" height=\"200\" stroke=\"black\" fill=\"red\" stroke-width=\"5\"/>\n",
       "\n",
       "#The following text is for the \"4cm\" at the top of the shape\n",
       "<text x=\"455\" y=\"20\" fill=\"black\">4cm</text>\n",
       "\n",
       "</svg>\n"
      ],
      "text/plain": [
       "<IPython.core.display.HTML object>"
      ]
     },
     "metadata": {},
     "output_type": "display_data"
    }
   ],
   "source": [
    "%%html\n",
    "<svg height=\"400\" width=\"1500\">\n",
    "<rect x=\"370\" y=\"30\" width=\"200\" height=\"200\" stroke=\"black\" fill=\"red\" stroke-width=\"5\"/>\n",
    "\n",
    "#The following text is for the \"4cm\" at the top of the shape\n",
    "<text x=\"455\" y=\"20\" fill=\"black\">4cm</text>\n",
    "\n",
    "</svg>"
   ]
  },
  {
   "cell_type": "markdown",
   "metadata": {},
   "source": [
    "To calculate the perimeter of a square, add the length of all the edges together:"
   ]
  },
  {
   "cell_type": "markdown",
   "metadata": {},
   "source": [
    "<h3 align='center'>$\\ \\rm (Length) + (Length) + (Length) + (Length) = Perimeter $</h3>"
   ]
  },
  {
   "cell_type": "markdown",
   "metadata": {},
   "source": [
    "But, we know that the length of every edge on a square is the same. So, we can do:"
   ]
  },
  {
   "cell_type": "markdown",
   "metadata": {},
   "source": [
    "<h3 align='center'>$\\ \\rm 4 \\times (Length) = Perimeter $</h3>"
   ]
  },
  {
   "cell_type": "markdown",
   "metadata": {},
   "source": [
    "So, the perimeter of the square above is:"
   ]
  },
  {
   "cell_type": "markdown",
   "metadata": {},
   "source": [
    "<h3 align='center'>$\\rm 4 \\times (4cm) = 16cm $</h3>"
   ]
  },
  {
   "cell_type": "markdown",
   "metadata": {},
   "source": [
    "### Calculator for Perimeter of a Square\n",
    "\n",
    "The following is an interactive calculator for getting the perimeter of any square:"
   ]
  },
  {
   "cell_type": "code",
   "execution_count": 4,
   "metadata": {},
   "outputs": [
    {
     "data": {
      "application/vnd.jupyter.widget-view+json": {
       "model_id": "bb76151d8e624ee18a2bfd9fcb63193f",
       "version_major": 2,
       "version_minor": 0
      },
      "text/plain": [
       "interactive(children=(IntSlider(value=1, description='Square length:', min=1, style=SliderStyle(description_wi…"
      ]
     },
     "metadata": {},
     "output_type": "display_data"
    }
   ],
   "source": [
    "%matplotlib inline\n",
    "from ipywidgets import interactive\n",
    "import matplotlib.pyplot as plt\n",
    "\n",
    "#Used to ensure the description text doesn't get cut off.\n",
    "stl = {'description_width': 'initial'}\n",
    "\n",
    "def f(sqrLength):\n",
    "    #Draw a square using the sqrLength input\n",
    "    plt.plot([0, sqrLength, sqrLength, 0, 0], [0, 0, sqrLength, sqrLength, 0])\n",
    "    \n",
    "    #Scale the plot to look like a square at all times\n",
    "    plt.axis('scaled')\n",
    "    plt.show()\n",
    "    \n",
    "    #Calculate the perimeter of the square by multiplying the length of the square by 4\n",
    "    sqrPerimeter = 4 * sqrLength\n",
    "    \n",
    "    display(Latex(\"Given a length of $\" + str(sqrLength) + \"$, the perimeter is $\" + str(sqrPerimeter) + \"$\"))\n",
    "\n",
    "#Create an interactive plot with the f function and an IntSlider as input. The IntSlider\n",
    "# will determine the length of a square.\n",
    "interactive_plot = interactive(f, sqrLength = widgets.IntSlider(min = 1, max = 100, \\\n",
    "                               description = 'Square length:', style = stl))\n",
    "\n",
    "interactive_plot"
   ]
  },
  {
   "cell_type": "markdown",
   "metadata": {},
   "source": [
    "## Rectangles\n",
    "\n",
    "Now, let's say we have to find the **perimeter of a rectangle**:"
   ]
  },
  {
   "cell_type": "code",
   "execution_count": 5,
   "metadata": {
    "scrolled": true
   },
   "outputs": [
    {
     "data": {
      "text/html": [
       "<svg height=\"400\" width=\"1500\">\n",
       "<rect x=\"300\" y=\"30\" width=\"370\" height=\"170\" stroke=\"black\" fill=\"orange\" stroke-width=\"5\"/>\n",
       "\n",
       "#The following text is for the \"9cm\" at the top of the shape\n",
       "<text x=\"470\" y=\"20\" fill=\"black\">9cm</text>\n",
       "\n",
       "#The following text is for the \"4cm\" at the bottom of the shape\n",
       "<text x=\"290\" y=\"130\" fill=\"black\" transform=\"rotate(-90 290,130)\">4cm</text>\n",
       "</svg>\n"
      ],
      "text/plain": [
       "<IPython.core.display.HTML object>"
      ]
     },
     "metadata": {},
     "output_type": "display_data"
    }
   ],
   "source": [
    "%%html\n",
    "<svg height=\"400\" width=\"1500\">\n",
    "<rect x=\"300\" y=\"30\" width=\"370\" height=\"170\" stroke=\"black\" fill=\"orange\" stroke-width=\"5\"/>\n",
    "\n",
    "#The following text is for the \"9cm\" at the top of the shape\n",
    "<text x=\"470\" y=\"20\" fill=\"black\">9cm</text>\n",
    "\n",
    "#The following text is for the \"4cm\" at the bottom of the shape\n",
    "<text x=\"290\" y=\"130\" fill=\"black\" transform=\"rotate(-90 290,130)\">4cm</text>\n",
    "</svg>"
   ]
  },
  {
   "cell_type": "markdown",
   "metadata": {},
   "source": [
    "To calculate the perimeter of a rectangle, add the length of all the edges together:"
   ]
  },
  {
   "cell_type": "markdown",
   "metadata": {},
   "source": [
    "<h3 align='center'>$\\rm (Length) + (Length) + (Height) + (Height) = Perimeter $</h3>"
   ]
  },
  {
   "cell_type": "markdown",
   "metadata": {},
   "source": [
    "But, we know that a rectangle has 4 edges, and every edge is equal to another. \n",
    "\n",
    "This means that *the length of the edge on the bottom is equal to the length of the edge on the top*. This also means that *the length of the edge on the right side is equal to the length of the edge on the left*. \n",
    "\n",
    "So, we can do:"
   ]
  },
  {
   "cell_type": "markdown",
   "metadata": {},
   "source": [
    "<h3 align='center'>$\\rm 2 \\times (Length) + 2 \\times (Height) = Perimeter $</h3>"
   ]
  },
  {
   "cell_type": "markdown",
   "metadata": {},
   "source": [
    "So, the perimeter of the rectangle above is:"
   ]
  },
  {
   "cell_type": "markdown",
   "metadata": {},
   "source": [
    "### $$\n",
    "\\begin{align*}\n",
    "\\rm 2 \\times (9cm) + 2 \\times (4cm) = 26cm\n",
    "\\end{align*}\n",
    "$$"
   ]
  },
  {
   "cell_type": "markdown",
   "metadata": {},
   "source": [
    "### Calculator for Perimeter of a Rectangle\n",
    "\n",
    "The following is an interactive calculator for getting the perimeter of any rectangle:"
   ]
  },
  {
   "cell_type": "code",
   "execution_count": 6,
   "metadata": {
    "scrolled": false
   },
   "outputs": [
    {
     "data": {
      "application/vnd.jupyter.widget-view+json": {
       "model_id": "bed1235d3f794e809fedc5f16ef51a85",
       "version_major": 2,
       "version_minor": 0
      },
      "text/plain": [
       "interactive(children=(IntSlider(value=1, description='Rectangle Length:', min=1, style=SliderStyle(description…"
      ]
     },
     "metadata": {},
     "output_type": "display_data"
    }
   ],
   "source": [
    "%matplotlib inline\n",
    "from ipywidgets import interactive\n",
    "import matplotlib.pyplot as plt\n",
    "\n",
    "#Used to ensure the description text doesn't get cut off.\n",
    "stl = {'description_width': 'initial'}\n",
    "\n",
    "def f(rectLength, rectHeight):\n",
    "    #Draw a rectangle using the rectLength as the length and the rectHeight as the height\n",
    "    rect = plt.plot([0, rectLength, rectLength, 0, 0], [0, 0, rectHeight, rectHeight, 0])\n",
    "    \n",
    "    #Scale the plot to look like a rectangle at all times\n",
    "    plt.axis('scaled')\n",
    "    plt.show()\n",
    "    \n",
    "    #Calculate the perimeter of the rectangle by adding the product of 2 times the length \n",
    "    # and 2 times the height together\n",
    "    rectPerimeter = (rectLength * 2) + (rectHeight * 2)\n",
    "\n",
    "    display(Latex(\"Given a length of $\" + str(rectLength) + \"$, and a height of $\" + str(rectHeight) + \\\n",
    "          \"$, the perimeter of a rectangle is $\" + str(rectPerimeter) + \"$\"))\n",
    "\n",
    "#Create an interactive plot with the f function and two IntSliders as input. One for the \n",
    "# rectangle's length, (rectLength) and the other for the rectangle's height, (rectHeight)\n",
    "interactive_plot = interactive(f, rectLength = widgets.IntSlider(min = 1, max = 100, \\\n",
    "                               description = 'Rectangle Length:', style = stl), \\\n",
    "                               rectHeight = widgets.IntSlider(min = 1, max = 100, \\\n",
    "                               description = 'Rectangle Height:', style = stl))\n",
    "\n",
    "interactive_plot"
   ]
  },
  {
   "cell_type": "markdown",
   "metadata": {},
   "source": [
    "## Quadrilaterals\n",
    "\n",
    "Now, let's say we have to find the **perimeter of some quadrilateral shape** that isn't a square or rectangle. For example, how do you find the perimeter of the following quadrilateral?"
   ]
  },
  {
   "cell_type": "code",
   "execution_count": 7,
   "metadata": {},
   "outputs": [
    {
     "data": {
      "text/html": [
       "<svg height=\"400\" width=\"1500\">\n",
       "\n",
       "#First point is at x = 300 and y = 80\n",
       "#Second point at x = 500 and y = 40\n",
       "#Third point at x = 650 and y = 200\n",
       "#Fourth point at x = 260 and y = 200\n",
       "<polygon points=\"300 80 500 40 650 200 260 200\" \n",
       " stroke=\"black\" fill=\"midnightblue\" stroke-width=\"5\"/>\n",
       "\n",
       "#The following text is for the \"4cm\" at the left side of the shape\n",
       "<text x=\"265\" y=\"150\" fill=\"black\" transform=\"rotate(-70 265,150)\">4cm</text>\n",
       "\n",
       "#The following text is for the \"6cm\" at the top of the shape\n",
       "<text x=\"380\" y=\"55\" fill=\"black\" transform=\"rotate(-10 380,55)\">6cm</text>\n",
       "\n",
       "#The following text is for the \"7cm\" at the right side of the shape\n",
       "<text x=\"570\" y=\"100\" fill=\"black\" transform=\"rotate(50 570,100)\">7cm</text>\n",
       "\n",
       "#The following text is for the \"9cm\" at the bottom of the shape\n",
       "<text x=\"430\" y=\"220\" fill=\"black\">9cm</text>\n",
       "\n",
       "</svg>\n"
      ],
      "text/plain": [
       "<IPython.core.display.HTML object>"
      ]
     },
     "metadata": {},
     "output_type": "display_data"
    }
   ],
   "source": [
    "%%html\n",
    "<svg height=\"400\" width=\"1500\">\n",
    "\n",
    "#First point is at x = 300 and y = 80\n",
    "#Second point at x = 500 and y = 40\n",
    "#Third point at x = 650 and y = 200\n",
    "#Fourth point at x = 260 and y = 200\n",
    "<polygon points=\"300 80 500 40 650 200 260 200\" \n",
    " stroke=\"black\" fill=\"midnightblue\" stroke-width=\"5\"/>\n",
    "\n",
    "#The following text is for the \"4cm\" at the left side of the shape\n",
    "<text x=\"265\" y=\"150\" fill=\"black\" transform=\"rotate(-70 265,150)\">4cm</text>\n",
    "\n",
    "#The following text is for the \"6cm\" at the top of the shape\n",
    "<text x=\"380\" y=\"55\" fill=\"black\" transform=\"rotate(-10 380,55)\">6cm</text>\n",
    "\n",
    "#The following text is for the \"7cm\" at the right side of the shape\n",
    "<text x=\"570\" y=\"100\" fill=\"black\" transform=\"rotate(50 570,100)\">7cm</text>\n",
    "\n",
    "#The following text is for the \"9cm\" at the bottom of the shape\n",
    "<text x=\"430\" y=\"220\" fill=\"black\">9cm</text>\n",
    "\n",
    "</svg>"
   ]
  },
  {
   "cell_type": "markdown",
   "metadata": {},
   "source": [
    "In this situation, we can't simplify the original formula. This is because the shape is neither a square or rectangle. So, the only way we can find the perimeter is by adding the length of each side together.\n",
    "\n",
    "<h3 align='center'>$\\rm (Length) + (Length) + (Length) + (Length) = (Perimeter) $</h3>\n",
    "\n",
    "So, the perimeter of the quadrilateral above is:\n",
    "\n",
    "### $$\n",
    "\\begin{align*}\n",
    "\\rm (4cm) + (6cm) + (7cm) + (9cm) = 26cm\n",
    "\\end{align*}\n",
    "$$"
   ]
  },
  {
   "cell_type": "markdown",
   "metadata": {},
   "source": [
    "### Practice Problem 1\n",
    "\n",
    "What is the perimeter of the following quadrilateral?"
   ]
  },
  {
   "cell_type": "code",
   "execution_count": 8,
   "metadata": {
    "scrolled": true
   },
   "outputs": [
    {
     "data": {
      "text/html": [
       "<svg height=\"400\" width=\"1500\">\n",
       "\n",
       "#First point at x = 350 and y = 100\n",
       "#Second point at x = 500 and y = 60\n",
       "#Third point at x = 650 and y = 220\n",
       "#Fourth point at x = 350 and y = 150\n",
       "<polygon points=\"350 100 500 60 650 220 350 150\" \n",
       " stroke=\"black\" fill=\"mediumblue\" stroke-width=\"5\"/>\n",
       "\n",
       "#The following text is for the \"7cm\" at the left side of the shape\n",
       "<text x=\"340\" y=\"140\" fill=\"black\" transform=\"rotate(-90 340,140)\">7cm</text>\n",
       "\n",
       "#The following text is for the \"17cm\" at the top of the shape\n",
       "<text x=\"410\" y=\"75\" fill=\"black\" transform=\"rotate(-15 410,75)\">17cm</text>\n",
       "\n",
       "#The following text is for the \"10cm\" at the right side of the shape\n",
       "<text x=\"570\" y=\"120\" fill=\"black\" transform=\"rotate(50 570,120)\">25cm</text>\n",
       "\n",
       "#The following text is for the \"34cm\" at the bottom of the shape\n",
       "<text x=\"460\" y=\"195\" fill=\"black\" transform=\"rotate(12 460,195)\">34cm</text>\n",
       "\n",
       "</svg>\n"
      ],
      "text/plain": [
       "<IPython.core.display.HTML object>"
      ]
     },
     "metadata": {},
     "output_type": "display_data"
    }
   ],
   "source": [
    "%%html\n",
    "<svg height=\"400\" width=\"1500\">\n",
    "\n",
    "#First point at x = 350 and y = 100\n",
    "#Second point at x = 500 and y = 60\n",
    "#Third point at x = 650 and y = 220\n",
    "#Fourth point at x = 350 and y = 150\n",
    "<polygon points=\"350 100 500 60 650 220 350 150\" \n",
    " stroke=\"black\" fill=\"mediumblue\" stroke-width=\"5\"/>\n",
    "\n",
    "#The following text is for the \"7cm\" at the left side of the shape\n",
    "<text x=\"340\" y=\"140\" fill=\"black\" transform=\"rotate(-90 340,140)\">7cm</text>\n",
    "\n",
    "#The following text is for the \"17cm\" at the top of the shape\n",
    "<text x=\"410\" y=\"75\" fill=\"black\" transform=\"rotate(-15 410,75)\">17cm</text>\n",
    "\n",
    "#The following text is for the \"10cm\" at the right side of the shape\n",
    "<text x=\"570\" y=\"120\" fill=\"black\" transform=\"rotate(50 570,120)\">25cm</text>\n",
    "\n",
    "#The following text is for the \"34cm\" at the bottom of the shape\n",
    "<text x=\"460\" y=\"195\" fill=\"black\" transform=\"rotate(12 460,195)\">34cm</text>\n",
    "\n",
    "</svg>"
   ]
  },
  {
   "cell_type": "code",
   "execution_count": 9,
   "metadata": {},
   "outputs": [
    {
     "data": {
      "application/vnd.jupyter.widget-view+json": {
       "model_id": "cd7cc332021044a8b112dac7f8f7e636",
       "version_major": 2,
       "version_minor": 0
      },
      "text/plain": [
       "IntText(value=0, description='Input your perimeter here: ', style=DescriptionStyle(description_width='initial'…"
      ]
     },
     "metadata": {},
     "output_type": "display_data"
    },
    {
     "data": {
      "application/vnd.jupyter.widget-view+json": {
       "model_id": "e581c2ea2dba4f98a7ce9ef538599b99",
       "version_major": 2,
       "version_minor": 0
      },
      "text/plain": [
       "Button(description='Check Answer', style=ButtonStyle())"
      ]
     },
     "metadata": {},
     "output_type": "display_data"
    }
   ],
   "source": [
    "#Used to ensure the description text doesn't get cut off.\n",
    "style = {'description_width': 'initial'}\n",
    "\n",
    "#Create an input integer widget\n",
    "question1 = widgets.IntText(\n",
    "    value=None,\n",
    "    description='Input your perimeter here: ',\n",
    "    disabled=False,\n",
    "    style = style\n",
    "    )\n",
    "\n",
    "#Create a button titled \"Check Answer\"\n",
    "checkButton1 = widgets.Button(description = \"Check Answer\")\n",
    "\n",
    "def checkAnswer(a):\n",
    "    #questionAnswer will be the input given by the user.\n",
    "    questionAnswer = question1.value\n",
    "    \n",
    "    #answers is a list of possible answers that can be inputted. \n",
    "    answers = [83]\n",
    "    \n",
    "    #Check if the input is in the list of answers. If this is the case:\n",
    "    if (questionAnswer in answers):\n",
    "        #Clear the output\n",
    "        clear_output()\n",
    "        \n",
    "        #Let the user know what they inputed.\n",
    "        display(Markdown(\"You answered: $\" + str(questionAnswer) + \"$\"))\n",
    "        \n",
    "        #Give an explenation for the answer.\n",
    "        display(Markdown(\"Well done! <br> \\\n",
    "                         We get this answer by doing: <br> \\\n",
    "                         <h3 align='center'>$\\ ($Length$) + ($Length$) + ($Length$) + ($Length$) \\\n",
    "                         = ($Perimeter$) $</h3> <br> \\\n",
    "                         So: <br> \\\n",
    "                         <h3 align='center'>$\\ (7$cm$) + (17$cm$) + (25$cm$) + (34$cm$) = 83$cm </h3>\"))\n",
    "        \n",
    "    #Otherwise, if no answer has been given, do nothing.\n",
    "    elif (questionAnswer == 0):\n",
    "        None\n",
    "    \n",
    "    #Lastly, if the answer is wrong, give the user a hint.\n",
    "    else:\n",
    "        #Clear the output\n",
    "        clear_output()\n",
    "        \n",
    "        #Display the input integer and check button widgets\n",
    "        display(question1)\n",
    "        display(checkButton1)\n",
    "        \n",
    "        #Let the user know what they inputed.\n",
    "        display(Markdown(\"You answered: $\" + str(questionAnswer) + \"$\"))\n",
    "        \n",
    "        #Give a hint for the question\n",
    "        display(Markdown(\"Not quite. <br> \\\n",
    "                      Remember, to find the perimeter of a quadrilateral you must add all the \\\n",
    "                      lengths together: <br> \\\n",
    "                      <h3 align='center'>$\\ ($Length$) + ($Length$) + ($Length$) + ($Length$) \\\n",
    "                      = ($Perimeter$) $</h3>\"))\n",
    "\n",
    "display(question1)\n",
    "display(checkButton1)\n",
    "\n",
    "checkButton1.on_click(checkAnswer)"
   ]
  },
  {
   "cell_type": "markdown",
   "metadata": {},
   "source": [
    "### Practice Problem 2\n",
    "\n",
    "If the perimeter is $34$cm for the following quadrilateral, then what is the length of side **A**?"
   ]
  },
  {
   "cell_type": "code",
   "execution_count": 10,
   "metadata": {
    "scrolled": false
   },
   "outputs": [
    {
     "data": {
      "text/html": [
       "<svg height=\"400\" width=\"1500\">\n",
       "\n",
       "#First point at x = 340 and y = 30\n",
       "#Second point at x = 600 and y = 60\n",
       "#Third point at x = 450 and y = 220\n",
       "#Fourth point at x = 360 and y = 150\n",
       "<polygon points=\"340 30 600 60 450 220 360 150\" \n",
       " stroke=\"black\" fill=\"cornflowerblue\" stroke-width=\"5\"/>\n",
       "\n",
       "#The following text is for the \"A\" at the left side of the shape\n",
       "<text x=\"332\" y=\"95\" fill=\"black\">A</text>\n",
       "\n",
       "#The following text is for the \"9cm\" at the top of the shape\n",
       "<text x=\"440\" y=\"35\" fill=\"black\" transform=\"rotate(5 440,35)\">14cm</text>\n",
       "\n",
       "#The following text is for the \"10cm\" at the right side of the shape\n",
       "<text x=\"525\" y=\"170\" fill=\"black\" transform=\"rotate(-50 525,170)\">10cm</text>\n",
       "\n",
       "#The following text is for the \"5cm\" at the bottom left side of the shape\n",
       "<text x=\"380\" y=\"190\" fill=\"black\" transform=\"rotate(38 380,190)\">5cm</text>\n",
       "\n",
       "</svg>\n"
      ],
      "text/plain": [
       "<IPython.core.display.HTML object>"
      ]
     },
     "metadata": {},
     "output_type": "display_data"
    }
   ],
   "source": [
    "%%html\n",
    "<svg height=\"400\" width=\"1500\">\n",
    "\n",
    "#First point at x = 340 and y = 30\n",
    "#Second point at x = 600 and y = 60\n",
    "#Third point at x = 450 and y = 220\n",
    "#Fourth point at x = 360 and y = 150\n",
    "<polygon points=\"340 30 600 60 450 220 360 150\" \n",
    " stroke=\"black\" fill=\"cornflowerblue\" stroke-width=\"5\"/>\n",
    "\n",
    "#The following text is for the \"A\" at the left side of the shape\n",
    "<text x=\"332\" y=\"95\" fill=\"black\">A</text>\n",
    "\n",
    "#The following text is for the \"9cm\" at the top of the shape\n",
    "<text x=\"440\" y=\"35\" fill=\"black\" transform=\"rotate(5 440,35)\">14cm</text>\n",
    "\n",
    "#The following text is for the \"10cm\" at the right side of the shape\n",
    "<text x=\"525\" y=\"170\" fill=\"black\" transform=\"rotate(-50 525,170)\">10cm</text>\n",
    "\n",
    "#The following text is for the \"5cm\" at the bottom left side of the shape\n",
    "<text x=\"380\" y=\"190\" fill=\"black\" transform=\"rotate(38 380,190)\">5cm</text>\n",
    "\n",
    "</svg>"
   ]
  },
  {
   "cell_type": "code",
   "execution_count": 11,
   "metadata": {},
   "outputs": [
    {
     "data": {
      "application/vnd.jupyter.widget-view+json": {
       "model_id": "d32f27b23c194705b8c08cfc85eb0677",
       "version_major": 2,
       "version_minor": 0
      },
      "text/plain": [
       "IntText(value=0, description='Input your length here: ', style=DescriptionStyle(description_width='initial'))"
      ]
     },
     "metadata": {},
     "output_type": "display_data"
    },
    {
     "data": {
      "application/vnd.jupyter.widget-view+json": {
       "model_id": "7b7b85f5b2bf4e95b5e5125760491ab0",
       "version_major": 2,
       "version_minor": 0
      },
      "text/plain": [
       "Button(description='Check Answer', style=ButtonStyle())"
      ]
     },
     "metadata": {},
     "output_type": "display_data"
    }
   ],
   "source": [
    "#Used to ensure the description text doesn't get cut off.\n",
    "style = {'description_width': 'initial'}\n",
    "\n",
    "#Create an input integer widget\n",
    "question2 = widgets.IntText(\n",
    "    value=None,\n",
    "    description='Input your length here: ',\n",
    "    disabled=False,\n",
    "    style = style\n",
    "    )\n",
    "\n",
    "#Create a button titled \"Check Answer\"\n",
    "checkButton2 = widgets.Button(description = \"Check Answer\")\n",
    "\n",
    "def checkAnswer(a):\n",
    "    #questionAnswer will be the input given by the user.\n",
    "    questionAnswer = question2.value\n",
    "    \n",
    "    #answers is a list of possible answers that can be inputted. \n",
    "    answers = [5]\n",
    "    \n",
    "    #Check if the input is in the list of answers. If this is the case:\n",
    "    if (questionAnswer in answers):\n",
    "        #Clear the output\n",
    "        clear_output()\n",
    "        \n",
    "        #Let the user know what they inputed.\n",
    "        display(Markdown(\"You answered: $\" + str(questionAnswer) + \"$\"))\n",
    "        \n",
    "        #Give an explenation for the answer.\n",
    "        display(Markdown(\"Well done! <br> \\\n",
    "                         We get this answer by doing: <br> \\\n",
    "                         <h3 align='center'>$\\ ($Perimeter$) - ($Length$) - ($Length$) - ($Length$) \\\n",
    "                         = A $</h3> <br> \\\n",
    "                         So: <br> \\\n",
    "                         <h3 align='center'>$\\ (34$cm$) - (14$cm$) - (10$cm$) - (5$cm$) = 5$cm$ $</h3>\"))\n",
    "        \n",
    "    #Otherwise, if no answer has been given, do nothing.\n",
    "    elif (questionAnswer == 0):\n",
    "        None\n",
    "    \n",
    "    #Lastly, if the answer is wrong, give the user a hint.\n",
    "    else:\n",
    "        #Clear the output\n",
    "        clear_output()\n",
    "        \n",
    "        #Display the input integer and check button widgets\n",
    "        display(question2)\n",
    "        display(checkButton2)\n",
    "        \n",
    "        #Let the user know what they inputed.\n",
    "        display(Markdown(\"You answered: $\" + str(questionAnswer) + \"$\"))\n",
    "        \n",
    "        #Give a hint for the question\n",
    "        display(Markdown(\"Not quite. <br> \\\n",
    "                      Remember, the formula for finding the perimeter of a quadrilateral is: <br> \\\n",
    "                      <h3 align='center'>$\\ ($Length$) + ($Length$) + ($Length$) + ($Length$) = \\\n",
    "                      ($Perimeter$) $</h3> <br> \\\n",
    "                      We can rearrange this formula to find length $A$ by doing: <br> \\\n",
    "                      <h3 align='center'>$\\ A = ($Perimeter$) - ($Length$) - ($Length$) - ($Length$) $</h3>\"))\n",
    "\n",
    "display(question2)\n",
    "display(checkButton2)\n",
    "\n",
    "checkButton2.on_click(checkAnswer)"
   ]
  },
  {
   "cell_type": "markdown",
   "metadata": {},
   "source": [
    "### Practice Problem 3\n",
    "\n",
    "What is the perimeter of the following quadrilateral?"
   ]
  },
  {
   "cell_type": "code",
   "execution_count": 12,
   "metadata": {},
   "outputs": [
    {
     "data": {
      "text/html": [
       "<svg height=\"400\" width=\"1500\">\n",
       "\n",
       "#First point at x = 230 and y = 30\n",
       "#Second point at x = 580 and y = 30\n",
       "#Third point at x = 730 and y = 200\n",
       "#Fourth point at x = 380 and y = 200\n",
       "<polygon points=\"230 30 580 30 730 200 380 200\" \n",
       " stroke=\"black\" fill=\"deepskyblue\" stroke-width=\"5\"/>\n",
       "\n",
       "#The following text is for the \"9cm\" at the top of the shape\n",
       "<text x=\"400\" y=\"20\" fill=\"black\">9cm</text>\n",
       "\n",
       "#The following text is for the \"7cm\" at the right side of the shape\n",
       "<text x=\"655\" y=\"100\" fill=\"black\" transform=\"rotate(50 655,100)\">7cm</text>\n",
       "\n",
       "</svg>\n"
      ],
      "text/plain": [
       "<IPython.core.display.HTML object>"
      ]
     },
     "metadata": {},
     "output_type": "display_data"
    }
   ],
   "source": [
    "%%html\n",
    "<svg height=\"400\" width=\"1500\">\n",
    "\n",
    "#First point at x = 230 and y = 30\n",
    "#Second point at x = 580 and y = 30\n",
    "#Third point at x = 730 and y = 200\n",
    "#Fourth point at x = 380 and y = 200\n",
    "<polygon points=\"230 30 580 30 730 200 380 200\" \n",
    " stroke=\"black\" fill=\"deepskyblue\" stroke-width=\"5\"/>\n",
    "    \n",
    "#The following text is for the \"9cm\" at the top of the shape\n",
    "<text x=\"400\" y=\"20\" fill=\"black\">9cm</text>\n",
    "\n",
    "#The following text is for the \"7cm\" at the right side of the shape\n",
    "<text x=\"655\" y=\"100\" fill=\"black\" transform=\"rotate(50 655,100)\">7cm</text>\n",
    "\n",
    "</svg>"
   ]
  },
  {
   "cell_type": "code",
   "execution_count": 13,
   "metadata": {
    "scrolled": true
   },
   "outputs": [
    {
     "data": {
      "application/vnd.jupyter.widget-view+json": {
       "model_id": "57f01d36692040989d34923899d56ef1",
       "version_major": 2,
       "version_minor": 0
      },
      "text/plain": [
       "IntText(value=0, description='Input your perimeter here: ', style=DescriptionStyle(description_width='initial'…"
      ]
     },
     "metadata": {},
     "output_type": "display_data"
    },
    {
     "data": {
      "application/vnd.jupyter.widget-view+json": {
       "model_id": "a8a30deace684d6891675fcc9a89a497",
       "version_major": 2,
       "version_minor": 0
      },
      "text/plain": [
       "Button(description='Check Answer', style=ButtonStyle())"
      ]
     },
     "metadata": {},
     "output_type": "display_data"
    }
   ],
   "source": [
    "#Used to ensure the description text doesn't get cut off.\n",
    "style = {'description_width': 'initial'}\n",
    "\n",
    "#Create an input integer widget\n",
    "question3 = widgets.IntText(\n",
    "    value=None,\n",
    "    description='Input your perimeter here: ',\n",
    "    disabled=False,\n",
    "    style = style\n",
    "    )\n",
    "\n",
    "#Create a button titled \"Check Answer\"\n",
    "checkButton3 = widgets.Button(description = \"Check Answer\")\n",
    "\n",
    "def checkAnswer(a):\n",
    "    #questionAnswer will be the input given by the user.\n",
    "    questionAnswer = question3.value\n",
    "    \n",
    "    #answers is a list of possible answers that can be inputted. \n",
    "    answers = [32]\n",
    "    \n",
    "    #Check if the input is in the list of answers. If this is the case:\n",
    "    if (questionAnswer in answers):\n",
    "        #Clear the output\n",
    "        clear_output()\n",
    "        \n",
    "        #Let the user know what they inputed.\n",
    "        display(Markdown(\"You answered: $\" + str(questionAnswer) + \"$\"))\n",
    "        \n",
    "        #Give an explenation for the answer.\n",
    "        display(Markdown(\"Well done! <br> \\\n",
    "                         We get this answer by doing: <br> \\\n",
    "                         <h3 align='center'>$\\ 2 × ($Length$) + 2 × ($Length$) = ($Perimeter$) $</h3> <br> \\\n",
    "                         So: <br> \\\n",
    "                         <h3 align='center'>$\\ 2 × (9$cm$) + 2 × (7$cm$) = 32$cm</h3>\"))\n",
    "        \n",
    "    #Otherwise, if no answer has been given, do nothing.\n",
    "    elif (questionAnswer == 0):\n",
    "        None\n",
    "    \n",
    "    #Lastly, if the answer is wrong, give the user a hint.\n",
    "    else:\n",
    "        #Clear the output\n",
    "        clear_output()\n",
    "        \n",
    "        #Display the input integer and check button widgets\n",
    "        display(question3)\n",
    "        display(checkButton3)\n",
    "        \n",
    "        #Let the user know what they inputed.\n",
    "        display(Markdown(\"You answered: $\" + str(questionAnswer) + \"$\"))\n",
    "        \n",
    "        #Give a hint for the question\n",
    "        display(Markdown(\"Not quite. <br> \\\n",
    "                      Remember, the formula for finding the perimeter of a quadrilateral is: <br> \\\n",
    "                      <h3 align='center'>$\\ ($Length$) + ($Length$) + ($Length$) + ($Length$) = \\\n",
    "                      ($Perimeter$) $</h3> <br> \\\n",
    "                      But, the shape we were given *has two sides that are equal*. This means that the top edge \\\n",
    "                      of the shape is the same length as the bottom edge. This also means that the left side \\\n",
    "                      of the shape is the same length as the right side. So, we can use the formula: <br> \\\n",
    "                      <h3 align='center'>$\\  2 × ($Length$) + 2 × ($Length$) = ($Perimeter$) $</h3>\"))\n",
    "\n",
    "display(question3)\n",
    "display(checkButton3)\n",
    "\n",
    "checkButton3.on_click(checkAnswer)"
   ]
  },
  {
   "cell_type": "markdown",
   "metadata": {},
   "source": [
    "## Triangles\n",
    "\n",
    "For our next topic, we will cover how to find the **perimeter of a triangle**. If we are given the length of every edge on a triangle:"
   ]
  },
  {
   "cell_type": "code",
   "execution_count": 14,
   "metadata": {},
   "outputs": [
    {
     "data": {
      "text/html": [
       "<svg height=\"400\" width=\"1500\">\n",
       "\n",
       "#First point at x = 480 and y = 30\n",
       "#Second point at x = 630 and y = 200\n",
       "#Third point at x = 280 and y = 200\n",
       "<polygon points=\"480 30 630 200 280 200\" \n",
       " stroke=\"black\" fill=\"darkmagenta\" stroke-width=\"5\"/>\n",
       "\n",
       "#The following text is for the \"15cm\" at the top of the shape\n",
       "<text x=\"365\" y=\"120\" fill=\"black\" transform=\"rotate(-45 365,120)\">15cm</text>\n",
       "\n",
       "#The following text is for the \"12cm\" at the right side of the shape\n",
       "<text x=\"555\" y=\"100\" fill=\"black\" transform=\"rotate(50 555,100)\">12cm</text>\n",
       "\n",
       "#The following text is for the \"17cm\" at the bottom of the shape\n",
       "<text x=\"440\" y=\"218\" fill=\"black\">17cm</text>\n",
       "\n",
       "</svg>\n"
      ],
      "text/plain": [
       "<IPython.core.display.HTML object>"
      ]
     },
     "metadata": {},
     "output_type": "display_data"
    }
   ],
   "source": [
    "%%html\n",
    "<svg height=\"400\" width=\"1500\">\n",
    "\n",
    "#First point at x = 480 and y = 30\n",
    "#Second point at x = 630 and y = 200\n",
    "#Third point at x = 280 and y = 200\n",
    "<polygon points=\"480 30 630 200 280 200\" \n",
    " stroke=\"black\" fill=\"darkmagenta\" stroke-width=\"5\"/>\n",
    "    \n",
    "#The following text is for the \"15cm\" at the top of the shape\n",
    "<text x=\"365\" y=\"120\" fill=\"black\" transform=\"rotate(-45 365,120)\">15cm</text>\n",
    "\n",
    "#The following text is for the \"12cm\" at the right side of the shape\n",
    "<text x=\"555\" y=\"100\" fill=\"black\" transform=\"rotate(50 555,100)\">12cm</text>\n",
    "\n",
    "#The following text is for the \"17cm\" at the bottom of the shape\n",
    "<text x=\"440\" y=\"218\" fill=\"black\">17cm</text>\n",
    "\n",
    "</svg>"
   ]
  },
  {
   "cell_type": "markdown",
   "metadata": {},
   "source": [
    "Then the process for finding the perimeter is simple. We must add the length of all the edges together:\n",
    "\n",
    "<h3 align='center'>$\\rm (Length) + (Length) + (Length) = (Perimeter) $</h3>\n",
    "\n",
    "So, the perimeter of the above triangle is:\n",
    "\n",
    "### $$\n",
    "\\begin{align*}\n",
    "\\rm (15cm) + (12cm) + (17cm) = 44cm\n",
    "\\end{align*}\n",
    "$$\n",
    "\n",
    "But, if we are not given the length of all the edges, we must add another step. If we are missing the edge of a right angle triangle, we can use the **Pythagorean theorem** to help us."
   ]
  },
  {
   "cell_type": "markdown",
   "metadata": {},
   "source": [
    "## Pythagorean Theorem\n",
    "\n",
    "The Pythagorean theorem is one of the most important theorems you will learn. [This notebook](pythagorean-theorem.ipynb) provides an in-depth lesson on the Pythagorean theorem. The following will be a review of this material.\n",
    "\n",
    "The theorem begins with a *right angle triangle*:"
   ]
  },
  {
   "cell_type": "code",
   "execution_count": 15,
   "metadata": {},
   "outputs": [
    {
     "data": {
      "text/html": [
       "<svg height=\"400\" width=\"1500\">\n",
       "\n",
       "### The following code is for the triangle gray triangle\n",
       "#First point at x = 400 and y = 50\n",
       "#Second point at x = 570 and y = 200\n",
       "#Third point at x = 400 and y = 200\n",
       "<polygon points=\"400 50 570 200 400 200\" \n",
       " stroke=\"black\" fill=\"Gray\" stroke-width=\"5\"/>\n",
       "\n",
       "#The following text is for the \"A\" at the top of the shape\n",
       "<text x=\"390\" y=\"130\" fill=\"black\" transform=\"rotate(-90 390,130)\">A</text>\n",
       "\n",
       "#The following text is for the \"C\" at the right side of the shape\n",
       "<text x=\"490\" y=\"120\" fill=\"black\" transform=\"rotate(40 490,120)\">C</text>\n",
       "\n",
       "#The following text is for the \"B\" at the bottom of the shape\n",
       "<text x=\"475\" y=\"218\" fill=\"black\">B</text>\n",
       "\n",
       "###The following code is for the right angle mark inside the gray triangle.\n",
       "<rect x=\"400\" y=\"180\" width=\"20\" height=\"20\"\n",
       " stroke=\"black\" fill=None stroke-width=\"2\"/>\n",
       "\n",
       "\n",
       "</svg>\n"
      ],
      "text/plain": [
       "<IPython.core.display.HTML object>"
      ]
     },
     "metadata": {},
     "output_type": "display_data"
    }
   ],
   "source": [
    "%%html\n",
    "<svg height=\"400\" width=\"1500\">\n",
    "\n",
    "### The following code is for the triangle gray triangle\n",
    "#First point at x = 400 and y = 50\n",
    "#Second point at x = 570 and y = 200\n",
    "#Third point at x = 400 and y = 200\n",
    "<polygon points=\"400 50 570 200 400 200\" \n",
    " stroke=\"black\" fill=\"Gray\" stroke-width=\"5\"/>\n",
    "    \n",
    "#The following text is for the \"A\" at the top of the shape\n",
    "<text x=\"390\" y=\"130\" fill=\"black\" transform=\"rotate(-90 390,130)\">A</text>\n",
    "\n",
    "#The following text is for the \"C\" at the right side of the shape\n",
    "<text x=\"490\" y=\"120\" fill=\"black\" transform=\"rotate(40 490,120)\">C</text>\n",
    "\n",
    "#The following text is for the \"B\" at the bottom of the shape\n",
    "<text x=\"475\" y=\"218\" fill=\"black\">B</text>\n",
    "\n",
    "###The following code is for the right angle mark inside the gray triangle.\n",
    "<rect x=\"400\" y=\"180\" width=\"20\" height=\"20\"\n",
    " stroke=\"black\" fill=None stroke-width=\"2\"/>\n",
    "\n",
    "\n",
    "</svg>"
   ]
  },
  {
   "cell_type": "markdown",
   "metadata": {},
   "source": [
    "This is a crucial step when using the Pythagorean theorem. *If the triangle you are using does not have a right angle, then the theorem will not work*. \n",
    "\n",
    "Next, we will create squares using the $A$ and $B$ sides of the triangle:"
   ]
  },
  {
   "cell_type": "code",
   "execution_count": 16,
   "metadata": {
    "scrolled": false
   },
   "outputs": [
    {
     "data": {
      "text/html": [
       "<svg height=\"700\" width=\"1500\">\n",
       "\n",
       "### The following code is for the triangle gray triangle\n",
       "#First point at x = 400 and y = 50\n",
       "#Second point at x = 570 and y = 200\n",
       "#Third point at x = 400 and y = 200\n",
       "<polygon points=\"400 50 570 200 400 200\" \n",
       " stroke=\"black\" fill=\"Gray\" stroke-width=\"5\"/>\n",
       "\n",
       "#The following text is for the \"A\" at the left side of the shape\n",
       "<text x=\"390\" y=\"155\" fill=\"black\" transform=\"rotate(-90 390,130)\">A</text>\n",
       "\n",
       "#The following text is for the \"C\" at the right side of the shape\n",
       "<text x=\"490\" y=\"120\" fill=\"black\" transform=\"rotate(40 490,120)\">C</text>\n",
       "\n",
       "#The following text is for the \"B\" at the bottom of the shape\n",
       "<text x=\"475\" y=\"195\" fill=\"black\">B</text>\n",
       "\n",
       "###The following code is for the right angle mark inside the gray triangle.\n",
       "<rect x=\"400\" y=\"180\" width=\"20\" height=\"20\"\n",
       " stroke=\"black\" fill=None stroke-width=\"2\"/>\n",
       "\n",
       "###The following code is for the square created by the A edge.\n",
       "<rect x=\"243\" y=\"47\" width=\"153\" height=\"153\"\n",
       " stroke=\"black\" fill=\"deeppink\" stroke-width=\"5\"/>\n",
       "\n",
       "###The following code is for the square created by the B edge.\n",
       "<rect x=\"400\" y=\"205\" width=\"173\" height=\"173\"\n",
       " stroke=\"black\" fill=\"hotpink\" stroke-width=\"5\"/>\n",
       "\n",
       "</svg>\n"
      ],
      "text/plain": [
       "<IPython.core.display.HTML object>"
      ]
     },
     "metadata": {},
     "output_type": "display_data"
    }
   ],
   "source": [
    "%%html\n",
    "<svg height=\"700\" width=\"1500\">\n",
    "\n",
    "### The following code is for the triangle gray triangle\n",
    "#First point at x = 400 and y = 50\n",
    "#Second point at x = 570 and y = 200\n",
    "#Third point at x = 400 and y = 200\n",
    "<polygon points=\"400 50 570 200 400 200\" \n",
    " stroke=\"black\" fill=\"Gray\" stroke-width=\"5\"/>\n",
    "\n",
    "#The following text is for the \"A\" at the left side of the shape\n",
    "<text x=\"390\" y=\"155\" fill=\"black\" transform=\"rotate(-90 390,130)\">A</text>\n",
    "\n",
    "#The following text is for the \"C\" at the right side of the shape\n",
    "<text x=\"490\" y=\"120\" fill=\"black\" transform=\"rotate(40 490,120)\">C</text>\n",
    "\n",
    "#The following text is for the \"B\" at the bottom of the shape\n",
    "<text x=\"475\" y=\"195\" fill=\"black\">B</text>\n",
    "\n",
    "###The following code is for the right angle mark inside the gray triangle.\n",
    "<rect x=\"400\" y=\"180\" width=\"20\" height=\"20\"\n",
    " stroke=\"black\" fill=None stroke-width=\"2\"/>\n",
    "\n",
    "###The following code is for the square created by the A edge.\n",
    "<rect x=\"243\" y=\"47\" width=\"153\" height=\"153\"\n",
    " stroke=\"black\" fill=\"deeppink\" stroke-width=\"5\"/>\n",
    "\n",
    "###The following code is for the square created by the B edge.\n",
    "<rect x=\"400\" y=\"205\" width=\"173\" height=\"173\"\n",
    " stroke=\"black\" fill=\"hotpink\" stroke-width=\"5\"/>\n",
    "\n",
    "</svg>"
   ]
  },
  {
   "cell_type": "markdown",
   "metadata": {},
   "source": [
    "Finally, we will create a square using the $C$ side of the triangle:"
   ]
  },
  {
   "cell_type": "code",
   "execution_count": 17,
   "metadata": {
    "scrolled": false
   },
   "outputs": [
    {
     "data": {
      "text/html": [
       "<svg height=\"850\" width=\"1500\">\n",
       "\n",
       "### The following code is for the triangle gray triangle\n",
       "#First point at x = 400 and y = 50\n",
       "#Second point at x = 570 and y = 200\n",
       "#Third point at x = 400 and y = 200\n",
       "<polygon points=\"400 190 570 340 400 340\" \n",
       " stroke=\"black\" fill=\"Gray\" stroke-width=\"5\"/>\n",
       "\n",
       "###The following code is for the square created by the A edge.\n",
       "<rect x=\"243\" y=\"187\" width=\"153\" height=\"153\"\n",
       " stroke=\"black\" fill=\"deeppink\" stroke-width=\"5\"/>\n",
       "\n",
       "###The following code is for the square created by the B edge.\n",
       "<rect x=\"400\" y=\"344\" width=\"173\" height=\"173\"\n",
       " stroke=\"black\" fill=\"hotpink\" stroke-width=\"5\"/>\n",
       "\n",
       "###The following code is for the square created by the C edge.\n",
       "<rect x=\"552\" y=\"10\" width=\"234\" height=\"234\"\n",
       " stroke=\"black\" fill=\"lightpink\" stroke-width=\"5\" transform=\"rotate(41.5 555,10)\"/>    \n",
       "\n",
       "#The following text is for the \"A\" at the left side of the shape\n",
       "<text x=\"385\" y=\"295\" fill=\"black\" transform=\"rotate(-90 390,270)\">A</text>\n",
       "\n",
       "#The following text is for the \"B\" at the bottom of the shape\n",
       "<text x=\"475\" y=\"335\" fill=\"black\">B</text>\n",
       "\n",
       "#The following text is for the \"C\" at the right side of the shape\n",
       "<text x=\"470\" y=\"275\" fill=\"black\" transform=\"rotate(40 470,275)\">C</text>\n",
       "\n",
       "###The following code is for the right angle mark inside the gray triangle.\n",
       "<rect x=\"400\" y=\"320\" width=\"20\" height=\"20\"\n",
       " stroke=\"black\" fill=None stroke-width=\"2\"/>\n",
       "\n",
       "</svg>\n"
      ],
      "text/plain": [
       "<IPython.core.display.HTML object>"
      ]
     },
     "metadata": {},
     "output_type": "display_data"
    }
   ],
   "source": [
    "%%html\n",
    "<svg height=\"850\" width=\"1500\">\n",
    "\n",
    "### The following code is for the triangle gray triangle\n",
    "#First point at x = 400 and y = 50\n",
    "#Second point at x = 570 and y = 200\n",
    "#Third point at x = 400 and y = 200\n",
    "<polygon points=\"400 190 570 340 400 340\" \n",
    " stroke=\"black\" fill=\"Gray\" stroke-width=\"5\"/>\n",
    "\n",
    "###The following code is for the square created by the A edge.\n",
    "<rect x=\"243\" y=\"187\" width=\"153\" height=\"153\"\n",
    " stroke=\"black\" fill=\"deeppink\" stroke-width=\"5\"/>\n",
    "\n",
    "###The following code is for the square created by the B edge.\n",
    "<rect x=\"400\" y=\"344\" width=\"173\" height=\"173\"\n",
    " stroke=\"black\" fill=\"hotpink\" stroke-width=\"5\"/>\n",
    "    \n",
    "###The following code is for the square created by the C edge.\n",
    "<rect x=\"552\" y=\"10\" width=\"234\" height=\"234\"\n",
    " stroke=\"black\" fill=\"lightpink\" stroke-width=\"5\" transform=\"rotate(41.5 555,10)\"/>    \n",
    "\n",
    "#The following text is for the \"A\" at the left side of the shape\n",
    "<text x=\"385\" y=\"295\" fill=\"black\" transform=\"rotate(-90 390,270)\">A</text>\n",
    "\n",
    "#The following text is for the \"B\" at the bottom of the shape\n",
    "<text x=\"475\" y=\"335\" fill=\"black\">B</text>\n",
    "\n",
    "#The following text is for the \"C\" at the right side of the shape\n",
    "<text x=\"470\" y=\"275\" fill=\"black\" transform=\"rotate(40 470,275)\">C</text>\n",
    "\n",
    "###The following code is for the right angle mark inside the gray triangle.\n",
    "<rect x=\"400\" y=\"320\" width=\"20\" height=\"20\"\n",
    " stroke=\"black\" fill=None stroke-width=\"2\"/>\n",
    "    \n",
    "</svg>"
   ]
  },
  {
   "cell_type": "markdown",
   "metadata": {},
   "source": [
    "The Pythagorean theorem states that the area of the square made by $C$ is equal to the areas of the squares $A$ and $B$:\n",
    "\n",
    "<h3 align='center'>$\\ C^2 = A^2 + B^2 $</h3>\n",
    "\n",
    "So, we can get the length of $C$ by doing:\n",
    "\n",
    "<h3 align='center'>$ C = \\sqrt {A^2 + B^2} $</h3>\n",
    "\n",
    "Let's give the triangle above numbers so we can try our formula on it:"
   ]
  },
  {
   "cell_type": "code",
   "execution_count": 18,
   "metadata": {},
   "outputs": [
    {
     "data": {
      "text/html": [
       "<svg height=\"400\" width=\"1500\">\n",
       "\n",
       "### The following code is for the triangle gray triangle\n",
       "#First point at x = 400 and y = 50\n",
       "#Second point at x = 570 and y = 200\n",
       "#Third point at x = 400 and y = 200\n",
       "<polygon points=\"400 50 570 200 400 200\" \n",
       " stroke=\"black\" fill=\"Gray\" stroke-width=\"5\"/>\n",
       "\n",
       "#The following text is for the \"10cm\" at the left side of the shape\n",
       "<text x=\"390\" y=\"140\" fill=\"black\" transform=\"rotate(-90 390,140)\">10cm</text>\n",
       "\n",
       "#The following text is for the \"C\" at the right side of the shape\n",
       "<text x=\"490\" y=\"120\" fill=\"black\" transform=\"rotate(40 490,120)\">C</text>\n",
       "\n",
       "#The following text is for the \"10cm\" at the bottom of the shape\n",
       "<text x=\"465\" y=\"218\" fill=\"black\">10cm</text>\n",
       "\n",
       "###The following code is for the right angle mark inside the gray triangle.\n",
       "<rect x=\"400\" y=\"180\" width=\"20\" height=\"20\"\n",
       " stroke=\"black\" fill=None stroke-width=\"2\"/>\n",
       "\n",
       "\n",
       "</svg>\n"
      ],
      "text/plain": [
       "<IPython.core.display.HTML object>"
      ]
     },
     "metadata": {},
     "output_type": "display_data"
    }
   ],
   "source": [
    "%%html\n",
    "<svg height=\"400\" width=\"1500\">\n",
    "\n",
    "### The following code is for the triangle gray triangle\n",
    "#First point at x = 400 and y = 50\n",
    "#Second point at x = 570 and y = 200\n",
    "#Third point at x = 400 and y = 200\n",
    "<polygon points=\"400 50 570 200 400 200\" \n",
    " stroke=\"black\" fill=\"Gray\" stroke-width=\"5\"/>\n",
    "    \n",
    "#The following text is for the \"10cm\" at the left side of the shape\n",
    "<text x=\"390\" y=\"140\" fill=\"black\" transform=\"rotate(-90 390,140)\">10cm</text>\n",
    "\n",
    "#The following text is for the \"C\" at the right side of the shape\n",
    "<text x=\"490\" y=\"120\" fill=\"black\" transform=\"rotate(40 490,120)\">C</text>\n",
    "\n",
    "#The following text is for the \"10cm\" at the bottom of the shape\n",
    "<text x=\"465\" y=\"218\" fill=\"black\">10cm</text>\n",
    "\n",
    "###The following code is for the right angle mark inside the gray triangle.\n",
    "<rect x=\"400\" y=\"180\" width=\"20\" height=\"20\"\n",
    " stroke=\"black\" fill=None stroke-width=\"2\"/>\n",
    "\n",
    "\n",
    "</svg>"
   ]
  },
  {
   "cell_type": "markdown",
   "metadata": {},
   "source": [
    "Now, we can calculate the length of $C$ by doing:\n",
    "\n",
    "### $$\n",
    "\\begin{align*}\n",
    "C &= \\sqrt {(10\\textrm{cm})^2 + (10\\textrm{cm})^2} \\\\\n",
    "&= \\sqrt {100\\textrm{cm}^2 + 100\\textrm{cm}^2}\\\\\n",
    "&= \\sqrt {200\\textrm{cm}^2}\n",
    "\\end{align*}\n",
    "$$\n",
    "\n",
    "Finally, we know that the length of $C \\approx 14\\textrm{cm}$\n",
    "\n",
    "But, let's say you didn't have the length of side $A$ instead:"
   ]
  },
  {
   "cell_type": "code",
   "execution_count": 19,
   "metadata": {},
   "outputs": [
    {
     "data": {
      "text/html": [
       "<svg height=\"400\" width=\"1500\">\n",
       "\n",
       "### The following code is for the triangle gray triangle\n",
       "#First point at x = 400 and y = 50\n",
       "#Second point at x = 570 and y = 200\n",
       "#Third point at x = 400 and y = 200\n",
       "<polygon points=\"400 50 570 200 400 200\" \n",
       " stroke=\"black\" fill=\"Gray\" stroke-width=\"5\"/>\n",
       "\n",
       "#The following text is for the \"A\" at the top of the shape\n",
       "<text x=\"390\" y=\"130\" fill=\"black\" transform=\"rotate(-90 390,130)\">A</text>\n",
       "\n",
       "#The following text is for the \"14cm\" at the right side of the shape\n",
       "<text x=\"470\" y=\"120\" fill=\"black\" transform=\"rotate(40 490,120)\"> 14cm</text>\n",
       "\n",
       "#The following text is for the \"10cm\" at the bottom of the shape\n",
       "<text x=\"465\" y=\"218\" fill=\"black\">10cm</text>\n",
       "\n",
       "###The following code is for the right angle mark inside the gray triangle.\n",
       "<rect x=\"400\" y=\"180\" width=\"20\" height=\"20\"\n",
       " stroke=\"black\" fill=None stroke-width=\"2\"/>\n",
       "\n",
       "\n",
       "</svg>\n"
      ],
      "text/plain": [
       "<IPython.core.display.HTML object>"
      ]
     },
     "metadata": {},
     "output_type": "display_data"
    }
   ],
   "source": [
    "%%html\n",
    "<svg height=\"400\" width=\"1500\">\n",
    "\n",
    "### The following code is for the triangle gray triangle\n",
    "#First point at x = 400 and y = 50\n",
    "#Second point at x = 570 and y = 200\n",
    "#Third point at x = 400 and y = 200\n",
    "<polygon points=\"400 50 570 200 400 200\" \n",
    " stroke=\"black\" fill=\"Gray\" stroke-width=\"5\"/>\n",
    "    \n",
    "#The following text is for the \"A\" at the top of the shape\n",
    "<text x=\"390\" y=\"130\" fill=\"black\" transform=\"rotate(-90 390,130)\">A</text>\n",
    "\n",
    "#The following text is for the \"14cm\" at the right side of the shape\n",
    "<text x=\"470\" y=\"120\" fill=\"black\" transform=\"rotate(40 490,120)\"> 14cm</text>\n",
    "\n",
    "#The following text is for the \"10cm\" at the bottom of the shape\n",
    "<text x=\"465\" y=\"218\" fill=\"black\">10cm</text>\n",
    "\n",
    "###The following code is for the right angle mark inside the gray triangle.\n",
    "<rect x=\"400\" y=\"180\" width=\"20\" height=\"20\"\n",
    " stroke=\"black\" fill=None stroke-width=\"2\"/>\n",
    "\n",
    "\n",
    "</svg>"
   ]
  },
  {
   "cell_type": "markdown",
   "metadata": {},
   "source": [
    "Then, we can rearrange our original formula of:\n",
    "\n",
    "<h3 align='center'>$\\ C^2 = A^2 + B^2 $</h3>\n",
    "\n",
    "To the formula:\n",
    "\n",
    "<h3 align='center'>$\\ A^2 = C^2 - B^2 $</h3>\n",
    "\n",
    "So that:\n",
    "\n",
    "<h3 align='center'>$\\ A = \\sqrt{C^2 - B^2} $</h3>\n",
    "\n",
    "So, we can calculate the length of $A$ by doing:\n",
    "\n",
    "### $$\n",
    "\\begin{align*}\n",
    "A &= \\sqrt {(14\\textrm{cm})^2 - (10\\textrm{cm})^2} \\\\\n",
    "&= \\sqrt {196\\textrm{cm}^2 - 100\\textrm{cm}^2}\\\\\n",
    "&= \\sqrt {96\\textrm{cm}^2}\n",
    "\\end{align*}\n",
    "$$\n",
    "\n",
    "Finally, we know that the length of $A \\approx 10\\textrm{cm}$"
   ]
  },
  {
   "cell_type": "markdown",
   "metadata": {},
   "source": [
    "### Practice Problem 4\n",
    "\n",
    "Daniel's school has an uneven baseball diamond:"
   ]
  },
  {
   "cell_type": "code",
   "execution_count": 20,
   "metadata": {},
   "outputs": [
    {
     "data": {
      "text/html": [
       "<svg height=\"400\" width=\"1500\">\n",
       "\n",
       "#First point at x = 480 and y = 30\n",
       "#Second point at x = 600 and y = 200\n",
       "#Third point at x = 350 and y = 200\n",
       "<polygon points=\"480 30 600 200 350 200\" \n",
       " stroke=\"black\" fill=\"orchid\" stroke-width=\"5\"/>\n",
       "\n",
       "#The following text is for the \"70m\" at the top of the shape\n",
       "<text x=\"395\" y=\"120\" fill=\"black\" transform=\"rotate(-50 395,120)\">70m</text>\n",
       "\n",
       "#The following text is for the \"60m\" at the right side of the shape\n",
       "<text x=\"540\" y=\"100\" fill=\"black\" transform=\"rotate(52 540,100)\">60m</text>\n",
       "\n",
       "#The following text is for the \"90m\" at the bottom of the shape\n",
       "<text x=\"460\" y=\"218\" fill=\"black\">90m</text>\n",
       "\n",
       "</svg>\n"
      ],
      "text/plain": [
       "<IPython.core.display.HTML object>"
      ]
     },
     "metadata": {},
     "output_type": "display_data"
    }
   ],
   "source": [
    "%%html\n",
    "<svg height=\"400\" width=\"1500\">\n",
    "\n",
    "#First point at x = 480 and y = 30\n",
    "#Second point at x = 600 and y = 200\n",
    "#Third point at x = 350 and y = 200\n",
    "<polygon points=\"480 30 600 200 350 200\" \n",
    " stroke=\"black\" fill=\"orchid\" stroke-width=\"5\"/>\n",
    "    \n",
    "#The following text is for the \"70m\" at the top of the shape\n",
    "<text x=\"395\" y=\"120\" fill=\"black\" transform=\"rotate(-50 395,120)\">70m</text>\n",
    "\n",
    "#The following text is for the \"60m\" at the right side of the shape\n",
    "<text x=\"540\" y=\"100\" fill=\"black\" transform=\"rotate(52 540,100)\">60m</text>\n",
    "\n",
    "#The following text is for the \"90m\" at the bottom of the shape\n",
    "<text x=\"460\" y=\"218\" fill=\"black\">90m</text>\n",
    "\n",
    "</svg>"
   ]
  },
  {
   "cell_type": "markdown",
   "metadata": {},
   "source": [
    "How many meters would Daniel have to run to score a home run?"
   ]
  },
  {
   "cell_type": "code",
   "execution_count": 21,
   "metadata": {
    "scrolled": false
   },
   "outputs": [
    {
     "data": {
      "application/vnd.jupyter.widget-view+json": {
       "model_id": "0a3c5b12fdec403083a0020ce0dccd36",
       "version_major": 2,
       "version_minor": 0
      },
      "text/plain": [
       "IntText(value=0, description='Input your answer here: ', style=DescriptionStyle(description_width='initial'))"
      ]
     },
     "metadata": {},
     "output_type": "display_data"
    },
    {
     "data": {
      "application/vnd.jupyter.widget-view+json": {
       "model_id": "b722531a338c489380c7e6548be8dd88",
       "version_major": 2,
       "version_minor": 0
      },
      "text/plain": [
       "Button(description='Check Answer', style=ButtonStyle())"
      ]
     },
     "metadata": {},
     "output_type": "display_data"
    }
   ],
   "source": [
    "#Used to ensure the description text doesn't get cut off.\n",
    "style = {'description_width': 'initial'}\n",
    "\n",
    "#Create an input integer widget\n",
    "question4 = widgets.IntText(\n",
    "    value=None,\n",
    "    description='Input your answer here: ',\n",
    "    disabled=False,\n",
    "    style = style\n",
    "    )\n",
    "\n",
    "#Create a button titled \"Check Answer\"\n",
    "checkButton4 = widgets.Button(description = \"Check Answer\")\n",
    "\n",
    "def checkAnswer(a):\n",
    "    #questionAnswer will be the input given by the user.\n",
    "    questionAnswer = question4.value\n",
    "    \n",
    "    #answers is a list of possible answers that can be inputted. \n",
    "    answers = [220]\n",
    "    \n",
    "    #Check if the input is in the list of answers. If this is the case:\n",
    "    if (questionAnswer in answers):\n",
    "        #Clear the output\n",
    "        clear_output()\n",
    "        \n",
    "        #Let the user know what they inputed.\n",
    "        display(Markdown(\"You answered: $\" + str(questionAnswer) + \"$\"))\n",
    "        \n",
    "        #Give an explenation for the answer.\n",
    "        display(Markdown(\"Well done! <br> \\\n",
    "                         We get this answer by doing: <br> \\\n",
    "                         <h3 align='center'>$\\ ($Length$) + ($Length$) + ($Length$) = ($Perimeter$) $</h3> <br> \\\n",
    "                         So, Daniel would have to run: <br> \\\n",
    "                         <h3 align='center'>$\\ (90$m$) + (60$m$) + (70$m$) = 220$m</h3>\"))\n",
    "        \n",
    "    #Otherwise, if no answer has been given, do nothing.\n",
    "    elif (questionAnswer == 0):\n",
    "        None\n",
    "    \n",
    "    #Lastly, if the answer is wrong, give the user a hint.\n",
    "    else:\n",
    "        #Clear the output\n",
    "        clear_output()\n",
    "        \n",
    "        #Display the input integer and check button widgets\n",
    "        display(question4)\n",
    "        display(checkButton4)\n",
    "        \n",
    "        #Let the user know what they inputed.\n",
    "        display(Markdown(\"You answered: $\" + str(questionAnswer) + \"$\"))\n",
    "        \n",
    "        #Give a hint for the question\n",
    "        display(Markdown(\"Not quite. <br> \\\n",
    "                      Remember, the formula for finding the perimeter of a triangle is: <br> \\\n",
    "                      <h3 align='center'>$\\ ($Length$) + ($Length$) + ($Length$) = ($Perimeter$) $</h3>\"))\n",
    "\n",
    "display(question4)\n",
    "display(checkButton4)\n",
    "\n",
    "checkButton4.on_click(checkAnswer)"
   ]
  },
  {
   "cell_type": "markdown",
   "metadata": {},
   "source": [
    "### Practice Problem 5\n",
    "\n",
    "What is the length of side $B$ in the following triangle?"
   ]
  },
  {
   "cell_type": "code",
   "execution_count": 22,
   "metadata": {},
   "outputs": [
    {
     "data": {
      "text/html": [
       "<svg height=\"400\" width=\"1500\">\n",
       "\n",
       "### The following code is for the triangle gray triangle\n",
       "#First point at x = 400 and y = 50\n",
       "#Second point at x = 480 and y = 200\n",
       "#Third point at x = 400 and y = 200\n",
       "<polygon points=\"400 50 480 200 400 200\" \n",
       " stroke=\"black\" fill=\"pink\" stroke-width=\"5\"/>\n",
       "\n",
       "#The following text is for the \"12cm\" at the top of the shape\n",
       "<text x=\"390\" y=\"150\" fill=\"black\" transform=\"rotate(-90 390,150)\">12cm</text>\n",
       "\n",
       "#The following text is for the \"13cm\" at the right side of the shape\n",
       "<text x=\"445\" y=\"115\" fill=\"black\" transform=\"rotate(60 445,115)\">13cm</text>\n",
       "\n",
       "#The following text is for the \"B\" at the bottom of the shape\n",
       "<text x=\"435\" y=\"218\" fill=\"black\">B</text>\n",
       "\n",
       "###The following code is for the right angle mark inside the gray triangle.\n",
       "<rect x=\"400\" y=\"180\" width=\"20\" height=\"20\"\n",
       " stroke=\"black\" fill=None stroke-width=\"2\"/>\n",
       "\n",
       "\n",
       "</svg>\n"
      ],
      "text/plain": [
       "<IPython.core.display.HTML object>"
      ]
     },
     "metadata": {},
     "output_type": "display_data"
    }
   ],
   "source": [
    "%%html\n",
    "<svg height=\"400\" width=\"1500\">\n",
    "\n",
    "### The following code is for the triangle gray triangle\n",
    "#First point at x = 400 and y = 50\n",
    "#Second point at x = 480 and y = 200\n",
    "#Third point at x = 400 and y = 200\n",
    "<polygon points=\"400 50 480 200 400 200\" \n",
    " stroke=\"black\" fill=\"pink\" stroke-width=\"5\"/>\n",
    "    \n",
    "#The following text is for the \"12cm\" at the top of the shape\n",
    "<text x=\"390\" y=\"150\" fill=\"black\" transform=\"rotate(-90 390,150)\">12cm</text>\n",
    "\n",
    "#The following text is for the \"13cm\" at the right side of the shape\n",
    "<text x=\"445\" y=\"115\" fill=\"black\" transform=\"rotate(60 445,115)\">13cm</text>\n",
    "\n",
    "#The following text is for the \"B\" at the bottom of the shape\n",
    "<text x=\"435\" y=\"218\" fill=\"black\">B</text>\n",
    "\n",
    "###The following code is for the right angle mark inside the gray triangle.\n",
    "<rect x=\"400\" y=\"180\" width=\"20\" height=\"20\"\n",
    " stroke=\"black\" fill=None stroke-width=\"2\"/>\n",
    "\n",
    "\n",
    "</svg>"
   ]
  },
  {
   "cell_type": "code",
   "execution_count": 23,
   "metadata": {
    "scrolled": true
   },
   "outputs": [
    {
     "data": {
      "application/vnd.jupyter.widget-view+json": {
       "model_id": "2a8fc7c03b4e419b9eb7ec5589dc5e4c",
       "version_major": 2,
       "version_minor": 0
      },
      "text/plain": [
       "IntText(value=0, description='Input your B value here: ', style=DescriptionStyle(description_width='initial'))"
      ]
     },
     "metadata": {},
     "output_type": "display_data"
    },
    {
     "data": {
      "application/vnd.jupyter.widget-view+json": {
       "model_id": "68778627163e4becb1691cce4a6bf5fc",
       "version_major": 2,
       "version_minor": 0
      },
      "text/plain": [
       "Button(description='Check Answer', style=ButtonStyle())"
      ]
     },
     "metadata": {},
     "output_type": "display_data"
    }
   ],
   "source": [
    "#Used to ensure the description text doesn't get cut off.\n",
    "style = {'description_width': 'initial'}\n",
    "\n",
    "#Create an input integer widget\n",
    "question5 = widgets.IntText(\n",
    "    value=None,\n",
    "    description='Input your B value here: ',\n",
    "    disabled=False,\n",
    "    style = style\n",
    "    )\n",
    "\n",
    "#Create a button titled \"Check Answer\"\n",
    "checkButton5 = widgets.Button(description = \"Check Answer\")\n",
    "\n",
    "def checkAnswer(a):\n",
    "    #questionAnswer will be the input given by the user.\n",
    "    questionAnswer = question5.value\n",
    "    \n",
    "    #answers is a list of possible answers that can be inputted. \n",
    "    answers = [5]\n",
    "    \n",
    "    #Check if the input is in the list of answers. If this is the case:\n",
    "    if (questionAnswer in answers):\n",
    "        #Clear the output\n",
    "        clear_output()\n",
    "        \n",
    "        #Let the user know what they inputed.\n",
    "        display(Markdown(\"You answered: $\" + str(questionAnswer) + \"$\"))\n",
    "        \n",
    "        #Give an explenation for the answer.\n",
    "        display(Markdown(\"Well done! <br> \\\n",
    "                         We get this answer by using the formula: <br> \\\n",
    "                         <h3 align='center'>$\\ (C)^2 - (A)^2 = (B)^2 $</h3> <br> \\\n",
    "                         Then, we fill in the values: <br> \\\n",
    "                         <h3 align='center'>$\\ (13$cm$)^2 - (12$cm$)^2 = 25$cm$^2 = (B)^2 $</h3> <br> \\\n",
    "                         And after taking the square root, we get that: <br> \\\n",
    "                         <h3 align='center'>$ B = 5$cm$ $</h3> <br>\"))\n",
    "        \n",
    "    #Otherwise, if no answer has been given, do nothing.\n",
    "    elif (questionAnswer == 0):\n",
    "        None\n",
    "    \n",
    "    #Lastly, if the answer is wrong, give the user a hint.\n",
    "    else:\n",
    "        #Clear the output\n",
    "        clear_output()\n",
    "        \n",
    "        #Display the input integer and check button widgets\n",
    "        display(question5)\n",
    "        display(checkButton5)\n",
    "        \n",
    "        #Let the user know what they inputed.\n",
    "        display(Markdown(\"You answered: $\" + str(questionAnswer) + \"$\"))\n",
    "        \n",
    "        #Give a hint for the question\n",
    "        display(Markdown(\"Not quite. <br> \\\n",
    "                      Remember, the formula for finding a missing length of a 90 degree triangle is: <br> \\\n",
    "                      <h3 align='center'>$\\ (C)^2 - (A)^2 = (B)^2 $</h3>\"))\n",
    "\n",
    "display(question5)\n",
    "display(checkButton5)\n",
    "\n",
    "checkButton5.on_click(checkAnswer)"
   ]
  },
  {
   "cell_type": "markdown",
   "metadata": {},
   "source": [
    "## Conclusion:\n",
    "\n",
    "In this notebook, you will have learned:\n",
    "\n",
    "* How to find the **perimeter** of *quadrilaterals* and *triangles*."
   ]
  },
  {
   "cell_type": "markdown",
   "metadata": {},
   "source": [
    "[![Callysto.ca License](https://github.com/callysto/curriculum-notebooks/blob/master/callysto-notebook-banner-bottom.jpg?raw=true)](https://github.com/callysto/curriculum-notebooks/blob/master/LICENSE.md)"
   ]
  }
 ],
 "metadata": {
  "kernelspec": {
   "display_name": "Python 3",
   "language": "python",
   "name": "python3"
  },
  "language_info": {
   "codemirror_mode": {
    "name": "ipython",
    "version": 3
   },
   "file_extension": ".py",
   "mimetype": "text/x-python",
   "name": "python",
   "nbconvert_exporter": "python",
   "pygments_lexer": "ipython3",
   "version": "3.7.4"
  },
  "widgets": {
   "application/vnd.jupyter.widget-state+json": {
    "state": {
     "0a3c5b12fdec403083a0020ce0dccd36": {
      "model_module": "@jupyter-widgets/controls",
      "model_module_version": "1.5.0",
      "model_name": "IntTextModel",
      "state": {
       "_dom_classes": [],
       "_model_module": "@jupyter-widgets/controls",
       "_model_module_version": "1.5.0",
       "_model_name": "IntTextModel",
       "_view_count": null,
       "_view_module": "@jupyter-widgets/controls",
       "_view_module_version": "1.5.0",
       "_view_name": "IntTextView",
       "continuous_update": false,
       "description": "Input your answer here: ",
       "description_tooltip": null,
       "disabled": false,
       "layout": "IPY_MODEL_39b04643316a4a5faa794b7ec290eaf8",
       "step": 1,
       "style": "IPY_MODEL_a3f50cfa3bc243ab8eebc2c4b8c43cf8",
       "value": 0
      }
     },
     "1d4b1fc89fe14421b50c6cc980a3dead": {
      "model_module": "@jupyter-widgets/output",
      "model_module_version": "1.0.0",
      "model_name": "OutputModel",
      "state": {
       "_dom_classes": [],
       "_model_module": "@jupyter-widgets/output",
       "_model_module_version": "1.0.0",
       "_model_name": "OutputModel",
       "_view_count": null,
       "_view_module": "@jupyter-widgets/output",
       "_view_module_version": "1.0.0",
       "_view_name": "OutputView",
       "layout": "IPY_MODEL_5b10b25a8eb3447bb56975ffc0cbee96",
       "msg_id": "",
       "outputs": [
        {
         "data": {
          "image/png": "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\n",
          "text/plain": "<Figure size 432x288 with 1 Axes>"
         },
         "metadata": {
          "needs_background": "light"
         },
         "output_type": "display_data"
        },
        {
         "data": {
          "text/latex": "Given a length of $1$, the perimeter is $4$",
          "text/plain": "<IPython.core.display.Latex object>"
         },
         "metadata": {},
         "output_type": "display_data"
        }
       ]
      }
     },
     "1e58ef8f81b24d26b4e7196ff79730da": {
      "model_module": "@jupyter-widgets/base",
      "model_module_version": "1.2.0",
      "model_name": "LayoutModel",
      "state": {
       "_model_module": "@jupyter-widgets/base",
       "_model_module_version": "1.2.0",
       "_model_name": "LayoutModel",
       "_view_count": null,
       "_view_module": "@jupyter-widgets/base",
       "_view_module_version": "1.2.0",
       "_view_name": "LayoutView",
       "align_content": null,
       "align_items": null,
       "align_self": null,
       "border": null,
       "bottom": null,
       "display": null,
       "flex": null,
       "flex_flow": null,
       "grid_area": null,
       "grid_auto_columns": null,
       "grid_auto_flow": null,
       "grid_auto_rows": null,
       "grid_column": null,
       "grid_gap": null,
       "grid_row": null,
       "grid_template_areas": null,
       "grid_template_columns": null,
       "grid_template_rows": null,
       "height": null,
       "justify_content": null,
       "justify_items": null,
       "left": null,
       "margin": null,
       "max_height": null,
       "max_width": null,
       "min_height": null,
       "min_width": null,
       "object_fit": null,
       "object_position": null,
       "order": null,
       "overflow": null,
       "overflow_x": null,
       "overflow_y": null,
       "padding": null,
       "right": null,
       "top": null,
       "visibility": null,
       "width": null
      }
     },
     "1fe63ebf9b134caeb688b77638090789": {
      "model_module": "@jupyter-widgets/base",
      "model_module_version": "1.2.0",
      "model_name": "LayoutModel",
      "state": {
       "_model_module": "@jupyter-widgets/base",
       "_model_module_version": "1.2.0",
       "_model_name": "LayoutModel",
       "_view_count": null,
       "_view_module": "@jupyter-widgets/base",
       "_view_module_version": "1.2.0",
       "_view_name": "LayoutView",
       "align_content": null,
       "align_items": null,
       "align_self": null,
       "border": null,
       "bottom": null,
       "display": null,
       "flex": null,
       "flex_flow": null,
       "grid_area": null,
       "grid_auto_columns": null,
       "grid_auto_flow": null,
       "grid_auto_rows": null,
       "grid_column": null,
       "grid_gap": null,
       "grid_row": null,
       "grid_template_areas": null,
       "grid_template_columns": null,
       "grid_template_rows": null,
       "height": null,
       "justify_content": null,
       "justify_items": null,
       "left": null,
       "margin": null,
       "max_height": null,
       "max_width": null,
       "min_height": null,
       "min_width": null,
       "object_fit": null,
       "object_position": null,
       "order": null,
       "overflow": null,
       "overflow_x": null,
       "overflow_y": null,
       "padding": null,
       "right": null,
       "top": null,
       "visibility": null,
       "width": null
      }
     },
     "21aae50c2df84039b8fa4c061f547cb4": {
      "model_module": "@jupyter-widgets/controls",
      "model_module_version": "1.5.0",
      "model_name": "IntSliderModel",
      "state": {
       "_dom_classes": [],
       "_model_module": "@jupyter-widgets/controls",
       "_model_module_version": "1.5.0",
       "_model_name": "IntSliderModel",
       "_view_count": null,
       "_view_module": "@jupyter-widgets/controls",
       "_view_module_version": "1.5.0",
       "_view_name": "IntSliderView",
       "continuous_update": true,
       "description": "Rectangle Height:",
       "description_tooltip": null,
       "disabled": false,
       "layout": "IPY_MODEL_1e58ef8f81b24d26b4e7196ff79730da",
       "max": 100,
       "min": 1,
       "orientation": "horizontal",
       "readout": true,
       "readout_format": "d",
       "step": 1,
       "style": "IPY_MODEL_c2f3d6a77c3f401aab18b3b008fdc107",
       "value": 1
      }
     },
     "225983a332474664905380c70ab3d02a": {
      "model_module": "@jupyter-widgets/controls",
      "model_module_version": "1.5.0",
      "model_name": "ButtonStyleModel",
      "state": {
       "_model_module": "@jupyter-widgets/controls",
       "_model_module_version": "1.5.0",
       "_model_name": "ButtonStyleModel",
       "_view_count": null,
       "_view_module": "@jupyter-widgets/base",
       "_view_module_version": "1.2.0",
       "_view_name": "StyleView",
       "button_color": null,
       "font_weight": ""
      }
     },
     "2a8fc7c03b4e419b9eb7ec5589dc5e4c": {
      "model_module": "@jupyter-widgets/controls",
      "model_module_version": "1.5.0",
      "model_name": "IntTextModel",
      "state": {
       "_dom_classes": [],
       "_model_module": "@jupyter-widgets/controls",
       "_model_module_version": "1.5.0",
       "_model_name": "IntTextModel",
       "_view_count": null,
       "_view_module": "@jupyter-widgets/controls",
       "_view_module_version": "1.5.0",
       "_view_name": "IntTextView",
       "continuous_update": false,
       "description": "Input your B value here: ",
       "description_tooltip": null,
       "disabled": false,
       "layout": "IPY_MODEL_95d1b5cbd8324bb0a9f807a50f91fe54",
       "step": 1,
       "style": "IPY_MODEL_d33036532c524ae9b0820214a14c4ec9",
       "value": 0
      }
     },
     "31de0f8ffac54475881fb90c9f573e76": {
      "model_module": "@jupyter-widgets/base",
      "model_module_version": "1.2.0",
      "model_name": "LayoutModel",
      "state": {
       "_model_module": "@jupyter-widgets/base",
       "_model_module_version": "1.2.0",
       "_model_name": "LayoutModel",
       "_view_count": null,
       "_view_module": "@jupyter-widgets/base",
       "_view_module_version": "1.2.0",
       "_view_name": "LayoutView",
       "align_content": null,
       "align_items": null,
       "align_self": null,
       "border": null,
       "bottom": null,
       "display": null,
       "flex": null,
       "flex_flow": null,
       "grid_area": null,
       "grid_auto_columns": null,
       "grid_auto_flow": null,
       "grid_auto_rows": null,
       "grid_column": null,
       "grid_gap": null,
       "grid_row": null,
       "grid_template_areas": null,
       "grid_template_columns": null,
       "grid_template_rows": null,
       "height": null,
       "justify_content": null,
       "justify_items": null,
       "left": null,
       "margin": null,
       "max_height": null,
       "max_width": null,
       "min_height": null,
       "min_width": null,
       "object_fit": null,
       "object_position": null,
       "order": null,
       "overflow": null,
       "overflow_x": null,
       "overflow_y": null,
       "padding": null,
       "right": null,
       "top": null,
       "visibility": null,
       "width": null
      }
     },
     "39b04643316a4a5faa794b7ec290eaf8": {
      "model_module": "@jupyter-widgets/base",
      "model_module_version": "1.2.0",
      "model_name": "LayoutModel",
      "state": {
       "_model_module": "@jupyter-widgets/base",
       "_model_module_version": "1.2.0",
       "_model_name": "LayoutModel",
       "_view_count": null,
       "_view_module": "@jupyter-widgets/base",
       "_view_module_version": "1.2.0",
       "_view_name": "LayoutView",
       "align_content": null,
       "align_items": null,
       "align_self": null,
       "border": null,
       "bottom": null,
       "display": null,
       "flex": null,
       "flex_flow": null,
       "grid_area": null,
       "grid_auto_columns": null,
       "grid_auto_flow": null,
       "grid_auto_rows": null,
       "grid_column": null,
       "grid_gap": null,
       "grid_row": null,
       "grid_template_areas": null,
       "grid_template_columns": null,
       "grid_template_rows": null,
       "height": null,
       "justify_content": null,
       "justify_items": null,
       "left": null,
       "margin": null,
       "max_height": null,
       "max_width": null,
       "min_height": null,
       "min_width": null,
       "object_fit": null,
       "object_position": null,
       "order": null,
       "overflow": null,
       "overflow_x": null,
       "overflow_y": null,
       "padding": null,
       "right": null,
       "top": null,
       "visibility": null,
       "width": null
      }
     },
     "3ce78ad2871c4b9da2f716a69261b3b5": {
      "model_module": "@jupyter-widgets/controls",
      "model_module_version": "1.5.0",
      "model_name": "SliderStyleModel",
      "state": {
       "_model_module": "@jupyter-widgets/controls",
       "_model_module_version": "1.5.0",
       "_model_name": "SliderStyleModel",
       "_view_count": null,
       "_view_module": "@jupyter-widgets/base",
       "_view_module_version": "1.2.0",
       "_view_name": "StyleView",
       "description_width": "initial",
       "handle_color": null
      }
     },
     "467499fa506b495ea6d050fcd1bbd9f5": {
      "model_module": "@jupyter-widgets/controls",
      "model_module_version": "1.5.0",
      "model_name": "DescriptionStyleModel",
      "state": {
       "_model_module": "@jupyter-widgets/controls",
       "_model_module_version": "1.5.0",
       "_model_name": "DescriptionStyleModel",
       "_view_count": null,
       "_view_module": "@jupyter-widgets/base",
       "_view_module_version": "1.2.0",
       "_view_name": "StyleView",
       "description_width": "initial"
      }
     },
     "4fb0d5ecfa864d59b7baefe0a45f0649": {
      "model_module": "@jupyter-widgets/controls",
      "model_module_version": "1.5.0",
      "model_name": "IntSliderModel",
      "state": {
       "_dom_classes": [],
       "_model_module": "@jupyter-widgets/controls",
       "_model_module_version": "1.5.0",
       "_model_name": "IntSliderModel",
       "_view_count": null,
       "_view_module": "@jupyter-widgets/controls",
       "_view_module_version": "1.5.0",
       "_view_name": "IntSliderView",
       "continuous_update": true,
       "description": "Square length:",
       "description_tooltip": null,
       "disabled": false,
       "layout": "IPY_MODEL_535f156e09c44c15873c2373cd990b39",
       "max": 100,
       "min": 1,
       "orientation": "horizontal",
       "readout": true,
       "readout_format": "d",
       "step": 1,
       "style": "IPY_MODEL_7049c9f103ae4518a4d7e2d8e613bece",
       "value": 1
      }
     },
     "529ef4f1258d4c868cc32806e2b313ff": {
      "model_module": "@jupyter-widgets/controls",
      "model_module_version": "1.5.0",
      "model_name": "ButtonStyleModel",
      "state": {
       "_model_module": "@jupyter-widgets/controls",
       "_model_module_version": "1.5.0",
       "_model_name": "ButtonStyleModel",
       "_view_count": null,
       "_view_module": "@jupyter-widgets/base",
       "_view_module_version": "1.2.0",
       "_view_name": "StyleView",
       "button_color": null,
       "font_weight": ""
      }
     },
     "535f156e09c44c15873c2373cd990b39": {
      "model_module": "@jupyter-widgets/base",
      "model_module_version": "1.2.0",
      "model_name": "LayoutModel",
      "state": {
       "_model_module": "@jupyter-widgets/base",
       "_model_module_version": "1.2.0",
       "_model_name": "LayoutModel",
       "_view_count": null,
       "_view_module": "@jupyter-widgets/base",
       "_view_module_version": "1.2.0",
       "_view_name": "LayoutView",
       "align_content": null,
       "align_items": null,
       "align_self": null,
       "border": null,
       "bottom": null,
       "display": null,
       "flex": null,
       "flex_flow": null,
       "grid_area": null,
       "grid_auto_columns": null,
       "grid_auto_flow": null,
       "grid_auto_rows": null,
       "grid_column": null,
       "grid_gap": null,
       "grid_row": null,
       "grid_template_areas": null,
       "grid_template_columns": null,
       "grid_template_rows": null,
       "height": null,
       "justify_content": null,
       "justify_items": null,
       "left": null,
       "margin": null,
       "max_height": null,
       "max_width": null,
       "min_height": null,
       "min_width": null,
       "object_fit": null,
       "object_position": null,
       "order": null,
       "overflow": null,
       "overflow_x": null,
       "overflow_y": null,
       "padding": null,
       "right": null,
       "top": null,
       "visibility": null,
       "width": null
      }
     },
     "57f01d36692040989d34923899d56ef1": {
      "model_module": "@jupyter-widgets/controls",
      "model_module_version": "1.5.0",
      "model_name": "IntTextModel",
      "state": {
       "_dom_classes": [],
       "_model_module": "@jupyter-widgets/controls",
       "_model_module_version": "1.5.0",
       "_model_name": "IntTextModel",
       "_view_count": null,
       "_view_module": "@jupyter-widgets/controls",
       "_view_module_version": "1.5.0",
       "_view_name": "IntTextView",
       "continuous_update": false,
       "description": "Input your perimeter here: ",
       "description_tooltip": null,
       "disabled": false,
       "layout": "IPY_MODEL_8e52dc752d6f4612aef26405b07bf283",
       "step": 1,
       "style": "IPY_MODEL_c444d824363d4a21afa9872a9c0dc968",
       "value": 0
      }
     },
     "5b10b25a8eb3447bb56975ffc0cbee96": {
      "model_module": "@jupyter-widgets/base",
      "model_module_version": "1.2.0",
      "model_name": "LayoutModel",
      "state": {
       "_model_module": "@jupyter-widgets/base",
       "_model_module_version": "1.2.0",
       "_model_name": "LayoutModel",
       "_view_count": null,
       "_view_module": "@jupyter-widgets/base",
       "_view_module_version": "1.2.0",
       "_view_name": "LayoutView",
       "align_content": null,
       "align_items": null,
       "align_self": null,
       "border": null,
       "bottom": null,
       "display": null,
       "flex": null,
       "flex_flow": null,
       "grid_area": null,
       "grid_auto_columns": null,
       "grid_auto_flow": null,
       "grid_auto_rows": null,
       "grid_column": null,
       "grid_gap": null,
       "grid_row": null,
       "grid_template_areas": null,
       "grid_template_columns": null,
       "grid_template_rows": null,
       "height": null,
       "justify_content": null,
       "justify_items": null,
       "left": null,
       "margin": null,
       "max_height": null,
       "max_width": null,
       "min_height": null,
       "min_width": null,
       "object_fit": null,
       "object_position": null,
       "order": null,
       "overflow": null,
       "overflow_x": null,
       "overflow_y": null,
       "padding": null,
       "right": null,
       "top": null,
       "visibility": null,
       "width": null
      }
     },
     "5d5ecb01dfca4b9ab7d2b70f24be4f0e": {
      "model_module": "@jupyter-widgets/base",
      "model_module_version": "1.2.0",
      "model_name": "LayoutModel",
      "state": {
       "_model_module": "@jupyter-widgets/base",
       "_model_module_version": "1.2.0",
       "_model_name": "LayoutModel",
       "_view_count": null,
       "_view_module": "@jupyter-widgets/base",
       "_view_module_version": "1.2.0",
       "_view_name": "LayoutView",
       "align_content": null,
       "align_items": null,
       "align_self": null,
       "border": null,
       "bottom": null,
       "display": null,
       "flex": null,
       "flex_flow": null,
       "grid_area": null,
       "grid_auto_columns": null,
       "grid_auto_flow": null,
       "grid_auto_rows": null,
       "grid_column": null,
       "grid_gap": null,
       "grid_row": null,
       "grid_template_areas": null,
       "grid_template_columns": null,
       "grid_template_rows": null,
       "height": null,
       "justify_content": null,
       "justify_items": null,
       "left": null,
       "margin": null,
       "max_height": null,
       "max_width": null,
       "min_height": null,
       "min_width": null,
       "object_fit": null,
       "object_position": null,
       "order": null,
       "overflow": null,
       "overflow_x": null,
       "overflow_y": null,
       "padding": null,
       "right": null,
       "top": null,
       "visibility": null,
       "width": null
      }
     },
     "67c20677df1c4311a78d7e9757256923": {
      "model_module": "@jupyter-widgets/controls",
      "model_module_version": "1.5.0",
      "model_name": "ButtonStyleModel",
      "state": {
       "_model_module": "@jupyter-widgets/controls",
       "_model_module_version": "1.5.0",
       "_model_name": "ButtonStyleModel",
       "_view_count": null,
       "_view_module": "@jupyter-widgets/base",
       "_view_module_version": "1.2.0",
       "_view_name": "StyleView",
       "button_color": null,
       "font_weight": ""
      }
     },
     "68778627163e4becb1691cce4a6bf5fc": {
      "model_module": "@jupyter-widgets/controls",
      "model_module_version": "1.5.0",
      "model_name": "ButtonModel",
      "state": {
       "_dom_classes": [],
       "_model_module": "@jupyter-widgets/controls",
       "_model_module_version": "1.5.0",
       "_model_name": "ButtonModel",
       "_view_count": null,
       "_view_module": "@jupyter-widgets/controls",
       "_view_module_version": "1.5.0",
       "_view_name": "ButtonView",
       "button_style": "",
       "description": "Check Answer",
       "disabled": false,
       "icon": "",
       "layout": "IPY_MODEL_31de0f8ffac54475881fb90c9f573e76",
       "style": "IPY_MODEL_aa04059344174cb798048ce26f808a3a",
       "tooltip": ""
      }
     },
     "7049c9f103ae4518a4d7e2d8e613bece": {
      "model_module": "@jupyter-widgets/controls",
      "model_module_version": "1.5.0",
      "model_name": "SliderStyleModel",
      "state": {
       "_model_module": "@jupyter-widgets/controls",
       "_model_module_version": "1.5.0",
       "_model_name": "SliderStyleModel",
       "_view_count": null,
       "_view_module": "@jupyter-widgets/base",
       "_view_module_version": "1.2.0",
       "_view_name": "StyleView",
       "description_width": "initial",
       "handle_color": null
      }
     },
     "742e689c182740ce940537d63c0e145f": {
      "model_module": "@jupyter-widgets/base",
      "model_module_version": "1.2.0",
      "model_name": "LayoutModel",
      "state": {
       "_model_module": "@jupyter-widgets/base",
       "_model_module_version": "1.2.0",
       "_model_name": "LayoutModel",
       "_view_count": null,
       "_view_module": "@jupyter-widgets/base",
       "_view_module_version": "1.2.0",
       "_view_name": "LayoutView",
       "align_content": null,
       "align_items": null,
       "align_self": null,
       "border": null,
       "bottom": null,
       "display": null,
       "flex": null,
       "flex_flow": null,
       "grid_area": null,
       "grid_auto_columns": null,
       "grid_auto_flow": null,
       "grid_auto_rows": null,
       "grid_column": null,
       "grid_gap": null,
       "grid_row": null,
       "grid_template_areas": null,
       "grid_template_columns": null,
       "grid_template_rows": null,
       "height": null,
       "justify_content": null,
       "justify_items": null,
       "left": null,
       "margin": null,
       "max_height": null,
       "max_width": null,
       "min_height": null,
       "min_width": null,
       "object_fit": null,
       "object_position": null,
       "order": null,
       "overflow": null,
       "overflow_x": null,
       "overflow_y": null,
       "padding": null,
       "right": null,
       "top": null,
       "visibility": null,
       "width": null
      }
     },
     "788fedfcbe2c4a25a2652ddc29e500e5": {
      "model_module": "@jupyter-widgets/base",
      "model_module_version": "1.2.0",
      "model_name": "LayoutModel",
      "state": {
       "_model_module": "@jupyter-widgets/base",
       "_model_module_version": "1.2.0",
       "_model_name": "LayoutModel",
       "_view_count": null,
       "_view_module": "@jupyter-widgets/base",
       "_view_module_version": "1.2.0",
       "_view_name": "LayoutView",
       "align_content": null,
       "align_items": null,
       "align_self": null,
       "border": null,
       "bottom": null,
       "display": null,
       "flex": null,
       "flex_flow": null,
       "grid_area": null,
       "grid_auto_columns": null,
       "grid_auto_flow": null,
       "grid_auto_rows": null,
       "grid_column": null,
       "grid_gap": null,
       "grid_row": null,
       "grid_template_areas": null,
       "grid_template_columns": null,
       "grid_template_rows": null,
       "height": null,
       "justify_content": null,
       "justify_items": null,
       "left": null,
       "margin": null,
       "max_height": null,
       "max_width": null,
       "min_height": null,
       "min_width": null,
       "object_fit": null,
       "object_position": null,
       "order": null,
       "overflow": null,
       "overflow_x": null,
       "overflow_y": null,
       "padding": null,
       "right": null,
       "top": null,
       "visibility": null,
       "width": null
      }
     },
     "7b7b85f5b2bf4e95b5e5125760491ab0": {
      "model_module": "@jupyter-widgets/controls",
      "model_module_version": "1.5.0",
      "model_name": "ButtonModel",
      "state": {
       "_dom_classes": [],
       "_model_module": "@jupyter-widgets/controls",
       "_model_module_version": "1.5.0",
       "_model_name": "ButtonModel",
       "_view_count": null,
       "_view_module": "@jupyter-widgets/controls",
       "_view_module_version": "1.5.0",
       "_view_name": "ButtonView",
       "button_style": "",
       "description": "Check Answer",
       "disabled": false,
       "icon": "",
       "layout": "IPY_MODEL_eb80f470415d42fc9e0177992cf32117",
       "style": "IPY_MODEL_f79c8bf66ccc4ab4aa2b33d3bea4c61a",
       "tooltip": ""
      }
     },
     "871966e6dee9443daef766f836d0c225": {
      "model_module": "@jupyter-widgets/base",
      "model_module_version": "1.2.0",
      "model_name": "LayoutModel",
      "state": {
       "_model_module": "@jupyter-widgets/base",
       "_model_module_version": "1.2.0",
       "_model_name": "LayoutModel",
       "_view_count": null,
       "_view_module": "@jupyter-widgets/base",
       "_view_module_version": "1.2.0",
       "_view_name": "LayoutView",
       "align_content": null,
       "align_items": null,
       "align_self": null,
       "border": null,
       "bottom": null,
       "display": null,
       "flex": null,
       "flex_flow": null,
       "grid_area": null,
       "grid_auto_columns": null,
       "grid_auto_flow": null,
       "grid_auto_rows": null,
       "grid_column": null,
       "grid_gap": null,
       "grid_row": null,
       "grid_template_areas": null,
       "grid_template_columns": null,
       "grid_template_rows": null,
       "height": null,
       "justify_content": null,
       "justify_items": null,
       "left": null,
       "margin": null,
       "max_height": null,
       "max_width": null,
       "min_height": null,
       "min_width": null,
       "object_fit": null,
       "object_position": null,
       "order": null,
       "overflow": null,
       "overflow_x": null,
       "overflow_y": null,
       "padding": null,
       "right": null,
       "top": null,
       "visibility": null,
       "width": null
      }
     },
     "8e52dc752d6f4612aef26405b07bf283": {
      "model_module": "@jupyter-widgets/base",
      "model_module_version": "1.2.0",
      "model_name": "LayoutModel",
      "state": {
       "_model_module": "@jupyter-widgets/base",
       "_model_module_version": "1.2.0",
       "_model_name": "LayoutModel",
       "_view_count": null,
       "_view_module": "@jupyter-widgets/base",
       "_view_module_version": "1.2.0",
       "_view_name": "LayoutView",
       "align_content": null,
       "align_items": null,
       "align_self": null,
       "border": null,
       "bottom": null,
       "display": null,
       "flex": null,
       "flex_flow": null,
       "grid_area": null,
       "grid_auto_columns": null,
       "grid_auto_flow": null,
       "grid_auto_rows": null,
       "grid_column": null,
       "grid_gap": null,
       "grid_row": null,
       "grid_template_areas": null,
       "grid_template_columns": null,
       "grid_template_rows": null,
       "height": null,
       "justify_content": null,
       "justify_items": null,
       "left": null,
       "margin": null,
       "max_height": null,
       "max_width": null,
       "min_height": null,
       "min_width": null,
       "object_fit": null,
       "object_position": null,
       "order": null,
       "overflow": null,
       "overflow_x": null,
       "overflow_y": null,
       "padding": null,
       "right": null,
       "top": null,
       "visibility": null,
       "width": null
      }
     },
     "8f77ccb93cff4015ac0b179e69cc0b4a": {
      "model_module": "@jupyter-widgets/base",
      "model_module_version": "1.2.0",
      "model_name": "LayoutModel",
      "state": {
       "_model_module": "@jupyter-widgets/base",
       "_model_module_version": "1.2.0",
       "_model_name": "LayoutModel",
       "_view_count": null,
       "_view_module": "@jupyter-widgets/base",
       "_view_module_version": "1.2.0",
       "_view_name": "LayoutView",
       "align_content": null,
       "align_items": null,
       "align_self": null,
       "border": null,
       "bottom": null,
       "display": null,
       "flex": null,
       "flex_flow": null,
       "grid_area": null,
       "grid_auto_columns": null,
       "grid_auto_flow": null,
       "grid_auto_rows": null,
       "grid_column": null,
       "grid_gap": null,
       "grid_row": null,
       "grid_template_areas": null,
       "grid_template_columns": null,
       "grid_template_rows": null,
       "height": null,
       "justify_content": null,
       "justify_items": null,
       "left": null,
       "margin": null,
       "max_height": null,
       "max_width": null,
       "min_height": null,
       "min_width": null,
       "object_fit": null,
       "object_position": null,
       "order": null,
       "overflow": null,
       "overflow_x": null,
       "overflow_y": null,
       "padding": null,
       "right": null,
       "top": null,
       "visibility": null,
       "width": null
      }
     },
     "95d1b5cbd8324bb0a9f807a50f91fe54": {
      "model_module": "@jupyter-widgets/base",
      "model_module_version": "1.2.0",
      "model_name": "LayoutModel",
      "state": {
       "_model_module": "@jupyter-widgets/base",
       "_model_module_version": "1.2.0",
       "_model_name": "LayoutModel",
       "_view_count": null,
       "_view_module": "@jupyter-widgets/base",
       "_view_module_version": "1.2.0",
       "_view_name": "LayoutView",
       "align_content": null,
       "align_items": null,
       "align_self": null,
       "border": null,
       "bottom": null,
       "display": null,
       "flex": null,
       "flex_flow": null,
       "grid_area": null,
       "grid_auto_columns": null,
       "grid_auto_flow": null,
       "grid_auto_rows": null,
       "grid_column": null,
       "grid_gap": null,
       "grid_row": null,
       "grid_template_areas": null,
       "grid_template_columns": null,
       "grid_template_rows": null,
       "height": null,
       "justify_content": null,
       "justify_items": null,
       "left": null,
       "margin": null,
       "max_height": null,
       "max_width": null,
       "min_height": null,
       "min_width": null,
       "object_fit": null,
       "object_position": null,
       "order": null,
       "overflow": null,
       "overflow_x": null,
       "overflow_y": null,
       "padding": null,
       "right": null,
       "top": null,
       "visibility": null,
       "width": null
      }
     },
     "9ea2eff20e984c599a4e48c8d6bdeb25": {
      "model_module": "@jupyter-widgets/base",
      "model_module_version": "1.2.0",
      "model_name": "LayoutModel",
      "state": {
       "_model_module": "@jupyter-widgets/base",
       "_model_module_version": "1.2.0",
       "_model_name": "LayoutModel",
       "_view_count": null,
       "_view_module": "@jupyter-widgets/base",
       "_view_module_version": "1.2.0",
       "_view_name": "LayoutView",
       "align_content": null,
       "align_items": null,
       "align_self": null,
       "border": null,
       "bottom": null,
       "display": null,
       "flex": null,
       "flex_flow": null,
       "grid_area": null,
       "grid_auto_columns": null,
       "grid_auto_flow": null,
       "grid_auto_rows": null,
       "grid_column": null,
       "grid_gap": null,
       "grid_row": null,
       "grid_template_areas": null,
       "grid_template_columns": null,
       "grid_template_rows": null,
       "height": null,
       "justify_content": null,
       "justify_items": null,
       "left": null,
       "margin": null,
       "max_height": null,
       "max_width": null,
       "min_height": null,
       "min_width": null,
       "object_fit": null,
       "object_position": null,
       "order": null,
       "overflow": null,
       "overflow_x": null,
       "overflow_y": null,
       "padding": null,
       "right": null,
       "top": null,
       "visibility": null,
       "width": null
      }
     },
     "a3f50cfa3bc243ab8eebc2c4b8c43cf8": {
      "model_module": "@jupyter-widgets/controls",
      "model_module_version": "1.5.0",
      "model_name": "DescriptionStyleModel",
      "state": {
       "_model_module": "@jupyter-widgets/controls",
       "_model_module_version": "1.5.0",
       "_model_name": "DescriptionStyleModel",
       "_view_count": null,
       "_view_module": "@jupyter-widgets/base",
       "_view_module_version": "1.2.0",
       "_view_name": "StyleView",
       "description_width": "initial"
      }
     },
     "a8a30deace684d6891675fcc9a89a497": {
      "model_module": "@jupyter-widgets/controls",
      "model_module_version": "1.5.0",
      "model_name": "ButtonModel",
      "state": {
       "_dom_classes": [],
       "_model_module": "@jupyter-widgets/controls",
       "_model_module_version": "1.5.0",
       "_model_name": "ButtonModel",
       "_view_count": null,
       "_view_module": "@jupyter-widgets/controls",
       "_view_module_version": "1.5.0",
       "_view_name": "ButtonView",
       "button_style": "",
       "description": "Check Answer",
       "disabled": false,
       "icon": "",
       "layout": "IPY_MODEL_ded1d9cfd08e40aab4466b3abcbf4baa",
       "style": "IPY_MODEL_67c20677df1c4311a78d7e9757256923",
       "tooltip": ""
      }
     },
     "aa04059344174cb798048ce26f808a3a": {
      "model_module": "@jupyter-widgets/controls",
      "model_module_version": "1.5.0",
      "model_name": "ButtonStyleModel",
      "state": {
       "_model_module": "@jupyter-widgets/controls",
       "_model_module_version": "1.5.0",
       "_model_name": "ButtonStyleModel",
       "_view_count": null,
       "_view_module": "@jupyter-widgets/base",
       "_view_module_version": "1.2.0",
       "_view_name": "StyleView",
       "button_color": null,
       "font_weight": ""
      }
     },
     "ab1839c5087649f1910d81744bbef746": {
      "model_module": "@jupyter-widgets/controls",
      "model_module_version": "1.5.0",
      "model_name": "IntSliderModel",
      "state": {
       "_dom_classes": [],
       "_model_module": "@jupyter-widgets/controls",
       "_model_module_version": "1.5.0",
       "_model_name": "IntSliderModel",
       "_view_count": null,
       "_view_module": "@jupyter-widgets/controls",
       "_view_module_version": "1.5.0",
       "_view_name": "IntSliderView",
       "continuous_update": true,
       "description": "Rectangle Length:",
       "description_tooltip": null,
       "disabled": false,
       "layout": "IPY_MODEL_5d5ecb01dfca4b9ab7d2b70f24be4f0e",
       "max": 100,
       "min": 1,
       "orientation": "horizontal",
       "readout": true,
       "readout_format": "d",
       "step": 1,
       "style": "IPY_MODEL_3ce78ad2871c4b9da2f716a69261b3b5",
       "value": 1
      }
     },
     "b722531a338c489380c7e6548be8dd88": {
      "model_module": "@jupyter-widgets/controls",
      "model_module_version": "1.5.0",
      "model_name": "ButtonModel",
      "state": {
       "_dom_classes": [],
       "_model_module": "@jupyter-widgets/controls",
       "_model_module_version": "1.5.0",
       "_model_name": "ButtonModel",
       "_view_count": null,
       "_view_module": "@jupyter-widgets/controls",
       "_view_module_version": "1.5.0",
       "_view_name": "ButtonView",
       "button_style": "",
       "description": "Check Answer",
       "disabled": false,
       "icon": "",
       "layout": "IPY_MODEL_871966e6dee9443daef766f836d0c225",
       "style": "IPY_MODEL_225983a332474664905380c70ab3d02a",
       "tooltip": ""
      }
     },
     "bb76151d8e624ee18a2bfd9fcb63193f": {
      "model_module": "@jupyter-widgets/controls",
      "model_module_version": "1.5.0",
      "model_name": "VBoxModel",
      "state": {
       "_dom_classes": [
        "widget-interact"
       ],
       "_model_module": "@jupyter-widgets/controls",
       "_model_module_version": "1.5.0",
       "_model_name": "VBoxModel",
       "_view_count": null,
       "_view_module": "@jupyter-widgets/controls",
       "_view_module_version": "1.5.0",
       "_view_name": "VBoxView",
       "box_style": "",
       "children": [
        "IPY_MODEL_4fb0d5ecfa864d59b7baefe0a45f0649",
        "IPY_MODEL_1d4b1fc89fe14421b50c6cc980a3dead"
       ],
       "layout": "IPY_MODEL_8f77ccb93cff4015ac0b179e69cc0b4a"
      }
     },
     "bed1235d3f794e809fedc5f16ef51a85": {
      "model_module": "@jupyter-widgets/controls",
      "model_module_version": "1.5.0",
      "model_name": "VBoxModel",
      "state": {
       "_dom_classes": [
        "widget-interact"
       ],
       "_model_module": "@jupyter-widgets/controls",
       "_model_module_version": "1.5.0",
       "_model_name": "VBoxModel",
       "_view_count": null,
       "_view_module": "@jupyter-widgets/controls",
       "_view_module_version": "1.5.0",
       "_view_name": "VBoxView",
       "box_style": "",
       "children": [
        "IPY_MODEL_ab1839c5087649f1910d81744bbef746",
        "IPY_MODEL_21aae50c2df84039b8fa4c061f547cb4",
        "IPY_MODEL_c6b3be01ddd94ec89eb31709f303025e"
       ],
       "layout": "IPY_MODEL_742e689c182740ce940537d63c0e145f"
      }
     },
     "c2f3d6a77c3f401aab18b3b008fdc107": {
      "model_module": "@jupyter-widgets/controls",
      "model_module_version": "1.5.0",
      "model_name": "SliderStyleModel",
      "state": {
       "_model_module": "@jupyter-widgets/controls",
       "_model_module_version": "1.5.0",
       "_model_name": "SliderStyleModel",
       "_view_count": null,
       "_view_module": "@jupyter-widgets/base",
       "_view_module_version": "1.2.0",
       "_view_name": "StyleView",
       "description_width": "initial",
       "handle_color": null
      }
     },
     "c444d824363d4a21afa9872a9c0dc968": {
      "model_module": "@jupyter-widgets/controls",
      "model_module_version": "1.5.0",
      "model_name": "DescriptionStyleModel",
      "state": {
       "_model_module": "@jupyter-widgets/controls",
       "_model_module_version": "1.5.0",
       "_model_name": "DescriptionStyleModel",
       "_view_count": null,
       "_view_module": "@jupyter-widgets/base",
       "_view_module_version": "1.2.0",
       "_view_name": "StyleView",
       "description_width": "initial"
      }
     },
     "c64f48f565bc4df881fa4acc2783e5b4": {
      "model_module": "@jupyter-widgets/base",
      "model_module_version": "1.2.0",
      "model_name": "LayoutModel",
      "state": {
       "_model_module": "@jupyter-widgets/base",
       "_model_module_version": "1.2.0",
       "_model_name": "LayoutModel",
       "_view_count": null,
       "_view_module": "@jupyter-widgets/base",
       "_view_module_version": "1.2.0",
       "_view_name": "LayoutView",
       "align_content": null,
       "align_items": null,
       "align_self": null,
       "border": null,
       "bottom": null,
       "display": null,
       "flex": null,
       "flex_flow": null,
       "grid_area": null,
       "grid_auto_columns": null,
       "grid_auto_flow": null,
       "grid_auto_rows": null,
       "grid_column": null,
       "grid_gap": null,
       "grid_row": null,
       "grid_template_areas": null,
       "grid_template_columns": null,
       "grid_template_rows": null,
       "height": null,
       "justify_content": null,
       "justify_items": null,
       "left": null,
       "margin": null,
       "max_height": null,
       "max_width": null,
       "min_height": null,
       "min_width": null,
       "object_fit": null,
       "object_position": null,
       "order": null,
       "overflow": null,
       "overflow_x": null,
       "overflow_y": null,
       "padding": null,
       "right": null,
       "top": null,
       "visibility": null,
       "width": null
      }
     },
     "c6b3be01ddd94ec89eb31709f303025e": {
      "model_module": "@jupyter-widgets/output",
      "model_module_version": "1.0.0",
      "model_name": "OutputModel",
      "state": {
       "_dom_classes": [],
       "_model_module": "@jupyter-widgets/output",
       "_model_module_version": "1.0.0",
       "_model_name": "OutputModel",
       "_view_count": null,
       "_view_module": "@jupyter-widgets/output",
       "_view_module_version": "1.0.0",
       "_view_name": "OutputView",
       "layout": "IPY_MODEL_1fe63ebf9b134caeb688b77638090789",
       "msg_id": "",
       "outputs": [
        {
         "data": {
          "image/png": "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\n",
          "text/plain": "<Figure size 432x288 with 1 Axes>"
         },
         "metadata": {
          "needs_background": "light"
         },
         "output_type": "display_data"
        },
        {
         "data": {
          "text/latex": "Given a length of $1$, and a height of $1$, the perimeter of a rectangle is $4$",
          "text/plain": "<IPython.core.display.Latex object>"
         },
         "metadata": {},
         "output_type": "display_data"
        }
       ]
      }
     },
     "cd7cc332021044a8b112dac7f8f7e636": {
      "model_module": "@jupyter-widgets/controls",
      "model_module_version": "1.5.0",
      "model_name": "IntTextModel",
      "state": {
       "_dom_classes": [],
       "_model_module": "@jupyter-widgets/controls",
       "_model_module_version": "1.5.0",
       "_model_name": "IntTextModel",
       "_view_count": null,
       "_view_module": "@jupyter-widgets/controls",
       "_view_module_version": "1.5.0",
       "_view_name": "IntTextView",
       "continuous_update": false,
       "description": "Input your perimeter here: ",
       "description_tooltip": null,
       "disabled": false,
       "layout": "IPY_MODEL_788fedfcbe2c4a25a2652ddc29e500e5",
       "step": 1,
       "style": "IPY_MODEL_d73377a6c1d249669705ca536930cef9",
       "value": 0
      }
     },
     "d32f27b23c194705b8c08cfc85eb0677": {
      "model_module": "@jupyter-widgets/controls",
      "model_module_version": "1.5.0",
      "model_name": "IntTextModel",
      "state": {
       "_dom_classes": [],
       "_model_module": "@jupyter-widgets/controls",
       "_model_module_version": "1.5.0",
       "_model_name": "IntTextModel",
       "_view_count": null,
       "_view_module": "@jupyter-widgets/controls",
       "_view_module_version": "1.5.0",
       "_view_name": "IntTextView",
       "continuous_update": false,
       "description": "Input your length here: ",
       "description_tooltip": null,
       "disabled": false,
       "layout": "IPY_MODEL_9ea2eff20e984c599a4e48c8d6bdeb25",
       "step": 1,
       "style": "IPY_MODEL_467499fa506b495ea6d050fcd1bbd9f5",
       "value": 0
      }
     },
     "d33036532c524ae9b0820214a14c4ec9": {
      "model_module": "@jupyter-widgets/controls",
      "model_module_version": "1.5.0",
      "model_name": "DescriptionStyleModel",
      "state": {
       "_model_module": "@jupyter-widgets/controls",
       "_model_module_version": "1.5.0",
       "_model_name": "DescriptionStyleModel",
       "_view_count": null,
       "_view_module": "@jupyter-widgets/base",
       "_view_module_version": "1.2.0",
       "_view_name": "StyleView",
       "description_width": "initial"
      }
     },
     "d73377a6c1d249669705ca536930cef9": {
      "model_module": "@jupyter-widgets/controls",
      "model_module_version": "1.5.0",
      "model_name": "DescriptionStyleModel",
      "state": {
       "_model_module": "@jupyter-widgets/controls",
       "_model_module_version": "1.5.0",
       "_model_name": "DescriptionStyleModel",
       "_view_count": null,
       "_view_module": "@jupyter-widgets/base",
       "_view_module_version": "1.2.0",
       "_view_name": "StyleView",
       "description_width": "initial"
      }
     },
     "ded1d9cfd08e40aab4466b3abcbf4baa": {
      "model_module": "@jupyter-widgets/base",
      "model_module_version": "1.2.0",
      "model_name": "LayoutModel",
      "state": {
       "_model_module": "@jupyter-widgets/base",
       "_model_module_version": "1.2.0",
       "_model_name": "LayoutModel",
       "_view_count": null,
       "_view_module": "@jupyter-widgets/base",
       "_view_module_version": "1.2.0",
       "_view_name": "LayoutView",
       "align_content": null,
       "align_items": null,
       "align_self": null,
       "border": null,
       "bottom": null,
       "display": null,
       "flex": null,
       "flex_flow": null,
       "grid_area": null,
       "grid_auto_columns": null,
       "grid_auto_flow": null,
       "grid_auto_rows": null,
       "grid_column": null,
       "grid_gap": null,
       "grid_row": null,
       "grid_template_areas": null,
       "grid_template_columns": null,
       "grid_template_rows": null,
       "height": null,
       "justify_content": null,
       "justify_items": null,
       "left": null,
       "margin": null,
       "max_height": null,
       "max_width": null,
       "min_height": null,
       "min_width": null,
       "object_fit": null,
       "object_position": null,
       "order": null,
       "overflow": null,
       "overflow_x": null,
       "overflow_y": null,
       "padding": null,
       "right": null,
       "top": null,
       "visibility": null,
       "width": null
      }
     },
     "e581c2ea2dba4f98a7ce9ef538599b99": {
      "model_module": "@jupyter-widgets/controls",
      "model_module_version": "1.5.0",
      "model_name": "ButtonModel",
      "state": {
       "_dom_classes": [],
       "_model_module": "@jupyter-widgets/controls",
       "_model_module_version": "1.5.0",
       "_model_name": "ButtonModel",
       "_view_count": null,
       "_view_module": "@jupyter-widgets/controls",
       "_view_module_version": "1.5.0",
       "_view_name": "ButtonView",
       "button_style": "",
       "description": "Check Answer",
       "disabled": false,
       "icon": "",
       "layout": "IPY_MODEL_c64f48f565bc4df881fa4acc2783e5b4",
       "style": "IPY_MODEL_529ef4f1258d4c868cc32806e2b313ff",
       "tooltip": ""
      }
     },
     "eb80f470415d42fc9e0177992cf32117": {
      "model_module": "@jupyter-widgets/base",
      "model_module_version": "1.2.0",
      "model_name": "LayoutModel",
      "state": {
       "_model_module": "@jupyter-widgets/base",
       "_model_module_version": "1.2.0",
       "_model_name": "LayoutModel",
       "_view_count": null,
       "_view_module": "@jupyter-widgets/base",
       "_view_module_version": "1.2.0",
       "_view_name": "LayoutView",
       "align_content": null,
       "align_items": null,
       "align_self": null,
       "border": null,
       "bottom": null,
       "display": null,
       "flex": null,
       "flex_flow": null,
       "grid_area": null,
       "grid_auto_columns": null,
       "grid_auto_flow": null,
       "grid_auto_rows": null,
       "grid_column": null,
       "grid_gap": null,
       "grid_row": null,
       "grid_template_areas": null,
       "grid_template_columns": null,
       "grid_template_rows": null,
       "height": null,
       "justify_content": null,
       "justify_items": null,
       "left": null,
       "margin": null,
       "max_height": null,
       "max_width": null,
       "min_height": null,
       "min_width": null,
       "object_fit": null,
       "object_position": null,
       "order": null,
       "overflow": null,
       "overflow_x": null,
       "overflow_y": null,
       "padding": null,
       "right": null,
       "top": null,
       "visibility": null,
       "width": null
      }
     },
     "f79c8bf66ccc4ab4aa2b33d3bea4c61a": {
      "model_module": "@jupyter-widgets/controls",
      "model_module_version": "1.5.0",
      "model_name": "ButtonStyleModel",
      "state": {
       "_model_module": "@jupyter-widgets/controls",
       "_model_module_version": "1.5.0",
       "_model_name": "ButtonStyleModel",
       "_view_count": null,
       "_view_module": "@jupyter-widgets/base",
       "_view_module_version": "1.2.0",
       "_view_name": "StyleView",
       "button_color": null,
       "font_weight": ""
      }
     }
    },
    "version_major": 2,
    "version_minor": 0
   }
  }
 },
 "nbformat": 4,
 "nbformat_minor": 2
}