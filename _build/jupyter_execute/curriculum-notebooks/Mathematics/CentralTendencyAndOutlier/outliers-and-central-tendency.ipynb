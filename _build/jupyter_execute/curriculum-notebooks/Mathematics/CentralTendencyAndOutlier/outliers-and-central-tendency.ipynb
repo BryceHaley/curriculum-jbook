{
 "cells": [
  {
   "cell_type": "markdown",
   "metadata": {},
   "source": [
    "![Callysto.ca Banner](https://github.com/callysto/curriculum-notebooks/blob/master/callysto-notebook-banner-top.jpg?raw=true)\n",
    "\n",
    "<a href=\"https://hub.callysto.ca/jupyter/hub/user-redirect/git-pull?repo=https%3A%2F%2Fgithub.com%2Fcallysto%2Fcurriculum-notebooks&branch=master&subPath=Mathematics/CentralTendencyAndOutlier/outliers-and-central-tendency.ipynb&depth=1\" target=\"_parent\"><img src=\"https://raw.githubusercontent.com/callysto/curriculum-notebooks/master/open-in-callysto-button.svg?sanitize=true\" width=\"123\" height=\"24\" alt=\"Open in Callysto\"/></a>"
   ]
  },
  {
   "cell_type": "code",
   "execution_count": 1,
   "metadata": {
    "tags": [
     "hide-input"
    ]
   },
   "outputs": [
    {
     "data": {
      "text/html": [
       "\n",
       "<script>\n",
       "  function code_toggle() {\n",
       "    if (code_shown){\n",
       "      $('div.input').hide('500');\n",
       "      $('#toggleButton').val('Show Code')\n",
       "    } else {\n",
       "      $('div.input').show('500');\n",
       "      $('#toggleButton').val('Hide Code')\n",
       "    }\n",
       "    code_shown = !code_shown\n",
       "  }\n",
       "\n",
       "  $( document ).ready(function(){\n",
       "    code_shown=false;\n",
       "    $('div.input').hide()\n",
       "  });\n",
       "</script>\n",
       "<p> Code is hidden for ease of viewing. Click the Show/Hide button to see. </>\n",
       "<form action=\"javascript:code_toggle()\"><input type=\"submit\" id=\"toggleButton\" value=\"Show Code\"></form>\n"
      ],
      "text/plain": [
       "<IPython.core.display.HTML object>"
      ]
     },
     "metadata": {},
     "output_type": "display_data"
    }
   ],
   "source": [
    "%%html\n",
    "\n",
    "<script>\n",
    "  function code_toggle() {\n",
    "    if (code_shown){\n",
    "      $('div.input').hide('500');\n",
    "      $('#toggleButton').val('Show Code')\n",
    "    } else {\n",
    "      $('div.input').show('500');\n",
    "      $('#toggleButton').val('Hide Code')\n",
    "    }\n",
    "    code_shown = !code_shown\n",
    "  }\n",
    "\n",
    "  $( document ).ready(function(){\n",
    "    code_shown=false;\n",
    "    $('div.input').hide()\n",
    "  });\n",
    "</script>\n",
    "<p> Code is hidden for ease of viewing. Click the Show/Hide button to see. </>\n",
    "<form action=\"javascript:code_toggle()\"><input type=\"submit\" id=\"toggleButton\" value=\"Show Code\"></form>"
   ]
  },
  {
   "cell_type": "code",
   "execution_count": 2,
   "metadata": {
    "tags": [
     "hide-input"
    ]
   },
   "outputs": [],
   "source": [
    "import numpy as np\n",
    "import matplotlib.mlab as mlab\n",
    "import matplotlib.pyplot as plt\n",
    "from ipywidgets import interact, widgets, Button, Layout\n",
    "from scipy import stats\n",
    "from collections import Counter\n",
    "from array import array\n",
    "from statistics import mode\n",
    "import IPython\n",
    "import pandas\n",
    "import sys\n",
    "from astropy.table import Table\n",
    "import tkinter\n",
    "import csv\n",
    "import pandas as pd\n",
    "from pandas import DataFrame"
   ]
  },
  {
   "cell_type": "code",
   "execution_count": 3,
   "metadata": {
    "tags": [
     "hide-input"
    ]
   },
   "outputs": [],
   "source": [
    "def display(question, answerList):\n",
    "    print(question)\n",
    "    IPython.display.display(answerList)"
   ]
  },
  {
   "cell_type": "markdown",
   "metadata": {},
   "source": [
    "# Central Tendency and Outliers\n",
    "\n",
    "This notebook focuses on what an outlier is and how it affects central tendency. Remember central tendency means the mean, median, and mode of some data. If you need review on central tendency, check out this previous notebook.\n",
    "\n",
    "Things you will learn in this notebook:\n",
    "* What an outlier is\n",
    "* How an outlier affects mean\n",
    "* How an outlier affects median\n",
    "* How an outlier affects mode\n",
    "* Why outliers can be a problem"
   ]
  },
  {
   "cell_type": "markdown",
   "metadata": {},
   "source": [
    "<img style=\"float: right;\" src=\"images/PunnyOutlier.jpg\" width=\"400\" height=\"300\">\n",
    "\n",
    "## What is an outlier?\n",
    "\n",
    "An outlier is a value that \"lies outside\" (is much smaller or larger than) most of the other values in a set of data.\n",
    "\n",
    "Let's look at an example: <br>\n",
    "Here is a data set: $26, 23, 27, 25, 28, 29, 24, 99 $ <br>\n",
    "Lets put it in order: $23, 24, 25, 26, 27, 28, 29, 99$ <br> \n",
    "$99$ is larger than all the other data, by a lot. <br> \n",
    "Therefore, we can call $99$ an outlier.\n",
    "\n",
    "An outlier is also data that is out of place, or that might be a mistake when it was collected."
   ]
  },
  {
   "cell_type": "markdown",
   "metadata": {
    "slideshow": {
     "slide_type": "subslide"
    }
   },
   "source": [
    "## Central tendency\n",
    "\n",
    "First let's look at the central tendency of the example above. \n",
    "\n",
    "Mean = $\\frac{23+24+25+26+27+28+29+99}{8} = \\frac{281}{8} = 35.125$. <br>\n",
    "The median is found between 26 and 27, so the median is 26.5. <br>\n",
    "There is no mode because none are repeated more than once.\n",
    "\n",
    "Then we will remove the outlier (99) and recalculate the central tendency.\n",
    "\n",
    "Mean = $\\frac{23+24+25+26+27+28+29}{7} = \\frac{182}{7} = 26$. <br>\n",
    "The median is the middle number so the median is 26. <br>\n",
    "There is no mode because none are repeated more than once.\n",
    "\n",
    "What changes do you notice? What changed the most?"
   ]
  },
  {
   "cell_type": "markdown",
   "metadata": {},
   "source": [
    "### Try it yourself\n",
    "\n",
    "Here are the ratings of a new restaurant out of 10:\n",
    "\n",
    "$4.5, 7, 15, 3.5, 6, 5, 9, 10, 1$"
   ]
  },
  {
   "cell_type": "code",
   "execution_count": 4,
   "metadata": {
    "tags": [
     "hide-input"
    ]
   },
   "outputs": [
    {
     "name": "stdout",
     "output_type": "stream",
     "text": [
      "Is there an outlier?\n"
     ]
    },
    {
     "data": {
      "application/vnd.jupyter.widget-view+json": {
       "model_id": "1b4292f6b85c4db8bfcff7c23299babf",
       "version_major": 2,
       "version_minor": 0
      },
      "text/plain": [
       "RadioButtons(options=('Yes', 'No'), value=None)"
      ]
     },
     "metadata": {},
     "output_type": "display_data"
    }
   ],
   "source": [
    "answer622 = widgets.RadioButtons(options=['Yes', 'No'], value = None)\n",
    "answernext = widgets.RadioButtons(options=['1', '10', '15', '-1'], value = None)\n",
    "\n",
    "question622 = 'Is there an outlier?'\n",
    "questionnext = 'Which value is the outlier?'\n",
    "\n",
    "def checknext(d):\n",
    "    IPython.display.clear_output(wait=False)\n",
    "    display(question622, answer622)\n",
    "    display(questionnext, answernext)\n",
    "    if answernext.value == '15':\n",
    "        print(\"You're right! 15 is an outlier because the ratings are only supposed to be out of 10.\")\n",
    "    else:\n",
    "        print(\"Not quite, try again.\")\n",
    "\n",
    "\n",
    "def check622(d):\n",
    "    IPython.display.clear_output(wait=False)\n",
    "    display(question622, answer622)\n",
    "    if answer622.value == 'Yes':\n",
    "        print(\"Correct!\")\n",
    "    else:\n",
    "        print(\"Actually there is an outlier.\")\n",
    "    display(questionnext, answernext)\n",
    "    answernext.observe(checknext, 'value')\n",
    "        \n",
    "IPython.display.clear_output(wait=False)\n",
    "display(question622,answer622 )\n",
    "answer622.observe(check622, 'value')"
   ]
  },
  {
   "cell_type": "code",
   "execution_count": 5,
   "metadata": {
    "tags": [
     "hide-input"
    ]
   },
   "outputs": [
    {
     "data": {
      "text/html": [
       "<html>\n",
       "<head>\n",
       "<script type=\"text/javascript\">\n",
       "<!--\n",
       "function toggle(id) {\n",
       "var e = document.getElementById(id);\n",
       "if(e.style.display == 'none')\n",
       "e.style.display = 'block';\n",
       "else\n",
       "e.style.display = 'none';\n",
       "}\n",
       "//-->\n",
       "</script>\n",
       "</head>\n",
       "\n",
       "<body>\n",
       "<div id=\"question622\">\n",
       " <button id = \"622\"\n",
       "onclick=\"toggle('answer622');\">Solution</button> \n",
       "</div>\n",
       "<div style=\"display:none\" id=\"answer622\">\n",
       "An outlier is a value that does not seem to fit with the rest of the data. <br/>\n",
       "In this case, we are looking at ratings that should be between 0 and 10. <br/>\n",
       "All the values in this data set are within that range except for 15. <br/>\n",
       "So 15 must be the outlier. <br/>\n",
       "\n",
       "Also -1 would be an outlier if it was in the data set, but because it's not then it's not the right answer. <br/>\n",
       "\n",
       "</div>\n",
       "\n",
       "</body>\n",
       "</html>\n"
      ],
      "text/plain": [
       "<IPython.core.display.HTML object>"
      ]
     },
     "metadata": {},
     "output_type": "display_data"
    }
   ],
   "source": [
    "%%html\n",
    "<html>\n",
    "<head>\n",
    "<script type=\"text/javascript\">\n",
    "<!--\n",
    "function toggle(id) {\n",
    "var e = document.getElementById(id);\n",
    "if(e.style.display == 'none')\n",
    "e.style.display = 'block';\n",
    "else\n",
    "e.style.display = 'none';\n",
    "}\n",
    "//-->\n",
    "</script>\n",
    "</head>\n",
    "\n",
    "<body>\n",
    "<div id=\"question622\">\n",
    " <button id = \"622\"\n",
    "onclick=\"toggle('answer622');\">Solution</button> \n",
    "</div>\n",
    "<div style=\"display:none\" id=\"answer622\">\n",
    "An outlier is a value that does not seem to fit with the rest of the data. <br/>\n",
    "In this case, we are looking at ratings that should be between 0 and 10. <br/>\n",
    "All the values in this data set are within that range except for 15. <br/>\n",
    "So 15 must be the outlier. <br/>\n",
    "\n",
    "Also -1 would be an outlier if it was in the data set, but because it's not then it's not the right answer. <br/>\n",
    "\n",
    "</div>\n",
    "\n",
    "</body>\n",
    "</html>"
   ]
  },
  {
   "cell_type": "markdown",
   "metadata": {},
   "source": [
    "## A bigger set of data\n",
    "\n",
    "Let's look at some data about the sodium content (amount of salt) in different common foods. Is there an outlier?\n",
    "\n",
    "<img style=\"float: center;\" src=\"images/walking-food.jpg\" width=\"500\" height=\"200\">"
   ]
  },
  {
   "cell_type": "code",
   "execution_count": 6,
   "metadata": {
    "tags": [
     "hide-input"
    ]
   },
   "outputs": [
    {
     "name": "stdout",
     "output_type": "stream",
     "text": [
      "                             Product   Sodium content\n",
      "0             Tomato sauce (Brand A)              871\n",
      "1             Tomato sauce (Brand B)             1250\n",
      "2                          Soy sauce             6458\n",
      "3                    Tinned tomatoes              270\n",
      "4                      Four bean mix              250\n",
      "5                       Corn kernels              205\n",
      "6                 Mushrooms (tinned)              340\n",
      "7                       Tomato paste              843\n",
      "8                 Chunky pasta sauce              482\n",
      "9                      Chicken stock              521\n",
      "10                        Beef stock              450\n",
      "11                           Peanuts              360\n",
      "12               Beef strogonoff mix              780\n",
      "13            Dry roasted macadamias              340\n",
      "14                           Cashews              510\n",
      "15                            Butter              460\n",
      "16                  Sunflower spread              380\n",
      "17                       Baked beans              290\n",
      "18                     Peanut butter              458\n",
      "19                 French onion soup              335\n",
      "20               Chicken noodle soup              355\n",
      "21                Margarine original              590\n",
      "22                       Pink salmon              600\n",
      "23                 Gravy mix supreme              595\n",
      "24                   Vegetable stock              547\n",
      "25                    Precooked meat             1036\n",
      "26                         Spaghetti              410\n",
      "27  Mixed nuts with green pistachios              190\n",
      "28                        Red salmon              530\n"
     ]
    }
   ],
   "source": [
    "df = pd.read_csv('sources/exampleDataSource.csv')\n",
    "print(df)"
   ]
  },
  {
   "cell_type": "code",
   "execution_count": 7,
   "metadata": {
    "tags": [
     "hide-input"
    ]
   },
   "outputs": [],
   "source": [
    "OriginalData = []\n",
    "with open('sources/exampleData.csv', 'r') as f:\n",
    "    reader = csv.reader(f)\n",
    "    for row in reader:\n",
    "        OriginalData.append(int(row[1]))"
   ]
  },
  {
   "cell_type": "markdown",
   "metadata": {},
   "source": [
    "Now let's calculate the mean, median, and mode using the computer."
   ]
  },
  {
   "cell_type": "code",
   "execution_count": 8,
   "metadata": {
    "tags": [
     "hide-input"
    ]
   },
   "outputs": [
    {
     "name": "stdout",
     "output_type": "stream",
     "text": [
      "Mean:  714.0\n",
      "Median:  460.0\n",
      "Mode: 340 (appeared 2 times.)\n"
     ]
    }
   ],
   "source": [
    "def computeCenTendency(dataset):\n",
    "    \n",
    "    #mean value\n",
    "    mean= np.mean(dataset)\n",
    "    print(\"Mean: \", round(mean,3))\n",
    "\n",
    "    #median value\n",
    "    # First we need to sort the data in ascending order\n",
    "    dataset.sort()\n",
    "    median = np.median(dataset)\n",
    "    print(\"Median: \", round(median,3))\n",
    "    \n",
    "    # Mode\n",
    "    hits = []\n",
    "    for item in dataset:\n",
    "        tally = dataset.count(item)\n",
    "        #Makes a tuple that is the number of huts paired with the relevant number\n",
    "        values = (tally, item)\n",
    "        # Only add one entry for each number in the set\n",
    "        if values not in hits:\n",
    "            hits.append(values)\n",
    "    hits.sort(reverse=True)\n",
    "    if hits[0][0]>hits[1][0]:\n",
    "        print(\"Mode:\", round(hits[0][1],3), \"(appeared\", hits[0][0], \"times.)\")\n",
    "    else:\n",
    "        print(\"There is no mode\")\n",
    "\n",
    "    Counter(dataset)\n",
    "    return mean, median, hits[0][1]\n",
    "\n",
    "centralTendency = []\n",
    "centralTendency = computeCenTendency(OriginalData)"
   ]
  },
  {
   "cell_type": "markdown",
   "metadata": {},
   "source": [
    "Now let's show this data in a graph. But not just any graph. We will display it in a histogram. This way we can group together foods that have a similar sodium content into \"bins\". You can control how many bins are on the graph by using the slider below. Look how the graph changes.\n",
    "\n",
    "Can you tell if there's an outlier when there's only a couple bins? How about when there's a lot of bins?"
   ]
  },
  {
   "cell_type": "code",
   "execution_count": 9,
   "metadata": {
    "tags": [
     "hide-input"
    ]
   },
   "outputs": [
    {
     "data": {
      "application/vnd.jupyter.widget-view+json": {
       "model_id": "a9692f3cf2d74d39b67116c7407ec0c7",
       "version_major": 2,
       "version_minor": 0
      },
      "text/plain": [
       "interactive(children=(IntSlider(value=50, description='num_bins'), Output()), _dom_classes=('widget-interact',…"
      ]
     },
     "metadata": {},
     "output_type": "display_data"
    }
   ],
   "source": [
    "def plotHistogram(x_values, num_bins, xLabel, yLabel, histTitle):\n",
    "    n, bins, patches = plt.hist(x_values, num_bins, facecolor='blue', alpha=0.5)\n",
    "\n",
    "    plt.xlabel(xLabel)\n",
    "    plt.ylabel(yLabel)\n",
    "    plt.title(histTitle)\n",
    "    plt.show()\n",
    "    \n",
    "def callPlottingFunction(num_bins):\n",
    "    print(\"Generating... plot for :\", num_bins)\n",
    "    #n, bins, patches = plt.hist(data, num_bins, facecolor='blue', alpha=0.5)\n",
    "    #plt.xlabel('Numberof values')\n",
    "    #plt.ylabel('Sodium Content')\n",
    "    #plt.title('Histogram of 30 products in Australian supermarkets')\n",
    "    #plt.show()\n",
    "    plotHistogram(OriginalData, num_bins , 'Sodium Content', 'values', 'Histogram of 30 products in Australian supermarkets')\n",
    "\n",
    "interact(callPlottingFunction, num_bins=widgets.IntSlider(min=0,max=100,step=1,value=50));"
   ]
  },
  {
   "cell_type": "markdown",
   "metadata": {},
   "source": [
    "When there are a lot of bins, it's really easy to see that there's an outlier. If we look at the data, we know that's soy sauce. So let's remove it and see how the central tendency is affected."
   ]
  },
  {
   "cell_type": "code",
   "execution_count": 10,
   "metadata": {
    "tags": [
     "hide-input"
    ]
   },
   "outputs": [
    {
     "name": "stdout",
     "output_type": "stream",
     "text": [
      "Mean:  508.857\n",
      "Median:  459.0\n",
      "Mode: 340 (appeared 2 times.)\n"
     ]
    },
    {
     "data": {
      "application/vnd.jupyter.widget-view+json": {
       "model_id": "7241022f676e43d2a4305395f826c164",
       "version_major": 2,
       "version_minor": 0
      },
      "text/plain": [
       "interactive(children=(IntSlider(value=50, description='num_bins'), Output()), _dom_classes=('widget-interact',…"
      ]
     },
     "metadata": {},
     "output_type": "display_data"
    }
   ],
   "source": [
    "dataWithoutOutlier = []\n",
    "with open('sources/exampleData_NoOutlier.csv', 'r') as f:\n",
    "    reader = csv.reader(f)\n",
    "    for row in reader:\n",
    "        dataWithoutOutlier.append(int(row[1]))\n",
    "#print(\"Sodium content read from the file: \", dataWithoutOutlier)\n",
    "\n",
    "centralTendencyWithoutOutlier = []\n",
    "centralTendencyWithoutOutlier = computeCenTendency(dataWithoutOutlier)\n",
    "\n",
    "def callPlottingFunctionNoOutlier(num_bins):\n",
    "    print(\"Generating... plot for :\", num_bins)\n",
    "    plotHistogram(dataWithoutOutlier, num_bins , 'Sodium Content', 'values', 'Histogram of 30 products in Australian supermarkets')\n",
    "\n",
    "interact(callPlottingFunctionNoOutlier, num_bins=widgets.IntSlider(min=0,max=100,step=1,value=50));"
   ]
  },
  {
   "cell_type": "markdown",
   "metadata": {},
   "source": [
    "Should soy sauce be excluded though? It is a common food that many people own, so it's not out of place in the data. It's just very salty.\n",
    "\n",
    "**An outlier should really be out of place in your data set, not just a large or small value.**\n",
    "\n",
    "-------"
   ]
  },
  {
   "cell_type": "markdown",
   "metadata": {},
   "source": [
    "#### Now try adding your own data points into this set. \n",
    "\n",
    "Try adding really big and/or really small numbers. You can also add many repeating numbers to change the mode. <br>\n",
    "**Restart**: press to remove all your outliers to start again.<br>\n",
    "**Add Outlier**: press to add a new outlier. You can add as many as you want. (value has to be less than 10,000) <br>\n",
    "**Compute**: press to calculate the central tendency and see a histogram of the dataset with your outlier(s).<br>\n",
    "**Compare**: press to see the central tendency before and after your outliers are added. How do your outliers change the central tendency?"
   ]
  },
  {
   "cell_type": "code",
   "execution_count": 11,
   "metadata": {
    "tags": [
     "hide-input"
    ]
   },
   "outputs": [
    {
     "data": {
      "application/vnd.jupyter.widget-view+json": {
       "model_id": "0ea67cc203a34f2ba4774ae54705364c",
       "version_major": 2,
       "version_minor": 0
      },
      "text/plain": [
       "Button(description='Restart', style=ButtonStyle())"
      ]
     },
     "metadata": {},
     "output_type": "display_data"
    },
    {
     "data": {
      "application/vnd.jupyter.widget-view+json": {
       "model_id": "73509f826b824d29894ed7b08118ab29",
       "version_major": 2,
       "version_minor": 0
      },
      "text/plain": [
       "Button(description='Add Outlier', style=ButtonStyle())"
      ]
     },
     "metadata": {},
     "output_type": "display_data"
    },
    {
     "data": {
      "application/vnd.jupyter.widget-view+json": {
       "model_id": "a2456d422b3c40579d4fc785bdf0c6a4",
       "version_major": 2,
       "version_minor": 0
      },
      "text/plain": [
       "Button(description='Calculate', style=ButtonStyle())"
      ]
     },
     "metadata": {},
     "output_type": "display_data"
    },
    {
     "data": {
      "application/vnd.jupyter.widget-view+json": {
       "model_id": "fbc43f4561ea4bcca7e1b77fbd5a560b",
       "version_major": 2,
       "version_minor": 0
      },
      "text/plain": [
       "Button(description='Compare', style=ButtonStyle())"
      ]
     },
     "metadata": {},
     "output_type": "display_data"
    },
    {
     "name": "stdout",
     "output_type": "stream",
     "text": [
      "Current Dataset:\n",
      "[190, 205, 250, 270, 290, 335, 340, 340, 355, 360, 380, 410, 450, 458, 460, 482, 510, 521, 530, 547, 590, 595, 600, 780, 843, 871, 1036, 1250]\n"
     ]
    }
   ],
   "source": [
    "global datasetWithOutlier\n",
    "global centralTendencyWithOutlier\n",
    "datasetWithOutlier = dataWithoutOutlier.copy()\n",
    "\n",
    "add = widgets.Button(description='Add Outlier',disabled=False,button_style='')\n",
    "remove = widgets.Button(description='Restart',disabled=False,button_style='')\n",
    "outlier = widgets.BoundedIntText(value=None,max=10000,description='Outlier:',disabled=False)\n",
    "compute = widgets.Button(description='Calculate',disabled=False,button_style='')\n",
    "compare = widgets.Button(description='Compare',disabled=False,button_style='')\n",
    "\n",
    "def displayButtons():\n",
    "    IPython.display.clear_output()\n",
    "    IPython.display.display(remove)\n",
    "    IPython.display.display(add)\n",
    "    IPython.display.display(compute)\n",
    "    IPython.display.display(compare)\n",
    "\n",
    "def addOutlier(a):\n",
    "    global datasetWithOutlier\n",
    "    IPython.display.clear_output()\n",
    "    IPython.display.display(remove)\n",
    "    IPython.display.display(add)\n",
    "    IPython.display.display(outlier)\n",
    "    IPython.display.display(compute)\n",
    "    IPython.display.display(compare)\n",
    "    datasetWithOutlier.append(outlier.value)\n",
    "    print(\"Current Dataset:\")\n",
    "    print(datasetWithOutlier)\n",
    "\n",
    "def showOutlier(a):\n",
    "    IPython.display.clear_output()\n",
    "    IPython.display.display(remove)\n",
    "    IPython.display.display(add)\n",
    "    IPython.display.display(outlier)\n",
    "    IPython.display.display(compute)\n",
    "    IPython.display.display(compare)\n",
    "    outlier.observe(addOutlier, 'value')\n",
    "    print(\"Current Dataset:\")\n",
    "    print(datasetWithOutlier)\n",
    "    \n",
    "def reset(a):\n",
    "    displayButtons()\n",
    "    datasetWithOutlier = dataWithoutOutlier.copy()\n",
    "    print(\"Current Dataset:\")\n",
    "    print(datasetWithOutlier)\n",
    "    \n",
    "def callPlottingFunctionWithOutlier(num_bins):\n",
    "    print(\"Generating... plot for :\", num_bins)\n",
    "    plotHistogram(datasetWithOutlier, num_bins, 'Sodium Content', 'values', 'Histogram with Outliers')\n",
    "\n",
    "def calculate(a):\n",
    "    global centralTendencyWithOutlier\n",
    "    centralTendencyWithOutlier = computeCenTendency(datasetWithOutlier)\n",
    "    print(centralTendencyWithOutlier)\n",
    "    interact(callPlottingFunctionWithOutlier, num_bins=widgets.IntSlider(min=0,max=100,step=1,value=50));\n",
    "    \n",
    "def compareTendencies(a):\n",
    "    centralTendencyWithoutOutlierArray = np.around(np.asarray(centralTendencyWithoutOutlier), 3)\n",
    "    centralTendencyWithOutlierArray = np.around(np.asarray(centralTendencyWithOutlier), 3) \n",
    "    arr = { 'Central Tendency ':  np.array(['Mean','Median','Mode' ]),\n",
    "            'Before adding outlier ':  np.array([centralTendencyWithoutOutlierArray[0],  centralTendencyWithoutOutlierArray[1], \n",
    "                                            centralTendencyWithoutOutlierArray[2] ]),\n",
    "            'After adding outlier ': np.array([centralTendencyWithOutlierArray[0], centralTendencyWithOutlierArray[1],\n",
    "                                           centralTendencyWithOutlierArray[2]])}\n",
    "    print(Table(arr))\n",
    "    \n",
    "\n",
    "displayButtons()\n",
    "print(\"Current Dataset:\")\n",
    "print(datasetWithOutlier)\n",
    "compare.on_click(compareTendencies)\n",
    "compute.on_click(calculate)\n",
    "add.on_click(showOutlier)\n",
    "remove.on_click(reset)\n"
   ]
  },
  {
   "cell_type": "markdown",
   "metadata": {},
   "source": [
    "### Effects of Outliers \n",
    "\n",
    "##### Mean\n",
    "From the above results and histogram, we see that adding outliers can change the mean dramatically.<br>\n",
    "This is because we need to add all the values to determine the mean value.<br>\n",
    "Outliers are often values that are much larger or smaller than the other values.<br>\n",
    "When we add these values to the sum, the average can change a lot.\n",
    "\n",
    "##### Median\n",
    "For the median, we need to consider the middle number(s).<br>\n",
    "Adding one outlier adds a single point at the far end of our data set, so everything else shifts over only one spot. <br>\n",
    "The median might change or might not.\n",
    "\n",
    "##### Mode\n",
    "The mode is very unlikely to change, because mode is the most repeated value.<br>\n",
    "Unless you add many outliers, all with the same value, the mode probably won't change.<br>\n",
    "And if there are multiple outliers with the same value, then maybe they should be kept in the dataset, they might be important.\n",
    "\n",
    "\n",
    "### What should we use to represent data?\n",
    "\n",
    "<img style=\"float: right;\" src=\"images/median-over-mean.jpg\" width=\"350\" height=\"200\">\n",
    "\n",
    "The reason we use central tendency is to tell important information about the data set we want to talk about. We want to know what this data is like without saying every value in the set. Usually mean is used to represent data as it is affected by all points, but that's not always a good thing. If there's an outlier in the data, maybe mean is not the best way to represent the middle of the data in general. Median might be a more truthful representation of the middle in that case. \n",
    "\n",
    "In the food data, we might want to represent how much sodium is in food we eat nearly every day. If we don't eat soy sauce often, then it would be an outlier. Then the mean will tell us we eat a lot more sodium every day than the median would tell us. If we use the mean to represent this data, someone could argue that we eat too much sodium. But its not true since we don't eat it often. So if we use the median to represent this data, we can still include soy sauce in the data, but it would represent what we eat more truthfully."
   ]
  },
  {
   "cell_type": "markdown",
   "metadata": {},
   "source": [
    "-------------- \n",
    "\n",
    "## Test yourself "
   ]
  },
  {
   "cell_type": "markdown",
   "metadata": {},
   "source": [
    "### Question 1\n",
    "\n",
    "The Purple Tornadoes played 8 games this season and these are their scores.<br>\n",
    "15, 10, 18, 11, 1, 18, 25, 12"
   ]
  },
  {
   "cell_type": "code",
   "execution_count": 12,
   "metadata": {
    "tags": [
     "hide-input"
    ]
   },
   "outputs": [
    {
     "name": "stdout",
     "output_type": "stream",
     "text": [
      "Which of these values could be outliers?\n"
     ]
    },
    {
     "data": {
      "application/vnd.jupyter.widget-view+json": {
       "model_id": "9026e12914f14c89b685daf8a3b4c1fa",
       "version_major": 2,
       "version_minor": 0
      },
      "text/plain": [
       "RadioButtons(description='Choices:', options=('25 and 18', '1', '25 and 1', '1 and 10', '25', 'None of these')…"
      ]
     },
     "metadata": {},
     "output_type": "display_data"
    }
   ],
   "source": [
    "answer642 = widgets.RadioButtons(options=['25 and 18', '1', '25 and 1', '1 and 10', '25', 'None of these'],\n",
    "                             value = None,  description='Choices:')\n",
    "\n",
    "question642 = \"Which of these values could be outliers?\"\n",
    "\n",
    "def check642(g):\n",
    "    IPython.display.clear_output(wait=False)\n",
    "    display(question642, answer642)\n",
    "    if answer642.value == '25 and 1':\n",
    "        print(\"That's right!\")\n",
    "    else:\n",
    "        print(\"Not quite. Try again.\")\n",
    "\n",
    "IPython.display.clear_output(wait=False)\n",
    "display(question642, answer642)\n",
    "answer642.observe(check642, 'value')"
   ]
  },
  {
   "cell_type": "code",
   "execution_count": 13,
   "metadata": {
    "tags": [
     "hide-input"
    ]
   },
   "outputs": [
    {
     "data": {
      "text/html": [
       "<html>\n",
       "<head>\n",
       "<script type=\"text/javascript\">\n",
       "<!--\n",
       "function toggle(id) {\n",
       "var e = document.getElementById(id);\n",
       "if(e.style.display == 'none')\n",
       "e.style.display = 'block';\n",
       "else\n",
       "e.style.display = 'none';\n",
       "}\n",
       "//-->\n",
       "</script>\n",
       "</head>\n",
       "\n",
       "<body>\n",
       "<div id=\"question642\">\n",
       " <button id = \"642\"\n",
       "onclick=\"toggle('answer642');\">Solution</button> \n",
       "</div>\n",
       "<div style=\"display:none\" id=\"answer642\">\n",
       "Outliers are values which are much bigger or smaller than the rest of the data.<br />\n",
       "Since there is only one value in the 20s, which is 25, that might be an outlier.<br/>\n",
       "Also there is only one value less than 10, which is 1, so that might also be an outlier.<br/>\n",
       "\n",
       "Everything else is pretty close together.<br>\n",
       "<br>\n",
       "We do not know for sure if these are real outliers, but they could be, so we call them potential outliers. <br>\n",
       "\n",
       "</div>\n",
       "\n",
       "</body>\n",
       "</html>\n"
      ],
      "text/plain": [
       "<IPython.core.display.HTML object>"
      ]
     },
     "metadata": {},
     "output_type": "display_data"
    }
   ],
   "source": [
    "%%html\n",
    "<html>\n",
    "<head>\n",
    "<script type=\"text/javascript\">\n",
    "<!--\n",
    "function toggle(id) {\n",
    "var e = document.getElementById(id);\n",
    "if(e.style.display == 'none')\n",
    "e.style.display = 'block';\n",
    "else\n",
    "e.style.display = 'none';\n",
    "}\n",
    "//-->\n",
    "</script>\n",
    "</head>\n",
    "\n",
    "<body>\n",
    "<div id=\"question642\">\n",
    " <button id = \"642\"\n",
    "onclick=\"toggle('answer642');\">Solution</button> \n",
    "</div>\n",
    "<div style=\"display:none\" id=\"answer642\">\n",
    "Outliers are values which are much bigger or smaller than the rest of the data.<br />\n",
    "Since there is only one value in the 20s, which is 25, that might be an outlier.<br/>\n",
    "Also there is only one value less than 10, which is 1, so that might also be an outlier.<br/>\n",
    "\n",
    "Everything else is pretty close together.<br>\n",
    "<br>\n",
    "We do not know for sure if these are real outliers, but they could be, so we call them potential outliers. <br>\n",
    "\n",
    "</div>\n",
    "\n",
    "</body>\n",
    "</html>"
   ]
  },
  {
   "cell_type": "markdown",
   "metadata": {},
   "source": [
    "### Question 2\n",
    "\n",
    "Sam's class recorded the height of 10 the students in the class in centimeters. This is the data they got:<br>\n",
    "120, 125, 133, 146, 180, 152, 154, 138, 122, 140<br>\n",
    "The current mean height of these 10 students is 141 cm.<br>\n",
    "The current median height is 139 cm. <br>"
   ]
  },
  {
   "cell_type": "code",
   "execution_count": 14,
   "metadata": {
    "tags": [
     "hide-input"
    ]
   },
   "outputs": [
    {
     "name": "stdout",
     "output_type": "stream",
     "text": [
      " If we say that 180 cm is an outlier, what will happen to the central tendency?\n"
     ]
    },
    {
     "data": {
      "application/vnd.jupyter.widget-view+json": {
       "model_id": "1e5bc14bd58548dbb568223832dbb41a",
       "version_major": 2,
       "version_minor": 0
      },
      "text/plain": [
       "RadioButtons(description='Choices:', options=('mean will increase', 'median will stay the same', 'mean will de…"
      ]
     },
     "metadata": {},
     "output_type": "display_data"
    }
   ],
   "source": [
    "question611 = \" If we say that 180 cm is an outlier, what will happen to the central tendency?\"\n",
    "answer611 = widgets.RadioButtons(options=['mean will increase', 'median will stay the same', 'mean will decrease', 'None of the above'],\n",
    "                             value= None, description='Choices:')\n",
    "\n",
    "\n",
    "def checkAnswer(a):\n",
    "    IPython.display.clear_output(wait=False)\n",
    "    display(question611, answer611)\n",
    "    if answer611.value == 'mean will decrease':\n",
    "        print(\"Correct Answer!\")\n",
    "    else:\n",
    "        print(\"Sorry, that's not right! Try again.\")\n",
    "\n",
    "display(question611, answer611)\n",
    "\n",
    "answer611.observe(checkAnswer, 'value')"
   ]
  },
  {
   "cell_type": "code",
   "execution_count": 15,
   "metadata": {
    "tags": [
     "hide-input"
    ]
   },
   "outputs": [
    {
     "data": {
      "text/html": [
       "<html>\n",
       "<head>\n",
       "<script type=\"text/javascript\">\n",
       "\n",
       "<!--\n",
       "function toggle(id) {\n",
       "var e = document.getElementById(id);\n",
       "if(e.style.display == 'none')\n",
       "e.style.display = 'block';\n",
       "else\n",
       "e.style.display = 'none';\n",
       "}\n",
       "//-->\n",
       "</script>\n",
       "</head>\n",
       "\n",
       "<body>\n",
       "<div id=\"question611\">\n",
       " <button id = \"611\"\n",
       "onclick=\"toggle('answer611');\">Solution</button> \n",
       "</div>\n",
       "<div style=\"display:none\" id=\"answer611\">\n",
       "Since we are saying that the outlier is 180 cm and that is larger than the rest of the data, the mean will decrease.  <br/>\n",
       "If the outlier was smaller than the rest of the data, the mean would increase. <br/>\n",
       "<br/>\n",
       "Since there was 10 values, the median was the average between the 5th and 6th values when the list is sorted. <br/>\n",
       "But if we remove one value, then the median will become the 5th value which is smaller than the average of the 5th and 6th values. <br/>\n",
       "This is only because those 2 values are not the same number, or else the median would stay the same.\n",
       "\n",
       "\n",
       "</div>\n",
       "\n",
       "</body>\n",
       "</html>\n"
      ],
      "text/plain": [
       "<IPython.core.display.HTML object>"
      ]
     },
     "metadata": {},
     "output_type": "display_data"
    }
   ],
   "source": [
    "%%HTML\n",
    "<html>\n",
    "<head>\n",
    "<script type=\"text/javascript\">\n",
    "\n",
    "<!--\n",
    "function toggle(id) {\n",
    "var e = document.getElementById(id);\n",
    "if(e.style.display == 'none')\n",
    "e.style.display = 'block';\n",
    "else\n",
    "e.style.display = 'none';\n",
    "}\n",
    "//-->\n",
    "</script>\n",
    "</head>\n",
    "\n",
    "<body>\n",
    "<div id=\"question611\">\n",
    " <button id = \"611\"\n",
    "onclick=\"toggle('answer611');\">Solution</button> \n",
    "</div>\n",
    "<div style=\"display:none\" id=\"answer611\">\n",
    "Since we are saying that the outlier is 180 cm and that is larger than the rest of the data, the mean will decrease.  <br/>\n",
    "If the outlier was smaller than the rest of the data, the mean would increase. <br/>\n",
    "<br/>\n",
    "Since there was 10 values, the median was the average between the 5th and 6th values when the list is sorted. <br/>\n",
    "But if we remove one value, then the median will become the 5th value which is smaller than the average of the 5th and 6th values. <br/>\n",
    "This is only because those 2 values are not the same number, or else the median would stay the same.\n",
    "\n",
    "\n",
    "</div>\n",
    "\n",
    "</body>\n",
    "</html>"
   ]
  },
  {
   "cell_type": "markdown",
   "metadata": {},
   "source": [
    "### Question 3\n",
    "\n",
    "A teacher collected the grades of one test and these are the results:\n",
    "100, 78, 98, 78, 78, 75, 55, 86, 100.\n",
    "\n",
    "Also 4 students missed the test so they got a grade of zero."
   ]
  },
  {
   "cell_type": "code",
   "execution_count": 16,
   "metadata": {
    "tags": [
     "hide-input"
    ]
   },
   "outputs": [
    {
     "name": "stdout",
     "output_type": "stream",
     "text": [
      " What is the mode grade for all the students in the test? \n"
     ]
    },
    {
     "data": {
      "application/vnd.jupyter.widget-view+json": {
       "model_id": "aaedb0dd2fe044c58ee9f46409104c5b",
       "version_major": 2,
       "version_minor": 0
      },
      "text/plain": [
       "RadioButtons(description='Choices:', options=('78', '100', '0', '78 and 100', 'There is none'), value=None)"
      ]
     },
     "metadata": {},
     "output_type": "display_data"
    }
   ],
   "source": [
    "question612 = \" What is the mode grade for all the students in the test? \"\n",
    "\n",
    "answer612 = widgets.RadioButtons(options=['78', '100', '0', '78 and 100', 'There is none'],\n",
    "                              value = None, description='Choices:')\n",
    "\n",
    "def check612(b):\n",
    "    IPython.display.clear_output(wait=False)\n",
    "    display(question612, answer612)\n",
    "    if answer612.value == '0':\n",
    "        print(\"That's right!\")\n",
    "    else:\n",
    "         print(\"Sorry, that's not right, try again. Don't forget the mode is the value that repeats the most.\")\n",
    "\n",
    "IPython.display.clear_output(wait=False)\n",
    "display(question612, answer612)\n",
    "answer612.observe(check612, 'value')"
   ]
  },
  {
   "cell_type": "code",
   "execution_count": 17,
   "metadata": {
    "tags": [
     "hide-input"
    ]
   },
   "outputs": [
    {
     "data": {
      "text/html": [
       "<html>\n",
       "<head>\n",
       "<script type=\"text/javascript\">\n",
       "<!--\n",
       "function toggle(id) {\n",
       "var e = document.getElementById(id);\n",
       "if(e.style.display == 'none')\n",
       "e.style.display = 'block';\n",
       "else\n",
       "e.style.display = 'none';\n",
       "}\n",
       "//-->\n",
       "</script>\n",
       "</head>\n",
       "\n",
       "<body>\n",
       "<div id=\"question612\">\n",
       " <button id = \"612\"\n",
       "onclick=\"toggle('answer612');\">Solution</button> \n",
       "</div>\n",
       "<div style=\"display:none\" id=\"answer612\">\n",
       "Since there is 3 78s, you might think that 78 would be the mode. <br/>\n",
       "But we are also counting the 4 studetns who got a zero. <br/>\n",
       "Therefore theres 4 zeros in the dataset, so the mode is 0. <br/>\n",
       "\n",
       "\n",
       "</div>\n",
       "\n",
       "</body>\n",
       "</html>\n"
      ],
      "text/plain": [
       "<IPython.core.display.HTML object>"
      ]
     },
     "metadata": {},
     "output_type": "display_data"
    }
   ],
   "source": [
    "%%html\n",
    "<html>\n",
    "<head>\n",
    "<script type=\"text/javascript\">\n",
    "<!--\n",
    "function toggle(id) {\n",
    "var e = document.getElementById(id);\n",
    "if(e.style.display == 'none')\n",
    "e.style.display = 'block';\n",
    "else\n",
    "e.style.display = 'none';\n",
    "}\n",
    "//-->\n",
    "</script>\n",
    "</head>\n",
    "\n",
    "<body>\n",
    "<div id=\"question612\">\n",
    " <button id = \"612\"\n",
    "onclick=\"toggle('answer612');\">Solution</button> \n",
    "</div>\n",
    "<div style=\"display:none\" id=\"answer612\">\n",
    "Since there is 3 78s, you might think that 78 would be the mode. <br/>\n",
    "But we are also counting the 4 studetns who got a zero. <br/>\n",
    "Therefore theres 4 zeros in the dataset, so the mode is 0. <br/>\n",
    "\n",
    "\n",
    "</div>\n",
    "\n",
    "</body>\n",
    "</html>"
   ]
  },
  {
   "cell_type": "code",
   "execution_count": 18,
   "metadata": {
    "tags": [
     "hide-input"
    ]
   },
   "outputs": [
    {
     "name": "stdout",
     "output_type": "stream",
     "text": [
      "If we don't count the students who missed the test, does the mode change? If so, to what?\n"
     ]
    },
    {
     "data": {
      "application/vnd.jupyter.widget-view+json": {
       "model_id": "0e224c156837402ea1f892cd471530c8",
       "version_major": 2,
       "version_minor": 0
      },
      "text/plain": [
       "RadioButtons(description='Choices:', options=('Yes, to 100', 'Yes, to 78', 'Yes, to 0', 'No, it stays the same…"
      ]
     },
     "metadata": {},
     "output_type": "display_data"
    }
   ],
   "source": [
    "answer613 = widgets.RadioButtons(options=['Yes, to 100', 'Yes, to 78', 'Yes, to 0', 'No, it stays the same'],\n",
    "                             value =None, description='Choices:')\n",
    "\n",
    "question613 = \"If we don't count the students who missed the test, does the mode change? If so, to what?\"\n",
    "\n",
    "def check613(e):\n",
    "    IPython.display.clear_output(wait=False)\n",
    "    display(question613, answer613)\n",
    "    if answer613.value == 'Yes, to 78':\n",
    "        print(\"You are correct!\")\n",
    "    else:\n",
    "        print(\"Not quite, Try again.\")\n",
    "        \n",
    "IPython.display.clear_output(wait=False)\n",
    "display(question613, answer613)\n",
    "answer613.observe(check613, 'value')"
   ]
  },
  {
   "cell_type": "code",
   "execution_count": 19,
   "metadata": {
    "tags": [
     "hide-input"
    ]
   },
   "outputs": [
    {
     "data": {
      "text/html": [
       "<html>\n",
       "<head>\n",
       "<script type=\"text/javascript\">\n",
       "<!--\n",
       "function toggle(id) {\n",
       "var e = document.getElementById(id);\n",
       "if(e.style.display == 'none')\n",
       "e.style.display = 'block';\n",
       "else\n",
       "e.style.display = 'none';\n",
       "}\n",
       "//-->\n",
       "</script>\n",
       "</head>\n",
       "\n",
       "<body>\n",
       "<div id=\"question613\">\n",
       " <button id = \"613\"\n",
       "onclick=\"toggle('answer613');\">Solution</button> \n",
       "</div>\n",
       "<div style=\"display:none\" id=\"answer613\">\n",
       "\n",
       "When we remove the students who missed the test, since they made the mode 0, the mode will definitely change. <br />\n",
       "Since there is 3 78s and only 2 100s, the new mode will be 78. <br/>\n",
       "If there were 3 100s, then the mode would change to 78 and 100.\n",
       "\n",
       "</div>\n",
       "\n",
       "</body>\n",
       "</html>\n"
      ],
      "text/plain": [
       "<IPython.core.display.HTML object>"
      ]
     },
     "metadata": {},
     "output_type": "display_data"
    }
   ],
   "source": [
    "%%html\n",
    "<html>\n",
    "<head>\n",
    "<script type=\"text/javascript\">\n",
    "<!--\n",
    "function toggle(id) {\n",
    "var e = document.getElementById(id);\n",
    "if(e.style.display == 'none')\n",
    "e.style.display = 'block';\n",
    "else\n",
    "e.style.display = 'none';\n",
    "}\n",
    "//-->\n",
    "</script>\n",
    "</head>\n",
    "\n",
    "<body>\n",
    "<div id=\"question613\">\n",
    " <button id = \"613\"\n",
    "onclick=\"toggle('answer613');\">Solution</button> \n",
    "</div>\n",
    "<div style=\"display:none\" id=\"answer613\">\n",
    "\n",
    "When we remove the students who missed the test, since they made the mode 0, the mode will definitely change. <br />\n",
    "Since there is 3 78s and only 2 100s, the new mode will be 78. <br/>\n",
    "If there were 3 100s, then the mode would change to 78 and 100.\n",
    "\n",
    "</div>\n",
    "\n",
    "</body>\n",
    "</html>"
   ]
  },
  {
   "cell_type": "markdown",
   "metadata": {},
   "source": [
    "### Extra Hard Question\n",
    "\n",
    "A student has gotten the following marks on his tests: 87, 95, 76, and 88. He wants a mean that is at least 85 and only has one more test."
   ]
  },
  {
   "cell_type": "code",
   "execution_count": 20,
   "metadata": {
    "tags": [
     "hide-input"
    ]
   },
   "outputs": [
    {
     "name": "stdout",
     "output_type": "stream",
     "text": [
      "What is the minimum mark he must get on the last test in order to achieve that average?\n"
     ]
    },
    {
     "data": {
      "application/vnd.jupyter.widget-view+json": {
       "model_id": "21c8982a383642128a4db45ac4d691ae",
       "version_major": 2,
       "version_minor": 0
      },
      "text/plain": [
       "RadioButtons(description='Choices:', options=('60', '70', '80', '90'), value=None)"
      ]
     },
     "metadata": {},
     "output_type": "display_data"
    }
   ],
   "source": [
    "answer631 = widgets.RadioButtons(options=['60', '70', '80', '90'],\n",
    "                             value =None, description='Choices:')\n",
    "\n",
    "question631 = \"What is the minimum mark he must get on the last test in order to achieve that average?\"\n",
    "\n",
    "def check631(e):\n",
    "    IPython.display.clear_output(wait=False)\n",
    "    display(question631, answer631)\n",
    "    if answer631.value == '80':\n",
    "        print(\"Correct Answer!\")\n",
    "    else:\n",
    "        print(\"Wrong answer! Try again.\")\n",
    "        \n",
    "IPython.display.clear_output(wait=False)\n",
    "display(question631, answer631)\n",
    "answer631.observe(check631, 'value')"
   ]
  },
  {
   "cell_type": "code",
   "execution_count": 21,
   "metadata": {
    "tags": [
     "hide-input"
    ]
   },
   "outputs": [
    {
     "data": {
      "text/html": [
       "<html>\n",
       "<head>\n",
       "<script type=\"text/javascript\">\n",
       "<!--\n",
       "function toggle(id) {\n",
       "var e = document.getElementById(id);\n",
       "if(e.style.display == 'none')\n",
       "e.style.display = 'block';\n",
       "else\n",
       "e.style.display = 'none';\n",
       "}\n",
       "//-->\n",
       "</script>\n",
       "</head>\n",
       "\n",
       "<body>\n",
       "<div id=\"question631\">\n",
       " <button id = \"631\"\n",
       "onclick=\"toggle('answer631');\">Solution</button> \n",
       "</div>\n",
       "<div style=\"display:none\" id=\"answer631\">\n",
       "To find which mark he needs, we can just try these 4 numbers and see how the mean changes.</br>\n",
       "First, if he got 60 on the last test, his new mean would be:</br>\n",
       "(87 + 95 + 76 + 88 + 60) ÷ 5 = 81.2 </br>\n",
       "Getting a 60 would mean he finished with an average of 81.2, so he needs something higher than that.</br>\n",
       "Now what if he got 70 on the last test? The new mean would be:</br>\n",
       "(87 + 95 + 76 + 88 + 70) ÷ 5 = 83.2 </br>\n",
       "Getting a 70 would bring the average closer to 85 than getting a 60, but still not there.</br>\n",
       "How about if he got 80 on the last test? The new mean would be:</br>\n",
       "(87 + 95 + 76 + 88 + 80) ÷ 5 = 85.2 </br>\n",
       "Getting an 80 would bring his average us past 85!</br>\n",
       "<b>And since the next option is larger than 80, this is the smallest mark he would need to finish with 85.</b></br>\n",
       "We can still check what the mean would be if he got 90:</br>\n",
       "(87 + 95 + 76 + 88 + 90) ÷ 5 = 87.2 </br>\n",
       "Getting a 90 would be even better for the final mean, but he does not have to get 90 to finsih with at least 85.</br>\n",
       "</br>\n",
       "**You can use this with your own grades too to see how future tests can effect your final grade, if you want.\n",
       "</div>\n",
       "\n",
       "</body>\n",
       "</html>\n"
      ],
      "text/plain": [
       "<IPython.core.display.HTML object>"
      ]
     },
     "metadata": {},
     "output_type": "display_data"
    }
   ],
   "source": [
    "%%html\n",
    "<html>\n",
    "<head>\n",
    "<script type=\"text/javascript\">\n",
    "<!--\n",
    "function toggle(id) {\n",
    "var e = document.getElementById(id);\n",
    "if(e.style.display == 'none')\n",
    "e.style.display = 'block';\n",
    "else\n",
    "e.style.display = 'none';\n",
    "}\n",
    "//-->\n",
    "</script>\n",
    "</head>\n",
    "\n",
    "<body>\n",
    "<div id=\"question631\">\n",
    " <button id = \"631\"\n",
    "onclick=\"toggle('answer631');\">Solution</button> \n",
    "</div>\n",
    "<div style=\"display:none\" id=\"answer631\">\n",
    "To find which mark he needs, we can just try these 4 numbers and see how the mean changes.</br>\n",
    "First, if he got 60 on the last test, his new mean would be:</br>\n",
    "(87 + 95 + 76 + 88 + 60) ÷ 5 = 81.2 </br>\n",
    "Getting a 60 would mean he finished with an average of 81.2, so he needs something higher than that.</br>\n",
    "Now what if he got 70 on the last test? The new mean would be:</br>\n",
    "(87 + 95 + 76 + 88 + 70) ÷ 5 = 83.2 </br>\n",
    "Getting a 70 would bring the average closer to 85 than getting a 60, but still not there.</br>\n",
    "How about if he got 80 on the last test? The new mean would be:</br>\n",
    "(87 + 95 + 76 + 88 + 80) ÷ 5 = 85.2 </br>\n",
    "Getting an 80 would bring his average us past 85!</br>\n",
    "<b>And since the next option is larger than 80, this is the smallest mark he would need to finish with 85.</b></br>\n",
    "We can still check what the mean would be if he got 90:</br>\n",
    "(87 + 95 + 76 + 88 + 90) ÷ 5 = 87.2 </br>\n",
    "Getting a 90 would be even better for the final mean, but he does not have to get 90 to finsih with at least 85.</br>\n",
    "</br>\n",
    "**You can use this with your own grades too to see how future tests can effect your final grade, if you want.\n",
    "</div>\n",
    "\n",
    "</body>\n",
    "</html>"
   ]
  },
  {
   "cell_type": "markdown",
   "metadata": {},
   "source": [
    "## Conclusion\n",
    "\n",
    "In this notebook, we learned how an outlier affects central tendency. \n",
    "\n",
    "When an outlier is added to (or removed from) a data set:\n",
    "* Mean changes the most \n",
    "* Median changes a little bit\n",
    "* Mode doesn't change unless there are multiple outliers with the same value\n",
    "\n",
    "Also, not all larger or smaller values should be called outliers and excluded from data. That depends more on context if some is given. "
   ]
  },
  {
   "cell_type": "markdown",
   "metadata": {},
   "source": [
    "[![Callysto.ca License](https://github.com/callysto/curriculum-notebooks/blob/master/callysto-notebook-banner-bottom.jpg?raw=true)](https://github.com/callysto/curriculum-notebooks/blob/master/LICENSE.md)"
   ]
  }
 ],
 "metadata": {
  "celltoolbar": "Edit Metadata",
  "kernelspec": {
   "display_name": "Python 3",
   "language": "python",
   "name": "python3"
  },
  "language_info": {
   "codemirror_mode": {
    "name": "ipython",
    "version": 3
   },
   "file_extension": ".py",
   "mimetype": "text/x-python",
   "name": "python",
   "nbconvert_exporter": "python",
   "pygments_lexer": "ipython3",
   "version": "3.7.4"
  },
  "widgets": {
   "application/vnd.jupyter.widget-state+json": {
    "state": {
     "05e444b7527d4c79826b71649589a82a": {
      "model_module": "@jupyter-widgets/base",
      "model_module_version": "1.2.0",
      "model_name": "LayoutModel",
      "state": {
       "_model_module": "@jupyter-widgets/base",
       "_model_module_version": "1.2.0",
       "_model_name": "LayoutModel",
       "_view_count": null,
       "_view_module": "@jupyter-widgets/base",
       "_view_module_version": "1.2.0",
       "_view_name": "LayoutView",
       "align_content": null,
       "align_items": null,
       "align_self": null,
       "border": null,
       "bottom": null,
       "display": null,
       "flex": null,
       "flex_flow": null,
       "grid_area": null,
       "grid_auto_columns": null,
       "grid_auto_flow": null,
       "grid_auto_rows": null,
       "grid_column": null,
       "grid_gap": null,
       "grid_row": null,
       "grid_template_areas": null,
       "grid_template_columns": null,
       "grid_template_rows": null,
       "height": null,
       "justify_content": null,
       "justify_items": null,
       "left": null,
       "margin": null,
       "max_height": null,
       "max_width": null,
       "min_height": null,
       "min_width": null,
       "object_fit": null,
       "object_position": null,
       "order": null,
       "overflow": null,
       "overflow_x": null,
       "overflow_y": null,
       "padding": null,
       "right": null,
       "top": null,
       "visibility": null,
       "width": null
      }
     },
     "0e224c156837402ea1f892cd471530c8": {
      "model_module": "@jupyter-widgets/controls",
      "model_module_version": "1.5.0",
      "model_name": "RadioButtonsModel",
      "state": {
       "_dom_classes": [],
       "_model_module": "@jupyter-widgets/controls",
       "_model_module_version": "1.5.0",
       "_model_name": "RadioButtonsModel",
       "_options_labels": [
        "Yes, to 100",
        "Yes, to 78",
        "Yes, to 0",
        "No, it stays the same"
       ],
       "_view_count": null,
       "_view_module": "@jupyter-widgets/controls",
       "_view_module_version": "1.5.0",
       "_view_name": "RadioButtonsView",
       "description": "Choices:",
       "description_tooltip": null,
       "disabled": false,
       "index": null,
       "layout": "IPY_MODEL_05e444b7527d4c79826b71649589a82a",
       "style": "IPY_MODEL_cf2857e8637f4bed89071828084d11ac"
      }
     },
     "0ea67cc203a34f2ba4774ae54705364c": {
      "model_module": "@jupyter-widgets/controls",
      "model_module_version": "1.5.0",
      "model_name": "ButtonModel",
      "state": {
       "_dom_classes": [],
       "_model_module": "@jupyter-widgets/controls",
       "_model_module_version": "1.5.0",
       "_model_name": "ButtonModel",
       "_view_count": null,
       "_view_module": "@jupyter-widgets/controls",
       "_view_module_version": "1.5.0",
       "_view_name": "ButtonView",
       "button_style": "",
       "description": "Restart",
       "disabled": false,
       "icon": "",
       "layout": "IPY_MODEL_41265002969642d6873572b6fa00b8dd",
       "style": "IPY_MODEL_48b29c80fb4e4cefb035d736f31747c8",
       "tooltip": ""
      }
     },
     "109a49ce604b4f29a27052eeb9caf97d": {
      "model_module": "@jupyter-widgets/base",
      "model_module_version": "1.2.0",
      "model_name": "LayoutModel",
      "state": {
       "_model_module": "@jupyter-widgets/base",
       "_model_module_version": "1.2.0",
       "_model_name": "LayoutModel",
       "_view_count": null,
       "_view_module": "@jupyter-widgets/base",
       "_view_module_version": "1.2.0",
       "_view_name": "LayoutView",
       "align_content": null,
       "align_items": null,
       "align_self": null,
       "border": null,
       "bottom": null,
       "display": null,
       "flex": null,
       "flex_flow": null,
       "grid_area": null,
       "grid_auto_columns": null,
       "grid_auto_flow": null,
       "grid_auto_rows": null,
       "grid_column": null,
       "grid_gap": null,
       "grid_row": null,
       "grid_template_areas": null,
       "grid_template_columns": null,
       "grid_template_rows": null,
       "height": null,
       "justify_content": null,
       "justify_items": null,
       "left": null,
       "margin": null,
       "max_height": null,
       "max_width": null,
       "min_height": null,
       "min_width": null,
       "object_fit": null,
       "object_position": null,
       "order": null,
       "overflow": null,
       "overflow_x": null,
       "overflow_y": null,
       "padding": null,
       "right": null,
       "top": null,
       "visibility": null,
       "width": null
      }
     },
     "14cdf3e390d3440aa4074094cc7bec74": {
      "model_module": "@jupyter-widgets/base",
      "model_module_version": "1.2.0",
      "model_name": "LayoutModel",
      "state": {
       "_model_module": "@jupyter-widgets/base",
       "_model_module_version": "1.2.0",
       "_model_name": "LayoutModel",
       "_view_count": null,
       "_view_module": "@jupyter-widgets/base",
       "_view_module_version": "1.2.0",
       "_view_name": "LayoutView",
       "align_content": null,
       "align_items": null,
       "align_self": null,
       "border": null,
       "bottom": null,
       "display": null,
       "flex": null,
       "flex_flow": null,
       "grid_area": null,
       "grid_auto_columns": null,
       "grid_auto_flow": null,
       "grid_auto_rows": null,
       "grid_column": null,
       "grid_gap": null,
       "grid_row": null,
       "grid_template_areas": null,
       "grid_template_columns": null,
       "grid_template_rows": null,
       "height": null,
       "justify_content": null,
       "justify_items": null,
       "left": null,
       "margin": null,
       "max_height": null,
       "max_width": null,
       "min_height": null,
       "min_width": null,
       "object_fit": null,
       "object_position": null,
       "order": null,
       "overflow": null,
       "overflow_x": null,
       "overflow_y": null,
       "padding": null,
       "right": null,
       "top": null,
       "visibility": null,
       "width": null
      }
     },
     "15451094950345b6b03aaf17dd66dad6": {
      "model_module": "@jupyter-widgets/base",
      "model_module_version": "1.2.0",
      "model_name": "LayoutModel",
      "state": {
       "_model_module": "@jupyter-widgets/base",
       "_model_module_version": "1.2.0",
       "_model_name": "LayoutModel",
       "_view_count": null,
       "_view_module": "@jupyter-widgets/base",
       "_view_module_version": "1.2.0",
       "_view_name": "LayoutView",
       "align_content": null,
       "align_items": null,
       "align_self": null,
       "border": null,
       "bottom": null,
       "display": null,
       "flex": null,
       "flex_flow": null,
       "grid_area": null,
       "grid_auto_columns": null,
       "grid_auto_flow": null,
       "grid_auto_rows": null,
       "grid_column": null,
       "grid_gap": null,
       "grid_row": null,
       "grid_template_areas": null,
       "grid_template_columns": null,
       "grid_template_rows": null,
       "height": null,
       "justify_content": null,
       "justify_items": null,
       "left": null,
       "margin": null,
       "max_height": null,
       "max_width": null,
       "min_height": null,
       "min_width": null,
       "object_fit": null,
       "object_position": null,
       "order": null,
       "overflow": null,
       "overflow_x": null,
       "overflow_y": null,
       "padding": null,
       "right": null,
       "top": null,
       "visibility": null,
       "width": null
      }
     },
     "16a03fd4bf5049709581bfaf8a385e7f": {
      "model_module": "@jupyter-widgets/base",
      "model_module_version": "1.2.0",
      "model_name": "LayoutModel",
      "state": {
       "_model_module": "@jupyter-widgets/base",
       "_model_module_version": "1.2.0",
       "_model_name": "LayoutModel",
       "_view_count": null,
       "_view_module": "@jupyter-widgets/base",
       "_view_module_version": "1.2.0",
       "_view_name": "LayoutView",
       "align_content": null,
       "align_items": null,
       "align_self": null,
       "border": null,
       "bottom": null,
       "display": null,
       "flex": null,
       "flex_flow": null,
       "grid_area": null,
       "grid_auto_columns": null,
       "grid_auto_flow": null,
       "grid_auto_rows": null,
       "grid_column": null,
       "grid_gap": null,
       "grid_row": null,
       "grid_template_areas": null,
       "grid_template_columns": null,
       "grid_template_rows": null,
       "height": null,
       "justify_content": null,
       "justify_items": null,
       "left": null,
       "margin": null,
       "max_height": null,
       "max_width": null,
       "min_height": null,
       "min_width": null,
       "object_fit": null,
       "object_position": null,
       "order": null,
       "overflow": null,
       "overflow_x": null,
       "overflow_y": null,
       "padding": null,
       "right": null,
       "top": null,
       "visibility": null,
       "width": null
      }
     },
     "1b4292f6b85c4db8bfcff7c23299babf": {
      "model_module": "@jupyter-widgets/controls",
      "model_module_version": "1.5.0",
      "model_name": "RadioButtonsModel",
      "state": {
       "_dom_classes": [],
       "_model_module": "@jupyter-widgets/controls",
       "_model_module_version": "1.5.0",
       "_model_name": "RadioButtonsModel",
       "_options_labels": [
        "Yes",
        "No"
       ],
       "_view_count": null,
       "_view_module": "@jupyter-widgets/controls",
       "_view_module_version": "1.5.0",
       "_view_name": "RadioButtonsView",
       "description": "",
       "description_tooltip": null,
       "disabled": false,
       "index": null,
       "layout": "IPY_MODEL_16a03fd4bf5049709581bfaf8a385e7f",
       "style": "IPY_MODEL_5dde39ab82f6424f861ea3f25686b49f"
      }
     },
     "1e5bc14bd58548dbb568223832dbb41a": {
      "model_module": "@jupyter-widgets/controls",
      "model_module_version": "1.5.0",
      "model_name": "RadioButtonsModel",
      "state": {
       "_dom_classes": [],
       "_model_module": "@jupyter-widgets/controls",
       "_model_module_version": "1.5.0",
       "_model_name": "RadioButtonsModel",
       "_options_labels": [
        "mean will increase",
        "median will stay the same",
        "mean will decrease",
        "None of the above"
       ],
       "_view_count": null,
       "_view_module": "@jupyter-widgets/controls",
       "_view_module_version": "1.5.0",
       "_view_name": "RadioButtonsView",
       "description": "Choices:",
       "description_tooltip": null,
       "disabled": false,
       "index": null,
       "layout": "IPY_MODEL_2689911f58a54513871f7553472a7260",
       "style": "IPY_MODEL_e4b83437423340e39904cac740ebab76"
      }
     },
     "206e36d8777f4bc4b3e7004e8f5f2bdc": {
      "model_module": "@jupyter-widgets/output",
      "model_module_version": "1.0.0",
      "model_name": "OutputModel",
      "state": {
       "_dom_classes": [],
       "_model_module": "@jupyter-widgets/output",
       "_model_module_version": "1.0.0",
       "_model_name": "OutputModel",
       "_view_count": null,
       "_view_module": "@jupyter-widgets/output",
       "_view_module_version": "1.0.0",
       "_view_name": "OutputView",
       "layout": "IPY_MODEL_e161792b9f9c4e30834edf73b3a39c01",
       "msg_id": "",
       "outputs": [
        {
         "name": "stdout",
         "output_type": "stream",
         "text": "Generating... plot for : 50\n"
        },
        {
         "data": {
          "image/png": "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\n",
          "text/plain": "<Figure size 432x288 with 1 Axes>"
         },
         "metadata": {
          "needs_background": "light"
         },
         "output_type": "display_data"
        }
       ]
      }
     },
     "2141b2c8b39040ab855d8753180e8401": {
      "model_module": "@jupyter-widgets/controls",
      "model_module_version": "1.5.0",
      "model_name": "DescriptionStyleModel",
      "state": {
       "_model_module": "@jupyter-widgets/controls",
       "_model_module_version": "1.5.0",
       "_model_name": "DescriptionStyleModel",
       "_view_count": null,
       "_view_module": "@jupyter-widgets/base",
       "_view_module_version": "1.2.0",
       "_view_name": "StyleView",
       "description_width": ""
      }
     },
     "21c8982a383642128a4db45ac4d691ae": {
      "model_module": "@jupyter-widgets/controls",
      "model_module_version": "1.5.0",
      "model_name": "RadioButtonsModel",
      "state": {
       "_dom_classes": [],
       "_model_module": "@jupyter-widgets/controls",
       "_model_module_version": "1.5.0",
       "_model_name": "RadioButtonsModel",
       "_options_labels": [
        "60",
        "70",
        "80",
        "90"
       ],
       "_view_count": null,
       "_view_module": "@jupyter-widgets/controls",
       "_view_module_version": "1.5.0",
       "_view_name": "RadioButtonsView",
       "description": "Choices:",
       "description_tooltip": null,
       "disabled": false,
       "index": null,
       "layout": "IPY_MODEL_14cdf3e390d3440aa4074094cc7bec74",
       "style": "IPY_MODEL_4cf0afefbdae4952825c423f3f574536"
      }
     },
     "23928fae8722413d8e54926d282ae4f3": {
      "model_module": "@jupyter-widgets/controls",
      "model_module_version": "1.5.0",
      "model_name": "SliderStyleModel",
      "state": {
       "_model_module": "@jupyter-widgets/controls",
       "_model_module_version": "1.5.0",
       "_model_name": "SliderStyleModel",
       "_view_count": null,
       "_view_module": "@jupyter-widgets/base",
       "_view_module_version": "1.2.0",
       "_view_name": "StyleView",
       "description_width": "",
       "handle_color": null
      }
     },
     "2689911f58a54513871f7553472a7260": {
      "model_module": "@jupyter-widgets/base",
      "model_module_version": "1.2.0",
      "model_name": "LayoutModel",
      "state": {
       "_model_module": "@jupyter-widgets/base",
       "_model_module_version": "1.2.0",
       "_model_name": "LayoutModel",
       "_view_count": null,
       "_view_module": "@jupyter-widgets/base",
       "_view_module_version": "1.2.0",
       "_view_name": "LayoutView",
       "align_content": null,
       "align_items": null,
       "align_self": null,
       "border": null,
       "bottom": null,
       "display": null,
       "flex": null,
       "flex_flow": null,
       "grid_area": null,
       "grid_auto_columns": null,
       "grid_auto_flow": null,
       "grid_auto_rows": null,
       "grid_column": null,
       "grid_gap": null,
       "grid_row": null,
       "grid_template_areas": null,
       "grid_template_columns": null,
       "grid_template_rows": null,
       "height": null,
       "justify_content": null,
       "justify_items": null,
       "left": null,
       "margin": null,
       "max_height": null,
       "max_width": null,
       "min_height": null,
       "min_width": null,
       "object_fit": null,
       "object_position": null,
       "order": null,
       "overflow": null,
       "overflow_x": null,
       "overflow_y": null,
       "padding": null,
       "right": null,
       "top": null,
       "visibility": null,
       "width": null
      }
     },
     "27c6db21f03447acbedcb97817f5bb05": {
      "model_module": "@jupyter-widgets/base",
      "model_module_version": "1.2.0",
      "model_name": "LayoutModel",
      "state": {
       "_model_module": "@jupyter-widgets/base",
       "_model_module_version": "1.2.0",
       "_model_name": "LayoutModel",
       "_view_count": null,
       "_view_module": "@jupyter-widgets/base",
       "_view_module_version": "1.2.0",
       "_view_name": "LayoutView",
       "align_content": null,
       "align_items": null,
       "align_self": null,
       "border": null,
       "bottom": null,
       "display": null,
       "flex": null,
       "flex_flow": null,
       "grid_area": null,
       "grid_auto_columns": null,
       "grid_auto_flow": null,
       "grid_auto_rows": null,
       "grid_column": null,
       "grid_gap": null,
       "grid_row": null,
       "grid_template_areas": null,
       "grid_template_columns": null,
       "grid_template_rows": null,
       "height": null,
       "justify_content": null,
       "justify_items": null,
       "left": null,
       "margin": null,
       "max_height": null,
       "max_width": null,
       "min_height": null,
       "min_width": null,
       "object_fit": null,
       "object_position": null,
       "order": null,
       "overflow": null,
       "overflow_x": null,
       "overflow_y": null,
       "padding": null,
       "right": null,
       "top": null,
       "visibility": null,
       "width": null
      }
     },
     "3aabcef15489487491fd68240d5ea80c": {
      "model_module": "@jupyter-widgets/controls",
      "model_module_version": "1.5.0",
      "model_name": "DescriptionStyleModel",
      "state": {
       "_model_module": "@jupyter-widgets/controls",
       "_model_module_version": "1.5.0",
       "_model_name": "DescriptionStyleModel",
       "_view_count": null,
       "_view_module": "@jupyter-widgets/base",
       "_view_module_version": "1.2.0",
       "_view_name": "StyleView",
       "description_width": ""
      }
     },
     "41265002969642d6873572b6fa00b8dd": {
      "model_module": "@jupyter-widgets/base",
      "model_module_version": "1.2.0",
      "model_name": "LayoutModel",
      "state": {
       "_model_module": "@jupyter-widgets/base",
       "_model_module_version": "1.2.0",
       "_model_name": "LayoutModel",
       "_view_count": null,
       "_view_module": "@jupyter-widgets/base",
       "_view_module_version": "1.2.0",
       "_view_name": "LayoutView",
       "align_content": null,
       "align_items": null,
       "align_self": null,
       "border": null,
       "bottom": null,
       "display": null,
       "flex": null,
       "flex_flow": null,
       "grid_area": null,
       "grid_auto_columns": null,
       "grid_auto_flow": null,
       "grid_auto_rows": null,
       "grid_column": null,
       "grid_gap": null,
       "grid_row": null,
       "grid_template_areas": null,
       "grid_template_columns": null,
       "grid_template_rows": null,
       "height": null,
       "justify_content": null,
       "justify_items": null,
       "left": null,
       "margin": null,
       "max_height": null,
       "max_width": null,
       "min_height": null,
       "min_width": null,
       "object_fit": null,
       "object_position": null,
       "order": null,
       "overflow": null,
       "overflow_x": null,
       "overflow_y": null,
       "padding": null,
       "right": null,
       "top": null,
       "visibility": null,
       "width": null
      }
     },
     "48b29c80fb4e4cefb035d736f31747c8": {
      "model_module": "@jupyter-widgets/controls",
      "model_module_version": "1.5.0",
      "model_name": "ButtonStyleModel",
      "state": {
       "_model_module": "@jupyter-widgets/controls",
       "_model_module_version": "1.5.0",
       "_model_name": "ButtonStyleModel",
       "_view_count": null,
       "_view_module": "@jupyter-widgets/base",
       "_view_module_version": "1.2.0",
       "_view_name": "StyleView",
       "button_color": null,
       "font_weight": ""
      }
     },
     "4c06687884be40e6b65e7d1061f6354e": {
      "model_module": "@jupyter-widgets/base",
      "model_module_version": "1.2.0",
      "model_name": "LayoutModel",
      "state": {
       "_model_module": "@jupyter-widgets/base",
       "_model_module_version": "1.2.0",
       "_model_name": "LayoutModel",
       "_view_count": null,
       "_view_module": "@jupyter-widgets/base",
       "_view_module_version": "1.2.0",
       "_view_name": "LayoutView",
       "align_content": null,
       "align_items": null,
       "align_self": null,
       "border": null,
       "bottom": null,
       "display": null,
       "flex": null,
       "flex_flow": null,
       "grid_area": null,
       "grid_auto_columns": null,
       "grid_auto_flow": null,
       "grid_auto_rows": null,
       "grid_column": null,
       "grid_gap": null,
       "grid_row": null,
       "grid_template_areas": null,
       "grid_template_columns": null,
       "grid_template_rows": null,
       "height": null,
       "justify_content": null,
       "justify_items": null,
       "left": null,
       "margin": null,
       "max_height": null,
       "max_width": null,
       "min_height": null,
       "min_width": null,
       "object_fit": null,
       "object_position": null,
       "order": null,
       "overflow": null,
       "overflow_x": null,
       "overflow_y": null,
       "padding": null,
       "right": null,
       "top": null,
       "visibility": null,
       "width": null
      }
     },
     "4cf0afefbdae4952825c423f3f574536": {
      "model_module": "@jupyter-widgets/controls",
      "model_module_version": "1.5.0",
      "model_name": "DescriptionStyleModel",
      "state": {
       "_model_module": "@jupyter-widgets/controls",
       "_model_module_version": "1.5.0",
       "_model_name": "DescriptionStyleModel",
       "_view_count": null,
       "_view_module": "@jupyter-widgets/base",
       "_view_module_version": "1.2.0",
       "_view_name": "StyleView",
       "description_width": ""
      }
     },
     "5dde39ab82f6424f861ea3f25686b49f": {
      "model_module": "@jupyter-widgets/controls",
      "model_module_version": "1.5.0",
      "model_name": "DescriptionStyleModel",
      "state": {
       "_model_module": "@jupyter-widgets/controls",
       "_model_module_version": "1.5.0",
       "_model_name": "DescriptionStyleModel",
       "_view_count": null,
       "_view_module": "@jupyter-widgets/base",
       "_view_module_version": "1.2.0",
       "_view_name": "StyleView",
       "description_width": ""
      }
     },
     "5ecbe8505b70475e959e320d1d2e36ca": {
      "model_module": "@jupyter-widgets/controls",
      "model_module_version": "1.5.0",
      "model_name": "DescriptionStyleModel",
      "state": {
       "_model_module": "@jupyter-widgets/controls",
       "_model_module_version": "1.5.0",
       "_model_name": "DescriptionStyleModel",
       "_view_count": null,
       "_view_module": "@jupyter-widgets/base",
       "_view_module_version": "1.2.0",
       "_view_name": "StyleView",
       "description_width": ""
      }
     },
     "67f21ccbf981434ba34ece2c53c2666b": {
      "model_module": "@jupyter-widgets/controls",
      "model_module_version": "1.5.0",
      "model_name": "IntSliderModel",
      "state": {
       "_dom_classes": [],
       "_model_module": "@jupyter-widgets/controls",
       "_model_module_version": "1.5.0",
       "_model_name": "IntSliderModel",
       "_view_count": null,
       "_view_module": "@jupyter-widgets/controls",
       "_view_module_version": "1.5.0",
       "_view_name": "IntSliderView",
       "continuous_update": true,
       "description": "num_bins",
       "description_tooltip": null,
       "disabled": false,
       "layout": "IPY_MODEL_15451094950345b6b03aaf17dd66dad6",
       "max": 100,
       "min": 0,
       "orientation": "horizontal",
       "readout": true,
       "readout_format": "d",
       "step": 1,
       "style": "IPY_MODEL_23928fae8722413d8e54926d282ae4f3",
       "value": 50
      }
     },
     "7241022f676e43d2a4305395f826c164": {
      "model_module": "@jupyter-widgets/controls",
      "model_module_version": "1.5.0",
      "model_name": "VBoxModel",
      "state": {
       "_dom_classes": [
        "widget-interact"
       ],
       "_model_module": "@jupyter-widgets/controls",
       "_model_module_version": "1.5.0",
       "_model_name": "VBoxModel",
       "_view_count": null,
       "_view_module": "@jupyter-widgets/controls",
       "_view_module_version": "1.5.0",
       "_view_name": "VBoxView",
       "box_style": "",
       "children": [
        "IPY_MODEL_8d625adc268646eaad2aace58ff48ee2",
        "IPY_MODEL_c5585b2b3dba492fb5f1f16a8e3cb770"
       ],
       "layout": "IPY_MODEL_74fbc821e74f46bea8a2f7a6f70eea27"
      }
     },
     "73509f826b824d29894ed7b08118ab29": {
      "model_module": "@jupyter-widgets/controls",
      "model_module_version": "1.5.0",
      "model_name": "ButtonModel",
      "state": {
       "_dom_classes": [],
       "_model_module": "@jupyter-widgets/controls",
       "_model_module_version": "1.5.0",
       "_model_name": "ButtonModel",
       "_view_count": null,
       "_view_module": "@jupyter-widgets/controls",
       "_view_module_version": "1.5.0",
       "_view_name": "ButtonView",
       "button_style": "",
       "description": "Add Outlier",
       "disabled": false,
       "icon": "",
       "layout": "IPY_MODEL_7997690c5aaf42279dbab2ba61c014d1",
       "style": "IPY_MODEL_bf83730b03014099b06a3cc5dfc5c2a5",
       "tooltip": ""
      }
     },
     "74fbc821e74f46bea8a2f7a6f70eea27": {
      "model_module": "@jupyter-widgets/base",
      "model_module_version": "1.2.0",
      "model_name": "LayoutModel",
      "state": {
       "_model_module": "@jupyter-widgets/base",
       "_model_module_version": "1.2.0",
       "_model_name": "LayoutModel",
       "_view_count": null,
       "_view_module": "@jupyter-widgets/base",
       "_view_module_version": "1.2.0",
       "_view_name": "LayoutView",
       "align_content": null,
       "align_items": null,
       "align_self": null,
       "border": null,
       "bottom": null,
       "display": null,
       "flex": null,
       "flex_flow": null,
       "grid_area": null,
       "grid_auto_columns": null,
       "grid_auto_flow": null,
       "grid_auto_rows": null,
       "grid_column": null,
       "grid_gap": null,
       "grid_row": null,
       "grid_template_areas": null,
       "grid_template_columns": null,
       "grid_template_rows": null,
       "height": null,
       "justify_content": null,
       "justify_items": null,
       "left": null,
       "margin": null,
       "max_height": null,
       "max_width": null,
       "min_height": null,
       "min_width": null,
       "object_fit": null,
       "object_position": null,
       "order": null,
       "overflow": null,
       "overflow_x": null,
       "overflow_y": null,
       "padding": null,
       "right": null,
       "top": null,
       "visibility": null,
       "width": null
      }
     },
     "76157a2b74bf4aa987d77840c0bb3be1": {
      "model_module": "@jupyter-widgets/base",
      "model_module_version": "1.2.0",
      "model_name": "LayoutModel",
      "state": {
       "_model_module": "@jupyter-widgets/base",
       "_model_module_version": "1.2.0",
       "_model_name": "LayoutModel",
       "_view_count": null,
       "_view_module": "@jupyter-widgets/base",
       "_view_module_version": "1.2.0",
       "_view_name": "LayoutView",
       "align_content": null,
       "align_items": null,
       "align_self": null,
       "border": null,
       "bottom": null,
       "display": null,
       "flex": null,
       "flex_flow": null,
       "grid_area": null,
       "grid_auto_columns": null,
       "grid_auto_flow": null,
       "grid_auto_rows": null,
       "grid_column": null,
       "grid_gap": null,
       "grid_row": null,
       "grid_template_areas": null,
       "grid_template_columns": null,
       "grid_template_rows": null,
       "height": null,
       "justify_content": null,
       "justify_items": null,
       "left": null,
       "margin": null,
       "max_height": null,
       "max_width": null,
       "min_height": null,
       "min_width": null,
       "object_fit": null,
       "object_position": null,
       "order": null,
       "overflow": null,
       "overflow_x": null,
       "overflow_y": null,
       "padding": null,
       "right": null,
       "top": null,
       "visibility": null,
       "width": null
      }
     },
     "7997690c5aaf42279dbab2ba61c014d1": {
      "model_module": "@jupyter-widgets/base",
      "model_module_version": "1.2.0",
      "model_name": "LayoutModel",
      "state": {
       "_model_module": "@jupyter-widgets/base",
       "_model_module_version": "1.2.0",
       "_model_name": "LayoutModel",
       "_view_count": null,
       "_view_module": "@jupyter-widgets/base",
       "_view_module_version": "1.2.0",
       "_view_name": "LayoutView",
       "align_content": null,
       "align_items": null,
       "align_self": null,
       "border": null,
       "bottom": null,
       "display": null,
       "flex": null,
       "flex_flow": null,
       "grid_area": null,
       "grid_auto_columns": null,
       "grid_auto_flow": null,
       "grid_auto_rows": null,
       "grid_column": null,
       "grid_gap": null,
       "grid_row": null,
       "grid_template_areas": null,
       "grid_template_columns": null,
       "grid_template_rows": null,
       "height": null,
       "justify_content": null,
       "justify_items": null,
       "left": null,
       "margin": null,
       "max_height": null,
       "max_width": null,
       "min_height": null,
       "min_width": null,
       "object_fit": null,
       "object_position": null,
       "order": null,
       "overflow": null,
       "overflow_x": null,
       "overflow_y": null,
       "padding": null,
       "right": null,
       "top": null,
       "visibility": null,
       "width": null
      }
     },
     "8580100ee49e4822a4aeaf6cc42597c4": {
      "model_module": "@jupyter-widgets/base",
      "model_module_version": "1.2.0",
      "model_name": "LayoutModel",
      "state": {
       "_model_module": "@jupyter-widgets/base",
       "_model_module_version": "1.2.0",
       "_model_name": "LayoutModel",
       "_view_count": null,
       "_view_module": "@jupyter-widgets/base",
       "_view_module_version": "1.2.0",
       "_view_name": "LayoutView",
       "align_content": null,
       "align_items": null,
       "align_self": null,
       "border": null,
       "bottom": null,
       "display": null,
       "flex": null,
       "flex_flow": null,
       "grid_area": null,
       "grid_auto_columns": null,
       "grid_auto_flow": null,
       "grid_auto_rows": null,
       "grid_column": null,
       "grid_gap": null,
       "grid_row": null,
       "grid_template_areas": null,
       "grid_template_columns": null,
       "grid_template_rows": null,
       "height": null,
       "justify_content": null,
       "justify_items": null,
       "left": null,
       "margin": null,
       "max_height": null,
       "max_width": null,
       "min_height": null,
       "min_width": null,
       "object_fit": null,
       "object_position": null,
       "order": null,
       "overflow": null,
       "overflow_x": null,
       "overflow_y": null,
       "padding": null,
       "right": null,
       "top": null,
       "visibility": null,
       "width": null
      }
     },
     "8d625adc268646eaad2aace58ff48ee2": {
      "model_module": "@jupyter-widgets/controls",
      "model_module_version": "1.5.0",
      "model_name": "IntSliderModel",
      "state": {
       "_dom_classes": [],
       "_model_module": "@jupyter-widgets/controls",
       "_model_module_version": "1.5.0",
       "_model_name": "IntSliderModel",
       "_view_count": null,
       "_view_module": "@jupyter-widgets/controls",
       "_view_module_version": "1.5.0",
       "_view_name": "IntSliderView",
       "continuous_update": true,
       "description": "num_bins",
       "description_tooltip": null,
       "disabled": false,
       "layout": "IPY_MODEL_93bc318f73df4f158339af25070424b4",
       "max": 100,
       "min": 0,
       "orientation": "horizontal",
       "readout": true,
       "readout_format": "d",
       "step": 1,
       "style": "IPY_MODEL_bb910a0d89514713aa7e6ff68bcef8d2",
       "value": 50
      }
     },
     "9026e12914f14c89b685daf8a3b4c1fa": {
      "model_module": "@jupyter-widgets/controls",
      "model_module_version": "1.5.0",
      "model_name": "RadioButtonsModel",
      "state": {
       "_dom_classes": [],
       "_model_module": "@jupyter-widgets/controls",
       "_model_module_version": "1.5.0",
       "_model_name": "RadioButtonsModel",
       "_options_labels": [
        "25 and 18",
        "1",
        "25 and 1",
        "1 and 10",
        "25",
        "None of these"
       ],
       "_view_count": null,
       "_view_module": "@jupyter-widgets/controls",
       "_view_module_version": "1.5.0",
       "_view_name": "RadioButtonsView",
       "description": "Choices:",
       "description_tooltip": null,
       "disabled": false,
       "index": null,
       "layout": "IPY_MODEL_76157a2b74bf4aa987d77840c0bb3be1",
       "style": "IPY_MODEL_2141b2c8b39040ab855d8753180e8401"
      }
     },
     "93bc318f73df4f158339af25070424b4": {
      "model_module": "@jupyter-widgets/base",
      "model_module_version": "1.2.0",
      "model_name": "LayoutModel",
      "state": {
       "_model_module": "@jupyter-widgets/base",
       "_model_module_version": "1.2.0",
       "_model_name": "LayoutModel",
       "_view_count": null,
       "_view_module": "@jupyter-widgets/base",
       "_view_module_version": "1.2.0",
       "_view_name": "LayoutView",
       "align_content": null,
       "align_items": null,
       "align_self": null,
       "border": null,
       "bottom": null,
       "display": null,
       "flex": null,
       "flex_flow": null,
       "grid_area": null,
       "grid_auto_columns": null,
       "grid_auto_flow": null,
       "grid_auto_rows": null,
       "grid_column": null,
       "grid_gap": null,
       "grid_row": null,
       "grid_template_areas": null,
       "grid_template_columns": null,
       "grid_template_rows": null,
       "height": null,
       "justify_content": null,
       "justify_items": null,
       "left": null,
       "margin": null,
       "max_height": null,
       "max_width": null,
       "min_height": null,
       "min_width": null,
       "object_fit": null,
       "object_position": null,
       "order": null,
       "overflow": null,
       "overflow_x": null,
       "overflow_y": null,
       "padding": null,
       "right": null,
       "top": null,
       "visibility": null,
       "width": null
      }
     },
     "9feec961516941b28754f0653f9fa5d3": {
      "model_module": "@jupyter-widgets/controls",
      "model_module_version": "1.5.0",
      "model_name": "RadioButtonsModel",
      "state": {
       "_dom_classes": [],
       "_model_module": "@jupyter-widgets/controls",
       "_model_module_version": "1.5.0",
       "_model_name": "RadioButtonsModel",
       "_options_labels": [
        "1",
        "10",
        "15",
        "-1"
       ],
       "_view_count": null,
       "_view_module": "@jupyter-widgets/controls",
       "_view_module_version": "1.5.0",
       "_view_name": "RadioButtonsView",
       "description": "",
       "description_tooltip": null,
       "disabled": false,
       "index": null,
       "layout": "IPY_MODEL_4c06687884be40e6b65e7d1061f6354e",
       "style": "IPY_MODEL_e581ac689e3b4df891b0eba04cbd27a0"
      }
     },
     "a2456d422b3c40579d4fc785bdf0c6a4": {
      "model_module": "@jupyter-widgets/controls",
      "model_module_version": "1.5.0",
      "model_name": "ButtonModel",
      "state": {
       "_dom_classes": [],
       "_model_module": "@jupyter-widgets/controls",
       "_model_module_version": "1.5.0",
       "_model_name": "ButtonModel",
       "_view_count": null,
       "_view_module": "@jupyter-widgets/controls",
       "_view_module_version": "1.5.0",
       "_view_name": "ButtonView",
       "button_style": "",
       "description": "Calculate",
       "disabled": false,
       "icon": "",
       "layout": "IPY_MODEL_8580100ee49e4822a4aeaf6cc42597c4",
       "style": "IPY_MODEL_ce79ab7a1efb48c199cd068d8bc4c8ae",
       "tooltip": ""
      }
     },
     "a73229e3c68a457991f76d57807f043c": {
      "model_module": "@jupyter-widgets/controls",
      "model_module_version": "1.5.0",
      "model_name": "ButtonStyleModel",
      "state": {
       "_model_module": "@jupyter-widgets/controls",
       "_model_module_version": "1.5.0",
       "_model_name": "ButtonStyleModel",
       "_view_count": null,
       "_view_module": "@jupyter-widgets/base",
       "_view_module_version": "1.2.0",
       "_view_name": "StyleView",
       "button_color": null,
       "font_weight": ""
      }
     },
     "a776a6031e4543a9833577bd629452bf": {
      "model_module": "@jupyter-widgets/base",
      "model_module_version": "1.2.0",
      "model_name": "LayoutModel",
      "state": {
       "_model_module": "@jupyter-widgets/base",
       "_model_module_version": "1.2.0",
       "_model_name": "LayoutModel",
       "_view_count": null,
       "_view_module": "@jupyter-widgets/base",
       "_view_module_version": "1.2.0",
       "_view_name": "LayoutView",
       "align_content": null,
       "align_items": null,
       "align_self": null,
       "border": null,
       "bottom": null,
       "display": null,
       "flex": null,
       "flex_flow": null,
       "grid_area": null,
       "grid_auto_columns": null,
       "grid_auto_flow": null,
       "grid_auto_rows": null,
       "grid_column": null,
       "grid_gap": null,
       "grid_row": null,
       "grid_template_areas": null,
       "grid_template_columns": null,
       "grid_template_rows": null,
       "height": null,
       "justify_content": null,
       "justify_items": null,
       "left": null,
       "margin": null,
       "max_height": null,
       "max_width": null,
       "min_height": null,
       "min_width": null,
       "object_fit": null,
       "object_position": null,
       "order": null,
       "overflow": null,
       "overflow_x": null,
       "overflow_y": null,
       "padding": null,
       "right": null,
       "top": null,
       "visibility": null,
       "width": null
      }
     },
     "a9692f3cf2d74d39b67116c7407ec0c7": {
      "model_module": "@jupyter-widgets/controls",
      "model_module_version": "1.5.0",
      "model_name": "VBoxModel",
      "state": {
       "_dom_classes": [
        "widget-interact"
       ],
       "_model_module": "@jupyter-widgets/controls",
       "_model_module_version": "1.5.0",
       "_model_name": "VBoxModel",
       "_view_count": null,
       "_view_module": "@jupyter-widgets/controls",
       "_view_module_version": "1.5.0",
       "_view_name": "VBoxView",
       "box_style": "",
       "children": [
        "IPY_MODEL_67f21ccbf981434ba34ece2c53c2666b",
        "IPY_MODEL_206e36d8777f4bc4b3e7004e8f5f2bdc"
       ],
       "layout": "IPY_MODEL_a776a6031e4543a9833577bd629452bf"
      }
     },
     "aaedb0dd2fe044c58ee9f46409104c5b": {
      "model_module": "@jupyter-widgets/controls",
      "model_module_version": "1.5.0",
      "model_name": "RadioButtonsModel",
      "state": {
       "_dom_classes": [],
       "_model_module": "@jupyter-widgets/controls",
       "_model_module_version": "1.5.0",
       "_model_name": "RadioButtonsModel",
       "_options_labels": [
        "78",
        "100",
        "0",
        "78 and 100",
        "There is none"
       ],
       "_view_count": null,
       "_view_module": "@jupyter-widgets/controls",
       "_view_module_version": "1.5.0",
       "_view_name": "RadioButtonsView",
       "description": "Choices:",
       "description_tooltip": null,
       "disabled": false,
       "index": null,
       "layout": "IPY_MODEL_dfcbf2cdab2044f28701a880c48de82c",
       "style": "IPY_MODEL_5ecbe8505b70475e959e320d1d2e36ca"
      }
     },
     "bb910a0d89514713aa7e6ff68bcef8d2": {
      "model_module": "@jupyter-widgets/controls",
      "model_module_version": "1.5.0",
      "model_name": "SliderStyleModel",
      "state": {
       "_model_module": "@jupyter-widgets/controls",
       "_model_module_version": "1.5.0",
       "_model_name": "SliderStyleModel",
       "_view_count": null,
       "_view_module": "@jupyter-widgets/base",
       "_view_module_version": "1.2.0",
       "_view_name": "StyleView",
       "description_width": "",
       "handle_color": null
      }
     },
     "bf83730b03014099b06a3cc5dfc5c2a5": {
      "model_module": "@jupyter-widgets/controls",
      "model_module_version": "1.5.0",
      "model_name": "ButtonStyleModel",
      "state": {
       "_model_module": "@jupyter-widgets/controls",
       "_model_module_version": "1.5.0",
       "_model_name": "ButtonStyleModel",
       "_view_count": null,
       "_view_module": "@jupyter-widgets/base",
       "_view_module_version": "1.2.0",
       "_view_name": "StyleView",
       "button_color": null,
       "font_weight": ""
      }
     },
     "c398c1b46d0c4a2ea795f1969a351e42": {
      "model_module": "@jupyter-widgets/base",
      "model_module_version": "1.2.0",
      "model_name": "LayoutModel",
      "state": {
       "_model_module": "@jupyter-widgets/base",
       "_model_module_version": "1.2.0",
       "_model_name": "LayoutModel",
       "_view_count": null,
       "_view_module": "@jupyter-widgets/base",
       "_view_module_version": "1.2.0",
       "_view_name": "LayoutView",
       "align_content": null,
       "align_items": null,
       "align_self": null,
       "border": null,
       "bottom": null,
       "display": null,
       "flex": null,
       "flex_flow": null,
       "grid_area": null,
       "grid_auto_columns": null,
       "grid_auto_flow": null,
       "grid_auto_rows": null,
       "grid_column": null,
       "grid_gap": null,
       "grid_row": null,
       "grid_template_areas": null,
       "grid_template_columns": null,
       "grid_template_rows": null,
       "height": null,
       "justify_content": null,
       "justify_items": null,
       "left": null,
       "margin": null,
       "max_height": null,
       "max_width": null,
       "min_height": null,
       "min_width": null,
       "object_fit": null,
       "object_position": null,
       "order": null,
       "overflow": null,
       "overflow_x": null,
       "overflow_y": null,
       "padding": null,
       "right": null,
       "top": null,
       "visibility": null,
       "width": null
      }
     },
     "c5585b2b3dba492fb5f1f16a8e3cb770": {
      "model_module": "@jupyter-widgets/output",
      "model_module_version": "1.0.0",
      "model_name": "OutputModel",
      "state": {
       "_dom_classes": [],
       "_model_module": "@jupyter-widgets/output",
       "_model_module_version": "1.0.0",
       "_model_name": "OutputModel",
       "_view_count": null,
       "_view_module": "@jupyter-widgets/output",
       "_view_module_version": "1.0.0",
       "_view_name": "OutputView",
       "layout": "IPY_MODEL_c398c1b46d0c4a2ea795f1969a351e42",
       "msg_id": "",
       "outputs": [
        {
         "name": "stdout",
         "output_type": "stream",
         "text": "Generating... plot for : 50\n"
        },
        {
         "data": {
          "image/png": "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\n",
          "text/plain": "<Figure size 432x288 with 1 Axes>"
         },
         "metadata": {
          "needs_background": "light"
         },
         "output_type": "display_data"
        }
       ]
      }
     },
     "ce79ab7a1efb48c199cd068d8bc4c8ae": {
      "model_module": "@jupyter-widgets/controls",
      "model_module_version": "1.5.0",
      "model_name": "ButtonStyleModel",
      "state": {
       "_model_module": "@jupyter-widgets/controls",
       "_model_module_version": "1.5.0",
       "_model_name": "ButtonStyleModel",
       "_view_count": null,
       "_view_module": "@jupyter-widgets/base",
       "_view_module_version": "1.2.0",
       "_view_name": "StyleView",
       "button_color": null,
       "font_weight": ""
      }
     },
     "cf2857e8637f4bed89071828084d11ac": {
      "model_module": "@jupyter-widgets/controls",
      "model_module_version": "1.5.0",
      "model_name": "DescriptionStyleModel",
      "state": {
       "_model_module": "@jupyter-widgets/controls",
       "_model_module_version": "1.5.0",
       "_model_name": "DescriptionStyleModel",
       "_view_count": null,
       "_view_module": "@jupyter-widgets/base",
       "_view_module_version": "1.2.0",
       "_view_name": "StyleView",
       "description_width": ""
      }
     },
     "dfcbf2cdab2044f28701a880c48de82c": {
      "model_module": "@jupyter-widgets/base",
      "model_module_version": "1.2.0",
      "model_name": "LayoutModel",
      "state": {
       "_model_module": "@jupyter-widgets/base",
       "_model_module_version": "1.2.0",
       "_model_name": "LayoutModel",
       "_view_count": null,
       "_view_module": "@jupyter-widgets/base",
       "_view_module_version": "1.2.0",
       "_view_name": "LayoutView",
       "align_content": null,
       "align_items": null,
       "align_self": null,
       "border": null,
       "bottom": null,
       "display": null,
       "flex": null,
       "flex_flow": null,
       "grid_area": null,
       "grid_auto_columns": null,
       "grid_auto_flow": null,
       "grid_auto_rows": null,
       "grid_column": null,
       "grid_gap": null,
       "grid_row": null,
       "grid_template_areas": null,
       "grid_template_columns": null,
       "grid_template_rows": null,
       "height": null,
       "justify_content": null,
       "justify_items": null,
       "left": null,
       "margin": null,
       "max_height": null,
       "max_width": null,
       "min_height": null,
       "min_width": null,
       "object_fit": null,
       "object_position": null,
       "order": null,
       "overflow": null,
       "overflow_x": null,
       "overflow_y": null,
       "padding": null,
       "right": null,
       "top": null,
       "visibility": null,
       "width": null
      }
     },
     "e161792b9f9c4e30834edf73b3a39c01": {
      "model_module": "@jupyter-widgets/base",
      "model_module_version": "1.2.0",
      "model_name": "LayoutModel",
      "state": {
       "_model_module": "@jupyter-widgets/base",
       "_model_module_version": "1.2.0",
       "_model_name": "LayoutModel",
       "_view_count": null,
       "_view_module": "@jupyter-widgets/base",
       "_view_module_version": "1.2.0",
       "_view_name": "LayoutView",
       "align_content": null,
       "align_items": null,
       "align_self": null,
       "border": null,
       "bottom": null,
       "display": null,
       "flex": null,
       "flex_flow": null,
       "grid_area": null,
       "grid_auto_columns": null,
       "grid_auto_flow": null,
       "grid_auto_rows": null,
       "grid_column": null,
       "grid_gap": null,
       "grid_row": null,
       "grid_template_areas": null,
       "grid_template_columns": null,
       "grid_template_rows": null,
       "height": null,
       "justify_content": null,
       "justify_items": null,
       "left": null,
       "margin": null,
       "max_height": null,
       "max_width": null,
       "min_height": null,
       "min_width": null,
       "object_fit": null,
       "object_position": null,
       "order": null,
       "overflow": null,
       "overflow_x": null,
       "overflow_y": null,
       "padding": null,
       "right": null,
       "top": null,
       "visibility": null,
       "width": null
      }
     },
     "e4b83437423340e39904cac740ebab76": {
      "model_module": "@jupyter-widgets/controls",
      "model_module_version": "1.5.0",
      "model_name": "DescriptionStyleModel",
      "state": {
       "_model_module": "@jupyter-widgets/controls",
       "_model_module_version": "1.5.0",
       "_model_name": "DescriptionStyleModel",
       "_view_count": null,
       "_view_module": "@jupyter-widgets/base",
       "_view_module_version": "1.2.0",
       "_view_name": "StyleView",
       "description_width": ""
      }
     },
     "e581ac689e3b4df891b0eba04cbd27a0": {
      "model_module": "@jupyter-widgets/controls",
      "model_module_version": "1.5.0",
      "model_name": "DescriptionStyleModel",
      "state": {
       "_model_module": "@jupyter-widgets/controls",
       "_model_module_version": "1.5.0",
       "_model_name": "DescriptionStyleModel",
       "_view_count": null,
       "_view_module": "@jupyter-widgets/base",
       "_view_module_version": "1.2.0",
       "_view_name": "StyleView",
       "description_width": ""
      }
     },
     "f5fe931b1144415b89f313f7ea2b22d1": {
      "model_module": "@jupyter-widgets/controls",
      "model_module_version": "1.5.0",
      "model_name": "BoundedIntTextModel",
      "state": {
       "_dom_classes": [],
       "_model_module": "@jupyter-widgets/controls",
       "_model_module_version": "1.5.0",
       "_model_name": "BoundedIntTextModel",
       "_view_count": null,
       "_view_module": "@jupyter-widgets/controls",
       "_view_module_version": "1.5.0",
       "_view_name": "IntTextView",
       "continuous_update": false,
       "description": "Outlier:",
       "description_tooltip": null,
       "disabled": false,
       "layout": "IPY_MODEL_109a49ce604b4f29a27052eeb9caf97d",
       "max": 10000,
       "min": 0,
       "step": 1,
       "style": "IPY_MODEL_3aabcef15489487491fd68240d5ea80c",
       "value": 0
      }
     },
     "fbc43f4561ea4bcca7e1b77fbd5a560b": {
      "model_module": "@jupyter-widgets/controls",
      "model_module_version": "1.5.0",
      "model_name": "ButtonModel",
      "state": {
       "_dom_classes": [],
       "_model_module": "@jupyter-widgets/controls",
       "_model_module_version": "1.5.0",
       "_model_name": "ButtonModel",
       "_view_count": null,
       "_view_module": "@jupyter-widgets/controls",
       "_view_module_version": "1.5.0",
       "_view_name": "ButtonView",
       "button_style": "",
       "description": "Compare",
       "disabled": false,
       "icon": "",
       "layout": "IPY_MODEL_27c6db21f03447acbedcb97817f5bb05",
       "style": "IPY_MODEL_a73229e3c68a457991f76d57807f043c",
       "tooltip": ""
      }
     }
    },
    "version_major": 2,
    "version_minor": 0
   }
  }
 },
 "nbformat": 4,
 "nbformat_minor": 2
}