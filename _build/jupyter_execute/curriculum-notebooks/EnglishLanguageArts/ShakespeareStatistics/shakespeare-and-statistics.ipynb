{
 "cells": [
  {
   "cell_type": "markdown",
   "metadata": {},
   "source": [
    "![Callysto.ca Banner](https://github.com/callysto/curriculum-notebooks/blob/master/callysto-notebook-banner-top.jpg?raw=true)\n",
    " \n",
    "<a href=\"https://hub.callysto.ca/jupyter/hub/user-redirect/git-pull?repo=https%3A%2F%2Fgithub.com%2Fcallysto%2Fcurriculum-notebooks&branch=master&urlpath=notebooks/curriculum-notebooks/EnglishLanguageArts/ShakespeareStatistics/shakespeare-and-statistics.ipynb&depth=1\" target=\"_parent\"><img src=\"https://raw.githubusercontent.com/callysto/curriculum-notebooks/master/open-in-callysto-button.svg?sanitize=true\" width=\"123\" height=\"24\" alt=\"Open in Callysto\"></a>"
   ]
  },
  {
   "cell_type": "markdown",
   "metadata": {},
   "source": [
    "# Shakespeare and Statistics\n",
    "\n",
    "![Shakespeare and a chart](images/shakespeare-n-stats.png)\n",
    "*Image from https://en.wikipedia.org/wiki/Droeshout_portrait*\n",
    "\n",
    "Can art and science be combined? Natural language processing allows us to use the same statistical skills you might learn in a science class, such as counting up members of a population and looking at their distribution, to gain insight into the written word. Here's an example of what you can do. Let's consider the following question:\n",
    "\n",
    "## What are the top 20 phrases in Shakespeare's Macbeth?\n",
    "\n",
    "Normally when we study Shakespeare we critically read his plays and study the plot, characters, and themes. While this is definitely interesting and useful, we can gain very different insights by taking a multidisciplinary approach.\n",
    "\n",
    "This is something we would probably never want to do if we had to do it by hand. Imagine getting out your clipboard, writing down every different word or phrase you come across and then counting how many times that same word or phrase reappears. Check out how quickly it can be done using Python code in this Jupyter notebook.\n",
    "\n",
    "## Loading the text\n",
    "\n",
    "There are many public domain works available at [Project Gutenberg](http://www.gutenberg.org). You can [search](http://www.gutenberg.org/ebooks) or [browse](http://www.gutenberg.org/catalog) to find works that you are interested in analysing.\n",
    "\n",
    "We are going to search for the play *Macbeth* by William Shakespeare. On the **Download This eBook** page we'll copy the `Plain Text UTF-8` link, then use the `Requests` Python library to download it into a variable called `macbeth`. We can then refer to it by using `macbeth` at any point from here on"
   ]
  },
  {
   "cell_type": "code",
   "execution_count": 1,
   "metadata": {},
   "outputs": [],
   "source": [
    "text_link = 'http://www.gutenberg.org/files/1533/1533-0.txt'\n",
    "\n",
    "import requests\n",
    "r = requests.get(text_link) # get the online book file\n",
    "r.encoding = 'utf-8' # specify the type of text encoding in the file\n",
    "macbeth = r.text.split('***')[2] # get the part after the header\n",
    "macbeth = macbeth.replace(\"’\",\"'\").replace(\"“\",'\"').replace(\"”\",'\"') # replace any 'smart quotes'"
   ]
  },
  {
   "cell_type": "markdown",
   "metadata": {},
   "source": [
    "For example, we can just print out the first 1000 letters to see that we've grabbed the correct document."
   ]
  },
  {
   "cell_type": "code",
   "execution_count": 2,
   "metadata": {},
   "outputs": [
    {
     "name": "stdout",
     "output_type": "stream",
     "text": [
      "\r\n",
      "\r\n",
      "\r\n",
      "\r\n",
      "This etext was prepared by the PG Shakespeare Team,\r\n",
      "a team of about twenty Project Gutenberg volunteers.\r\n",
      "\r\n",
      "\r\n",
      "\r\n",
      "cover \r\n",
      "\r\n",
      "\r\n",
      "\r\n",
      "MACBETH\r\n",
      "\r\n",
      "by William Shakespeare\r\n",
      "\r\n",
      "Contents\r\n",
      "\r\n",
      "ACT I\r\n",
      "Scene I. An open Place.\r\n",
      "Scene II. A Camp near Forres.\r\n",
      "Scene III. A heath.\r\n",
      "Scene IV. Forres. A Room in the Palace.\r\n",
      "Scene V. Inverness. A Room in Macbeth's Castle.\r\n",
      "Scene VI. The same. Before the Castle.\r\n",
      "Scene VII. The same. A Lobby in the Castle.\r\n",
      "\r\n",
      "\r\n",
      "ACT II\r\n",
      "Scene I. Inverness. Court within the Castle.\r\n",
      "Scene II. The same.\r\n",
      "Scene III. The same.\r\n",
      "Scene IV. The same. Without the Castle.\r\n",
      "\r\n",
      "\r\n",
      "ACT III\r\n",
      "Scene I. Forres. A Room in the Palace.\r\n",
      "Scene II. The same. Another Room in the Palace.\r\n",
      "Scene III. The same. A Park or Lawn, with a gate leading to the Palace.\r\n",
      "Scene IV. The same. A Room of state in the Palace.\r\n",
      "Scene V. The heath.\r\n",
      "Scene VI. Forres. A Room in the Palace.\r\n",
      "\r\n",
      "\r\n",
      "ACT IV\r\n",
      "Scene I. A dark Cave. In the middle, a Cauldron Boiling.\r\n",
      "Scene II. Fife. A Room in Macduff's Castle.\r\n",
      "Scene III. \n"
     ]
    }
   ],
   "source": [
    "print(macbeth[0:1000])"
   ]
  },
  {
   "cell_type": "markdown",
   "metadata": {},
   "source": [
    "Looks good! But that's a lot of reading to do. And a lot of phrases to count and keep track of. Here's where some Python libraries come into play.\n",
    "\n",
    "## Crunching the text\n",
    "\n",
    "`noun_phrases` will grab groups of words that have been identified as phrases containing nouns. This isn't always 100% correct. English can be a challenging language even for machines, and sometimes the files on [Project Gutenberg](http://www.gutenberg.org) contain errors that make it even harder, but it can usually do a pretty good job.\n",
    "\n",
    "This code cell installs two Python libraries for natural language processing, [textblob](https://textblob.readthedocs.io/en/dev) and [nltk](https://www.nltk.org), then downloads a [corpora data file](http://www.nltk.org/nltk_data) that will allow us to process the text.\n",
    "\n",
    "This may take a while to run. On the left you will see `In [*]:` while it is running. Once it finishes you should see the output printed on the screen."
   ]
  },
  {
   "cell_type": "code",
   "execution_count": 3,
   "metadata": {},
   "outputs": [
    {
     "name": "stdout",
     "output_type": "stream",
     "text": [
      "Requirement already satisfied: textblob in /home/mikel/.local/lib/python3.7/site-packages (0.15.3)\r\n"
     ]
    },
    {
     "name": "stdout",
     "output_type": "stream",
     "text": [
      "Requirement already satisfied: nltk>=3.1 in /home/mikel/anaconda3/lib/python3.7/site-packages (from textblob) (3.4.5)\r\n",
      "Requirement already satisfied: six in /home/mikel/anaconda3/lib/python3.7/site-packages (from nltk>=3.1->textblob) (1.12.0)\r\n"
     ]
    },
    {
     "name": "stdout",
     "output_type": "stream",
     "text": [
      "Requirement already satisfied: nltk in /home/mikel/anaconda3/lib/python3.7/site-packages (3.4.5)\r\n",
      "Requirement already satisfied: six in /home/mikel/anaconda3/lib/python3.7/site-packages (from nltk) (1.12.0)\r\n"
     ]
    },
    {
     "name": "stderr",
     "output_type": "stream",
     "text": [
      "[nltk_data] Downloading package brown to /home/mikel/nltk_data...\n",
      "[nltk_data]   Package brown is already up-to-date!\n"
     ]
    },
    {
     "name": "stdout",
     "output_type": "stream",
     "text": [
      "['pg shakespeare team', 'project gutenberg', 'macbeth', 'william shakespeare contents act', 'scene', 'open place', 'scene ii', 'forres', 'scene iii', 'scene iv', 'forres', 'scene v. inverness', 'macbeth', 'castle', 'scene vi', 'castle', 'scene vii', 'lobby', 'castle', 'act ii scene i. inverness', 'castle', 'scene ii', 'scene iii', 'scene iv', 'castle', 'act iii scene i. forres', 'scene ii', 'scene iii', 'scene iv', 'scene v.', 'scene vi', 'forres', 'act iv scene', 'cave', 'cauldron boiling', 'scene ii', 'fife', 'macduff', 'castle', 'scene iii', 'england', \"king 's palace\", 'act v scene i. dunsinane', 'castle', 'scene ii', 'dunsinane', 'scene iii', 'dunsinane', 'castle', 'scene iv', 'dunsinane', 'wood', 'scene v. dunsinane', 'scene vi', 'plain', 'castle', 'scene vii', 'plain', 'scene viii', 'dramatis personæ duncan', 'scotland', 'malcolm', 'donalbain', 'macbeth', \"king 's army\", 'banquo', \"king 's army\", 'macduff', 'nobleman', 'scotland', 'lennox', 'nobleman', 'scotland', 'ross', 'nobleman', 'scotland', 'menteith', 'nobleman', 'scotland', 'angus', 'nobleman', 'scotland', 'caithness', 'nobleman', 'scotland', 'fleance', 'banquo', 'siward', 'earl', 'northumberland', 'english forces', 'young siward', 'seyton', 'macbeth', 'boy', 'macduff', 'english', 'scottish doctor', 'soldier', 'porter', 'old man', 'lady macbeth', 'lady macduff', 'gentlewoman', 'macbeth', 'hecate', 'witches', 'lords', 'gentlemen', 'officers', 'soldiers', 'murderers', 'attendants', 'messengers', 'ghost', 'banquo', 'apparitions', 'scene', 'fourth', 'england', 'scotland', 'macbeth', 'castle', 'act', 'scene', 'open place', 'thunder', 'lightning', 'enter', 'witches', 'first witch', 'second witch', \"battle 's\", 'third witch', 'first witch', 'second witch', 'upon', 'third witch', 'macbeth', 'first witch', 'graymalkin', 'second witch', 'paddock', 'third witch', 'anon', 'all', 'hover', 'filthy air', '[ _exeunt._ ]', 'scene ii', 'forres', 'alarum', 'enter', 'duncan', 'malcolm', 'donalbain', 'lennox', 'attendants', 'duncan', 'bloody man', 'malcolm', 'who', 'hardy soldier', 'brave friend', 'say', 'thou didst', 'soldier', 'doubtful', 'macdonwald', 'worthy', 'fortune', \"rebel 's whore\", 'macbeth', 'disdaining fortune', \"brandish 'd steel\", \"smok 'd\", 'bloody execution', 'valour', \"'s minion\", \"carv 'd\", 'till', \"fac 'd\", \"ne'er shook hands\", 'bade farewell', 'till', \"unseam 'd\", \"fix 'd\", 'duncan', 'o valiant cousin', 'worthy gentleman', 'soldier', \"sun 'gins\", 'shipwracking', 'direful thunders', 'whence comfort', 'discomfort', 'mark', 'scotland', \"valour arm 'd\", 'compell', 'norweyan', \"furbish 'd arms\", 'new supplies', 'began', 'fresh assault', 'duncan', 'dismay', 'macbeth', 'banquo', 'soldier', 'sparrows eagles', \"cannons overcharg 'd\", 'double cracks', 'doubly', 'golgotha', 'gashes cry', 'duncan', 'thy words', 'thy wounds', 'honour both.—go', '[ _exit captain', 'attended._ ]', 'enter ross', 'angus', 'who', 'malcolm', 'thane', 'ross', 'lennox', 'ross', 'god', 'duncan', 'whence', \"cam'st thou\", 'worthy thane', 'ross', 'fife', 'great king', 'norweyan', 'banners flout', 'norway', 'terrible numbers', 'assisted', 'disloyal traitor', 'thane', 'cawdor', 'dismal conflict', 'till', 'bellona', \"'s bridegroom\", \"lapp 'd\", \"rebellious arm 'gainst arm\", 'curbing', 'lavish spirit', 'duncan', 'great happiness', 'ross', 'sweno', 'norways', 'craves composition', 'till', 'saint colme', 'inch ten', 'general use', 'duncan', 'thane', 'cawdor', 'bosom interest', 'present death', 'macbeth', 'ross', 'duncan', 'macbeth', '[ _exeunt._ ]', 'scene iii', 'thunder', 'enter', 'witches', 'first witch', 'hast thou', 'second witch', 'killing', 'third witch', 'sister', 'first witch', \"sailor 's wife\", \"mounch 'd\", \"mounch 'd\", \"mounch 'd\", 'aroint', 'ronyon cries', \"husband 's\", 'aleppo', 'master o', \"'ll thither sail\", 'second witch', 'first witch', \"th'art\", 'third witch', 'first witch', \"shipman 's card\", 'sleep', 'hang', 'pent-house lid', 'weary', 'shall', 'second witch', 'first witch', \"pilot 's thumb\", 'wrack', '[ _drum within._ ]', 'third witch', 'macbeth', 'all', 'weird sisters', 'posters', 'thrice', \"—the charm 's\", 'enter macbeth', 'banquo', 'macbeth', 'banquo', 'forres', \"wither 'd\", 'inhabitants o', \"o n't\", 'choppy finger', 'upon', 'skinny lips', 'macbeth', 'speak', 'first witch', 'macbeth', 'thane', 'glamis', 'second witch', 'macbeth', 'thane', 'cawdor', 'third witch', 'macbeth', 'king hereafter', 'banquo', 'good sir', 'noble partner', 'present grace', 'great prediction', 'royal hope', 'rapt withal', 'speak', 'your', 'first witch', 'second witch', 'third witch', 'first witch', 'lesser', 'macbeth', 'second witch', 'third witch', 'thou', 'macbeth', 'banquo', 'first witch', 'banquo', 'macbeth', 'macbeth', 'imperfect speakers', 'sinel', \"'s death\", 'thane', 'glamis', 'cawdor', 'thane', 'cawdor', 'prosperous gentleman', 'stands', 'cawdor', 'say', 'strange intelligence', 'upon', 'such prophetic greeting', '[ _witches vanish._ ]', 'banquo', 'earth hath bubbles', 'whither', \"vanish 'd\", 'macbeth', \"'d corporal\", 'melted', 'banquo', 'were', 'such things', 'insane root', 'reason prisoner', 'macbeth', 'your', 'banquo', 'macbeth', 'thane', 'cawdor', 'banquo', 'selfsame tune', 'who', 'enter ross', 'angus', 'ross', 'king hath', \"receiv 'd\", 'macbeth', 'thy success', 'thy', 'personal venture', \"silenc 'd\", 'rest o', 'selfsame day', 'norweyan', 'thyself didst', 'strange', 'came', 'thy', \"kingdom 's\", 'great defence', 'angus', 'royal master thanks', 'herald thee', 'ross', 'thane', 'cawdor', 'worthy thane', 'banquo', 'macbeth', 'thane', 'cawdor', \"borrow 'd robes\", 'angus', 'who', 'thane', 'heavy judgement bears', 'whether', 'norway', \"labour 'd\", \"country 's wrack\", 'treasons capital', \"confess 'd\", \"prov 'd\", 'have', 'macbeth', '[ _aside._ ]', 'glamis', 'thane', 'cawdor', '[ _to', 'ross', 'angus._', 'thanks', '[ _to', 'banquo._', 'thane', 'cawdor', 'promis', 'banquo', 'might', 'thane', 'cawdor', 'win', 'honest trifles', 'deepest consequence.—', 'cousins', 'macbeth', '[ _aside._ ]', 'happy prologues', 'swelling act', 'imperial theme.—i', 'gentlemen.— [ _aside._ ]', 'commencing', 'thane', 'cawdor', 'whose', 'horrid image doth unfix', 'heart knock', 'against', 'present', 'horrible imaginings', 'shakes', \"smother 'd\", 'banquo', \"partner 's\", 'macbeth', '[ _aside._ ]', 'banquo', 'new honours', 'strange garments', 'macbeth', '[ _aside._ ]', 'hour runs', 'roughest day', 'banquo', 'worthy macbeth', 'macbeth', 'dull brain', 'things forgotten', 'kind', \"register 'd\", 'king.— think', \"hath chanc 'd\", 'free hearts', 'banquo', 'macbeth', 'till', '[ _exeunt._ ]', 'scene iv', 'forres', 'flourish', 'enter duncan', 'malcolm', 'donalbain', 'lennox', 'attendants', 'duncan', 'cawdor', \"return 'd\", 'malcolm', \"confess 'd\", 'implor', 'highness', 'deep repentance', 'became', 'dearest thing', 'careless trifle', 'duncan', \"mind 's construction\", 'absolute trust', 'enter macbeth', 'banquo', 'ross', 'angus', 'was', 'thou', 'swiftest wing', 'thou hadst', \"deserv 'd\", 'might', 'macbeth', 'your highness', 'safe', 'duncan', 'welcome', 'banquo', \"deserv 'd\", 'infold thee', 'banquo', 'duncan', 'plenteous joys', 'wanton', 'malcolm', 'name hereafter', 'cumberland', 'inverness', 'macbeth', 'duncan', 'cawdor', 'macbeth', '[ _aside._ ]', 'cumberland', 'deep desires', 'eye wink', 'eye fears', '[ _exit._ ]', 'duncan', 'true', 'banquo', 'whose', 'peerless kinsman', '[ _flourish', 'exeunt._', 'scene v. inverness', 'macbeth', 'castle', 'enter', 'macbeth', 'lady macbeth', \"perfect'st report\", 'mortal knowledge', 'whiles', 'thane', 'cawdor', 'weird sisters', 'dearest partner', \"thou might'st\", \"promis 'd thee\", 'lay', 'thy heart', 'glamis', 'thou art', 'cawdor', \"thou art promis 'd\", 'thy nature', 'full o', 'human kindness', 'thou', 'art', 'thou wouldst', 'wouldst thou', \"thou'dst\", 'glamis', 'thou dost', 'than', 'hie', 'thee hither', 'thine ear', 'impedes thee', 'golden round', 'metaphysical aid doth', \"thee crown 'd withal\", 'enter', 'messenger', 'messenger', 'lady macbeth', \"thou'rt\", 'thy master', 'messenger', 'who', 'than', 'lady macbeth', 'great news', '[ _exit', 'messenger._', 'fatal entrance', 'duncan', 'mortal thoughts', 'direst cruelty', 'stop', 'compunctious visitings', 'shake', 'th', \"woman 's breasts\", 'wherever', 'sightless substances', \"nature 's mischief\", 'thick night', 'dunnest smoke', 'keen knife', 'heaven peep', 'hold', 'enter macbeth', 'glamis', 'cawdor', 'all-hail hereafter', 'thy', 'macbeth', 'duncan', 'lady macbeth', 'macbeth', 'tomorrow', 'lady macbeth', 'shall', 'your', 'may', 'strange matters', 'your', 'innocent flower', \"serpent under't\", \"night 's\", 'great business', 'macbeth', 'lady macbeth', '[ _exeunt._ ]', 'scene vi', 'castle', 'hautboys', 'servants', 'macbeth', 'enter duncan', 'malcolm', 'donalbain', 'banquo', 'lennox', 'macduff', 'ross', 'angus', 'attendants', 'duncan', 'castle hath', 'pleasant seat', 'nimbly', 'unto', 'gentle senses', 'banquo', \"heaven 's breath\", 'smells', 'buttress', 'bird hath', 'pendant bed', 'procreant cradle', 'enter', 'macbeth', 'duncan', \"honour 'd hostess\", 'herein', 'god', 'lady macbeth', 'were', 'against', 'broad wherewith', 'your majesty', \"late dignities heap 'd\", 'duncan', 'thane', 'cawdor', \"cours 'd\", 'hath holp', 'noble hostess', 'lady macbeth', 'your', 'have', 'highness', 'duncan', 'conduct', 'mine host', '[ _exeunt._ ]', 'scene vii', 'lobby', 'castle', 'hautboys', 'enter', 'sewer', 'servants', 'macbeth', 'macbeth', 'surcease success', 'might', 'bloody', 'plague th', 'commends', \"poison 'd chalice\", 'own lips', 'double trust', 'strong', 'who', 'murderer shut', 'duncan hath', 'great office', 'will', 'deep damnation', 'new-born babe', 'striding', \"heaven 's cherubin\", 'upon', 'sightless couriers', 'shall', 'horrid deed', 'vaulting', 'enter', 'macbeth', 'lady macbeth', \"supp 'd\", 'macbeth', 'hath', 'lady macbeth', 'know', 'macbeth', \"hath honour 'd\", 'golden opinions', 'lady macbeth', 'was', 'hope drunk', 'wherein', \"dress 'd\", 'hath', 'account thy', 'art', 'thou afeard', 'own act', 'thou art', 'wouldst', \"thou esteem'st\", 'own esteem', 'letting', 'poor cat i', 'macbeth', \"pr'ythee\", 'who', 'lady macbeth', \"beast was't\", 'be', 'does', \"tender 't\", 'have', \"pluck 'd\", 'boneless gums', \"dash 'd\", 'have', 'macbeth', 'lady macbeth', 'duncan', 'whereto', \"day 's\", 'hard journey', 'soundly', 'will', 'shall', 'swinish sleep', 'natures lie', 'th', 'duncan', 'spongy officers', 'great quell', 'macbeth', 'bring', 'will', \"receiv 'd\", \"mark 'd\", 'own chamber', 'lady macbeth', 'who', 'clamour roar', 'upon', 'macbeth', 'corporal agent', 'terrible feat', 'away', 'fairest show', 'false', 'false heart doth', '[ _exeunt._ ]', 'act ii scene i. inverness', 'castle', 'enter banquo', 'fleance', 'banquo', 'fleance', 'banquo', 'fleance', 'banquo', 'hold', \"sword.—there 's husbandry\", 'heavy summons', 'merciful', 'restrain', 'gives', 'enter macbeth', 'servant', \"sword.—who 's\", 'macbeth', 'banquo', \"king 's\", 'unusual pleasure', 'great largess', 'wife withal', 'kind hostess', 'measureless content', 'macbeth', \"unprepar 'd\", 'banquo', 'weird sisters', \"show 'd\", 'macbeth', 'banquo', \"kind'st leisure\", 'macbeth', 'banquo', \"bosom franchis 'd\", \"counsell 'd\", 'macbeth', 'good repose', 'banquo', 'thanks', '[ _exeunt', 'banquo', 'fleance._', 'macbeth', 'bid thy mistress', '[ _exit', 'servant._', 'clutch thee', 'art', 'fatal vision', 'art thou', 'a dagger', 'false creation', 'proceeding', 'thou', 'mine eyes', 'fools o', 'thy blade', \"before.—there 's\", 'such thing', 'bloody business', \"eyes.—now o'er\", 'nature', 'dreams abuse', \"curtain 'd sleep\", 'witchcraft', 'pale hecate', \"'s off'rings\", \"wither 'd murder\", 'alarum', 'whose', \"howl 's\", 'stealthy pace', 'tarquin', 'moves', 'firm-set earth', 'hear', 'thy', 'stones prate', 'present horror', 'words', 'cold breath', '[ _a bell rings._ ]', 'hear', 'duncan', 'summons thee', '[ _exit._ ]', 'scene ii', 'enter', 'macbeth', 'lady macbeth', 'drunk hath', \"hath quench 'd\", \"shriek 'd\", 'fatal bellman', \"stern'st good night\", \"drugg 'd\", 'whether', 'macbeth', '[ _within._ ]', 'who', 'lady macbeth', 'alack', \"awak 'd\", 'th', 'confounds', \"done't.—my husband\", 'enter macbeth', 'macbeth', 'deed.—didst thou', 'lady macbeth', 'owl scream', 'crickets cry', 'macbeth', 'lady macbeth', 'macbeth', 'lady macbeth', 'ay', 'macbeth', 'hark', 'lady macbeth', 'donalbain', 'macbeth', 'sorry sight', 'hands._ ]', 'lady macbeth', 'sorry sight', 'macbeth', \"'s sleep\", 'murder', \"address 'd\", 'lady macbeth', \"lodg 'd\", 'macbeth', 'god', 'amen', \"hangman 's hands\", \"list'ning\", 'amen', 'god', 'lady macbeth', 'consider', 'macbeth', 'amen', 'amen', 'stuck', 'lady macbeth', 'macbeth', 'methought', 'voice cry', 'sleep', 'macbeth', 'murder sleep', 'innocent sleep', 'sleep', \"ravell 'd sleave\", \"day 's life\", \"sore labour 's bath\", 'balm', 'hurt minds', \"great nature 's\", 'chief nourisher', \"life 's feast\", 'lady macbeth', 'macbeth', 'sleep', 'glamis', \"hath murder 'd sleep\", 'cawdor shall', 'macbeth', 'lady macbeth', 'who', 'worthy thane', 'noble strength', 'sleepy grooms', 'macbeth', \"o n't\", 'lady macbeth', 'infirm', \"'ll gild\", 'grooms withal', '[ _exit', 'knocking', 'within._ ]', 'macbeth', 'whence', 'noise appals', 'ha', 'mine eyes', 'will', 'neptune', \"'s ocean\", 'clean', 'multitudinous seas incarnadine', 'making', 'enter', 'macbeth', 'lady macbeth', 'within._ ]', 'your', 'hath', 'unattended.— [', 'within._ ]', 'hark', 'be', 'macbeth', 'within._ ]', 'wake duncan', 'thou couldst', '[ _exeunt._ ]', 'scene iii', 'enter', 'porter', 'knocking', 'porter', 'hell gate', 'old turning', '[ _knocking._ ]', 'knock', \"who's\", 'belzebub', 'napkins enow', \"'ll sweat for't\", '[ _knocking._ ]', 'knock', 'who', \"i' th\", \"devil 's name\", 'faith', 'god', \"'s sake\", '[ _knocking._ ]', 'knock', 'who', 'faith', 'english', 'french hose', '[ _knocking._ ]', 'knock', 'never', \"'ll devil-porter\", 'primrose way', '[ _knocking._ ]', 'anon', '[ _opens', 'gate._ ]', 'enter macduff', 'lennox', 'macduff', 'was', 'porter', 'faith', 'great provoker', 'macduff', 'porter', 'marry', 'lechery', 'macduff', 'porter', 'macduff', 'thy master', 'enter macbeth', \"awak 'd\", 'lennox', 'good morrow', 'noble sir', 'macbeth', 'good morrow', 'macduff', 'worthy thane', 'macbeth', 'macduff', \"slipp 'd\", 'macbeth', 'macduff', 'joyful trouble', 'macbeth', 'physics pain', 'macduff', '[ _exit', 'macduff._', 'lennox', 'goes', 'macbeth', 'lennox', 'lamentings', 'strange screams', 'accents terrible', 'dire combustion', \"confus 'd events\", \"new hatch 'd\", 'woeful time', 'obscure bird', 'clamour', 'live-long night', 'was', 'macbeth', 'rough night', 'lennox', 'young remembrance', 'enter macduff', 'macduff', 'o horror', 'tongue', 'name thee', 'macbeth', 'lennox', 'macduff', 'sacrilegious murder hath', \"lord 's\", 'life o', 'macbeth', 'lennox', 'mean', 'macduff', 'approach', 'gorgon', '[ _exeunt', 'macbeth', 'lennox._', 'awake', 'ring', 'alarum bell.—murder', 'banquo', 'donalbain', 'malcolm', 'shake', 'downy sleep', \"death 's counterfeit\", 'up', \"great doom 's image\", 'malcolm', 'banquo', 'graves rise', '[ _alarum-bell rings._ ]', 'enter', 'macbeth', 'lady macbeth', 'hideous trumpet calls', 'speak', 'macduff', 'o gentle lady', \"woman 's ear\", 'enter banquo', 'banquo', 'banquo', \"royal master 's murder 'd\", 'lady macbeth', 'woe', 'banquo', 'too', 'cruel anywhere.—', 'dear duff', 'contradict thyself', 'enter macbeth', 'lennox', 'ross', 'macbeth', \"liv 'd\", 'mere lees', 'enter malcolm', 'donalbain', 'donalbain', 'macbeth', \"stopp 'd\", \"stopp 'd\", 'macduff', 'your', \"royal father 's murder 'd\", 'malcolm', 'lennox', \"badg 'd\", \"unwip 'd\", 'upon', \"star 'd\", \"man 's life\", 'macbeth', 'macduff', 'wherefore', 'macbeth', 'who', \"amaz 'd\", 'loyal', 'th', 'outrun', 'duncan', \"silver skin lac 'd\", 'golden blood', \"gash 'd stabs\", \"ruin 's\", 'wasteful entrance', 'steep', 'unmannerly', \"breech 'd\", 'who', 'courage', 'lady macbeth', 'macduff', 'malcolm', 'donalbain', 'hid', 'auger hole', \"brew 'd\", 'malcolm', 'strong sorrow', 'upon', 'banquo', '— [ _lady', 'macbeth', 'out._ ]', 'frailties hid', 'bloody piece', 'great hand', 'god', 'against', \"undivulg 'd pretence\", 'treasonous malice', 'macduff', 'all', 'macbeth', 'all', 'well', '[ _exeunt', 'malcolm', 'donalbain._', 'malcolm', 'unfelt sorrow', 'false man', 'england', 'donalbain', 'ireland', 'shall', \"'s daggers\", \"men 's smiles\", 'nearer bloody', 'malcolm', 'murderous shaft', \"'s shot\", 'hath', 'safest way', \"'s warrant\", '[ _exeunt._ ]', 'scene iv', 'castle', 'enter ross', 'old man', 'old man', 'threescore', 'sore night', 'hath', 'ross', 'ha', 'good father', 'thou', \"man 's\", 'threatens', 'bloody stage', \"clock 't\", 'dark night strangles', \"is't\", \"night 's predominance\", \"day 's shame\", 'earth entomb', 'old man', 'was', \"owl hawk 'd\", 'ross', 'duncan', \"'s horses\", 'beauteous', 'turn', 'contending', \"'gainst obedience\", 'old man', 'ross', \"'d upo n't\", 'macduff', 'enter macduff', 'macduff', 'ross', \"is't\", 'bloody deed', 'macduff', 'macbeth', 'hath slain', 'ross', 'alas', 'macduff', \"suborn 'd\", 'malcolm', 'donalbain', \"king 's\", 'suspicion', 'ross', \"'gainst nature\", 'thriftless', 'thine', \"own life 's means\", \"—then 't\", 'macbeth', 'macduff', \"nam 'd\", 'scone', 'ross', 'duncan', \"'s body\", 'macduff', 'carried', 'colmekill', 'ross', 'will', 'scone', 'macduff', 'fife', 'ross', 'well', 'macduff', 'well', 'adieu', 'lest', 'old robes', 'ross', 'farewell', 'old man', 'god', \"'s benison\", '[ _exeunt._ ]', 'act iii scene i. forres', 'enter banquo', 'banquo', 'thou', 'cawdor', 'glamis', 'weird', \"promis 'd\", 'thou', 'thy posterity', 'macbeth', 'speeches shine', 'may', 'sennet', 'enter macbeth', 'macbeth', 'lennox', 'ross', 'lords', 'attendants', 'macbeth', 'chief guest', 'lady macbeth', 'great feast', 'macbeth', 'solemn supper', \"'ll request\", 'banquo', 'highness', 'indissoluble tie', 'macbeth', 'ride', 'banquo', 'ay', 'good lord', 'macbeth', \"desir 'd\", 'good advice', \"day 's council\", \"is't\", 'banquo', \"time 'twixt\", 'dark hour', 'macbeth', 'fail', 'banquo', 'macbeth', 'bloody cousins', 'england', 'ireland', 'cruel parricide', 'strange invention', 'craving', 'hie', 'till', 'goes fleance', 'banquo', 'ay', 'good lord', 'macbeth', 'farewell.—', '[ _exit', 'banquo._', 'till', 'till', 'supper time', 'god', '[ _exeunt lady', 'macbeth', 'lords', 'c._ ]', 'sirrah', 'attend', 'servant', 'palace gate', 'macbeth', 'bring', '[ _exit', 'servant._', 'banquo stick', 'reigns', 'dauntless temper', 'whose', \"rebuk 'd\", 'mark antony', 'caesar', \"hail 'd\", 'upon', \"plac 'd\", 'fruitless crown', 'barren sceptre', 'thence', \"wrench 'd\", 'unlineal hand', \"if't\", 'banquo', \"'s issue\", \"fil 'd\", 'duncan', \"murder 'd\", 'mine eternal jewel', 'common enemy', 'banquo', \"—who 's\", 'enter servant', 'murderers', '[ _exit', 'servant._', 'was', 'first murderer', 'highness', 'macbeth', 'well', 'have', 'know', 'times past', 'innocent self', \"cross 'd\", 'who', \"notion craz'd\", 'say', 'banquo', 'first murderer', 'macbeth', 'your', \"gospell 'd\", 'good man', 'whose', \"heavy hand hath bow 'd\", \"beggar 'd yours\", 'first murderer', 'macbeth', 'ay', 'shoughs', \"valu 'd file\", 'distinguishes', 'according', 'bounteous nature', 'hath', \"clos 'd\", 'particular', 'whose', 'grapples', 'who', 'second murderer', 'whom', 'vile blows', 'hath', \"incens 'd\", 'first murderer', \"tugg 'd\", \"rid o n't\", 'macbeth', 'know banquo', 'both murderers', 'true', 'macbeth', 'such bloody distance', 'against', \"barefac 'd power sweep\", 'will avouch', 'certain friends', 'whose', 'who', 'masking', 'common eye', 'sundry weighty reasons', 'second murderer', 'perform', 'first murderer', 'macbeth', 'your', 'spirits shine', 'acquaint', 'perfect spy o', \"moment o n't\", 'fleance', 'whose', 'than', \"father 's\", 'dark hour', 'resolve', 'both murderers', \"resolv 'd\", 'macbeth', '[ _exeunt', 'murderers._', 'banquo', \"thy soul 's flight\", '[ _exit._ ]', 'scene ii', 'enter', 'macbeth', 'servant', 'lady macbeth', 'banquo', 'servant', 'ay', 'lady macbeth', 'say', 'servant', 'madam', '[ _exit._ ]', 'lady macbeth', 'naught', \"'tis safer\", 'than', 'destruction dwell', 'doubtful joy', 'enter macbeth', 'sorriest fancies', 'macbeth', \"scorch 'd\", 'poor malice', 'remains', 'things disjoint', 'worlds suffer', 'ere', 'terrible dreams', 'whom', 'than', 'restless ecstasy', 'duncan', \"life 's fitful fever\", 'treason', 'malice', 'foreign levy', 'lady macbeth', 'gently', \"sleek o'er\", 'be', 'macbeth', 'banquo', 'present', 'unsafe', 'faces vizards', 'disguising', 'lady macbeth', 'macbeth', 'dear wife', 'thou', 'banquo', 'fleance', 'lady macbeth', \"nature 's copy 's\", 'macbeth', \"'s comfort\", 'thou jocund', 'ere', 'bat hath flown', \"cloister 'd flight\", 'hecate', \"'s summons\", 'shard-born beetle', 'drowsy hums', 'hath', \"rung night 's\", 'dreadful note', 'lady macbeth', 'macbeth', 'be', 'dearest chuck', 'till', 'scarf', 'tender eye', 'pitiful day', 'thy bloody', 'invisible hand', 'cancel', 'great bond', '—light thickens', 'makes', 'rooky wood', 'good things', 'whiles', \"night 's\", 'black agents', 'thou', '[ _exeunt._ ]', 'scene iii', 'enter', 'murderers', 'first murderer', 'bid thee', 'third murderer', 'macbeth', 'second murderer', 'first murderer', 'traveller apace', 'timely inn', 'third murderer', 'hark', 'banquo', '[ _within._ ]', 'second murderer', 'first murderer', 'third murderer', 'palace gate', 'enter banquo', 'fleance', 'second murderer', 'third murderer', 'first murderer', 'stand', 'banquo', 'first murderer', '[ _assaults', 'banquo._', 'banquo', 'fly', 'fleance', 'thou', 'mayst revenge—o slave', '[ _dies', 'fleance', 'escapes._ ]', 'third murderer', 'who', 'first murderer', \"was't\", 'third murderer', 'second murderer', 'first murderer', 'well', '[ _exeunt._ ]', 'scene iv', 'enter macbeth', 'macbeth', 'ross', 'lennox', 'lords', 'attendants', 'macbeth', 'own degrees', 'lords', 'thanks', 'majesty', 'macbeth', 'ourself', 'humble host', 'lady macbeth', 'pronounce', 'heart speaks', 'enter', 'murderer', 'macbeth', 'encounter thee', 'be', \"'ll drink\", 'table round', \"'s blood\", 'murderer', 'banquo', 'macbeth', \"dispatch 'd\", 'murderer', 'macbeth', 'thou', 'fleance', 'thou didst', 'thou art', 'murderer', 'royal sir', 'fleance', \"'scap 'd\", 'macbeth', 'whole', \"cabin 'd\", \"cribb 'd\", \"confin 'd\", 'saucy doubts', 'banquo', 'murderer', 'ay', 'good lord', 'safe', 'macbeth', 'thanks', 'hath', 'venom breed', 'present.—get thee', '[ _exit', 'murderer._', 'lady macbeth', 'royal lord', \"vouch 'd\", 'meeting', 'ghost', 'banquo', 'macbeth', \"'s place\", 'macbeth', 'sweet remembrancer', 'good digestion', 'lennox', \"may't\", 'highness', 'macbeth', \"country 's honour roof 'd\", 'were', \"grac 'd person\", 'banquo', 'who', 'than', 'ross', 'lays', \"please't\", 'highness', 'royal company', 'macbeth', \"table 's\", 'lennox', \"place reserv 'd\", 'macbeth', 'lennox', 'good lord', 'highness', 'macbeth', 'lords', 'good lord', 'macbeth', 'thou', 'never', 'thy', 'gory locks', 'ross', 'gentlemen', 'highness', 'lady macbeth', 'sit', 'worthy friends', 'feed', 'macbeth', 'ay', 'dare look', 'lady macbeth', 'proper stuff', 'air-drawn dagger', 'duncan', 'impostors', \"woman 's story\", \"winter 's fire\", 'authoris', 'shame', 'such faces', 'macbeth', \"pr'ythee\", 'behold', 'thou canst nod', 'charnel houses', 'shall', '[ _ghost disappears._ ]', 'lady macbeth', \"unmann 'd\", 'macbeth', 'lady macbeth', 'fie', 'macbeth', 'blood', 'olden time', 'ere', \"humane statute purg 'd\", 'gentle weal', 'ay', 'too', 'mortal murders', 'than', 'lady macbeth', 'worthy lord', 'your', 'noble friends', 'macbeth', 'worthy friends', 'strange infirmity', 'general joy o', 'whole table', 'dear friend', 'banquo', 'ghost', 'lords', 'macbeth', 'avaunt', 'earth hide thee', 'thy', 'thy blood', 'thou', 'thou dost glare', 'lady macbeth', 'think', 'good peers', 'macbeth', 'man dare', 'approach', \"arm 'd rhinoceros\", 'hyrcan', 'firm nerves', 'shall', 'thy sword', 'hence', 'horrible shadow', 'unreal', '[ _ghost disappears._ ]', 'man again.—pray', 'lady macbeth', 'good meeting', \"admir 'd disorder\", 'macbeth', 'such things', \"summer 's cloud\", 'special wonder', 'such sights', 'natural ruby', \"blanch 'd\", 'ross', 'lady macbeth', 'good night', 'stand', 'lennox', 'good night', 'attend', 'majesty', 'lady macbeth', 'kind good night', '[ _exeunt', 'lords', 'atendants._', 'macbeth', 'stones', 'augurs', \"secret'st man\", 'lady macbeth', 'macbeth', \"say'st thou\", 'macduff', 'lady macbeth', 'macbeth', \"servant fee 'd\", 'weird sisters', 'stepp', 'strange', \"scann 'd\", 'lady macbeth', 'macbeth', 'hard use', '[ _exeunt._ ]', 'scene v.', 'thunder', 'enter', 'witches', 'hecate', 'first witch', 'hecate', 'hecate', 'have', 'saucy', 'macbeth', 'was', 'hath', 'wayward son', 'spiteful', 'loves', 'own ends', 'acheron', 'will', 'your', 'your', 'unto', 'fatal end', 'great business', 'wrought ere noon', 'upon', \"vap'rous drop\", \"'ll catch\", \"distill 'd\", 'magic sleights', 'shall', 'such artificial sprites', 'shall', 'spurn fate', 'scorn death', \"hopes 'bove wisdom\", 'chiefest enemy', '[ _music', 'c._ ]', 'hark', 'sits', 'foggy cloud', '[ _exit._ ]', 'first witch', '[ _exeunt._ ]', 'scene vi', 'forres', 'enter lennox', 'lennox', 'thing', 'duncan was', 'macbeth', 'right valiant', 'banquo', 'whom', 'fleance', 'fleance', 'men', 'who', 'malcolm', 'donalbain', 'gracious father', 'macbeth', 'pious rage', 'delinquents tear', 'was', 'ay', \"anger 'd\", \"men deny't\", 'duncan', \"'s sons\", 'fleance', 'broad words', \"tyrant 's feast\", 'macduff', 'sir', 'lord', 'duncan', 'english', 'edward', 'such grace', 'takes', 'high respect', 'thither macduff', 'northumberland', 'siward', 'him', 'tables meat', 'free', 'banquets bloody knives', 'faithful homage', 'free honours', 'hath', 'prepares', 'lennox', 'macduff', 'lord', 'sir', 'cloudy messenger', \"'ll rue\", 'lennox', 'advise', 'fly', 'england', 'message ere', 'may', \"hand accurs 'd\", 'lord', '[ _exeunt._ ]', 'act iv scene', 'cave', 'cauldron boiling', 'thunder', 'enter', 'witches', 'first witch', 'thrice', \"cat hath mew 'd\", 'second witch', 'thrice', \"hedge-pig whin 'd\", 'third witch', 'harpier', \"—'tis time\", 'first witch', \"poison 'd entrails throw.—\", 'toad', 'cold stone', 'swelter', \"'d venom\", 'boil', 'all', 'second witch', 'fillet', 'fenny snake', 'cauldron boil', 'eye', 'wool', 'adder', \"'s fork\", \"blind-worm 's\", 'lizard', \"'s leg\", \"howlet 's wing\", 'powerful trouble', 'hell-broth boil', 'all', 'third witch', 'scale', 'witch', \"'s mummy\", \"ravin 'd salt-sea shark\", 'root', \"hemlock digg 'd i\", 'liver', 'jew', 'gall', 'sliver', \"moon 's eclipse\", 'nose', 'turk', 'tartar', \"'s lips\", 'finger', 'ditch-deliver', 'gruel thick', \"tiger 's chaudron\", 'all', 'second witch', 'cool', \"baboon 's blood\", 'enter hecate', 'hecate', 'enchanting', '[ _music', 'black spirits', 'c._ ] [ _exit', 'hecate._', 'second witch', 'whoever', 'enter macbeth', 'macbeth', 'midnight hags', 'all', 'macbeth', \"howe'er\", 'against', 'yesty waves', 'confound', 'swallow navigation', \"lodg 'd\", 'trees blown', 'castles topple', \"nature 's germens tumble\", 'till destruction sicken', 'first witch', 'speak', 'second witch', 'demand', 'third witch', 'first witch', 'say', 'macbeth', 'call', 'first witch', 'pour', \"'s blood\", 'hath eaten', \"'s sweaten\", \"murderer 's gibbet\", 'all', 'thyself', '[ _thunder', 'apparition', 'head', 'rises._ ]', 'macbeth', 'unknown power', 'first witch', 'hear', 'thou naught', 'apparition', 'macbeth', 'macbeth', 'macbeth', 'beware macduff', 'beware', 'thane', 'fife.—dismiss', '[ _descends._ ]', 'macbeth', \"whate'er\", 'thou art', 'thy good caution', 'thou', \"hast harp 'd\", 'first witch', '[ _thunder', 'apparition', 'child', 'rises._ ]', 'apparition', 'macbeth', 'macbeth', 'macbeth', 'macbeth', 'apparition', 'be', 'laugh', 'shall', 'macbeth', '[ _descends._ ]', 'macbeth', 'macduff', 'assurance double', 'thou', '[ _thunder', 'apparition', 'child', 'rises._ ]', 'baby brow', 'all', 'listen', 'apparition', 'be', 'who', 'macbeth', \"vanquish 'd\", 'birnam', 'dunsinane', 'shall', '[ _descends._ ]', 'macbeth', 'who', 'unfix', 'earth-bound root', 'sweet bodements', 'rebellious', 'birnam', \"high-plac 'd\", 'macbeth shall', 'mortal custom.—yet', 'throbs', 'banquo', \"'s issue\", 'reign', 'all', 'seek', 'macbeth', 'eternal curse fall', '[ _hautboys._ ]', 'first witch', 'second witch', 'third witch', 'all', '[ _a show', 'banquo', 'following._ ]', 'macbeth', 'thou', 'banquo', 'down', 'thy', 'sear mine eyeballs', '—and thy hair', 'thou', 'gold-bound brow', 'former.—filthy hags', \"—i 'll\", 'twofold balls', 'treble sceptres', 'horrible', \"blood-bolter 'd\", 'banquo', 'first witch', 'ay', 'stands macbeth', \"'ll charm\", 'antic round', 'great king', '[ _music', 'witches', 'vanish._ ]', 'macbeth', 'gone', 'pernicious hour', 'stand', 'enter lennox', 'lennox', 'grace', 'macbeth', 'saw', 'weird sisters', 'lennox', 'macbeth', 'came', 'lennox', 'macbeth', 'infected', 'air whereon', \"damn 'd\", 'lennox', 'macduff', 'england', 'macbeth', 'fled', 'england', 'lennox', 'ay', 'good lord', 'macbeth', \"thou anticipat'st\", 'dread exploits', 'flighty purpose', 'unless', 'macduff', 'seize', 'fife', 'edge o', 'unfortunate souls', '[ _exeunt._ ]', 'scene ii', 'fife', 'macduff', 'castle', 'enter', 'macduff', 'ross', 'lady macduff', 'ross', 'lady macduff', 'ross', 'whether', 'lady macduff', 'wisdom', 'natural touch', 'poor wren', 'young ones', 'ross', 'dearest coz', 'violent sea', 'shall', 'pretty cousin', 'blessing', 'lady macduff', 'father', \"'s fatherless\", 'ross', '[ _exit._ ]', 'lady macduff', 'sirrah', \"father 's\", 'son', 'lady macduff', 'son', 'lady macduff', 'poor', 'son', 'poor', 'lady macduff', 'wilt thou', 'son', 'nay', 'lady macduff', 'son', 'lady macduff', 'thou', 'thy wit', 'son', 'was', 'lady macduff', 'ay', 'son', 'lady macduff', 'son', 'lady macduff', 'son', 'lady macduff', 'son', 'who', 'lady macduff', 'honest men', 'son', 'swearers enow', 'honest men', 'lady macduff', 'god', 'poor monkey', 'wilt thou', 'son', \"you'ld weep\", 'good sign', 'new father', 'lady macduff', 'poor', \"thou talk'st\", 'enter', 'messenger', 'messenger', 'bless', 'fair dame', \"man 's advice\", 'be', 'heaven', '[ _exit._ ]', 'lady macduff', 'whither', 'accounted', 'enter murderers', 'first murderer', 'lady macduff', 'thou mayst', 'first murderer', 'son', 'thou', \"thou shag-ear 'd villain\", 'first murderer', 'him._ ]', 'young fry', 'son', 'run', '[ _dies', 'exit', 'macduff', 'murder', 'murderers._', 'scene iii', 'england', \"king 's palace\", 'enter malcolm', 'macduff', 'malcolm', 'desolate shade', 'weep', 'sad bosoms empty', 'macduff', 'hold', 'mortal sword', 'good men', 'bestride', 'n birthdom', 'new morn', 'new widows howl', 'new orphans cry', 'new sorrows', 'strike', 'scotland', \"yell 'd\", 'malcolm', \"'ll wail\", 'sole name blisters', 'was', 'innocent lamb', 'angry god', 'macduff', 'malcolm', 'macbeth', 'virtuous nature', 'imperial charge', 'things foul', 'macduff', 'malcolm', 'perchance', 'precious motives', 'strong knots', 'own safeties', 'macduff', 'bleed', 'poor country', 'great tyranny', 'lay thou thy basis', 'goodness dare', 'check thee', 'thou thy wrongs', \"affeer'd.—fare thee\", \"thou think'st\", 'whole space', \"tyrant 's grasp\", 'malcolm', 'be', 'country sinks', 'new day', 'england', \"tyrant 's head\", 'poor country', 'shall', 'sundry ways', 'macduff', 'malcolm', \"open 'd\", 'macbeth will', 'poor state', 'esteem', 'confineless harms', 'macduff', 'horrid hell', 'macbeth', 'malcolm', 'luxurious', 'sudden', 'your', 'continent impediments', 'macbeth than', 'macduff', 'boundless', 'th', 'happy throne', 'convey', 'spacious plenty', 'cold—the time', 'willing dames', 'greatness dedicate', 'finding', \"inclin 'd\", 'malcolm', \"ill-compos 'd affection\", 'staunchless avarice', 'desire', \"'s house\", 'quarrels', 'destroying', 'macduff', 'sticks', 'pernicious root', 'than', 'slain kings', 'scotland', 'hath foisons', 'malcolm', 'bounty', 'devotion', 'nay', 'pour', 'sweet milk', 'uproar', 'universal peace', 'macduff', 'scotland', 'scotland', 'malcolm', 'macduff', 'fit', 'live.—o nation', \"tyrant bloody-scepter 'd\", 'shalt thou', 'thy wholesome days', 'truest issue', 'thy throne', \"own interdiction stands accus 'd\", 'thy', 'royal father', 'was', 'bore thee', \"oft'ner\", 'died', 'fare', \"evils thou repeat'st\", 'have', \"banish 'd\", 'scotland.—o', 'thy', 'hope ends', 'malcolm', 'macduff', 'noble passion', 'child', 'wiped', 'black scruples', \"reconcil 'd\", 'thy good truth', 'devilish macbeth', 'trains hath', 'modest wisdom plucks', 'over-credulous haste', 'god', 'deal', 'thy direction', 'unspeak', 'own detraction', 'unknown', 'scarcely', 'false speaking', 'was', \"poor country 's\", 'whither', 'thy here-approach', 'siward', 'warlike men', 'be', 'macduff', 'unwelcome things', 'enter', 'malcolm', 'well', 'doctor', 'ay', 'malady convinces', 'great assay', 'such sanctity hath heaven', 'malcolm', '[ _exit', 'doctor._', 'macduff', 'malcolm', 'miraculous work', 'good king', 'england', 'himself', 'mere despair', 'hanging', 'golden stamp', 'strange virtue', 'sundry blessings', 'enter ross', 'macduff', 'malcolm', 'macduff', 'ever-gentle cousin', 'malcolm', 'god', 'ross', 'sir', 'macduff', 'stands scotland', 'ross', 'alas', 'poor country', 'be', \"mark 'd\", 'violent sorrow', 'modern ecstasy', \"dead man 's knell\", \"good men 's\", 'expire', 'dying', 'macduff', 'too', 'malcolm', 'ross', \"hour 's age doth hiss\", 'minute teems', 'macduff', 'ross', 'macduff', 'ross', 'well', 'macduff', \"batter 'd\", 'ross', 'macduff', 'be', 'ross', 'worthy fellows', \"tyrant 's power afoot\", 'your', 'scotland', 'women fight', 'dire distresses', 'malcolm', \"be't\", 'gracious england', 'lent', 'siward', 'christendom', 'ross', \"howl 'd\", 'desert air', 'macduff', 'ross', 'main part', 'pertains', 'macduff', 'keep', 'ross', 'ears despise', 'macduff', 'humh', 'ross', 'your', \"surpris 'd\", 'savagely', \"slaughter 'd\", 'were', \"murder 'd deer\", 'malcolm', 'merciful', \"ne'er pull\", 'sorrow words', 'whispers', \"o'er-fraught heart\", 'macduff', 'ross', 'wife', 'macduff', 'ross', 'malcolm', 'be', 'great revenge', 'macduff', 'pretty ones', '—o hell-kite', 'pretty chickens', 'malcolm', 'dispute', 'macduff', 'such things', 'me.—did heaven look', 'sinful macduff', 'naught', 'own demerits', 'fell', 'heaven rest', 'malcolm', 'be', 'convert', 'macduff', 'gentle heavens', 'cut', 'bring', 'scotland', \"sword 's length\", 'heaven', 'malcolm', 'macbeth', 'receive', '[ _exeunt._ ]', 'act v scene i. dunsinane', 'castle', 'enter', 'physic', 'waiting-gentlewoman', 'doctor', 'gentlewoman', 'majesty', \"upo n't\", 'afterwards seal', 'doctor', 'great perturbation', 'slumbery agitation', 'actual performances', 'gentlewoman', 'doctor', 'gentlewoman', 'enter', 'macbeth', 'lo', 'observe', 'doctor', 'gentlewoman', 'doctor', 'gentlewoman', 'ay', 'doctor', 'gentlewoman', 'lady macbeth', 'doctor', 'hark', 'lady macbeth', 'hell', 'fie', 'old man', 'doctor', 'lady macbeth', 'thane', 'fife', \"hands ne'er\", 'doctor', 'gentlewoman', 'lady macbeth', 'arabia', 'little hand', 'oh', 'doctor', 'gentlewoman', 'whole body', 'doctor', 'well', 'gentlewoman', 'pray god', 'doctor', 'lady macbeth', 'wash', 'banquo', 'doctor', 'lady macbeth', '[ _exit._ ]', 'doctor', 'will', 'gentlewoman', 'directly', 'doctor', 'foul', 'unnatural', 'breed unnatural troubles', 'deaf pillows', 'god', 'god', 'remove', 'good night', \"amaz 'd\", 'gentlewoman', 'good night', 'good doctor', '[ _exeunt._ ]', 'scene ii', 'dunsinane', 'enter', 'menteith', 'caithness', 'angus', 'lennox', 'soldiers', 'menteith', 'english', 'malcolm', 'siward', 'macduff', 'revenges', 'dear causes', 'grim alarm', 'excite', 'angus', 'near birnam', 'shall', 'caithness', 'who', 'donalbain', 'lennox', 'siward', \"'s son\", 'unrough youths', 'protest', 'menteith', 'caithness', 'dunsinane', 'valiant fury', \"distemper 'd\", 'angus', 'secret murders', 'revolts upbraid', 'hang', \"giant 's robe\", 'upon', 'dwarfish thief', 'menteith', 'who', \"'d senses\", 'itself', 'caithness', 'well', \"ow 'd\", \"country 's purge\", 'lennox', 'sovereign flower', 'birnam', '[ _exeunt', 'marching._ ]', 'scene iii', 'dunsinane', 'castle', 'enter macbeth', 'attendants', 'macbeth', 'bring', 'till birnam', 'dunsinane', 'malcolm', 'was', 'mortal consequences', \"pronounc 'd\", 'fear', 'macbeth', 'shall', '—then fly', 'false thanes', 'english', 'shall', 'enter', 'servant', 'devil damn thee', \"thou cream-fac 'd loon\", \"gott'st thou\", 'goose look', 'servant', 'macbeth', 'geese', 'servant', 'soldiers', 'macbeth', 'prick thy', 'thou', \"lily-liver 'd boy\", 'death', 'thy soul', 'linen cheeks', 'servant', 'english', 'macbeth', '[ _exit', 'servant._', 'seyton', 'will', \"liv 'd\", 'yellow leaf', 'old age', 'curses', 'poor heart', 'seyton', 'enter seyton', 'seyton', 'gracious pleasure', 'macbeth', 'seyton', 'macbeth', \"'ll fight till\", \"hack 'd\", 'seyton', 'macbeth', 'country round', 'hang', 'mine armour.—', 'doctor', 'macbeth', 'cure', 'canst', \"mind diseas 'd\", 'pluck', 'raze', 'sweet oblivious antidote', 'cleanse', \"stuff 'd bosom\", 'perilous stuff', 'doctor', 'therein', 'macbeth', 'throw physic', 'mine armour', 'seyton', 'thanes', 'despatch.—if thou couldst', 'pristine health', 'purgative drug', 'english', \"hear'st\", 'doctor', 'ay', 'good lord', 'your', 'royal preparation', 'makes', 'macbeth', 'bring', 'till birnam', 'dunsinane', '[ _exeunt', 'doctor._', 'doctor', 'were', 'dunsinane', 'profit', '[ _exit._ ]', 'scene iv', 'dunsinane', 'wood', 'enter', 'malcolm', 'siward', 'macduff', 'menteith', 'caithness', 'angus', 'lennox', 'ross', 'soldiers', 'malcolm', 'cousins', 'menteith', 'siward', 'menteith', 'birnam', 'malcolm', 'soldier hew', 'thereby', 'err', 'soldiers', 'siward', 'confident tyrant', 'keeps', 'dunsinane', 'malcolm', 'main hope', 'whose', 'macduff', 'attend', 'true event', 'industrious', 'siward', 'time approaches', 'due decision', 'thoughts', 'unsure hopes relate', 'certain issue strokes', 'towards', '[ _exeunt', 'marching._ ]', 'scene v. dunsinane', 'enter', 'macbeth', 'seyton', 'soldiers', 'macbeth', 'hang', 'outward walls', \"castle 's strength\", 'will', 'till', 'were', \"forc 'd\", 'backward home', '[ _a cry', 'women within._ ]', 'seyton', 'good lord', '[ _exit._ ]', 'macbeth', 'dismal treatise rouse', \"i n't\", \"supp 'd\", 'direness', 'slaughterous thoughts', 'enter seyton', 'wherefore', 'seyton', 'macbeth', 'tomorrow', 'creeps', 'petty pace', 'dusty death', \"life 's\", 'poor player', 'told', 'signifying', 'enter', 'messenger', 'thou', 'thy tongue', 'thy story', 'messenger', 'gracious', 'macbeth', 'well', 'messenger', 'birnam', 'macbeth', 'liar', 'messenger', 'macbeth', \"thou speak'st\", 'upon', 'tree shalt thou', 'till', 'thy speech', 'thou dost', 'doubt th', 'fear', 'birnam', 'dunsinane', 'comes', 'dunsinane.—arm', 'estate o', 'ring', 'alarum bell', '[ _exeunt._ ]', 'scene vi', 'plain', 'castle', 'enter', 'malcolm', 'siward', 'macduff', 'malcolm', 'your', 'leafy screens', 'worthy uncle', 'shall', 'right noble son', 'lead', 'macduff', 'shall', 'according', 'siward', 'fare', \"tyrant 's power\", 'macduff', 'clamorous harbingers', '[ _exeunt._ ]', 'scene vii', 'plain', 'alarums', 'enter macbeth', 'macbeth', \"course.—what 's\", 'am', 'enter', 'siward', 'young siward', 'thy name', 'macbeth', \"thou'lt\", 'young siward', \"thou call'st thyself\", 'hotter name', 'than', 'macbeth', \"name 's\", 'macbeth', 'young siward', 'mine ear', 'macbeth', 'young siward', 'thou', \"lie thou speak'st\", '[ _they fight', 'siward', 'slain._ ]', 'macbeth', 'thou', 'weapons laugh', 'brandish', '[ _exit._ ]', 'alarums', 'enter macduff', 'macduff', 'noise is.—tyrant', 'show thy', \"thou be'st slain\", \"children 's ghosts\", 'either', 'macbeth', \"unbatter 'd edge\", 'thou shouldst', 'great clatter', 'seems', 'fortune', '[ _exit', 'alarums._', 'enter malcolm', 'siward', 'siward', \"—the castle 's\", \"tyrant 's people\", 'noble thanes', 'professes yours', 'malcolm', 'siward', 'enter', '[ _exeunt', 'alarums._', 'scene viii', 'enter macbeth', 'macbeth', 'roman fool', 'own sword', 'enter macduff', 'macduff', 'turn', 'macbeth', 'macduff', 'thou bloodier villain', 'than', '[ _they fight._ ]', 'macbeth', 'thou', 'losest labour', 'easy mayst thou', 'intrenchant air', 'thy keen sword impress', 'fall thy blade', 'vulnerable crests', 'macduff', 'despair', 'thy charm', \"hast serv'd\", 'macduff', \"mother 's womb\", 'untimely', \"ripp 'd\", 'macbeth', 'accursed', \"hath cow 'd\", \"believ 'd\", 'double sense', \"—i 'll\", 'macduff', 'yield thee', 'gaze o', 'rarer monsters', 'painted', 'macbeth', 'malcolm', \"'s feet\", \"rabble 's curse\", 'birnam', 'dunsinane', \"thou oppos 'd\", 'warlike shield', 'macduff', \"damn 'd\", 'hold', '[ _exeunt', 'alarums._', 'retreat', 'flourish', 'enter', 'malcolm', 'siward', 'ross', 'thanes', 'soldiers', 'malcolm', \"safe arriv 'd\", 'siward', 'malcolm', 'macduff', 'noble son', 'ross', 'your', \"soldier 's debt\", \"liv 'd\", \"prowess confirm'd\", 'siward', 'fleance', 'ay', 'your', \"measur 'd\", 'siward', 'ross', 'ay', 'siward', 'god', \"'s soldier\", 'fairer death', \"knoll 'd\", 'malcolm', \"'s worth\", 'siward', \"'s worth\", 'god', 'enter macduff', 'macbeth', \"'s head\", 'macduff', 'thou art', 'behold', 'th', \"usurper 's\", \"thee compass 'd\", \"thy kingdom 's pearl\", 'whose', 'scotland', 'all', 'scotland', '[ _flourish._ ]', 'malcolm', 'large expense', 'henceforth', 'scotland', \"honour nam 'd\", \"exil 'd friends\", 'watchful tyranny', 'producing', 'cruel ministers', 'dead butcher', 'fiend-like queen', 'who', 'violent hands', 'took', 'grace', 'whom', \"crown 'd\", 'scone', '[ _flourish', 'exeunt._', '] end', 'project gutenberg ebook', 'macbeth', 'william shakespeare']\n"
     ]
    }
   ],
   "source": [
    "!pip install textblob --user\n",
    "!pip install nltk --user\n",
    "import nltk\n",
    "try:\n",
    "    nltk.data.find('tokenizers/punkt')\n",
    "except LookupError:\n",
    "    nltk.download('punkt')\n",
    "try:\n",
    "    nltk.data.find('tokenizers/brown')\n",
    "except LookupError:\n",
    "    nltk.download('brown')\n",
    "from textblob import TextBlob\n",
    "macbeth_phrases = TextBlob(macbeth).noun_phrases\n",
    "print(macbeth_phrases)"
   ]
  },
  {
   "cell_type": "markdown",
   "metadata": {},
   "source": [
    "What you're seeing is no longer raw text. It's now a list of strings. How long is the list? Let's find out. `len` is short for \"length\", and it will tell you how many items are in any list."
   ]
  },
  {
   "cell_type": "code",
   "execution_count": 4,
   "metadata": {},
   "outputs": [
    {
     "data": {
      "text/plain": [
       "3226"
      ]
     },
     "execution_count": 4,
     "metadata": {},
     "output_type": "execute_result"
    }
   ],
   "source": [
    "len(macbeth_phrases)"
   ]
  },
  {
   "cell_type": "markdown",
   "metadata": {},
   "source": [
    "Looks like we have over 3000 noun phrases. We don't yet know how many of them are repeated.\n",
    "\n",
    "## Counting everything up\n",
    "\n",
    "Here's where this starts to look like a real science project! Let's count the unique phrases and create a table of how many times they occur. They'll be sorted from most to least frequent."
   ]
  },
  {
   "cell_type": "code",
   "execution_count": 5,
   "metadata": {},
   "outputs": [
    {
     "data": {
      "text/html": [
       "<div>\n",
       "<style scoped>\n",
       "    .dataframe tbody tr th:only-of-type {\n",
       "        vertical-align: middle;\n",
       "    }\n",
       "\n",
       "    .dataframe tbody tr th {\n",
       "        vertical-align: top;\n",
       "    }\n",
       "\n",
       "    .dataframe thead th {\n",
       "        text-align: right;\n",
       "    }\n",
       "</style>\n",
       "<table border=\"1\" class=\"dataframe\">\n",
       "  <thead>\n",
       "    <tr style=\"text-align: right;\">\n",
       "      <th></th>\n",
       "      <th>text</th>\n",
       "      <th>count</th>\n",
       "    </tr>\n",
       "  </thead>\n",
       "  <tbody>\n",
       "    <tr>\n",
       "      <td>0</td>\n",
       "      <td>macbeth</td>\n",
       "      <td>208</td>\n",
       "    </tr>\n",
       "    <tr>\n",
       "      <td>1</td>\n",
       "      <td>macduff</td>\n",
       "      <td>82</td>\n",
       "    </tr>\n",
       "    <tr>\n",
       "      <td>2</td>\n",
       "      <td>banquo</td>\n",
       "      <td>67</td>\n",
       "    </tr>\n",
       "    <tr>\n",
       "      <td>3</td>\n",
       "      <td>lady macbeth</td>\n",
       "      <td>60</td>\n",
       "    </tr>\n",
       "    <tr>\n",
       "      <td>4</td>\n",
       "      <td>malcolm</td>\n",
       "      <td>56</td>\n",
       "    </tr>\n",
       "    <tr>\n",
       "      <td>...</td>\n",
       "      <td>...</td>\n",
       "      <td>...</td>\n",
       "    </tr>\n",
       "    <tr>\n",
       "      <td>1588</td>\n",
       "      <td>speeches shine</td>\n",
       "      <td>1</td>\n",
       "    </tr>\n",
       "    <tr>\n",
       "      <td>1589</td>\n",
       "      <td>'s summons</td>\n",
       "      <td>1</td>\n",
       "    </tr>\n",
       "    <tr>\n",
       "      <td>1590</td>\n",
       "      <td>double cracks</td>\n",
       "      <td>1</td>\n",
       "    </tr>\n",
       "    <tr>\n",
       "      <td>1591</td>\n",
       "      <td>unusual pleasure</td>\n",
       "      <td>1</td>\n",
       "    </tr>\n",
       "    <tr>\n",
       "      <td>1592</td>\n",
       "      <td>strange matters</td>\n",
       "      <td>1</td>\n",
       "    </tr>\n",
       "  </tbody>\n",
       "</table>\n",
       "<p>1593 rows × 2 columns</p>\n",
       "</div>"
      ],
      "text/plain": [
       "                  text  count\n",
       "0              macbeth    208\n",
       "1              macduff     82\n",
       "2               banquo     67\n",
       "3         lady macbeth     60\n",
       "4              malcolm     56\n",
       "...                ...    ...\n",
       "1588    speeches shine      1\n",
       "1589        's summons      1\n",
       "1590     double cracks      1\n",
       "1591  unusual pleasure      1\n",
       "1592   strange matters      1\n",
       "\n",
       "[1593 rows x 2 columns]"
      ]
     },
     "execution_count": 5,
     "metadata": {},
     "output_type": "execute_result"
    }
   ],
   "source": [
    "import pandas as pd\n",
    "unique_texts = list(set(macbeth_phrases))\n",
    "text_counts =  {text: macbeth_phrases.count(text) for text in unique_texts}\n",
    "sorted_texts = sorted(text_counts.items(), key=lambda x: x[1], reverse=True)\n",
    "macbeth_counts = pd.DataFrame(data=sorted_texts, columns=['text', 'count'])\n",
    "macbeth_counts"
   ]
  },
  {
   "cell_type": "markdown",
   "metadata": {},
   "source": [
    "There are a lot of them, so we'll use `.head(20)` which means show the top twenty. In these lists, the first item is always number 0."
   ]
  },
  {
   "cell_type": "code",
   "execution_count": 6,
   "metadata": {},
   "outputs": [
    {
     "data": {
      "text/html": [
       "<div>\n",
       "<style scoped>\n",
       "    .dataframe tbody tr th:only-of-type {\n",
       "        vertical-align: middle;\n",
       "    }\n",
       "\n",
       "    .dataframe tbody tr th {\n",
       "        vertical-align: top;\n",
       "    }\n",
       "\n",
       "    .dataframe thead th {\n",
       "        text-align: right;\n",
       "    }\n",
       "</style>\n",
       "<table border=\"1\" class=\"dataframe\">\n",
       "  <thead>\n",
       "    <tr style=\"text-align: right;\">\n",
       "      <th></th>\n",
       "      <th>text</th>\n",
       "      <th>count</th>\n",
       "    </tr>\n",
       "  </thead>\n",
       "  <tbody>\n",
       "    <tr>\n",
       "      <td>0</td>\n",
       "      <td>macbeth</td>\n",
       "      <td>208</td>\n",
       "    </tr>\n",
       "    <tr>\n",
       "      <td>1</td>\n",
       "      <td>macduff</td>\n",
       "      <td>82</td>\n",
       "    </tr>\n",
       "    <tr>\n",
       "      <td>2</td>\n",
       "      <td>banquo</td>\n",
       "      <td>67</td>\n",
       "    </tr>\n",
       "    <tr>\n",
       "      <td>3</td>\n",
       "      <td>lady macbeth</td>\n",
       "      <td>60</td>\n",
       "    </tr>\n",
       "    <tr>\n",
       "      <td>4</td>\n",
       "      <td>malcolm</td>\n",
       "      <td>56</td>\n",
       "    </tr>\n",
       "    <tr>\n",
       "      <td>5</td>\n",
       "      <td>ross</td>\n",
       "      <td>49</td>\n",
       "    </tr>\n",
       "    <tr>\n",
       "      <td>6</td>\n",
       "      <td>duncan</td>\n",
       "      <td>32</td>\n",
       "    </tr>\n",
       "    <tr>\n",
       "      <td>7</td>\n",
       "      <td>lennox</td>\n",
       "      <td>32</td>\n",
       "    </tr>\n",
       "    <tr>\n",
       "      <td>8</td>\n",
       "      <td>enter</td>\n",
       "      <td>31</td>\n",
       "    </tr>\n",
       "    <tr>\n",
       "      <td>9</td>\n",
       "      <td>who</td>\n",
       "      <td>26</td>\n",
       "    </tr>\n",
       "    <tr>\n",
       "      <td>10</td>\n",
       "      <td>thou</td>\n",
       "      <td>24</td>\n",
       "    </tr>\n",
       "    <tr>\n",
       "      <td>11</td>\n",
       "      <td>first witch</td>\n",
       "      <td>23</td>\n",
       "    </tr>\n",
       "    <tr>\n",
       "      <td>12</td>\n",
       "      <td>siward</td>\n",
       "      <td>23</td>\n",
       "    </tr>\n",
       "    <tr>\n",
       "      <td>13</td>\n",
       "      <td>lady macduff</td>\n",
       "      <td>20</td>\n",
       "    </tr>\n",
       "    <tr>\n",
       "      <td>14</td>\n",
       "      <td>cawdor</td>\n",
       "      <td>20</td>\n",
       "    </tr>\n",
       "    <tr>\n",
       "      <td>15</td>\n",
       "      <td>doctor</td>\n",
       "      <td>20</td>\n",
       "    </tr>\n",
       "    <tr>\n",
       "      <td>16</td>\n",
       "      <td>thane</td>\n",
       "      <td>19</td>\n",
       "    </tr>\n",
       "    <tr>\n",
       "      <td>17</td>\n",
       "      <td>[ _exeunt._ ]</td>\n",
       "      <td>19</td>\n",
       "    </tr>\n",
       "    <tr>\n",
       "      <td>18</td>\n",
       "      <td>castle</td>\n",
       "      <td>19</td>\n",
       "    </tr>\n",
       "    <tr>\n",
       "      <td>19</td>\n",
       "      <td>your</td>\n",
       "      <td>19</td>\n",
       "    </tr>\n",
       "  </tbody>\n",
       "</table>\n",
       "</div>"
      ],
      "text/plain": [
       "             text  count\n",
       "0         macbeth    208\n",
       "1         macduff     82\n",
       "2          banquo     67\n",
       "3    lady macbeth     60\n",
       "4         malcolm     56\n",
       "5            ross     49\n",
       "6          duncan     32\n",
       "7          lennox     32\n",
       "8           enter     31\n",
       "9             who     26\n",
       "10           thou     24\n",
       "11    first witch     23\n",
       "12         siward     23\n",
       "13   lady macduff     20\n",
       "14         cawdor     20\n",
       "15         doctor     20\n",
       "16          thane     19\n",
       "17  [ _exeunt._ ]     19\n",
       "18         castle     19\n",
       "19           your     19"
      ]
     },
     "execution_count": 6,
     "metadata": {},
     "output_type": "execute_result"
    }
   ],
   "source": [
    "macbeth_counts.head(20)"
   ]
  },
  {
   "cell_type": "markdown",
   "metadata": {},
   "source": [
    "There we have it! The top 20 phrases in Macbeth! Let's put those in a plot.\n",
    "\n",
    "## Plotting the results\n",
    "\n",
    "You can do almost any kind of plot or other visual representation of observations like this you could think of in Callysto. We'll use the `cufflinks` library to produce a horizontal bar plot, ordered from most to least frequent word."
   ]
  },
  {
   "cell_type": "code",
   "execution_count": 7,
   "metadata": {},
   "outputs": [
    {
     "data": {
      "text/html": [
       "<script type=\"text/javascript\">\n",
       "window.PlotlyConfig = {MathJaxConfig: 'local'};\n",
       "if (window.MathJax) {MathJax.Hub.Config({SVG: {font: \"STIX-Web\"}});}\n",
       "if (typeof require !== 'undefined') {\n",
       "require.undef(\"plotly\");\n",
       "requirejs.config({\n",
       "    paths: {\n",
       "        'plotly': ['https://cdn.plot.ly/plotly-latest.min']\n",
       "    }\n",
       "});\n",
       "require(['plotly'], function(Plotly) {\n",
       "    window._Plotly = Plotly;\n",
       "});\n",
       "}\n",
       "</script>\n"
      ]
     },
     "metadata": {},
     "output_type": "display_data"
    },
    {
     "data": {
      "application/vnd.plotly.v1+json": {
       "config": {
        "linkText": "Export to plot.ly",
        "plotlyServerURL": "https://plot.ly",
        "showLink": true
       },
       "data": [
        {
         "marker": {
          "color": "rgba(255, 153, 51, 0.6)",
          "line": {
           "color": "rgba(255, 153, 51, 1.0)",
           "width": 1
          }
         },
         "name": "count",
         "orientation": "h",
         "text": "",
         "type": "bar",
         "x": [
          19,
          19,
          19,
          19,
          20,
          20,
          20,
          23,
          23,
          24,
          26,
          31,
          32,
          32,
          49,
          56,
          60,
          67,
          82,
          208
         ],
         "y": [
          "your",
          "[ _exeunt._ ]",
          "thane",
          "castle",
          "doctor",
          "cawdor",
          "lady macduff",
          "siward",
          "first witch",
          "thou",
          "who",
          "enter",
          "lennox",
          "duncan",
          "ross",
          "malcolm",
          "lady macbeth",
          "banquo",
          "macduff",
          "macbeth"
         ]
        }
       ],
       "layout": {
        "legend": {
         "bgcolor": "#1A1A1C",
         "font": {
          "color": "#D9D9D9"
         }
        },
        "paper_bgcolor": "#1A1A1C",
        "plot_bgcolor": "#1A1A1C",
        "template": {
         "data": {
          "bar": [
           {
            "error_x": {
             "color": "#2a3f5f"
            },
            "error_y": {
             "color": "#2a3f5f"
            },
            "marker": {
             "line": {
              "color": "#E5ECF6",
              "width": 0.5
             }
            },
            "type": "bar"
           }
          ],
          "barpolar": [
           {
            "marker": {
             "line": {
              "color": "#E5ECF6",
              "width": 0.5
             }
            },
            "type": "barpolar"
           }
          ],
          "carpet": [
           {
            "aaxis": {
             "endlinecolor": "#2a3f5f",
             "gridcolor": "white",
             "linecolor": "white",
             "minorgridcolor": "white",
             "startlinecolor": "#2a3f5f"
            },
            "baxis": {
             "endlinecolor": "#2a3f5f",
             "gridcolor": "white",
             "linecolor": "white",
             "minorgridcolor": "white",
             "startlinecolor": "#2a3f5f"
            },
            "type": "carpet"
           }
          ],
          "choropleth": [
           {
            "colorbar": {
             "outlinewidth": 0,
             "ticks": ""
            },
            "type": "choropleth"
           }
          ],
          "contour": [
           {
            "colorbar": {
             "outlinewidth": 0,
             "ticks": ""
            },
            "colorscale": [
             [
              0.0,
              "#0d0887"
             ],
             [
              0.1111111111111111,
              "#46039f"
             ],
             [
              0.2222222222222222,
              "#7201a8"
             ],
             [
              0.3333333333333333,
              "#9c179e"
             ],
             [
              0.4444444444444444,
              "#bd3786"
             ],
             [
              0.5555555555555556,
              "#d8576b"
             ],
             [
              0.6666666666666666,
              "#ed7953"
             ],
             [
              0.7777777777777778,
              "#fb9f3a"
             ],
             [
              0.8888888888888888,
              "#fdca26"
             ],
             [
              1.0,
              "#f0f921"
             ]
            ],
            "type": "contour"
           }
          ],
          "contourcarpet": [
           {
            "colorbar": {
             "outlinewidth": 0,
             "ticks": ""
            },
            "type": "contourcarpet"
           }
          ],
          "heatmap": [
           {
            "colorbar": {
             "outlinewidth": 0,
             "ticks": ""
            },
            "colorscale": [
             [
              0.0,
              "#0d0887"
             ],
             [
              0.1111111111111111,
              "#46039f"
             ],
             [
              0.2222222222222222,
              "#7201a8"
             ],
             [
              0.3333333333333333,
              "#9c179e"
             ],
             [
              0.4444444444444444,
              "#bd3786"
             ],
             [
              0.5555555555555556,
              "#d8576b"
             ],
             [
              0.6666666666666666,
              "#ed7953"
             ],
             [
              0.7777777777777778,
              "#fb9f3a"
             ],
             [
              0.8888888888888888,
              "#fdca26"
             ],
             [
              1.0,
              "#f0f921"
             ]
            ],
            "type": "heatmap"
           }
          ],
          "heatmapgl": [
           {
            "colorbar": {
             "outlinewidth": 0,
             "ticks": ""
            },
            "colorscale": [
             [
              0.0,
              "#0d0887"
             ],
             [
              0.1111111111111111,
              "#46039f"
             ],
             [
              0.2222222222222222,
              "#7201a8"
             ],
             [
              0.3333333333333333,
              "#9c179e"
             ],
             [
              0.4444444444444444,
              "#bd3786"
             ],
             [
              0.5555555555555556,
              "#d8576b"
             ],
             [
              0.6666666666666666,
              "#ed7953"
             ],
             [
              0.7777777777777778,
              "#fb9f3a"
             ],
             [
              0.8888888888888888,
              "#fdca26"
             ],
             [
              1.0,
              "#f0f921"
             ]
            ],
            "type": "heatmapgl"
           }
          ],
          "histogram": [
           {
            "marker": {
             "colorbar": {
              "outlinewidth": 0,
              "ticks": ""
             }
            },
            "type": "histogram"
           }
          ],
          "histogram2d": [
           {
            "colorbar": {
             "outlinewidth": 0,
             "ticks": ""
            },
            "colorscale": [
             [
              0.0,
              "#0d0887"
             ],
             [
              0.1111111111111111,
              "#46039f"
             ],
             [
              0.2222222222222222,
              "#7201a8"
             ],
             [
              0.3333333333333333,
              "#9c179e"
             ],
             [
              0.4444444444444444,
              "#bd3786"
             ],
             [
              0.5555555555555556,
              "#d8576b"
             ],
             [
              0.6666666666666666,
              "#ed7953"
             ],
             [
              0.7777777777777778,
              "#fb9f3a"
             ],
             [
              0.8888888888888888,
              "#fdca26"
             ],
             [
              1.0,
              "#f0f921"
             ]
            ],
            "type": "histogram2d"
           }
          ],
          "histogram2dcontour": [
           {
            "colorbar": {
             "outlinewidth": 0,
             "ticks": ""
            },
            "colorscale": [
             [
              0.0,
              "#0d0887"
             ],
             [
              0.1111111111111111,
              "#46039f"
             ],
             [
              0.2222222222222222,
              "#7201a8"
             ],
             [
              0.3333333333333333,
              "#9c179e"
             ],
             [
              0.4444444444444444,
              "#bd3786"
             ],
             [
              0.5555555555555556,
              "#d8576b"
             ],
             [
              0.6666666666666666,
              "#ed7953"
             ],
             [
              0.7777777777777778,
              "#fb9f3a"
             ],
             [
              0.8888888888888888,
              "#fdca26"
             ],
             [
              1.0,
              "#f0f921"
             ]
            ],
            "type": "histogram2dcontour"
           }
          ],
          "mesh3d": [
           {
            "colorbar": {
             "outlinewidth": 0,
             "ticks": ""
            },
            "type": "mesh3d"
           }
          ],
          "parcoords": [
           {
            "line": {
             "colorbar": {
              "outlinewidth": 0,
              "ticks": ""
             }
            },
            "type": "parcoords"
           }
          ],
          "pie": [
           {
            "automargin": true,
            "type": "pie"
           }
          ],
          "scatter": [
           {
            "marker": {
             "colorbar": {
              "outlinewidth": 0,
              "ticks": ""
             }
            },
            "type": "scatter"
           }
          ],
          "scatter3d": [
           {
            "line": {
             "colorbar": {
              "outlinewidth": 0,
              "ticks": ""
             }
            },
            "marker": {
             "colorbar": {
              "outlinewidth": 0,
              "ticks": ""
             }
            },
            "type": "scatter3d"
           }
          ],
          "scattercarpet": [
           {
            "marker": {
             "colorbar": {
              "outlinewidth": 0,
              "ticks": ""
             }
            },
            "type": "scattercarpet"
           }
          ],
          "scattergeo": [
           {
            "marker": {
             "colorbar": {
              "outlinewidth": 0,
              "ticks": ""
             }
            },
            "type": "scattergeo"
           }
          ],
          "scattergl": [
           {
            "marker": {
             "colorbar": {
              "outlinewidth": 0,
              "ticks": ""
             }
            },
            "type": "scattergl"
           }
          ],
          "scattermapbox": [
           {
            "marker": {
             "colorbar": {
              "outlinewidth": 0,
              "ticks": ""
             }
            },
            "type": "scattermapbox"
           }
          ],
          "scatterpolar": [
           {
            "marker": {
             "colorbar": {
              "outlinewidth": 0,
              "ticks": ""
             }
            },
            "type": "scatterpolar"
           }
          ],
          "scatterpolargl": [
           {
            "marker": {
             "colorbar": {
              "outlinewidth": 0,
              "ticks": ""
             }
            },
            "type": "scatterpolargl"
           }
          ],
          "scatterternary": [
           {
            "marker": {
             "colorbar": {
              "outlinewidth": 0,
              "ticks": ""
             }
            },
            "type": "scatterternary"
           }
          ],
          "surface": [
           {
            "colorbar": {
             "outlinewidth": 0,
             "ticks": ""
            },
            "colorscale": [
             [
              0.0,
              "#0d0887"
             ],
             [
              0.1111111111111111,
              "#46039f"
             ],
             [
              0.2222222222222222,
              "#7201a8"
             ],
             [
              0.3333333333333333,
              "#9c179e"
             ],
             [
              0.4444444444444444,
              "#bd3786"
             ],
             [
              0.5555555555555556,
              "#d8576b"
             ],
             [
              0.6666666666666666,
              "#ed7953"
             ],
             [
              0.7777777777777778,
              "#fb9f3a"
             ],
             [
              0.8888888888888888,
              "#fdca26"
             ],
             [
              1.0,
              "#f0f921"
             ]
            ],
            "type": "surface"
           }
          ],
          "table": [
           {
            "cells": {
             "fill": {
              "color": "#EBF0F8"
             },
             "line": {
              "color": "white"
             }
            },
            "header": {
             "fill": {
              "color": "#C8D4E3"
             },
             "line": {
              "color": "white"
             }
            },
            "type": "table"
           }
          ]
         },
         "layout": {
          "annotationdefaults": {
           "arrowcolor": "#2a3f5f",
           "arrowhead": 0,
           "arrowwidth": 1
          },
          "coloraxis": {
           "colorbar": {
            "outlinewidth": 0,
            "ticks": ""
           }
          },
          "colorscale": {
           "diverging": [
            [
             0,
             "#8e0152"
            ],
            [
             0.1,
             "#c51b7d"
            ],
            [
             0.2,
             "#de77ae"
            ],
            [
             0.3,
             "#f1b6da"
            ],
            [
             0.4,
             "#fde0ef"
            ],
            [
             0.5,
             "#f7f7f7"
            ],
            [
             0.6,
             "#e6f5d0"
            ],
            [
             0.7,
             "#b8e186"
            ],
            [
             0.8,
             "#7fbc41"
            ],
            [
             0.9,
             "#4d9221"
            ],
            [
             1,
             "#276419"
            ]
           ],
           "sequential": [
            [
             0.0,
             "#0d0887"
            ],
            [
             0.1111111111111111,
             "#46039f"
            ],
            [
             0.2222222222222222,
             "#7201a8"
            ],
            [
             0.3333333333333333,
             "#9c179e"
            ],
            [
             0.4444444444444444,
             "#bd3786"
            ],
            [
             0.5555555555555556,
             "#d8576b"
            ],
            [
             0.6666666666666666,
             "#ed7953"
            ],
            [
             0.7777777777777778,
             "#fb9f3a"
            ],
            [
             0.8888888888888888,
             "#fdca26"
            ],
            [
             1.0,
             "#f0f921"
            ]
           ],
           "sequentialminus": [
            [
             0.0,
             "#0d0887"
            ],
            [
             0.1111111111111111,
             "#46039f"
            ],
            [
             0.2222222222222222,
             "#7201a8"
            ],
            [
             0.3333333333333333,
             "#9c179e"
            ],
            [
             0.4444444444444444,
             "#bd3786"
            ],
            [
             0.5555555555555556,
             "#d8576b"
            ],
            [
             0.6666666666666666,
             "#ed7953"
            ],
            [
             0.7777777777777778,
             "#fb9f3a"
            ],
            [
             0.8888888888888888,
             "#fdca26"
            ],
            [
             1.0,
             "#f0f921"
            ]
           ]
          },
          "colorway": [
           "#636efa",
           "#EF553B",
           "#00cc96",
           "#ab63fa",
           "#FFA15A",
           "#19d3f3",
           "#FF6692",
           "#B6E880",
           "#FF97FF",
           "#FECB52"
          ],
          "font": {
           "color": "#2a3f5f"
          },
          "geo": {
           "bgcolor": "white",
           "lakecolor": "white",
           "landcolor": "#E5ECF6",
           "showlakes": true,
           "showland": true,
           "subunitcolor": "white"
          },
          "hoverlabel": {
           "align": "left"
          },
          "hovermode": "closest",
          "mapbox": {
           "style": "light"
          },
          "paper_bgcolor": "white",
          "plot_bgcolor": "#E5ECF6",
          "polar": {
           "angularaxis": {
            "gridcolor": "white",
            "linecolor": "white",
            "ticks": ""
           },
           "bgcolor": "#E5ECF6",
           "radialaxis": {
            "gridcolor": "white",
            "linecolor": "white",
            "ticks": ""
           }
          },
          "scene": {
           "xaxis": {
            "backgroundcolor": "#E5ECF6",
            "gridcolor": "white",
            "gridwidth": 2,
            "linecolor": "white",
            "showbackground": true,
            "ticks": "",
            "zerolinecolor": "white"
           },
           "yaxis": {
            "backgroundcolor": "#E5ECF6",
            "gridcolor": "white",
            "gridwidth": 2,
            "linecolor": "white",
            "showbackground": true,
            "ticks": "",
            "zerolinecolor": "white"
           },
           "zaxis": {
            "backgroundcolor": "#E5ECF6",
            "gridcolor": "white",
            "gridwidth": 2,
            "linecolor": "white",
            "showbackground": true,
            "ticks": "",
            "zerolinecolor": "white"
           }
          },
          "shapedefaults": {
           "line": {
            "color": "#2a3f5f"
           }
          },
          "ternary": {
           "aaxis": {
            "gridcolor": "white",
            "linecolor": "white",
            "ticks": ""
           },
           "baxis": {
            "gridcolor": "white",
            "linecolor": "white",
            "ticks": ""
           },
           "bgcolor": "#E5ECF6",
           "caxis": {
            "gridcolor": "white",
            "linecolor": "white",
            "ticks": ""
           }
          },
          "title": {
           "x": 0.05
          },
          "xaxis": {
           "automargin": true,
           "gridcolor": "white",
           "linecolor": "white",
           "ticks": "",
           "title": {
            "standoff": 15
           },
           "zerolinecolor": "white",
           "zerolinewidth": 2
          },
          "yaxis": {
           "automargin": true,
           "gridcolor": "white",
           "linecolor": "white",
           "ticks": "",
           "title": {
            "standoff": 15
           },
           "zerolinecolor": "white",
           "zerolinewidth": 2
          }
         }
        },
        "title": {
         "font": {
          "color": "#D9D9D9"
         },
         "text": "Phrase Frequencies in MacBeth"
        },
        "xaxis": {
         "gridcolor": "#434343",
         "showgrid": true,
         "tickfont": {
          "color": "#C2C2C2"
         },
         "title": {
          "font": {
           "color": "#D9D9D9"
          },
          "text": "Count"
         },
         "zerolinecolor": "#666570"
        },
        "yaxis": {
         "gridcolor": "#434343",
         "showgrid": true,
         "tickfont": {
          "color": "#C2C2C2"
         },
         "title": {
          "font": {
           "color": "#D9D9D9"
          },
          "text": ""
         },
         "zerolinecolor": "#666570"
        }
       }
      },
      "text/html": [
       "<div>\n",
       "\n",
       "\n",
       "            <div id=\"713a8f94-a1d4-4843-a503-29cc2c9a3a09\" class=\"plotly-graph-div\" style=\"height:525px; width:100%;\"></div>\n",
       "            <script type=\"text/javascript\">\n",
       "                require([\"plotly\"], function(Plotly) {\n",
       "                    window.PLOTLYENV=window.PLOTLYENV || {};\n",
       "                    window.PLOTLYENV.BASE_URL='https://plot.ly';\n",
       "\n",
       "                if (document.getElementById(\"713a8f94-a1d4-4843-a503-29cc2c9a3a09\")) {\n",
       "                    Plotly.newPlot(\n",
       "                        '713a8f94-a1d4-4843-a503-29cc2c9a3a09',\n",
       "                        [{\"marker\": {\"color\": \"rgba(255, 153, 51, 0.6)\", \"line\": {\"color\": \"rgba(255, 153, 51, 1.0)\", \"width\": 1}}, \"name\": \"count\", \"orientation\": \"h\", \"text\": \"\", \"type\": \"bar\", \"x\": [19, 19, 19, 19, 20, 20, 20, 23, 23, 24, 26, 31, 32, 32, 49, 56, 60, 67, 82, 208], \"y\": [\"your\", \"[ _exeunt._ ]\", \"thane\", \"castle\", \"doctor\", \"cawdor\", \"lady macduff\", \"siward\", \"first witch\", \"thou\", \"who\", \"enter\", \"lennox\", \"duncan\", \"ross\", \"malcolm\", \"lady macbeth\", \"banquo\", \"macduff\", \"macbeth\"]}],\n",
       "                        {\"legend\": {\"bgcolor\": \"#1A1A1C\", \"font\": {\"color\": \"#D9D9D9\"}}, \"paper_bgcolor\": \"#1A1A1C\", \"plot_bgcolor\": \"#1A1A1C\", \"template\": {\"data\": {\"bar\": [{\"error_x\": {\"color\": \"#2a3f5f\"}, \"error_y\": {\"color\": \"#2a3f5f\"}, \"marker\": {\"line\": {\"color\": \"#E5ECF6\", \"width\": 0.5}}, \"type\": \"bar\"}], \"barpolar\": [{\"marker\": {\"line\": {\"color\": \"#E5ECF6\", \"width\": 0.5}}, \"type\": \"barpolar\"}], \"carpet\": [{\"aaxis\": {\"endlinecolor\": \"#2a3f5f\", \"gridcolor\": \"white\", \"linecolor\": \"white\", \"minorgridcolor\": \"white\", \"startlinecolor\": \"#2a3f5f\"}, \"baxis\": {\"endlinecolor\": \"#2a3f5f\", \"gridcolor\": \"white\", \"linecolor\": \"white\", \"minorgridcolor\": \"white\", \"startlinecolor\": \"#2a3f5f\"}, \"type\": \"carpet\"}], \"choropleth\": [{\"colorbar\": {\"outlinewidth\": 0, \"ticks\": \"\"}, \"type\": \"choropleth\"}], \"contour\": [{\"colorbar\": {\"outlinewidth\": 0, \"ticks\": \"\"}, \"colorscale\": [[0.0, \"#0d0887\"], [0.1111111111111111, \"#46039f\"], [0.2222222222222222, \"#7201a8\"], [0.3333333333333333, \"#9c179e\"], [0.4444444444444444, \"#bd3786\"], [0.5555555555555556, \"#d8576b\"], [0.6666666666666666, \"#ed7953\"], [0.7777777777777778, \"#fb9f3a\"], [0.8888888888888888, \"#fdca26\"], [1.0, \"#f0f921\"]], \"type\": \"contour\"}], \"contourcarpet\": [{\"colorbar\": {\"outlinewidth\": 0, \"ticks\": \"\"}, \"type\": \"contourcarpet\"}], \"heatmap\": [{\"colorbar\": {\"outlinewidth\": 0, \"ticks\": \"\"}, \"colorscale\": [[0.0, \"#0d0887\"], [0.1111111111111111, \"#46039f\"], [0.2222222222222222, \"#7201a8\"], [0.3333333333333333, \"#9c179e\"], [0.4444444444444444, \"#bd3786\"], [0.5555555555555556, \"#d8576b\"], [0.6666666666666666, \"#ed7953\"], [0.7777777777777778, \"#fb9f3a\"], [0.8888888888888888, \"#fdca26\"], [1.0, \"#f0f921\"]], \"type\": \"heatmap\"}], \"heatmapgl\": [{\"colorbar\": {\"outlinewidth\": 0, \"ticks\": \"\"}, \"colorscale\": [[0.0, \"#0d0887\"], [0.1111111111111111, \"#46039f\"], [0.2222222222222222, \"#7201a8\"], [0.3333333333333333, \"#9c179e\"], [0.4444444444444444, \"#bd3786\"], [0.5555555555555556, \"#d8576b\"], [0.6666666666666666, \"#ed7953\"], [0.7777777777777778, \"#fb9f3a\"], [0.8888888888888888, \"#fdca26\"], [1.0, \"#f0f921\"]], \"type\": \"heatmapgl\"}], \"histogram\": [{\"marker\": {\"colorbar\": {\"outlinewidth\": 0, \"ticks\": \"\"}}, \"type\": \"histogram\"}], \"histogram2d\": [{\"colorbar\": {\"outlinewidth\": 0, \"ticks\": \"\"}, \"colorscale\": [[0.0, \"#0d0887\"], [0.1111111111111111, \"#46039f\"], [0.2222222222222222, \"#7201a8\"], [0.3333333333333333, \"#9c179e\"], [0.4444444444444444, \"#bd3786\"], [0.5555555555555556, \"#d8576b\"], [0.6666666666666666, \"#ed7953\"], [0.7777777777777778, \"#fb9f3a\"], [0.8888888888888888, \"#fdca26\"], [1.0, \"#f0f921\"]], \"type\": \"histogram2d\"}], \"histogram2dcontour\": [{\"colorbar\": {\"outlinewidth\": 0, \"ticks\": \"\"}, \"colorscale\": [[0.0, \"#0d0887\"], [0.1111111111111111, \"#46039f\"], [0.2222222222222222, \"#7201a8\"], [0.3333333333333333, \"#9c179e\"], [0.4444444444444444, \"#bd3786\"], [0.5555555555555556, \"#d8576b\"], [0.6666666666666666, \"#ed7953\"], [0.7777777777777778, \"#fb9f3a\"], [0.8888888888888888, \"#fdca26\"], [1.0, \"#f0f921\"]], \"type\": \"histogram2dcontour\"}], \"mesh3d\": [{\"colorbar\": {\"outlinewidth\": 0, \"ticks\": \"\"}, \"type\": \"mesh3d\"}], \"parcoords\": [{\"line\": {\"colorbar\": {\"outlinewidth\": 0, \"ticks\": \"\"}}, \"type\": \"parcoords\"}], \"pie\": [{\"automargin\": true, \"type\": \"pie\"}], \"scatter\": [{\"marker\": {\"colorbar\": {\"outlinewidth\": 0, \"ticks\": \"\"}}, \"type\": \"scatter\"}], \"scatter3d\": [{\"line\": {\"colorbar\": {\"outlinewidth\": 0, \"ticks\": \"\"}}, \"marker\": {\"colorbar\": {\"outlinewidth\": 0, \"ticks\": \"\"}}, \"type\": \"scatter3d\"}], \"scattercarpet\": [{\"marker\": {\"colorbar\": {\"outlinewidth\": 0, \"ticks\": \"\"}}, \"type\": \"scattercarpet\"}], \"scattergeo\": [{\"marker\": {\"colorbar\": {\"outlinewidth\": 0, \"ticks\": \"\"}}, \"type\": \"scattergeo\"}], \"scattergl\": [{\"marker\": {\"colorbar\": {\"outlinewidth\": 0, \"ticks\": \"\"}}, \"type\": \"scattergl\"}], \"scattermapbox\": [{\"marker\": {\"colorbar\": {\"outlinewidth\": 0, \"ticks\": \"\"}}, \"type\": \"scattermapbox\"}], \"scatterpolar\": [{\"marker\": {\"colorbar\": {\"outlinewidth\": 0, \"ticks\": \"\"}}, \"type\": \"scatterpolar\"}], \"scatterpolargl\": [{\"marker\": {\"colorbar\": {\"outlinewidth\": 0, \"ticks\": \"\"}}, \"type\": \"scatterpolargl\"}], \"scatterternary\": [{\"marker\": {\"colorbar\": {\"outlinewidth\": 0, \"ticks\": \"\"}}, \"type\": \"scatterternary\"}], \"surface\": [{\"colorbar\": {\"outlinewidth\": 0, \"ticks\": \"\"}, \"colorscale\": [[0.0, \"#0d0887\"], [0.1111111111111111, \"#46039f\"], [0.2222222222222222, \"#7201a8\"], [0.3333333333333333, \"#9c179e\"], [0.4444444444444444, \"#bd3786\"], [0.5555555555555556, \"#d8576b\"], [0.6666666666666666, \"#ed7953\"], [0.7777777777777778, \"#fb9f3a\"], [0.8888888888888888, \"#fdca26\"], [1.0, \"#f0f921\"]], \"type\": \"surface\"}], \"table\": [{\"cells\": {\"fill\": {\"color\": \"#EBF0F8\"}, \"line\": {\"color\": \"white\"}}, \"header\": {\"fill\": {\"color\": \"#C8D4E3\"}, \"line\": {\"color\": \"white\"}}, \"type\": \"table\"}]}, \"layout\": {\"annotationdefaults\": {\"arrowcolor\": \"#2a3f5f\", \"arrowhead\": 0, \"arrowwidth\": 1}, \"coloraxis\": {\"colorbar\": {\"outlinewidth\": 0, \"ticks\": \"\"}}, \"colorscale\": {\"diverging\": [[0, \"#8e0152\"], [0.1, \"#c51b7d\"], [0.2, \"#de77ae\"], [0.3, \"#f1b6da\"], [0.4, \"#fde0ef\"], [0.5, \"#f7f7f7\"], [0.6, \"#e6f5d0\"], [0.7, \"#b8e186\"], [0.8, \"#7fbc41\"], [0.9, \"#4d9221\"], [1, \"#276419\"]], \"sequential\": [[0.0, \"#0d0887\"], [0.1111111111111111, \"#46039f\"], [0.2222222222222222, \"#7201a8\"], [0.3333333333333333, \"#9c179e\"], [0.4444444444444444, \"#bd3786\"], [0.5555555555555556, \"#d8576b\"], [0.6666666666666666, \"#ed7953\"], [0.7777777777777778, \"#fb9f3a\"], [0.8888888888888888, \"#fdca26\"], [1.0, \"#f0f921\"]], \"sequentialminus\": [[0.0, \"#0d0887\"], [0.1111111111111111, \"#46039f\"], [0.2222222222222222, \"#7201a8\"], [0.3333333333333333, \"#9c179e\"], [0.4444444444444444, \"#bd3786\"], [0.5555555555555556, \"#d8576b\"], [0.6666666666666666, \"#ed7953\"], [0.7777777777777778, \"#fb9f3a\"], [0.8888888888888888, \"#fdca26\"], [1.0, \"#f0f921\"]]}, \"colorway\": [\"#636efa\", \"#EF553B\", \"#00cc96\", \"#ab63fa\", \"#FFA15A\", \"#19d3f3\", \"#FF6692\", \"#B6E880\", \"#FF97FF\", \"#FECB52\"], \"font\": {\"color\": \"#2a3f5f\"}, \"geo\": {\"bgcolor\": \"white\", \"lakecolor\": \"white\", \"landcolor\": \"#E5ECF6\", \"showlakes\": true, \"showland\": true, \"subunitcolor\": \"white\"}, \"hoverlabel\": {\"align\": \"left\"}, \"hovermode\": \"closest\", \"mapbox\": {\"style\": \"light\"}, \"paper_bgcolor\": \"white\", \"plot_bgcolor\": \"#E5ECF6\", \"polar\": {\"angularaxis\": {\"gridcolor\": \"white\", \"linecolor\": \"white\", \"ticks\": \"\"}, \"bgcolor\": \"#E5ECF6\", \"radialaxis\": {\"gridcolor\": \"white\", \"linecolor\": \"white\", \"ticks\": \"\"}}, \"scene\": {\"xaxis\": {\"backgroundcolor\": \"#E5ECF6\", \"gridcolor\": \"white\", \"gridwidth\": 2, \"linecolor\": \"white\", \"showbackground\": true, \"ticks\": \"\", \"zerolinecolor\": \"white\"}, \"yaxis\": {\"backgroundcolor\": \"#E5ECF6\", \"gridcolor\": \"white\", \"gridwidth\": 2, \"linecolor\": \"white\", \"showbackground\": true, \"ticks\": \"\", \"zerolinecolor\": \"white\"}, \"zaxis\": {\"backgroundcolor\": \"#E5ECF6\", \"gridcolor\": \"white\", \"gridwidth\": 2, \"linecolor\": \"white\", \"showbackground\": true, \"ticks\": \"\", \"zerolinecolor\": \"white\"}}, \"shapedefaults\": {\"line\": {\"color\": \"#2a3f5f\"}}, \"ternary\": {\"aaxis\": {\"gridcolor\": \"white\", \"linecolor\": \"white\", \"ticks\": \"\"}, \"baxis\": {\"gridcolor\": \"white\", \"linecolor\": \"white\", \"ticks\": \"\"}, \"bgcolor\": \"#E5ECF6\", \"caxis\": {\"gridcolor\": \"white\", \"linecolor\": \"white\", \"ticks\": \"\"}}, \"title\": {\"x\": 0.05}, \"xaxis\": {\"automargin\": true, \"gridcolor\": \"white\", \"linecolor\": \"white\", \"ticks\": \"\", \"title\": {\"standoff\": 15}, \"zerolinecolor\": \"white\", \"zerolinewidth\": 2}, \"yaxis\": {\"automargin\": true, \"gridcolor\": \"white\", \"linecolor\": \"white\", \"ticks\": \"\", \"title\": {\"standoff\": 15}, \"zerolinecolor\": \"white\", \"zerolinewidth\": 2}}}, \"title\": {\"font\": {\"color\": \"#D9D9D9\"}, \"text\": \"Phrase Frequencies in MacBeth\"}, \"xaxis\": {\"gridcolor\": \"#434343\", \"showgrid\": true, \"tickfont\": {\"color\": \"#C2C2C2\"}, \"title\": {\"font\": {\"color\": \"#D9D9D9\"}, \"text\": \"Count\"}, \"zerolinecolor\": \"#666570\"}, \"yaxis\": {\"gridcolor\": \"#434343\", \"showgrid\": true, \"tickfont\": {\"color\": \"#C2C2C2\"}, \"title\": {\"font\": {\"color\": \"#D9D9D9\"}, \"text\": \"\"}, \"zerolinecolor\": \"#666570\"}},\n",
       "                        {\"showLink\": true, \"linkText\": \"Export to plot.ly\", \"plotlyServerURL\": \"https://plot.ly\", \"responsive\": true}\n",
       "                    ).then(function(){\n",
       "\n",
       "var gd = document.getElementById('713a8f94-a1d4-4843-a503-29cc2c9a3a09');\n",
       "var x = new MutationObserver(function (mutations, observer) {{\n",
       "        var display = window.getComputedStyle(gd).display;\n",
       "        if (!display || display === 'none') {{\n",
       "            console.log([gd, 'removed!']);\n",
       "            Plotly.purge(gd);\n",
       "            observer.disconnect();\n",
       "        }}\n",
       "}});\n",
       "\n",
       "// Listen for the removal of the full notebook cells\n",
       "var notebookContainer = gd.closest('#notebook-container');\n",
       "if (notebookContainer) {{\n",
       "    x.observe(notebookContainer, {childList: true});\n",
       "}}\n",
       "\n",
       "// Listen for the clearing of the current output cell\n",
       "var outputEl = gd.closest('.output');\n",
       "if (outputEl) {{\n",
       "    x.observe(outputEl, {childList: true});\n",
       "}}\n",
       "\n",
       "                        })\n",
       "                };\n",
       "                });\n",
       "            </script>\n",
       "        </div>"
      ]
     },
     "metadata": {},
     "output_type": "display_data"
    }
   ],
   "source": [
    "import cufflinks as cf\n",
    "cf.go_offline()\n",
    "macbeth_counts_sorted = macbeth_counts.head(20).sort_values(by='count', ascending=True)\n",
    "macbeth_counts_sorted.iplot(kind='barh', x='text', y='count', title='Phrase Frequencies in MacBeth', xTitle='Count')"
   ]
  },
  {
   "cell_type": "markdown",
   "metadata": {},
   "source": [
    "Surprise, surprise. *Macbeth* is the top phrase in Macbeth. Our main character is mentioned more than twice the number of times as the next most frequent phrase, *Macduff*, and more than three times the frequency that *Lady Macbeth* is mentioned.\n",
    "\n",
    "## Thinking about the results\n",
    "\n",
    "One of the first things we might realize from this simple investigation is the importance of proper nouns. Phrases containing the main characters occur far more frequently than other phrases, and the main character of the play is mentioned far more times than any other characters.\n",
    "\n",
    "Are these observations particular to Macbeth? Or to Shakespeare's plays? Or are they more universal?\n",
    "\n",
    "Now that we've gone through Macbeth, how hard could it be to look at other texts?\n",
    "\n",
    "Let's define a function to to download an ebook from a text url, pull out all the noun phrases, count them up, and plot them. We can then use this for any ebook text that we would like to visualize."
   ]
  },
  {
   "cell_type": "code",
   "execution_count": 8,
   "metadata": {},
   "outputs": [
    {
     "name": "stdout",
     "output_type": "stream",
     "text": [
      "Word frequency plot function defined.\n"
     ]
    }
   ],
   "source": [
    "def word_frequency_plot(text_url):\n",
    "    r = requests.get(text_url)\n",
    "    r.encoding = 'utf-8'\n",
    "    if 'gutenberg' in text_url:\n",
    "        text = r.text.split('***')[2]\n",
    "    else:\n",
    "        text = r.text\n",
    "    text = text.replace(\"’\",\"'\").replace(\"“\",'\"').replace(\"”\",'\"')\n",
    "    phrases = TextBlob(text).noun_phrases\n",
    "    unique_texts = list(set(phrases))\n",
    "    text_counts =  {text: phrases.count(text) for text in unique_texts}\n",
    "    sorted_texts = sorted(text_counts.items(), key=lambda x: x[1], reverse=True)\n",
    "    counts = pd.DataFrame(data=sorted_texts, columns=['text', 'count'])\n",
    "    counts_sorted = counts.head(20).sort_values(by='count', ascending=True)\n",
    "    counts_sorted.iplot(kind='barh', x='text', y='count', title='Phrase Frequencies', xTitle='Count')\n",
    "print('Word frequency plot function defined.')"
   ]
  },
  {
   "cell_type": "markdown",
   "metadata": {},
   "source": [
    "## Looking at Hamlet\n",
    "\n",
    "**Hamlet** can be found on [Project Gutenberg](http://www.gutenberg.org) under [EBook-No. 1524](http://www.gutenberg.org/ebooks/1524).\n",
    "\n",
    "Run the following code to download **Hamlet**, pull out all the noun phrases, count them up, and plot them out."
   ]
  },
  {
   "cell_type": "code",
   "execution_count": 9,
   "metadata": {},
   "outputs": [
    {
     "data": {
      "application/vnd.plotly.v1+json": {
       "config": {
        "linkText": "Export to plot.ly",
        "plotlyServerURL": "https://plot.ly",
        "showLink": true
       },
       "data": [
        {
         "marker": {
          "color": "rgba(255, 153, 51, 0.6)",
          "line": {
           "color": "rgba(255, 153, 51, 1.0)",
           "width": 1
          }
         },
         "name": "count",
         "orientation": "h",
         "text": "",
         "type": "bar",
         "x": [
          21,
          24,
          24,
          26,
          29,
          29,
          30,
          30,
          33,
          35,
          46,
          58,
          69,
          73,
          79,
          102,
          102,
          104,
          147,
          447
         ],
         "y": [
          "england",
          "who",
          "nay",
          "denmark",
          "castle",
          "barnardo",
          "osric",
          "god",
          "first clown",
          "ay",
          "marcellus",
          "guildenstern",
          "queen",
          "rosencrantz",
          "ophelia",
          "laertes",
          "king",
          "polonius",
          "horatio",
          "hamlet"
         ]
        }
       ],
       "layout": {
        "legend": {
         "bgcolor": "#1A1A1C",
         "font": {
          "color": "#D9D9D9"
         }
        },
        "paper_bgcolor": "#1A1A1C",
        "plot_bgcolor": "#1A1A1C",
        "template": {
         "data": {
          "bar": [
           {
            "error_x": {
             "color": "#2a3f5f"
            },
            "error_y": {
             "color": "#2a3f5f"
            },
            "marker": {
             "line": {
              "color": "#E5ECF6",
              "width": 0.5
             }
            },
            "type": "bar"
           }
          ],
          "barpolar": [
           {
            "marker": {
             "line": {
              "color": "#E5ECF6",
              "width": 0.5
             }
            },
            "type": "barpolar"
           }
          ],
          "carpet": [
           {
            "aaxis": {
             "endlinecolor": "#2a3f5f",
             "gridcolor": "white",
             "linecolor": "white",
             "minorgridcolor": "white",
             "startlinecolor": "#2a3f5f"
            },
            "baxis": {
             "endlinecolor": "#2a3f5f",
             "gridcolor": "white",
             "linecolor": "white",
             "minorgridcolor": "white",
             "startlinecolor": "#2a3f5f"
            },
            "type": "carpet"
           }
          ],
          "choropleth": [
           {
            "colorbar": {
             "outlinewidth": 0,
             "ticks": ""
            },
            "type": "choropleth"
           }
          ],
          "contour": [
           {
            "colorbar": {
             "outlinewidth": 0,
             "ticks": ""
            },
            "colorscale": [
             [
              0.0,
              "#0d0887"
             ],
             [
              0.1111111111111111,
              "#46039f"
             ],
             [
              0.2222222222222222,
              "#7201a8"
             ],
             [
              0.3333333333333333,
              "#9c179e"
             ],
             [
              0.4444444444444444,
              "#bd3786"
             ],
             [
              0.5555555555555556,
              "#d8576b"
             ],
             [
              0.6666666666666666,
              "#ed7953"
             ],
             [
              0.7777777777777778,
              "#fb9f3a"
             ],
             [
              0.8888888888888888,
              "#fdca26"
             ],
             [
              1.0,
              "#f0f921"
             ]
            ],
            "type": "contour"
           }
          ],
          "contourcarpet": [
           {
            "colorbar": {
             "outlinewidth": 0,
             "ticks": ""
            },
            "type": "contourcarpet"
           }
          ],
          "heatmap": [
           {
            "colorbar": {
             "outlinewidth": 0,
             "ticks": ""
            },
            "colorscale": [
             [
              0.0,
              "#0d0887"
             ],
             [
              0.1111111111111111,
              "#46039f"
             ],
             [
              0.2222222222222222,
              "#7201a8"
             ],
             [
              0.3333333333333333,
              "#9c179e"
             ],
             [
              0.4444444444444444,
              "#bd3786"
             ],
             [
              0.5555555555555556,
              "#d8576b"
             ],
             [
              0.6666666666666666,
              "#ed7953"
             ],
             [
              0.7777777777777778,
              "#fb9f3a"
             ],
             [
              0.8888888888888888,
              "#fdca26"
             ],
             [
              1.0,
              "#f0f921"
             ]
            ],
            "type": "heatmap"
           }
          ],
          "heatmapgl": [
           {
            "colorbar": {
             "outlinewidth": 0,
             "ticks": ""
            },
            "colorscale": [
             [
              0.0,
              "#0d0887"
             ],
             [
              0.1111111111111111,
              "#46039f"
             ],
             [
              0.2222222222222222,
              "#7201a8"
             ],
             [
              0.3333333333333333,
              "#9c179e"
             ],
             [
              0.4444444444444444,
              "#bd3786"
             ],
             [
              0.5555555555555556,
              "#d8576b"
             ],
             [
              0.6666666666666666,
              "#ed7953"
             ],
             [
              0.7777777777777778,
              "#fb9f3a"
             ],
             [
              0.8888888888888888,
              "#fdca26"
             ],
             [
              1.0,
              "#f0f921"
             ]
            ],
            "type": "heatmapgl"
           }
          ],
          "histogram": [
           {
            "marker": {
             "colorbar": {
              "outlinewidth": 0,
              "ticks": ""
             }
            },
            "type": "histogram"
           }
          ],
          "histogram2d": [
           {
            "colorbar": {
             "outlinewidth": 0,
             "ticks": ""
            },
            "colorscale": [
             [
              0.0,
              "#0d0887"
             ],
             [
              0.1111111111111111,
              "#46039f"
             ],
             [
              0.2222222222222222,
              "#7201a8"
             ],
             [
              0.3333333333333333,
              "#9c179e"
             ],
             [
              0.4444444444444444,
              "#bd3786"
             ],
             [
              0.5555555555555556,
              "#d8576b"
             ],
             [
              0.6666666666666666,
              "#ed7953"
             ],
             [
              0.7777777777777778,
              "#fb9f3a"
             ],
             [
              0.8888888888888888,
              "#fdca26"
             ],
             [
              1.0,
              "#f0f921"
             ]
            ],
            "type": "histogram2d"
           }
          ],
          "histogram2dcontour": [
           {
            "colorbar": {
             "outlinewidth": 0,
             "ticks": ""
            },
            "colorscale": [
             [
              0.0,
              "#0d0887"
             ],
             [
              0.1111111111111111,
              "#46039f"
             ],
             [
              0.2222222222222222,
              "#7201a8"
             ],
             [
              0.3333333333333333,
              "#9c179e"
             ],
             [
              0.4444444444444444,
              "#bd3786"
             ],
             [
              0.5555555555555556,
              "#d8576b"
             ],
             [
              0.6666666666666666,
              "#ed7953"
             ],
             [
              0.7777777777777778,
              "#fb9f3a"
             ],
             [
              0.8888888888888888,
              "#fdca26"
             ],
             [
              1.0,
              "#f0f921"
             ]
            ],
            "type": "histogram2dcontour"
           }
          ],
          "mesh3d": [
           {
            "colorbar": {
             "outlinewidth": 0,
             "ticks": ""
            },
            "type": "mesh3d"
           }
          ],
          "parcoords": [
           {
            "line": {
             "colorbar": {
              "outlinewidth": 0,
              "ticks": ""
             }
            },
            "type": "parcoords"
           }
          ],
          "pie": [
           {
            "automargin": true,
            "type": "pie"
           }
          ],
          "scatter": [
           {
            "marker": {
             "colorbar": {
              "outlinewidth": 0,
              "ticks": ""
             }
            },
            "type": "scatter"
           }
          ],
          "scatter3d": [
           {
            "line": {
             "colorbar": {
              "outlinewidth": 0,
              "ticks": ""
             }
            },
            "marker": {
             "colorbar": {
              "outlinewidth": 0,
              "ticks": ""
             }
            },
            "type": "scatter3d"
           }
          ],
          "scattercarpet": [
           {
            "marker": {
             "colorbar": {
              "outlinewidth": 0,
              "ticks": ""
             }
            },
            "type": "scattercarpet"
           }
          ],
          "scattergeo": [
           {
            "marker": {
             "colorbar": {
              "outlinewidth": 0,
              "ticks": ""
             }
            },
            "type": "scattergeo"
           }
          ],
          "scattergl": [
           {
            "marker": {
             "colorbar": {
              "outlinewidth": 0,
              "ticks": ""
             }
            },
            "type": "scattergl"
           }
          ],
          "scattermapbox": [
           {
            "marker": {
             "colorbar": {
              "outlinewidth": 0,
              "ticks": ""
             }
            },
            "type": "scattermapbox"
           }
          ],
          "scatterpolar": [
           {
            "marker": {
             "colorbar": {
              "outlinewidth": 0,
              "ticks": ""
             }
            },
            "type": "scatterpolar"
           }
          ],
          "scatterpolargl": [
           {
            "marker": {
             "colorbar": {
              "outlinewidth": 0,
              "ticks": ""
             }
            },
            "type": "scatterpolargl"
           }
          ],
          "scatterternary": [
           {
            "marker": {
             "colorbar": {
              "outlinewidth": 0,
              "ticks": ""
             }
            },
            "type": "scatterternary"
           }
          ],
          "surface": [
           {
            "colorbar": {
             "outlinewidth": 0,
             "ticks": ""
            },
            "colorscale": [
             [
              0.0,
              "#0d0887"
             ],
             [
              0.1111111111111111,
              "#46039f"
             ],
             [
              0.2222222222222222,
              "#7201a8"
             ],
             [
              0.3333333333333333,
              "#9c179e"
             ],
             [
              0.4444444444444444,
              "#bd3786"
             ],
             [
              0.5555555555555556,
              "#d8576b"
             ],
             [
              0.6666666666666666,
              "#ed7953"
             ],
             [
              0.7777777777777778,
              "#fb9f3a"
             ],
             [
              0.8888888888888888,
              "#fdca26"
             ],
             [
              1.0,
              "#f0f921"
             ]
            ],
            "type": "surface"
           }
          ],
          "table": [
           {
            "cells": {
             "fill": {
              "color": "#EBF0F8"
             },
             "line": {
              "color": "white"
             }
            },
            "header": {
             "fill": {
              "color": "#C8D4E3"
             },
             "line": {
              "color": "white"
             }
            },
            "type": "table"
           }
          ]
         },
         "layout": {
          "annotationdefaults": {
           "arrowcolor": "#2a3f5f",
           "arrowhead": 0,
           "arrowwidth": 1
          },
          "coloraxis": {
           "colorbar": {
            "outlinewidth": 0,
            "ticks": ""
           }
          },
          "colorscale": {
           "diverging": [
            [
             0,
             "#8e0152"
            ],
            [
             0.1,
             "#c51b7d"
            ],
            [
             0.2,
             "#de77ae"
            ],
            [
             0.3,
             "#f1b6da"
            ],
            [
             0.4,
             "#fde0ef"
            ],
            [
             0.5,
             "#f7f7f7"
            ],
            [
             0.6,
             "#e6f5d0"
            ],
            [
             0.7,
             "#b8e186"
            ],
            [
             0.8,
             "#7fbc41"
            ],
            [
             0.9,
             "#4d9221"
            ],
            [
             1,
             "#276419"
            ]
           ],
           "sequential": [
            [
             0.0,
             "#0d0887"
            ],
            [
             0.1111111111111111,
             "#46039f"
            ],
            [
             0.2222222222222222,
             "#7201a8"
            ],
            [
             0.3333333333333333,
             "#9c179e"
            ],
            [
             0.4444444444444444,
             "#bd3786"
            ],
            [
             0.5555555555555556,
             "#d8576b"
            ],
            [
             0.6666666666666666,
             "#ed7953"
            ],
            [
             0.7777777777777778,
             "#fb9f3a"
            ],
            [
             0.8888888888888888,
             "#fdca26"
            ],
            [
             1.0,
             "#f0f921"
            ]
           ],
           "sequentialminus": [
            [
             0.0,
             "#0d0887"
            ],
            [
             0.1111111111111111,
             "#46039f"
            ],
            [
             0.2222222222222222,
             "#7201a8"
            ],
            [
             0.3333333333333333,
             "#9c179e"
            ],
            [
             0.4444444444444444,
             "#bd3786"
            ],
            [
             0.5555555555555556,
             "#d8576b"
            ],
            [
             0.6666666666666666,
             "#ed7953"
            ],
            [
             0.7777777777777778,
             "#fb9f3a"
            ],
            [
             0.8888888888888888,
             "#fdca26"
            ],
            [
             1.0,
             "#f0f921"
            ]
           ]
          },
          "colorway": [
           "#636efa",
           "#EF553B",
           "#00cc96",
           "#ab63fa",
           "#FFA15A",
           "#19d3f3",
           "#FF6692",
           "#B6E880",
           "#FF97FF",
           "#FECB52"
          ],
          "font": {
           "color": "#2a3f5f"
          },
          "geo": {
           "bgcolor": "white",
           "lakecolor": "white",
           "landcolor": "#E5ECF6",
           "showlakes": true,
           "showland": true,
           "subunitcolor": "white"
          },
          "hoverlabel": {
           "align": "left"
          },
          "hovermode": "closest",
          "mapbox": {
           "style": "light"
          },
          "paper_bgcolor": "white",
          "plot_bgcolor": "#E5ECF6",
          "polar": {
           "angularaxis": {
            "gridcolor": "white",
            "linecolor": "white",
            "ticks": ""
           },
           "bgcolor": "#E5ECF6",
           "radialaxis": {
            "gridcolor": "white",
            "linecolor": "white",
            "ticks": ""
           }
          },
          "scene": {
           "xaxis": {
            "backgroundcolor": "#E5ECF6",
            "gridcolor": "white",
            "gridwidth": 2,
            "linecolor": "white",
            "showbackground": true,
            "ticks": "",
            "zerolinecolor": "white"
           },
           "yaxis": {
            "backgroundcolor": "#E5ECF6",
            "gridcolor": "white",
            "gridwidth": 2,
            "linecolor": "white",
            "showbackground": true,
            "ticks": "",
            "zerolinecolor": "white"
           },
           "zaxis": {
            "backgroundcolor": "#E5ECF6",
            "gridcolor": "white",
            "gridwidth": 2,
            "linecolor": "white",
            "showbackground": true,
            "ticks": "",
            "zerolinecolor": "white"
           }
          },
          "shapedefaults": {
           "line": {
            "color": "#2a3f5f"
           }
          },
          "ternary": {
           "aaxis": {
            "gridcolor": "white",
            "linecolor": "white",
            "ticks": ""
           },
           "baxis": {
            "gridcolor": "white",
            "linecolor": "white",
            "ticks": ""
           },
           "bgcolor": "#E5ECF6",
           "caxis": {
            "gridcolor": "white",
            "linecolor": "white",
            "ticks": ""
           }
          },
          "title": {
           "x": 0.05
          },
          "xaxis": {
           "automargin": true,
           "gridcolor": "white",
           "linecolor": "white",
           "ticks": "",
           "title": {
            "standoff": 15
           },
           "zerolinecolor": "white",
           "zerolinewidth": 2
          },
          "yaxis": {
           "automargin": true,
           "gridcolor": "white",
           "linecolor": "white",
           "ticks": "",
           "title": {
            "standoff": 15
           },
           "zerolinecolor": "white",
           "zerolinewidth": 2
          }
         }
        },
        "title": {
         "font": {
          "color": "#D9D9D9"
         },
         "text": "Phrase Frequencies"
        },
        "xaxis": {
         "gridcolor": "#434343",
         "showgrid": true,
         "tickfont": {
          "color": "#C2C2C2"
         },
         "title": {
          "font": {
           "color": "#D9D9D9"
          },
          "text": "Count"
         },
         "zerolinecolor": "#666570"
        },
        "yaxis": {
         "gridcolor": "#434343",
         "showgrid": true,
         "tickfont": {
          "color": "#C2C2C2"
         },
         "title": {
          "font": {
           "color": "#D9D9D9"
          },
          "text": ""
         },
         "zerolinecolor": "#666570"
        }
       }
      },
      "text/html": [
       "<div>\n",
       "\n",
       "\n",
       "            <div id=\"311503c8-6ac4-4404-9851-a01273a6350e\" class=\"plotly-graph-div\" style=\"height:525px; width:100%;\"></div>\n",
       "            <script type=\"text/javascript\">\n",
       "                require([\"plotly\"], function(Plotly) {\n",
       "                    window.PLOTLYENV=window.PLOTLYENV || {};\n",
       "                    window.PLOTLYENV.BASE_URL='https://plot.ly';\n",
       "\n",
       "                if (document.getElementById(\"311503c8-6ac4-4404-9851-a01273a6350e\")) {\n",
       "                    Plotly.newPlot(\n",
       "                        '311503c8-6ac4-4404-9851-a01273a6350e',\n",
       "                        [{\"marker\": {\"color\": \"rgba(255, 153, 51, 0.6)\", \"line\": {\"color\": \"rgba(255, 153, 51, 1.0)\", \"width\": 1}}, \"name\": \"count\", \"orientation\": \"h\", \"text\": \"\", \"type\": \"bar\", \"x\": [21, 24, 24, 26, 29, 29, 30, 30, 33, 35, 46, 58, 69, 73, 79, 102, 102, 104, 147, 447], \"y\": [\"england\", \"who\", \"nay\", \"denmark\", \"castle\", \"barnardo\", \"osric\", \"god\", \"first clown\", \"ay\", \"marcellus\", \"guildenstern\", \"queen\", \"rosencrantz\", \"ophelia\", \"laertes\", \"king\", \"polonius\", \"horatio\", \"hamlet\"]}],\n",
       "                        {\"legend\": {\"bgcolor\": \"#1A1A1C\", \"font\": {\"color\": \"#D9D9D9\"}}, \"paper_bgcolor\": \"#1A1A1C\", \"plot_bgcolor\": \"#1A1A1C\", \"template\": {\"data\": {\"bar\": [{\"error_x\": {\"color\": \"#2a3f5f\"}, \"error_y\": {\"color\": \"#2a3f5f\"}, \"marker\": {\"line\": {\"color\": \"#E5ECF6\", \"width\": 0.5}}, \"type\": \"bar\"}], \"barpolar\": [{\"marker\": {\"line\": {\"color\": \"#E5ECF6\", \"width\": 0.5}}, \"type\": \"barpolar\"}], \"carpet\": [{\"aaxis\": {\"endlinecolor\": \"#2a3f5f\", \"gridcolor\": \"white\", \"linecolor\": \"white\", \"minorgridcolor\": \"white\", \"startlinecolor\": \"#2a3f5f\"}, \"baxis\": {\"endlinecolor\": \"#2a3f5f\", \"gridcolor\": \"white\", \"linecolor\": \"white\", \"minorgridcolor\": \"white\", \"startlinecolor\": \"#2a3f5f\"}, \"type\": \"carpet\"}], \"choropleth\": [{\"colorbar\": {\"outlinewidth\": 0, \"ticks\": \"\"}, \"type\": \"choropleth\"}], \"contour\": [{\"colorbar\": {\"outlinewidth\": 0, \"ticks\": \"\"}, \"colorscale\": [[0.0, \"#0d0887\"], [0.1111111111111111, \"#46039f\"], [0.2222222222222222, \"#7201a8\"], [0.3333333333333333, \"#9c179e\"], [0.4444444444444444, \"#bd3786\"], [0.5555555555555556, \"#d8576b\"], [0.6666666666666666, \"#ed7953\"], [0.7777777777777778, \"#fb9f3a\"], [0.8888888888888888, \"#fdca26\"], [1.0, \"#f0f921\"]], \"type\": \"contour\"}], \"contourcarpet\": [{\"colorbar\": {\"outlinewidth\": 0, \"ticks\": \"\"}, \"type\": \"contourcarpet\"}], \"heatmap\": [{\"colorbar\": {\"outlinewidth\": 0, \"ticks\": \"\"}, \"colorscale\": [[0.0, \"#0d0887\"], [0.1111111111111111, \"#46039f\"], [0.2222222222222222, \"#7201a8\"], [0.3333333333333333, \"#9c179e\"], [0.4444444444444444, \"#bd3786\"], [0.5555555555555556, \"#d8576b\"], [0.6666666666666666, \"#ed7953\"], [0.7777777777777778, \"#fb9f3a\"], [0.8888888888888888, \"#fdca26\"], [1.0, \"#f0f921\"]], \"type\": \"heatmap\"}], \"heatmapgl\": [{\"colorbar\": {\"outlinewidth\": 0, \"ticks\": \"\"}, \"colorscale\": [[0.0, \"#0d0887\"], [0.1111111111111111, \"#46039f\"], [0.2222222222222222, \"#7201a8\"], [0.3333333333333333, \"#9c179e\"], [0.4444444444444444, \"#bd3786\"], [0.5555555555555556, \"#d8576b\"], [0.6666666666666666, \"#ed7953\"], [0.7777777777777778, \"#fb9f3a\"], [0.8888888888888888, \"#fdca26\"], [1.0, \"#f0f921\"]], \"type\": \"heatmapgl\"}], \"histogram\": [{\"marker\": {\"colorbar\": {\"outlinewidth\": 0, \"ticks\": \"\"}}, \"type\": \"histogram\"}], \"histogram2d\": [{\"colorbar\": {\"outlinewidth\": 0, \"ticks\": \"\"}, \"colorscale\": [[0.0, \"#0d0887\"], [0.1111111111111111, \"#46039f\"], [0.2222222222222222, \"#7201a8\"], [0.3333333333333333, \"#9c179e\"], [0.4444444444444444, \"#bd3786\"], [0.5555555555555556, \"#d8576b\"], [0.6666666666666666, \"#ed7953\"], [0.7777777777777778, \"#fb9f3a\"], [0.8888888888888888, \"#fdca26\"], [1.0, \"#f0f921\"]], \"type\": \"histogram2d\"}], \"histogram2dcontour\": [{\"colorbar\": {\"outlinewidth\": 0, \"ticks\": \"\"}, \"colorscale\": [[0.0, \"#0d0887\"], [0.1111111111111111, \"#46039f\"], [0.2222222222222222, \"#7201a8\"], [0.3333333333333333, \"#9c179e\"], [0.4444444444444444, \"#bd3786\"], [0.5555555555555556, \"#d8576b\"], [0.6666666666666666, \"#ed7953\"], [0.7777777777777778, \"#fb9f3a\"], [0.8888888888888888, \"#fdca26\"], [1.0, \"#f0f921\"]], \"type\": \"histogram2dcontour\"}], \"mesh3d\": [{\"colorbar\": {\"outlinewidth\": 0, \"ticks\": \"\"}, \"type\": \"mesh3d\"}], \"parcoords\": [{\"line\": {\"colorbar\": {\"outlinewidth\": 0, \"ticks\": \"\"}}, \"type\": \"parcoords\"}], \"pie\": [{\"automargin\": true, \"type\": \"pie\"}], \"scatter\": [{\"marker\": {\"colorbar\": {\"outlinewidth\": 0, \"ticks\": \"\"}}, \"type\": \"scatter\"}], \"scatter3d\": [{\"line\": {\"colorbar\": {\"outlinewidth\": 0, \"ticks\": \"\"}}, \"marker\": {\"colorbar\": {\"outlinewidth\": 0, \"ticks\": \"\"}}, \"type\": \"scatter3d\"}], \"scattercarpet\": [{\"marker\": {\"colorbar\": {\"outlinewidth\": 0, \"ticks\": \"\"}}, \"type\": \"scattercarpet\"}], \"scattergeo\": [{\"marker\": {\"colorbar\": {\"outlinewidth\": 0, \"ticks\": \"\"}}, \"type\": \"scattergeo\"}], \"scattergl\": [{\"marker\": {\"colorbar\": {\"outlinewidth\": 0, \"ticks\": \"\"}}, \"type\": \"scattergl\"}], \"scattermapbox\": [{\"marker\": {\"colorbar\": {\"outlinewidth\": 0, \"ticks\": \"\"}}, \"type\": \"scattermapbox\"}], \"scatterpolar\": [{\"marker\": {\"colorbar\": {\"outlinewidth\": 0, \"ticks\": \"\"}}, \"type\": \"scatterpolar\"}], \"scatterpolargl\": [{\"marker\": {\"colorbar\": {\"outlinewidth\": 0, \"ticks\": \"\"}}, \"type\": \"scatterpolargl\"}], \"scatterternary\": [{\"marker\": {\"colorbar\": {\"outlinewidth\": 0, \"ticks\": \"\"}}, \"type\": \"scatterternary\"}], \"surface\": [{\"colorbar\": {\"outlinewidth\": 0, \"ticks\": \"\"}, \"colorscale\": [[0.0, \"#0d0887\"], [0.1111111111111111, \"#46039f\"], [0.2222222222222222, \"#7201a8\"], [0.3333333333333333, \"#9c179e\"], [0.4444444444444444, \"#bd3786\"], [0.5555555555555556, \"#d8576b\"], [0.6666666666666666, \"#ed7953\"], [0.7777777777777778, \"#fb9f3a\"], [0.8888888888888888, \"#fdca26\"], [1.0, \"#f0f921\"]], \"type\": \"surface\"}], \"table\": [{\"cells\": {\"fill\": {\"color\": \"#EBF0F8\"}, \"line\": {\"color\": \"white\"}}, \"header\": {\"fill\": {\"color\": \"#C8D4E3\"}, \"line\": {\"color\": \"white\"}}, \"type\": \"table\"}]}, \"layout\": {\"annotationdefaults\": {\"arrowcolor\": \"#2a3f5f\", \"arrowhead\": 0, \"arrowwidth\": 1}, \"coloraxis\": {\"colorbar\": {\"outlinewidth\": 0, \"ticks\": \"\"}}, \"colorscale\": {\"diverging\": [[0, \"#8e0152\"], [0.1, \"#c51b7d\"], [0.2, \"#de77ae\"], [0.3, \"#f1b6da\"], [0.4, \"#fde0ef\"], [0.5, \"#f7f7f7\"], [0.6, \"#e6f5d0\"], [0.7, \"#b8e186\"], [0.8, \"#7fbc41\"], [0.9, \"#4d9221\"], [1, \"#276419\"]], \"sequential\": [[0.0, \"#0d0887\"], [0.1111111111111111, \"#46039f\"], [0.2222222222222222, \"#7201a8\"], [0.3333333333333333, \"#9c179e\"], [0.4444444444444444, \"#bd3786\"], [0.5555555555555556, \"#d8576b\"], [0.6666666666666666, \"#ed7953\"], [0.7777777777777778, \"#fb9f3a\"], [0.8888888888888888, \"#fdca26\"], [1.0, \"#f0f921\"]], \"sequentialminus\": [[0.0, \"#0d0887\"], [0.1111111111111111, \"#46039f\"], [0.2222222222222222, \"#7201a8\"], [0.3333333333333333, \"#9c179e\"], [0.4444444444444444, \"#bd3786\"], [0.5555555555555556, \"#d8576b\"], [0.6666666666666666, \"#ed7953\"], [0.7777777777777778, \"#fb9f3a\"], [0.8888888888888888, \"#fdca26\"], [1.0, \"#f0f921\"]]}, \"colorway\": [\"#636efa\", \"#EF553B\", \"#00cc96\", \"#ab63fa\", \"#FFA15A\", \"#19d3f3\", \"#FF6692\", \"#B6E880\", \"#FF97FF\", \"#FECB52\"], \"font\": {\"color\": \"#2a3f5f\"}, \"geo\": {\"bgcolor\": \"white\", \"lakecolor\": \"white\", \"landcolor\": \"#E5ECF6\", \"showlakes\": true, \"showland\": true, \"subunitcolor\": \"white\"}, \"hoverlabel\": {\"align\": \"left\"}, \"hovermode\": \"closest\", \"mapbox\": {\"style\": \"light\"}, \"paper_bgcolor\": \"white\", \"plot_bgcolor\": \"#E5ECF6\", \"polar\": {\"angularaxis\": {\"gridcolor\": \"white\", \"linecolor\": \"white\", \"ticks\": \"\"}, \"bgcolor\": \"#E5ECF6\", \"radialaxis\": {\"gridcolor\": \"white\", \"linecolor\": \"white\", \"ticks\": \"\"}}, \"scene\": {\"xaxis\": {\"backgroundcolor\": \"#E5ECF6\", \"gridcolor\": \"white\", \"gridwidth\": 2, \"linecolor\": \"white\", \"showbackground\": true, \"ticks\": \"\", \"zerolinecolor\": \"white\"}, \"yaxis\": {\"backgroundcolor\": \"#E5ECF6\", \"gridcolor\": \"white\", \"gridwidth\": 2, \"linecolor\": \"white\", \"showbackground\": true, \"ticks\": \"\", \"zerolinecolor\": \"white\"}, \"zaxis\": {\"backgroundcolor\": \"#E5ECF6\", \"gridcolor\": \"white\", \"gridwidth\": 2, \"linecolor\": \"white\", \"showbackground\": true, \"ticks\": \"\", \"zerolinecolor\": \"white\"}}, \"shapedefaults\": {\"line\": {\"color\": \"#2a3f5f\"}}, \"ternary\": {\"aaxis\": {\"gridcolor\": \"white\", \"linecolor\": \"white\", \"ticks\": \"\"}, \"baxis\": {\"gridcolor\": \"white\", \"linecolor\": \"white\", \"ticks\": \"\"}, \"bgcolor\": \"#E5ECF6\", \"caxis\": {\"gridcolor\": \"white\", \"linecolor\": \"white\", \"ticks\": \"\"}}, \"title\": {\"x\": 0.05}, \"xaxis\": {\"automargin\": true, \"gridcolor\": \"white\", \"linecolor\": \"white\", \"ticks\": \"\", \"title\": {\"standoff\": 15}, \"zerolinecolor\": \"white\", \"zerolinewidth\": 2}, \"yaxis\": {\"automargin\": true, \"gridcolor\": \"white\", \"linecolor\": \"white\", \"ticks\": \"\", \"title\": {\"standoff\": 15}, \"zerolinecolor\": \"white\", \"zerolinewidth\": 2}}}, \"title\": {\"font\": {\"color\": \"#D9D9D9\"}, \"text\": \"Phrase Frequencies\"}, \"xaxis\": {\"gridcolor\": \"#434343\", \"showgrid\": true, \"tickfont\": {\"color\": \"#C2C2C2\"}, \"title\": {\"font\": {\"color\": \"#D9D9D9\"}, \"text\": \"Count\"}, \"zerolinecolor\": \"#666570\"}, \"yaxis\": {\"gridcolor\": \"#434343\", \"showgrid\": true, \"tickfont\": {\"color\": \"#C2C2C2\"}, \"title\": {\"font\": {\"color\": \"#D9D9D9\"}, \"text\": \"\"}, \"zerolinecolor\": \"#666570\"}},\n",
       "                        {\"showLink\": true, \"linkText\": \"Export to plot.ly\", \"plotlyServerURL\": \"https://plot.ly\", \"responsive\": true}\n",
       "                    ).then(function(){\n",
       "\n",
       "var gd = document.getElementById('311503c8-6ac4-4404-9851-a01273a6350e');\n",
       "var x = new MutationObserver(function (mutations, observer) {{\n",
       "        var display = window.getComputedStyle(gd).display;\n",
       "        if (!display || display === 'none') {{\n",
       "            console.log([gd, 'removed!']);\n",
       "            Plotly.purge(gd);\n",
       "            observer.disconnect();\n",
       "        }}\n",
       "}});\n",
       "\n",
       "// Listen for the removal of the full notebook cells\n",
       "var notebookContainer = gd.closest('#notebook-container');\n",
       "if (notebookContainer) {{\n",
       "    x.observe(notebookContainer, {childList: true});\n",
       "}}\n",
       "\n",
       "// Listen for the clearing of the current output cell\n",
       "var outputEl = gd.closest('.output');\n",
       "if (outputEl) {{\n",
       "    x.observe(outputEl, {childList: true});\n",
       "}}\n",
       "\n",
       "                        })\n",
       "                };\n",
       "                });\n",
       "            </script>\n",
       "        </div>"
      ]
     },
     "metadata": {},
     "output_type": "display_data"
    }
   ],
   "source": [
    "word_frequency_plot('http://www.gutenberg.org/files/1524/1524-0.txt')"
   ]
  },
  {
   "cell_type": "markdown",
   "metadata": {},
   "source": [
    "## Conclusion\n",
    "\n",
    "Now that we have a function to plot word frequency, you can try this with other ebooks from [Project Gutenberg](http://www.gutenberg.org). You could also try running this on news articles or any other text, although there may be some tweaks required.\n",
    "\n",
    "However this example is only scratching the surface of natural language processing. Libraries such as [spaCy](https://spacy.io) can be used to identify [parts of speech](https://spacy.io/api/annotation#pos-tagging), [vaderSentiment](https://github.com/cjhutto/vaderSentiment) can categorize text based on its tone, and [textstat](https://github.com/shivam5992/textstat) can check the readability and complexity of text. Examples can be found [here](https://github.com/callysto/interesting-problems/blob/main/notebooks/analysing-text-statistics.ipynb).\n",
    "\n",
    "You could use these libraries to compare different writers or different times in history, see if you can trends in sentiment or [word usage](https://books.google.com/ngrams), or investigate changes in language and style."
   ]
  },
  {
   "cell_type": "markdown",
   "metadata": {},
   "source": [
    "[![Callysto.ca License](https://github.com/callysto/curriculum-notebooks/blob/master/callysto-notebook-banner-bottom.jpg?raw=true)](https://github.com/callysto/curriculum-notebooks/blob/master/LICENSE.md)"
   ]
  }
 ],
 "metadata": {
  "kernelspec": {
   "display_name": "Python 3",
   "language": "python",
   "name": "python3"
  },
  "language_info": {
   "codemirror_mode": {
    "name": "ipython",
    "version": 3
   },
   "file_extension": ".py",
   "mimetype": "text/x-python",
   "name": "python",
   "nbconvert_exporter": "python",
   "pygments_lexer": "ipython3",
   "version": "3.7.4"
  }
 },
 "nbformat": 4,
 "nbformat_minor": 2
}