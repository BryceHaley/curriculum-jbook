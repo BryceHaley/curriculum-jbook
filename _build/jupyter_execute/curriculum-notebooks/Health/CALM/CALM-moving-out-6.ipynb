{
 "cells": [
  {
   "cell_type": "markdown",
   "metadata": {},
   "source": [
    "![Callysto.ca Banner](https://github.com/callysto/curriculum-notebooks/blob/master/callysto-notebook-banner-top.jpg?raw=true)\n",
    "\n",
    "<a href=\"https://hub.callysto.ca/jupyter/hub/user-redirect/git-pull?repo=https%3A%2F%2Fgithub.com%2Fcallysto%2Fcurriculum-notebooks&branch=master&subPath=Health/CALM/CALM-moving-out-6.ipynb&depth=1\" target=\"_parent\"><img src=\"https://raw.githubusercontent.com/callysto/curriculum-notebooks/master/open-in-callysto-button.svg?sanitize=true\" width=\"123\" height=\"24\" alt=\"Open in Callysto\"/></a>"
   ]
  },
  {
   "cell_type": "markdown",
   "metadata": {},
   "source": [
    "# CALM - Moving Out 6\n",
    "## Part 6 - Food and Supplies\n",
    "\n",
    "📙In this section we will consider food and household supplies that you will need. You will be using a [dataframes from a Python library called pandas](https://pandas.pydata.org/pandas-docs/stable/getting_started/dsintro.html#dataframe). These dataframes are like spreadsheets, and the code will look a little complicated, but it shouldn't be too bad.\n",
    "\n",
    "### Meal Plan\n",
    "\n",
    "Before we get into dataframes, though, you need to create a meal plan. With the [Canadian Food Guide](https://food-guide.canada.ca/en/food-guide-snapshot/) in mind, complete a 7-day meal plan considering nutritionally balanced choices at each meal. You can choose to eat out only twice on this menu.\n",
    "\n",
    "You will then use this to decide your grocery needs for one week.\n",
    "\n",
    "Replace the words \"meal\" in the cell below with the meals you plan to eat, then run the cell to store your plan."
   ]
  },
  {
   "cell_type": "code",
   "execution_count": 1,
   "metadata": {},
   "outputs": [
    {
     "name": "stdout",
     "output_type": "stream",
     "text": [
      "Overwriting moving_out_8.txt\n"
     ]
    }
   ],
   "source": [
    "%%writefile moving_out_8.txt\n",
    "✏️\n",
    "\n",
    "|Day|Breakfast|Lunch|Dinner|\n",
    "|-|-|-|-|\n",
    "|Monday| meal | meal | meal |\n",
    "|Tuesday| meal | meal | meal |\n",
    "|Wednesday| meal | meal | meal |\n",
    "|Thursday| meal | meal | meal |\n",
    "|Friday| meal | meal | meal |\n",
    "|Saturday| meal | meal | meal |\n",
    "|Sunday| meal | meal | meal |"
   ]
  },
  {
   "cell_type": "markdown",
   "metadata": {},
   "source": [
    "### Food Shopping\n",
    "\n",
    "📙From your meal plan make a shopping list of food needed to prepare three meals a day for one week. Research the price of these food items by going to grocery store websites, using grocery fliers, going to the grocery store, or reviewing receipts or bills with your family. Buying items in bulk is usually more economical in the long run, but for this exercise you only require food for one week so choose the smallest quantities possible.\n",
    "\n",
    "`Run` the following cell to generate a data table that you can then edit.\n",
    "\n",
    "Double-click on the \"nan\" values to put in your information. Use the \"Add Row\" and \"Remove Row\" buttons if necessary."
   ]
  },
  {
   "cell_type": "code",
   "execution_count": 2,
   "metadata": {},
   "outputs": [
    {
     "data": {
      "application/vnd.jupyter.widget-view+json": {
       "model_id": "384e318a84e74bac971d205a632633fb",
       "version_major": 2,
       "version_minor": 0
      },
      "text/plain": [
       "QgridWidget(grid_options={'fullWidthRows': True, 'syncColumnCellResize': True, 'forceFitColumns': True, 'defau…"
      ]
     },
     "metadata": {},
     "output_type": "display_data"
    }
   ],
   "source": [
    "import pandas as pd\n",
    "import qgrid\n",
    "foodItemList = ['Vegetables','Fruit','Protein','Whole Grains','Snacks','Restaurant Meal 1','Restaurant Meal 2']\n",
    "foodColumns = ['Size','Quantity','Price']\n",
    "foodIndex = range(1,len(foodItemList)+1)\n",
    "dfFood = pd.DataFrame(index=pd.Series(foodIndex), columns=pd.Series(foodColumns))\n",
    "dfFood.insert(0,'Item(s)',foodItemList,True)\n",
    "dfFood['Quantity'] = 1\n",
    "dfFood['Price'] = 1\n",
    "dfFoodWidget = qgrid.QgridWidget(df=dfFood, show_toolbar=True)\n",
    "dfFoodWidget"
   ]
  },
  {
   "cell_type": "markdown",
   "metadata": {},
   "source": [
    "📙After you have added data to the table above, `Run` the next cell to calculate your food costs for the month. It adds up weekly food costs and multiplies by 4.3 weeks per month."
   ]
  },
  {
   "cell_type": "code",
   "execution_count": 3,
   "metadata": {},
   "outputs": [
    {
     "name": "stdout",
     "output_type": "stream",
     "text": [
      "Stored 'monthlyFoodCost' (float64)\n",
      "That is about $7 per week for food.\n",
      "Your food for the month will cost about $30.10.\n"
     ]
    }
   ],
   "source": [
    "foodShoppingList = dfFoodWidget.get_changed_df()\n",
    "foodPrices = pd.to_numeric(foodShoppingList['Price'])\n",
    "weeklyFoodCost = foodPrices.sum()\n",
    "monthlyFoodCost = weeklyFoodCost * 4.3\n",
    "%store monthlyFoodCost\n",
    "print('That is about $' + str(weeklyFoodCost) + ' per week for food.')\n",
    "print('Your food for the month will cost about $' + str('{:.2f}'.format(monthlyFoodCost)) + '.')"
   ]
  },
  {
   "cell_type": "markdown",
   "metadata": {},
   "source": [
    "### Household Supplies and Personal Items\n",
    "\n",
    "📙The following is a typical list of household and personal items. Add any additional items you feel you need and delete items you don’t need. Look for smaller quantities with a **one-month** budget in mind, or adjust pricing if buying in bulk.\n",
    "\n",
    "`Run` the next cell to generate a data table that you can then edit."
   ]
  },
  {
   "cell_type": "code",
   "execution_count": 4,
   "metadata": {},
   "outputs": [
    {
     "data": {
      "application/vnd.jupyter.widget-view+json": {
       "model_id": "3d78bbb730b04aeea0a58472b8363e56",
       "version_major": 2,
       "version_minor": 0
      },
      "text/plain": [
       "QgridWidget(grid_options={'fullWidthRows': True, 'syncColumnCellResize': True, 'forceFitColumns': True, 'defau…"
      ]
     },
     "metadata": {},
     "output_type": "display_data"
    }
   ],
   "source": [
    "householdItemList = ['Toilet Paper','Tissues','Paper Towel',\n",
    "                     'Dish Soap','Laundry Detergent','Cleaners',\n",
    "                     'Plastic Wrap','Foil','Garbage/Recycling Bags',\n",
    "                     'Condiments','Coffee/Tea','Flour','Sugar',\n",
    "                     'Shampoo','Conditioner','Soap','Deodorant',\n",
    "                     'Toothpaste','Mouthwash','Hair Products','Toothbrush',\n",
    "                     'Makeup','Cotton Balls','Shaving Gel','Razors',\n",
    "                    ]\n",
    "householdColumns = ['Size','Quantity','Price']\n",
    "householdIndex = range(1,len(householdItemList)+1)\n",
    "dfHousehold = pd.DataFrame(index=pd.Series(householdIndex), columns=pd.Series(householdColumns))\n",
    "dfHousehold.insert(0,'Item(s)',householdItemList,True)\n",
    "dfHousehold['Quantity'] = 1\n",
    "dfHousehold['Price'] = 1\n",
    "dfHouseholdWidget = qgrid.QgridWidget(df=dfHousehold, show_toolbar=True)\n",
    "dfHouseholdWidget"
   ]
  },
  {
   "cell_type": "markdown",
   "metadata": {},
   "source": [
    "📙After you have added data to the above data table, `Run` the next cell to calculate your monthly household item costs."
   ]
  },
  {
   "cell_type": "code",
   "execution_count": 5,
   "metadata": {},
   "outputs": [
    {
     "name": "stdout",
     "output_type": "stream",
     "text": [
      "Stored 'monthlyHouseholdCost' (int64)\n",
      "That is about $25 per month for household items.\n"
     ]
    }
   ],
   "source": [
    "householdShoppingList = dfHouseholdWidget.get_changed_df()\n",
    "householdPrices = pd.to_numeric(householdShoppingList['Price'])\n",
    "monthlyHouseholdCost = householdPrices.sum()\n",
    "%store monthlyHouseholdCost\n",
    "print('That is about $' + str(monthlyHouseholdCost) + ' per month for household items.')"
   ]
  },
  {
   "cell_type": "markdown",
   "metadata": {},
   "source": [
    "### Furniture and Equipment\n",
    "\n",
    "📙Think about items you need for your place. How comfortable do you want to be? Are there items you have already been collecting or that your family is saving for you? Discuss which items they may be willing to give you, decide which items you can do without, which items a roommate may have, and which items you will need to purchase. Although it is nice to have new things, remember household items are often a bargain at garage sales, dollar stores, and thrift stores.\n",
    "\n",
    "`Run` the next cell to generate a data table that you can edit."
   ]
  },
  {
   "cell_type": "code",
   "execution_count": 6,
   "metadata": {},
   "outputs": [
    {
     "data": {
      "application/vnd.jupyter.widget-view+json": {
       "model_id": "177f7a9dc9a948fcb07ac26672756f4f",
       "version_major": 2,
       "version_minor": 0
      },
      "text/plain": [
       "QgridWidget(grid_options={'fullWidthRows': True, 'syncColumnCellResize': True, 'forceFitColumns': True, 'defau…"
      ]
     },
     "metadata": {},
     "output_type": "display_data"
    }
   ],
   "source": [
    "fneItemList = ['Pots and Pans','Glasses','Plates','Bowls',\n",
    "               'Cutlery','Knives','Oven Mitts','Towels','Cloths',\n",
    "               'Toaster','Garbage Cans','Kettle','Table','Kitchen Chairs',\n",
    "               'Broom and Dustpan','Vacuum Cleaner','Clock',\n",
    "               'Bath Towels','Hand Towels','Bath Mat',\n",
    "               'Toilet Brush','Plunger',\n",
    "               'Bed','Dresser','Night Stand','Sheets','Blankets','Pillows',\n",
    "               'Lamps','TV','Electronics','Coffee Table','Couch','Chairs',\n",
    "                ]\n",
    "fneColumns = ['Room','Quantity','Price']\n",
    "fneIndex = range(1,len(fneItemList)+1)\n",
    "dfFne = pd.DataFrame(index=pd.Series(fneIndex), columns=pd.Series(fneColumns))\n",
    "dfFne.insert(0,'Item(s)',fneItemList,True)\n",
    "dfFne['Quantity'] = 1\n",
    "dfFne['Price'] = 1\n",
    "dfFneWidget = qgrid.QgridWidget(df=dfFne, show_toolbar=True)\n",
    "dfFneWidget"
   ]
  },
  {
   "cell_type": "markdown",
   "metadata": {},
   "source": [
    "📙Next `Run` the following cell to add up your furniture and equipment costs."
   ]
  },
  {
   "cell_type": "code",
   "execution_count": 7,
   "metadata": {},
   "outputs": [
    {
     "name": "stdout",
     "output_type": "stream",
     "text": [
      "Stored 'fneCost' (int64)\n",
      "That is about $34 for furniture and equipment items.\n"
     ]
    }
   ],
   "source": [
    "fneList = dfFneWidget.get_changed_df()\n",
    "fnePrices = pd.to_numeric(fneList['Price'])\n",
    "fneCost = fnePrices.sum()\n",
    "%store fneCost\n",
    "print('That is about $' + str(fneCost) + ' for furniture and equipment items.')"
   ]
  },
  {
   "cell_type": "markdown",
   "metadata": {},
   "source": [
    "### Clothing\n",
    "\n",
    "📙When calculating the cost of clothing for yourself, consider the type of work you plan to be doing and how important clothing is to you. Consider how many of each item of clothing you will purchase in a year, and multiply this by the cost per item. Be realistic.\n",
    "\n",
    "`Run` the next cell to generate an editable data table."
   ]
  },
  {
   "cell_type": "code",
   "execution_count": 8,
   "metadata": {},
   "outputs": [
    {
     "data": {
      "application/vnd.jupyter.widget-view+json": {
       "model_id": "64b20bf948b94b5f9d063e230f2c716a",
       "version_major": 2,
       "version_minor": 0
      },
      "text/plain": [
       "QgridWidget(grid_options={'fullWidthRows': True, 'syncColumnCellResize': True, 'forceFitColumns': True, 'defau…"
      ]
     },
     "metadata": {},
     "output_type": "display_data"
    }
   ],
   "source": [
    "clothingItemList = ['Dress Pants','Skirts','Shirts','Suits/Jackets/Dresses'\n",
    "                    'T-Shirts/Tops','Jeans/Pants','Shorts',\n",
    "                    'Dress Shoes','Casual Shoes','Running Shoes',\n",
    "                    'Outdoor Coats','Boots','Sports Clothing',\n",
    "                    'Pajamas','Underwear','Socks','Swimsuits'\n",
    "                   ]\n",
    "clothingColumns = ['Quantity Required','Cost per Item']\n",
    "clothingIndex = range(1,len(clothingItemList)+1)\n",
    "dfClothing = pd.DataFrame(index=pd.Series(clothingIndex), columns=pd.Series(clothingColumns))\n",
    "dfClothing.insert(0,'Item(s)',clothingItemList,True)\n",
    "dfClothing['Quantity Required'] = 1\n",
    "dfClothing['Cost per Item'] = 1\n",
    "dfClothingWidget = qgrid.QgridWidget(df=dfClothing, show_toolbar=True)\n",
    "dfClothingWidget"
   ]
  },
  {
   "cell_type": "markdown",
   "metadata": {},
   "source": [
    "📙Once you have added data to the above table, `Run` the next cell to add up your clothing costs."
   ]
  },
  {
   "cell_type": "code",
   "execution_count": 9,
   "metadata": {},
   "outputs": [
    {
     "name": "stdout",
     "output_type": "stream",
     "text": [
      "Stored 'monthlyClothingCost' (float64)\n",
      "That is $16.00 per year, or about $1.33 per month for clothing.\n"
     ]
    },
    {
     "data": {
      "text/html": [
       "<div>\n",
       "<style scoped>\n",
       "    .dataframe tbody tr th:only-of-type {\n",
       "        vertical-align: middle;\n",
       "    }\n",
       "\n",
       "    .dataframe tbody tr th {\n",
       "        vertical-align: top;\n",
       "    }\n",
       "\n",
       "    .dataframe thead th {\n",
       "        text-align: right;\n",
       "    }\n",
       "</style>\n",
       "<table border=\"1\" class=\"dataframe\">\n",
       "  <thead>\n",
       "    <tr style=\"text-align: right;\">\n",
       "      <th></th>\n",
       "      <th>Item(s)</th>\n",
       "      <th>Quantity Required</th>\n",
       "      <th>Cost per Item</th>\n",
       "      <th>Total Cost</th>\n",
       "    </tr>\n",
       "  </thead>\n",
       "  <tbody>\n",
       "    <tr>\n",
       "      <td>1</td>\n",
       "      <td>Dress Pants</td>\n",
       "      <td>1</td>\n",
       "      <td>1</td>\n",
       "      <td>1</td>\n",
       "    </tr>\n",
       "    <tr>\n",
       "      <td>2</td>\n",
       "      <td>Skirts</td>\n",
       "      <td>1</td>\n",
       "      <td>1</td>\n",
       "      <td>1</td>\n",
       "    </tr>\n",
       "    <tr>\n",
       "      <td>3</td>\n",
       "      <td>Shirts</td>\n",
       "      <td>1</td>\n",
       "      <td>1</td>\n",
       "      <td>1</td>\n",
       "    </tr>\n",
       "    <tr>\n",
       "      <td>4</td>\n",
       "      <td>Suits/Jackets/DressesT-Shirts/Tops</td>\n",
       "      <td>1</td>\n",
       "      <td>1</td>\n",
       "      <td>1</td>\n",
       "    </tr>\n",
       "    <tr>\n",
       "      <td>5</td>\n",
       "      <td>Jeans/Pants</td>\n",
       "      <td>1</td>\n",
       "      <td>1</td>\n",
       "      <td>1</td>\n",
       "    </tr>\n",
       "    <tr>\n",
       "      <td>6</td>\n",
       "      <td>Shorts</td>\n",
       "      <td>1</td>\n",
       "      <td>1</td>\n",
       "      <td>1</td>\n",
       "    </tr>\n",
       "    <tr>\n",
       "      <td>7</td>\n",
       "      <td>Dress Shoes</td>\n",
       "      <td>1</td>\n",
       "      <td>1</td>\n",
       "      <td>1</td>\n",
       "    </tr>\n",
       "    <tr>\n",
       "      <td>8</td>\n",
       "      <td>Casual Shoes</td>\n",
       "      <td>1</td>\n",
       "      <td>1</td>\n",
       "      <td>1</td>\n",
       "    </tr>\n",
       "    <tr>\n",
       "      <td>9</td>\n",
       "      <td>Running Shoes</td>\n",
       "      <td>1</td>\n",
       "      <td>1</td>\n",
       "      <td>1</td>\n",
       "    </tr>\n",
       "    <tr>\n",
       "      <td>10</td>\n",
       "      <td>Outdoor Coats</td>\n",
       "      <td>1</td>\n",
       "      <td>1</td>\n",
       "      <td>1</td>\n",
       "    </tr>\n",
       "    <tr>\n",
       "      <td>11</td>\n",
       "      <td>Boots</td>\n",
       "      <td>1</td>\n",
       "      <td>1</td>\n",
       "      <td>1</td>\n",
       "    </tr>\n",
       "    <tr>\n",
       "      <td>12</td>\n",
       "      <td>Sports Clothing</td>\n",
       "      <td>1</td>\n",
       "      <td>1</td>\n",
       "      <td>1</td>\n",
       "    </tr>\n",
       "    <tr>\n",
       "      <td>13</td>\n",
       "      <td>Pajamas</td>\n",
       "      <td>1</td>\n",
       "      <td>1</td>\n",
       "      <td>1</td>\n",
       "    </tr>\n",
       "    <tr>\n",
       "      <td>14</td>\n",
       "      <td>Underwear</td>\n",
       "      <td>1</td>\n",
       "      <td>1</td>\n",
       "      <td>1</td>\n",
       "    </tr>\n",
       "    <tr>\n",
       "      <td>15</td>\n",
       "      <td>Socks</td>\n",
       "      <td>1</td>\n",
       "      <td>1</td>\n",
       "      <td>1</td>\n",
       "    </tr>\n",
       "    <tr>\n",
       "      <td>16</td>\n",
       "      <td>Swimsuits</td>\n",
       "      <td>1</td>\n",
       "      <td>1</td>\n",
       "      <td>1</td>\n",
       "    </tr>\n",
       "  </tbody>\n",
       "</table>\n",
       "</div>"
      ],
      "text/plain": [
       "                               Item(s)  Quantity Required  Cost per Item  \\\n",
       "1                          Dress Pants                  1              1   \n",
       "2                               Skirts                  1              1   \n",
       "3                               Shirts                  1              1   \n",
       "4   Suits/Jackets/DressesT-Shirts/Tops                  1              1   \n",
       "5                          Jeans/Pants                  1              1   \n",
       "6                               Shorts                  1              1   \n",
       "7                          Dress Shoes                  1              1   \n",
       "8                         Casual Shoes                  1              1   \n",
       "9                        Running Shoes                  1              1   \n",
       "10                       Outdoor Coats                  1              1   \n",
       "11                               Boots                  1              1   \n",
       "12                     Sports Clothing                  1              1   \n",
       "13                             Pajamas                  1              1   \n",
       "14                           Underwear                  1              1   \n",
       "15                               Socks                  1              1   \n",
       "16                           Swimsuits                  1              1   \n",
       "\n",
       "    Total Cost  \n",
       "1            1  \n",
       "2            1  \n",
       "3            1  \n",
       "4            1  \n",
       "5            1  \n",
       "6            1  \n",
       "7            1  \n",
       "8            1  \n",
       "9            1  \n",
       "10           1  \n",
       "11           1  \n",
       "12           1  \n",
       "13           1  \n",
       "14           1  \n",
       "15           1  \n",
       "16           1  "
      ]
     },
     "execution_count": 9,
     "metadata": {},
     "output_type": "execute_result"
    }
   ],
   "source": [
    "clothingList = dfClothingWidget.get_changed_df()\n",
    "clothingQuantities = pd.to_numeric(clothingList['Quantity Required'])\n",
    "clothingPrices = pd.to_numeric(clothingList['Cost per Item'])\n",
    "clothingList['Total Cost'] = clothingQuantities * clothingPrices\n",
    "clothingCost = clothingList['Total Cost'].sum()\n",
    "monthlyClothingCost =  clothingCost / 12\n",
    "%store monthlyClothingCost\n",
    "print('That is $' + str('{:.2f}'.format(clothingCost)) + ' per year, or about $' + str('{:.2f}'.format(monthlyClothingCost)) + ' per month for clothing.')\n",
    "clothingList  # this displays the table with total cost calculations"
   ]
  },
  {
   "cell_type": "markdown",
   "metadata": {},
   "source": [
    "### Health Care\n",
    "\n",
    "📙Most people living and working in Alberta have access to hospital and medical services under the [Alberta Health Care Insurance Plan (AHCIP)](https://www.alberta.ca/ahcip.aspx) paid for by the government. Depending on where you work, your employer may offer additional benefit packages such as Extended Health Care that cover a portion of medical and dental expenses.  \n",
    "\n",
    "If you do not have health benefits from your employer you will have to pay for medications, dental visits, and vision care.  \n",
    "\n",
    "Allow money in your budget for prescriptions and over-the-counter medications.  \n",
    "\n",
    "Budget for the dentist and optometrist.  One visit to the dentist including a check-up x-rays and teeth cleaning is approximately $330. You should see your dentist yearly.\n",
    "\n",
    "A visit to the optometrist is approximately $120. You should normally see your optometrist once every 2 years, or once a year if you’re wearing contact lenses.\n",
    "\n",
    "`Run` the next cell to display a data table that you can edit with your expected health costs."
   ]
  },
  {
   "cell_type": "code",
   "execution_count": 10,
   "metadata": {},
   "outputs": [
    {
     "data": {
      "application/vnd.jupyter.widget-view+json": {
       "model_id": "2536e6344d524b68807e2e5575739c77",
       "version_major": 2,
       "version_minor": 0
      },
      "text/plain": [
       "QgridWidget(grid_options={'fullWidthRows': True, 'syncColumnCellResize': True, 'forceFitColumns': True, 'defau…"
      ]
     },
     "metadata": {},
     "output_type": "display_data"
    }
   ],
   "source": [
    "healthItems = [\n",
    "    'Pain Relievers','Bandages','Cough Medicine',\n",
    "    'Prescriptions','Dental Checkup',\n",
    "    'Optometrist','Glasses','Contacts','Contact Solution',\n",
    "    'Physiotherapy','Massage'\n",
    "]\n",
    "healthColumns = ['Cost Per Year']\n",
    "healthIndex = range(1,len(healthItems)+1)\n",
    "dfHealth = pd.DataFrame(index=pd.Series(healthIndex), columns=pd.Series(healthColumns))\n",
    "dfHealth.insert(0,'Item or Service',healthItems,True)\n",
    "dfHealth['Cost Per Year'] = 1\n",
    "dfHealthWidget = qgrid.QgridWidget(df=dfHealth, show_toolbar=True)\n",
    "dfHealthWidget"
   ]
  },
  {
   "cell_type": "markdown",
   "metadata": {},
   "source": [
    "📙`Run` the next cell to add up your health care costs."
   ]
  },
  {
   "cell_type": "code",
   "execution_count": 11,
   "metadata": {},
   "outputs": [
    {
     "name": "stdout",
     "output_type": "stream",
     "text": [
      "Stored 'monthlyHealthCost' (float64)\n",
      "That is $11.00 per year, or about $0.92 per month for health care.\n"
     ]
    }
   ],
   "source": [
    "healthList = dfHealthWidget.get_changed_df()\n",
    "healthCost = pd.to_numeric(healthList['Cost Per Year']).sum()\n",
    "monthlyHealthCost =  healthCost / 12\n",
    "%store monthlyHealthCost\n",
    "print('That is $' + str('{:.2f}'.format(healthCost)) + ' per year, or about $' + str('{:.2f}'.format(monthlyHealthCost)) + ' per month for health care.')"
   ]
  },
  {
   "cell_type": "markdown",
   "metadata": {},
   "source": [
    "📙Once again, `Run` the next cell to check that your answers have been stored."
   ]
  },
  {
   "cell_type": "code",
   "execution_count": 12,
   "metadata": {},
   "outputs": [
    {
     "name": "stdout",
     "output_type": "stream",
     "text": [
      "Monthly food cost: 30.099999999999998\n",
      "Monthly household items cost: 25\n",
      "Furniture and equipment cost: 34\n",
      "Monthly clothing cost: 1.3333333333333333\n",
      "Monthly health cost 0.9166666666666666\n",
      "✏️\n",
      "\n",
      "|Day|Breakfast|Lunch|Dinner|\n",
      "|-|-|-|-|\n",
      "|Monday| meal | meal | meal |\n",
      "|Tuesday| meal | meal | meal |\n",
      "|Wednesday| meal | meal | meal |\n",
      "|Thursday| meal | meal | meal |\n",
      "|Friday| meal | meal | meal |\n",
      "|Saturday| meal | meal | meal |\n",
      "|Sunday| meal | meal | meal |\n",
      "\n"
     ]
    }
   ],
   "source": [
    "print('Monthly food cost:', monthlyFoodCost)\n",
    "print('Monthly household items cost:', monthlyHouseholdCost)\n",
    "print('Furniture and equipment cost:', fneCost)\n",
    "print('Monthly clothing cost:', monthlyClothingCost)\n",
    "print('Monthly health cost', monthlyHealthCost)\n",
    "with open('moving_out_8.txt', 'r') as file8:\n",
    "    print(file8.read())"
   ]
  },
  {
   "cell_type": "markdown",
   "metadata": {},
   "source": [
    "📙You have now completed this section. Proceed to [section 7](./CALM-moving-out-7.ipynb)"
   ]
  },
  {
   "cell_type": "markdown",
   "metadata": {},
   "source": [
    "[![Callysto.ca License](https://github.com/callysto/curriculum-notebooks/blob/master/callysto-notebook-banner-bottom.jpg?raw=true)](https://github.com/callysto/curriculum-notebooks/blob/master/LICENSE.md)"
   ]
  }
 ],
 "metadata": {
  "kernelspec": {
   "display_name": "Python 3",
   "language": "python",
   "name": "python3"
  },
  "language_info": {
   "codemirror_mode": {
    "name": "ipython",
    "version": 3
   },
   "file_extension": ".py",
   "mimetype": "text/x-python",
   "name": "python",
   "nbconvert_exporter": "python",
   "pygments_lexer": "ipython3",
   "version": "3.7.4"
  },
  "widgets": {
   "application/vnd.jupyter.widget-state+json": {
    "state": {
     "177f7a9dc9a948fcb07ac26672756f4f": {
      "model_module": "qgrid",
      "model_module_version": "1.1.1",
      "model_name": "QgridModel",
      "state": {
       "_columns": {
        "Item(s)": {
         "cssClass": "string",
         "field": "Item(s)",
         "id": "Item(s)",
         "name": "Item(s)",
         "position": 2,
         "type": "string"
        },
        "Price": {
         "cssClass": "integer",
         "field": "Price",
         "id": "Price",
         "name": "Price",
         "position": 5,
         "type": "integer"
        },
        "Quantity": {
         "cssClass": "integer",
         "field": "Quantity",
         "id": "Quantity",
         "name": "Quantity",
         "position": 4,
         "type": "integer"
        },
        "Room": {
         "cssClass": "string",
         "field": "Room",
         "id": "Room",
         "name": "Room",
         "position": 3,
         "type": "string"
        },
        "index": {
         "cssClass": "integer",
         "field": "index",
         "first_index": true,
         "id": "index",
         "index_display_text": "",
         "is_index": true,
         "level": 0,
         "name": "index",
         "position": 0,
         "type": "integer"
        },
        "qgrid_unfiltered_index": {
         "cssClass": "integer",
         "field": "qgrid_unfiltered_index",
         "id": "qgrid_unfiltered_index",
         "name": "qgrid_unfiltered_index",
         "position": 1,
         "type": "integer"
        }
       },
       "_df_json": "{\"schema\": {\"fields\":[{\"name\":\"index\",\"type\":\"integer\"},{\"name\":\"qgrid_unfiltered_index\",\"type\":\"integer\"},{\"name\":\"Item(s)\",\"type\":\"string\"},{\"name\":\"Room\",\"type\":\"string\"},{\"name\":\"Quantity\",\"type\":\"integer\"},{\"name\":\"Price\",\"type\":\"integer\"}],\"primaryKey\":[\"index\"],\"pandas_version\":\"0.20.0\"}, \"data\": [{\"index\":1,\"qgrid_unfiltered_index\":0,\"Item(s)\":\"Pots and Pans\",\"Room\":\"nan\",\"Quantity\":1,\"Price\":1},{\"index\":2,\"qgrid_unfiltered_index\":1,\"Item(s)\":\"Glasses\",\"Room\":\"nan\",\"Quantity\":1,\"Price\":1},{\"index\":3,\"qgrid_unfiltered_index\":2,\"Item(s)\":\"Plates\",\"Room\":\"nan\",\"Quantity\":1,\"Price\":1},{\"index\":4,\"qgrid_unfiltered_index\":3,\"Item(s)\":\"Bowls\",\"Room\":\"nan\",\"Quantity\":1,\"Price\":1},{\"index\":5,\"qgrid_unfiltered_index\":4,\"Item(s)\":\"Cutlery\",\"Room\":\"nan\",\"Quantity\":1,\"Price\":1},{\"index\":6,\"qgrid_unfiltered_index\":5,\"Item(s)\":\"Knives\",\"Room\":\"nan\",\"Quantity\":1,\"Price\":1},{\"index\":7,\"qgrid_unfiltered_index\":6,\"Item(s)\":\"Oven Mitts\",\"Room\":\"nan\",\"Quantity\":1,\"Price\":1},{\"index\":8,\"qgrid_unfiltered_index\":7,\"Item(s)\":\"Towels\",\"Room\":\"nan\",\"Quantity\":1,\"Price\":1},{\"index\":9,\"qgrid_unfiltered_index\":8,\"Item(s)\":\"Cloths\",\"Room\":\"nan\",\"Quantity\":1,\"Price\":1},{\"index\":10,\"qgrid_unfiltered_index\":9,\"Item(s)\":\"Toaster\",\"Room\":\"nan\",\"Quantity\":1,\"Price\":1},{\"index\":11,\"qgrid_unfiltered_index\":10,\"Item(s)\":\"Garbage Cans\",\"Room\":\"nan\",\"Quantity\":1,\"Price\":1},{\"index\":12,\"qgrid_unfiltered_index\":11,\"Item(s)\":\"Kettle\",\"Room\":\"nan\",\"Quantity\":1,\"Price\":1},{\"index\":13,\"qgrid_unfiltered_index\":12,\"Item(s)\":\"Table\",\"Room\":\"nan\",\"Quantity\":1,\"Price\":1},{\"index\":14,\"qgrid_unfiltered_index\":13,\"Item(s)\":\"Kitchen Chairs\",\"Room\":\"nan\",\"Quantity\":1,\"Price\":1},{\"index\":15,\"qgrid_unfiltered_index\":14,\"Item(s)\":\"Broom and Dustpan\",\"Room\":\"nan\",\"Quantity\":1,\"Price\":1},{\"index\":16,\"qgrid_unfiltered_index\":15,\"Item(s)\":\"Vacuum Cleaner\",\"Room\":\"nan\",\"Quantity\":1,\"Price\":1},{\"index\":17,\"qgrid_unfiltered_index\":16,\"Item(s)\":\"Clock\",\"Room\":\"nan\",\"Quantity\":1,\"Price\":1},{\"index\":18,\"qgrid_unfiltered_index\":17,\"Item(s)\":\"Bath Towels\",\"Room\":\"nan\",\"Quantity\":1,\"Price\":1},{\"index\":19,\"qgrid_unfiltered_index\":18,\"Item(s)\":\"Hand Towels\",\"Room\":\"nan\",\"Quantity\":1,\"Price\":1},{\"index\":20,\"qgrid_unfiltered_index\":19,\"Item(s)\":\"Bath Mat\",\"Room\":\"nan\",\"Quantity\":1,\"Price\":1},{\"index\":21,\"qgrid_unfiltered_index\":20,\"Item(s)\":\"Toilet Brush\",\"Room\":\"nan\",\"Quantity\":1,\"Price\":1},{\"index\":22,\"qgrid_unfiltered_index\":21,\"Item(s)\":\"Plunger\",\"Room\":\"nan\",\"Quantity\":1,\"Price\":1},{\"index\":23,\"qgrid_unfiltered_index\":22,\"Item(s)\":\"Bed\",\"Room\":\"nan\",\"Quantity\":1,\"Price\":1},{\"index\":24,\"qgrid_unfiltered_index\":23,\"Item(s)\":\"Dresser\",\"Room\":\"nan\",\"Quantity\":1,\"Price\":1},{\"index\":25,\"qgrid_unfiltered_index\":24,\"Item(s)\":\"Night Stand\",\"Room\":\"nan\",\"Quantity\":1,\"Price\":1},{\"index\":26,\"qgrid_unfiltered_index\":25,\"Item(s)\":\"Sheets\",\"Room\":\"nan\",\"Quantity\":1,\"Price\":1},{\"index\":27,\"qgrid_unfiltered_index\":26,\"Item(s)\":\"Blankets\",\"Room\":\"nan\",\"Quantity\":1,\"Price\":1},{\"index\":28,\"qgrid_unfiltered_index\":27,\"Item(s)\":\"Pillows\",\"Room\":\"nan\",\"Quantity\":1,\"Price\":1},{\"index\":29,\"qgrid_unfiltered_index\":28,\"Item(s)\":\"Lamps\",\"Room\":\"nan\",\"Quantity\":1,\"Price\":1},{\"index\":30,\"qgrid_unfiltered_index\":29,\"Item(s)\":\"TV\",\"Room\":\"nan\",\"Quantity\":1,\"Price\":1},{\"index\":31,\"qgrid_unfiltered_index\":30,\"Item(s)\":\"Electronics\",\"Room\":\"nan\",\"Quantity\":1,\"Price\":1},{\"index\":32,\"qgrid_unfiltered_index\":31,\"Item(s)\":\"Coffee Table\",\"Room\":\"nan\",\"Quantity\":1,\"Price\":1},{\"index\":33,\"qgrid_unfiltered_index\":32,\"Item(s)\":\"Couch\",\"Room\":\"nan\",\"Quantity\":1,\"Price\":1},{\"index\":34,\"qgrid_unfiltered_index\":33,\"Item(s)\":\"Chairs\",\"Room\":\"nan\",\"Quantity\":1,\"Price\":1}]}",
       "_df_range": [
        0,
        100
       ],
       "_dom_classes": [],
       "_editable_rows": {},
       "_index_col_name": "qgrid_unfiltered_index",
       "_interval_columns": [],
       "_model_module": "qgrid",
       "_model_module_version": "1.1.1",
       "_model_name": "QgridModel",
       "_multi_index": false,
       "_row_count": 34,
       "_row_styles": {},
       "_sort_ascending": true,
       "_sort_field": null,
       "_view_count": null,
       "_view_module": "qgrid",
       "_view_module_version": "1.1.1",
       "_view_name": "QgridView",
       "_viewport_range": [
        0,
        100
       ],
       "grid_options": {
        "autoEdit": false,
        "boldIndex": true,
        "defaultColumnWidth": 150,
        "editable": true,
        "enableColumnReorder": false,
        "enableTextSelectionOnCells": true,
        "explicitInitialization": true,
        "filterable": true,
        "forceFitColumns": true,
        "fullWidthRows": true,
        "highlightSelectedCell": false,
        "highlightSelectedRow": true,
        "maxVisibleRows": 15,
        "minVisibleRows": 8,
        "rowHeight": 28,
        "sortable": true,
        "syncColumnCellResize": true
       },
       "id": "c03f0bfe-e5ff-4117-b046-70b94c5174e3",
       "layout": "IPY_MODEL_48a5e23bbbb842a2b32485493fb00306",
       "precision": 5,
       "show_toolbar": true
      }
     },
     "2536e6344d524b68807e2e5575739c77": {
      "model_module": "qgrid",
      "model_module_version": "1.1.1",
      "model_name": "QgridModel",
      "state": {
       "_columns": {
        "Cost Per Year": {
         "cssClass": "integer",
         "field": "Cost Per Year",
         "id": "Cost Per Year",
         "name": "Cost Per Year",
         "position": 3,
         "type": "integer"
        },
        "Item or Service": {
         "cssClass": "string",
         "field": "Item or Service",
         "id": "Item or Service",
         "name": "Item or Service",
         "position": 2,
         "type": "string"
        },
        "index": {
         "cssClass": "integer",
         "field": "index",
         "first_index": true,
         "id": "index",
         "index_display_text": "",
         "is_index": true,
         "level": 0,
         "name": "index",
         "position": 0,
         "type": "integer"
        },
        "qgrid_unfiltered_index": {
         "cssClass": "integer",
         "field": "qgrid_unfiltered_index",
         "id": "qgrid_unfiltered_index",
         "name": "qgrid_unfiltered_index",
         "position": 1,
         "type": "integer"
        }
       },
       "_df_json": "{\"schema\": {\"fields\":[{\"name\":\"index\",\"type\":\"integer\"},{\"name\":\"qgrid_unfiltered_index\",\"type\":\"integer\"},{\"name\":\"Item or Service\",\"type\":\"string\"},{\"name\":\"Cost Per Year\",\"type\":\"integer\"}],\"primaryKey\":[\"index\"],\"pandas_version\":\"0.20.0\"}, \"data\": [{\"index\":1,\"qgrid_unfiltered_index\":0,\"Item or Service\":\"Pain Relievers\",\"Cost Per Year\":1},{\"index\":2,\"qgrid_unfiltered_index\":1,\"Item or Service\":\"Bandages\",\"Cost Per Year\":1},{\"index\":3,\"qgrid_unfiltered_index\":2,\"Item or Service\":\"Cough Medicine\",\"Cost Per Year\":1},{\"index\":4,\"qgrid_unfiltered_index\":3,\"Item or Service\":\"Prescriptions\",\"Cost Per Year\":1},{\"index\":5,\"qgrid_unfiltered_index\":4,\"Item or Service\":\"Dental Checkup\",\"Cost Per Year\":1},{\"index\":6,\"qgrid_unfiltered_index\":5,\"Item or Service\":\"Optometrist\",\"Cost Per Year\":1},{\"index\":7,\"qgrid_unfiltered_index\":6,\"Item or Service\":\"Glasses\",\"Cost Per Year\":1},{\"index\":8,\"qgrid_unfiltered_index\":7,\"Item or Service\":\"Contacts\",\"Cost Per Year\":1},{\"index\":9,\"qgrid_unfiltered_index\":8,\"Item or Service\":\"Contact Solution\",\"Cost Per Year\":1},{\"index\":10,\"qgrid_unfiltered_index\":9,\"Item or Service\":\"Physiotherapy\",\"Cost Per Year\":1},{\"index\":11,\"qgrid_unfiltered_index\":10,\"Item or Service\":\"Massage\",\"Cost Per Year\":1}]}",
       "_df_range": [
        0,
        100
       ],
       "_dom_classes": [],
       "_editable_rows": {},
       "_index_col_name": "qgrid_unfiltered_index",
       "_interval_columns": [],
       "_model_module": "qgrid",
       "_model_module_version": "1.1.1",
       "_model_name": "QgridModel",
       "_multi_index": false,
       "_row_count": 11,
       "_row_styles": {},
       "_sort_ascending": true,
       "_sort_field": null,
       "_view_count": null,
       "_view_module": "qgrid",
       "_view_module_version": "1.1.1",
       "_view_name": "QgridView",
       "_viewport_range": [
        0,
        100
       ],
       "grid_options": {
        "autoEdit": false,
        "boldIndex": true,
        "defaultColumnWidth": 150,
        "editable": true,
        "enableColumnReorder": false,
        "enableTextSelectionOnCells": true,
        "explicitInitialization": true,
        "filterable": true,
        "forceFitColumns": true,
        "fullWidthRows": true,
        "highlightSelectedCell": false,
        "highlightSelectedRow": true,
        "maxVisibleRows": 15,
        "minVisibleRows": 8,
        "rowHeight": 28,
        "sortable": true,
        "syncColumnCellResize": true
       },
       "id": "4c6040cf-960b-44de-8bb7-5a7ce3a238ba",
       "layout": "IPY_MODEL_702cf4a8614b4b7382adb38468a10953",
       "precision": 5,
       "show_toolbar": true
      }
     },
     "384e318a84e74bac971d205a632633fb": {
      "model_module": "qgrid",
      "model_module_version": "1.1.1",
      "model_name": "QgridModel",
      "state": {
       "_columns": {
        "Item(s)": {
         "cssClass": "string",
         "field": "Item(s)",
         "id": "Item(s)",
         "name": "Item(s)",
         "position": 2,
         "type": "string"
        },
        "Price": {
         "cssClass": "integer",
         "field": "Price",
         "id": "Price",
         "name": "Price",
         "position": 5,
         "type": "integer"
        },
        "Quantity": {
         "cssClass": "integer",
         "field": "Quantity",
         "id": "Quantity",
         "name": "Quantity",
         "position": 4,
         "type": "integer"
        },
        "Size": {
         "cssClass": "string",
         "field": "Size",
         "id": "Size",
         "name": "Size",
         "position": 3,
         "type": "string"
        },
        "index": {
         "cssClass": "integer",
         "field": "index",
         "first_index": true,
         "id": "index",
         "index_display_text": "",
         "is_index": true,
         "level": 0,
         "name": "index",
         "position": 0,
         "type": "integer"
        },
        "qgrid_unfiltered_index": {
         "cssClass": "integer",
         "field": "qgrid_unfiltered_index",
         "id": "qgrid_unfiltered_index",
         "name": "qgrid_unfiltered_index",
         "position": 1,
         "type": "integer"
        }
       },
       "_df_json": "{\"schema\": {\"fields\":[{\"name\":\"index\",\"type\":\"integer\"},{\"name\":\"qgrid_unfiltered_index\",\"type\":\"integer\"},{\"name\":\"Item(s)\",\"type\":\"string\"},{\"name\":\"Size\",\"type\":\"string\"},{\"name\":\"Quantity\",\"type\":\"integer\"},{\"name\":\"Price\",\"type\":\"integer\"}],\"primaryKey\":[\"index\"],\"pandas_version\":\"0.20.0\"}, \"data\": [{\"index\":1,\"qgrid_unfiltered_index\":0,\"Item(s)\":\"Vegetables\",\"Size\":\"nan\",\"Quantity\":1,\"Price\":1},{\"index\":2,\"qgrid_unfiltered_index\":1,\"Item(s)\":\"Fruit\",\"Size\":\"nan\",\"Quantity\":1,\"Price\":1},{\"index\":3,\"qgrid_unfiltered_index\":2,\"Item(s)\":\"Protein\",\"Size\":\"nan\",\"Quantity\":1,\"Price\":1},{\"index\":4,\"qgrid_unfiltered_index\":3,\"Item(s)\":\"Whole Grains\",\"Size\":\"nan\",\"Quantity\":1,\"Price\":1},{\"index\":5,\"qgrid_unfiltered_index\":4,\"Item(s)\":\"Snacks\",\"Size\":\"nan\",\"Quantity\":1,\"Price\":1},{\"index\":6,\"qgrid_unfiltered_index\":5,\"Item(s)\":\"Restaurant Meal 1\",\"Size\":\"nan\",\"Quantity\":1,\"Price\":1},{\"index\":7,\"qgrid_unfiltered_index\":6,\"Item(s)\":\"Restaurant Meal 2\",\"Size\":\"nan\",\"Quantity\":1,\"Price\":1}]}",
       "_df_range": [
        0,
        100
       ],
       "_dom_classes": [],
       "_editable_rows": {},
       "_index_col_name": "qgrid_unfiltered_index",
       "_interval_columns": [],
       "_model_module": "qgrid",
       "_model_module_version": "1.1.1",
       "_model_name": "QgridModel",
       "_multi_index": false,
       "_row_count": 7,
       "_row_styles": {},
       "_sort_ascending": true,
       "_sort_field": null,
       "_view_count": null,
       "_view_module": "qgrid",
       "_view_module_version": "1.1.1",
       "_view_name": "QgridView",
       "_viewport_range": [
        0,
        100
       ],
       "grid_options": {
        "autoEdit": false,
        "boldIndex": true,
        "defaultColumnWidth": 150,
        "editable": true,
        "enableColumnReorder": false,
        "enableTextSelectionOnCells": true,
        "explicitInitialization": true,
        "filterable": true,
        "forceFitColumns": true,
        "fullWidthRows": true,
        "highlightSelectedCell": false,
        "highlightSelectedRow": true,
        "maxVisibleRows": 15,
        "minVisibleRows": 8,
        "rowHeight": 28,
        "sortable": true,
        "syncColumnCellResize": true
       },
       "id": "e5285c9d-8449-4df7-89c6-596594d99522",
       "layout": "IPY_MODEL_ff438e28c2c44abaa7f79f239dcde2da",
       "precision": 5,
       "show_toolbar": true
      }
     },
     "3d78bbb730b04aeea0a58472b8363e56": {
      "model_module": "qgrid",
      "model_module_version": "1.1.1",
      "model_name": "QgridModel",
      "state": {
       "_columns": {
        "Item(s)": {
         "cssClass": "string",
         "field": "Item(s)",
         "id": "Item(s)",
         "name": "Item(s)",
         "position": 2,
         "type": "string"
        },
        "Price": {
         "cssClass": "integer",
         "field": "Price",
         "id": "Price",
         "name": "Price",
         "position": 5,
         "type": "integer"
        },
        "Quantity": {
         "cssClass": "integer",
         "field": "Quantity",
         "id": "Quantity",
         "name": "Quantity",
         "position": 4,
         "type": "integer"
        },
        "Size": {
         "cssClass": "string",
         "field": "Size",
         "id": "Size",
         "name": "Size",
         "position": 3,
         "type": "string"
        },
        "index": {
         "cssClass": "integer",
         "field": "index",
         "first_index": true,
         "id": "index",
         "index_display_text": "",
         "is_index": true,
         "level": 0,
         "name": "index",
         "position": 0,
         "type": "integer"
        },
        "qgrid_unfiltered_index": {
         "cssClass": "integer",
         "field": "qgrid_unfiltered_index",
         "id": "qgrid_unfiltered_index",
         "name": "qgrid_unfiltered_index",
         "position": 1,
         "type": "integer"
        }
       },
       "_df_json": "{\"schema\": {\"fields\":[{\"name\":\"index\",\"type\":\"integer\"},{\"name\":\"qgrid_unfiltered_index\",\"type\":\"integer\"},{\"name\":\"Item(s)\",\"type\":\"string\"},{\"name\":\"Size\",\"type\":\"string\"},{\"name\":\"Quantity\",\"type\":\"integer\"},{\"name\":\"Price\",\"type\":\"integer\"}],\"primaryKey\":[\"index\"],\"pandas_version\":\"0.20.0\"}, \"data\": [{\"index\":1,\"qgrid_unfiltered_index\":0,\"Item(s)\":\"Toilet Paper\",\"Size\":\"nan\",\"Quantity\":1,\"Price\":1},{\"index\":2,\"qgrid_unfiltered_index\":1,\"Item(s)\":\"Tissues\",\"Size\":\"nan\",\"Quantity\":1,\"Price\":1},{\"index\":3,\"qgrid_unfiltered_index\":2,\"Item(s)\":\"Paper Towel\",\"Size\":\"nan\",\"Quantity\":1,\"Price\":1},{\"index\":4,\"qgrid_unfiltered_index\":3,\"Item(s)\":\"Dish Soap\",\"Size\":\"nan\",\"Quantity\":1,\"Price\":1},{\"index\":5,\"qgrid_unfiltered_index\":4,\"Item(s)\":\"Laundry Detergent\",\"Size\":\"nan\",\"Quantity\":1,\"Price\":1},{\"index\":6,\"qgrid_unfiltered_index\":5,\"Item(s)\":\"Cleaners\",\"Size\":\"nan\",\"Quantity\":1,\"Price\":1},{\"index\":7,\"qgrid_unfiltered_index\":6,\"Item(s)\":\"Plastic Wrap\",\"Size\":\"nan\",\"Quantity\":1,\"Price\":1},{\"index\":8,\"qgrid_unfiltered_index\":7,\"Item(s)\":\"Foil\",\"Size\":\"nan\",\"Quantity\":1,\"Price\":1},{\"index\":9,\"qgrid_unfiltered_index\":8,\"Item(s)\":\"Garbage\\/Recycling Bags\",\"Size\":\"nan\",\"Quantity\":1,\"Price\":1},{\"index\":10,\"qgrid_unfiltered_index\":9,\"Item(s)\":\"Condiments\",\"Size\":\"nan\",\"Quantity\":1,\"Price\":1},{\"index\":11,\"qgrid_unfiltered_index\":10,\"Item(s)\":\"Coffee\\/Tea\",\"Size\":\"nan\",\"Quantity\":1,\"Price\":1},{\"index\":12,\"qgrid_unfiltered_index\":11,\"Item(s)\":\"Flour\",\"Size\":\"nan\",\"Quantity\":1,\"Price\":1},{\"index\":13,\"qgrid_unfiltered_index\":12,\"Item(s)\":\"Sugar\",\"Size\":\"nan\",\"Quantity\":1,\"Price\":1},{\"index\":14,\"qgrid_unfiltered_index\":13,\"Item(s)\":\"Shampoo\",\"Size\":\"nan\",\"Quantity\":1,\"Price\":1},{\"index\":15,\"qgrid_unfiltered_index\":14,\"Item(s)\":\"Conditioner\",\"Size\":\"nan\",\"Quantity\":1,\"Price\":1},{\"index\":16,\"qgrid_unfiltered_index\":15,\"Item(s)\":\"Soap\",\"Size\":\"nan\",\"Quantity\":1,\"Price\":1},{\"index\":17,\"qgrid_unfiltered_index\":16,\"Item(s)\":\"Deodorant\",\"Size\":\"nan\",\"Quantity\":1,\"Price\":1},{\"index\":18,\"qgrid_unfiltered_index\":17,\"Item(s)\":\"Toothpaste\",\"Size\":\"nan\",\"Quantity\":1,\"Price\":1},{\"index\":19,\"qgrid_unfiltered_index\":18,\"Item(s)\":\"Mouthwash\",\"Size\":\"nan\",\"Quantity\":1,\"Price\":1},{\"index\":20,\"qgrid_unfiltered_index\":19,\"Item(s)\":\"Hair Products\",\"Size\":\"nan\",\"Quantity\":1,\"Price\":1},{\"index\":21,\"qgrid_unfiltered_index\":20,\"Item(s)\":\"Toothbrush\",\"Size\":\"nan\",\"Quantity\":1,\"Price\":1},{\"index\":22,\"qgrid_unfiltered_index\":21,\"Item(s)\":\"Makeup\",\"Size\":\"nan\",\"Quantity\":1,\"Price\":1},{\"index\":23,\"qgrid_unfiltered_index\":22,\"Item(s)\":\"Cotton Balls\",\"Size\":\"nan\",\"Quantity\":1,\"Price\":1},{\"index\":24,\"qgrid_unfiltered_index\":23,\"Item(s)\":\"Shaving Gel\",\"Size\":\"nan\",\"Quantity\":1,\"Price\":1},{\"index\":25,\"qgrid_unfiltered_index\":24,\"Item(s)\":\"Razors\",\"Size\":\"nan\",\"Quantity\":1,\"Price\":1}]}",
       "_df_range": [
        0,
        100
       ],
       "_dom_classes": [],
       "_editable_rows": {},
       "_index_col_name": "qgrid_unfiltered_index",
       "_interval_columns": [],
       "_model_module": "qgrid",
       "_model_module_version": "1.1.1",
       "_model_name": "QgridModel",
       "_multi_index": false,
       "_row_count": 25,
       "_row_styles": {},
       "_sort_ascending": true,
       "_sort_field": null,
       "_view_count": null,
       "_view_module": "qgrid",
       "_view_module_version": "1.1.1",
       "_view_name": "QgridView",
       "_viewport_range": [
        0,
        100
       ],
       "grid_options": {
        "autoEdit": false,
        "boldIndex": true,
        "defaultColumnWidth": 150,
        "editable": true,
        "enableColumnReorder": false,
        "enableTextSelectionOnCells": true,
        "explicitInitialization": true,
        "filterable": true,
        "forceFitColumns": true,
        "fullWidthRows": true,
        "highlightSelectedCell": false,
        "highlightSelectedRow": true,
        "maxVisibleRows": 15,
        "minVisibleRows": 8,
        "rowHeight": 28,
        "sortable": true,
        "syncColumnCellResize": true
       },
       "id": "13bcfb73-2d45-45b7-9ee1-e7021905a1c3",
       "layout": "IPY_MODEL_7e941993a1204bd483584e88d412a7f1",
       "precision": 5,
       "show_toolbar": true
      }
     },
     "48a5e23bbbb842a2b32485493fb00306": {
      "model_module": "@jupyter-widgets/base",
      "model_module_version": "1.2.0",
      "model_name": "LayoutModel",
      "state": {
       "_model_module": "@jupyter-widgets/base",
       "_model_module_version": "1.2.0",
       "_model_name": "LayoutModel",
       "_view_count": null,
       "_view_module": "@jupyter-widgets/base",
       "_view_module_version": "1.2.0",
       "_view_name": "LayoutView",
       "align_content": null,
       "align_items": null,
       "align_self": null,
       "border": null,
       "bottom": null,
       "display": null,
       "flex": null,
       "flex_flow": null,
       "grid_area": null,
       "grid_auto_columns": null,
       "grid_auto_flow": null,
       "grid_auto_rows": null,
       "grid_column": null,
       "grid_gap": null,
       "grid_row": null,
       "grid_template_areas": null,
       "grid_template_columns": null,
       "grid_template_rows": null,
       "height": null,
       "justify_content": null,
       "justify_items": null,
       "left": null,
       "margin": null,
       "max_height": null,
       "max_width": null,
       "min_height": null,
       "min_width": null,
       "object_fit": null,
       "object_position": null,
       "order": null,
       "overflow": null,
       "overflow_x": null,
       "overflow_y": null,
       "padding": null,
       "right": null,
       "top": null,
       "visibility": null,
       "width": null
      }
     },
     "64b20bf948b94b5f9d063e230f2c716a": {
      "model_module": "qgrid",
      "model_module_version": "1.1.1",
      "model_name": "QgridModel",
      "state": {
       "_columns": {
        "Cost per Item": {
         "cssClass": "integer",
         "field": "Cost per Item",
         "id": "Cost per Item",
         "name": "Cost per Item",
         "position": 4,
         "type": "integer"
        },
        "Item(s)": {
         "cssClass": "string",
         "field": "Item(s)",
         "id": "Item(s)",
         "name": "Item(s)",
         "position": 2,
         "type": "string"
        },
        "Quantity Required": {
         "cssClass": "integer",
         "field": "Quantity Required",
         "id": "Quantity Required",
         "name": "Quantity Required",
         "position": 3,
         "type": "integer"
        },
        "index": {
         "cssClass": "integer",
         "field": "index",
         "first_index": true,
         "id": "index",
         "index_display_text": "",
         "is_index": true,
         "level": 0,
         "name": "index",
         "position": 0,
         "type": "integer"
        },
        "qgrid_unfiltered_index": {
         "cssClass": "integer",
         "field": "qgrid_unfiltered_index",
         "id": "qgrid_unfiltered_index",
         "name": "qgrid_unfiltered_index",
         "position": 1,
         "type": "integer"
        }
       },
       "_df_json": "{\"schema\": {\"fields\":[{\"name\":\"index\",\"type\":\"integer\"},{\"name\":\"qgrid_unfiltered_index\",\"type\":\"integer\"},{\"name\":\"Item(s)\",\"type\":\"string\"},{\"name\":\"Quantity Required\",\"type\":\"integer\"},{\"name\":\"Cost per Item\",\"type\":\"integer\"}],\"primaryKey\":[\"index\"],\"pandas_version\":\"0.20.0\"}, \"data\": [{\"index\":1,\"qgrid_unfiltered_index\":0,\"Item(s)\":\"Dress Pants\",\"Quantity Required\":1,\"Cost per Item\":1},{\"index\":2,\"qgrid_unfiltered_index\":1,\"Item(s)\":\"Skirts\",\"Quantity Required\":1,\"Cost per Item\":1},{\"index\":3,\"qgrid_unfiltered_index\":2,\"Item(s)\":\"Shirts\",\"Quantity Required\":1,\"Cost per Item\":1},{\"index\":4,\"qgrid_unfiltered_index\":3,\"Item(s)\":\"Suits\\/Jackets\\/DressesT-Shirts\\/Tops\",\"Quantity Required\":1,\"Cost per Item\":1},{\"index\":5,\"qgrid_unfiltered_index\":4,\"Item(s)\":\"Jeans\\/Pants\",\"Quantity Required\":1,\"Cost per Item\":1},{\"index\":6,\"qgrid_unfiltered_index\":5,\"Item(s)\":\"Shorts\",\"Quantity Required\":1,\"Cost per Item\":1},{\"index\":7,\"qgrid_unfiltered_index\":6,\"Item(s)\":\"Dress Shoes\",\"Quantity Required\":1,\"Cost per Item\":1},{\"index\":8,\"qgrid_unfiltered_index\":7,\"Item(s)\":\"Casual Shoes\",\"Quantity Required\":1,\"Cost per Item\":1},{\"index\":9,\"qgrid_unfiltered_index\":8,\"Item(s)\":\"Running Shoes\",\"Quantity Required\":1,\"Cost per Item\":1},{\"index\":10,\"qgrid_unfiltered_index\":9,\"Item(s)\":\"Outdoor Coats\",\"Quantity Required\":1,\"Cost per Item\":1},{\"index\":11,\"qgrid_unfiltered_index\":10,\"Item(s)\":\"Boots\",\"Quantity Required\":1,\"Cost per Item\":1},{\"index\":12,\"qgrid_unfiltered_index\":11,\"Item(s)\":\"Sports Clothing\",\"Quantity Required\":1,\"Cost per Item\":1},{\"index\":13,\"qgrid_unfiltered_index\":12,\"Item(s)\":\"Pajamas\",\"Quantity Required\":1,\"Cost per Item\":1},{\"index\":14,\"qgrid_unfiltered_index\":13,\"Item(s)\":\"Underwear\",\"Quantity Required\":1,\"Cost per Item\":1},{\"index\":15,\"qgrid_unfiltered_index\":14,\"Item(s)\":\"Socks\",\"Quantity Required\":1,\"Cost per Item\":1},{\"index\":16,\"qgrid_unfiltered_index\":15,\"Item(s)\":\"Swimsuits\",\"Quantity Required\":1,\"Cost per Item\":1}]}",
       "_df_range": [
        0,
        100
       ],
       "_dom_classes": [],
       "_editable_rows": {},
       "_index_col_name": "qgrid_unfiltered_index",
       "_interval_columns": [],
       "_model_module": "qgrid",
       "_model_module_version": "1.1.1",
       "_model_name": "QgridModel",
       "_multi_index": false,
       "_row_count": 16,
       "_row_styles": {},
       "_sort_ascending": true,
       "_sort_field": null,
       "_view_count": null,
       "_view_module": "qgrid",
       "_view_module_version": "1.1.1",
       "_view_name": "QgridView",
       "_viewport_range": [
        0,
        100
       ],
       "grid_options": {
        "autoEdit": false,
        "boldIndex": true,
        "defaultColumnWidth": 150,
        "editable": true,
        "enableColumnReorder": false,
        "enableTextSelectionOnCells": true,
        "explicitInitialization": true,
        "filterable": true,
        "forceFitColumns": true,
        "fullWidthRows": true,
        "highlightSelectedCell": false,
        "highlightSelectedRow": true,
        "maxVisibleRows": 15,
        "minVisibleRows": 8,
        "rowHeight": 28,
        "sortable": true,
        "syncColumnCellResize": true
       },
       "id": "1ee0fc6b-c402-4fb2-ae99-87263371d6e7",
       "layout": "IPY_MODEL_baf52f982b454705bf1e18539bae2831",
       "precision": 5,
       "show_toolbar": true
      }
     },
     "702cf4a8614b4b7382adb38468a10953": {
      "model_module": "@jupyter-widgets/base",
      "model_module_version": "1.2.0",
      "model_name": "LayoutModel",
      "state": {
       "_model_module": "@jupyter-widgets/base",
       "_model_module_version": "1.2.0",
       "_model_name": "LayoutModel",
       "_view_count": null,
       "_view_module": "@jupyter-widgets/base",
       "_view_module_version": "1.2.0",
       "_view_name": "LayoutView",
       "align_content": null,
       "align_items": null,
       "align_self": null,
       "border": null,
       "bottom": null,
       "display": null,
       "flex": null,
       "flex_flow": null,
       "grid_area": null,
       "grid_auto_columns": null,
       "grid_auto_flow": null,
       "grid_auto_rows": null,
       "grid_column": null,
       "grid_gap": null,
       "grid_row": null,
       "grid_template_areas": null,
       "grid_template_columns": null,
       "grid_template_rows": null,
       "height": null,
       "justify_content": null,
       "justify_items": null,
       "left": null,
       "margin": null,
       "max_height": null,
       "max_width": null,
       "min_height": null,
       "min_width": null,
       "object_fit": null,
       "object_position": null,
       "order": null,
       "overflow": null,
       "overflow_x": null,
       "overflow_y": null,
       "padding": null,
       "right": null,
       "top": null,
       "visibility": null,
       "width": null
      }
     },
     "7e941993a1204bd483584e88d412a7f1": {
      "model_module": "@jupyter-widgets/base",
      "model_module_version": "1.2.0",
      "model_name": "LayoutModel",
      "state": {
       "_model_module": "@jupyter-widgets/base",
       "_model_module_version": "1.2.0",
       "_model_name": "LayoutModel",
       "_view_count": null,
       "_view_module": "@jupyter-widgets/base",
       "_view_module_version": "1.2.0",
       "_view_name": "LayoutView",
       "align_content": null,
       "align_items": null,
       "align_self": null,
       "border": null,
       "bottom": null,
       "display": null,
       "flex": null,
       "flex_flow": null,
       "grid_area": null,
       "grid_auto_columns": null,
       "grid_auto_flow": null,
       "grid_auto_rows": null,
       "grid_column": null,
       "grid_gap": null,
       "grid_row": null,
       "grid_template_areas": null,
       "grid_template_columns": null,
       "grid_template_rows": null,
       "height": null,
       "justify_content": null,
       "justify_items": null,
       "left": null,
       "margin": null,
       "max_height": null,
       "max_width": null,
       "min_height": null,
       "min_width": null,
       "object_fit": null,
       "object_position": null,
       "order": null,
       "overflow": null,
       "overflow_x": null,
       "overflow_y": null,
       "padding": null,
       "right": null,
       "top": null,
       "visibility": null,
       "width": null
      }
     },
     "baf52f982b454705bf1e18539bae2831": {
      "model_module": "@jupyter-widgets/base",
      "model_module_version": "1.2.0",
      "model_name": "LayoutModel",
      "state": {
       "_model_module": "@jupyter-widgets/base",
       "_model_module_version": "1.2.0",
       "_model_name": "LayoutModel",
       "_view_count": null,
       "_view_module": "@jupyter-widgets/base",
       "_view_module_version": "1.2.0",
       "_view_name": "LayoutView",
       "align_content": null,
       "align_items": null,
       "align_self": null,
       "border": null,
       "bottom": null,
       "display": null,
       "flex": null,
       "flex_flow": null,
       "grid_area": null,
       "grid_auto_columns": null,
       "grid_auto_flow": null,
       "grid_auto_rows": null,
       "grid_column": null,
       "grid_gap": null,
       "grid_row": null,
       "grid_template_areas": null,
       "grid_template_columns": null,
       "grid_template_rows": null,
       "height": null,
       "justify_content": null,
       "justify_items": null,
       "left": null,
       "margin": null,
       "max_height": null,
       "max_width": null,
       "min_height": null,
       "min_width": null,
       "object_fit": null,
       "object_position": null,
       "order": null,
       "overflow": null,
       "overflow_x": null,
       "overflow_y": null,
       "padding": null,
       "right": null,
       "top": null,
       "visibility": null,
       "width": null
      }
     },
     "ff438e28c2c44abaa7f79f239dcde2da": {
      "model_module": "@jupyter-widgets/base",
      "model_module_version": "1.2.0",
      "model_name": "LayoutModel",
      "state": {
       "_model_module": "@jupyter-widgets/base",
       "_model_module_version": "1.2.0",
       "_model_name": "LayoutModel",
       "_view_count": null,
       "_view_module": "@jupyter-widgets/base",
       "_view_module_version": "1.2.0",
       "_view_name": "LayoutView",
       "align_content": null,
       "align_items": null,
       "align_self": null,
       "border": null,
       "bottom": null,
       "display": null,
       "flex": null,
       "flex_flow": null,
       "grid_area": null,
       "grid_auto_columns": null,
       "grid_auto_flow": null,
       "grid_auto_rows": null,
       "grid_column": null,
       "grid_gap": null,
       "grid_row": null,
       "grid_template_areas": null,
       "grid_template_columns": null,
       "grid_template_rows": null,
       "height": null,
       "justify_content": null,
       "justify_items": null,
       "left": null,
       "margin": null,
       "max_height": null,
       "max_width": null,
       "min_height": null,
       "min_width": null,
       "object_fit": null,
       "object_position": null,
       "order": null,
       "overflow": null,
       "overflow_x": null,
       "overflow_y": null,
       "padding": null,
       "right": null,
       "top": null,
       "visibility": null,
       "width": null
      }
     }
    },
    "version_major": 2,
    "version_minor": 0
   }
  }
 },
 "nbformat": 4,
 "nbformat_minor": 2
}